{
 "cells": [
  {
   "cell_type": "markdown",
   "metadata": {
    "slideshow": {
     "slide_type": "slide"
    }
   },
   "source": [
    "# 4. Cinemática do Corpo Rígido\n",
    "Professor Paulo Victor <br>\n",
    "E-mail: paulo.gomes@cefet-rj.br <br>\n",
    "CEFET-RJ Campus Angra dos Reis Sala 6E"
   ]
  },
  {
   "cell_type": "markdown",
   "metadata": {
    "slideshow": {
     "slide_type": "subslide"
    }
   },
   "source": [
    "## 4.1 Introdução\n",
    "* Tudo o que vimos em **Cinemática da Partícula** também vale para a **Cinemática de Corpos Rígidos**.\n",
    "    - Queremos obter a posição, velocidade e aceleração de pontos pertencentes ao corpo\n",
    "* Além disso, queremos também obter a orientação, velocidade angular e aceleração angular do corpo\n",
    "\n",
    "**Corpo Rígido x Corpo Flexível**"
   ]
  },
  {
   "cell_type": "markdown",
   "metadata": {
    "slideshow": {
     "slide_type": "subslide"
    }
   },
   "source": [
    "Para analisar a cinemática de um corpo rígido, devemos criar um sistema de referência móvel associado ao corpo objeto de estudo. Através desse referencial móvel, poderemos estudar a mudança de orientação, a velocidade angular e a aceleração angular do corpo. "
   ]
  },
  {
   "cell_type": "code",
   "execution_count": 1,
   "metadata": {
    "slideshow": {
     "slide_type": "fragment"
    }
   },
   "outputs": [
    {
     "data": {
      "image/svg+xml": [
       "<svg xmlns:dc=\"http://purl.org/dc/elements/1.1/\" xmlns:cc=\"http://creativecommons.org/ns#\" xmlns:rdf=\"http://www.w3.org/1999/02/22-rdf-syntax-ns#\" xmlns:svg=\"http://www.w3.org/2000/svg\" xmlns=\"http://www.w3.org/2000/svg\" xmlns:sodipodi=\"http://sodipodi.sourceforge.net/DTD/sodipodi-0.dtd\" xmlns:inkscape=\"http://www.inkscape.org/namespaces/inkscape\" width=\"94.496765mm\" height=\"76.933922mm\" viewBox=\"0 0 94.496776 76.933923\" version=\"1.1\" id=\"svg8\" inkscape:version=\"1.0.1 (3bc2e813f5, 2020-09-07)\" sodipodi:docname=\"batata02.svg\">\n",
       "  <defs id=\"defs2\">\n",
       "    <marker inkscape:stockid=\"DistanceStart\" orient=\"auto\" refY=\"0\" refX=\"0\" id=\"DistanceStart\" style=\"overflow:visible\" inkscape:isstock=\"true\">\n",
       "      <g id=\"g2300\">\n",
       "        <path id=\"path2306\" d=\"M 0,0 H 2\" style=\"fill:none;stroke:#ffffff;stroke-width:1.15;stroke-linecap:square\"/>\n",
       "        <path id=\"path2302\" d=\"M 0,0 13,4 9,0 13,-4 Z\" style=\"fill:#000000;fill-rule:evenodd;stroke:none\"/>\n",
       "        <path id=\"path2304\" d=\"M 0,-4 V 40\" style=\"fill:none;stroke:#000000;stroke-width:1;stroke-linecap:square\"/>\n",
       "      </g>\n",
       "    </marker>\n",
       "    <marker style=\"overflow:visible\" id=\"marker1788\" refX=\"0\" refY=\"0\" orient=\"auto\" inkscape:stockid=\"Arrow1Lend\" inkscape:isstock=\"true\">\n",
       "      <path transform=\"matrix(-0.8,0,0,-0.8,-10,0)\" style=\"fill:#ff0000;fill-opacity:1;fill-rule:evenodd;stroke:#ff0000;stroke-width:1pt;stroke-opacity:1\" d=\"M 0,0 5,-5 -12.5,0 5,5 Z\" id=\"path1786\"/>\n",
       "    </marker>\n",
       "    <marker style=\"overflow:visible\" id=\"marker1399\" refX=\"0\" refY=\"0\" orient=\"auto\" inkscape:stockid=\"Arrow1Lend\" inkscape:isstock=\"true\">\n",
       "      <path transform=\"matrix(-0.8,0,0,-0.8,-10,0)\" style=\"fill:#0000ff;fill-opacity:1;fill-rule:evenodd;stroke:#0000ff;stroke-width:1pt;stroke-opacity:1\" d=\"M 0,0 5,-5 -12.5,0 5,5 Z\" id=\"path1397\"/>\n",
       "    </marker>\n",
       "    <marker style=\"overflow:visible\" id=\"marker1379\" refX=\"0\" refY=\"0\" orient=\"auto\" inkscape:stockid=\"Arrow1Lend\" inkscape:isstock=\"true\">\n",
       "      <path transform=\"matrix(-0.8,0,0,-0.8,-10,0)\" style=\"fill:#0000ff;fill-opacity:1;fill-rule:evenodd;stroke:#0000ff;stroke-width:1pt;stroke-opacity:1\" d=\"M 0,0 5,-5 -12.5,0 5,5 Z\" id=\"path1377\"/>\n",
       "    </marker>\n",
       "    <filter inkscape:collect=\"always\" style=\"color-interpolation-filters:sRGB\" id=\"filter1977\" x=\"-0.67794436\" width=\"2.3558888\" y=\"-0.67794436\" height=\"2.3558888\">\n",
       "      <feGaussianBlur inkscape:collect=\"always\" stdDeviation=\"0.18001642\" id=\"feGaussianBlur1979\"/>\n",
       "    </filter>\n",
       "  </defs>\n",
       "  <sodipodi:namedview id=\"base\" pagecolor=\"#ffffff\" bordercolor=\"#666666\" borderopacity=\"1.0\" inkscape:pageopacity=\"0.0\" inkscape:pageshadow=\"2\" inkscape:zoom=\"4.2546304\" inkscape:cx=\"231.12286\" inkscape:cy=\"112.87291\" inkscape:document-units=\"mm\" inkscape:current-layer=\"layer1\" inkscape:document-rotation=\"0\" showgrid=\"true\" showguides=\"true\" inkscape:guide-bbox=\"true\" inkscape:snap-nodes=\"true\" inkscape:snap-grids=\"false\" inkscape:snap-to-guides=\"false\" inkscape:snap-smooth-nodes=\"true\" inkscape:object-paths=\"false\" inkscape:snap-intersection-paths=\"false\" inkscape:window-width=\"1920\" inkscape:window-height=\"1017\" inkscape:window-x=\"-8\" inkscape:window-y=\"-8\" inkscape:window-maximized=\"1\" showborder=\"false\" inkscape:snap-others=\"false\">\n",
       "    <inkscape:grid type=\"axonomgrid\" id=\"grid10\" originx=\"-25.930769\" originy=\"-78.152683\"/>\n",
       "  </sodipodi:namedview>\n",
       "  <metadata id=\"metadata5\">\n",
       "    <rdf:RDF>\n",
       "      <cc:Work rdf:about=\"\">\n",
       "        <dc:format>image/svg+xml</dc:format>\n",
       "        <dc:type rdf:resource=\"http://purl.org/dc/dcmitype/StillImage\"/>\n",
       "        <dc:title/>\n",
       "      </cc:Work>\n",
       "    </rdf:RDF>\n",
       "  </metadata>\n",
       "  <g inkscape:label=\"Layer 1\" inkscape:groupmode=\"layer\" id=\"layer1\" transform=\"translate(-25.930763,-78.152679)\">\n",
       "    <g id=\"g176\" style=\"stroke-width:0.2;stroke-miterlimit:4;stroke-dasharray:none\">\n",
       "      <path style=\"fill:none;stroke:#000000;stroke-width:0.2;stroke-linecap:butt;stroke-linejoin:miter;stroke-miterlimit:4;stroke-dasharray:none;stroke-opacity:1\" d=\"M 73.612159,127.5 V 80.499998\" id=\"path170\"/>\n",
       "      <path style=\"fill:none;stroke:#000000;stroke-width:0.2;stroke-linecap:butt;stroke-linejoin:miter;stroke-miterlimit:4;stroke-dasharray:none;stroke-opacity:1\" d=\"M 120.37753,154.5 73.612159,127.5 25.980763,155 v 0\" id=\"path172\"/>\n",
       "    </g>\n",
       "    <path style=\"fill:none;stroke:#0000ff;stroke-width:0.3;stroke-linecap:butt;stroke-linejoin:miter;stroke-miterlimit:4;stroke-dasharray:none;stroke-opacity:1\" d=\"m 100.38432,106.11613 8.96836,-15.510143\" id=\"path1369\"/>\n",
       "    <path style=\"fill:none;stroke:#0000ff;stroke-width:0.3;stroke-linecap:butt;stroke-linejoin:miter;stroke-miterlimit:4;stroke-dasharray:none;stroke-opacity:1\" d=\"m 100.38432,106.11613 8.94799,15.52189\" id=\"path1371\"/>\n",
       "    <path style=\"fill:none;stroke:#0000ff;stroke-width:0.3;stroke-linecap:butt;stroke-linejoin:miter;stroke-miterlimit:4;stroke-dasharray:none;stroke-opacity:1\" d=\"m 100.38432,106.11613 -17.916356,-0.0118\" id=\"path1373\"/>\n",
       "    <path style=\"fill:#ff0000;stroke:#ff0000;stroke-width:0.4;stroke-linecap:butt;stroke-linejoin:miter;stroke-miterlimit:4;stroke-dasharray:none;stroke-opacity:1\" d=\"M 73.612157,127.5 100.38432,106.11613\" id=\"path1784\"/>\n",
       "    <path style=\"fill:none;stroke:#000000;stroke-width:0.5;stroke-linecap:butt;stroke-linejoin:miter;stroke-miterlimit:4;stroke-dasharray:none;stroke-opacity:1\" d=\"M 73.612157,127.5 V 97.499999\" id=\"path12\"/>\n",
       "    <path style=\"fill:none;stroke:#000000;stroke-width:0.5;stroke-linecap:butt;stroke-linejoin:miter;stroke-miterlimit:4;stroke-dasharray:none;stroke-opacity:1\" d=\"m 73.612157,127.5 25.980763,15\" id=\"path16\"/>\n",
       "    <path style=\"fill:none;stroke:#000000;stroke-width:0.5;stroke-linecap:butt;stroke-linejoin:miter;stroke-miterlimit:4;stroke-dasharray:none;stroke-opacity:1\" d=\"m 73.612157,127.5 -25.98076,15\" id=\"path20\"/>\n",
       "    <path style=\"fill:#000000;stroke:#000000;stroke-width:0.264583px;stroke-linecap:butt;stroke-linejoin:miter;stroke-opacity:1\" d=\"m 99.59292,142.5 -2.024655,-4.14873 -3.558146,2.58774 z\" id=\"path1401\"/>\n",
       "    <path style=\"fill:#000000;stroke:#000000;stroke-width:0.264583px;stroke-linecap:butt;stroke-linejoin:miter;stroke-opacity:1\" d=\"m 47.631397,142.5 6.376543,-1.1297 -2.264272,-3.45032 z\" id=\"path1442\"/>\n",
       "    <path style=\"fill:#000000;stroke:#000000;stroke-width:0.264583px;stroke-linecap:butt;stroke-linejoin:miter;stroke-opacity:1\" d=\"m 73.612157,97.499999 -1.597845,5.054171 3.234677,-0.10782 z\" id=\"path1444\"/>\n",
       "    <path style=\"fill:#0000ff;stroke:#0000ff;stroke-width:0.264583px;stroke-linecap:butt;stroke-linejoin:miter;stroke-opacity:1\" d=\"m 109.35268,90.605987 -2.67341,1.974594 2.42601,1.455605 z\" id=\"path1536\"/>\n",
       "    <g id=\"g1573\" transform=\"matrix(0.52950255,0.30617185,-0.30617185,0.52950255,112.32113,37.586931)\">\n",
       "      <circle style=\"fill:#ffffff;stroke:#000000;stroke-width:0.245;stroke-miterlimit:4;stroke-dasharray:none\" id=\"path1556\" cx=\"38.971142\" cy=\"106.5\" r=\"3.8038476\"/>\n",
       "      <path style=\"fill:none;stroke:#000000;stroke-width:0.264583px;stroke-linecap:butt;stroke-linejoin:miter;stroke-opacity:1\" d=\"m 35.167294,106.5 h 7.607695\" id=\"path1558\"/>\n",
       "      <path style=\"fill:none;stroke:#000000;stroke-width:0.264583px;stroke-linecap:butt;stroke-linejoin:miter;stroke-opacity:1\" d=\"m 38.97114,102.69615 v 7.6077\" id=\"path1560\"/>\n",
       "      <path style=\"fill:#000000;stroke:#000000;stroke-width:0.108081;stroke-miterlimit:4;stroke-dasharray:none\" d=\"m 133.49764,401.22822 c 0.45172,-4.05981 2.41113,-7.48554 5.65105,-9.87998 1.96041,-1.44884 4.2684,-2.32713 6.92566,-2.63553 l 0.67114,-0.0779 v 6.66145 6.66145 h -6.66451 -6.66451 z\" id=\"path1564\" transform=\"scale(0.26458333)\"/>\n",
       "      <path style=\"fill:#000000;stroke:#000000;stroke-width:0.108081;stroke-miterlimit:4;stroke-dasharray:none\" d=\"m 147.79598,409.71961 v -6.59469 h 6.65305 6.65305 v 0.39323 c 0,0.66611 -0.32724,2.31304 -0.65346,3.28872 -1.58524,4.74127 -5.56218,8.28667 -10.39494,9.26695 -0.65204,0.13227 -1.42677,0.24048 -1.72162,0.24048 h -0.53608 z\" id=\"path1566\" transform=\"scale(0.26458333)\"/>\n",
       "    </g>\n",
       "    <path style=\"fill:none;stroke:#000000;stroke-width:0.921889;stroke-linecap:butt;stroke-linejoin:miter;stroke-miterlimit:4;stroke-dasharray:none;stroke-opacity:1\" d=\"m 115.16699,87.761049 c -1.41978,-1.135499 -2.7796,-2.350327 -4.25933,-3.406498 -0.57386,-0.409603 -1.7868,-0.351656 -2.47714,-0.43939 -0.93755,-0.119159 -1.62177,0.04127 -2.50448,0.429143 -3.49252,1.534629 -2.04437,5.176996 -4.43425,7.118456 -0.59293,0.481685 -1.658896,0.838941 -2.301511,1.119336 -4.261885,1.859568 -9.210377,2.358689 -12.147912,6.387287 -1.159543,1.590157 -1.700059,3.431927 -2.131358,5.334897 -2.214678,9.77131 7.018645,18.36264 16.596531,16.76735 2.57767,-0.42934 7.82006,-3.44954 9.05573,-5.90825 1.17662,-2.34118 0.52664,-5.16203 1.77807,-7.45603 1.21258,-2.22278 3.20884,-4.02321 4.33035,-6.3012 0.56205,-1.14156 1.22465,-2.345012 1.69333,-3.521985 0.34048,-0.854995 0.14889,-1.824906 0.26106,-2.707424 0.38634,-3.039904 -1.00875,-5.77484 -3.45913,-7.415712 z\" id=\"path1557\"/>\n",
       "    <path style=\"fill:#0000ff;stroke:#0000ff;stroke-width:0.264583px;stroke-linecap:butt;stroke-linejoin:miter;stroke-opacity:1\" d=\"m 82.467963,106.10433 3.293729,-1.12415 -0.215646,2.21036 -3.078083,-1.08621\" id=\"path1538\"/>\n",
       "    <path style=\"fill:#0000ff;stroke:#0000ff;stroke-width:0.264583px;stroke-linecap:butt;stroke-linejoin:miter;stroke-opacity:1\" d=\"m 109.33231,121.63802 -0.11921,-3.18002 -2.31818,1.40169 z\" id=\"path1540\"/>\n",
       "    <path style=\"fill:#ff0000;stroke:#ff0000;stroke-width:0.264583px;stroke-linecap:butt;stroke-linejoin:miter;stroke-opacity:1\" d=\"m 100.38432,106.11613 -3.786459,1.61352 1.779071,1.56343 z\" id=\"path1548\"/>\n",
       "    <path style=\"fill:#00ff00;stroke:#00ff00;stroke-width:0.264583px;stroke-linecap:butt;stroke-linejoin:miter;stroke-opacity:1\" d=\"m 100.38432,106.11613 12.03251,-6.01059\" id=\"path1559\"/>\n",
       "    <circle style=\"fill:#808080;stroke:#808080;stroke-width:0.765;stroke-miterlimit:4;stroke-dasharray:none\" id=\"path1565\" cx=\"112.95187\" cy=\"99.761597\" r=\"1.2229581\"/>\n",
       "    <path style=\"fill:#00ff00;stroke:#00ff00;stroke-width:0.264583px;stroke-linecap:butt;stroke-linejoin:miter;stroke-opacity:1\" d=\"m 112.41683,100.10554 -1.79622,1.94909 -0.95544,-1.60513 z\" id=\"path1563\"/>\n",
       "    <circle style=\"fill:#ffffff;stroke:#ffffff;stroke-width:0.315635;stroke-miterlimit:4;stroke-dasharray:none;filter:url(#filter1977)\" id=\"path1567\" cx=\"113.71622\" cy=\"99.111877\" r=\"0.31863928\"/>\n",
       "    <text xml:space=\"preserve\" style=\"font-style:normal;font-variant:normal;font-weight:normal;font-stretch:normal;font-size:4.21596px;line-height:1.25;font-family:sans-serif;-inkscape-font-specification:sans-serif;letter-spacing:0px;word-spacing:0px;fill:#000000;fill-opacity:1;stroke:none;stroke-width:0.112927\" x=\"112.62344\" y=\"97.736053\" id=\"text1983\"><tspan sodipodi:role=\"line\" id=\"tspan1981\" x=\"112.62344\" y=\"97.736053\" style=\"stroke-width:0.112927\">P</tspan></text>\n",
       "    <text xml:space=\"preserve\" style=\"font-style:normal;font-variant:normal;font-weight:normal;font-stretch:normal;font-size:6.31293px;line-height:1.25;font-family:sans-serif;-inkscape-font-specification:sans-serif;letter-spacing:0px;word-spacing:0px;fill:#000000;fill-opacity:1;stroke:none;stroke-width:0.169096\" x=\"66.704491\" y=\"99.188324\" id=\"text1991\"><tspan sodipodi:role=\"line\" id=\"tspan1989\" x=\"66.704491\" y=\"99.188324\" style=\"stroke-width:0.169096\">N</tspan></text>\n",
       "    <text xml:space=\"preserve\" style=\"font-style:normal;font-variant:normal;font-weight:normal;font-stretch:normal;font-size:6.31293px;line-height:1.25;font-family:sans-serif;-inkscape-font-specification:sans-serif;letter-spacing:0px;word-spacing:0px;fill:#000000;fill-opacity:1;stroke:none;stroke-width:0.169096\" x=\"109.01119\" y=\"82.754829\" id=\"text1995\"><tspan sodipodi:role=\"line\" id=\"tspan1993\" x=\"109.01119\" y=\"82.754829\" style=\"stroke-width:0.169096\">B</tspan></text>\n",
       "    <text xml:space=\"preserve\" style=\"font-style:normal;font-variant:normal;font-weight:normal;font-stretch:normal;font-size:6.31293px;line-height:1.25;font-family:sans-serif;-inkscape-font-specification:sans-serif;letter-spacing:0px;word-spacing:0px;fill:#0000ff;fill-opacity:1;stroke:none;stroke-width:0.169096\" x=\"103.81362\" y=\"91.544838\" id=\"text1999\"><tspan sodipodi:role=\"line\" id=\"tspan1997\" x=\"103.81362\" y=\"91.544838\" style=\"fill:#0000ff;stroke-width:0.169096\">B</tspan></text>\n",
       "    <text xml:space=\"preserve\" style=\"font-style:normal;font-variant:normal;font-weight:normal;font-stretch:normal;font-size:4.77435px;line-height:1.25;font-family:sans-serif;-inkscape-font-specification:sans-serif;letter-spacing:0px;word-spacing:0px;fill:#000000;fill-opacity:1;stroke:none;stroke-width:0.127884\" x=\"71.810738\" y=\"133.27412\" id=\"text2003\"><tspan sodipodi:role=\"line\" id=\"tspan2001\" x=\"71.810738\" y=\"133.27412\" style=\"stroke-width:0.127884\">O</tspan></text>\n",
       "    <text xml:space=\"preserve\" style=\"font-style:normal;font-variant:normal;font-weight:normal;font-stretch:normal;font-size:3.26609px;line-height:1.25;font-family:sans-serif;-inkscape-font-specification:sans-serif;letter-spacing:0px;word-spacing:0px;fill:#000000;fill-opacity:1;stroke:none;stroke-width:0.0874845\" x=\"98.265465\" y=\"111.78481\" id=\"text2007\"><tspan sodipodi:role=\"line\" id=\"tspan2005\" x=\"98.265465\" y=\"111.78481\" style=\"stroke-width:0.0874845\">B*</tspan></text>\n",
       "    <text xml:space=\"preserve\" style=\"font-style:normal;font-variant:normal;font-weight:normal;font-stretch:normal;font-size:4.03094px;line-height:1.25;font-family:sans-serif;-inkscape-font-specification:sans-serif;letter-spacing:0px;word-spacing:0px;fill:#000000;fill-opacity:1;stroke:none;stroke-width:0.107971\" x=\"78.928291\" y=\"117.04057\" id=\"text930\"><tspan sodipodi:role=\"line\" id=\"tspan928\" x=\"78.928291\" y=\"117.04057\" style=\"stroke-width:0.107971\">p</tspan></text>\n",
       "    <text xml:space=\"preserve\" style=\"font-style:normal;font-variant:normal;font-weight:normal;font-stretch:normal;font-size:1.541px;line-height:1.25;font-family:sans-serif;-inkscape-font-specification:sans-serif;letter-spacing:0px;word-spacing:0px;fill:#000000;fill-opacity:1;stroke:none;stroke-width:0.0412768\" x=\"81.827332\" y=\"114.85659\" id=\"text934\"><tspan sodipodi:role=\"line\" id=\"tspan932\" x=\"81.827332\" y=\"114.85659\" style=\"stroke-width:0.0412768\">B*/O</tspan></text>\n",
       "    <g id=\"g958\">\n",
       "      <path style=\"fill:none;stroke:#000000;stroke-width:0.1;stroke-linecap:butt;stroke-linejoin:miter;stroke-miterlimit:4;stroke-dasharray:none;stroke-opacity:1\" d=\"m 78.847202,114.06958 c 0.0389,-0.008 1.70238,0 1.70238,0\" id=\"path938\"/>\n",
       "      <path style=\"fill:#000000;stroke:#000000;stroke-width:0.1;stroke-linecap:butt;stroke-linejoin:miter;stroke-miterlimit:4;stroke-dasharray:none;stroke-opacity:1\" d=\"m 80.549582,114.06958 -0.008,-0.38975 0.83,0.38159 -0.82128,0.33038 z\" id=\"path944\" sodipodi:nodetypes=\"ccccc\"/>\n",
       "    </g>\n",
       "    <text xml:space=\"preserve\" style=\"font-style:normal;font-variant:normal;font-weight:normal;font-stretch:normal;font-size:4.03094px;line-height:1.25;font-family:sans-serif;-inkscape-font-specification:sans-serif;letter-spacing:0px;word-spacing:0px;fill:#000000;fill-opacity:1;stroke:none;stroke-width:0.107971\" x=\"106.7192\" y=\"107.01474\" id=\"text954\"><tspan sodipodi:role=\"line\" id=\"tspan952\" x=\"106.7192\" y=\"107.01474\" style=\"stroke-width:0.107971\">p</tspan></text>\n",
       "    <g id=\"g964\" transform=\"translate(27.611094,-10.012131)\">\n",
       "      <path style=\"fill:none;stroke:#000000;stroke-width:0.1;stroke-linecap:butt;stroke-linejoin:miter;stroke-miterlimit:4;stroke-dasharray:none;stroke-opacity:1\" d=\"m 78.847202,114.06958 c 0.0389,-0.008 1.70238,0 1.70238,0\" id=\"path960\"/>\n",
       "      <path style=\"fill:#000000;stroke:#000000;stroke-width:0.1;stroke-linecap:butt;stroke-linejoin:miter;stroke-miterlimit:4;stroke-dasharray:none;stroke-opacity:1\" d=\"m 80.549582,114.06958 -0.008,-0.38975 0.83,0.38159 -0.82128,0.33038 z\" id=\"path962\" sodipodi:nodetypes=\"ccccc\"/>\n",
       "    </g>\n",
       "    <text xml:space=\"preserve\" style=\"font-style:normal;font-variant:normal;font-weight:normal;font-stretch:normal;font-size:1.541px;line-height:1.25;font-family:sans-serif;-inkscape-font-specification:sans-serif;letter-spacing:0px;word-spacing:0px;fill:#000000;fill-opacity:1;stroke:none;stroke-width:0.0412768\" x=\"109.25186\" y=\"104.68899\" id=\"text968\"><tspan sodipodi:role=\"line\" x=\"109.25186\" y=\"104.68899\" style=\"stroke-width:0.0412768\" id=\"tspan970\">P/B*</tspan></text>\n",
       "  </g>\n",
       "</svg>"
      ],
      "text/plain": [
       "<IPython.core.display.SVG object>"
      ]
     },
     "execution_count": 1,
     "metadata": {},
     "output_type": "execute_result"
    }
   ],
   "source": [
    "from IPython.display import SVG\n",
    "SVG('batata02.svg')"
   ]
  },
  {
   "cell_type": "markdown",
   "metadata": {
    "slideshow": {
     "slide_type": "slide"
    }
   },
   "source": [
    "## 4.2 Ângulos de Euler"
   ]
  },
  {
   "cell_type": "markdown",
   "metadata": {
    "slideshow": {
     "slide_type": "subslide"
    }
   },
   "source": [
    "Podemos representar qualquer orientação de um corpo rígido através de 3 rotações sucessivas. "
   ]
  },
  {
   "cell_type": "code",
   "execution_count": 2,
   "metadata": {
    "slideshow": {
     "slide_type": "subslide"
    }
   },
   "outputs": [
    {
     "data": {
      "image/svg+xml": [
       "<svg xmlns:dc=\"http://purl.org/dc/elements/1.1/\" xmlns:cc=\"http://creativecommons.org/ns#\" xmlns:rdf=\"http://www.w3.org/1999/02/22-rdf-syntax-ns#\" xmlns:svg=\"http://www.w3.org/2000/svg\" xmlns=\"http://www.w3.org/2000/svg\" xmlns:sodipodi=\"http://sodipodi.sourceforge.net/DTD/sodipodi-0.dtd\" xmlns:inkscape=\"http://www.inkscape.org/namespaces/inkscape\" height=\"411.32492\" version=\"1.1\" width=\"683.94055\" id=\"svg448\" sodipodi:docname=\"helicoptero-Euler-angs.svg\" inkscape:version=\"1.0.2 (394de47547, 2021-03-26)\">\n",
       "  <metadata id=\"metadata454\">\n",
       "    <rdf:RDF>\n",
       "      <cc:Work rdf:about=\"\">\n",
       "        <dc:format>image/svg+xml</dc:format>\n",
       "        <dc:type rdf:resource=\"http://purl.org/dc/dcmitype/StillImage\"/>\n",
       "      </cc:Work>\n",
       "    </rdf:RDF>\n",
       "  </metadata>\n",
       "  <defs id=\"defs452\"/>\n",
       "  <sodipodi:namedview pagecolor=\"#ffffff\" bordercolor=\"#666666\" borderopacity=\"1\" objecttolerance=\"10\" gridtolerance=\"10\" guidetolerance=\"10\" inkscape:pageopacity=\"0\" inkscape:pageshadow=\"2\" inkscape:window-width=\"1920\" inkscape:window-height=\"1016\" id=\"namedview450\" showgrid=\"false\" inkscape:zoom=\"0.98602112\" inkscape:cx=\"274.72197\" inkscape:cy=\"274.11371\" inkscape:window-x=\"0\" inkscape:window-y=\"27\" inkscape:window-maximized=\"1\" inkscape:current-layer=\"strokes\"/>\n",
       "  <g id=\"View Layer_LineSet\" inkscape:label=\"View Layer_LineSet\" transform=\"matrix(0.45951178,0,0,0.45951178,-124.77491,-45.785895)\">\n",
       "    <g id=\"strokes\" inkscape:groupmode=\"layer\" inkscape:label=\"strokes\">\n",
       "      <path d=\"m 1321.383,655.363 0.498,-0.348 1.419,-0.992 0.013,-0.009 1.53,-1.07 0.539,-0.482 -5.478,-8.366 -5.478,-8.366 -5.478,-8.366 -2.53,-3.864 -5.628,-8.266 -5.629,-8.266 -5.628,-8.266 -0.883,-1.297 -5.975,-8.019 -5.975,-8.018 -3.432,-4.606 -6.489,-7.609 -4.047,-4.745 -5.19,-6.016 -7.87,-6.168 -0.217,-0.17 -7.606,-6.491 -3.917,-3.343 -8.424,-5.388 -2.127,-1.361 -8.784,-4.779 -4.142,-2.253 -8.78,-4.786 -7.219,-3.936 -8.746,-4.849 -8.746,-4.848 -0.981,-0.544 -8.728,-4.882 -8.728,-4.881 -2.585,-1.446 -8.72,-4.895 -8.72,-4.896 -2.583,-1.45 -0.704,-0.395 -7.799,-4.375 -9.127,0.451 -9.577,2.878 -0.307,0.092 -9.334,3.589 -0.701,0.269 -8.458,5.336 -1.054,0.665 -6.317,7.751 -1.95,2.392 -3.598,9.33 -2.679,6.945 -1.439,9.896 -1.439,9.896 -0.531,3.655 0.29,9.995 0.291,9.996 0.235,8.078 2.164,9.763 2.163,9.764 2.175,9.815 3.643,7.303 4.464,8.948 2.108,4.226 1.416,2.838 2.039,4.088 6.859,7.277 5.894,6.254 6.723,7.133 2.101,2.229 2.197,1.464 8.322,5.544 8.322,5.545 7.354,4.899 0.687,0.458 2.541,1.141 0.716,0.321 9.122,4.098 1.516,0.681 0.157,0.07 2.667,1.198 1.541,0.692 0.881,0.396 4.966,2.231 4.549,2.043 9.61,2.766 4.186,1.205 4.737,1.364 1.106,0.318 7.093,2.041 5.792,0.689 0.521,0.061 0.071,0.009 6.933,0.824 8.473,1.007 7.246,-0.56 0.428,-0.033 0.413,-0.032 0.408,-0.032 0.449,-0.034 0.05,-0.004 0.014,-10e-4 0.045,-0.004 0.069,-0.005 0.169,-0.013 0.272,-0.021 0.642,-0.05 0.628,-0.048 6.526,-0.504\" fill=\"none\" stroke=\"#000000\" stroke-linecap=\"butt\" stroke-linejoin=\"round\" stroke-opacity=\"1\" stroke-width=\"3\" id=\"path2\"/>\n",
       "      <path d=\"m 487.288,577.839 8.613,5.081 0.522,0.308 8.785,4.779 3.168,1.723 8.858,4.641 2.089,1.095 8.215,4.294 8.534,4.53 8.811,4.731 4.373,2.348 8.804,4.742 8.804,4.742 4.713,2.539 8.803,4.744 8.804,4.743 8.803,4.744 7.996,4.308 8.803,4.744 8.804,4.743 8.803,4.744 8.803,4.743 6.925,3.731 8.803,4.744 8.804,4.743 8.803,4.744 8.803,4.743 8.012,4.317 8.803,4.744 8.804,4.743 8.803,4.744 8.803,4.743 1.803,0.972 8.804,4.743 8.803,4.744 7.21,3.884 8.803,4.744 4.934,2.658\" fill=\"none\" stroke=\"#000000\" stroke-linecap=\"butt\" stroke-linejoin=\"round\" stroke-opacity=\"1\" stroke-width=\"3\" id=\"path4\"/>\n",
       "      <path d=\"m 906.123,695.075 -4.099,1.996 -0.193,0.072 -0.145,0.053 -9.375,3.479 -1.111,0.412 -9.463,3.233 -9.464,3.232 -2.093,0.715 -9.492,3.147 -9.492,3.147 -9.492,3.147 -4.949,1.64 -9.502,3.115 -9.503,3.116 -9.502,3.115 -9.502,3.115 -3.512,1.151 -9.507,3.1 -2.998,0.978 -4.325,1.41 -2.445,0.798 -2.411,0.786 -2.464,0.803 -9.507,3.1 -9.396,3.064 -9.509,3.094 -9.51,3.093 -9.509,3.094 -8.585,2.792 -9.502,3.114 -0.552,0.181 -2.51,0.822 -0.972,0.319 -2.515,0.824 -8.698,2.85 -9.413,3.378 -3.825,1.372 -4.913,2.701 -1.755,2.359 -0.561,3.345 0.744,3.652 0.276,0.694 0.031,0.078 1.105,2.398 3.28,2.684 0.178,0.146 0.334,0.177 3.812,2.021 1.566,0.569 3.694,1.34 0.962,0.289 1.374,0.413 0.127,0.038 3.541,1.064 0.899,0.262 3.158,0.921 2.308,0.673 4.514,1.316 2.027,0.591 6.583,1.92 6.488,1.893 6.212,1.759 1.832,0.409 1.782,0.398 1.089,0.244 0.876,0.195 0.361,0.026 4.2,0.297 1.289,-0.081 5.678,-0.355 0.791,-0.049 1.692,-0.313 5.309,-0.981 9.834,-1.816 0.967,-0.179 9.792,-2.027 0.859,-0.178 6.245,-1.293 6.828,-1.413 2.449,-0.507 7.955,-1.647 0.636,-0.131 2.078,-0.431 2.575,-0.523 3.172,-0.645 6.201,-1.261 9.8,-1.992 5.091,-1.035 2.575,-0.523 0.902,-0.184 2.692,-0.547 9.8,-1.992 6.603,-1.343 0.878,-0.178 9.204,-1.866 9.801,-1.986 4.707,-0.955 5.765,-1.168 9.801,-1.987 9.8,-1.987 2.087,-0.423 1.365,-0.277 1.38,-0.28 2.948,-0.597 2.535,-0.511 2.834,-0.571 7.936,-1.6 2.274,-0.458 9.803,-1.975 9.803,-1.976 9.803,-1.975 1.084,-0.219 9.803,-1.975 0.296,-0.06 8.678,-1.726 9.808,-1.952 5.453,-1.084 9.808,-1.952 8.366,-1.664 3.577,-0.712 9.821,-1.886 9.82,-1.886 9.565,-1.837 8.083,-1.397 5.795,-1.002 0.146,-0.025 1.579,-0.273 4.921,-0.534 1.775,-0.192\" fill=\"none\" stroke=\"#000000\" stroke-linecap=\"butt\" stroke-linejoin=\"round\" stroke-opacity=\"1\" stroke-width=\"3\" id=\"path6\"/>\n",
       "      <path d=\"m 1139.919,487.026 -2.004,-3.885 -3.202,-2.642 -8.145,-4.347 -6.363,-2.255 -8.548,-1.986 -9.516,-1.866 -2.505,-0.516 -7.585,-3.339 -7.075,-4.247 -4.12,-1.538 -5.563,-1.747 -2.92,-0.681\" fill=\"none\" stroke=\"#000000\" stroke-linecap=\"butt\" stroke-linejoin=\"round\" stroke-opacity=\"1\" stroke-width=\"3\" id=\"path8\"/>\n",
       "      <path d=\"m 396.803,599.042 -1.864,-1.686 -2.446,-1.987 -3.78,-3.436 -6.421,-6.296 -4.827,-4.832 -0.126,-0.126 -5.577,-5.583 -7.061,-7.082 -7.06,-7.081 -1.262,-1.266 -7.061,-7.082 -7.06,-7.082 -3.97,-3.981 -7.06,-7.082 -7.061,-7.082 -3.87,-3.882 -7.061,-7.081 -7.06,-7.082 -1.041,-1.043 -7.07,-7.072 -3.274,-3.274 -6.29,-6.094 -3.637,-3.097 -0.325,-0.267 -1.709,-1.083 -1.437,-0.559 -1.099,-0.421 -2.237,-0.57 -1.972,-0.149 -1.113,-0.025 -1.301,0.327 -0.432,0.355 -0.201,1.006 1.491,2.712 3.989,5.554 6.021,7.983 1.136,1.507 6.039,7.971 4.513,5.958 6.039,7.971 6.038,7.971 0.411,0.543 6.038,7.971 6.039,7.971 0.442,0.584 6.038,7.971 4.578,6.042 1.797,2.377 5.428,7.174\" fill=\"none\" stroke=\"#000000\" stroke-linecap=\"butt\" stroke-linejoin=\"round\" stroke-opacity=\"1\" stroke-width=\"3\" id=\"path10\"/>\n",
       "      <path d=\"m 410.821,405.04 -3.848,0.192 -2.593,0.036 -0.782,-0.157 0.759,-0.321 1.815,-0.434 2.344,-0.493 2.44,-0.495 0.852,-0.17 2.401,-0.441 2.451,-0.361 2.605,-0.262 2.919,-0.161 2.983,-0.071 2.573,0.015 1.702,0.094 0.871,0.098 0.657,0.185 0.667,0.388 0.697,0.782 1.257,1.515 2.901,3.498 5.773,6.962 6.383,7.698 3.475,4.192 0.032,0.038 2.886,3.481 2.183,2.632 6.383,7.698 0.636,0.768 0.523,0.63 0.413,0.498 0.864,1.042 0.179,0.216 0.571,0.688 0.352,0.425\" fill=\"none\" stroke=\"#000000\" stroke-linecap=\"butt\" stroke-linejoin=\"round\" stroke-opacity=\"1\" stroke-width=\"3\" id=\"path12\"/>\n",
       "      <path d=\"m 800.646,553.617 -9.411,-0.84 -9.96,-0.894 -9.96,-0.893 -9.96,-0.894 -9.96,-0.893 -1.127,-0.101 -9.96,-0.894 -9.96,-0.893 -9.96,-0.894 -9.96,-0.893 -8.122,-0.729 -9.96,-0.893 -9.96,-0.894 -9.96,-0.893 -9.96,-0.894 -7.044,-0.632 -9.961,-0.893 -7.485,-0.672 -9.96,-0.893 -7.988,-0.717 -2.983,-0.267 -9.959,-0.895 -9.96,-0.896 -0.278,-0.025 -4.649,-0.418 -9.958,-0.914 -4.125,-0.379 -7.737,-0.748 -6.022,-0.527 -5.414,-0.688 -0.014,-0.002 -2.728,-0.346 -9.469,-1.086 -7.849,-0.643\" fill=\"none\" stroke=\"#000000\" stroke-linecap=\"butt\" stroke-linejoin=\"round\" stroke-opacity=\"1\" stroke-width=\"3\" id=\"path14\"/>\n",
       "      <path d=\"m 906.775,446.861 -1.342,0.17 -8.912,1.125 -9.679,2.513 -1.742,0.452 -9.56,2.931 -2.1,0.644 -9.111,4.123 -2.229,1.008 -8.895,4.569 -0.535,0.275 -7.804,6.253 -1.965,1.574 -6.731,7.395 -1.399,1.537 -4.944,6.436 -4.971,8.677 -2.506,4.375 -4.14,9.103 -4.14,9.103 -1.182,2.599 -3.596,9.331 -3.597,9.331 -2.416,6.267 -2.633,6.965 -3.536,9.354 -1.02,2.699 -2.884,7.628 -0.468,1.24\" fill=\"none\" stroke=\"#000000\" stroke-linecap=\"butt\" stroke-linejoin=\"round\" stroke-opacity=\"1\" stroke-width=\"3\" id=\"path16\"/>\n",
       "      <path d=\"m 480.948,530.884 -0.873,0.303 -2.43,0.921 -3.093,1.274 -2.472,1.637 -1.538,2.461 -1.113,1.708 -1.03,3.21 -0.786,3.474 -0.847,3.311 -2.187,4.494 -0.856,2.142 -0.03,1.079 1.062,0.795\" fill=\"none\" stroke=\"#000000\" stroke-linecap=\"butt\" stroke-linejoin=\"round\" stroke-opacity=\"1\" stroke-width=\"3\" id=\"path18\"/>\n",
       "      <path d=\"m 463.693,556.898 1.498,2.412 0.228,0.213\" fill=\"none\" stroke=\"#000000\" stroke-linecap=\"butt\" stroke-linejoin=\"round\" stroke-opacity=\"1\" stroke-width=\"3\" id=\"path20\"/>\n",
       "      <path d=\"m 466.569,559.138 0.244,-0.379 0.018,-0.027 -0.038,-0.02 -0.779,-0.439\" fill=\"none\" stroke=\"#000000\" stroke-linecap=\"butt\" stroke-linejoin=\"round\" stroke-opacity=\"1\" stroke-width=\"3\" id=\"path22\"/>\n",
       "      <path d=\"m 1033.149,380.991 0.155,-0.955 0.096,-0.505 -0.145,-0.339 -0.147,-0.127 -0.493,-0.234 -0.882,-0.258 -1.289,-0.366 -0.746,-0.214\" fill=\"none\" stroke=\"#000000\" stroke-linecap=\"butt\" stroke-linejoin=\"round\" stroke-opacity=\"1\" stroke-width=\"3\" id=\"path24\"/>\n",
       "      <path d=\"m 1073.059,460.538 -1.033,2.174 -4.626,2.438 -7.069,2.627 -1.415,0.464 -6.931,2.272 -1.232,0.389 -6.74,2.129 -0.681,0.216 -6.87,1.932 -1.998,0.562 -5.364,1.154 -3.832,0.825 -9.622,1.184 -10.066,0.202 -9.984,-0.573 -0.307,-0.018 -6.827,-0.729 -3.425,-0.366 -9.973,-1.311 -9.58,-1.3 -9.506,-1.29 -9.853,-1.337 -9.909,-1.345 -0.699,-0.095 -9.904,-1.381 -1.506,-0.209 -9.87,-1.605 -0.964,-0.156 -8.543,-1.945 -4.564,-2.14 0.554,-2.335\" fill=\"none\" stroke=\"#000000\" stroke-linecap=\"butt\" stroke-linejoin=\"round\" stroke-opacity=\"1\" stroke-width=\"3\" id=\"path26\"/>\n",
       "      <path d=\"m 941.507,775.473 2.202,0.468 7.408,1.573 3.842,0.816 9.783,2.072 3.792,0.804 9.783,2.071 4.354,0.921 9.784,2.071 4.783,1.012 9.783,2.071 4.931,1.044 9.784,2.071 4.787,1.013 9.787,2.052 4.622,0.97 3.705,0.734 4.74,0.941 2.413,0.478 4.499,0.892 0.228,0.041 9.842,1.772 7.663,1.379 9.874,1.586 9.873,1.585 1.848,0.297 9.898,1.425 9.898,1.424 6.537,0.941 4.315,0.559 9.134,1.183 4.962,0.643 9.065,1.175 1.764,0.228 9.936,1.129 9.936,1.129 9.647,1.096 9.959,0.909 9.959,0.909 7.11,0.649 9.985,0.537 9.825,0.529 2.598,0.14 1.79,-0.004 3.447,-0.007 4.376,-0.01 9.142,-0.02 9.976,-0.69 6.952,-0.48 9.919,-1.271 7.077,-0.907 9.863,-1.649 8.49,-1.42 9.785,-2.065 8.552,-1.806 9.634,-2.682 6.603,-1.838 8.629,-3.143 9.273,-3.742 3.838,-1.549 8.851,-4.654 0.872,-0.459 8.545,-5.193 1.046,-0.636 8.438,-5.365 0.72,-0.457 8.316,-5.553 0.23,-0.154 7.003,-5.283 4.538,-5.885 3.063,-4.437 1.879,-6.198 0.48,-6.116 0.237,-5.871 0.234,-5.785 0.24,-5.937 0.256,-6.328 0.045,-6.876 -1.343,-7.243 -2.454,-5.929 -3.481,-6.891 -4.478,-4.811 -7.345,-6.576 -8.296,-5.584 -4.688,-3.156 -8.828,-4.698 -7.727,-4.112 -4.284,-1.826 -8.999,-4.361 -6.057,-2.935 -9.384,-3.456 -1.457,-0.537 -6.207,-1.038 -3.78,0.708 -0.376,0.126\" fill=\"none\" stroke=\"#000000\" stroke-linecap=\"butt\" stroke-linejoin=\"round\" stroke-opacity=\"1\" stroke-width=\"3\" id=\"path28\"/>\n",
       "      <path d=\"m 544.419,427.705 -0.414,-0.239 -0.211,-0.084 -2.135,-0.776 -2.158,-0.475 -1.897,-0.104 -0.933,-0.037 -1.268,0.316 -0.292,0.297 -0.21,0.907 1.209,2.103\" fill=\"none\" stroke=\"#000000\" stroke-linecap=\"butt\" stroke-linejoin=\"round\" stroke-opacity=\"1\" stroke-width=\"3\" id=\"path30\"/>\n",
       "      <path d=\"m 469.262,505.904 5.409,8.411 1.35,2.1 0.228,0.353 1.042,1.727 3.433,5.682 1.736,4.009 -0.384,1.987 -1.128,0.711 -0.749,0.471\" fill=\"none\" stroke=\"#000000\" stroke-linecap=\"butt\" stroke-linejoin=\"round\" stroke-opacity=\"1\" stroke-width=\"3\" id=\"path32\"/>\n",
       "      <path d=\"m 482.453,531.032 -0.251,-0.572 -0.004,-0.01 -0.122,-0.277\" fill=\"none\" stroke=\"#000000\" stroke-linecap=\"butt\" stroke-linejoin=\"round\" stroke-opacity=\"1\" stroke-width=\"3\" id=\"path34\"/>\n",
       "      <path d=\"m 320.157,523.894 7.088,7.054 7.088,7.054 4.023,4.003 7.088,7.054 7.088,7.054 4.126,4.106 7.088,7.054 7.089,7.054 1.388,1.382 5.017,4.994 5.613,5.585 6.325,6.302 3.204,3.228 0.165,0.165 1.687,1.869 1.025,1.504 0.421,1.374 1.881,-0.248 1.231,-0.539 1.707,-0.651 3.516,-1.001 6.685,-1.695 9.71,-2.391 1.433,-0.353 9.711,-2.385 6.392,-1.57 9.711,-2.385 9.01,-2.213 9.711,-2.385 8.697,-2.136 9.711,-2.386 2.429,-0.596 3.174,-0.78 9.713,-2.375 0.541,-0.133 6.055,-1.411 2.022,-0.374 1.334,-0.247 2.12,-0.122 2.093,0.13\" fill=\"none\" stroke=\"#000000\" stroke-linecap=\"butt\" stroke-linejoin=\"round\" stroke-opacity=\"1\" stroke-width=\"3\" id=\"path36\"/>\n",
       "      <path d=\"m 399.526,599.838 2.929,-1.008 6.654,-1.763 9.708,-2.402 1.449,-0.358 9.711,-2.386 6.42,-1.578 9.711,-2.386 9.043,-2.222 9.711,-2.386 8.729,-2.145 9.712,-2.386 3.985,-0.979 1.644,-0.404 9.714,-2.375 0.556,-0.136 6.054,-1.395 3.329,-0.568 2.061,-0.019\" fill=\"none\" stroke=\"#000000\" stroke-linecap=\"butt\" stroke-linejoin=\"round\" stroke-opacity=\"1\" stroke-width=\"3\" id=\"path38\"/>\n",
       "      <path d=\"m 333.647,568.433 4.881,6.534 4.143,5.644 2.032,3.017 0.771,1.652 0.26,1.364 0.112,1.369 0.146,1.451 0.056,1.546 -0.226,1.719 -0.646,2.311 -1.189,3.409 -1.859,5.034 -2.57,6.915 -2.965,7.979 -2.962,7.97 -2.564,6.9 -1.831,5.036 -0.157,0.432 -1.016,3.344 -0.063,2.136 0.841,1.462 1.686,1.283 2.349,1.09 2.681,0.715 2.539,0.213 0.799,0.037 2.423,-0.471 2.647,-1.46 3.532,-2.762 5.037,-4.338 6.883,-5.99 7.544,-6.564 0.426,-0.371 7.544,-6.565 0.459,-0.399 6.954,-6.051 5.068,-4.411 3.405,-2.971 2.221,-1.971 1.427,-1.418 2.455,-1.603 0.992,-0.905 0.88,-0.802\" fill=\"none\" stroke=\"#000000\" stroke-linecap=\"butt\" stroke-linejoin=\"round\" stroke-opacity=\"1\" stroke-width=\"3\" id=\"path40\"/>\n",
       "      <path d=\"m 1031.466,380.041 0.036,0.023 0.392,0.253 0.197,0.27 v 0.343 l -0.075,0.211\" fill=\"none\" stroke=\"#000000\" stroke-linecap=\"butt\" stroke-linejoin=\"round\" stroke-opacity=\"1\" stroke-width=\"3\" id=\"path42\"/>\n",
       "      <path d=\"m 1031.466,380.041 -0.766,-0.328 -1.011,-0.348\" fill=\"none\" stroke=\"#000000\" stroke-linecap=\"butt\" stroke-linejoin=\"round\" stroke-opacity=\"1\" stroke-width=\"3\" id=\"path44\"/>\n",
       "      <path d=\"m 1033.108,379.065 0.171,0.308 -0.066,0.422 -0.225,0.54 -0.322,0.594 -0.362,0.563 -0.348,0.449 -0.289,0.276 -0.247,0.162 -0.23,0.116 -0.019,0.007 v 10e-4 l -0.014,0.005 -0.027,0.01 -0.139,0.05 -0.018,0.006 -0.251,0.047 -0.474,0.073 -0.575,0.094 -0.352,0.058 -1.61,0.231 -2.416,0.289 -2.91,0.309 -2.984,0.285 -2.635,0.217 -1.998,0.124 -1.617,0.072 -1.631,0.064 -2.037,0.043 h -2.702 l -3.095,-0.042 -3.079,-0.077 -2.657,-0.106 -1.944,-0.126 -1.409,-0.137 -1.167,-0.154 -1.223,-0.234 -1.437,-0.353 -0.058,-0.014\" fill=\"none\" stroke=\"#000000\" stroke-linecap=\"butt\" stroke-linejoin=\"round\" stroke-opacity=\"1\" stroke-width=\"3\" id=\"path46\"/>\n",
       "      <path d=\"m 273.407,486.818 -0.168,-0.477\" fill=\"none\" stroke=\"#000000\" stroke-linecap=\"butt\" stroke-linejoin=\"round\" stroke-opacity=\"1\" stroke-width=\"3\" id=\"path48\"/>\n",
       "      <path d=\"m 601.801,513.57 -0.002,0.206 -0.01,1.225 -0.641,1.091 -0.673,1.027\" fill=\"none\" stroke=\"#000000\" stroke-linecap=\"butt\" stroke-linejoin=\"round\" stroke-opacity=\"1\" stroke-width=\"3\" id=\"path50\"/>\n",
       "      <path d=\"m 1323.156,654.416 -1.773,0.947 -2.09,1.116 -0.615,0.328 -7.179,3.681 -8.619,4.38 -8.916,4.529 -0.111,0.056 -8.928,4.503 -0.443,0.223 -6.775,3.36 -3.112,1.543 -9.005,4.347 -1.539,0.743 -9.162,4.007 -2.353,1.029 -3.332,0.934 -9.629,2.7 -0.456,0.128 -0.088,0.025 v 0 l -0.068,0.019\" fill=\"none\" stroke=\"#000000\" stroke-linecap=\"butt\" stroke-linejoin=\"round\" stroke-opacity=\"1\" stroke-width=\"3\" id=\"path52\"/>\n",
       "      <path d=\"m 394.465,603.253 0.91,-1.256\" fill=\"none\" stroke=\"#000000\" stroke-linecap=\"butt\" stroke-linejoin=\"round\" stroke-opacity=\"1\" stroke-width=\"3\" id=\"path54\"/>\n",
       "      <path d=\"m 403.598,405.111 -0.17,0.425 0.44,0.768 0.969,1.476 2.237,3.407 4.449,6.776 5.489,8.36 2.127,3.239 5.488,8.359 5.489,8.359 0.276,0.421 5.489,8.359 5.489,8.359 2.407,3.667 5.489,8.359 5.488,8.359 2.515,3.83 5.489,8.359 0.971,1.479 1.27,1.935 3.816,5.812 0.447,0.685 5.464,8.375 1.288,1.975 0.769,1.178\" fill=\"none\" stroke=\"#000000\" stroke-linecap=\"butt\" stroke-linejoin=\"round\" stroke-opacity=\"1\" stroke-width=\"3\" id=\"path56\"/>\n",
       "      <path d=\"m 620.028,537.418 0.543,-0.188 9.451,-3.268 1.475,-0.51 7.433,-2.562 4.546,-1.515 0.505,-0.148 2.197,-0.64 1.817,-0.38 1.535,-0.276 0.525,-0.414 -0.361,-1.232 -0.901,-1.348 -1.487,-1.675 -3.073,-3.013 -5.899,-5.56 -7.307,-6.827 -2.668,-2.493 -7.296,-6.84 -7.295,-6.839 -0.449,-0.422 -7.282,-6.854 -7.281,-6.854 -2.443,-2.299 -7.281,-6.855 -7.281,-6.854 -2.362,-2.223 -7.282,-6.854 -2.412,-2.271\" fill=\"none\" stroke=\"#000000\" stroke-linecap=\"butt\" stroke-linejoin=\"round\" stroke-opacity=\"1\" stroke-width=\"3\" id=\"path58\"/>\n",
       "      <path d=\"m 638.93,530.89 3.013,-0.993 2.831,-0.643\" fill=\"none\" stroke=\"#000000\" stroke-linecap=\"butt\" stroke-linejoin=\"round\" stroke-opacity=\"1\" stroke-width=\"3\" id=\"path60\"/>\n",
       "      <path d=\"m 637.976,539.028 4.193,-3.431 3.309,-2.732 2.096,-1.793 1.313,-1.278 0.857,-1.134 0.311,-1.143\" fill=\"none\" stroke=\"#000000\" stroke-linecap=\"butt\" stroke-linejoin=\"round\" stroke-opacity=\"1\" stroke-width=\"3\" id=\"path62\"/>\n",
       "      <path d=\"m 648.867,526.638 -1.595,-1.528\" fill=\"none\" stroke=\"#000000\" stroke-linecap=\"butt\" stroke-linejoin=\"round\" stroke-opacity=\"1\" stroke-width=\"3\" id=\"path64\"/>\n",
       "      <path d=\"m 1073.059,460.538 -0.686,-2.561 -2.589,-9.659 -1.894,-7.065 -2.599,-9.656 -2.297,-8.536 -2.621,-9.65 -1.694,-6.239 -2.672,-9.637 -0.755,-2.723 -2.329,-7.991 -1.444,-4.377 -0.878,-1.929 -0.635,-0.654 -0.686,-0.361 -2.282,-0.991 -0.868,-0.244 -4.349,-0.855 -5.69,-0.767 -0.857,-0.108 -5.524,-0.632\" fill=\"none\" stroke=\"#000000\" stroke-linecap=\"butt\" stroke-linejoin=\"round\" stroke-opacity=\"1\" stroke-width=\"3\" id=\"path66\"/>\n",
       "      <path d=\"m 1324.843,652.944 -2.881,1.528 -1.699,0.9 -3.842,1.968 -3.509,1.798 -8.829,4.484 -8.918,4.524 -0.317,0.161 -8.93,4.5 -0.652,0.329 -8.082,4.016 -2.023,1.006 -8.99,4.381 -1.794,0.874 -9.129,4.081 -2.651,1.184 -4.472,1.311 -9.389,2.753 -8.573,0.713 -0.651,0.054 -0.405,0.034 -0.03,0.002 v 0.001 l -0.08,0.006 -0.191,0.016 -0.179,0.015 -0.07,0.006 -0.288,0.024 -0.196,0.016 -0.776,0.064 -1.336,0.112 -4.427,0.368\" fill=\"none\" stroke=\"#000000\" stroke-linecap=\"butt\" stroke-linejoin=\"round\" stroke-opacity=\"1\" stroke-width=\"3\" id=\"path68\"/>\n",
       "      <path d=\"m 598.164,518.614 -0.829,0.295 -4.6,1.634\" fill=\"none\" stroke=\"#000000\" stroke-linecap=\"butt\" stroke-linejoin=\"round\" stroke-opacity=\"1\" stroke-width=\"3\" id=\"path70\"/>\n",
       "      <path d=\"m 600.316,517.534 -0.124,0.057 -0.037,0.017 -0.649,0.3 -2.171,1.001\" fill=\"none\" stroke=\"#000000\" stroke-linecap=\"butt\" stroke-linejoin=\"round\" stroke-opacity=\"1\" stroke-width=\"3\" id=\"path72\"/>\n",
       "      <path d=\"m 593.56,520.27 -0.825,0.273 -7.137,2.362 -9.501,3.119 -2.27,0.745 -9.501,3.119 -4.552,1.494 -0.845,0.277\" fill=\"none\" stroke=\"#000000\" stroke-linecap=\"butt\" stroke-linejoin=\"round\" stroke-opacity=\"1\" stroke-width=\"3\" id=\"path74\"/>\n",
       "      <path d=\"m 600.958,516.727 -0.483,0.392 -0.969,0.789\" fill=\"none\" stroke=\"#000000\" stroke-linecap=\"butt\" stroke-linejoin=\"round\" stroke-opacity=\"1\" stroke-width=\"3\" id=\"path76\"/>\n",
       "      <path d=\"m 1080.609,603.359 -2.032,-9.791 -2.033,-9.791 -2.032,-9.792 -0.133,-0.641\" fill=\"none\" stroke=\"#000000\" stroke-linecap=\"butt\" stroke-linejoin=\"round\" stroke-opacity=\"1\" stroke-width=\"3\" id=\"path78\"/>\n",
       "      <path d=\"m 985.697,381.627 -10e-4,-0.02 0.145,-0.495 0.259,-0.555 0.327,-0.535 0.347,-0.434 0.319,-0.273 0.007,-0.006\" fill=\"none\" stroke=\"#000000\" stroke-linecap=\"butt\" stroke-linejoin=\"round\" stroke-opacity=\"1\" stroke-width=\"3\" id=\"path80\"/>\n",
       "      <path d=\"m 988.712,377.352 -0.321,0.023 -0.942,0.08 -0.482,0.086 -0.253,0.074 -0.221,0.049 -0.227,0.097 -0.128,0.083 -0.111,0.142 -0.273,0.374 -0.321,0.515 -0.331,0.588 -0.29,0.579 -0.199,0.486 -0.09,0.298 -0.076,0.252 0.142,0.739\" fill=\"none\" stroke=\"#000000\" stroke-linecap=\"butt\" stroke-linejoin=\"round\" stroke-opacity=\"1\" stroke-width=\"3\" id=\"path82\"/>\n",
       "      <path d=\"m 988.727,371.639 -0.485,-0.045 -7.487,-0.469 -6.922,-0.076 -6.212,0.412 -5.681,0.828 -0.809,0.141 -5.516,1.158 -5.339,1.31 -5.187,1.338 -4.329,1.322 -0.782,0.371 -2.635,1.306 -0.779,0.687 -1.226,1.968 -2.189,4.437 -3.667,8.086 -4.018,9.158 -1.468,3.347 -3.972,9.177 -2.989,6.904 -3.952,9.186 -3.974,9.239 -2.334,5.437 -3.943,9.189 -2.112,4.921\" fill=\"none\" stroke=\"#000000\" stroke-linecap=\"butt\" stroke-linejoin=\"round\" stroke-opacity=\"1\" stroke-width=\"3\" id=\"path84\"/>\n",
       "      <path d=\"m 990.766,383.251 -1.489,-0.42 -0.578,-0.177 -0.964,-0.295 -1.283,-0.43 -0.755,-0.302 -0.131,-0.052 -0.27,-0.107 -0.04,-0.017\" fill=\"none\" stroke=\"#000000\" stroke-linecap=\"butt\" stroke-linejoin=\"round\" stroke-opacity=\"1\" stroke-width=\"3\" id=\"path86\"/>\n",
       "      <path d=\"m 990.708,383.237 -1.643,-0.46 -0.366,-0.113 -1.219,-0.377 -1.323,-0.458 -0.46,-0.193 -0.399,-0.167 -0.042,-0.018 -0.507,-0.307 -0.185,-0.275 0.049,-0.341\" fill=\"none\" stroke=\"#000000\" stroke-linecap=\"butt\" stroke-linejoin=\"round\" stroke-opacity=\"1\" stroke-width=\"3\" id=\"path88\"/>\n",
       "      <path d=\"m 918.333,770.514 9.276,1.993 2.524,0.538\" fill=\"none\" stroke=\"#000000\" stroke-linecap=\"butt\" stroke-linejoin=\"round\" stroke-opacity=\"1\" stroke-width=\"3\" id=\"path90\"/>\n",
       "      <path d=\"m 986.266,377.761 -0.239,0.225\" fill=\"none\" stroke=\"#000000\" stroke-linecap=\"butt\" stroke-linejoin=\"round\" stroke-opacity=\"1\" stroke-width=\"3\" id=\"path100\"/>\n",
       "      <path d=\"m 1029.664,383.574 -2.351,0.434 -0.17,0.032 -0.979,0.128 -3.598,0.422 -3.833,0.381 -5.375,0.406 -2.301,0.049 -3.45,-0.014 -4.02,-0.066 -3.919,-0.131 -1.051,-0.076 -4.043,-0.295 -0.33,-0.024 -1.633,-0.238 -0.374,-0.055 -2.056,-0.299\" fill=\"none\" stroke=\"#000000\" stroke-linecap=\"butt\" stroke-linejoin=\"round\" stroke-opacity=\"1\" stroke-width=\"3\" id=\"path110\"/>\n",
       "      <path d=\"m 772.857,731.847 1.043,0.562 3.16,1.703 2.831,1.487 2.838,1.439\" fill=\"none\" stroke=\"#000000\" stroke-linecap=\"butt\" stroke-linejoin=\"round\" stroke-opacity=\"1\" stroke-width=\"3\" id=\"path112\"/>\n",
       "      <path d=\"m 901.96,696.795 -0.274,0.401\" fill=\"none\" stroke=\"#000000\" stroke-linecap=\"butt\" stroke-linejoin=\"round\" stroke-opacity=\"1\" stroke-width=\"3\" id=\"path114\"/>\n",
       "      <path d=\"m 993.411,384.061 1.077,0.096 1.324,0.176\" fill=\"none\" stroke=\"#000000\" stroke-linecap=\"butt\" stroke-linejoin=\"round\" stroke-opacity=\"1\" stroke-width=\"3\" id=\"path116\"/>\n",
       "      <path d=\"m 1032.023,381.134 v 0.007 l -0.287,0.54 -0.353,0.541 -0.169,0.213\" fill=\"none\" stroke=\"#000000\" stroke-linecap=\"butt\" stroke-linejoin=\"round\" stroke-opacity=\"1\" stroke-width=\"3\" id=\"path118\"/>\n",
       "      <path d=\"m 1033.355,382.375 -0.446,0.177 -2.016,0.794\" fill=\"none\" stroke=\"#000000\" stroke-linecap=\"butt\" stroke-linejoin=\"round\" stroke-opacity=\"1\" stroke-width=\"3\" id=\"path120\"/>\n",
       "      <path d=\"m 1030.7,379.713 0.802,0.351\" fill=\"none\" stroke=\"#000000\" stroke-linecap=\"butt\" stroke-linejoin=\"round\" stroke-opacity=\"1\" stroke-width=\"3\" id=\"path122\"/>\n",
       "      <path d=\"m 467.939,558.679 -0.866,0.29 -0.064,0.022 -0.086,0.029 -0.354,0.118 -1.15,0.385 -0.051,0.017 -6.01,1.527 -9.723,2.335 -1.005,0.241 -9.726,2.324 -6.376,1.524 -9.726,2.324 -9.64,2.304 -9.726,2.324 -9.726,2.324 -0.255,0.061 -9.726,2.324 -6.39,1.527\" fill=\"none\" stroke=\"#000000\" stroke-linecap=\"butt\" stroke-linejoin=\"round\" stroke-opacity=\"1\" stroke-width=\"3\" id=\"path124\"/>\n",
       "      <path d=\"m 988.709,378.817 -0.174,0.026 -0.474,0.071 -0.269,0.052 -0.202,0.07 -0.215,0.108 -0.275,0.165\" fill=\"none\" stroke=\"#000000\" stroke-linecap=\"butt\" stroke-linejoin=\"round\" stroke-opacity=\"1\" stroke-width=\"3\" id=\"path132\"/>\n",
       "      <path d=\"m 987.093,379.315 0.169,-0.085 0.216,-0.128 0.112,-0.066\" fill=\"none\" stroke=\"#000000\" stroke-linecap=\"butt\" stroke-linejoin=\"round\" stroke-opacity=\"1\" stroke-width=\"3\" id=\"path134\"/>\n",
       "      <path d=\"m 1030.448,382.818 0.447,-0.038 0.237,-0.016 0.211,-0.104 0.206,-0.137\" fill=\"none\" stroke=\"#000000\" stroke-linecap=\"butt\" stroke-linejoin=\"round\" stroke-opacity=\"1\" stroke-width=\"3\" id=\"path136\"/>\n",
       "      <path d=\"m 539.966,530.552 -0.619,-0.554 -0.464,-0.414 -3.473,-3.106 -6.662,-7.458 -0.218,-0.245 -6.447,-7.645 -4.271,-5.064 -6.425,-7.662 -6.426,-7.662 -2.478,-2.955 -6.426,-7.662 -6.426,-7.663 -5.023,-5.989 -6.389,-7.693 -1.301,-1.568\" fill=\"none\" stroke=\"#000000\" stroke-linecap=\"butt\" stroke-linejoin=\"round\" stroke-opacity=\"1\" stroke-width=\"3\" id=\"path138\"/>\n",
       "      <path d=\"m 543.041,531.581 -3.694,-1.583\" fill=\"none\" stroke=\"#000000\" stroke-linecap=\"butt\" stroke-linejoin=\"round\" stroke-opacity=\"1\" stroke-width=\"3\" id=\"path140\"/>\n",
       "      <path d=\"m 555.047,453.754 1.524,1.912 6.233,7.819 5.432,6.815 6.219,7.831 5.078,6.393 6.183,7.859 3.559,4.523 6.173,7.868 0.446,0.569 3.821,5.018 1.797,2.704 0.287,0.711\" fill=\"none\" stroke=\"#000000\" stroke-linecap=\"butt\" stroke-linejoin=\"round\" stroke-opacity=\"1\" stroke-width=\"3\" id=\"path142\"/>\n",
       "      <path d=\"m 628.359,505.369 -7.31,-6.825 -7.312,-6.827 -7.31,-6.824 -7.309,-6.824 -2.588,-2.416 -7.309,-6.824 -7.31,-6.824 -2.504,-2.338\" fill=\"none\" stroke=\"#000000\" stroke-linecap=\"butt\" stroke-linejoin=\"round\" stroke-opacity=\"1\" stroke-width=\"3\" id=\"path144\"/>\n",
       "      <path d=\"m 647.379,529.938 -1.762,1.135\" fill=\"none\" stroke=\"#000000\" stroke-linecap=\"butt\" stroke-linejoin=\"round\" stroke-opacity=\"1\" stroke-width=\"3\" id=\"path146\"/>\n",
       "      <path d=\"m 987.613,379.044 0.267,-0.038 0.47,-0.058 0.358,-0.062\" fill=\"none\" stroke=\"#000000\" stroke-linecap=\"butt\" stroke-linejoin=\"round\" stroke-opacity=\"1\" stroke-width=\"3\" id=\"path148\"/>\n",
       "      <path d=\"m 1031.382,382.328 -0.145,0.098 -0.04,0.027 -0.013,0.009 -0.069,0.046 -0.128,0.06\" fill=\"none\" stroke=\"#000000\" stroke-linecap=\"butt\" stroke-linejoin=\"round\" stroke-opacity=\"1\" stroke-width=\"3\" id=\"path150\"/>\n",
       "      <path d=\"m 1031.329,382.32 -0.118,0.115 -0.027,0.027\" fill=\"none\" stroke=\"#000000\" stroke-linecap=\"butt\" stroke-linejoin=\"round\" stroke-opacity=\"1\" stroke-width=\"3\" id=\"path152\"/>\n",
       "      <path d=\"m 1026.681,357.333 -2.483,0.507 -3.064,0.417 -3.527,0.311 -3.853,0.192 -4.027,0.067 -4.044,-0.063 -3.901,-0.189 -3.607,-0.308 -3.17,-0.415 -2.613,-0.505\" fill=\"none\" stroke=\"#000000\" stroke-linecap=\"butt\" stroke-linejoin=\"round\" stroke-opacity=\"1\" stroke-width=\"3\" id=\"path154\"/>\n",
       "      <path d=\"m 976.687,351.561 -10e-4,0.568 0.684,1.019 1.92,0.984 3.091,0.91 4.146,0.8 2.238,0.292 0.563,0.074 2.243,0.292 5.747,0.49 6.224,0.301 6.454,0.1 6.427,-0.106 6.146,-0.306 5.619,-0.494 0.993,-0.135 0.648,-0.088 3.233,-0.439 3.939,-0.804 2.854,-0.913 1.666,-0.985 0.421,-1.02 0.053,-7.48 -0.414,-0.496\" fill=\"none\" stroke=\"#000000\" stroke-linecap=\"butt\" stroke-linejoin=\"round\" stroke-opacity=\"1\" stroke-width=\"3\" id=\"path156\"/>\n",
       "      <path d=\"m 1026.681,357.333 3.146,-0.706 7.174,-1.608\" fill=\"none\" stroke=\"#000000\" stroke-linecap=\"butt\" stroke-linejoin=\"round\" stroke-opacity=\"1\" stroke-width=\"3\" id=\"path158\"/>\n",
       "      <path d=\"m 982.381,355.042 6.383,1.47 3.628,0.835\" fill=\"none\" stroke=\"#000000\" stroke-linecap=\"butt\" stroke-linejoin=\"round\" stroke-opacity=\"1\" stroke-width=\"3\" id=\"path160\"/>\n",
       "      <path d=\"m 995.776,346.935 2.689,0.342 3.528,0.294 3.816,0.181 3.955,0.06 3.94,-0.063 3.768,-0.184 3.45,-0.297 2.997,-0.398 2.429,-0.483 1.768,-0.55 1.041,-0.595 0.276,-0.616\" fill=\"none\" stroke=\"#000000\" stroke-linecap=\"butt\" stroke-linejoin=\"round\" stroke-opacity=\"1\" stroke-width=\"3\" id=\"path162\"/>\n",
       "      <path d=\"m 1041.995,344.621 -0.421,1.002 -1.667,0.97 -2.856,0.897 -3.942,0.791 -4.876,0.651 -5.623,0.486 -6.15,0.301 -6.431,0.104 -6.458,-0.098 -6.228,-0.296 -5.751,-0.482 -2.695,-0.345\" fill=\"none\" stroke=\"#000000\" stroke-linecap=\"butt\" stroke-linejoin=\"round\" stroke-opacity=\"1\" stroke-width=\"3\" id=\"path164\"/>\n",
       "      <path d=\"m 1033.305,341.311 -1.538,-0.281 -2.31,-0.288\" fill=\"none\" stroke=\"#000000\" stroke-linecap=\"butt\" stroke-linejoin=\"round\" stroke-opacity=\"1\" stroke-width=\"3\" id=\"path166\"/>\n",
       "      <path d=\"m 1029.433,344.626 0.024,-3.884 v -0.676\" fill=\"none\" stroke=\"#000000\" stroke-linecap=\"butt\" stroke-linejoin=\"round\" stroke-opacity=\"1\" stroke-width=\"3\" id=\"path168\"/>\n",
       "      <path d=\"m 998.001,335.243 7.855,0.794 1.659,0.168 -0.014,3.381 -0.01,1.94 -0.011,2.571 -9.719,2.356 -1.987,0.482 -3.007,0.728 -3.872,0.939 -9.718,2.355 -2.124,0.515 -0.368,0.089 -9.719,2.356 -9.718,2.355 -9.719,2.356 -9.719,2.355 -9.718,2.356 -9.719,2.355 -9.719,2.356 -9.718,2.355 -9.719,2.356 -9.719,2.355 -9.718,2.356 -9.719,2.355 -9.718,2.356 -9.719,2.355 -9.719,2.356 -9.718,2.355 -9.719,2.356 -9.718,2.355 -9.719,2.356 -9.719,2.355 -9.718,2.356 -9.719,2.355 -9.719,2.356 -9.718,2.355 -9.719,2.356 -9.718,2.355 -9.719,2.356 -9.719,2.355 -9.718,2.356 -9.719,2.355 -9.719,2.356 -9.718,2.355 -9.719,2.356 -9.718,2.355 -9.719,2.356 -9.719,2.355 -9.718,2.356 -9.719,2.355 -9.719,2.356 -9.718,2.355 -9.719,2.356 -6.28,1.522 -2.248,0.545 -9.719,2.355 -4.696,1.138 -0.233,0.057 -9.719,2.355 -9.718,2.356 -9.719,2.355 -9.437,2.288 -9.891,-1.475 -0.813,-0.122 -6,-0.894 -8.607,-1.284 -8.566,-1.277 -5.659,-0.844 -0.266,-0.039 -1.972,-0.294 -1.196,-0.179 -7.306,-1.089 -0.326,-7.573 -0.098,-2.274 1.391,-0.319 2.683,-0.616 1.118,-0.257 1.179,-0.27 9.746,-2.238 9.747,-2.237 9.746,-2.238 9.747,-2.237 9.746,-2.238 0.919,-0.211 9.746,-2.237 4.588,-1.053 8.309,-1.908 9.747,-2.237 9.746,-2.238 9.747,-2.237 9.746,-2.238 9.747,-2.237 9.746,-2.237 9.747,-2.238 9.746,-2.237 9.747,-2.238 9.746,-2.237 9.747,-2.238 9.746,-2.237 9.747,-2.238 9.746,-2.237 9.747,-2.237 9.746,-2.238 9.747,-2.237 9.746,-2.238 9.747,-2.237 9.746,-2.238 9.747,-2.237 9.746,-2.238 9.746,-2.237 9.747,-2.237 9.746,-2.238 9.747,-2.237 9.746,-2.238 9.747,-2.237 9.746,-2.238 9.747,-2.237 9.746,-2.238 9.747,-2.237 9.746,-2.237 9.747,-2.238 9.746,-2.237 9.747,-2.238 9.746,-2.237 9.747,-2.238 9.746,-2.237 9.747,-2.238 9.746,-2.237 5.466,-1.255 8.081,-1.855 5.156,-1.184 0.967,0.098 8.386,0.848 9.916,-1.288 2.426,-0.314 4.873,-0.633 0.332,-0.043 3.227,-0.419 2.559,0.463 3.106,0.381 3.533,0.283 3.822,0.174\" fill=\"none\" stroke=\"#000000\" stroke-linecap=\"butt\" stroke-linejoin=\"round\" stroke-opacity=\"1\" stroke-width=\"3\" id=\"path170\"/>\n",
       "      <path d=\"m 1026.497,320.446 -2.435,0.456 -3.003,0.375 -3.458,0.279 -3.777,0.173 -2.581,0.039 -1.366,0.021 -3.965,-0.057 -3.824,-0.17 -3.536,-0.276 -3.109,-0.373 -2.561,-0.454\" fill=\"none\" stroke=\"#000000\" stroke-linecap=\"butt\" stroke-linejoin=\"round\" stroke-opacity=\"1\" stroke-width=\"3\" id=\"path172\"/>\n",
       "      <path d=\"m 998.001,335.243 7.874,-4.017 -0.019,4.811\" fill=\"none\" stroke=\"#000000\" stroke-linecap=\"butt\" stroke-linejoin=\"round\" stroke-opacity=\"1\" stroke-width=\"3\" id=\"path174\"/>\n",
       "      <path d=\"m 1039.321,333.96 -5.978,1.441 -0.01,1.365 -0.025,3.985 v 0.56 l -0.012,1.967 8.288,0.847 9.949,1.017 9.948,1.016 9.948,1.017 9.948,1.016 9.949,1.017 9.948,1.016 9.948,1.017 9.948,1.016 9.948,1.017 9.948,1.016 9.949,1.017 9.948,1.016 9.948,1.017 9.948,1.016 9.948,1.017 9.949,1.016 9.948,1.017 9.948,1.017 9.948,1.016 9.948,1.017 9.949,1.016 9.948,1.017 9.948,1.016 9.948,1.017 9.948,1.016 9.949,1.017 9.948,1.016 9.948,1.017 9.948,1.016 9.948,1.017 9.949,1.016 9.948,1.017 9.948,1.016 9.948,1.017 9.948,1.016 9.949,1.017 9.948,1.016 9.948,1.017 9.948,1.016 9.948,1.017 9.949,1.016 9.948,1.017 9.948,1.017 9.948,1.016 9.948,1.017 9.949,1.016 9.948,1.017 9.948,1.016 9.948,1.017 9.948,1.016 9.949,1.017 9.948,1.016 9.948,1.017 9.948,1.016 9.948,1.017 9.949,1.016 9.948,1.017 9.948,1.016 9.948,1.017 9.949,1.016 9.948,1.017 9.948,1.016 6.409,0.655 9.948,1.017 9.948,1.016 9.948,1.017 9.949,1.016 9.948,1.017 9.948,1.016 9.948,1.017 3.948,0.403 4.159,-2 2.327,-1.119 3.334,-1.602 3.311,-1.593 2.288,-1.1 4.036,-1.941 0.623,-8.981 -9.952,-0.976 -9.952,-0.976 -9.953,-0.975 -9.952,-0.976 -9.952,-0.976 -9.952,-0.976 -9.953,-0.975 -2.916,-0.286 -9.953,-0.976 -9.952,-0.976 -9.952,-0.975 -9.952,-0.976 -9.953,-0.976 -9.952,-0.975 -9.952,-0.976 -9.953,-0.976 -9.952,-0.976 -9.952,-0.975 -9.952,-0.976 -9.953,-0.976 -9.952,-0.975 -9.952,-0.976 -9.953,-0.976 -9.952,-0.975 -9.952,-0.976 -9.952,-0.976 -9.953,-0.976 -9.952,-0.975 -9.952,-0.976 -9.953,-0.976 -9.952,-0.975 -9.952,-0.976 -9.953,-0.976 -9.952,-0.976 -9.952,-0.975 -9.952,-0.976 -9.953,-0.976 -9.952,-0.975 -9.952,-0.976 -9.953,-0.976 -9.952,-0.976 -9.952,-0.975 -9.952,-0.976 -9.953,-0.976 -9.952,-0.975 -9.952,-0.976 -9.953,-0.976 -9.952,-0.975 -9.952,-0.976 -9.952,-0.976 -9.953,-0.976 -9.952,-0.975 -9.952,-0.976 -9.953,-0.976 -9.952,-0.975 -9.952,-0.976 -9.952,-0.976 -9.953,-0.975 -9.952,-0.976 -9.952,-0.976 -9.952,-0.976 -9.953,-0.975 -9.952,-0.976 -9.952,-0.976 -9.953,-0.975 -9.952,-0.976 -9.952,-0.976 -9.953,-0.976 -9.952,-0.975 -10.38,-1.018 -7.021,-0.688 -5.828,1.404 -0.245,-0.012 -9.362,-0.442 -9.989,-0.472 -6.417,-0.303 -0.273,-0.013 -1.042,0.573 -1.771,0.529 -0.618,0.119 -1.814,0.347 -3.001,0.383\" fill=\"none\" stroke=\"#000000\" stroke-linecap=\"butt\" stroke-linejoin=\"round\" stroke-opacity=\"1\" stroke-width=\"3\" id=\"path176\"/>\n",
       "      <path d=\"m 963.697,326.411 -0.002,5.363\" fill=\"none\" stroke=\"#000000\" stroke-linecap=\"butt\" stroke-linejoin=\"round\" stroke-opacity=\"1\" stroke-width=\"3\" id=\"path178\"/>\n",
       "      <path d=\"m 989.323,319.585 -0.012,4.623 -0.008,3.415 -0.002,0.608 -0.005,2.156\" fill=\"none\" stroke=\"#000000\" stroke-linecap=\"butt\" stroke-linejoin=\"round\" stroke-opacity=\"1\" stroke-width=\"3\" id=\"path180\"/>\n",
       "      <path d=\"m 1045.976,323.916 -9.917,1.29 -6.514,0.848\" fill=\"none\" stroke=\"#000000\" stroke-linecap=\"butt\" stroke-linejoin=\"round\" stroke-opacity=\"1\" stroke-width=\"3\" id=\"path182\"/>\n",
       "      <path d=\"m 1033.309,340.751 -3.848,-0.685 -8.493,-1.512 0.041,-7.794 4.806,0.84 3.42,0.598 0.273,0.047 4.935,0.863 4.878,0.852\" fill=\"none\" stroke=\"#000000\" stroke-linecap=\"butt\" stroke-linejoin=\"round\" stroke-opacity=\"1\" stroke-width=\"3\" id=\"path184\"/>\n",
       "      <path d=\"m 1026.497,320.446 3.086,-0.738 9.726,-2.326 0.675,-0.162 3.138,-0.919 1.827,-0.992 0.454,-1.026 0.012,-1.589 0.063,-8.505 -0.926,-0.996 -9.158,-4.016 -9.321,-4.088 -1.046,-0.44 -1.636,-0.404 -2.162,-0.354 -2.605,-0.289 -2.948,-0.214 -3.178,-0.131 -3.29,-0.044 -3.277,0.046 -3.139,0.134 -2.884,0.216 -2.518,0.291 -2.057,0.355 -1.515,0.405 -9.183,3.96 -8.456,3.646 -1.984,0.954 -0.636,0.995 -0.012,10.096 0.745,1.025 2.108,0.991 3.399,0.916 9.524,2.342 3.559,0.874\" fill=\"none\" stroke=\"#000000\" stroke-linecap=\"butt\" stroke-linejoin=\"round\" stroke-opacity=\"1\" stroke-width=\"3\" id=\"path186\"/>\n",
       "      <path d=\"m 1029.528,328.822 v -0.607 l 0.013,-2.161 0.013,-2.197 0.025,-4.149\" fill=\"none\" stroke=\"#000000\" stroke-linecap=\"butt\" stroke-linejoin=\"round\" stroke-opacity=\"1\" stroke-width=\"3\" id=\"path188\"/>\n",
       "      <path d=\"m 986.288,323.681 0.006,-2.395 -9.953,-0.975 -9.952,-0.976 -9.952,-0.976 -9.953,-0.975 -9.952,-0.976 -9.952,-0.976 -9.952,-0.975 -9.953,-0.976 -9.952,-0.976 -9.952,-0.976 -9.953,-0.975 -9.952,-0.976 -9.952,-0.976 -9.952,-0.975 -9.953,-0.976 -9.952,-0.976 -9.952,-0.975 -9.953,-0.976 -9.952,-0.976 -9.952,-0.976 -9.952,-0.975 -9.953,-0.976 -9.952,-0.976 -9.952,-0.975 -9.953,-0.976 -9.952,-0.976 -9.952,-0.976 -9.952,-0.975 -9.953,-0.976 -9.952,-0.976 -9.952,-0.975 -9.953,-0.976 -9.952,-0.976 -9.952,-0.976 -9.952,-0.975 -9.953,-0.976 -9.952,-0.976 -9.952,-0.975 -9.953,-0.976 -9.952,-0.976 -9.952,-0.975 -9.952,-0.976 -9.953,-0.976 -9.952,-0.976 -9.952,-0.975 -9.953,-0.976 -8.134,-0.797 -9.952,-0.976 -9.953,-0.976 -9.952,-0.976 -9.952,-0.975 -0.997,-0.098 -6.723,1.044 -3.803,0.59 -5.499,0.854 -5.525,0.857 -3.853,0.598 -6.872,1.067 0.3,6.812 9.948,1.017 9.948,1.016 9.949,1.017 9.948,1.017 1.205,0.123 9.948,1.016 9.948,1.017 9.948,1.016 9.948,1.017 9.949,1.016 9.948,1.017 9.948,1.016 9.948,1.017 9.948,1.016 9.949,1.017 9.948,1.016 9.948,1.017 9.948,1.016 9.948,1.017 9.949,1.016 9.948,1.017 9.948,1.016 9.948,1.017 9.948,1.017 9.949,1.016 9.948,1.017 9.948,1.016 9.948,1.017 9.948,1.016 9.949,1.017 9.948,1.016 9.948,1.017 9.948,1.016 9.948,1.017 9.949,1.016 9.948,1.017 9.948,1.016 9.948,1.017 9.948,1.016 9.949,1.017 9.948,1.016 9.948,1.017 9.948,1.016 9.948,1.017 9.949,1.017 9.948,1.016 9.948,1.017 9.948,1.016 9.948,1.017 9.949,1.016 13.251,1.354\" fill=\"none\" stroke=\"#000000\" stroke-linecap=\"butt\" stroke-linejoin=\"round\" stroke-opacity=\"1\" stroke-width=\"3\" id=\"path190\"/>\n",
       "      <path d=\"m 447.273,276.616 9.95,0.998 9.95,0.998 9.95,0.998 9.95,0.998 1.218,0.122 9.95,0.998 9.95,0.998 9.95,0.998 9.95,0.998 9.951,0.998 9.95,0.998 9.95,0.998 9.95,0.998 9.95,0.998 9.95,0.999 9.95,0.997 9.95,0.999 9.95,0.998 9.95,0.998 9.95,0.998 9.95,0.998 9.95,0.998 9.951,0.998 9.95,0.998 9.95,0.998 9.95,0.998 9.95,0.998 9.95,0.998 9.95,0.998 9.95,0.998 9.95,0.998 9.95,0.998 9.95,0.998 9.95,0.998 9.95,0.998 9.95,0.998 9.951,0.998 9.95,0.998 9.95,0.998 9.95,0.998 9.95,0.998 9.95,0.998 9.95,0.998 9.95,0.998 9.95,0.998 9.95,0.998 9.95,0.998 9.95,0.998 9.95,0.998 9.95,0.998 9.951,0.998 11.576,1.161\" fill=\"none\" stroke=\"#000000\" stroke-linecap=\"butt\" stroke-linejoin=\"round\" stroke-opacity=\"1\" stroke-width=\"3\" id=\"path192\"/>\n",
       "      <path d=\"m 1068.39,329.335 9.718,-2.355 9.719,-2.356 9.719,-2.355 9.718,-2.356 9.719,-2.355 9.718,-2.356 9.719,-2.355 9.719,-2.356 9.718,-2.355 9.719,-2.356 9.719,-2.355 9.718,-2.356 9.719,-2.355 9.718,-2.356 9.719,-2.355 9.719,-2.356 9.718,-2.355 9.719,-2.356 9.719,-2.355 9.718,-2.356 9.719,-2.355 9.718,-2.356 9.719,-2.355 9.719,-2.356 9.718,-2.355 9.719,-2.356 11.915,-2.888 9.719,-2.355 9.718,-2.356 3.439,-0.833 0.217,-6.387 -8.284,-0.621 -4.652,-0.348 -6.682,-0.501 -6.663,-0.5 -4.614,-0.346 -8.172,-0.612 -9.747,2.237 -9.746,2.238 -3.814,0.875 -9.747,2.238 -9.746,2.237 -9.747,2.238 -9.746,2.237 -9.747,2.237 -9.746,2.238 -9.747,2.237 -9.746,2.238 -9.747,2.237 -9.746,2.238 -9.747,2.237 -9.746,2.238 -9.747,2.237 -9.746,2.237 -9.747,2.238 -9.746,2.237 -9.747,2.238 -9.746,2.237 -9.746,2.238 -9.747,2.237 -9.746,2.238 -9.747,2.237 -9.746,2.237 -9.747,2.238 -9.746,2.237 -4.631,1.063\" fill=\"none\" stroke=\"#000000\" stroke-linecap=\"butt\" stroke-linejoin=\"round\" stroke-opacity=\"1\" stroke-width=\"3\" id=\"path194\"/>\n",
       "      <path d=\"m 465.754,445.764 1.886,0.276 1.162,0.171 4.242,0.621 3.192,0.467 5.929,0.868 8.572,1.255 8.613,1.261 6.005,0.879 9.895,1.449 0.817,0.12\" fill=\"none\" stroke=\"#000000\" stroke-linecap=\"butt\" stroke-linejoin=\"round\" stroke-opacity=\"1\" stroke-width=\"3\" id=\"path196\"/>\n",
       "      <path d=\"m 957.572,332.86 -10e-4,-5.06 6.126,-1.389 9.988,0.473 6.627,0.314 5.968,0.282 3.023,0.143\" fill=\"none\" stroke=\"#000000\" stroke-linecap=\"butt\" stroke-linejoin=\"round\" stroke-opacity=\"1\" stroke-width=\"3\" id=\"path198\"/>\n",
       "      <path d=\"m 986.294,321.286 -5.974,1.355 5.968,1.04 3.023,0.527\" fill=\"none\" stroke=\"#000000\" stroke-linecap=\"butt\" stroke-linejoin=\"round\" stroke-opacity=\"1\" stroke-width=\"3\" id=\"path200\"/>\n",
       "      <path d=\"m 1033.343,335.401 5.964,0.598 9.95,0.998 9.95,0.998 9.95,0.998 9.95,0.998 9.95,0.998 9.95,0.998 9.951,0.998 9.95,0.998 9.95,0.998 9.95,0.998 9.95,0.998 9.95,0.998 9.95,0.998 9.95,0.998 9.95,0.998 9.95,0.998 9.95,0.998 9.95,0.998 9.95,0.998 9.95,0.998 9.951,0.998 9.95,0.998 9.95,0.998 9.95,0.998 9.95,0.998 9.95,0.998 9.95,0.998 9.95,0.998 9.95,0.998 9.95,0.998 9.95,0.998 9.95,0.998 9.95,0.998 9.95,0.998 9.951,0.998 9.95,0.998 9.95,0.998 9.95,0.999 9.95,0.998 9.95,0.998 9.95,0.998 9.95,0.998 9.95,0.998 9.95,0.998 9.95,0.998 9.95,0.998 9.95,0.998 9.951,0.998 9.95,0.998 9.95,0.998 9.95,0.998 9.95,0.998 9.95,0.998 9.95,0.998 9.95,0.998 9.95,0.998 9.95,0.998 9.95,0.998 9.95,0.998 9.95,0.998 9.95,0.998 9.951,0.998 9.119,0.915 9.95,0.998 9.95,0.998 9.95,0.998 9.95,0.998 9.95,0.998 9.95,0.998 9.951,0.998 4.001,0.401\" fill=\"none\" stroke=\"#000000\" stroke-linecap=\"butt\" stroke-linejoin=\"round\" stroke-opacity=\"1\" stroke-width=\"3\" id=\"path202\"/>\n",
       "      <path d=\"m 1758.442,396.987 -4.037,1.907 -2.288,1.08 -3.312,1.565 -3.334,1.575 -2.328,1.099 -4.16,1.965 -0.619,9.145\" fill=\"none\" stroke=\"#000000\" stroke-linecap=\"butt\" stroke-linejoin=\"round\" stroke-opacity=\"1\" stroke-width=\"3\" id=\"path204\"/>\n",
       "      <path d=\"m 1007.515,336.205 -9.524,2.266 -0.082,0.019 -8.639,2.056 -0.707,0.168 -9.728,2.315 -0.727,0.172 -9.728,2.315 -9.729,2.315 -9.728,2.314 -9.729,2.315 -9.728,2.314 -9.728,2.315 -9.729,2.315 -9.728,2.314 -9.729,2.315 -9.728,2.314 -9.729,2.315 -9.728,2.315 -9.729,2.314 -9.728,2.315 -9.728,2.314 -9.729,2.315 -9.728,2.315 -9.729,2.314 -9.728,2.315 -9.729,2.314 -9.728,2.315 -9.729,2.315 -9.728,2.314 -9.728,2.315 -9.729,2.314 -9.728,2.315 -9.729,2.315 -9.728,2.314 -9.729,2.315 -9.728,2.314 -9.729,2.315 -9.728,2.315 -9.728,2.314 -9.729,2.315 -9.728,2.314 -9.729,2.315 -9.728,2.315 -9.729,2.314 -9.728,2.315 -9.729,2.314 -9.728,2.315 -7.629,1.815 -9.728,2.315 -0.537,0.127 -9.728,2.315 -3.204,0.762 -9.729,2.315 -9.728,2.314 -9.729,2.315 -3.163,0.753 0.387,9.977\" fill=\"none\" stroke=\"#000000\" stroke-linecap=\"butt\" stroke-linejoin=\"round\" stroke-opacity=\"1\" stroke-width=\"3\" id=\"path206\"/>\n",
       "      <path d=\"m 1055.339,324.827 -0.043,5.212\" fill=\"none\" stroke=\"#000000\" stroke-linecap=\"butt\" stroke-linejoin=\"round\" stroke-opacity=\"1\" stroke-width=\"3\" id=\"path208\"/>\n",
       "      <path d=\"m 1356.082,253.273 -9.728,2.315 -9.728,2.315 -3.429,0.815 -9.729,2.315 -9.728,2.315 -9.729,2.314 -9.728,2.315 -9.728,2.314 -9.729,2.315 -9.728,2.315 -9.729,2.314 -9.728,2.315 -9.729,2.314 -9.728,2.315 -9.729,2.315 -9.728,2.314 -9.728,2.315 -9.729,2.314 -9.728,2.315 -9.729,2.315 -9.728,2.314 -9.729,2.315 -9.728,2.314 -9.729,2.315 -9.728,2.315 -9.728,2.314 -9.729,2.315 -9.728,2.314 -9.729,2.315 -9.728,2.315 -9.729,2.314 -5.461,1.3 -9.363,-0.911 -0.042,5.681\" fill=\"none\" stroke=\"#000000\" stroke-linecap=\"butt\" stroke-linejoin=\"round\" stroke-opacity=\"1\" stroke-width=\"3\" id=\"path210\"/>\n",
       "      <path d=\"m 1039.984,317.22 -4.335,0.81 -5.368,0.667 -6.192,0.499 -6.774,0.308 -1.673,0.025 -5.413,0.081 -7.115,-0.1 -6.861,-0.304 -6.333,-0.493 -5.557,-0.664 -4.564,-0.806\" fill=\"none\" stroke=\"#000000\" stroke-linecap=\"butt\" stroke-linejoin=\"round\" stroke-opacity=\"1\" stroke-width=\"3\" id=\"path212\"/>\n",
       "      <path d=\"m 1045.478,304.189 -0.455,1.001 -1.828,0.967 -3.141,0.897 -4.338,0.79 -5.373,0.651 -6.198,0.486 -6.779,0.301 -7.092,0.104 -7.122,-0.098 -6.867,-0.296 -6.339,-0.482 -5.561,-0.647 -4.569,-0.787 -3.401,-0.894 -2.11,-0.966 -0.746,-1.001\" fill=\"none\" stroke=\"#000000\" stroke-linecap=\"butt\" stroke-linejoin=\"round\" stroke-opacity=\"1\" stroke-width=\"3\" id=\"path214\"/>\n",
       "      <path d=\"m 469.828,444.829 0.388,-0.618 0.306,-0.807 0.023,-0.062 0.015,-0.041 10e-4,-0.002 0.147,-0.387 0.211,-0.558 0.395,-2.071 0.069,-2.203 -0.259,-2.252 -0.577,-2.213 -0.873,-2.088 -1.135,-1.882 -1.107,-1.313 -0.246,-0.291 -0.284,-0.237 -0.043,-0.036 -0.041,-0.034 -1.15,-0.957 -1.625,-0.876 -0.666,-0.181 -1.003,-0.272 -0.375,-0.003 -1.274,-0.011 -8.602,1.895\" fill=\"none\" stroke=\"#000000\" stroke-linecap=\"butt\" stroke-linejoin=\"round\" stroke-opacity=\"1\" stroke-width=\"3\" id=\"path216\"/>\n",
       "      <path d=\"m 469.811,429.868 -1.051,-0.874 -1.125,-0.606 -0.203,-0.056\" fill=\"none\" stroke=\"#000000\" stroke-linecap=\"butt\" stroke-linejoin=\"round\" stroke-opacity=\"1\" stroke-width=\"3\" id=\"path218\"/>\n",
       "      <path d=\"m 471.67,443.05 0.129,-0.034 0.987,-0.58 0.851,-0.849 0.682,-1.088 0.487,-1.284 0.273,-1.431 0.049,-1.522 -0.179,-1.555 -0.398,-1.528 -0.603,-1.442 -0.784,-1.3 -0.935,-1.108 -0.916,-0.762\" fill=\"none\" stroke=\"#000000\" stroke-linecap=\"butt\" stroke-linejoin=\"round\" stroke-opacity=\"1\" stroke-width=\"3\" id=\"path220\"/>\n",
       "      <path d=\"m 461.999,425.445 -1.593,-4.385 -0.434,-9.99 -0.435,-9.991 -0.434,-9.99 -0.435,-9.991 -0.36,-8.281 -0.434,-9.991 -0.435,-9.99 -0.087,-1.999 1.192,-0.224 1.501,0.181 2.124,0.256 2.212,0.266 2.215,0.267 2.132,0.257 1.509,0.181 0.423,9.991 0.424,9.991 0.087,2.055 0.423,9.991 0.423,9.991 0.424,9.991 0.423,9.991 0.356,8.405 -1.907,6.14 -0.322,1.038 -1.18,0.263 0.307,-0.99 0.264,-0.852 1.657,-5.339 -0.424,-9.991 -0.424,-9.991 -0.425,-9.991 -0.424,-9.991 -0.358,-8.429 -0.425,-9.99 -0.424,-9.992 -0.088,-2.065\" fill=\"none\" stroke=\"#000000\" stroke-linecap=\"butt\" stroke-linejoin=\"round\" stroke-opacity=\"1\" stroke-width=\"3\" id=\"path222\"/>\n",
       "      <path d=\"m 470.237,352.021 -1.19,0.226 -1.509,-0.182 -2.133,-0.257 -2.215,-0.267 -2.212,-0.267 -2.125,-0.256 -1.501,-0.181\" fill=\"none\" stroke=\"#000000\" stroke-linecap=\"butt\" stroke-linejoin=\"round\" stroke-opacity=\"1\" stroke-width=\"3\" id=\"path224\"/>\n",
       "      <path d=\"m 463.729,497.472 0.434,9.991 0.435,9.99 0.032,0.747 1.482,0.246 2.099,0.35 2.184,0.363 2.188,0.364 2.105,0.351 1.491,0.248 1.168,-0.308 -0.056,-1.319\" fill=\"none\" stroke=\"#000000\" stroke-linecap=\"butt\" stroke-linejoin=\"round\" stroke-opacity=\"1\" stroke-width=\"3\" id=\"path226\"/>\n",
       "      <path d=\"m 476.179,520.122 -0.158,-3.707\" fill=\"none\" stroke=\"#000000\" stroke-linecap=\"butt\" stroke-linejoin=\"round\" stroke-opacity=\"1\" stroke-width=\"3\" id=\"path228\"/>\n",
       "      <path d=\"m 931.248,799.674 9.775,2.113 9.774,2.113 9.774,2.113 9.774,2.114 9.774,2.113 9.774,2.113 9.774,2.114 9.775,2.113 9.774,2.113 9.774,2.113 9.774,2.114 5.668,1.225 7.135,1.543 9.774,2.113 9.774,2.113 9.774,2.114 5.676,1.227\" fill=\"none\" stroke=\"#000000\" stroke-linecap=\"butt\" stroke-linejoin=\"round\" stroke-opacity=\"1\" stroke-width=\"3\" id=\"path230\"/>\n",
       "      <path d=\"m 1106.059,837.47 9.774,2.113 9.775,2.113 9.774,2.114 9.774,2.113 9.774,2.113 9.774,2.114 9.774,2.113 9.774,2.113 9.775,2.113 9.774,2.114 9.774,2.113 9.774,2.113 3.164,0.684 7.766,1.68 9.774,2.113 9.775,2.113 9.774,2.113 9.774,2.114 9.774,2.113 9.774,2.113 9.774,2.114 9.775,2.113 9.774,2.113 9.774,2.113 2.191,0.474 9.948,1.024 2.674,0.276 2.31,-0.183 9.927,-1.212 2.533,-0.309 9.363,-3.514 2.16,-0.811 8.224,-5.688 1.848,-1.278 6.588,-7.522 1.576,-1.8 4.219,-8.098 0.929,-2.031 0.293,-1.741 -0.857,-1.579 -1.244,-2.149 -2.882,-2.127 -3.748,-1.541 -3.615,-0.543 -1.413,0.319 -3.02,0.718 -1.299,1.325 -2.519,4.896 -5.793,6.697 -7.166,5.026 -8.218,3.148 -7.233,0.93 -1.675,0.215\" fill=\"none\" stroke=\"#000000\" stroke-linecap=\"butt\" stroke-linejoin=\"round\" stroke-opacity=\"1\" stroke-width=\"3\" id=\"path232\"/>\n",
       "      <path d=\"m 921.882,776.875 -1.571,-1.207 -3.234,-3.319 -1.018,-1.377\" fill=\"none\" stroke=\"#000000\" stroke-linecap=\"butt\" stroke-linejoin=\"round\" stroke-opacity=\"1\" stroke-width=\"3\" id=\"path234\"/>\n",
       "      <path d=\"m 1239.758,820.791 -0.252,9.997 -0.253,9.997 -0.157,6.23 -2.183,0.14 -2.249,2.542 0.248,-9.997 0.249,-9.997 0.221,-8.902\" fill=\"none\" stroke=\"#000000\" stroke-linecap=\"butt\" stroke-linejoin=\"round\" stroke-opacity=\"1\" stroke-width=\"3\" id=\"path236\"/>\n",
       "      <path d=\"m 1347.797,869.032 -8.809,-0.855 -9.783,-2.073 -9.783,-2.072 -9.783,-2.073 -9.782,-2.072 -9.783,-2.073 -9.783,-2.072 -9.783,-2.073 -9.783,-2.072 -9.783,-2.073 -9.783,-2.072 -2.063,-0.437\" fill=\"none\" stroke=\"#000000\" stroke-linecap=\"butt\" stroke-linejoin=\"round\" stroke-opacity=\"1\" stroke-width=\"3\" id=\"path238\"/>\n",
       "      <path d=\"m 1056.517,799.588 -0.076,8.732 -2.363,0.078 -2.388,2.386 0.083,-9.999 0.017,-2.13\" fill=\"none\" stroke=\"#000000\" stroke-linecap=\"butt\" stroke-linejoin=\"round\" stroke-opacity=\"1\" stroke-width=\"3\" id=\"path240\"/>\n",
       "      <path d=\"m 790.274,895.173 9.706,2.407 9.706,2.408 9.705,2.408 9.706,2.408 9.706,2.408 9.706,2.407 9.706,2.408 9.705,2.408 2.887,0.716 7.526,1.867 9.706,2.408 9.706,2.408 9.706,2.408 9.706,2.408 9.705,2.408 9.706,2.407 9.706,2.408 9.706,2.408 9.706,2.408 9.705,2.408 9.706,2.408 9.706,2.408 9.706,2.407 9.705,2.408 9.706,2.408 9.706,2.408 9.706,2.408 9.706,2.408 10.637,2.638 8.263,2.05 9.706,2.408 9.706,2.408 9.706,2.408 9.705,2.408 9.706,2.408 9.706,2.407 9.706,2.408 9.706,2.408 9.705,2.408 9.706,2.408 9.549,2.369 9.914,1.308 3.567,0.471 9.951,-0.993 3.085,-0.308 3.062,-0.403 9.403,-3.404 2.842,-1.029 8.224,-5.689 2.443,-1.69 6.511,-7.59 2.091,-2.438 1.44,-2.692 4.279,-8.55 0.27,-1.894 -1.39,-3.037 -0.762,-1.219 -3.037,-2.467 -4.102,-1.744 -4.076,-0.559 -1.451,0.277 -3.553,0.931 -1.369,1.422 -1.353,2.429 -1.642,3.327 -1.101,2.231\" fill=\"none\" stroke=\"#000000\" stroke-linecap=\"butt\" stroke-linejoin=\"round\" stroke-opacity=\"1\" stroke-width=\"3\" id=\"path242\"/>\n",
       "      <path d=\"m 1201.007,971.232 -6.827,0.729 -9.923,-1.244 -0.163,-0.02 -9.718,-2.361 -9.717,-2.361 -9.717,-2.361 -9.718,-2.362 -9.717,-2.361 -9.717,-2.361 -9.717,-2.361 -9.718,-2.361 -9.717,-2.361 -9.717,-2.361 -9.397,-2.284 0.107,-9.999 0.107,-9.999 0.107,-10 0.108,-9.999 0.102,-9.571 0.602,-9.982 0.145,-2.404 1.689,-9.857 0.623,-3.637 3.257,-9.454 0.41,-1.188 4.736,-6.989 5.488,-7.01 5.96,-4.434 5.094,-2.809 8.757,-4.829 8.757,-4.829 6.905,-3.807 8.757,-4.829 8.757,-4.829 1.434,-0.79\" fill=\"none\" stroke=\"#000000\" stroke-linecap=\"butt\" stroke-linejoin=\"round\" stroke-opacity=\"1\" stroke-width=\"3\" id=\"path244\"/>\n",
       "      <path d=\"m 1222.892,955.955 -5.727,6.769 -7.585,5.331 -8.573,3.177 -0.158,0.058\" fill=\"none\" stroke=\"#000000\" stroke-linecap=\"butt\" stroke-linejoin=\"round\" stroke-opacity=\"1\" stroke-width=\"3\" id=\"path246\"/>\n",
       "      <path d=\"m 1077.524,944.802 -2.688,0.323 -2.724,2.953 0.102,-10 0.102,-9.999 0.103,-10 0.102,-9.999 0.099,-9.714 0.639,-9.979 0.335,-5.223 2.013,-9.795 0.895,-4.355 3.292,-9.442 1.338,-3.837 4.652,-8.852 1.337,-2.544 6.22,-7.83 0.661,-0.832 0.855,-0.629 6.233,-4.59 8.778,-4.789 7.961,-4.344 8.779,-4.789 8.791,-4.797\" fill=\"none\" stroke=\"#000000\" stroke-linecap=\"butt\" stroke-linejoin=\"round\" stroke-opacity=\"1\" stroke-width=\"3\" id=\"path248\"/>\n",
       "      <path d=\"m 883.732,864.179 0.069,10 0.069,9.999 0.069,10 0.025,3.593 -2.88,0.231 -2.871,2.752 -0.075,-10 -0.074,-10 -0.074,-9.999 -0.059,-7.938\" fill=\"none\" stroke=\"#000000\" stroke-linecap=\"butt\" stroke-linejoin=\"round\" stroke-opacity=\"1\" stroke-width=\"3\" id=\"path250\"/>\n",
       "      <path d=\"m 1126.265,810.556 -8.792,4.764 -7.867,4.263 -8.792,4.764 -7.998,4.334 -6.251,4.574 -0.857,0.627 -6.239,7.814 -0.658,0.825 -4.668,8.844 -1.332,2.525 -3.302,9.439 -1.333,3.811 -2.016,9.794 -0.891,4.326 -0.634,9.98 -0.33,5.195 -0.095,9.999 -0.094,10 -0.095,9.999 -0.095,10 -0.048,5.054 -0.043,4.571\" fill=\"none\" stroke=\"#000000\" stroke-linecap=\"butt\" stroke-linejoin=\"round\" stroke-opacity=\"1\" stroke-width=\"3\" id=\"path252\"/>\n",
       "      <path d=\"m 875.062,820.353 -1.147,3.047 -2.092,9.83\" fill=\"none\" stroke=\"#000000\" stroke-linecap=\"butt\" stroke-linejoin=\"round\" stroke-opacity=\"1\" stroke-width=\"3\" id=\"path254\"/>\n",
       "      <path d=\"m 879.4,834.955 2.094,-9.849 1.871,-4.985\" fill=\"none\" stroke=\"#000000\" stroke-linecap=\"butt\" stroke-linejoin=\"round\" stroke-opacity=\"1\" stroke-width=\"3\" id=\"path256\"/>\n",
       "      <path d=\"m 884.686,836.159 1.779,-8.514 2.85,-7.69\" fill=\"none\" stroke=\"#000000\" stroke-linecap=\"butt\" stroke-linejoin=\"round\" stroke-opacity=\"1\" stroke-width=\"3\" id=\"path258\"/>\n",
       "      <path d=\"m 902.188,786.016 -2.525,1.172 -6.752,4.303\" fill=\"none\" stroke=\"#000000\" stroke-linecap=\"butt\" stroke-linejoin=\"round\" stroke-opacity=\"1\" stroke-width=\"3\" id=\"path260\"/>\n",
       "      <path d=\"m 899.299,819.677 6.544,1.458 1.256,0.28 1.821,0.406 9.761,2.175 8.741,1.947 1.099,0.245 0.631,0.141 0.004,0.001 0.128,0.028 9.76,2.175 9.761,2.175 9.703,2.162 9.832,1.826 0.189,0.035 9.535,1.03 8.385,0.122 1.041,0.014 6.42,-0.802 0.846,-0.291 3.902,-1.577 0.574,-0.395 0.552,-0.577 0.51,-0.737 0.447,-0.869 0.367,-0.968 0.275,-1.028 0.17,-1.051 0.06,-1.033 -0.052,-0.975 -0.164,-0.88 -0.268,-0.752 -0.362,-0.594 -2.904,-3.076 -0.653,-0.61 -5.511,-3.421 -7.514,-3.331 -1.117,-0.481 -9.09,-3.057 -9.692,-2.461 -0.18,-0.045 -9.774,-2.114 -9.774,-2.113 -9.774,-2.114 -1.775,-0.384 -1.649,-0.356\" fill=\"none\" stroke=\"#000000\" stroke-linecap=\"butt\" stroke-linejoin=\"round\" stroke-opacity=\"1\" stroke-width=\"3\" id=\"path262\"/>\n",
       "      <path d=\"m 778.404,738.448 -5.547,-6.601 -2.321,-2.76 -2.48,-0.514 -1.075,0.022 -0.065,0.051 -0.997,0.792 4.128,9.108 1.037,2.289\" fill=\"none\" stroke=\"#000000\" stroke-linecap=\"butt\" stroke-linejoin=\"round\" stroke-opacity=\"1\" stroke-width=\"3\" id=\"path264\"/>\n",
       "      <path d=\"m 765.919,729.438 2.481,0.514 6.31,7.758 1.249,1.536\" fill=\"none\" stroke=\"#000000\" stroke-linecap=\"butt\" stroke-linejoin=\"round\" stroke-opacity=\"1\" stroke-width=\"3\" id=\"path266\"/>\n",
       "      <path d=\"m 905.289,773.143 6.374,7.705 0.46,0.556 6.374,7.706 0.068,0.083 2.191,2.649 5.552,6.711 0.16,0.194 0.253,0.306 2.02,2.442 -9.773,-2.119 -2.365,-0.512 -7.35,-1.594 -2.127,-0.461 -1.14,-2.491 -0.256,-0.559 -1.418,-3.101 -2.124,-4.642 -4.16,-9.094 -0.967,-2.114\" fill=\"none\" stroke=\"#000000\" stroke-linecap=\"butt\" stroke-linejoin=\"round\" stroke-opacity=\"1\" stroke-width=\"3\" id=\"path268\"/>\n",
       "      <path d=\"m 901.308,809.371 -7.123,1.211 -7.595,1.292 -1.838,0.312 -7.068,1.202 -3.747,0.637 -9.859,1.676 -5.3,0.901 -0.245,1.89 0.277,1.644 2.647,0.596 9.997,-0.279 3.608,-0.1 5.976,-0.167 2.327,-0.065 5.95,-0.166 9.984,-0.278 9.997,-0.279 9.996,-0.279 3.666,-0.102\" fill=\"none\" stroke=\"#000000\" stroke-linecap=\"butt\" stroke-linejoin=\"round\" stroke-opacity=\"1\" stroke-width=\"3\" id=\"path270\"/>\n",
       "      <path d=\"m 901.308,809.371 9.766,2.15 9.766,2.151 2.102,0.462 -9.988,0.498 -8.005,0.398 -9.987,0.497 -3.707,0.185 -7.969,0.396 -6.752,0.336 -9.988,0.497 -5.12,0.255 -2.648,-0.594\" fill=\"none\" stroke=\"#000000\" stroke-linecap=\"butt\" stroke-linejoin=\"round\" stroke-opacity=\"1\" stroke-width=\"3\" id=\"path272\"/>\n",
       "      <path d=\"m 931.624,800.114 -0.264,-0.309 -0.112,-0.131 -6.491,-7.607 -1.285,-1.507 -3.123,-3.66 -2.582,-3.025 -3.111,-3.646 -6.533,-7.657\" fill=\"none\" stroke=\"#000000\" stroke-linecap=\"butt\" stroke-linejoin=\"round\" stroke-opacity=\"1\" stroke-width=\"3\" id=\"path274\"/>\n",
       "      <path d=\"m 875.373,779.205 0.065,8.507 -1.412,-0.057 -1.466,0.434 -1.464,0.909 -1.407,1.35\" fill=\"none\" stroke=\"#000000\" stroke-linecap=\"butt\" stroke-linejoin=\"round\" stroke-opacity=\"1\" stroke-width=\"3\" id=\"path276\"/>\n",
       "      <path d=\"m 844.391,807.441 9.761,2.175 9.76,2.175 5.962,1.329 4.063,0.905\" fill=\"none\" stroke=\"#000000\" stroke-linecap=\"butt\" stroke-linejoin=\"round\" stroke-opacity=\"1\" stroke-width=\"3\" id=\"path278\"/>\n",
       "      <path d=\"m 869.608,780.373 0.081,9.975 -9.772,-2.122 -9.772,-2.123 -4.249,-0.923\" fill=\"none\" stroke=\"#000000\" stroke-linecap=\"butt\" stroke-linejoin=\"round\" stroke-opacity=\"1\" stroke-width=\"3\" id=\"path280\"/>\n",
       "      <path d=\"m 833.383,852.362 5.327,1.251 1.332,0.312 1.961,0.46 9.736,2.285 8.959,2.103 1.142,0.268 0.666,0.156 0.004,10e-4 0.151,0.036 7.708,1.809 5.816,1.365 1.746,0.409 5.801,1.362 8.654,2.031 9.812,1.931 0.41,0.08 9.731,1.144 8.564,0.192 1.122,-0.007 6.55,-0.777 0.91,-0.319 3.967,-1.595 0.616,-0.42 0.591,-0.608 0.545,-0.773 0.476,-0.907 0.39,-1.008 0.289,-1.069 0.178,-1.089 0.058,-1.069 -0.063,-1.006 -0.181,-0.906 -0.294,-0.771 -0.394,-0.606 -2.92,-3.235 -0.708,-0.617 -5.597,-3.604 -7.645,-3.524 -1.207,-0.474 -9.074,-3.179 -0.03,-0.01 -0.049,-0.018 -0.112,-0.039 -0.435,-0.115 -9.315,-2.479 -0.316,-0.084 -1.203,-0.274 -9.75,-2.22 -2.616,-0.596 -5.286,-1.204 -2.277,-0.518 -5.3,-1.207 -5.27,-1.2 -0.94,-0.214 -0.881,-0.201\" fill=\"none\" stroke=\"#000000\" stroke-linecap=\"butt\" stroke-linejoin=\"round\" stroke-opacity=\"1\" stroke-width=\"3\" id=\"path282\"/>\n",
       "      <path d=\"m 705.014,762.367 -4.166,-5.029 -2.521,-0.55 -1.153,0.039 -1.135,0.887 2.978,6.618\" fill=\"none\" stroke=\"#000000\" stroke-linecap=\"butt\" stroke-linejoin=\"round\" stroke-opacity=\"1\" stroke-width=\"3\" id=\"path284\"/>\n",
       "      <path d=\"m 696.039,757.714 2.522,0.551 3.943,4.924\" fill=\"none\" stroke=\"#000000\" stroke-linecap=\"butt\" stroke-linejoin=\"round\" stroke-opacity=\"1\" stroke-width=\"3\" id=\"path286\"/>\n",
       "      <path d=\"m 670.872,784.683 -0.43,0.114 -2.103,1.18 -2.009,1.754 -1.838,2.263 -1.595,2.684 -1.289,3.001 -0.932,3.202 -0.539,3.278 -0.125,3.226 0.294,3.048 0.702,2.752 1.08,2.349 1.416,1.856 1.697,1.291 1.911,0.68 2.051,0.043 2.112,-0.594 9.394,-3.429 1.635,-0.597\" fill=\"none\" stroke=\"#000000\" stroke-linecap=\"butt\" stroke-linejoin=\"round\" stroke-opacity=\"1\" stroke-width=\"3\" id=\"path288\"/>\n",
       "      <path d=\"m 687.208,794.798 -0.286,0.151 -0.358,0.204 -0.898,0.511 -0.476,0.421 -0.486,0.43 -0.237,0.21 -1.098,1.365 -0.952,1.616 -0.769,1.806 -0.558,1.926 -0.324,1.97 -0.077,1.939 0.172,1.832 0.383,1.529 0.032,0.126 0.235,0.519 0.406,0.894 0.387,0.537 1.796,2.489 0.909,1.205\" fill=\"none\" stroke=\"#000000\" stroke-linecap=\"butt\" stroke-linejoin=\"round\" stroke-opacity=\"1\" stroke-width=\"3\" id=\"path290\"/>\n",
       "      <path d=\"m 695.355,814.77 -9.867,1.629 -0.479,0.079 -9.866,1.63 -9.867,1.629 -0.594,0.098 -0.241,1.897 0.336,1.648 2.528,0.601 9.996,-0.278 9.997,-0.278 8.258,-0.23\" fill=\"none\" stroke=\"#000000\" stroke-linecap=\"butt\" stroke-linejoin=\"round\" stroke-opacity=\"1\" stroke-width=\"3\" id=\"path292\"/>\n",
       "      <path d=\"m 825.923,789.24 6.316,7.754 6.315,7.753 1.387,1.702 6.316,7.754 6.403,7.861 6.316,7.753 0.487,0.598 0.317,0.389 2.188,2.686 -9.749,-2.226 -1.936,-0.442 -9.749,-2.226 -0.592,-0.135 -1.262,-2.778 -4.136,-9.105 -4.136,-9.104 -1.591,-3.504 -4.137,-9.104 -2.234,-4.919\" fill=\"none\" stroke=\"#000000\" stroke-linecap=\"butt\" stroke-linejoin=\"round\" stroke-opacity=\"1\" stroke-width=\"3\" id=\"path294\"/>\n",
       "      <path d=\"m 833.759,841.548 -9.853,1.71 -9.852,1.71 -7.002,1.215 -9.853,1.709 -8.019,1.392 -0.252,1.957 0.309,1.693 2.695,0.641 9.996,-0.293 9.996,-0.292 9.995,-0.292 9.996,-0.293 1.468,-0.043 9.996,-0.292 9.996,-0.292 2.475,-0.073\" fill=\"none\" stroke=\"#000000\" stroke-linecap=\"butt\" stroke-linejoin=\"round\" stroke-opacity=\"1\" stroke-width=\"3\" id=\"path296\"/>\n",
       "      <path d=\"m 833.759,841.548 9.742,2.26 9.741,2.259 2.56,0.594 -9.987,0.51 -7.721,0.393 -9.987,0.51 -9.987,0.509 -0.69,0.035 -9.987,0.51 -9.987,0.509 -5.579,0.284 -2.697,-0.637\" fill=\"none\" stroke=\"#000000\" stroke-linecap=\"butt\" stroke-linejoin=\"round\" stroke-opacity=\"1\" stroke-width=\"3\" id=\"path298\"/>\n",
       "      <path d=\"m 695.456,819.035 -3.367,0.167 -9.987,0.494 -9.988,0.495 -4.902,0.242 -2.53,-0.598\" fill=\"none\" stroke=\"#000000\" stroke-linecap=\"butt\" stroke-linejoin=\"round\" stroke-opacity=\"1\" stroke-width=\"3\" id=\"path300\"/>\n",
       "      <path d=\"m 865.613,831.816 -6.167,-7.872 -3.329,-4.25 -1.746,-0.393\" fill=\"none\" stroke=\"#000000\" stroke-linecap=\"butt\" stroke-linejoin=\"round\" stroke-opacity=\"1\" stroke-width=\"3\" id=\"path302\"/>\n",
       "      <path d=\"m 865.062,832.007 -0.33,-0.392 -6.438,-7.651 -3.923,-4.663 -6.439,-7.651 -3.541,-4.209 -6.438,-7.652 -6.439,-7.651 -2.899,-3.445\" fill=\"none\" stroke=\"#000000\" stroke-linecap=\"butt\" stroke-linejoin=\"round\" stroke-opacity=\"1\" stroke-width=\"3\" id=\"path304\"/>\n",
       "      <path d=\"m 807.555,792.974 0.055,4.002 0.005,0.343 10e-4,0.076 0.025,1.857 0.137,9.999 0.13,9.424 -1.518,-0.033 -1.573,0.475 -1.569,0.965 -1.504,1.42\" fill=\"none\" stroke=\"#000000\" stroke-linecap=\"butt\" stroke-linejoin=\"round\" stroke-opacity=\"1\" stroke-width=\"3\" id=\"path306\"/>\n",
       "      <path d=\"m 769.577,837.387 0.468,0.11 9.735,2.285 9.736,2.285 9.735,2.285 2.828,0.663 4.973,1.168\" fill=\"none\" stroke=\"#000000\" stroke-linecap=\"butt\" stroke-linejoin=\"round\" stroke-opacity=\"1\" stroke-width=\"3\" id=\"path308\"/>\n",
       "      <path d=\"m 801.354,794.235 0.048,3.352 0.004,0.275 0.06,4.166 v 0.006 l 0.003,0.228 0.143,9.999 0.132,9.241 -9.749,-2.23 -9.318,-2.132 -0.054,-0.013 -0.028,-0.006 -9.185,-2.101 -3.766,-0.862 -0.072,-4.212 -0.156,-9.121\" fill=\"none\" stroke=\"#000000\" stroke-linecap=\"butt\" stroke-linejoin=\"round\" stroke-opacity=\"1\" stroke-width=\"3\" id=\"path310\"/>\n",
       "      <path d=\"m 762.522,887.496 4.067,1.008 1.417,0.351 2.117,0.525 9.707,2.406 9.157,2.27 1.189,0.295 0.705,0.174 0.004,10e-4 0.178,0.044 9.706,2.406 9.706,2.406 9.707,2.406 1.101,0.273 9.788,2.047 0.636,0.133 9.931,1.273 8.746,0.272 1.213,-0.032 6.681,-0.746 0.982,-0.35 4.03,-1.611 0.663,-0.448 0.635,-0.642 0.583,-0.811 0.509,-0.95 0.415,-1.05 0.306,-1.113 0.184,-1.131 0.057,-1.107 -0.075,-1.04 -0.202,-0.933 -0.147,-0.363 -0.175,-0.429 -0.429,-0.618 -2.932,-3.408 -0.768,-0.623 -5.681,-3.806 -7.776,-3.737 -9.321,-3.412 -0.313,-0.112 -0.035,-0.012 -0.048,-0.017 -0.546,-0.195 -0.485,-0.172 -7.542,-2.11 -1.567,-0.438 -1.152,-0.322 -9.723,-2.338 -9.722,-2.339 -9.723,-2.338 -2.782,-0.669 -0.362,-0.087 -2.016,-0.484\" fill=\"none\" stroke=\"#000000\" stroke-linecap=\"butt\" stroke-linejoin=\"round\" stroke-opacity=\"1\" stroke-width=\"3\" id=\"path312\"/>\n",
       "      <path d=\"m 665.13,835.395 -0.387,-0.474 -6.376,-7.815 -1.19,-1.459 -6.322,-7.748 -6.321,-7.748 -6.322,-7.749 -6.322,-7.748 -5.739,-7.034 -2.56,-0.59 -1.241,0.058 -1.215,0.935 4.078,9.131 4.077,9.131 4.077,9.131 4.078,9.131 1.905,4.267 1.343,3.008\" fill=\"none\" stroke=\"#000000\" stroke-linecap=\"butt\" stroke-linejoin=\"round\" stroke-opacity=\"1\" stroke-width=\"3\" id=\"path314\"/>\n",
       "      <path d=\"m 621.135,788.023 2.562,0.591 6.186,7.858 6.185,7.857 6.186,7.858 6.185,7.857 6.186,7.857 0.881,1.12 3.572,4.538 0.37,0.469 2.252,2.86 -9.015,-2.174 -9.721,-2.344 -2.271,-0.548\" fill=\"none\" stroke=\"#000000\" stroke-linecap=\"butt\" stroke-linejoin=\"round\" stroke-opacity=\"1\" stroke-width=\"3\" id=\"path316\"/>\n",
       "      <path d=\"m 612.122,826.431 -6.706,-7.418 -1.638,-1.812 -1.81,-1.331 -2.043,-0.703 -2.199,-0.047 -2.269,0.614 -2.253,1.252 -2.15,1.845 -1.962,2.368 -1.698,2.799 -1.368,3.122 -0.983,3.324 -0.56,3.395 -0.115,3.336 0.335,3.144 0.77,2.831 1.175,2.409 1.534,1.893 1.832,1.306 2.058,0.67 2.205,0.009 2.266,-0.648 9.398,-3.417 1.388,-0.504\" fill=\"none\" stroke=\"#000000\" stroke-linecap=\"butt\" stroke-linejoin=\"round\" stroke-opacity=\"1\" stroke-width=\"3\" id=\"path318\"/>\n",
       "      <path d=\"m 639.35,828.814 -9.723,-2.338 -9.723,-2.338 -0.605,-0.145 -1.684,-0.029 -1.738,0.482 -3.637,1.919 -0.118,0.066 -1.228,0.694 -0.311,0.271 -0.654,0.568 -0.319,0.277 -1.171,1.428 -1.014,1.687 -0.212,0.487 -0.605,1.391 -0.588,1.999 -0.337,2.042 -0.021,0.607 -0.05,1.397 0.196,1.891 0.346,1.29 0.11,0.412 0.212,0.44 0.486,1.009 0.367,0.547 1.774,2.638 1.168,1.459\" fill=\"none\" stroke=\"#000000\" stroke-linecap=\"butt\" stroke-linejoin=\"round\" stroke-opacity=\"1\" stroke-width=\"3\" id=\"path320\"/>\n",
       "      <path d=\"m 634.567,855.778 5.176,1.283 1.49,0.369 2.316,0.574 9.706,2.406 7.459,1.849 1.278,0.317 1.167,0.289 9.706,2.406 9.706,2.406 9.706,2.406 4.423,1.097 9.707,2.406 9.706,2.406 9.706,2.406 3.475,0.861 5.917,1.467\" fill=\"none\" stroke=\"#000000\" stroke-linecap=\"butt\" stroke-linejoin=\"round\" stroke-opacity=\"1\" stroke-width=\"3\" id=\"path322\"/>\n",
       "      <path d=\"m 634.021,844.965 -9.861,1.661 -9.861,1.661 -4.028,0.678 -9.861,1.661 -9.861,1.661 -2.781,0.468 -0.249,1.965 0.372,1.699 2.568,0.644 9.996,-0.291 9.995,-0.291 9.996,-0.291 9.996,-0.292 4.125,-0.12 9.996,-0.291 9.996,-0.291 0.62,-0.018\" fill=\"none\" stroke=\"#000000\" stroke-linecap=\"butt\" stroke-linejoin=\"round\" stroke-opacity=\"1\" stroke-width=\"3\" id=\"path324\"/>\n",
       "      <path d=\"m 696.015,842.441 -9.723,-2.338 -9.723,-2.338 -8.039,-1.934 -1.736,-0.417 -0.819,-0.197 -1.232,-0.296\" fill=\"none\" stroke=\"#000000\" stroke-linecap=\"butt\" stroke-linejoin=\"round\" stroke-opacity=\"1\" stroke-width=\"3\" id=\"path326\"/>\n",
       "      <path d=\"m 793.527,866.284 -0.407,-0.491 -3.639,-4.391 -4.504,-5.435 -1.288,-1.553 -0.743,-0.896 -6.381,-7.699 -6.382,-7.699 -0.606,-0.733 -6.382,-7.699 -6.381,-7.699 -4.364,-5.265 -2.734,-0.63 -1.202,0.079 -1.187,0.982 4.111,9.116 3.459,7.671 4.11,9.116 4.111,9.116 3.238,7.183 1.403,3.111\" fill=\"none\" stroke=\"#000000\" stroke-linecap=\"butt\" stroke-linejoin=\"round\" stroke-opacity=\"1\" stroke-width=\"3\" id=\"path328\"/>\n",
       "      <path d=\"m 747.327,817.155 2.736,0.631 6.252,7.804 6.253,7.805 2.317,2.891 6.252,7.804 6.253,7.804 4.289,5.354 5.749,7.176 0.39,0.487 2.379,2.969 -9.721,-2.345 -1.489,-0.359 -9.722,-2.345 -1.506,-0.363\" fill=\"none\" stroke=\"#000000\" stroke-linecap=\"butt\" stroke-linejoin=\"round\" stroke-opacity=\"1\" stroke-width=\"3\" id=\"path330\"/>\n",
       "      <path d=\"m 641.233,857.43 -4.537,8.912 -4.537,8.912 -4.536,8.911 -3.357,6.594 2.54,0.655 1.227,-0.121 1.201,-0.981 7.774,-6.289 7.774,-6.29 7.774,-6.29 7.775,-6.29 2.828,-2.288\" fill=\"none\" stroke=\"#000000\" stroke-linecap=\"butt\" stroke-linejoin=\"round\" stroke-opacity=\"1\" stroke-width=\"3\" id=\"path332\"/>\n",
       "      <path d=\"m 634.021,844.965 9.712,2.381 9.713,2.38 1.594,0.39 -9.987,0.507 -6.932,0.351 -9.988,0.507 -9.05,0.459 -9.987,0.507 -9.987,0.506 -8.773,0.445 -2.568,-0.643\" fill=\"none\" stroke=\"#000000\" stroke-linecap=\"butt\" stroke-linejoin=\"round\" stroke-opacity=\"1\" stroke-width=\"3\" id=\"path334\"/>\n",
       "      <path d=\"m 761.171,876.126 -9.847,1.745 -9.846,1.744 -3.844,0.681 -2.423,0.43 -9.847,1.744 -9.847,1.745 -1.168,0.207 -0.259,2.03 0.344,1.746 2.744,0.689 9.995,-0.307 9.995,-0.306 9.996,-0.307 9.995,-0.307 2.521,-0.077 2.842,-0.087 8.441,-0.26 0.383,-0.011 1.493,-0.046 9.996,-0.307 0.874,-0.027\" fill=\"none\" stroke=\"#000000\" stroke-linecap=\"butt\" stroke-linejoin=\"round\" stroke-opacity=\"1\" stroke-width=\"3\" id=\"path336\"/>\n",
       "      <path d=\"m 761.171,876.126 9.713,2.38 9.712,2.38 3.03,0.743 -9.987,0.522 -7.409,0.388 -9.987,0.522 -9.588,0.502 -1.736,0.09 -9.987,0.523 -9.986,0.522 -7.852,0.411 -2.745,-0.687\" fill=\"none\" stroke=\"#000000\" stroke-linecap=\"butt\" stroke-linejoin=\"round\" stroke-opacity=\"1\" stroke-width=\"3\" id=\"path338\"/>\n",
       "      <path d=\"m 668.53,835.831 -4.872,-8.733 -2.314,-4.149 -2.532,-0.601 -1.635,3.299\" fill=\"none\" stroke=\"#000000\" stroke-linecap=\"butt\" stroke-linejoin=\"round\" stroke-opacity=\"1\" stroke-width=\"3\" id=\"path340\"/>\n",
       "      <path d=\"m 795.498,866.364 -5.609,-8.278 -3.714,-5.482 -2.7,-0.641 -0.529,1.555\" fill=\"none\" stroke=\"#000000\" stroke-linecap=\"butt\" stroke-linejoin=\"round\" stroke-opacity=\"1\" stroke-width=\"3\" id=\"path342\"/>\n",
       "      <path d=\"m 768.006,888.855 -0.381,0.699 -4.793,8.776 -4.793,8.777 -4.792,8.777 -3.89,7.123 2.71,0.698 1.191,-0.145 7.917,-6.109 7.917,-6.109 0.361,-0.278 7.917,-6.109 7.917,-6.109 4.816,-3.716 0.782,-0.604\" fill=\"none\" stroke=\"#000000\" stroke-linecap=\"butt\" stroke-linejoin=\"round\" stroke-opacity=\"1\" stroke-width=\"3\" id=\"path344\"/>\n",
       "      <path d=\"m 626.806,891.414 7.734,-6.339 7.734,-6.339 7.735,-6.338 7.734,-6.339 4.249,-3.483\" fill=\"none\" stroke=\"#000000\" stroke-linecap=\"butt\" stroke-linejoin=\"round\" stroke-opacity=\"1\" stroke-width=\"3\" id=\"path346\"/>\n",
       "      <path d=\"m 752.067,923.705 7.923,-6.102 7.922,-6.102 7.922,-6.103 7.922,-6.102 5.637,-4.342 0.783,-0.603\" fill=\"none\" stroke=\"#000000\" stroke-linecap=\"butt\" stroke-linejoin=\"round\" stroke-opacity=\"1\" stroke-width=\"3\" id=\"path348\"/>\n",
       "      <path d=\"m 734.494,806.723 0.022,1.047 0.098,4.851 0.203,9.998 0.084,4.119 0.044,2.182 0.007,0.341 0.02,0.952 0.016,0.807 v 10e-4 l 0.006,0.285 0.203,9.998 0.203,9.998 0.012,0.613 -0.431,-10e-4 -1.204,-0.004 -1.693,0.52 -1.686,1.027 -1.612,1.497\" fill=\"none\" stroke=\"#000000\" stroke-linecap=\"butt\" stroke-linejoin=\"round\" stroke-opacity=\"1\" stroke-width=\"3\" id=\"path350\"/>\n",
       "      <path d=\"m 727.768,806.286 0.209,9.997 0.118,5.628 0.008,0.38 0.105,5.048 0.007,0.341 0.182,8.672 v 0.006 l 0.005,0.221 0.209,9.998 0.038,1.816 0.105,5.033 v 0.018 l 0.032,1.51 -9.309,-2.25 -8.628,-2.085 -0.051,-0.012 -0.016,-0.004 -7.935,-1.918 -6.722,-1.625 -0.11,-4.619 -0.239,-9.997 -0.22,-9.249 -0.077,-3.198 -0.018,-0.757 -0.005,-0.205 -0.101,-4.265 -0.239,-9.997 -0.183,-7.69\" fill=\"none\" stroke=\"#000000\" stroke-linecap=\"butt\" stroke-linejoin=\"round\" stroke-opacity=\"1\" stroke-width=\"3\" id=\"path352\"/>\n",
       "      <path d=\"m 397.912,600.745 1.614,-0.907 0.973,-0.546\" fill=\"none\" stroke=\"#000000\" stroke-linecap=\"butt\" stroke-linejoin=\"round\" stroke-opacity=\"1\" stroke-width=\"3\" id=\"path354\"/>\n",
       "      <path d=\"m 470.708,442.912 0.842,-0.193 0.12,0.331 0.455,1.252\" fill=\"none\" stroke=\"#000000\" stroke-linecap=\"butt\" stroke-linejoin=\"round\" stroke-opacity=\"1\" stroke-width=\"3\" id=\"path356\"/>\n",
       "      <path d=\"m 470.946,444.572 -0.424,-1.168\" fill=\"none\" stroke=\"#000000\" stroke-linecap=\"butt\" stroke-linejoin=\"round\" stroke-opacity=\"1\" stroke-width=\"3\" id=\"path358\"/>\n",
       "      <path d=\"m 686.564,795.153 -0.73,-0.768\" fill=\"none\" stroke=\"#000000\" stroke-linecap=\"butt\" stroke-linejoin=\"round\" stroke-opacity=\"1\" stroke-width=\"3\" id=\"path360\"/>\n",
       "      <path d=\"m 734.972,830.213 0.907,-0.734\" fill=\"none\" stroke=\"#000000\" stroke-linecap=\"butt\" stroke-linejoin=\"round\" stroke-opacity=\"1\" stroke-width=\"3\" id=\"path362\"/>\n",
       "      <path d=\"m 734.988,831.021 1.677,-1.358\" fill=\"none\" stroke=\"#000000\" stroke-linecap=\"butt\" stroke-linejoin=\"round\" stroke-opacity=\"1\" stroke-width=\"3\" id=\"path364\"/>\n",
       "      <path d=\"m 734.994,831.306 1.967,-1.573\" fill=\"none\" stroke=\"#000000\" stroke-linecap=\"butt\" stroke-linejoin=\"round\" stroke-opacity=\"1\" stroke-width=\"3\" id=\"path366\"/>\n",
       "      <path d=\"m 734.952,829.261 0.927,0.218 0.786,0.184 v 0 l 0.296,0.07 9.736,2.285 8.2,1.924\" fill=\"none\" stroke=\"#000000\" stroke-linecap=\"butt\" stroke-linejoin=\"round\" stroke-opacity=\"1\" stroke-width=\"3\" id=\"path368\"/>\n",
       "      <path d=\"m 766.356,859.357 -9.722,-2.339 -9.723,-2.338 -9.723,-2.338 -1.776,-0.427\" fill=\"none\" stroke=\"#000000\" stroke-linecap=\"butt\" stroke-linejoin=\"round\" stroke-opacity=\"1\" stroke-width=\"3\" id=\"path370\"/>\n",
       "      <path d=\"m 769.572,809.946 -9.75,-2.221 -9.751,-2.22 -2.107,-0.48\" fill=\"none\" stroke=\"#000000\" stroke-linecap=\"butt\" stroke-linejoin=\"round\" stroke-opacity=\"1\" stroke-width=\"3\" id=\"path372\"/>\n",
       "      <path d=\"m 791.86,573.177 -3.616,4.013\" fill=\"none\" stroke=\"#000000\" stroke-linecap=\"butt\" stroke-linejoin=\"round\" stroke-opacity=\"1\" stroke-width=\"3\" id=\"path374\"/>\n",
       "      <path d=\"m 769.453,911.064 7.949,-6.067 7.949,-6.067 4.923,-3.757 0.789,-0.603\" fill=\"none\" stroke=\"#000000\" stroke-linecap=\"butt\" stroke-linejoin=\"round\" stroke-opacity=\"1\" stroke-width=\"3\" id=\"path376\"/>\n",
       "      <path d=\"m 796.09,565.67 -4.23,7.507 -1.189,2.109 -4.909,8.713 -0.258,0.459\" fill=\"none\" stroke=\"#000000\" stroke-linecap=\"butt\" stroke-linejoin=\"round\" stroke-opacity=\"1\" stroke-width=\"3\" id=\"path378\"/>\n",
       "      <path d=\"m 807.641,799.252 9.761,2.175 9.761,2.175 1.654,0.368\" fill=\"none\" stroke=\"#000000\" stroke-linecap=\"butt\" stroke-linejoin=\"round\" stroke-opacity=\"1\" stroke-width=\"3\" id=\"path380\"/>\n",
       "      <path d=\"m 840.042,853.925 -4.883,8.727 -4.884,8.726 -1.675,2.992\" fill=\"none\" stroke=\"#000000\" stroke-linecap=\"butt\" stroke-linejoin=\"round\" stroke-opacity=\"1\" stroke-width=\"3\" id=\"path382\"/>\n",
       "      <path d=\"m 838.68,825.683 -9.75,-2.221 -9.75,-2.22 -9.751,-2.22 -1.521,-0.347\" fill=\"none\" stroke=\"#000000\" stroke-linecap=\"butt\" stroke-linejoin=\"round\" stroke-opacity=\"1\" stroke-width=\"3\" id=\"path384\"/>\n",
       "      <path d=\"m 838.194,877.09 7.949,-6.067 7.949,-6.068 7.748,-5.914\" fill=\"none\" stroke=\"#000000\" stroke-linecap=\"butt\" stroke-linejoin=\"round\" stroke-opacity=\"1\" stroke-width=\"3\" id=\"path386\"/>\n",
       "      <path d=\"m 838.823,877.314 4.912,-3.756 7.943,-6.075 7.943,-6.075 2.889,-2.21\" fill=\"none\" stroke=\"#000000\" stroke-linecap=\"butt\" stroke-linejoin=\"round\" stroke-opacity=\"1\" stroke-width=\"3\" id=\"path388\"/>\n",
       "      <path d=\"m 843.735,873.558 7.974,-6.035 7.973,-6.035 2.979,-2.254\" fill=\"none\" stroke=\"#000000\" stroke-linecap=\"butt\" stroke-linejoin=\"round\" stroke-opacity=\"1\" stroke-width=\"3\" id=\"path390\"/>\n",
       "      <path d=\"m 870.369,861.043 0.081,9.999 0.081,10 0.081,10 0.028,3.492 0.036,4.38\" fill=\"none\" stroke=\"#000000\" stroke-linecap=\"butt\" stroke-linejoin=\"round\" stroke-opacity=\"1\" stroke-width=\"3\" id=\"path392\"/>\n",
       "      <path d=\"m 759.68,887.583 7.945,1.971\" fill=\"none\" stroke=\"#000000\" stroke-linecap=\"butt\" stroke-linejoin=\"round\" stroke-opacity=\"1\" stroke-width=\"3\" id=\"path394\"/>\n",
       "      <path d=\"m 870.64,894.534 -4.422,-1.075\" fill=\"none\" stroke=\"#000000\" stroke-linecap=\"butt\" stroke-linejoin=\"round\" stroke-opacity=\"1\" stroke-width=\"3\" id=\"path396\"/>\n",
       "      <path d=\"m 900.463,793.124 3.849,-2.466\" fill=\"none\" stroke=\"#000000\" stroke-linecap=\"butt\" stroke-linejoin=\"round\" stroke-opacity=\"1\" stroke-width=\"3\" id=\"path398\"/>\n",
       "      <path d=\"m 907.099,821.415 -4.966,8.679 -4.966,8.68 -0.115,0.201\" fill=\"none\" stroke=\"#000000\" stroke-linecap=\"butt\" stroke-linejoin=\"round\" stroke-opacity=\"1\" stroke-width=\"3\" id=\"path400\"/>\n",
       "      <path d=\"m 905.986,794.318 -0.991,-0.214 -4.532,-0.98 -7.552,-1.633 -9.775,-2.114 -7.698,-1.665\" fill=\"none\" stroke=\"#000000\" stroke-linecap=\"butt\" stroke-linejoin=\"round\" stroke-opacity=\"1\" stroke-width=\"3\" id=\"path402\"/>\n",
       "      <path d=\"m 907.886,841.812 7.973,-6.037 7.973,-6.036 4.689,-3.551\" fill=\"none\" stroke=\"#000000\" stroke-linecap=\"butt\" stroke-linejoin=\"round\" stroke-opacity=\"1\" stroke-width=\"3\" id=\"path404\"/>\n",
       "      <path d=\"m 908.512,841.994 4.338,-3.292 7.967,-6.044 7.966,-6.045 0.373,-0.283\" fill=\"none\" stroke=\"#000000\" stroke-linecap=\"butt\" stroke-linejoin=\"round\" stroke-opacity=\"1\" stroke-width=\"3\" id=\"path406\"/>\n",
       "      <path d=\"m 912.85,838.702 7.996,-6.006 7.995,-6.005 0.443,-0.333\" fill=\"none\" stroke=\"#000000\" stroke-linecap=\"butt\" stroke-linejoin=\"round\" stroke-opacity=\"1\" stroke-width=\"3\" id=\"path408\"/>\n",
       "      <path d=\"m 930.133,773.045 -8.251,3.83 -7.226,3.354\" fill=\"none\" stroke=\"#000000\" stroke-linecap=\"butt\" stroke-linejoin=\"round\" stroke-opacity=\"1\" stroke-width=\"3\" id=\"path416\"/>\n",
       "      <path d=\"m 923.472,790.56 9.044,-4.268 6.179,-2.916 9.043,-4.268 3.379,-1.594\" fill=\"none\" stroke=\"#000000\" stroke-linecap=\"butt\" stroke-linejoin=\"round\" stroke-opacity=\"1\" stroke-width=\"3\" id=\"path418\"/>\n",
       "      <path d=\"m 937.565,774.632 -9.061,4.23 -2.054,0.959 -8.683,4.054\" fill=\"none\" stroke=\"#000000\" stroke-linecap=\"butt\" stroke-linejoin=\"round\" stroke-opacity=\"1\" stroke-width=\"3\" id=\"path420\"/>\n",
       "      <path d=\"m 985.566,381.575 -0.491,-0.288\" fill=\"none\" stroke=\"#000000\" stroke-linecap=\"butt\" stroke-linejoin=\"round\" stroke-opacity=\"1\" stroke-width=\"3\" id=\"path422\"/>\n",
       "      <path d=\"m 987.478,379.102 0.135,-0.058 0.179,-0.078\" fill=\"none\" stroke=\"#000000\" stroke-linecap=\"butt\" stroke-linejoin=\"round\" stroke-opacity=\"1\" stroke-width=\"3\" id=\"path424\"/>\n",
       "      <path d=\"m 988.764,356.512 -0.025,10 -0.012,5.127 -0.015,5.713 -0.003,1.465 -10e-4,0.069 -0.009,3.768\" fill=\"none\" stroke=\"#000000\" stroke-linecap=\"butt\" stroke-linejoin=\"round\" stroke-opacity=\"1\" stroke-width=\"3\" id=\"path426\"/>\n",
       "      <path d=\"M 992.611,384.582 990.749,384.2\" fill=\"none\" stroke=\"#000000\" stroke-linecap=\"butt\" stroke-linejoin=\"round\" stroke-opacity=\"1\" stroke-width=\"3\" id=\"path428\"/>\n",
       "      <path d=\"m 1029.669,382.788 0.02,-3.423 0.01,-1.372 0.012,-2.09 0.061,-10 0.056,-9.276\" fill=\"none\" stroke=\"#000000\" stroke-linecap=\"butt\" stroke-linejoin=\"round\" stroke-opacity=\"1\" stroke-width=\"3\" id=\"path430\"/>\n",
       "      <path d=\"m 1044.637,797.236 -0.065,8.57 -0.027,3.459\" fill=\"none\" stroke=\"#000000\" stroke-linecap=\"butt\" stroke-linejoin=\"round\" stroke-opacity=\"1\" stroke-width=\"3\" id=\"path432\"/>\n",
       "      <path d=\"m 1044.572,805.806 -9.783,-2.073 -9.783,-2.072 -9.783,-2.073 -9.783,-2.072 -9.783,-2.073 -9.783,-2.072 -9.783,-2.073 -9.782,-2.072 -9.783,-2.072 -9.783,-2.073 -8.048,-1.705\" fill=\"none\" stroke=\"#000000\" stroke-linecap=\"butt\" stroke-linejoin=\"round\" stroke-opacity=\"1\" stroke-width=\"3\" id=\"path434\"/>\n",
       "      <path d=\"m 1063.878,941.487 -9.717,-2.361 -9.717,-2.361 -9.717,-2.361 -9.718,-2.362 -9.717,-2.361 -9.717,-2.361 -9.718,-2.361 -9.717,-2.361 -9.717,-2.361 -9.717,-2.361 -9.718,-2.361 -9.717,-2.361 -9.717,-2.362 -9.717,-2.361 -9.718,-2.361 -9.717,-2.361 -9.717,-2.361 -9.717,-2.361 -5.004,-1.216\" fill=\"none\" stroke=\"#000000\" stroke-linecap=\"butt\" stroke-linejoin=\"round\" stroke-opacity=\"1\" stroke-width=\"3\" id=\"path436\"/>\n",
       "      <path d=\"m 1227.547,820.672 -0.241,9.997 -0.242,9.997 -0.091,3.781 -0.087,3.596\" fill=\"none\" stroke=\"#000000\" stroke-linecap=\"butt\" stroke-linejoin=\"round\" stroke-opacity=\"1\" stroke-width=\"3\" id=\"path438\"/>\n",
       "      <path d=\"m 1109.606,819.583 -9.783,-2.073 -9.783,-2.072 -9.783,-2.072 -9.783,-2.073 -9.782,-2.072 -4.251,-0.901\" fill=\"none\" stroke=\"#000000\" stroke-linecap=\"butt\" stroke-linejoin=\"round\" stroke-opacity=\"1\" stroke-width=\"3\" id=\"path440\"/>\n",
       "      <path d=\"m 1226.973,844.447 -9.783,-2.073 -9.783,-2.072 -9.783,-2.073 -9.782,-2.072 -9.783,-2.073 -9.783,-2.072 -9.783,-2.073 -9.783,-2.072 -9.783,-2.072 -8.449,-1.79\" fill=\"none\" stroke=\"#000000\" stroke-linecap=\"butt\" stroke-linejoin=\"round\" stroke-opacity=\"1\" stroke-width=\"3\" id=\"path442\"/>\n",
       "      <path d=\"m 1228.776,693.613 0.892,-0.061 0.447,-0.03 0.472,-0.032 0.587,-0.04 0.077,-0.006 h 0.01 l 0.235,-0.016 0.075,-0.005 0.572,-0.039 0.262,-0.018 2.354,-0.16 4.277,-0.291\" fill=\"none\" stroke=\"#000000\" stroke-linecap=\"butt\" stroke-linejoin=\"round\" stroke-opacity=\"1\" stroke-width=\"3\" id=\"path444\"/>\n",
       "      <path style=\"fill:#ff0000;stroke:#ff0000;stroke-width:5.70327;stroke-linecap:butt;stroke-linejoin:miter;stroke-miterlimit:4;stroke-dasharray:none;stroke-opacity:1\" d=\"M 1012.2966,686.12402 V 129.40896\" id=\"path1279\"/>\n",
       "      <path style=\"fill:none;stroke:#ff0000;stroke-width:6.2922;stroke-linecap:butt;stroke-linejoin:miter;stroke-miterlimit:4;stroke-dasharray:none;stroke-opacity:1\" d=\"M 1012.2966,686.12402 422.09474,892.38942\" id=\"path1281\"/>\n",
       "      <path style=\"fill:none;stroke:#ff0000;stroke-width:6.2922;stroke-linecap:butt;stroke-linejoin:miter;stroke-miterlimit:4;stroke-dasharray:none;stroke-opacity:1\" d=\"m 1012.2966,686.12402 589.2211,142.36859\" id=\"path1283\"/>\n",
       "      <path style=\"fill:#ff0000;stroke:#ff0000;stroke-width:2.17622px;stroke-linecap:butt;stroke-linejoin:miter;stroke-opacity:1\" d=\"m 1012.2966,100.08418 -13.72511,39.4449 31.72441,0.84038 -17.9993,-40.28528\" id=\"path1285\"/>\n",
       "      <path style=\"fill:#ff0000;stroke:#ff0000;stroke-width:2.17622px;stroke-linecap:butt;stroke-linejoin:miter;stroke-opacity:1\" d=\"m 422.09474,892.38942 35.50313,-25.70628 4.9461,27.41138 z\" id=\"path1287\"/>\n",
       "      <path style=\"fill:#ff0000;stroke:#ff0000;stroke-width:2.17622px;stroke-linecap:butt;stroke-linejoin:miter;stroke-opacity:1\" d=\"m 1601.5177,828.49261 -28.7295,-25.42188 -3.0082,35.54471 31.7377,-10.12283\" id=\"path1289\"/>\n",
       "      <ellipse style=\"fill:none;stroke:#ff0000;stroke-width:6.2922;stroke-linejoin:bevel;stroke-miterlimit:4;stroke-dasharray:none\" id=\"path1291\" cx=\"1008.8899\" cy=\"220.43024\" rx=\"70.600983\" ry=\"32.519066\"/>\n",
       "      <ellipse style=\"fill:none;stroke:#ff0000;stroke-width:6.2922;stroke-linejoin:bevel;stroke-miterlimit:4;stroke-dasharray:none\" id=\"ellipse1293\" cx=\"889.64771\" cy=\"-468.65878\" rx=\"70.600983\" ry=\"32.519066\" transform=\"rotate(85.873577)\"/>\n",
       "      <ellipse style=\"fill:none;stroke:#ff0000;stroke-width:6.2922;stroke-linejoin:bevel;stroke-miterlimit:4;stroke-dasharray:none\" id=\"ellipse1295\" cx=\"727.23926\" cy=\"-1535.2175\" rx=\"70.600983\" ry=\"32.519066\" transform=\"rotate(92.905966)\"/>\n",
       "      <path style=\"fill:#ff0000;stroke:#ff0000;stroke-width:2.17622px;stroke-linecap:butt;stroke-linejoin:miter;stroke-opacity:1\" d=\"m 1013.9463,186.48161 36.2967,-9.46796 -6.9629,32.66493 z\" id=\"path1297\"/>\n",
       "      <path style=\"fill:#ff0000;stroke:#ff0000;stroke-width:2.17622px;stroke-linecap:butt;stroke-linejoin:miter;stroke-opacity:1\" d=\"m 1510.0865,830.32096 30.0161,11.42003 -11.4342,-27.30569 z\" id=\"path1299\"/>\n",
       "      <path style=\"fill:#ff0000;stroke:#ff0000;stroke-width:2.17622px;stroke-linecap:butt;stroke-linejoin:miter;stroke-opacity:1\" d=\"m 499.06579,863.72446 -17.1403,-31.40956 32.52374,0.41066 z\" id=\"path1301\"/>\n",
       "      <text xml:space=\"preserve\" style=\"font-size:63.8358px;line-height:1.25;font-family:sans-serif;-inkscape-font-specification:sans-serif;fill:#ff0000;stroke-width:2.17622\" x=\"1080.6903\" y=\"169.26517\" id=\"text1305\"><tspan sodipodi:role=\"line\" id=\"tspan1303\" x=\"1080.6903\" y=\"169.26517\" style=\"fill:#ff0000;stroke-width:2.17622\">guinada</tspan></text>\n",
       "      <text xml:space=\"preserve\" style=\"font-size:63.8358px;line-height:1.25;font-family:sans-serif;-inkscape-font-specification:sans-serif;fill:#ff0000;stroke-width:2.17622\" x=\"369.91931\" y=\"756.19409\" id=\"text1309\"><tspan sodipodi:role=\"line\" id=\"tspan1307\" x=\"369.91931\" y=\"756.19409\" style=\"fill:#ff0000;stroke-width:2.17622\">arfagem</tspan></text>\n",
       "      <text xml:space=\"preserve\" style=\"font-size:63.8358px;line-height:1.25;font-family:sans-serif;-inkscape-font-specification:sans-serif;fill:#ff0000;stroke-width:2.17622\" x=\"1398.8624\" y=\"697.77594\" id=\"text1313\"><tspan sodipodi:role=\"line\" id=\"tspan1311\" x=\"1398.8624\" y=\"697.77594\" style=\"fill:#ff0000;stroke-width:2.17622\">rolagem</tspan></text>\n",
       "    </g>\n",
       "  </g>\n",
       "</svg>"
      ],
      "text/plain": [
       "<IPython.core.display.SVG object>"
      ]
     },
     "execution_count": 2,
     "metadata": {},
     "output_type": "execute_result"
    }
   ],
   "source": [
    "SVG('helicoptero-Euler-angs.svg')"
   ]
  },
  {
   "cell_type": "code",
   "execution_count": 3,
   "metadata": {
    "slideshow": {
     "slide_type": "subslide"
    }
   },
   "outputs": [],
   "source": [
    "from IPython.display import Video"
   ]
  },
  {
   "cell_type": "code",
   "execution_count": 4,
   "metadata": {
    "slideshow": {
     "slide_type": "subslide"
    }
   },
   "outputs": [
    {
     "data": {
      "text/html": [
       "<video src=\"Helicoptero-Euler-Angs.m4v\" controls  width=\"700\" >\n",
       "      Your browser does not support the <code>video</code> element.\n",
       "    </video>"
      ],
      "text/plain": [
       "<IPython.core.display.Video object>"
      ]
     },
     "execution_count": 4,
     "metadata": {},
     "output_type": "execute_result"
    }
   ],
   "source": [
    "Video('Helicoptero-Euler-Angs.m4v',width=700)"
   ]
  },
  {
   "cell_type": "markdown",
   "metadata": {
    "slideshow": {
     "slide_type": "subslide"
    }
   },
   "source": [
    "### Exemplo 1: \n",
    "Obtenha a orientação, velocidade angular e a aceleração angular do helicóptero. "
   ]
  },
  {
   "cell_type": "code",
   "execution_count": 5,
   "metadata": {
    "slideshow": {
     "slide_type": "subslide"
    }
   },
   "outputs": [],
   "source": [
    "import sympy as sy\n",
    "import sympy.physics.mechanics as me"
   ]
  },
  {
   "cell_type": "code",
   "execution_count": 6,
   "metadata": {
    "slideshow": {
     "slide_type": "subslide"
    }
   },
   "outputs": [
    {
     "data": {
      "image/svg+xml": [
       "<svg xmlns:dc=\"http://purl.org/dc/elements/1.1/\" xmlns:cc=\"http://creativecommons.org/ns#\" xmlns:rdf=\"http://www.w3.org/1999/02/22-rdf-syntax-ns#\" xmlns:svg=\"http://www.w3.org/2000/svg\" xmlns=\"http://www.w3.org/2000/svg\" xmlns:sodipodi=\"http://sodipodi.sourceforge.net/DTD/sodipodi-0.dtd\" xmlns:inkscape=\"http://www.inkscape.org/namespaces/inkscape\" width=\"186.51448mm\" height=\"20.852571mm\" viewBox=\"0 0 186.51448 20.852571\" version=\"1.1\" id=\"svg1321\" inkscape:version=\"1.0.2 (394de47547, 2021-03-26)\" sodipodi:docname=\"angs_euler.svg\">\n",
       "  <defs id=\"defs1315\">\n",
       "    <inkscape:path-effect effect=\"spiro\" id=\"path-effect1974\" is_visible=\"true\" lpeversion=\"1\"/>\n",
       "    <inkscape:path-effect effect=\"simplify\" id=\"path-effect1972\" is_visible=\"true\" lpeversion=\"1\" steps=\"1\" threshold=\"0.00243902\" smooth_angles=\"360\" helper_size=\"0\" simplify_individual_paths=\"false\" simplify_just_coalesce=\"false\"/>\n",
       "  </defs>\n",
       "  <sodipodi:namedview id=\"base\" pagecolor=\"#ffffff\" bordercolor=\"#666666\" borderopacity=\"1.0\" inkscape:pageopacity=\"0.0\" inkscape:pageshadow=\"2\" inkscape:zoom=\"1.979899\" inkscape:cx=\"345.53717\" inkscape:cy=\"67.815656\" inkscape:document-units=\"mm\" inkscape:current-layer=\"layer1\" inkscape:document-rotation=\"0\" showgrid=\"false\" showborder=\"false\" inkscape:snap-smooth-nodes=\"true\" inkscape:window-width=\"1920\" inkscape:window-height=\"1016\" inkscape:window-x=\"0\" inkscape:window-y=\"27\" inkscape:window-maximized=\"1\"/>\n",
       "  <metadata id=\"metadata1318\">\n",
       "    <rdf:RDF>\n",
       "      <cc:Work rdf:about=\"\">\n",
       "        <dc:format>image/svg+xml</dc:format>\n",
       "        <dc:type rdf:resource=\"http://purl.org/dc/dcmitype/StillImage\"/>\n",
       "        <dc:title/>\n",
       "      </cc:Work>\n",
       "    </rdf:RDF>\n",
       "  </metadata>\n",
       "  <g inkscape:label=\"Layer 1\" inkscape:groupmode=\"layer\" id=\"layer1\" transform=\"translate(-11.855135,-127.59459)\">\n",
       "    <circle style=\"fill:#ffffff;stroke:#000000;stroke-width:0.451828;stroke-linejoin:bevel\" id=\"path1884\" cx=\"21.671101\" cy=\"138.6312\" r=\"9.5900517\"/>\n",
       "    <circle style=\"fill:#ffffff;stroke:#000000;stroke-width:0.419328;stroke-linejoin:bevel;stroke-miterlimit:4;stroke-dasharray:none\" id=\"circle1892\" cx=\"77.53421\" cy=\"138.51338\" r=\"8.9002485\"/>\n",
       "    <g id=\"g1926\">\n",
       "      <path style=\"fill:none;stroke:#000000;stroke-width:0.765;stroke-linecap:butt;stroke-linejoin:miter;stroke-miterlimit:4;stroke-dasharray:none;stroke-opacity:1\" d=\"m 31.261152,138.6312 h 32.6133\" id=\"path1894\"/>\n",
       "      <path style=\"fill:#000000;stroke:#000000;stroke-width:0.264583px;stroke-linecap:butt;stroke-linejoin:miter;stroke-opacity:1\" d=\"m 68.633962,138.51338 -4.908383,-2.18834 0.145023,4.62162 4.76336,-2.43328\" id=\"path1896\"/>\n",
       "    </g>\n",
       "    <text xml:space=\"preserve\" style=\"font-size:7.7611px;line-height:1.25;font-family:sans-serif;-inkscape-font-specification:sans-serif;stroke-width:0.264583\" x=\"18.443449\" y=\"140.98978\" id=\"text1900\"><tspan sodipodi:role=\"line\" id=\"tspan1898\" x=\"18.443449\" y=\"140.98978\" style=\"stroke-width:0.264583\">N</tspan></text>\n",
       "    <text xml:space=\"preserve\" style=\"font-size:7.7611px;line-height:1.25;font-family:sans-serif;-inkscape-font-specification:sans-serif;stroke-width:0.264583\" x=\"75.039986\" y=\"140.86853\" id=\"text1904\"><tspan sodipodi:role=\"line\" id=\"tspan1902\" x=\"75.039986\" y=\"140.86853\" style=\"stroke-width:0.264583\">A</tspan></text>\n",
       "    <circle style=\"fill:#ffffff;stroke:#000000;stroke-width:0.451828;stroke-linejoin:bevel\" id=\"circle1906\" cx=\"133.39732\" cy=\"138.39557\" r=\"9.5900517\"/>\n",
       "    <circle style=\"fill:#ffffff;stroke:#000000;stroke-width:0.419328;stroke-linejoin:bevel;stroke-miterlimit:4;stroke-dasharray:none\" id=\"circle1908\" cx=\"189.2597\" cy=\"138.27776\" r=\"8.9002485\"/>\n",
       "    <path style=\"fill:none;stroke:#000000;stroke-width:0.765;stroke-linecap:butt;stroke-linejoin:miter;stroke-miterlimit:4;stroke-dasharray:none;stroke-opacity:1\" d=\"m 142.98755,138.39556 h 32.61348\" id=\"path1910\"/>\n",
       "    <path style=\"fill:#000000;stroke:#000000;stroke-width:0.264583px;stroke-linecap:butt;stroke-linejoin:miter;stroke-opacity:1\" d=\"m 180.36057,138.27774 -4.90841,-2.18834 0.14502,4.62162 4.76339,-2.43328\" id=\"path1912\"/>\n",
       "    <text xml:space=\"preserve\" style=\"font-size:7.7611px;line-height:1.25;font-family:sans-serif;-inkscape-font-specification:sans-serif;stroke-width:0.264583\" x=\"130.16968\" y=\"140.75415\" id=\"text1916\"><tspan sodipodi:role=\"line\" id=\"tspan1914\" x=\"130.16968\" y=\"140.75415\" style=\"stroke-width:0.264583\">B</tspan></text>\n",
       "    <text xml:space=\"preserve\" style=\"font-size:7.7611px;line-height:1.25;font-family:sans-serif;-inkscape-font-specification:sans-serif;stroke-width:0.264583\" x=\"186.7655\" y=\"140.6329\" id=\"text1920\"><tspan sodipodi:role=\"line\" id=\"tspan1918\" x=\"186.7655\" y=\"140.6329\" style=\"stroke-width:0.264583\">C</tspan></text>\n",
       "    <g id=\"g1932\" transform=\"translate(55.173307,-0.11781804)\">\n",
       "      <path style=\"fill:none;stroke:#000000;stroke-width:0.765;stroke-linecap:butt;stroke-linejoin:miter;stroke-miterlimit:4;stroke-dasharray:none;stroke-opacity:1\" d=\"m 31.261152,138.6312 h 32.6133\" id=\"path1928\"/>\n",
       "      <path style=\"fill:#000000;stroke:#000000;stroke-width:0.264583px;stroke-linecap:butt;stroke-linejoin:miter;stroke-opacity:1\" d=\"m 68.633962,138.51338 -4.908383,-2.18834 0.145023,4.62162 4.76336,-2.43328\" id=\"path1930\"/>\n",
       "    </g>\n",
       "    <text xml:space=\"preserve\" style=\"font-size:7.7611px;line-height:1.25;font-family:sans-serif;-inkscape-font-specification:sans-serif;stroke-width:0.264583\" x=\"38.793011\" y=\"133.5876\" id=\"text1936\"><tspan sodipodi:role=\"line\" id=\"tspan1934\" x=\"38.793011\" y=\"133.5876\" style=\"stroke-width:0.264583\">R<tspan style=\"font-size:65%;baseline-shift:sub\" id=\"tspan1940\">x</tspan>(  )</tspan></text>\n",
       "    <text xml:space=\"preserve\" style=\"font-size:7.7611px;line-height:1.25;font-family:sans-serif;-inkscape-font-specification:sans-serif;stroke-width:0.264583\" x=\"93.520454\" y=\"133.48363\" id=\"text1944\"><tspan sodipodi:role=\"line\" id=\"tspan1942\" x=\"93.520454\" y=\"133.48363\" style=\"stroke-width:0.264583\">R<tspan style=\"font-size:65%;baseline-shift:sub\" id=\"tspan1950\">y</tspan>(  )</tspan></text>\n",
       "    <text xml:space=\"preserve\" style=\"font-size:7.7611px;line-height:1.25;font-family:sans-serif;-inkscape-font-specification:sans-serif;stroke-width:0.264583\" x=\"150.35132\" y=\"134.43018\" id=\"text1948\"><tspan sodipodi:role=\"line\" id=\"tspan1946\" x=\"150.35132\" y=\"134.43018\" style=\"stroke-width:0.264583\">R<tspan style=\"font-size:65%;baseline-shift:sub\" id=\"tspan1952\">z</tspan>(  )</tspan></text>\n",
       "    <g id=\"g1960\" transform=\"translate(11.453345,-22.305636)\">\n",
       "      <ellipse style=\"fill:#ffffff;stroke:#000000;stroke-width:0.465;stroke-linejoin:bevel;stroke-miterlimit:4;stroke-dasharray:none\" id=\"path1954\" cx=\"41.039398\" cy=\"153.6757\" rx=\"1.7292383\" ry=\"3.3809416\"/>\n",
       "      <path style=\"fill:none;stroke:#000000;stroke-width:0.465;stroke-linecap:butt;stroke-linejoin:miter;stroke-miterlimit:4;stroke-dasharray:none;stroke-opacity:1\" d=\"m 39.310159,153.6757 h 3.458477\" id=\"path1956\"/>\n",
       "    </g>\n",
       "    <g id=\"g1968\" transform=\"matrix(0.79730008,0,0,0.79730008,75.025366,4.0934849)\">\n",
       "      <ellipse style=\"fill:#ffffff;stroke:#000000;stroke-width:0.465;stroke-linejoin:bevel;stroke-miterlimit:4;stroke-dasharray:none\" id=\"path1962\" cx=\"40.297619\" cy=\"159.83926\" rx=\"2.4688785\" ry=\"2.4580672\"/>\n",
       "      <path style=\"fill:none;stroke:#000000;stroke-width:0.465;stroke-linecap:butt;stroke-linejoin:miter;stroke-miterlimit:4;stroke-dasharray:none;stroke-opacity:1\" d=\"m 37.215659,163.25102 7.129401,-7.60213\" id=\"path1964\"/>\n",
       "    </g>\n",
       "    <path style=\"fill:none;stroke:#000000;stroke-width:0.465;stroke-linecap:butt;stroke-linejoin:miter;stroke-miterlimit:4;stroke-dasharray:none;stroke-opacity:1\" d=\"m 161.97196,129.6705 c 0.91807,0.50935 1.75932,1.15689 2.48662,1.91407 0.17969,0.18707 0.35321,0.38175 0.49484,0.59907 0.14162,0.21732 0.25104,0.45889 0.29292,0.71488 0.0537,0.32852 -0.0113,0.68126 -0.20698,0.95054 -0.13435,0.18485 -0.3243,0.32475 -0.53114,0.42189 -0.20684,0.0971 -0.43072,0.15336 -0.65603,0.1915 -0.2032,0.0344 -0.41011,0.0546 -0.61548,0.0374 -0.20538,-0.0171 -0.40991,-0.0728 -0.58501,-0.18148 -0.0979,-0.0608 -0.18622,-0.1381 -0.25447,-0.23097 -0.0683,-0.0929 -0.11605,-0.20156 -0.1323,-0.31566 -0.0218,-0.1534 0.0139,-0.31099 0.0792,-0.45149 0.0653,-0.1405 0.15916,-0.26576 0.25809,-0.38501 0.43083,-0.51929 0.96701,-0.94107 1.52224,-1.32447 0.67621,-0.46693 1.38736,-0.88327 2.12552,-1.24439\" id=\"path1970\" inkscape:path-effect=\"#path-effect1972;#path-effect1974\" inkscape:original-d=\"m 161.97196,129.6705 c 9.96156,6.12087 -6.8645,6.48527 4.27803,0.69592\"/>\n",
       "  </g>\n",
       "</svg>"
      ],
      "text/plain": [
       "<IPython.core.display.SVG object>"
      ]
     },
     "execution_count": 6,
     "metadata": {},
     "output_type": "execute_result"
    }
   ],
   "source": [
    "SVG('angs_euler.svg')"
   ]
  },
  {
   "cell_type": "code",
   "execution_count": 7,
   "metadata": {
    "slideshow": {
     "slide_type": "fragment"
    }
   },
   "outputs": [],
   "source": [
    "theta,phi,gamma = me.dynamicsymbols('theta phi gamma')"
   ]
  },
  {
   "cell_type": "code",
   "execution_count": 8,
   "metadata": {
    "slideshow": {
     "slide_type": "subslide"
    }
   },
   "outputs": [],
   "source": [
    "N = me.ReferenceFrame('N')\n",
    "A = me.ReferenceFrame('A')\n",
    "B = me.ReferenceFrame('B')\n",
    "C = me.ReferenceFrame('C')"
   ]
  },
  {
   "cell_type": "code",
   "execution_count": 9,
   "metadata": {
    "slideshow": {
     "slide_type": "fragment"
    }
   },
   "outputs": [],
   "source": [
    "A.orient(N,'Axis',[theta,N.x])\n",
    "B.orient(A,'Axis',[phi,A.y])\n",
    "C.orient(B,'Axis',[gamma,B.z])"
   ]
  },
  {
   "cell_type": "markdown",
   "metadata": {
    "slideshow": {
     "slide_type": "subslide"
    }
   },
   "source": [
    "**Orientação**"
   ]
  },
  {
   "cell_type": "code",
   "execution_count": 10,
   "metadata": {
    "slideshow": {
     "slide_type": "fragment"
    }
   },
   "outputs": [
    {
     "data": {
      "text/latex": [
       "$\\displaystyle \\left[\\begin{matrix}\\cos{\\left(\\gamma{\\left(t \\right)} \\right)} \\cos{\\left(\\phi{\\left(t \\right)} \\right)} & \\sin{\\left(\\gamma{\\left(t \\right)} \\right)} \\cos{\\left(\\theta{\\left(t \\right)} \\right)} + \\sin{\\left(\\phi{\\left(t \\right)} \\right)} \\sin{\\left(\\theta{\\left(t \\right)} \\right)} \\cos{\\left(\\gamma{\\left(t \\right)} \\right)} & \\sin{\\left(\\gamma{\\left(t \\right)} \\right)} \\sin{\\left(\\theta{\\left(t \\right)} \\right)} - \\sin{\\left(\\phi{\\left(t \\right)} \\right)} \\cos{\\left(\\gamma{\\left(t \\right)} \\right)} \\cos{\\left(\\theta{\\left(t \\right)} \\right)}\\\\- \\sin{\\left(\\gamma{\\left(t \\right)} \\right)} \\cos{\\left(\\phi{\\left(t \\right)} \\right)} & - \\sin{\\left(\\gamma{\\left(t \\right)} \\right)} \\sin{\\left(\\phi{\\left(t \\right)} \\right)} \\sin{\\left(\\theta{\\left(t \\right)} \\right)} + \\cos{\\left(\\gamma{\\left(t \\right)} \\right)} \\cos{\\left(\\theta{\\left(t \\right)} \\right)} & \\sin{\\left(\\gamma{\\left(t \\right)} \\right)} \\sin{\\left(\\phi{\\left(t \\right)} \\right)} \\cos{\\left(\\theta{\\left(t \\right)} \\right)} + \\sin{\\left(\\theta{\\left(t \\right)} \\right)} \\cos{\\left(\\gamma{\\left(t \\right)} \\right)}\\\\\\sin{\\left(\\phi{\\left(t \\right)} \\right)} & - \\sin{\\left(\\theta{\\left(t \\right)} \\right)} \\cos{\\left(\\phi{\\left(t \\right)} \\right)} & \\cos{\\left(\\phi{\\left(t \\right)} \\right)} \\cos{\\left(\\theta{\\left(t \\right)} \\right)}\\end{matrix}\\right]$"
      ],
      "text/plain": [
       "Matrix([\n",
       "[ cos(gamma(t))*cos(phi(t)),  sin(gamma(t))*cos(theta(t)) + sin(phi(t))*sin(theta(t))*cos(gamma(t)), sin(gamma(t))*sin(theta(t)) - sin(phi(t))*cos(gamma(t))*cos(theta(t))],\n",
       "[-sin(gamma(t))*cos(phi(t)), -sin(gamma(t))*sin(phi(t))*sin(theta(t)) + cos(gamma(t))*cos(theta(t)), sin(gamma(t))*sin(phi(t))*cos(theta(t)) + sin(theta(t))*cos(gamma(t))],\n",
       "[               sin(phi(t)),                                             -sin(theta(t))*cos(phi(t)),                                             cos(phi(t))*cos(theta(t))]])"
      ]
     },
     "execution_count": 10,
     "metadata": {},
     "output_type": "execute_result"
    }
   ],
   "source": [
    "C.dcm(N)"
   ]
  },
  {
   "cell_type": "markdown",
   "metadata": {
    "slideshow": {
     "slide_type": "subslide"
    }
   },
   "source": [
    "**Velocidade Angular**"
   ]
  },
  {
   "cell_type": "code",
   "execution_count": 11,
   "metadata": {
    "slideshow": {
     "slide_type": "fragment"
    }
   },
   "outputs": [
    {
     "data": {
      "text/latex": [
       "$\\displaystyle \\dot{\\gamma}\\mathbf{\\hat{b}_z} + \\dot{\\phi}\\mathbf{\\hat{a}_y} + \\dot{\\theta}\\mathbf{\\hat{n}_x}$"
      ],
      "text/plain": [
       "theta'*N.x + phi'*A.y + gamma'*B.z"
      ]
     },
     "execution_count": 11,
     "metadata": {},
     "output_type": "execute_result"
    }
   ],
   "source": [
    "C.ang_vel_in(N)"
   ]
  },
  {
   "cell_type": "markdown",
   "metadata": {
    "slideshow": {
     "slide_type": "subslide"
    }
   },
   "source": [
    "**Aceleração Angular**"
   ]
  },
  {
   "cell_type": "code",
   "execution_count": 12,
   "metadata": {
    "slideshow": {
     "slide_type": "fragment"
    }
   },
   "outputs": [
    {
     "data": {
      "text/latex": [
       "$\\displaystyle \\dot{\\gamma} \\dot{\\phi}\\mathbf{\\hat{b}_x} -  \\operatorname{cos}\\left(\\phi\\right) \\dot{\\gamma} \\dot{\\theta}\\mathbf{\\hat{b}_y} + \\ddot{\\gamma}\\mathbf{\\hat{b}_z} + \\ddot{\\phi}\\mathbf{\\hat{a}_y} + \\dot{\\phi} \\dot{\\theta}\\mathbf{\\hat{a}_z} + \\ddot{\\theta}\\mathbf{\\hat{n}_x}$"
      ],
      "text/plain": [
       "theta''*N.x + phi''*A.y + phi'*theta'*A.z + gamma'*phi'*B.x - cos(phi)*gamma'*theta'*B.y + gamma''*B.z"
      ]
     },
     "execution_count": 12,
     "metadata": {},
     "output_type": "execute_result"
    }
   ],
   "source": [
    "C.ang_acc_in(N)"
   ]
  },
  {
   "cell_type": "markdown",
   "metadata": {
    "slideshow": {
     "slide_type": "subslide"
    }
   },
   "source": [
    "Queremos agora obter a velocidade e a aceleração do bico do helicóptero em relação ao referencial inercial. Vamos supor que a distância do bico ao centro de massa seja $L$."
   ]
  },
  {
   "cell_type": "code",
   "execution_count": 13,
   "metadata": {
    "slideshow": {
     "slide_type": "subslide"
    }
   },
   "outputs": [],
   "source": [
    "x,y,z = me.dynamicsymbols('x y z')\n",
    "L = sy.symbols('L')"
   ]
  },
  {
   "cell_type": "code",
   "execution_count": 14,
   "metadata": {
    "slideshow": {
     "slide_type": "fragment"
    }
   },
   "outputs": [],
   "source": [
    "O = me.Point('O')\n",
    "O.set_vel(N,0)"
   ]
  },
  {
   "cell_type": "code",
   "execution_count": 15,
   "metadata": {
    "slideshow": {
     "slide_type": "fragment"
    }
   },
   "outputs": [],
   "source": [
    "P = me.Point('P')\n",
    "pO_CO = x*N.x + y*N.y + z*N.z \n",
    "pPO = pO_CO + L*C.y\n",
    "P.set_pos(O,pPO)\n",
    "P.set_vel(N,pPO.dt(N))"
   ]
  },
  {
   "cell_type": "code",
   "execution_count": 16,
   "metadata": {
    "slideshow": {
     "slide_type": "fragment"
    }
   },
   "outputs": [
    {
     "data": {
      "text/latex": [
       "$\\displaystyle \\dot{x}\\mathbf{\\hat{n}_x} + \\dot{y}\\mathbf{\\hat{n}_y} + \\dot{z}\\mathbf{\\hat{n}_z} -  L \\left(\\operatorname{sin}\\left(\\phi\\right) \\dot{\\theta} + \\dot{\\gamma}\\right)\\mathbf{\\hat{c}_x} + L \\left(\\operatorname{sin}\\left(\\gamma\\right) \\dot{\\phi} + \\operatorname{cos}\\left(\\gamma\\right) \\operatorname{cos}\\left(\\phi\\right) \\dot{\\theta}\\right)\\mathbf{\\hat{c}_z}$"
      ],
      "text/plain": [
       "x'*N.x + y'*N.y + z'*N.z - L*(sin(phi)*theta' + gamma')*C.x + L*(sin(gamma)*phi' + cos(gamma)*cos(phi)*theta')*C.z"
      ]
     },
     "execution_count": 16,
     "metadata": {},
     "output_type": "execute_result"
    }
   ],
   "source": [
    "P.vel(N)"
   ]
  },
  {
   "cell_type": "code",
   "execution_count": 17,
   "metadata": {
    "slideshow": {
     "slide_type": "fragment"
    }
   },
   "outputs": [
    {
     "data": {
      "text/latex": [
       "$\\displaystyle \\ddot{x}\\mathbf{\\hat{n}_x} + \\ddot{y}\\mathbf{\\hat{n}_y} + \\ddot{z}\\mathbf{\\hat{n}_z} + (L \\left(\\operatorname{sin}\\left(\\gamma\\right) \\dot{\\phi} + \\operatorname{cos}\\left(\\gamma\\right) \\operatorname{cos}\\left(\\phi\\right) \\dot{\\theta}\\right) \\left(- \\operatorname{sin}\\left(\\gamma\\right) \\operatorname{cos}\\left(\\phi\\right) \\dot{\\theta} + \\operatorname{cos}\\left(\\gamma\\right) \\dot{\\phi}\\right) - L \\left(\\operatorname{sin}\\left(\\phi\\right) \\ddot{\\theta} + \\operatorname{cos}\\left(\\phi\\right) \\dot{\\phi} \\dot{\\theta} + \\ddot{\\gamma}\\right))\\mathbf{\\hat{c}_x} + (- L \\left(\\operatorname{sin}\\left(\\gamma\\right) \\dot{\\phi} + \\operatorname{cos}\\left(\\gamma\\right) \\operatorname{cos}\\left(\\phi\\right) \\dot{\\theta}\\right)^{2} - L \\left(\\operatorname{sin}\\left(\\phi\\right) \\dot{\\theta} + \\dot{\\gamma}\\right)^{2})\\mathbf{\\hat{c}_y} + (L \\left(\\operatorname{sin}\\left(\\phi\\right) \\dot{\\theta} + \\dot{\\gamma}\\right) \\left(- \\operatorname{sin}\\left(\\gamma\\right) \\operatorname{cos}\\left(\\phi\\right) \\dot{\\theta} + \\operatorname{cos}\\left(\\gamma\\right) \\dot{\\phi}\\right) + L \\left(- \\operatorname{sin}\\left(\\gamma\\right) \\operatorname{cos}\\left(\\phi\\right) \\dot{\\gamma} \\dot{\\theta} + \\operatorname{sin}\\left(\\gamma\\right) \\ddot{\\phi} - \\operatorname{sin}\\left(\\phi\\right) \\operatorname{cos}\\left(\\gamma\\right) \\dot{\\phi} \\dot{\\theta} + \\operatorname{cos}\\left(\\gamma\\right) \\operatorname{cos}\\left(\\phi\\right) \\ddot{\\theta} + \\operatorname{cos}\\left(\\gamma\\right) \\dot{\\gamma} \\dot{\\phi}\\right))\\mathbf{\\hat{c}_z}$"
      ],
      "text/plain": [
       "x''*N.x + y''*N.y + z''*N.z + (L*(sin(gamma)*phi' + cos(gamma)*cos(phi)*theta')*(-sin(gamma)*cos(phi)*theta' + cos(gamma)*phi') - L*(sin(phi)*theta'' + cos(phi)*phi'*theta' + gamma''))*C.x + (-L*(sin(gamma)*phi' + cos(gamma)*cos(phi)*theta')**2 - L*(sin(phi)*theta' + gamma')**2)*C.y + (L*(sin(phi)*theta' + gamma')*(-sin(gamma)*cos(phi)*theta' + cos(gamma)*phi') + L*(-sin(gamma)*cos(phi)*gamma'*theta' + sin(gamma)*phi'' - sin(phi)*cos(gamma)*phi'*theta' + cos(gamma)*cos(phi)*theta'' + cos(gamma)*gamma'*phi'))*C.z"
      ]
     },
     "execution_count": 17,
     "metadata": {},
     "output_type": "execute_result"
    }
   ],
   "source": [
    "P.acc(N)"
   ]
  },
  {
   "cell_type": "markdown",
   "metadata": {
    "slideshow": {
     "slide_type": "slide"
    }
   },
   "source": [
    "## 4.3 Restrições Cinemáticas"
   ]
  },
  {
   "cell_type": "markdown",
   "metadata": {
    "slideshow": {
     "slide_type": "subslide"
    }
   },
   "source": [
    "Em sistemas mecânicos, frequentemente os corpos (**elos**) do sistema são restringidos a se moverem de alguma forma específica para um dado fim. <br>\n",
    "Chamamos o conjunto de **elos** do sistema mecânico de **cadeia cinemática**. Basicamente podemos ter:\n",
    "* Cadeia cinemática aberta\n",
    "* Cadeia cinemática fechada"
   ]
  },
  {
   "cell_type": "markdown",
   "metadata": {
    "slideshow": {
     "slide_type": "subslide"
    }
   },
   "source": [
    "![](https://encrypted-tbn0.gstatic.com/images?q=tbn:ANd9GcTPEwD5jd0h3y0qYiG5gw-456UmpzFMFq-odg&usqp=CAU)"
   ]
  },
  {
   "cell_type": "code",
   "execution_count": 18,
   "metadata": {
    "slideshow": {
     "slide_type": "subslide"
    }
   },
   "outputs": [
    {
     "data": {
      "image/svg+xml": [
       "<svg xmlns:osb=\"http://www.openswatchbook.org/uri/2009/osb\" xmlns:dc=\"http://purl.org/dc/elements/1.1/\" xmlns:cc=\"http://creativecommons.org/ns#\" xmlns:rdf=\"http://www.w3.org/1999/02/22-rdf-syntax-ns#\" xmlns:svg=\"http://www.w3.org/2000/svg\" xmlns=\"http://www.w3.org/2000/svg\" xmlns:sodipodi=\"http://sodipodi.sourceforge.net/DTD/sodipodi-0.dtd\" xmlns:inkscape=\"http://www.inkscape.org/namespaces/inkscape\" width=\"187.1248mm\" height=\"137.60519mm\" viewBox=\"0 0 663.04064 487.57746\" id=\"svg5217\" version=\"1.1\" inkscape:version=\"1.0.1 (3bc2e813f5, 2020-09-07)\" sodipodi:docname=\"robo-pv.svg\">\n",
       "  <defs id=\"defs5219\">\n",
       "    <marker inkscape:isstock=\"true\" style=\"overflow:visible\" id=\"marker5864\" refX=\"0\" refY=\"0\" orient=\"auto\" inkscape:stockid=\"TriangleOutL\">\n",
       "      <path transform=\"scale(0.8)\" style=\"fill:#000000;fill-opacity:1;fill-rule:evenodd;stroke:#000000;stroke-width:1pt;stroke-opacity:1\" d=\"M 5.77,0 -2.88,5 V -5 Z\" id=\"path5866\"/>\n",
       "    </marker>\n",
       "    <marker inkscape:stockid=\"TriangleInL\" orient=\"auto\" refY=\"0\" refX=\"0\" id=\"marker5722\" style=\"overflow:visible\" inkscape:isstock=\"true\">\n",
       "      <path id=\"path5724\" d=\"M 5.77,0 -2.88,5 V -5 Z\" style=\"fill:#000000;fill-opacity:1;fill-rule:evenodd;stroke:#000000;stroke-width:1pt;stroke-opacity:1\" transform=\"scale(-0.8)\"/>\n",
       "    </marker>\n",
       "    <marker inkscape:stockid=\"TriangleOutL\" orient=\"auto\" refY=\"0\" refX=\"0\" id=\"marker5584\" style=\"overflow:visible\" inkscape:isstock=\"true\" inkscape:collect=\"always\">\n",
       "      <path id=\"path5586\" d=\"M 5.77,0 -2.88,5 V -5 Z\" style=\"fill:#000000;fill-opacity:1;fill-rule:evenodd;stroke:#000000;stroke-width:1pt;stroke-opacity:1\" transform=\"scale(0.8)\"/>\n",
       "    </marker>\n",
       "    <marker inkscape:isstock=\"true\" style=\"overflow:visible\" id=\"marker5454\" refX=\"0\" refY=\"0\" orient=\"auto\" inkscape:stockid=\"TriangleInL\" inkscape:collect=\"always\">\n",
       "      <path transform=\"scale(-0.8)\" style=\"fill:#000000;fill-opacity:1;fill-rule:evenodd;stroke:#000000;stroke-width:1pt;stroke-opacity:1\" d=\"M 5.77,0 -2.88,5 V -5 Z\" id=\"path5456\"/>\n",
       "    </marker>\n",
       "    <marker inkscape:isstock=\"true\" style=\"overflow:visible\" id=\"marker5326\" refX=\"0\" refY=\"0\" orient=\"auto\" inkscape:stockid=\"TriangleOutL\" inkscape:collect=\"always\">\n",
       "      <path transform=\"scale(0.8)\" style=\"fill:#000000;fill-opacity:1;fill-rule:evenodd;stroke:#000000;stroke-width:1pt;stroke-opacity:1\" d=\"M 5.77,0 -2.88,5 V -5 Z\" id=\"path5328\"/>\n",
       "    </marker>\n",
       "    <marker inkscape:stockid=\"TriangleInL\" orient=\"auto\" refY=\"0\" refX=\"0\" id=\"marker5208\" style=\"overflow:visible\" inkscape:isstock=\"true\" inkscape:collect=\"always\">\n",
       "      <path id=\"path5210\" d=\"M 5.77,0 -2.88,5 V -5 Z\" style=\"fill:#000000;fill-opacity:1;fill-rule:evenodd;stroke:#000000;stroke-width:1pt;stroke-opacity:1\" transform=\"scale(-0.8)\"/>\n",
       "    </marker>\n",
       "    <marker inkscape:stockid=\"TriangleOutL\" orient=\"auto\" refY=\"0\" refX=\"0\" id=\"marker5094\" style=\"overflow:visible\" inkscape:isstock=\"true\" inkscape:collect=\"always\">\n",
       "      <path id=\"path5096\" d=\"M 5.77,0 -2.88,5 V -5 Z\" style=\"fill:#000000;fill-opacity:1;fill-rule:evenodd;stroke:#000000;stroke-width:1pt;stroke-opacity:1\" transform=\"scale(0.8)\"/>\n",
       "    </marker>\n",
       "    <marker inkscape:isstock=\"true\" style=\"overflow:visible\" id=\"marker4988\" refX=\"0\" refY=\"0\" orient=\"auto\" inkscape:stockid=\"TriangleInL\" inkscape:collect=\"always\">\n",
       "      <path transform=\"scale(-0.8)\" style=\"fill:#000000;fill-opacity:1;fill-rule:evenodd;stroke:#000000;stroke-width:1pt;stroke-opacity:1\" d=\"M 5.77,0 -2.88,5 V -5 Z\" id=\"path4990\"/>\n",
       "    </marker>\n",
       "    <marker inkscape:isstock=\"true\" style=\"overflow:visible\" id=\"marker4886\" refX=\"0\" refY=\"0\" orient=\"auto\" inkscape:stockid=\"TriangleOutL\" inkscape:collect=\"always\">\n",
       "      <path transform=\"scale(0.8)\" style=\"fill:#000000;fill-opacity:1;fill-rule:evenodd;stroke:#000000;stroke-width:1pt;stroke-opacity:1\" d=\"M 5.77,0 -2.88,5 V -5 Z\" id=\"path4888\"/>\n",
       "    </marker>\n",
       "    <marker inkscape:stockid=\"TriangleInL\" orient=\"auto\" refY=\"0\" refX=\"0\" id=\"marker4792\" style=\"overflow:visible\" inkscape:isstock=\"true\" inkscape:collect=\"always\">\n",
       "      <path id=\"path4794\" d=\"M 5.77,0 -2.88,5 V -5 Z\" style=\"fill:#000000;fill-opacity:1;fill-rule:evenodd;stroke:#000000;stroke-width:1pt;stroke-opacity:1\" transform=\"scale(-0.8)\"/>\n",
       "    </marker>\n",
       "    <marker inkscape:isstock=\"true\" style=\"overflow:visible\" id=\"marker4702\" refX=\"0\" refY=\"0\" orient=\"auto\" inkscape:stockid=\"TriangleOutL\">\n",
       "      <path transform=\"scale(0.8)\" style=\"fill:#000000;fill-opacity:1;fill-rule:evenodd;stroke:#000000;stroke-width:1pt;stroke-opacity:1\" d=\"M 5.77,0 -2.88,5 V -5 Z\" id=\"path4704\"/>\n",
       "    </marker>\n",
       "    <marker inkscape:isstock=\"true\" style=\"overflow:visible\" id=\"marker4620\" refX=\"0\" refY=\"0\" orient=\"auto\" inkscape:stockid=\"TriangleInL\" inkscape:collect=\"always\">\n",
       "      <path transform=\"scale(-0.8)\" style=\"fill:#000000;fill-opacity:1;fill-rule:evenodd;stroke:#000000;stroke-width:1pt;stroke-opacity:1\" d=\"M 5.77,0 -2.88,5 V -5 Z\" id=\"path4622\"/>\n",
       "    </marker>\n",
       "    <linearGradient id=\"linearGradient4260\" osb:paint=\"solid\">\n",
       "      <stop style=\"stop-color:#800080;stop-opacity:1;\" offset=\"0\" id=\"stop4262\"/>\n",
       "    </linearGradient>\n",
       "    <marker inkscape:stockid=\"TriangleOutL\" orient=\"auto\" refY=\"0\" refX=\"0\" id=\"marker9112\" style=\"overflow:visible\" inkscape:isstock=\"true\" inkscape:collect=\"always\">\n",
       "      <path id=\"path9114\" d=\"M 5.77,0 -2.88,5 V -5 Z\" style=\"fill:#000000;fill-opacity:1;fill-rule:evenodd;stroke:#000000;stroke-width:1pt;stroke-opacity:1\" transform=\"scale(0.8)\"/>\n",
       "    </marker>\n",
       "    <marker inkscape:stockid=\"TriangleInL\" orient=\"auto\" refY=\"0\" refX=\"0\" id=\"marker9042\" style=\"overflow:visible\" inkscape:isstock=\"true\" inkscape:collect=\"always\">\n",
       "      <path id=\"path9044\" d=\"M 5.77,0 -2.88,5 V -5 Z\" style=\"fill:#000000;fill-opacity:1;fill-rule:evenodd;stroke:#000000;stroke-width:1pt;stroke-opacity:1\" transform=\"scale(-0.8)\"/>\n",
       "    </marker>\n",
       "    <marker inkscape:stockid=\"TriangleOutL\" orient=\"auto\" refY=\"0\" refX=\"0\" id=\"marker8976\" style=\"overflow:visible\" inkscape:isstock=\"true\">\n",
       "      <path id=\"path8978\" d=\"M 5.77,0 -2.88,5 V -5 Z\" style=\"fill:#000000;fill-opacity:1;fill-rule:evenodd;stroke:#000000;stroke-width:1pt;stroke-opacity:1\" transform=\"scale(0.8)\"/>\n",
       "    </marker>\n",
       "    <marker inkscape:stockid=\"TriangleInL\" orient=\"auto\" refY=\"0\" refX=\"0\" id=\"marker8918\" style=\"overflow:visible\" inkscape:isstock=\"true\">\n",
       "      <path id=\"path8920\" d=\"M 5.77,0 -2.88,5 V -5 Z\" style=\"fill:#000000;fill-opacity:1;fill-rule:evenodd;stroke:#000000;stroke-width:1pt;stroke-opacity:1\" transform=\"scale(-0.8)\"/>\n",
       "    </marker>\n",
       "    <marker inkscape:isstock=\"true\" style=\"overflow:visible\" id=\"marker7084\" refX=\"0\" refY=\"0\" orient=\"auto\" inkscape:stockid=\"TriangleOutL\" inkscape:collect=\"always\">\n",
       "      <path transform=\"scale(0.8)\" style=\"fill:#000000;fill-opacity:1;fill-rule:evenodd;stroke:#000000;stroke-width:1pt;stroke-opacity:1\" d=\"M 5.77,0 -2.88,5 V -5 Z\" id=\"path7086\"/>\n",
       "    </marker>\n",
       "    <marker inkscape:isstock=\"true\" style=\"overflow:visible\" id=\"marker7056\" refX=\"0\" refY=\"0\" orient=\"auto\" inkscape:stockid=\"TriangleInL\" inkscape:collect=\"always\">\n",
       "      <path transform=\"scale(-0.8)\" style=\"fill:#000000;fill-opacity:1;fill-rule:evenodd;stroke:#000000;stroke-width:1pt;stroke-opacity:1\" d=\"M 5.77,0 -2.88,5 V -5 Z\" id=\"path7058\"/>\n",
       "    </marker>\n",
       "    <marker inkscape:stockid=\"TriangleOutL\" orient=\"auto\" refY=\"0\" refX=\"0\" id=\"TriangleOutL\" style=\"overflow:visible\" inkscape:isstock=\"true\" inkscape:collect=\"always\">\n",
       "      <path id=\"path6096\" d=\"M 5.77,0 -2.88,5 V -5 Z\" style=\"fill:#000000;fill-opacity:1;fill-rule:evenodd;stroke:#000000;stroke-width:1pt;stroke-opacity:1\" transform=\"scale(0.8)\"/>\n",
       "    </marker>\n",
       "    <marker inkscape:stockid=\"TriangleInL\" orient=\"auto\" refY=\"0\" refX=\"0\" id=\"TriangleInL\" style=\"overflow:visible\" inkscape:isstock=\"true\" inkscape:collect=\"always\">\n",
       "      <path id=\"path6087\" d=\"M 5.77,0 -2.88,5 V -5 Z\" style=\"fill:#000000;fill-opacity:1;fill-rule:evenodd;stroke:#000000;stroke-width:1pt;stroke-opacity:1\" transform=\"scale(-0.8)\"/>\n",
       "    </marker>\n",
       "    <inkscape:perspective sodipodi:type=\"inkscape:persp3d\" inkscape:vp_x=\"-14.931397 : 145.64698 : 1\" inkscape:vp_y=\"0 : 654.78273 : 0\" inkscape:vp_z=\"545.04363 : 145.64698 : 1\" inkscape:persp3d-origin=\"265.05612 : 30.802217 : 1\" id=\"perspective5914\"/>\n",
       "  </defs>\n",
       "  <sodipodi:namedview id=\"base\" pagecolor=\"#ffffff\" bordercolor=\"#666666\" borderopacity=\"1.0\" inkscape:pageopacity=\"0.0\" inkscape:pageshadow=\"2\" inkscape:zoom=\"1.4980205\" inkscape:cx=\"286.15501\" inkscape:cy=\"110.46968\" inkscape:document-units=\"px\" inkscape:current-layer=\"layer1\" showgrid=\"false\" inkscape:window-width=\"1920\" inkscape:window-height=\"1017\" inkscape:window-x=\"-8\" inkscape:window-y=\"-8\" inkscape:window-maximized=\"1\" inkscape:snap-bbox=\"true\" showguides=\"false\" inkscape:document-rotation=\"0\"/>\n",
       "  <metadata id=\"metadata5222\">\n",
       "    <rdf:RDF>\n",
       "      <cc:Work rdf:about=\"\">\n",
       "        <dc:format>image/svg+xml</dc:format>\n",
       "        <dc:type rdf:resource=\"http://purl.org/dc/dcmitype/StillImage\"/>\n",
       "        <dc:title/>\n",
       "      </cc:Work>\n",
       "    </rdf:RDF>\n",
       "  </metadata>\n",
       "  <g inkscape:label=\"Camada 1\" inkscape:groupmode=\"layer\" id=\"layer1\" transform=\"translate(-134.34708,-94.206875)\">\n",
       "    <ellipse ry=\"10.766929\" rx=\"14.152756\" cy=\"472.79633\" cx=\"488.97369\" id=\"ellipse4568\" style=\"fill:#ffffff;fill-opacity:1;stroke:#1a1a1a;stroke-width:1.41732;stroke-miterlimit:4;stroke-dasharray:none;stroke-opacity:0.980392\"/>\n",
       "    <g id=\"g4592\" transform=\"translate(-32.03489,-32.658647)\" style=\"stroke-width:1.41732;stroke-miterlimit:4;stroke-dasharray:none\">\n",
       "      <ellipse style=\"fill:#ffffff;fill-opacity:1;stroke:#1a1a1a;stroke-width:1.41732;stroke-miterlimit:4;stroke-dasharray:none;stroke-opacity:0.980392\" id=\"ellipse4594\" cx=\"596.99731\" cy=\"375.8815\" rx=\"14.152756\" ry=\"10.766929\"/>\n",
       "      <path style=\"fill:none;fill-rule:evenodd;stroke:#000000;stroke-width:1.41732;stroke-linecap:butt;stroke-linejoin:miter;stroke-miterlimit:4;stroke-dasharray:none;stroke-opacity:1\" d=\"m 582.25511,375.10757 -6.89512,24.13295 21.83456,7.27819 23.36682,-9.19351 -9.1935,-23.36681\" id=\"path4596\" inkscape:connector-curvature=\"0\"/>\n",
       "    </g>\n",
       "    <path style=\"fill:none;fill-rule:evenodd;stroke:#000000;stroke-width:1.41732;stroke-linecap:butt;stroke-linejoin:miter;stroke-miterlimit:4;stroke-dasharray:none;stroke-opacity:1\" d=\"M 135.93923,423.36773 422.51381,566.65502 795.79558,382.21856 509.22099,238.93127 Z\" id=\"path4514\" inkscape:connector-curvature=\"0\"/>\n",
       "    <path inkscape:connector-curvature=\"0\" id=\"path9386\" d=\"m 349.27376,292.54621 v -62.9206\" style=\"fill:none;fill-rule:evenodd;stroke:#000000;stroke-width:1.41732;stroke-linecap:butt;stroke-linejoin:miter;stroke-miterlimit:4;stroke-dasharray:11.3386, 2.83465, 1.41732, 2.83465;stroke-dashoffset:0;stroke-opacity:1\"/>\n",
       "    <path style=\"fill:none;fill-rule:evenodd;stroke:#000000;stroke-width:1.41732;stroke-linecap:butt;stroke-linejoin:round;stroke-miterlimit:4;stroke-dasharray:none;stroke-opacity:1\" d=\"m 333.15295,196.16627 v 8.72035 c 2.22876,8.63953 15.1473,10.52105 19.22036,8.72035 l 17.79663,-7.29662 v 22.06782 l -13.70341,5.69492 c -10.92027,-1.25588 -19.2372,-3.74493 -21.17799,-9.25425 l 0.35593,8.54239 c 19.31459,9.57489 15.28332,7.29219 21.54657,7.79627 l 92.49931,-37.06432 c 2.88142,-2.11946 3.79916,-9.44196 3.50087,-13.53284 l 0.17798,-34.08056 c 0.7878,5.5433 -0.39802,9.92645 -5.60595,13.16951 l -94.67808,35.41529 z\" id=\"path5845\" inkscape:connector-curvature=\"0\" sodipodi:nodetypes=\"ccccccccccccccc\"/>\n",
       "    <path style=\"fill:#ffffff;fill-rule:evenodd;stroke:#000000;stroke-width:1.41732;stroke-linecap:butt;stroke-linejoin:round;stroke-miterlimit:4;stroke-dasharray:none;stroke-opacity:1\" d=\"m 352.79732,205.13033 95.13594,-35.7389 c 5.54838,-3.42443 6.08717,-8.28016 5.03364,-13.59085 -2.97128,-4.60626 -8.77994,-7.94957 -14.59757,-6.54374 l -96.64604,35.23553 c -4.03208,1.88336 -9.27129,5.0108 -8.62459,11.09562 3.36383,7.49016 15.31384,10.66028 19.69862,9.54234 z\" id=\"path5843\" inkscape:connector-curvature=\"0\" sodipodi:nodetypes=\"ccccccc\"/>\n",
       "    <path style=\"fill:#ffffff;fill-rule:evenodd;stroke:#000000;stroke-width:1.41732;stroke-linecap:butt;stroke-linejoin:round;stroke-miterlimit:4;stroke-dasharray:none;stroke-opacity:1\" d=\"m 367.21458,207.69423 -0.71187,22.06782 -65.96973,58.99512 -0.12584,-21.93828 z\" id=\"path5863\" inkscape:connector-curvature=\"0\" sodipodi:nodetypes=\"ccccc\"/>\n",
       "    <path style=\"fill:#ffffff;fill-rule:evenodd;stroke:#000000;stroke-width:1.41732;stroke-linecap:butt;stroke-linejoin:round;stroke-miterlimit:4;stroke-dasharray:none;stroke-opacity:1\" d=\"m 300.40714,266.81889 -21.35595,-11.38984 54.10176,-49.1187 c 4.44433,4.84198 9.38858,8.9341 18.50849,6.76272 l 15.19722,-5.15141 z\" id=\"path5865\" inkscape:connector-curvature=\"0\" sodipodi:nodetypes=\"cccccc\"/>\n",
       "    <path style=\"fill:#ffffff;fill-rule:evenodd;stroke:#000000;stroke-width:1.41732;stroke-linecap:butt;stroke-linejoin:round;stroke-miterlimit:4;stroke-dasharray:none;stroke-opacity:1\" d=\"m 282.69032,259.99708 14.59757,7.42463 -45.80619,43.79273 -15.10094,-7.0471 z\" id=\"path5869\" inkscape:connector-curvature=\"0\" sodipodi:nodetypes=\"ccccc\"/>\n",
       "    <path style=\"fill:#ffffff;fill-rule:evenodd;stroke:#000000;stroke-width:1.41732;stroke-linecap:butt;stroke-linejoin:round;stroke-miterlimit:4;stroke-dasharray:none;stroke-opacity:1\" d=\"m 297.41373,267.54755 1e-5,17.7436 -45.80619,42.91185 -0.12586,-17.49192 z\" id=\"path5871\" inkscape:connector-curvature=\"0\" sodipodi:nodetypes=\"ccccc\"/>\n",
       "    <path style=\"fill:none;fill-rule:evenodd;stroke:#000000;stroke-width:1.41732;stroke-linecap:butt;stroke-linejoin:miter;stroke-miterlimit:4;stroke-dasharray:none;stroke-opacity:1\" d=\"m 278.9622,255.60701 v 7.83052\" id=\"path5877\" inkscape:connector-curvature=\"0\"/>\n",
       "    <path style=\"fill:none;fill-rule:evenodd;stroke:#000000;stroke-width:1.41732;stroke-linecap:butt;stroke-linejoin:miter;stroke-miterlimit:4;stroke-dasharray:none;stroke-opacity:1\" d=\"m 300.31816,288.79773 -4.09322,-2.93644\" id=\"path5879\" inkscape:connector-curvature=\"0\"/>\n",
       "    <path style=\"fill:#ffffff;fill-opacity:1;stroke:#000000;stroke-width:1.41732;stroke-linecap:round;stroke-linejoin:round;stroke-miterlimit:4;stroke-dasharray:none;stroke-opacity:0.980392\" d=\"m 231.85518,302.36454 c -2.55525,-0.0364 -5.00668,0.922 -7.3586,2.92647 -4.25731,3.62789 -5.28331,8.46844 -2.75725,11.43219 0.66565,0.77409 1.21922,1.33187 2.2592,2.13813 l 19.02539,11.31445 13.10352,-16.48633 -19.50391,-9.76562 c -1.65915,-0.86533 -2.76356,-1.39952 -4.76835,-1.55929 z\" id=\"ellipse5885\" inkscape:connector-curvature=\"0\" sodipodi:nodetypes=\"cccccccc\"/>\n",
       "    <ellipse style=\"fill:#ffffff;fill-opacity:1;stroke:#000000;stroke-width:1.41732;stroke-linecap:round;stroke-linejoin:round;stroke-miterlimit:4;stroke-dasharray:none;stroke-opacity:0.980392\" id=\"path5883\" transform=\"rotate(49.561753)\" ry=\"10.904187\" rx=\"8.2782822\" cy=\"18.844172\" cx=\"407.8728\"/>\n",
       "    <path style=\"fill:none;fill-rule:evenodd;stroke:#000000;stroke-width:1.41732;stroke-linecap:butt;stroke-linejoin:miter;stroke-miterlimit:4;stroke-dasharray:none;stroke-opacity:1\" d=\"m 231.00028,322.52235 v 61.22041 h 1.6017 v -59.61871\" id=\"path5892\" inkscape:connector-curvature=\"0\"/>\n",
       "    <path style=\"fill:#ffffff;fill-opacity:1;stroke:#000000;stroke-width:1.41732;stroke-linecap:round;stroke-linejoin:round;stroke-miterlimit:4;stroke-dasharray:none;stroke-opacity:0.980392\" id=\"path5938\" sodipodi:type=\"arc\" sodipodi:cx=\"230.98306\" sodipodi:cy=\"409.99979\" sodipodi:rx=\"29.195156\" sodipodi:ry=\"28.691792\" sodipodi:start=\"6.194163\" sodipodi:end=\"6.1469142\" d=\"m 260.06261,407.44895 a 29.195156,28.691792 0 0 1 -26.14065,31.09689 29.195156,28.691792 0 0 1 -31.94902,-25.32085 29.195156,28.691792 0 0 1 25.3859,-31.69506 29.195156,28.691792 0 0 1 32.54872,24.57208 l -28.9245,3.89778 z\" sodipodi:arc-type=\"slice\"/>\n",
       "    <path style=\"fill:none;fill-rule:evenodd;stroke:#000000;stroke-width:1.41732;stroke-linecap:butt;stroke-linejoin:miter;stroke-miterlimit:4;stroke-dasharray:none;stroke-opacity:1\" d=\"m 227.88587,321.1876 c 1.28548,-7.24111 4.8905,-12.6266 12.10171,-15.12713\" id=\"path5940\" inkscape:connector-curvature=\"0\" sodipodi:nodetypes=\"cc\"/>\n",
       "    <path style=\"fill:none;fill-rule:evenodd;stroke:#000000;stroke-width:1.41732;stroke-linecap:butt;stroke-linejoin:miter;stroke-miterlimit:4;stroke-dasharray:none;stroke-opacity:1\" d=\"m 229.22062,322.16642 c 1.83191,-7.42876 5.85341,-12.76745 12.90256,-15.21612\" id=\"path5942\" inkscape:connector-curvature=\"0\" sodipodi:nodetypes=\"cc\"/>\n",
       "    <path style=\"fill:none;fill-rule:evenodd;stroke:#000000;stroke-width:1.41732;stroke-linecap:butt;stroke-linejoin:miter;stroke-miterlimit:4;stroke-dasharray:none;stroke-opacity:1\" d=\"m 231.26723,322.96726 c 1.29956,-7.015 4.93993,-12.40034 12.36866,-15.12713\" id=\"path5944\" inkscape:connector-curvature=\"0\" sodipodi:nodetypes=\"cc\"/>\n",
       "    <path style=\"fill:none;fill-rule:evenodd;stroke:#000000;stroke-width:1.41732;stroke-linecap:butt;stroke-linejoin:miter;stroke-miterlimit:4;stroke-dasharray:none;stroke-opacity:1\" d=\"m 233.58079,324.56897 c 1.94517,-9.20093 7.10153,-13.82391 13.08052,-15.48307\" id=\"path5946\" inkscape:connector-curvature=\"0\" sodipodi:nodetypes=\"cc\"/>\n",
       "    <path sodipodi:nodetypes=\"cc\" inkscape:connector-curvature=\"0\" id=\"path7054\" d=\"m 377.82209,175.20542 c -9.06646,-29.28021 -80.98084,-5.59992 -57.59003,32.59052\" style=\"fill:none;fill-rule:evenodd;stroke:#000000;stroke-width:1.41732;stroke-linecap:butt;stroke-linejoin:miter;stroke-miterlimit:4;stroke-dasharray:none;stroke-opacity:1;marker-start:url(#marker7056);marker-end:url(#marker7084)\"/>\n",
       "    <path style=\"fill:none;fill-rule:evenodd;stroke:#000000;stroke-width:1.41732;stroke-linecap:butt;stroke-linejoin:miter;stroke-miterlimit:4;stroke-dasharray:11.3386, 2.83465, 1.41732, 2.83465;stroke-dashoffset:0;stroke-opacity:1\" d=\"m 349.27376,192.54621 v -62.9206\" id=\"path8906\" inkscape:connector-curvature=\"0\"/>\n",
       "    <path inkscape:connector-curvature=\"0\" id=\"path8908\" d=\"M 439.20333,157.12748 V 94.206875\" style=\"fill:none;fill-rule:evenodd;stroke:#000000;stroke-width:1.41732;stroke-linecap:butt;stroke-linejoin:miter;stroke-miterlimit:4;stroke-dasharray:11.3386, 2.83465, 1.41732, 2.83465;stroke-dashoffset:0;stroke-opacity:1\"/>\n",
       "    <path style=\"fill:none;fill-rule:evenodd;stroke:#000000;stroke-width:1.41732;stroke-linecap:butt;stroke-linejoin:miter;stroke-miterlimit:4;stroke-dasharray:none;stroke-opacity:1;marker-start:url(#marker8918);marker-end:url(#marker8976)\" d=\"m 230.98305,288.68887 32.71871,-32.7187\" id=\"path8910\" inkscape:connector-curvature=\"0\"/>\n",
       "    <path style=\"fill:none;fill-rule:evenodd;stroke:#000000;stroke-width:1.41732;stroke-linecap:butt;stroke-linejoin:miter;stroke-miterlimit:4;stroke-dasharray:none;stroke-opacity:1;marker-start:url(#marker9042);marker-end:url(#marker9112)\" d=\"m 212.86192,329.96478 v 43.79274\" id=\"path9034\" inkscape:connector-curvature=\"0\"/>\n",
       "    <path style=\"fill:none;fill-rule:evenodd;stroke:#000000;stroke-width:1.41732;stroke-linecap:butt;stroke-linejoin:miter;stroke-miterlimit:4;stroke-dasharray:none;stroke-opacity:1\" d=\"m 332.97046,337.29449 -1.81951,11.82682 58.22434,29.11217 138.28282,-23.65364 38.20972,-40.02923 -0.90975,-12.73658\" id=\"path4246\" inkscape:connector-curvature=\"0\"/>\n",
       "    <path style=\"fill:#ffffff;fill-rule:evenodd;stroke:#000000;stroke-width:1.41732;stroke-linecap:butt;stroke-linejoin:miter;stroke-miterlimit:4;stroke-dasharray:none;stroke-opacity:1\" d=\"m 402.22266,275.65171 -69.2522,61.64278 55.49508,26.38291 137.37306,-21.83413 38.20972,-38.20973 -81.87798,-44.57801 -80.05847,16.3756\" id=\"path4244\" inkscape:connector-curvature=\"0\" sodipodi:nodetypes=\"ccccccc\"/>\n",
       "    <path sodipodi:nodetypes=\"ccccc\" inkscape:connector-curvature=\"0\" id=\"path5902\" d=\"m 448.91108,204.03907 0.50336,97.96766 c -1.30218,3.77918 -5.45223,6.88771 -10.44002,7.88686 -4.70335,0.50255 -11.26198,-0.83407 -14.91428,-4.73388 l 1.65519,-91.68788\" style=\"fill:#ffffff;fill-rule:evenodd;stroke:#000000;stroke-width:1.41732;stroke-linecap:butt;stroke-linejoin:miter;stroke-miterlimit:4;stroke-dasharray:none;stroke-opacity:1\"/>\n",
       "    <path style=\"fill:none;fill-rule:evenodd;stroke:#000000;stroke-width:1.41732;stroke-linecap:butt;stroke-linejoin:miter;stroke-miterlimit:4;stroke-dasharray:none;stroke-opacity:1;marker-start:url(#TriangleInL);marker-end:url(#TriangleOutL)\" d=\"m 406.39825,252.11598 c 13.80419,19.5117 56.86925,6.74502 61.4105,-26.17497\" id=\"path5948\" inkscape:connector-curvature=\"0\" sodipodi:nodetypes=\"cc\"/>\n",
       "    <path style=\"fill:none;fill-rule:evenodd;stroke:#000000;stroke-width:1.41732;stroke-linecap:butt;stroke-linejoin:miter;stroke-miterlimit:4;stroke-dasharray:none;stroke-opacity:1\" d=\"m 388.46554,363.6774 0.90975,13.64633\" id=\"path4250\" inkscape:connector-curvature=\"0\"/>\n",
       "    <path style=\"fill:none;fill-rule:evenodd;stroke:#000000;stroke-width:1.41732;stroke-linecap:butt;stroke-linejoin:miter;stroke-miterlimit:4;stroke-dasharray:none;stroke-opacity:1\" d=\"m 524.92884,341.84327 4.54878,14.55608\" id=\"path4252\" inkscape:connector-curvature=\"0\"/>\n",
       "    <ellipse style=\"fill:#ffffff;fill-opacity:1;stroke:#1a1a1a;stroke-width:1.41732;stroke-miterlimit:4;stroke-dasharray:none;stroke-opacity:0.980392\" id=\"path4556\" cx=\"419.63934\" cy=\"484.28821\" rx=\"14.152756\" ry=\"10.766929\"/>\n",
       "    <path style=\"fill:#ffffff;fill-rule:evenodd;stroke:#000000;stroke-width:1.41732;stroke-linecap:butt;stroke-linejoin:miter;stroke-miterlimit:4;stroke-dasharray:none;stroke-opacity:1\" d=\"m 391.25009,439.07651 18.2303,42.53735 c 6.38839,6.27984 12.77678,5.24162 19.16517,-0.93489 L 411.8176,437.20674\" id=\"path4314\" inkscape:connector-curvature=\"0\" sodipodi:nodetypes=\"cccc\"/>\n",
       "    <ellipse style=\"fill:none;fill-opacity:1;stroke:#1a1a1a;stroke-width:1.41732;stroke-miterlimit:4;stroke-dasharray:none;stroke-opacity:0.980392\" id=\"path4258\" cx=\"401.53384\" cy=\"437.67416\" rx=\"10.283754\" ry=\"4.2069902\"/>\n",
       "    <path style=\"fill:#ffffff;fill-rule:evenodd;stroke:#000000;stroke-width:1.41732;stroke-linecap:butt;stroke-linejoin:miter;stroke-miterlimit:4;stroke-dasharray:none;stroke-opacity:1\" d=\"m 367.54117,367.31642 27.29266,70.05116 c 4.85203,5.96358 8.30172,2.11951 13.15375,0.8595 l -25.89033,-63.63262 z\" id=\"path4254\" inkscape:connector-curvature=\"0\" sodipodi:nodetypes=\"ccccc\"/>\n",
       "    <ellipse style=\"fill:#ffffff;fill-opacity:1;stroke:#1a1a1a;stroke-width:1.41732;stroke-miterlimit:4;stroke-dasharray:none;stroke-opacity:0.980392\" id=\"path4334\" cx=\"498.06088\" cy=\"427.85785\" rx=\"10.159333\" ry=\"4.3162918\"/>\n",
       "    <path style=\"fill:#ffffff;fill-rule:evenodd;stroke:#000000;stroke-width:1.41732;stroke-linecap:butt;stroke-linejoin:miter;stroke-miterlimit:4;stroke-dasharray:none;stroke-opacity:1\" d=\"m 508.11093,358.67625 -14.95818,67.77929 c 1.75963,2.84764 4.79335,3.9965 10.28375,1.86978 l 15.89308,-71.51884 z\" id=\"path4332\" inkscape:connector-curvature=\"0\" sodipodi:nodetypes=\"ccccc\"/>\n",
       "    <path style=\"fill:#ffffff;fill-rule:evenodd;stroke:#000000;stroke-width:1.41732;stroke-linecap:butt;stroke-linejoin:miter;stroke-miterlimit:4;stroke-dasharray:none;stroke-opacity:1\" d=\"m 488.47831,428.32532 -8.88142,43.00479 c 6.23258,4.59873 12.46515,5.06122 18.69773,0.93488 l 9.34887,-43.00479 c -6.8614,2.99939 -13.53586,4.69026 -19.16518,-0.93488 z\" id=\"path4336\" inkscape:connector-curvature=\"0\" sodipodi:nodetypes=\"ccccc\"/>\n",
       "    <g id=\"g4588\" style=\"stroke-width:1.41732;stroke-miterlimit:4;stroke-dasharray:none\">\n",
       "      <ellipse ry=\"10.766929\" rx=\"14.152756\" cy=\"375.8815\" cx=\"596.99731\" id=\"ellipse4576\" style=\"fill:#ffffff;fill-opacity:1;stroke:#1a1a1a;stroke-width:1.41732;stroke-miterlimit:4;stroke-dasharray:none;stroke-opacity:0.980392\"/>\n",
       "      <path inkscape:connector-curvature=\"0\" id=\"path4582\" d=\"m 582.25511,375.10757 -6.89512,24.13295 21.83456,7.27819 23.36682,-9.19351 -9.1935,-23.36681\" style=\"fill:none;fill-rule:evenodd;stroke:#000000;stroke-width:1.41732;stroke-linecap:butt;stroke-linejoin:miter;stroke-miterlimit:4;stroke-dasharray:none;stroke-opacity:1\"/>\n",
       "    </g>\n",
       "    <path style=\"fill:#ffffff;fill-rule:evenodd;stroke:#000000;stroke-width:1.41732;stroke-linecap:butt;stroke-linejoin:miter;stroke-miterlimit:4;stroke-dasharray:none;stroke-opacity:1\" d=\"m 574.02045,359.1437 16.82796,17.76285 c 8.05657,1.66818 12.66512,-0.11167 14.49074,-4.67444 l -15.42563,-19.63262 c -2.91589,10.91468 -9.30967,9.07709 -15.89307,6.54421 z\" id=\"path4342\" inkscape:connector-curvature=\"0\" sodipodi:nodetypes=\"ccccc\"/>\n",
       "    <path style=\"fill:#ffffff;fill-rule:evenodd;stroke:#000000;stroke-width:1.41732;stroke-linecap:butt;stroke-linejoin:miter;stroke-miterlimit:4;stroke-dasharray:none;stroke-opacity:1\" d=\"m 548.31106,332.96687 12.62097,13.08841 c 4.47695,1.98392 6.22061,1.23454 7.01166,-0.46744 l -14.9437,-17.35505 z\" id=\"path4348\" inkscape:connector-curvature=\"0\" sodipodi:nodetypes=\"ccccc\"/>\n",
       "    <g transform=\"translate(-283.01097,-4.6867538)\" id=\"g4604\" style=\"stroke-width:1.41732;stroke-miterlimit:4;stroke-dasharray:none\">\n",
       "      <ellipse ry=\"10.766929\" rx=\"14.152756\" cy=\"375.8815\" cx=\"596.99731\" id=\"ellipse4606\" style=\"fill:#ffffff;fill-opacity:1;stroke:#1a1a1a;stroke-width:1.41732;stroke-miterlimit:4;stroke-dasharray:none;stroke-opacity:0.980392\"/>\n",
       "      <path inkscape:connector-curvature=\"0\" id=\"path4608\" d=\"m 582.25511,375.10757 -6.89512,24.13295 21.83456,7.27819 23.36682,-9.19351 -9.1935,-23.36681\" style=\"fill:none;fill-rule:evenodd;stroke:#000000;stroke-width:1.41732;stroke-linecap:butt;stroke-linejoin:miter;stroke-miterlimit:4;stroke-dasharray:none;stroke-opacity:1\"/>\n",
       "    </g>\n",
       "    <path style=\"fill:none;fill-rule:evenodd;stroke:#000000;stroke-width:1.41732;stroke-linecap:butt;stroke-linejoin:miter;stroke-miterlimit:4;stroke-dasharray:none;stroke-opacity:1\" d=\"m 293.72127,386.34214 c 4.14998,-1.24812 7.17444,-0.24521 9.82219,1.51111 3.46938,2.36571 3.52326,5.20241 4.34443,7.9333\" id=\"path4364\" inkscape:connector-curvature=\"0\" sodipodi:nodetypes=\"ccc\"/>\n",
       "    <path style=\"fill:#ffffff;fill-rule:evenodd;stroke:#000000;stroke-width:1.41732;stroke-linecap:butt;stroke-linejoin:miter;stroke-miterlimit:4;stroke-dasharray:none;stroke-opacity:1\" d=\"m 341.2241,354.18116 -46.74433,35.52569 c 1.52491,2.16389 2.56635,4.39685 7.47909,6.07677 l 48.61411,-36.92803 z\" id=\"path4354\" inkscape:connector-curvature=\"0\" sodipodi:nodetypes=\"ccccc\"/>\n",
       "    <g id=\"g4598\" transform=\"translate(-319.67325,33.70468)\" style=\"stroke-width:1.41732;stroke-miterlimit:4;stroke-dasharray:none\">\n",
       "      <ellipse style=\"fill:#ffffff;fill-opacity:1;stroke:#1a1a1a;stroke-width:1.41732;stroke-miterlimit:4;stroke-dasharray:none;stroke-opacity:0.980392\" id=\"ellipse4600\" cx=\"596.99731\" cy=\"375.8815\" rx=\"14.152756\" ry=\"10.766929\"/>\n",
       "      <path style=\"fill:none;fill-rule:evenodd;stroke:#000000;stroke-width:1.41732;stroke-linecap:butt;stroke-linejoin:miter;stroke-miterlimit:4;stroke-dasharray:none;stroke-opacity:1\" d=\"m 582.25511,375.10757 -6.89512,24.13295 21.83456,7.27819 23.36682,-9.19351 -9.1935,-23.36681\" id=\"path4602\" inkscape:connector-curvature=\"0\"/>\n",
       "    </g>\n",
       "    <path style=\"fill:#ffffff;fill-rule:evenodd;stroke:#000000;stroke-width:1.41732;stroke-linecap:butt;stroke-linejoin:miter;stroke-miterlimit:4;stroke-dasharray:none;stroke-opacity:1\" d=\"m 293.53238,386.71992 -25.6888,18.51105 c -0.09,3.9637 1.6034,6.73845 4.53332,8.68886 3.72651,2.47457 6.96553,1.53666 10.19996,0.56666 l 25.49992,-19.07771 c -3.57287,0.73207 -7.08188,1.96339 -11.14441,-1.13333 -3.29544,-1.90076 -3.58603,-4.66006 -3.39999,-7.55553 z\" id=\"path4360\" inkscape:connector-curvature=\"0\" sodipodi:nodetypes=\"ccccccc\"/>\n",
       "    <path style=\"fill:#ffffff;fill-rule:evenodd;stroke:#000000;stroke-width:1.41732;stroke-linecap:butt;stroke-linejoin:miter;stroke-miterlimit:4;stroke-dasharray:none;stroke-opacity:1\" d=\"m 332.25448,342.89784 -23.42215,23.23325 c 0.40953,2.89123 -0.48081,4.63454 8.1222,7.36665 l 24.32212,-19.62324 -10.15601,-4.55269 z\" id=\"path4366\" inkscape:connector-curvature=\"0\" sodipodi:nodetypes=\"ccc\"/>\n",
       "    <path style=\"fill:none;fill-rule:evenodd;stroke:#000000;stroke-width:1.41732;stroke-linecap:butt;stroke-linejoin:miter;stroke-miterlimit:4;stroke-dasharray:none;stroke-opacity:1\" d=\"m 422.51381,565.92022 0.73481,14.69613 -288.0442,-141.81768 0.73481,-16.16575\" id=\"path4516\" inkscape:connector-curvature=\"0\"/>\n",
       "    <path style=\"fill:none;fill-rule:evenodd;stroke:#000000;stroke-width:1.41732;stroke-linecap:butt;stroke-linejoin:miter;stroke-miterlimit:4;stroke-dasharray:none;stroke-opacity:1\" d=\"M 422.51381,580.61635 796.53039,396.17988 795.79558,382.95336\" id=\"path4518\" inkscape:connector-curvature=\"0\"/>\n",
       "    <path style=\"fill:none;fill-rule:evenodd;stroke:#000000;stroke-width:1.41732;stroke-linecap:butt;stroke-linejoin:miter;stroke-miterlimit:4;stroke-dasharray:none;stroke-opacity:1\" d=\"m 474.23146,472.78853 -6.89512,24.13295 21.83456,7.27819 23.36682,-9.19351 -9.1935,-23.36681\" id=\"path4570\" inkscape:connector-curvature=\"0\"/>\n",
       "    <path inkscape:connector-curvature=\"0\" id=\"path4580\" d=\"m 405.66326,483.89734 -6.89512,24.13295 21.83456,7.27819 23.36682,-9.19351 -9.1935,-23.36681\" style=\"fill:none;fill-rule:evenodd;stroke:#000000;stroke-width:1.41732;stroke-linecap:butt;stroke-linejoin:miter;stroke-miterlimit:4;stroke-dasharray:none;stroke-opacity:1\"/>\n",
       "    <path style=\"fill:#ffffff;fill-rule:evenodd;stroke:#000000;stroke-width:1.41732;stroke-linecap:butt;stroke-linejoin:miter;stroke-miterlimit:4;stroke-dasharray:none;stroke-opacity:1\" d=\"m 573.88232,359.15576 c 1.62683,2.16996 7.16611,3.05426 11.68208,1.46026 2.28646,-1.65853 6.10923,-6.39528 4.58939,-8.65726 -1.77982,-2.6489 -9.82976,-1.10239 -10.84765,-0.10431 -1.2742,0.6649 -6.36877,4.41593 -5.42382,7.30131 z\" id=\"path4610\" inkscape:connector-curvature=\"0\" sodipodi:nodetypes=\"ccscc\"/>\n",
       "    <path style=\"fill:#ffffff;fill-rule:evenodd;stroke:#000000;stroke-width:1.41732;stroke-linecap:butt;stroke-linejoin:miter;stroke-miterlimit:4;stroke-dasharray:none;stroke-opacity:1\" d=\"m 552.99999,328.23279 24.55343,28.24195 c 1.60778,1.18084 2.80106,0.64699 7.31118,-2.48288 l -26.60304,-31.23769 z\" id=\"path4338\" inkscape:connector-curvature=\"0\" sodipodi:nodetypes=\"ccccc\"/>\n",
       "    <path style=\"fill:none;fill-rule:evenodd;stroke:#000000;stroke-width:1px;stroke-linecap:butt;stroke-linejoin:miter;stroke-opacity:1;marker-start:url(#marker4620);marker-end:url(#marker4702)\" d=\"m 375.73383,434.95033 -18.8811,-44.37058\" id=\"path4612\" inkscape:connector-curvature=\"0\"/>\n",
       "    <path style=\"fill:none;fill-rule:evenodd;stroke:#000000;stroke-width:1px;stroke-linecap:butt;stroke-linejoin:miter;stroke-opacity:1;marker-start:url(#marker4792);marker-end:url(#marker4886)\" d=\"m 517.81409,420.31748 13.21676,-51.45099\" id=\"path4784\" inkscape:connector-curvature=\"0\"/>\n",
       "    <path style=\"fill:none;fill-rule:evenodd;stroke:#000000;stroke-width:1px;stroke-linecap:butt;stroke-linejoin:miter;stroke-opacity:1;marker-start:url(#marker4988);marker-end:url(#marker5094)\" d=\"m 568.79305,384.91542 -18.8811,-28.79367\" id=\"path4980\" inkscape:connector-curvature=\"0\"/>\n",
       "    <path style=\"fill:none;fill-rule:evenodd;stroke:#000000;stroke-width:1px;stroke-linecap:butt;stroke-linejoin:miter;stroke-opacity:1;marker-start:url(#marker5208);marker-end:url(#marker5326)\" d=\"M 589.09023,337.24065 570.68116,312.2232\" id=\"path5200\" inkscape:connector-curvature=\"0\"/>\n",
       "    <path style=\"fill:none;fill-rule:evenodd;stroke:#000000;stroke-width:1px;stroke-linecap:butt;stroke-linejoin:miter;stroke-opacity:1;marker-start:url(#marker5454);marker-end:url(#marker5584)\" d=\"m 304.45769,409.46085 38.23422,-28.79367\" id=\"path5446\" inkscape:connector-curvature=\"0\"/>\n",
       "    <path style=\"fill:none;fill-rule:evenodd;stroke:#000000;stroke-width:1px;stroke-linecap:butt;stroke-linejoin:miter;stroke-opacity:1;marker-start:url(#marker5722);marker-end:url(#marker5864)\" d=\"m 307.28985,350.92945 21.71327,-18.40907\" id=\"path5714\" inkscape:connector-curvature=\"0\"/>\n",
       "  </g>\n",
       "</svg>"
      ],
      "text/plain": [
       "<IPython.core.display.SVG object>"
      ]
     },
     "execution_count": 18,
     "metadata": {},
     "output_type": "execute_result"
    }
   ],
   "source": [
    "SVG('robo-pv.svg')"
   ]
  },
  {
   "cell_type": "code",
   "execution_count": 19,
   "metadata": {
    "slideshow": {
     "slide_type": "subslide"
    }
   },
   "outputs": [
    {
     "data": {
      "text/html": [
       "<video src=\"Dinamica Do Hibrido-1.m4v\" controls  width=\"700\" >\n",
       "      Your browser does not support the <code>video</code> element.\n",
       "    </video>"
      ],
      "text/plain": [
       "<IPython.core.display.Video object>"
      ]
     },
     "execution_count": 19,
     "metadata": {},
     "output_type": "execute_result"
    }
   ],
   "source": [
    "Video('Dinamica Do Hibrido-1.m4v',width=700)"
   ]
  },
  {
   "cell_type": "markdown",
   "metadata": {
    "slideshow": {
     "slide_type": "subslide"
    }
   },
   "source": [
    "### 4.3.1 Condição de não deslizamento"
   ]
  },
  {
   "cell_type": "code",
   "execution_count": 20,
   "metadata": {
    "scrolled": true,
    "slideshow": {
     "slide_type": "subslide"
    }
   },
   "outputs": [
    {
     "data": {
      "image/svg+xml": [
       "<svg xmlns:dc=\"http://purl.org/dc/elements/1.1/\" xmlns:cc=\"http://creativecommons.org/ns#\" xmlns:rdf=\"http://www.w3.org/1999/02/22-rdf-syntax-ns#\" xmlns:svg=\"http://www.w3.org/2000/svg\" xmlns=\"http://www.w3.org/2000/svg\" xmlns:sodipodi=\"http://sodipodi.sourceforge.net/DTD/sodipodi-0.dtd\" xmlns:inkscape=\"http://www.inkscape.org/namespaces/inkscape\" width=\"97.860092mm\" height=\"88.224983mm\" viewBox=\"0 0 97.860103 88.224984\" version=\"1.1\" id=\"svg8\" inkscape:version=\"1.0.1 (3bc2e813f5, 2020-09-07)\" sodipodi:docname=\"batata03.svg\">\n",
       "  <defs id=\"defs2\">\n",
       "    <marker inkscape:stockid=\"DistanceStart\" orient=\"auto\" refY=\"0\" refX=\"0\" id=\"DistanceStart\" style=\"overflow:visible\" inkscape:isstock=\"true\">\n",
       "      <g id=\"g2300\">\n",
       "        <path id=\"path2306\" d=\"M 0,0 H 2\" style=\"fill:none;stroke:#ffffff;stroke-width:1.15;stroke-linecap:square\"/>\n",
       "        <path id=\"path2302\" d=\"M 0,0 13,4 9,0 13,-4 Z\" style=\"fill:#000000;fill-rule:evenodd;stroke:none\"/>\n",
       "        <path id=\"path2304\" d=\"M 0,-4 V 40\" style=\"fill:none;stroke:#000000;stroke-width:1;stroke-linecap:square\"/>\n",
       "      </g>\n",
       "    </marker>\n",
       "    <marker style=\"overflow:visible\" id=\"marker1788\" refX=\"0\" refY=\"0\" orient=\"auto\" inkscape:stockid=\"Arrow1Lend\" inkscape:isstock=\"true\">\n",
       "      <path transform=\"matrix(-0.8,0,0,-0.8,-10,0)\" style=\"fill:#ff0000;fill-opacity:1;fill-rule:evenodd;stroke:#ff0000;stroke-width:1pt;stroke-opacity:1\" d=\"M 0,0 5,-5 -12.5,0 5,5 Z\" id=\"path1786\"/>\n",
       "    </marker>\n",
       "    <marker style=\"overflow:visible\" id=\"marker1399\" refX=\"0\" refY=\"0\" orient=\"auto\" inkscape:stockid=\"Arrow1Lend\" inkscape:isstock=\"true\">\n",
       "      <path transform=\"matrix(-0.8,0,0,-0.8,-10,0)\" style=\"fill:#0000ff;fill-opacity:1;fill-rule:evenodd;stroke:#0000ff;stroke-width:1pt;stroke-opacity:1\" d=\"M 0,0 5,-5 -12.5,0 5,5 Z\" id=\"path1397\"/>\n",
       "    </marker>\n",
       "    <marker style=\"overflow:visible\" id=\"marker1379\" refX=\"0\" refY=\"0\" orient=\"auto\" inkscape:stockid=\"Arrow1Lend\" inkscape:isstock=\"true\">\n",
       "      <path transform=\"matrix(-0.8,0,0,-0.8,-10,0)\" style=\"fill:#0000ff;fill-opacity:1;fill-rule:evenodd;stroke:#0000ff;stroke-width:1pt;stroke-opacity:1\" d=\"M 0,0 5,-5 -12.5,0 5,5 Z\" id=\"path1377\"/>\n",
       "    </marker>\n",
       "  </defs>\n",
       "  <sodipodi:namedview id=\"base\" pagecolor=\"#ffffff\" bordercolor=\"#666666\" borderopacity=\"1.0\" inkscape:pageopacity=\"0.0\" inkscape:pageshadow=\"2\" inkscape:zoom=\"1.2238436\" inkscape:cx=\"234.46898\" inkscape:cy=\"210.49149\" inkscape:document-units=\"mm\" inkscape:current-layer=\"layer1\" inkscape:document-rotation=\"0\" showgrid=\"true\" showguides=\"true\" inkscape:guide-bbox=\"true\" inkscape:snap-nodes=\"true\" inkscape:snap-grids=\"false\" inkscape:snap-to-guides=\"false\" inkscape:snap-smooth-nodes=\"true\" inkscape:object-paths=\"false\" inkscape:snap-intersection-paths=\"false\" inkscape:window-width=\"1920\" inkscape:window-height=\"1017\" inkscape:window-x=\"-8\" inkscape:window-y=\"-8\" inkscape:window-maximized=\"1\" showborder=\"false\">\n",
       "    <inkscape:grid type=\"axonomgrid\" id=\"grid10\" originx=\"-69.407716\" originy=\"-83.417667\"/>\n",
       "  </sodipodi:namedview>\n",
       "  <metadata id=\"metadata5\">\n",
       "    <rdf:RDF>\n",
       "      <cc:Work rdf:about=\"\">\n",
       "        <dc:format>image/svg+xml</dc:format>\n",
       "        <dc:type rdf:resource=\"http://purl.org/dc/dcmitype/StillImage\"/>\n",
       "        <dc:title/>\n",
       "      </cc:Work>\n",
       "    </rdf:RDF>\n",
       "  </metadata>\n",
       "  <g inkscape:label=\"Layer 1\" inkscape:groupmode=\"layer\" id=\"layer1\" transform=\"translate(-69.407706,-83.417668)\">\n",
       "    <path style=\"fill:none;stroke:#000000;stroke-width:0.921889;stroke-linecap:butt;stroke-linejoin:miter;stroke-miterlimit:4;stroke-dasharray:none;stroke-opacity:1\" d=\"m 115.16699,87.761049 c -1.41978,-1.135499 -2.7796,-2.350327 -4.25933,-3.406498 -0.57386,-0.409603 -1.7868,-0.351656 -2.47714,-0.43939 -0.93755,-0.119159 -1.62177,0.04127 -2.50448,0.429143 -3.49252,1.534629 -2.04437,5.176996 -4.43425,7.118456 -0.59293,0.481685 -1.658896,0.838941 -2.301511,1.119336 -4.261885,1.859568 -9.210377,2.358689 -12.147912,6.387287 -1.159543,1.590157 -1.700059,3.431927 -2.131358,5.334897 -2.214678,9.77131 7.018645,18.36264 16.596531,16.76735 2.57767,-0.42934 7.82006,-3.44954 9.05573,-5.90825 1.17662,-2.34118 0.52664,-5.16203 1.77807,-7.45603 1.21258,-2.22278 3.20884,-4.02321 4.33035,-6.3012 0.56205,-1.14156 1.22465,-2.345012 1.69333,-3.521985 0.34048,-0.854995 0.14889,-1.824906 0.26106,-2.707424 0.38634,-3.039904 -1.00875,-5.77484 -3.45913,-7.415712 z\" id=\"path1557\"/>\n",
       "    <path style=\"fill:none;stroke:#000000;stroke-width:0.921889;stroke-linecap:butt;stroke-linejoin:miter;stroke-miterlimit:4;stroke-dasharray:none;stroke-opacity:1\" d=\"m 121.82411,90.468473 c 1.41978,-1.135499 2.7796,-2.350327 4.25933,-3.406498 0.57386,-0.409603 1.7868,-0.351656 2.47714,-0.43939 0.93755,-0.119159 1.62177,0.04127 2.50448,0.429143 3.49252,1.534629 2.04437,5.176996 4.43425,7.118456 0.59293,0.481685 1.65889,0.838941 2.30151,1.119336 4.26188,1.859568 9.21038,2.358689 12.14791,6.38729 1.15954,1.59015 1.70006,3.43192 2.13136,5.33489 2.21468,9.77131 -7.01865,18.36264 -16.59653,16.76735 -2.57767,-0.42934 -7.82006,-3.44954 -9.05573,-5.90825 -1.17662,-2.34118 -0.52664,-5.16203 -1.77807,-7.45603 -1.21258,-2.22278 -3.20884,-4.02321 -4.33035,-6.3012 -0.56205,-1.14156 -1.22465,-2.34501 -1.69333,-3.52198 -0.34048,-0.854996 -0.14889,-1.824907 -0.26106,-2.707425 -0.38634,-3.039904 1.00875,-5.77484 3.45913,-7.415712 z\" id=\"path899\"/>\n",
       "    <path style=\"fill:#ff0000;stroke:#ff0000;stroke-width:0.264583px;stroke-linecap:butt;stroke-linejoin:miter;stroke-opacity:1\" d=\"m 118.36502,97.884165 -4.01235,23.151545 -0.63645,-3.73232 2.29305,0.76435 -1.6566,2.96797\" id=\"path905\"/>\n",
       "    <text xml:space=\"preserve\" style=\"font-style:normal;font-variant:normal;font-weight:normal;font-stretch:normal;font-size:5.01715px;line-height:1.25;font-family:sans-serif;-inkscape-font-specification:sans-serif;letter-spacing:0px;word-spacing:0px;fill:#000000;fill-opacity:1;stroke:none;stroke-width:0.134388\" x=\"119.16561\" y=\"98.188354\" id=\"text913\"><tspan sodipodi:role=\"line\" id=\"tspan911\" x=\"119.16561\" y=\"98.188354\" style=\"stroke-width:0.134388\">C</tspan></text>\n",
       "    <text xml:space=\"preserve\" style=\"font-style:normal;font-variant:normal;font-weight:normal;font-stretch:normal;font-size:6.76393px;line-height:1.25;font-family:sans-serif;-inkscape-font-specification:sans-serif;letter-spacing:0px;word-spacing:0px;fill:#000000;fill-opacity:1;stroke:none;stroke-width:0.181177\" x=\"97.968826\" y=\"106.01047\" id=\"text917\"><tspan sodipodi:role=\"line\" id=\"tspan915\" x=\"97.968826\" y=\"106.01047\" style=\"stroke-width:0.181177\">B<tspan style=\"font-size:65%;baseline-shift:sub\" id=\"tspan923\">1</tspan></tspan></text>\n",
       "    <text xml:space=\"preserve\" style=\"font-style:normal;font-variant:normal;font-weight:normal;font-stretch:normal;font-size:6.76393px;line-height:1.25;font-family:sans-serif;-inkscape-font-specification:sans-serif;letter-spacing:0px;word-spacing:0px;fill:#000000;fill-opacity:1;stroke:none;stroke-width:0.181177\" x=\"127.26263\" y=\"106.44285\" id=\"text921\"><tspan sodipodi:role=\"line\" id=\"tspan919\" x=\"127.26263\" y=\"106.44285\" style=\"stroke-width:0.181177\">B<tspan style=\"font-size:65%;baseline-shift:sub\" id=\"tspan925\">2</tspan></tspan></text>\n",
       "    <text xml:space=\"preserve\" style=\"font-style:normal;font-variant:normal;font-weight:normal;font-stretch:normal;font-size:6.62817px;line-height:1.25;font-family:sans-serif;-inkscape-font-specification:sans-serif;letter-spacing:0px;word-spacing:0px;fill:#ff0000;fill-opacity:1;stroke:none;stroke-width:0.17754\" x=\"107.20708\" y=\"126.98096\" id=\"text929\"><tspan sodipodi:role=\"line\" id=\"tspan927\" x=\"107.20708\" y=\"126.98096\" style=\"fill:#ff0000;stroke-width:0.17754\">v</tspan></text>\n",
       "    <text xml:space=\"preserve\" style=\"font-style:normal;font-variant:normal;font-weight:normal;font-stretch:normal;font-size:2.52298px;line-height:1.25;font-family:sans-serif;-inkscape-font-specification:sans-serif;letter-spacing:0px;word-spacing:0px;fill:#ff0000;fill-opacity:1;stroke:none;stroke-width:0.0675796\" x=\"111.6309\" y=\"123.60109\" id=\"text933\"><tspan sodipodi:role=\"line\" id=\"tspan931\" x=\"111.6309\" y=\"123.60109\" style=\"fill:#ff0000;stroke-width:0.0675796\">C</tspan></text>\n",
       "    <g id=\"g941\" transform=\"translate(35.347143,0.27023807)\" style=\"fill:#ff0000;stroke:#ff0000\">\n",
       "      <path style=\"fill:#ff0000;stroke:#ff0000;stroke-width:0.065;stroke-linecap:butt;stroke-linejoin:miter;stroke-miterlimit:4;stroke-dasharray:none;stroke-opacity:1\" d=\"m 72.411715,122.06262 3.080715,-0.054\" id=\"path935\"/>\n",
       "      <path style=\"fill:#ff0000;stroke:#ff0000;stroke-width:0.065;stroke-linecap:butt;stroke-linejoin:miter;stroke-miterlimit:4;stroke-dasharray:none;stroke-opacity:1\" d=\"m 75.49243,122.00862 -1.189048,-0.75672 0.05405,1.56738 z\" id=\"path937\"/>\n",
       "    </g>\n",
       "    <path style=\"fill:none;stroke:#000000;stroke-width:0.921889;stroke-linecap:butt;stroke-linejoin:miter;stroke-miterlimit:4;stroke-dasharray:none;stroke-opacity:1\" d=\"m 121.82411,90.468473 c 1.41978,-1.135499 2.7796,-2.350327 4.25933,-3.406498 0.57386,-0.409603 1.7868,-0.351656 2.47714,-0.43939 0.93755,-0.119159 1.62177,0.04127 2.50448,0.429143 3.49252,1.534629 2.04437,5.176996 4.43425,7.118456 0.59293,0.481685 1.65889,0.838941 2.30151,1.119336 4.26188,1.859568 9.21038,2.358689 12.14791,6.38729 1.15954,1.59015 1.70006,3.43192 2.13136,5.33489 2.21468,9.77131 -7.01865,18.36264 -16.59653,16.76735 -2.57767,-0.42934 -7.82006,-3.44954 -9.05573,-5.90825 -1.17662,-2.34118 -0.52664,-5.16203 -1.77807,-7.45603 -1.21258,-2.22278 -3.20884,-4.02321 -4.33035,-6.3012 -0.56205,-1.14156 -1.22465,-2.34501 -1.69333,-3.52198 -0.34048,-0.854996 -0.14889,-1.824907 -0.26106,-2.707425 -0.38634,-3.039904 1.00875,-5.77484 3.45913,-7.415712 z\" id=\"path943\"/>\n",
       "    <text xml:space=\"preserve\" style=\"font-style:normal;font-variant:normal;font-weight:normal;font-stretch:normal;font-size:6.76393px;line-height:1.25;font-family:sans-serif;-inkscape-font-specification:sans-serif;letter-spacing:0px;word-spacing:0px;fill:#000000;fill-opacity:1;stroke:none;stroke-width:0.181177\" x=\"127.26263\" y=\"106.44285\" id=\"text949\"><tspan sodipodi:role=\"line\" id=\"tspan947\" x=\"127.26263\" y=\"106.44285\" style=\"stroke-width:0.181177\">B<tspan style=\"font-size:65%;baseline-shift:sub\" id=\"tspan945\">2</tspan></tspan></text>\n",
       "    <path style=\"fill:none;stroke:#000000;stroke-width:0.921889;stroke-linecap:butt;stroke-linejoin:miter;stroke-miterlimit:4;stroke-dasharray:none;stroke-opacity:1\" d=\"m 100.45701,132.42386 c -1.419772,-1.13551 -2.779586,-2.35034 -4.259307,-3.40652 -0.573857,-0.40961 -1.786791,-0.35166 -2.477125,-0.43939 -0.937547,-0.11916 -1.621761,0.0413 -2.504468,0.42914 -3.492499,1.53464 -2.044358,5.17703 -4.434223,7.1185 -0.592927,0.48169 -1.65889,0.83895 -2.301505,1.11934 -4.261885,1.85958 -9.210377,2.3587 -12.147912,6.38733 -1.159543,1.59016 -1.700059,3.43193 -2.131358,5.3349 -2.214678,9.77131 7.018645,18.36264 16.596525,16.76735 2.577655,-0.42934 7.820015,-3.44954 9.055679,-5.90825 1.176611,-2.34118 0.526637,-5.16203 1.778058,-7.45603 1.212574,-2.22278 3.208826,-4.02321 4.330326,-6.3012 0.56205,-1.14156 1.22464,-2.34502 1.69332,-3.522 0.34048,-0.855 0.14889,-1.82492 0.26106,-2.70744 0.38634,-3.03992 -1.00875,-5.77487 -3.45911,-7.41575 z\" id=\"path959\"/>\n",
       "    <path style=\"fill:#ff0000;stroke:#ff0000;stroke-width:0.264583px;stroke-linecap:butt;stroke-linejoin:miter;stroke-opacity:1\" d=\"m 103.65502,142.54703 -4.012328,23.15156 -0.636444,-3.73232 2.293032,0.76435 -1.656588,2.96797\" id=\"path963\"/>\n",
       "    <text xml:space=\"preserve\" style=\"font-style:normal;font-variant:normal;font-weight:normal;font-stretch:normal;font-size:5.01715px;line-height:1.25;font-family:sans-serif;-inkscape-font-specification:sans-serif;letter-spacing:0px;word-spacing:0px;fill:#000000;fill-opacity:1;stroke:none;stroke-width:0.134388\" x=\"104.4557\" y=\"142.85045\" id=\"text967\"><tspan sodipodi:role=\"line\" id=\"tspan965\" x=\"104.4557\" y=\"142.85045\" style=\"stroke-width:0.134388\">C</tspan></text>\n",
       "    <text xml:space=\"preserve\" style=\"font-style:normal;font-variant:normal;font-weight:normal;font-stretch:normal;font-size:6.76393px;line-height:1.25;font-family:sans-serif;-inkscape-font-specification:sans-serif;letter-spacing:0px;word-spacing:0px;fill:#000000;fill-opacity:1;stroke:none;stroke-width:0.181177\" x=\"83.258919\" y=\"150.67244\" id=\"text973\"><tspan sodipodi:role=\"line\" id=\"tspan971\" x=\"83.258919\" y=\"150.67244\" style=\"stroke-width:0.181177\">B<tspan style=\"font-size:65%;baseline-shift:sub\" id=\"tspan969\">1</tspan></tspan></text>\n",
       "    <text xml:space=\"preserve\" style=\"font-style:normal;font-variant:normal;font-weight:normal;font-stretch:normal;font-size:6.62817px;line-height:1.25;font-family:sans-serif;-inkscape-font-specification:sans-serif;letter-spacing:0px;word-spacing:0px;fill:#ff0000;fill-opacity:1;stroke:none;stroke-width:0.17754\" x=\"92.497192\" y=\"171.64265\" id=\"text983\"><tspan sodipodi:role=\"line\" id=\"tspan981\" x=\"92.497192\" y=\"171.64265\" style=\"fill:#ff0000;stroke-width:0.17754\">v</tspan></text>\n",
       "    <text xml:space=\"preserve\" style=\"font-style:normal;font-variant:normal;font-weight:normal;font-stretch:normal;font-size:2.52298px;line-height:1.25;font-family:sans-serif;-inkscape-font-specification:sans-serif;letter-spacing:0px;word-spacing:0px;fill:#ff0000;fill-opacity:1;stroke:none;stroke-width:0.0675796\" x=\"96.921005\" y=\"168.26282\" id=\"text987\"><tspan sodipodi:role=\"line\" id=\"tspan985\" x=\"96.921005\" y=\"168.26282\" style=\"fill:#ff0000;stroke-width:0.0675796\">C/B<tspan style=\"font-size:65%;baseline-shift:sub\" id=\"tspan1047\">1</tspan></tspan></text>\n",
       "    <g id=\"g993\" transform=\"translate(20.637246,44.93277)\" style=\"fill:#ff0000;stroke:#ff0000\">\n",
       "      <path style=\"fill:#ff0000;stroke:#ff0000;stroke-width:0.065;stroke-linecap:butt;stroke-linejoin:miter;stroke-miterlimit:4;stroke-dasharray:none;stroke-opacity:1\" d=\"m 72.411715,122.06262 3.080715,-0.054\" id=\"path989\"/>\n",
       "      <path style=\"fill:#ff0000;stroke:#ff0000;stroke-width:0.065;stroke-linecap:butt;stroke-linejoin:miter;stroke-miterlimit:4;stroke-dasharray:none;stroke-opacity:1\" d=\"m 75.49243,122.00862 -1.189048,-0.75672 0.05405,1.56738 z\" id=\"path991\"/>\n",
       "    </g>\n",
       "    <path style=\"fill:none;stroke:#000000;stroke-width:0.921889;stroke-linecap:butt;stroke-linejoin:miter;stroke-miterlimit:4;stroke-dasharray:none;stroke-opacity:1\" d=\"m 136.21841,135.1313 c 1.41978,-1.13551 2.7796,-2.35034 4.25933,-3.40652 0.57386,-0.40961 1.7868,-0.35166 2.47714,-0.43939 0.93755,-0.11916 1.62177,0.0413 2.50448,0.42914 3.49252,1.53464 2.04437,5.17703 4.43425,7.1185 0.59293,0.48169 1.65889,0.83894 2.30151,1.11934 4.26188,1.85958 9.21038,2.3587 12.14791,6.38732 1.15954,1.59015 1.70006,3.43192 2.13136,5.33489 2.21468,9.77131 -7.01865,18.36264 -16.59653,16.76735 -2.57767,-0.42934 -7.82006,-3.44954 -9.05573,-5.90825 -1.17662,-2.34118 -0.52664,-5.16203 -1.77807,-7.45603 -1.21258,-2.22278 -3.20884,-4.02321 -4.33035,-6.3012 -0.56205,-1.14156 -1.22465,-2.34501 -1.69333,-3.52198 -0.34048,-0.855 -0.14889,-1.82492 -0.26106,-2.70744 -0.38633,-3.03992 1.00875,-5.77487 3.45913,-7.41575 z\" id=\"path1005\"/>\n",
       "    <path style=\"fill:#ff0000;stroke:#ff0000;stroke-width:0.264583px;stroke-linecap:butt;stroke-linejoin:miter;stroke-opacity:1\" d=\"m 132.75932,142.54703 -4.01234,23.15156 -0.63645,-3.73232 2.29305,0.76435 -1.6566,2.96797\" id=\"path1007\"/>\n",
       "    <text xml:space=\"preserve\" style=\"font-style:normal;font-variant:normal;font-weight:normal;font-stretch:normal;font-size:5.01715px;line-height:1.25;font-family:sans-serif;-inkscape-font-specification:sans-serif;letter-spacing:0px;word-spacing:0px;fill:#000000;fill-opacity:1;stroke:none;stroke-width:0.134388\" x=\"133.55989\" y=\"142.85045\" id=\"text1011\"><tspan sodipodi:role=\"line\" id=\"tspan1009\" x=\"133.55989\" y=\"142.85045\" style=\"stroke-width:0.134388\">C</tspan></text>\n",
       "    <text xml:space=\"preserve\" style=\"font-style:normal;font-variant:normal;font-weight:normal;font-stretch:normal;font-size:6.76393px;line-height:1.25;font-family:sans-serif;-inkscape-font-specification:sans-serif;letter-spacing:0px;word-spacing:0px;fill:#000000;fill-opacity:1;stroke:none;stroke-width:0.181177\" x=\"141.65685\" y=\"151.10481\" id=\"text1023\"><tspan sodipodi:role=\"line\" id=\"tspan1021\" x=\"141.65685\" y=\"151.10481\" style=\"stroke-width:0.181177\">B<tspan style=\"font-size:65%;baseline-shift:sub\" id=\"tspan1019\">2</tspan></tspan></text>\n",
       "    <text xml:space=\"preserve\" style=\"font-style:normal;font-variant:normal;font-weight:normal;font-stretch:normal;font-size:6.62817px;line-height:1.25;font-family:sans-serif;-inkscape-font-specification:sans-serif;letter-spacing:0px;word-spacing:0px;fill:#ff0000;fill-opacity:1;stroke:none;stroke-width:0.17754\" x=\"121.60137\" y=\"171.64265\" id=\"text1027\"><tspan sodipodi:role=\"line\" id=\"tspan1025\" x=\"121.60137\" y=\"171.64265\" style=\"fill:#ff0000;stroke-width:0.17754\">v</tspan></text>\n",
       "    <text xml:space=\"preserve\" style=\"font-style:normal;font-variant:normal;font-weight:normal;font-stretch:normal;font-size:2.52298px;line-height:1.25;font-family:sans-serif;-inkscape-font-specification:sans-serif;letter-spacing:0px;word-spacing:0px;fill:#ff0000;fill-opacity:1;stroke:none;stroke-width:0.0675796\" x=\"126.02516\" y=\"168.26282\" id=\"text1031\"><tspan sodipodi:role=\"line\" id=\"tspan1029\" x=\"126.02516\" y=\"168.26282\" style=\"fill:#ff0000;stroke-width:0.0675796\">C/B<tspan style=\"font-size:65%;baseline-shift:sub\" id=\"tspan1049\">2</tspan></tspan></text>\n",
       "    <g id=\"g1037\" transform=\"translate(49.74143,44.93277)\" style=\"fill:#ff0000;stroke:#ff0000\">\n",
       "      <path style=\"fill:#ff0000;stroke:#ff0000;stroke-width:0.065;stroke-linecap:butt;stroke-linejoin:miter;stroke-miterlimit:4;stroke-dasharray:none;stroke-opacity:1\" d=\"m 72.411715,122.06262 3.080715,-0.054\" id=\"path1033\"/>\n",
       "      <path style=\"fill:#ff0000;stroke:#ff0000;stroke-width:0.065;stroke-linecap:butt;stroke-linejoin:miter;stroke-miterlimit:4;stroke-dasharray:none;stroke-opacity:1\" d=\"m 75.49243,122.00862 -1.189048,-0.75672 0.05405,1.56738 z\" id=\"path1035\"/>\n",
       "    </g>\n",
       "    <path style=\"fill:none;stroke:#000000;stroke-width:0.921889;stroke-linecap:butt;stroke-linejoin:miter;stroke-miterlimit:4;stroke-dasharray:none;stroke-opacity:1\" d=\"m 136.21841,135.1313 c 1.41978,-1.13551 2.7796,-2.35034 4.25933,-3.40652 0.57386,-0.40961 1.7868,-0.35166 2.47714,-0.43939 0.93755,-0.11916 1.62177,0.0413 2.50448,0.42914 3.49252,1.53464 2.04437,5.17703 4.43425,7.1185 0.59293,0.48169 1.65889,0.83894 2.30151,1.11934 4.26188,1.85958 9.21038,2.3587 12.14791,6.38732 1.15954,1.59015 1.70006,3.43192 2.13136,5.33489 2.21468,9.77131 -7.01865,18.36264 -16.59653,16.76735 -2.57767,-0.42934 -7.82006,-3.44954 -9.05573,-5.90825 -1.17662,-2.34118 -0.52664,-5.16203 -1.77807,-7.45603 -1.21258,-2.22278 -3.20884,-4.02321 -4.33035,-6.3012 -0.56205,-1.14156 -1.22465,-2.34501 -1.69333,-3.52198 -0.34048,-0.855 -0.14889,-1.82492 -0.26106,-2.70744 -0.38633,-3.03992 1.00875,-5.77487 3.45913,-7.41575 z\" id=\"path1039\"/>\n",
       "    <text xml:space=\"preserve\" style=\"font-style:normal;font-variant:normal;font-weight:normal;font-stretch:normal;font-size:6.76393px;line-height:1.25;font-family:sans-serif;-inkscape-font-specification:sans-serif;letter-spacing:0px;word-spacing:0px;fill:#000000;fill-opacity:1;stroke:none;stroke-width:0.181177\" x=\"141.65685\" y=\"151.10481\" id=\"text1045\"><tspan sodipodi:role=\"line\" id=\"tspan1043\" x=\"141.65685\" y=\"151.10481\" style=\"stroke-width:0.181177\">B<tspan style=\"font-size:65%;baseline-shift:sub\" id=\"tspan1041\">2</tspan></tspan></text>\n",
       "  </g>\n",
       "</svg>"
      ],
      "text/plain": [
       "<IPython.core.display.SVG object>"
      ]
     },
     "execution_count": 20,
     "metadata": {},
     "output_type": "execute_result"
    }
   ],
   "source": [
    "SVG('batata03.svg')"
   ]
  },
  {
   "cell_type": "markdown",
   "metadata": {
    "slideshow": {
     "slide_type": "fragment"
    }
   },
   "source": [
    "$$\\vec{v}{}^{C/B_{1}} = \\vec{v}{}^{C/B_{2}}$$"
   ]
  },
  {
   "cell_type": "code",
   "execution_count": 21,
   "metadata": {
    "slideshow": {
     "slide_type": "subslide"
    }
   },
   "outputs": [
    {
     "data": {
      "image/svg+xml": [
       "<svg xmlns:dc=\"http://purl.org/dc/elements/1.1/\" xmlns:cc=\"http://creativecommons.org/ns#\" xmlns:rdf=\"http://www.w3.org/1999/02/22-rdf-syntax-ns#\" xmlns:svg=\"http://www.w3.org/2000/svg\" xmlns=\"http://www.w3.org/2000/svg\" xmlns:sodipodi=\"http://sodipodi.sourceforge.net/DTD/sodipodi-0.dtd\" xmlns:inkscape=\"http://www.inkscape.org/namespaces/inkscape\" width=\"156.72002mm\" height=\"95.04113mm\" viewBox=\"0 0 156.72002 95.041131\" version=\"1.1\" id=\"svg1057\" sodipodi:docname=\"engrenagens.svg\" inkscape:version=\"1.0.1 (3bc2e813f5, 2020-09-07)\">\n",
       "  <defs id=\"defs1051\"/>\n",
       "  <sodipodi:namedview id=\"base\" pagecolor=\"#ffffff\" bordercolor=\"#666666\" borderopacity=\"1.0\" inkscape:pageopacity=\"0.0\" inkscape:pageshadow=\"2\" inkscape:zoom=\"1.4\" inkscape:cx=\"347.86957\" inkscape:cy=\"137.67215\" inkscape:document-units=\"mm\" inkscape:current-layer=\"layer1\" inkscape:document-rotation=\"0\" showgrid=\"false\" inkscape:window-width=\"1920\" inkscape:window-height=\"1017\" inkscape:window-x=\"-8\" inkscape:window-y=\"-8\" inkscape:window-maximized=\"1\" inkscape:snap-nodes=\"true\" inkscape:snap-others=\"true\" inkscape:snap-grids=\"false\" inkscape:snap-to-guides=\"true\" inkscape:snap-object-midpoints=\"true\" showguides=\"true\" inkscape:guide-bbox=\"true\" inkscape:snap-smooth-nodes=\"true\">\n",
       "    <sodipodi:guide position=\"48.805662,47.565578\" orientation=\"1,0\" id=\"guide1830\"/>\n",
       "    <sodipodi:guide position=\"98.682095,47.532168\" orientation=\"1,0\" id=\"guide1832\"/>\n",
       "  </sodipodi:namedview>\n",
       "  <metadata id=\"metadata1054\">\n",
       "    <rdf:RDF>\n",
       "      <cc:Work rdf:about=\"\">\n",
       "        <dc:format>image/svg+xml</dc:format>\n",
       "        <dc:type rdf:resource=\"http://purl.org/dc/dcmitype/StillImage\"/>\n",
       "        <dc:title/>\n",
       "      </cc:Work>\n",
       "    </rdf:RDF>\n",
       "  </metadata>\n",
       "  <g inkscape:label=\"Layer 1\" inkscape:groupmode=\"layer\" id=\"layer1\" transform=\"translate(-32.025614,-93.07577)\">\n",
       "    <g inkscape:label=\"Rendered Gears\" transform=\"matrix(1.5190139,0,0,1.5190139,65.492162,140.52796)\" id=\"g1627\">\n",
       "      <path style=\"fill:none;stroke:#000000;stroke-width:0.264583\" d=\"m 18.502461,-0.97787411 0.464754,-0.024566 1.230948,0.23661064 1.698929,0.7665040355 -0.0332,1.2046626245 -1.738566,0.6717699 -1.242113,0.1684555 -0.462694,-0.050126 -0.295444,1.8487926 0.455312,0.09657 1.127756,0.5471357 L 21.15078,5.6680355 20.80693,6.8230512 18.953747,7.0219641 17.710349,6.8632 17.276417,6.6950319 l -0.76388,1.709335 0.414742,0.2111057 0.94776,0.8203808 1.088023,1.5133086 -0.631021,1.026605 -1.84158,-0.287442 -1.159849,-0.475232 -0.375673,-0.274754 -1.180288,1.453437 0.346057,0.311251 0.70308,1.037663 0.659324,1.743325 -0.875353,0.8284 -1.704366,-0.75434 -0.997365,-0.759164 -0.291719,-0.362674 -1.516236,1.098447 0.253646,0.390236 0.410631,1.184261 0.185578,1.854617 L 9.888127,19.537319 8.4370404,18.3676 7.6701039,17.376096 7.482161,16.950356 l -1.748812,0.668577 0.1440134,0.442535 0.090041,1.250255 -0.3006775,1.839415 -1.1722006,0.279714 -1.0988542,-1.505444 -0.4841926,-1.156177 -0.071346,-0.45994 -1.86225839,0.19317 0.024566,0.464754 -0.23661064,1.230948 -0.7665040355,1.698929 -1.2046626245,-0.0332 -0.6717699,-1.738566 -0.1684555,-1.242113 0.050126,-0.462694 -1.8487926,-0.295444 -0.09657,0.455312 -0.5471357,1.127756 -1.1801006,1.442637 -1.1550157,-0.34385 -0.1989129,-1.853183 0.1587641,-1.243398 0.1681681,-0.433932 -1.709335,-0.76388 -0.2111057,0.414742 -0.8203808,0.94776 -1.5133086,1.088023 -1.026605,-0.631021 0.287442,-1.84158 0.475232,-1.159849 0.274754,-0.375673 -1.453437,-1.180288 -0.311251,0.346057 -1.037663,0.70308 -1.743325,0.659324 -0.8284,-0.875353 0.75434,-1.704366 0.759164,-0.997365 0.362674,-0.291719 -1.098447,-1.516236 -0.390236,0.253646 -1.184261,0.410631 -1.854617,0.185578 -0.573521,-1.059802 1.169719,-1.4510866 0.991504,-0.7669365 0.42574,-0.1879429 -0.668577,-1.748812 -0.442535,0.1440134 -1.250255,0.090041 -1.839415,-0.3006775 -0.279714,-1.1722006 1.505444,-1.0988542 1.156177,-0.4841926 0.45994,-0.071346 -0.19317,-1.86225839 -0.464754,0.024566 -1.230948,-0.23661064 -1.698929,-0.7665040355 0.0332,-1.2046626245 1.738566,-0.6717699 1.242113,-0.1684555 0.462694,0.050126 0.295444,-1.8487926 -0.455312,-0.09657 -1.127756,-0.5471357 -1.442637,-1.1801006 0.34385,-1.1550157 1.853183,-0.1989129 1.243398,0.1587641 0.433932,0.1681681 0.76388,-1.709335 -0.414742,-0.2111057 -0.94776,-0.8203808 -1.088023,-1.5133086 0.631021,-1.026605 1.84158,0.287442 1.159849,0.475232 0.375673,0.274754 1.180288,-1.453437 -0.346057,-0.311251 -0.70308,-1.037663 -0.659324,-1.743325 0.875353,-0.8284 1.704366,0.75434 0.997365,0.759164 0.291719,0.362674 1.516236,-1.098447 -0.253646,-0.390236 -0.410631,-1.184261 -0.185578,-1.854617 1.0598023,-0.573521 1.4510866,1.169719 0.7669365,0.991504 0.1879429,0.42574 1.748812,-0.668577 -0.1440134,-0.442535 -0.090041,-1.250255 0.3006775,-1.839415 1.1722006,-0.279714 1.0988542,1.505444 0.4841926,1.156177 0.071346,0.45994 1.86225844,-0.19317 -0.024566,-0.464754 0.23661079,-1.230948 0.7665040355,-1.698929 1.2046624745,0.0332 0.6717699,1.738566 0.1684555,1.242113 -0.050126,0.462694 1.8487926,0.295444 0.09657,-0.455312 0.5471357,-1.127756 1.1801006,-1.442637 1.1550157,0.34385 0.1989129,1.853183 -0.1587641,1.243398 -0.1681681,0.433932 1.709335,0.76388 0.2111057,-0.414742 0.8203808,-0.94776 1.5133083,-1.088023 1.026605,0.631021 -0.287442,1.84158 -0.475232,1.159849 -0.274754,0.375673 1.453437,1.180288 0.311251,-0.346057 1.037663,-0.70308 1.743325,-0.659324 0.8284,0.875353 -0.75434,1.704366 -0.759164,0.997365 -0.362674,0.291719 1.098447,1.516236 0.390236,-0.253646 1.184261,-0.410631 1.854617,-0.185578 0.573521,1.0598023 -1.169719,1.4510866 -0.991504,0.7669365 -0.42574,0.1879429 0.668577,1.748812 0.442535,-0.1440134 1.250255,-0.090041 1.839415,0.3006775 0.279714,1.1722006 -1.505444,1.0988542 -1.156177,0.4841926 -0.45994,0.071346 z\" id=\"path1623\"/>\n",
       "      <circle style=\"fill:none;stroke:#000000;stroke-width:0.264583\" id=\"path1625\" cx=\"0\" cy=\"0\" r=\"2.6458333\"/>\n",
       "    </g>\n",
       "    <g inkscape:label=\"Rendered Gears\" transform=\"matrix(1.5190139,0,0,1.5190139,141.20857,140.57871)\" id=\"g1823\">\n",
       "      <path style=\"fill:none;stroke:#000000;stroke-width:0.264583\" d=\"m 27.712528,-2.1057151 1.709188,0.305247 1.718698,0.6625896 0.02055,1.26389298 -1.696252,0.71810795 -1.698362,0.36064507 -0.123143,1.6716326 1.627258,0.6055284 1.572794,0.9588305 -0.205453,1.2472344 -1.797175,0.403707 -1.735491,0.051578 -0.419677,1.6227864 1.493006,0.8863679 1.376282,1.2242499 -0.424904,1.1904644 -1.840303,0.07632 -1.716839,-0.259126 -0.702655,1.521823 1.310782,1.138643 1.135526,1.450333 -0.630676,1.095497 -1.824361,-0.253478 -1.643046,-0.561566 -0.963026,1.371935 1.08636,1.35442 0.858306,1.629764 -0.816017,0.965292 -1.749882,-0.575231 -1.51635,-0.845863 -1.19251,1.17794 0.827024,1.526558 0.553531,1.756834 -0.975257,0.80416 -1.619094,-0.878498 -1.340906,-1.102948 -1.383605,0.946015 0.541088,1.649723 0.230937,1.827487 -1.103216,0.617015 -1.436138,-1.153408 -1.122383,-1.32473 -1.530387,0.683767 0.237888,1.719861 -0.09901,1.839352 L 9.5099006,29.675133 8.3027757,28.283871 7.4349448,26.77998 5.807094,27.179494 5.7340526,28.91421 5.3081568,30.70627 4.0584609,30.896309 3.1191612,29.311868 2.5338013,27.677168 0.86077496,27.779577 0.4791582,29.473404 -0.25988292,31.16064 -1.5234078,31.12447 l -0.6412928,-1.726703 -0.2840813,-1.712909 -1.664428,-0.19797 -0.6779266,1.598431 -1.0284259,1.528119 -1.2367698,-0.26123 -0.3226599,-1.813395 0.026332,-1.736157 -1.602328,-0.491919 -0.9524385,1.451674 -1.2847134,1.319958 -1.170322,-0.47784 0.0064,-1.841946 0.335854,-1.703485 -1.488717,-0.770202 -1.196303,1.258313 -1.499815,1.069421 -1.066181,-0.679159 0.335202,-1.811288 0.634613,-1.616129 -1.327314,-1.02356 -1.401733,1.024421 -1.666669,0.784396 -0.927679,-0.858534 0.653089,-1.722343 0.913015,-1.476837 -1.123172,-1.244107 -1.56219,0.757694 -1.779927,0.474196 -0.759526,-1.010487 0.950175,-1.577954 1.162084,-1.29006 -0.882977,-1.424736 -1.672437,0.466548 -1.835924,0.148763 -0.566841,-1.129835 1.216581,-1.382959 1.373822,-1.061772 -0.614432,-1.559538 -1.72882,0.1604836 -1.832993,-0.1814981 -0.356062,-1.2128624 1.444003,-1.1434937 1.541308,-0.7994901 -0.326069,-1.6441369 -1.72968,-0.1507934 -1.771157,-0.5058662 -0.13375,-1.2569619 1.625017,-0.8672697 1.659206,-0.5114285 -0.02725,-1.67593854 -1.674953,-0.45722354 -1.65235,-0.81398812 0.09282,-1.2606454 1.753777,-0.5631726 1.723864,-0.2069392 0.272452,-1.6538673 -1.566482,-0.7489654 -1.48041,-1.0959502 0.316448,-1.2237957 1.826124,-0.240986 1.733123,0.1042013 0.563412,-1.578687 -1.40761,-1.016553 -1.260892,-1.342681 0.529814,-1.147664 1.83979,0.08901 1.686719,0.411936 0.836197,-1.452684 -1.203404,-1.251604 -1.000967,-1.546233 0.726277,-1.034643 1.794401,0.416087 1.585994,0.706512 1.082137,-1.279959 -0.960538,-1.446378 -0.708731,-1.700204 0.89928,-0.888235 1.691287,0.729804 1.434292,0.978314 1.29334,-1.066164 -0.686812,-1.594646 -0.393902,-1.799435 1.04354,-0.713457 1.533785,1.020102 1.236574,1.21876 1.462894,-0.818188 -0.39105,-1.691666 -0.06623,-1.840767 1.15417,-0.51563 1.326942,1.277499 0.9991237,1.419947 1.5854908,-0.543744 -0.082754,-1.734384 0.2635426,-1.822925 1.2276246,-0.301295 1.0775559,1.493881 0.7295274,1.575549 1.6571131,-0.25197 0.2282509,-1.721237 0.5848252,-1.746638 1.2616814,-0.07722 0.79349641,1.662321 0.43647513,1.680527 1.67547116,0.04797 0.5319125,-1.652865 0.8872989,-1.614136 1.2552131,0.149316 0.4839239,1.777268 0.129392,1.731426 1.6399773,0.346387 0.8184863,-1.531307 1.1612621,-1.429765 1.2084205,0.371005 0.1587521,1.835162 -0.1818563,1.726684 1.5518053,0.633659 1.078727,-1.360515 1.397887,-1.199481 1.12269,0.580827 -0.17141,1.834029 -0.487176,1.666439 1.413625,0.90054 1.304345,-1.145954 1.589681,-0.930664 1.000882,0.772033 -0.49613,1.773899 -0.776964,1.552635 1.23017,1.138553 1.488053,-0.894707 1.730258,-0.631809 0.846964,0.938256 -0.804875,1.656803 -1.041759,1.389017 1.007114,1.339907 1.623923,-0.614679 1.815157,-0.312647 0.665953,1.074416 -1.08778,1.486479 -1.273077,1.18065 0.751753,1.498178 1.707509,-0.314797 1.841811,0.01646 0.463377,1.176023 -1.335759,1.2683404 -1.463404,0.9344315 0.472206,1.6082867 1.73625,-0.00486 1.809348,0.3450741 0.245888,1.2398968 -1.540795,1.0094495 -1.606714,0.6581046 z\" id=\"path1819\"/>\n",
       "      <circle style=\"fill:none;stroke:#000000;stroke-width:0.264583\" id=\"path1821\" cx=\"0\" cy=\"0\" r=\"2.6458333\"/>\n",
       "      <path style=\"fill:#ff0000;stroke:#ff0000;stroke-width:0.065;stroke-linecap:butt;stroke-linejoin:miter;stroke-miterlimit:4;stroke-dasharray:none;stroke-opacity:1\" d=\"M -49.845764,-0.03341637 -38.120121,16.369882\" id=\"path1840\"/>\n",
       "      <path style=\"fill:none;stroke:#ff0000;stroke-width:0.065;stroke-linecap:butt;stroke-linejoin:miter;stroke-miterlimit:4;stroke-dasharray:none;stroke-opacity:1\" d=\"M 0.03066779,-2.1461462e-6 -18.156571,23.451942\" id=\"path1842\"/>\n",
       "      <path style=\"fill:#ff0000;stroke:#ff0000;stroke-width:0.065;stroke-linecap:butt;stroke-linejoin:miter;stroke-miterlimit:4;stroke-dasharray:none;stroke-opacity:1\" d=\"m -18.156573,23.451939 0.467725,-1.23612 0.601355,0.467723 z\" id=\"path1844\"/>\n",
       "      <path style=\"fill:#ff0000;stroke:#ff0000;stroke-width:0.065;stroke-linecap:butt;stroke-linejoin:miter;stroke-miterlimit:4;stroke-dasharray:none;stroke-opacity:1\" d=\"m -38.120121,16.36988 -0.449159,-1.270112 -0.593003,0.451017 z\" id=\"path1846\"/>\n",
       "      <text xml:space=\"preserve\" style=\"font-style:normal;font-variant:normal;font-weight:normal;font-stretch:normal;font-size:5.72991px;line-height:1.25;font-family:sans-serif;-inkscape-font-specification:sans-serif;letter-spacing:0px;word-spacing:0px;fill:#ff0000;fill-opacity:1;stroke:none;stroke-width:0.15348\" x=\"-43.844227\" y=\"7.6764336\" id=\"text1850\"><tspan sodipodi:role=\"line\" id=\"tspan1848\" x=\"-43.844227\" y=\"7.6764336\" style=\"fill:#ff0000;stroke-width:0.15348\">r<tspan style=\"font-size:65%;baseline-shift:sub\" id=\"tspan1856\">1</tspan></tspan></text>\n",
       "      <text xml:space=\"preserve\" style=\"font-style:normal;font-variant:normal;font-weight:normal;font-stretch:normal;font-size:5.72991px;line-height:1.25;font-family:sans-serif;-inkscape-font-specification:sans-serif;letter-spacing:0px;word-spacing:0px;fill:#ff0000;fill-opacity:1;stroke:none;stroke-width:0.15348\" x=\"-13.133661\" y=\"8.9048557\" id=\"text1854\"><tspan sodipodi:role=\"line\" id=\"tspan1852\" x=\"-13.133661\" y=\"8.9048557\" style=\"fill:#ff0000;stroke-width:0.15348\">r<tspan style=\"font-size:65%;baseline-shift:sub\" id=\"tspan1858\">2</tspan></tspan></text>\n",
       "      <circle style=\"fill:none;stroke:none;stroke-width:0.0649999;stroke-miterlimit:4;stroke-dasharray:none\" id=\"path1860\" cx=\"-49.845768\" cy=\"-0.033410996\" r=\"5.5193257\"/>\n",
       "    </g>\n",
       "    <circle style=\"fill:none;stroke:#ff0000;stroke-width:0.0987357\" id=\"path1836\" cx=\"65.492157\" cy=\"140.52795\" r=\"30.658041\"/>\n",
       "    <circle style=\"fill:none;stroke:#ff0000;stroke-width:0.0987359;stroke-miterlimit:4;stroke-dasharray:none\" id=\"path1838\" cx=\"141.20856\" cy=\"140.5787\" r=\"45.058361\"/>\n",
       "    <g id=\"g1880\" transform=\"matrix(1.5190139,0,0,1.5190139,-26.802629,-112.52915)\">\n",
       "      <circle style=\"fill:none;stroke:#ff0000;stroke-width:0.0649999;stroke-miterlimit:4;stroke-dasharray:none\" id=\"path1874\" cx=\"60.75967\" cy=\"166.59302\" r=\"4.8191962\"/>\n",
       "      <path style=\"fill:#ff0000;stroke:#ff0000;stroke-width:0.264583px;stroke-linecap:butt;stroke-linejoin:miter;stroke-opacity:1\" d=\"m 65.578865,166.59302 -0.699188,-1.18659 1.202714,-0.16705 z\" id=\"path1876\"/>\n",
       "    </g>\n",
       "    <g id=\"g1886\" transform=\"matrix(-1.5190139,0,0,1.5190139,233.54994,-112.4784)\">\n",
       "      <circle style=\"fill:none;stroke:#ff0000;stroke-width:0.0649999;stroke-miterlimit:4;stroke-dasharray:none\" id=\"circle1882\" cx=\"60.75967\" cy=\"166.59302\" r=\"4.8191962\"/>\n",
       "      <path style=\"fill:#ff0000;stroke:#ff0000;stroke-width:0.264583px;stroke-linecap:butt;stroke-linejoin:miter;stroke-opacity:1\" d=\"m 65.578865,166.59302 -0.699188,-1.18659 1.202714,-0.16705 z\" id=\"path1884\"/>\n",
       "    </g>\n",
       "  </g>\n",
       "</svg>"
      ],
      "text/plain": [
       "<IPython.core.display.SVG object>"
      ]
     },
     "execution_count": 21,
     "metadata": {},
     "output_type": "execute_result"
    }
   ],
   "source": [
    "SVG('engrenagens.svg')"
   ]
  },
  {
   "cell_type": "markdown",
   "metadata": {
    "slideshow": {
     "slide_type": "subslide"
    }
   },
   "source": [
    "### Exemplo 2:"
   ]
  },
  {
   "cell_type": "code",
   "execution_count": 22,
   "metadata": {
    "scrolled": true,
    "slideshow": {
     "slide_type": "subslide"
    }
   },
   "outputs": [
    {
     "data": {
      "image/svg+xml": [
       "<svg xmlns:dc=\"http://purl.org/dc/elements/1.1/\" xmlns:cc=\"http://creativecommons.org/ns#\" xmlns:rdf=\"http://www.w3.org/1999/02/22-rdf-syntax-ns#\" xmlns:svg=\"http://www.w3.org/2000/svg\" xmlns=\"http://www.w3.org/2000/svg\" xmlns:sodipodi=\"http://sodipodi.sourceforge.net/DTD/sodipodi-0.dtd\" xmlns:inkscape=\"http://www.inkscape.org/namespaces/inkscape\" width=\"136.42647mm\" height=\"89.924995mm\" viewBox=\"0 0 136.42647 89.924995\" version=\"1.1\" id=\"svg8\" inkscape:version=\"1.0.1 (3bc2e813f5, 2020-09-07)\" sodipodi:docname=\"disco1.svg\">\n",
       "  <defs id=\"defs2\"/>\n",
       "  <sodipodi:namedview id=\"base\" pagecolor=\"#ffffff\" bordercolor=\"#666666\" borderopacity=\"1.0\" inkscape:pageopacity=\"0.0\" inkscape:pageshadow=\"2\" inkscape:zoom=\"2.8\" inkscape:cx=\"302.24504\" inkscape:cy=\"186.48489\" inkscape:document-units=\"mm\" inkscape:current-layer=\"layer1\" inkscape:document-rotation=\"0\" showgrid=\"false\" inkscape:snap-object-midpoints=\"true\" showguides=\"true\" inkscape:guide-bbox=\"true\" inkscape:snap-others=\"true\" inkscape:snap-grids=\"false\" inkscape:snap-to-guides=\"true\" inkscape:snap-smooth-nodes=\"true\" inkscape:window-width=\"1920\" inkscape:window-height=\"1017\" inkscape:window-x=\"-8\" inkscape:window-y=\"-8\" inkscape:window-maximized=\"1\">\n",
       "    <sodipodi:guide position=\"89.879257,36.070175\" orientation=\"0,-1\" id=\"guide873\"/>\n",
       "    <sodipodi:guide position=\"9.8320373,89.924994\" orientation=\"0,-1\" id=\"guide909\"/>\n",
       "  </sodipodi:namedview>\n",
       "  <metadata id=\"metadata5\">\n",
       "    <rdf:RDF>\n",
       "      <cc:Work rdf:about=\"\">\n",
       "        <dc:format>image/svg+xml</dc:format>\n",
       "        <dc:type rdf:resource=\"http://purl.org/dc/dcmitype/StillImage\"/>\n",
       "        <dc:title/>\n",
       "      </cc:Work>\n",
       "    </rdf:RDF>\n",
       "  </metadata>\n",
       "  <g inkscape:label=\"Layer 1\" inkscape:groupmode=\"layer\" id=\"layer1\" transform=\"translate(-0.59147354,-51.315741)\">\n",
       "    <circle style=\"fill:#ffffff;stroke:#000000;stroke-width:0.5;stroke-miterlimit:4;stroke-dasharray:none\" id=\"path833\" cx=\"90.470734\" cy=\"105.17056\" r=\"22.584274\"/>\n",
       "    <g id=\"g871\" transform=\"translate(3.7417734,-31.003265)\" style=\"stroke-width:0.5;stroke-miterlimit:4;stroke-dasharray:none\">\n",
       "      <path style=\"fill:none;stroke:#000000;stroke-width:0.5;stroke-linecap:butt;stroke-linejoin:miter;stroke-miterlimit:4;stroke-dasharray:none;stroke-opacity:1\" d=\"M 35.012307,159.02537 H 125.88395\" id=\"path835\"/>\n",
       "      <path style=\"fill:none;stroke:#000000;stroke-width:0.5;stroke-linecap:butt;stroke-linejoin:miter;stroke-miterlimit:4;stroke-dasharray:none;stroke-opacity:1\" d=\"M 35.012307,159.02537 42.571921,172.119\" id=\"path837\"/>\n",
       "      <path style=\"fill:none;stroke:#000000;stroke-width:0.5;stroke-linecap:butt;stroke-linejoin:miter;stroke-miterlimit:4;stroke-dasharray:none;stroke-opacity:1\" d=\"M 44.537313,159.02537 52.096927,172.119\" id=\"path839\"/>\n",
       "      <path style=\"fill:none;stroke:#000000;stroke-width:0.5;stroke-linecap:butt;stroke-linejoin:miter;stroke-miterlimit:4;stroke-dasharray:none;stroke-opacity:1\" d=\"M 55.120653,159.02537 62.680267,172.119\" id=\"path841\"/>\n",
       "      <path style=\"fill:none;stroke:#000000;stroke-width:0.5;stroke-linecap:butt;stroke-linejoin:miter;stroke-miterlimit:4;stroke-dasharray:none;stroke-opacity:1\" d=\"M 65.174826,159.02537 72.73444,172.119\" id=\"path843\"/>\n",
       "      <path style=\"fill:none;stroke:#000000;stroke-width:0.5;stroke-linecap:butt;stroke-linejoin:miter;stroke-miterlimit:4;stroke-dasharray:none;stroke-opacity:1\" d=\"M 75.228999,159.02537 82.788613,172.119\" id=\"path845\"/>\n",
       "      <path style=\"fill:none;stroke:#000000;stroke-width:0.5;stroke-linecap:butt;stroke-linejoin:miter;stroke-miterlimit:4;stroke-dasharray:none;stroke-opacity:1\" d=\"M 84.224838,159.02537 91.784452,172.119\" id=\"path847\"/>\n",
       "      <path style=\"fill:none;stroke:#000000;stroke-width:0.5;stroke-linecap:butt;stroke-linejoin:miter;stroke-miterlimit:4;stroke-dasharray:none;stroke-opacity:1\" d=\"M 93.220677,159.02537 100.78029,172.119\" id=\"path849\"/>\n",
       "      <path style=\"fill:none;stroke:#000000;stroke-width:0.5;stroke-linecap:butt;stroke-linejoin:miter;stroke-miterlimit:4;stroke-dasharray:none;stroke-opacity:1\" d=\"m 101.68736,159.02537 7.55965,13.09363\" id=\"path851\"/>\n",
       "      <path style=\"fill:none;stroke:#000000;stroke-width:0.5;stroke-linecap:butt;stroke-linejoin:miter;stroke-miterlimit:4;stroke-dasharray:none;stroke-opacity:1\" d=\"M 110.68325,159.02537 118.2429,172.119\" id=\"path853\"/>\n",
       "      <path style=\"fill:none;stroke:#000000;stroke-width:0.5;stroke-linecap:butt;stroke-linejoin:miter;stroke-miterlimit:4;stroke-dasharray:none;stroke-opacity:1\" d=\"m 119.14997,159.02537 7.55965,13.09363\" id=\"path855\"/>\n",
       "      <path style=\"fill:none;stroke:#000000;stroke-width:0.5;stroke-linecap:butt;stroke-linejoin:miter;stroke-miterlimit:4;stroke-dasharray:none;stroke-opacity:1\" d=\"m 125.50001,159.02537 7.55965,13.09363\" id=\"path857\"/>\n",
       "    </g>\n",
       "    <path style=\"fill:#ff0000;stroke:#ff0000;stroke-width:0.5;stroke-linecap:butt;stroke-linejoin:miter;stroke-miterlimit:4;stroke-dasharray:none;stroke-opacity:1\" d=\"M 10.423511,105.17056 V 66.817382\" id=\"path875\"/>\n",
       "    <path style=\"fill:#ff0000;stroke:#ff0000;stroke-width:0.5;stroke-linecap:butt;stroke-linejoin:miter;stroke-miterlimit:4;stroke-dasharray:none;stroke-opacity:1\" d=\"M 10.423511,105.17056 H 46.504896\" id=\"path877\"/>\n",
       "    <path style=\"fill:#ff0000;stroke:#ff0000;stroke-width:0.5;stroke-linecap:butt;stroke-linejoin:miter;stroke-miterlimit:4;stroke-dasharray:none;stroke-opacity:1\" d=\"m 46.504896,105.17056 -4.276312,-1.46998 0.133636,3.07359 z\" id=\"path879\"/>\n",
       "    <path style=\"fill:#ff0000;stroke:#ff0000;stroke-width:0.5;stroke-linecap:butt;stroke-linejoin:miter;stroke-miterlimit:4;stroke-dasharray:none;stroke-opacity:1\" d=\"M 10.423511,66.817382 8.41899,71.360963 h 3.741773 z\" id=\"path881\"/>\n",
       "    <text xml:space=\"preserve\" style=\"font-style:normal;font-variant:normal;font-weight:normal;font-stretch:normal;font-size:9.87777px;line-height:1.25;font-family:sans-serif;-inkscape-font-specification:sans-serif;letter-spacing:0px;word-spacing:0px;fill:#000000;fill-opacity:1;stroke:none;stroke-width:0.5;stroke-miterlimit:4;stroke-dasharray:none\" x=\"70.567886\" y=\"86.590919\" id=\"text887\"><tspan sodipodi:role=\"line\" id=\"tspan885\" x=\"70.567886\" y=\"86.590919\" style=\"stroke-width:0.5;stroke-miterlimit:4;stroke-dasharray:none\">D</tspan></text>\n",
       "    <text xml:space=\"preserve\" style=\"font-style:normal;font-variant:normal;font-weight:normal;font-stretch:normal;font-size:9.87777px;line-height:1.25;font-family:sans-serif;-inkscape-font-specification:sans-serif;letter-spacing:0px;word-spacing:0px;fill:#00ffff;fill-opacity:1;stroke:none;stroke-width:0.5;stroke-miterlimit:4;stroke-dasharray:none;\" x=\"106.66347\" y=\"126.20378\" id=\"text891\"><tspan sodipodi:role=\"line\" id=\"tspan889\" x=\"106.66347\" y=\"126.20378\" style=\"stroke-width:0.5;stroke-miterlimit:4;stroke-dasharray:none;fill:#00ffff;\">C</tspan></text>\n",
       "    <g id=\"g905\" style=\"stroke-width:0.5;stroke-miterlimit:4;stroke-dasharray:none\">\n",
       "      <path style=\"fill:none;stroke:#0000ff;stroke-width:0.5;stroke-linecap:butt;stroke-linejoin:miter;stroke-miterlimit:4;stroke-dasharray:none;stroke-opacity:1\" d=\"m 90.47073,105.17056 12.2944,-12.2944\" id=\"path893\"/>\n",
       "      <path style=\"fill:none;stroke:#0000ff;stroke-width:0.5;stroke-linecap:butt;stroke-linejoin:miter;stroke-miterlimit:4;stroke-dasharray:none;stroke-opacity:1\" d=\"m 90.47073,105.17056 11.42577,11.42577\" id=\"path895\"/>\n",
       "      <path style=\"fill:#0000ff;stroke:#0000ff;stroke-width:0.5;stroke-linecap:butt;stroke-linejoin:miter;stroke-miterlimit:4;stroke-dasharray:none;stroke-opacity:1\" d=\"m 101.8965,116.59633 -1.02411,-2.58926 -1.417405,1.46465 z\" id=\"path897\"/>\n",
       "      <path style=\"fill:#0000ff;stroke:#0000ff;stroke-width:0.5;stroke-linecap:butt;stroke-linejoin:miter;stroke-miterlimit:4;stroke-dasharray:none;stroke-opacity:1\" d=\"m 102.76513,92.87616 -2.31796,0.909182 1.41741,1.228421 z\" id=\"path899\"/>\n",
       "    </g>\n",
       "    <path style=\"fill:none;stroke:#000000;stroke-width:0.264583px;stroke-linecap:butt;stroke-linejoin:miter;stroke-opacity:1\" d=\"M 10.423511,66.817382 V 51.315749\" id=\"path907\"/>\n",
       "    <path style=\"fill:none;stroke:#000000;stroke-width:0.264583px;stroke-linecap:butt;stroke-linejoin:miter;stroke-opacity:1\" d=\"M 90.47073,105.17056 V 51.315741\" id=\"path911\"/>\n",
       "    <path style=\"fill:none;stroke:#000000;stroke-width:0.264583px;stroke-linecap:butt;stroke-linejoin:miter;stroke-opacity:1\" d=\"M 10.423511,62.407434 H 90.470735\" id=\"path913\"/>\n",
       "    <text xml:space=\"preserve\" style=\"font-style:normal;font-variant:normal;font-weight:normal;font-stretch:normal;font-size:9.87777px;line-height:1.25;font-family:sans-serif;-inkscape-font-specification:sans-serif;letter-spacing:0px;word-spacing:0px;fill:#000000;fill-opacity:1;stroke:none;stroke-width:0.264583\" x=\"45.97036\" y=\"60.402912\" id=\"text917\"><tspan sodipodi:role=\"line\" id=\"tspan915\" x=\"45.97036\" y=\"60.402912\" style=\"stroke-width:0.264583\">x</tspan></text>\n",
       "    <path style=\"fill:#000000;stroke:#000000;stroke-width:0.264583px;stroke-linecap:butt;stroke-linejoin:miter;stroke-opacity:1\" d=\"m 90.470735,62.407434 -5.142611,-1.553268 v 3.118302 z\" id=\"path919\"/>\n",
       "    <path style=\"fill:none;stroke:#000000;stroke-width:0.264583px;stroke-linecap:butt;stroke-linejoin:miter;stroke-opacity:1\" d=\"m 90.470732,77.632935 c 14.711798,1.322936 25.387318,8.377375 27.537628,27.537625\" id=\"path943\" sodipodi:nodetypes=\"cc\"/>\n",
       "    <text xml:space=\"preserve\" style=\"font-style:normal;font-variant:normal;font-weight:normal;font-stretch:normal;font-size:9.87777px;line-height:1.25;font-family:sans-serif;-inkscape-font-specification:sans-serif;letter-spacing:0px;word-spacing:0px;fill:#ff0000;fill-opacity:1;stroke:none;stroke-width:0.264583\" x=\"-0.37797561\" y=\"71.4375\" id=\"text951\"><tspan sodipodi:role=\"line\" id=\"tspan949\" x=\"-0.37797561\" y=\"71.4375\" style=\"fill:#ff0000;stroke-width:0.264583\">N</tspan></text>\n",
       "    <text xml:space=\"preserve\" style=\"font-style:normal;font-variant:normal;font-weight:normal;font-stretch:normal;font-size:9.87777px;line-height:1.25;font-family:sans-serif;-inkscape-font-specification:sans-serif;letter-spacing:0px;word-spacing:0px;fill:#ff0000;fill-opacity:1;stroke:none;stroke-width:0.264583\" x=\"13.040177\" y=\"74.083328\" id=\"text955\"><tspan sodipodi:role=\"line\" id=\"tspan953\" x=\"13.040177\" y=\"74.083328\" style=\"fill:#ff0000;stroke-width:0.264583\">n<tspan style=\"font-size:65%;baseline-shift:sub\" id=\"tspan961\">y</tspan></tspan></text>\n",
       "    <text xml:space=\"preserve\" style=\"font-style:normal;font-variant:normal;font-weight:normal;font-stretch:normal;font-size:9.87777px;line-height:1.25;font-family:sans-serif;-inkscape-font-specification:sans-serif;letter-spacing:0px;word-spacing:0px;fill:#ff0000;fill-opacity:1;stroke:none;stroke-width:0.264583\" x=\"36.474701\" y=\"116.03869\" id=\"text959\"><tspan sodipodi:role=\"line\" id=\"tspan957\" x=\"36.474701\" y=\"116.03869\" style=\"fill:#ff0000;stroke-width:0.264583\">n<tspan style=\"font-size:65%;baseline-shift:sub\" id=\"tspan963\">x</tspan></tspan></text>\n",
       "    <text xml:space=\"preserve\" style=\"font-style:normal;font-variant:normal;font-weight:normal;font-stretch:normal;font-size:9.87777px;line-height:1.25;font-family:sans-serif;-inkscape-font-specification:sans-serif;letter-spacing:0px;word-spacing:0px;fill:#0000ff;fill-opacity:1;stroke:none;stroke-width:0.264583\" x=\"99.21875\" y=\"113.20386\" id=\"text967\"><tspan sodipodi:role=\"line\" id=\"tspan965\" x=\"99.21875\" y=\"113.20386\" style=\"fill:#0000ff;stroke-width:0.264583\">d<tspan style=\"font-size:65%;baseline-shift:sub\" id=\"tspan975\">x</tspan></tspan></text>\n",
       "    <text xml:space=\"preserve\" style=\"font-style:normal;font-variant:normal;font-weight:normal;font-stretch:normal;font-size:9.87777px;line-height:1.25;font-family:sans-serif;-inkscape-font-specification:sans-serif;letter-spacing:0px;word-spacing:0px;fill:#0000ff;fill-opacity:1;stroke:none;stroke-width:0.264583\" x=\"89.944901\" y=\"93.820305\" id=\"text971\"><tspan sodipodi:role=\"line\" id=\"tspan969\" x=\"89.944901\" y=\"93.820305\" style=\"fill:#0000ff;stroke-width:0.264583\">d<tspan style=\"font-size:65%;baseline-shift:sub\" id=\"tspan973\">y</tspan></tspan></text>\n",
       "    <g id=\"g983\" transform=\"translate(-19.024774,-8.139919)\">\n",
       "      <ellipse style=\"fill:#ffffff;stroke:#000000;stroke-width:0.499999;stroke-miterlimit:4;stroke-dasharray:none\" id=\"path977\" cx=\"135.59895\" cy=\"90.241821\" rx=\"2.5513394\" ry=\"3.8742559\"/>\n",
       "      <path style=\"fill:none;stroke:#000000;stroke-width:0.365;stroke-linecap:butt;stroke-linejoin:miter;stroke-miterlimit:4;stroke-dasharray:none;stroke-opacity:1\" d=\"m 133.04761,90.24182 h 5.10268\" id=\"path979\"/>\n",
       "    </g>\n",
       "    <path style=\"fill:#000000;stroke:#000000;stroke-width:0.264583px;stroke-linecap:butt;stroke-linejoin:miter;stroke-opacity:1\" d=\"m 118.00836,105.17056 0.72341,-5.243106 -3.44903,1.039436 z\" id=\"path985\"/>\n",
       "    <path style=\"fill:#000000;stroke:#000000;stroke-width:0.264583px;stroke-linecap:butt;stroke-linejoin:miter;stroke-opacity:1\" d=\"m 90.47073,105.17056 -19.269467,11.52959 5.43341,-1.41741 -1.842634,-2.97656 -3.590776,4.39397\" id=\"path987\"/>\n",
       "    <text xml:space=\"preserve\" style=\"font-style:normal;font-variant:normal;font-weight:normal;font-stretch:normal;font-size:9.87777px;line-height:1.25;font-family:sans-serif;-inkscape-font-specification:sans-serif;letter-spacing:0px;word-spacing:0px;fill:#000000;fill-opacity:1;stroke:none;stroke-width:0.264583\" x=\"76.729164\" y=\"110.46353\" id=\"text991\"><tspan sodipodi:role=\"line\" id=\"tspan989\" x=\"76.729164\" y=\"110.46353\" style=\"stroke-width:0.264583\">r</tspan></text>\n",
       "    <text xml:space=\"preserve\" style=\"font-style:normal;font-variant:normal;font-weight:normal;font-stretch:normal;font-size:9.87777px;line-height:1.25;font-family:sans-serif;-inkscape-font-specification:sans-serif;letter-spacing:0px;word-spacing:0px;fill:#ff0000;fill-opacity:1;stroke:none;stroke-width:0.264583\" x=\"36.138321\" y=\"114.52499\" id=\"text995\"><tspan sodipodi:role=\"line\" id=\"tspan993\" x=\"36.138321\" y=\"114.52499\" style=\"fill:#ff0000;stroke-width:0.264583\">^</tspan></text>\n",
       "    <text xml:space=\"preserve\" style=\"font-style:normal;font-variant:normal;font-weight:normal;font-stretch:normal;font-size:9.87777px;line-height:1.25;font-family:sans-serif;-inkscape-font-specification:sans-serif;letter-spacing:0px;word-spacing:0px;fill:#ff0000;fill-opacity:1;stroke:none;stroke-width:0.264583\" x=\"13.019506\" y=\"71.8955\" id=\"text999\"><tspan sodipodi:role=\"line\" id=\"tspan997\" x=\"13.019506\" y=\"71.8955\" style=\"fill:#ff0000;stroke-width:0.264583\">^</tspan></text>\n",
       "    <text xml:space=\"preserve\" style=\"font-style:normal;font-variant:normal;font-weight:normal;font-stretch:normal;font-size:9.87777px;line-height:1.25;font-family:sans-serif;-inkscape-font-specification:sans-serif;letter-spacing:0px;word-spacing:0px;fill:#0000ff;fill-opacity:1;stroke:none;stroke-width:0.264583\" x=\"100.01574\" y=\"109.04597\" id=\"text1003\"><tspan sodipodi:role=\"line\" id=\"tspan1001\" x=\"100.01574\" y=\"109.04597\" style=\"fill:#0000ff;stroke-width:0.264583\">^</tspan></text>\n",
       "    <text xml:space=\"preserve\" style=\"font-style:normal;font-variant:normal;font-weight:normal;font-stretch:normal;font-size:9.87777px;line-height:1.25;font-family:sans-serif;-inkscape-font-specification:sans-serif;letter-spacing:0px;word-spacing:0px;fill:#0000ff;fill-opacity:1;stroke:none;stroke-width:0.264583\" x=\"89.859497\" y=\"90.203468\" id=\"text1007\"><tspan sodipodi:role=\"line\" id=\"tspan1005\" x=\"89.859497\" y=\"90.203468\" style=\"fill:#0000ff;stroke-width:0.264583\">^</tspan></text>\n",
       "    <text xml:space=\"preserve\" style=\"font-style:normal;font-variant:normal;font-weight:normal;font-stretch:normal;font-size:9.87777px;line-height:1.25;font-family:sans-serif;-inkscape-font-specification:sans-serif;letter-spacing:0px;word-spacing:0px;fill:#ff0000;fill-opacity:1;stroke:none;stroke-width:0.264583\" x=\"3.9323425\" y=\"110.78322\" id=\"text1011\"><tspan sodipodi:role=\"line\" id=\"tspan1009\" x=\"3.9323425\" y=\"110.78322\" style=\"fill:#ff0000;stroke-width:0.264583\">o</tspan></text>\n",
       "    <text xml:space=\"preserve\" style=\"font-style:normal;font-variant:normal;font-weight:normal;font-stretch:normal;font-size:6.75741px;line-height:1.25;font-family:sans-serif;-inkscape-font-specification:sans-serif;letter-spacing:0px;word-spacing:0px;fill:#0000ff;fill-opacity:1;stroke:none;stroke-width:0.181002\" x=\"81.195839\" y=\"103.79009\" id=\"text1015\"><tspan sodipodi:role=\"line\" id=\"tspan1013\" x=\"81.195839\" y=\"103.79009\" style=\"fill:#0000ff;stroke-width:0.181002\">O<tspan style=\"font-size:4.39232px;baseline-shift:sub;fill:#0000ff;stroke-width:0.181002\" id=\"tspan1017\">D</tspan></tspan></text>\n",
       "    <path style=\"fill:#00ffff;stroke:#00ffff;stroke-width:0.26458299;stroke-linecap:butt;stroke-linejoin:miter;stroke-opacity:1;stroke-miterlimit:4;stroke-dasharray:1.58749792, 0.52916596999999999;stroke-dashoffset:0\" d=\"m 90.47073,105.17056 16.13145,16.13145\" id=\"path1019\"/>\n",
       "  </g>\n",
       "</svg>"
      ],
      "text/plain": [
       "<IPython.core.display.SVG object>"
      ]
     },
     "execution_count": 22,
     "metadata": {},
     "output_type": "execute_result"
    }
   ],
   "source": [
    "SVG('disco1.svg')"
   ]
  },
  {
   "cell_type": "code",
   "execution_count": 23,
   "metadata": {
    "slideshow": {
     "slide_type": "fragment"
    }
   },
   "outputs": [],
   "source": [
    "theta,x = me.dynamicsymbols('theta x')\n",
    "r = sy.symbols('r')"
   ]
  },
  {
   "cell_type": "code",
   "execution_count": 24,
   "metadata": {
    "slideshow": {
     "slide_type": "fragment"
    }
   },
   "outputs": [],
   "source": [
    "N = me.ReferenceFrame('N')\n",
    "D = me.ReferenceFrame('D')"
   ]
  },
  {
   "cell_type": "code",
   "execution_count": 25,
   "metadata": {
    "slideshow": {
     "slide_type": "fragment"
    }
   },
   "outputs": [],
   "source": [
    "D.orient(N,'Axis',[-theta,N.z])"
   ]
  },
  {
   "cell_type": "code",
   "execution_count": 26,
   "metadata": {
    "slideshow": {
     "slide_type": "fragment"
    }
   },
   "outputs": [
    {
     "data": {
      "text/latex": [
       "$\\displaystyle -  \\dot{\\theta}\\mathbf{\\hat{n}_z}$"
      ],
      "text/plain": [
       "- theta'*N.z"
      ]
     },
     "execution_count": 26,
     "metadata": {},
     "output_type": "execute_result"
    }
   ],
   "source": [
    "D.ang_vel_in(N)"
   ]
  },
  {
   "cell_type": "code",
   "execution_count": 27,
   "metadata": {
    "slideshow": {
     "slide_type": "fragment"
    }
   },
   "outputs": [
    {
     "data": {
      "text/latex": [
       "$\\displaystyle -  \\ddot{\\theta}\\mathbf{\\hat{n}_z}$"
      ],
      "text/plain": [
       "- theta''*N.z"
      ]
     },
     "execution_count": 27,
     "metadata": {},
     "output_type": "execute_result"
    }
   ],
   "source": [
    "D.ang_acc_in(N)"
   ]
  },
  {
   "cell_type": "code",
   "execution_count": 28,
   "metadata": {
    "slideshow": {
     "slide_type": "subslide"
    }
   },
   "outputs": [],
   "source": [
    "pOdO = x*N.x\n",
    "pCOd = r*D.x"
   ]
  },
  {
   "cell_type": "code",
   "execution_count": 29,
   "metadata": {
    "slideshow": {
     "slide_type": "fragment"
    }
   },
   "outputs": [
    {
     "data": {
      "text/latex": [
       "$\\displaystyle x\\mathbf{\\hat{n}_x} + r\\mathbf{\\hat{d}_x}$"
      ],
      "text/plain": [
       "x*N.x + r*D.x"
      ]
     },
     "execution_count": 29,
     "metadata": {},
     "output_type": "execute_result"
    }
   ],
   "source": [
    "pCO = pOdO + pCOd\n",
    "pCO"
   ]
  },
  {
   "cell_type": "code",
   "execution_count": 30,
   "metadata": {
    "slideshow": {
     "slide_type": "fragment"
    }
   },
   "outputs": [
    {
     "data": {
      "text/latex": [
       "$\\displaystyle \\dot{x}\\mathbf{\\hat{n}_x} -  r \\dot{\\theta}\\mathbf{\\hat{d}_y}$"
      ],
      "text/plain": [
       "x'*N.x - r*theta'*D.y"
      ]
     },
     "execution_count": 30,
     "metadata": {},
     "output_type": "execute_result"
    }
   ],
   "source": [
    "velC = pCO.dt(N)\n",
    "velC"
   ]
  },
  {
   "cell_type": "markdown",
   "metadata": {
    "slideshow": {
     "slide_type": "subslide"
    }
   },
   "source": [
    "Quando $C$ é o ponto de contato do disco com o chão:\n",
    "$$\\hat{\\mathbf{d}}_y = \\hat{\\mathbf{n}}_x$$\n",
    "$$\\theta = \\dfrac{\\pi}{2}$$\n",
    "Neste instante de tempo, temos que:\n",
    "$${}^{N}\\vec{v} {}^{C} = \\vec{0}$$"
   ]
  },
  {
   "cell_type": "code",
   "execution_count": 31,
   "metadata": {
    "slideshow": {
     "slide_type": "fragment"
    }
   },
   "outputs": [
    {
     "data": {
      "text/latex": [
       "$\\displaystyle (- r \\operatorname{sin}\\left(\\theta\\right) \\dot{\\theta} + \\dot{x})\\mathbf{\\hat{n}_x} -  r \\operatorname{cos}\\left(\\theta\\right) \\dot{\\theta}\\mathbf{\\hat{n}_y}$"
      ],
      "text/plain": [
       "(-r*sin(theta)*theta' + x')*N.x - r*cos(theta)*theta'*N.y"
      ]
     },
     "execution_count": 31,
     "metadata": {},
     "output_type": "execute_result"
    }
   ],
   "source": [
    "velC.express(N)"
   ]
  },
  {
   "cell_type": "code",
   "execution_count": 32,
   "metadata": {
    "slideshow": {
     "slide_type": "fragment"
    }
   },
   "outputs": [
    {
     "data": {
      "text/latex": [
       "$\\displaystyle (- r \\dot{\\theta} + \\dot{x})\\mathbf{\\hat{n}_x}$"
      ],
      "text/plain": [
       "(-r*theta' + x')*N.x"
      ]
     },
     "execution_count": 32,
     "metadata": {},
     "output_type": "execute_result"
    }
   ],
   "source": [
    "dic = {theta:sy.pi/2}\n",
    "Eq = me.msubs(velC.express(N),dic)\n",
    "Eq"
   ]
  },
  {
   "cell_type": "code",
   "execution_count": 33,
   "metadata": {
    "slideshow": {
     "slide_type": "subslide"
    }
   },
   "outputs": [
    {
     "data": {
      "text/latex": [
       "$\\displaystyle - r \\frac{d}{d t} \\theta{\\left(t \\right)} + \\frac{d}{d t} x{\\left(t \\right)} = 0$"
      ],
      "text/plain": [
       "Eq(-r*Derivative(theta(t), t) + Derivative(x(t), t), 0)"
      ]
     },
     "execution_count": 33,
     "metadata": {},
     "output_type": "execute_result"
    }
   ],
   "source": [
    "Eqx = sy.Eq(Eq.dot(N.x),0)\n",
    "Eqx"
   ]
  },
  {
   "cell_type": "code",
   "execution_count": 34,
   "metadata": {
    "slideshow": {
     "slide_type": "fragment"
    }
   },
   "outputs": [
    {
     "data": {
      "text/latex": [
       "$\\displaystyle r \\frac{d}{d t} \\theta{\\left(t \\right)}$"
      ],
      "text/plain": [
       "r*Derivative(theta(t), t)"
      ]
     },
     "execution_count": 34,
     "metadata": {},
     "output_type": "execute_result"
    }
   ],
   "source": [
    "xsol = sy.solve(Eqx,x.diff())[0]\n",
    "xsol"
   ]
  },
  {
   "cell_type": "code",
   "execution_count": 35,
   "metadata": {
    "slideshow": {
     "slide_type": "fragment"
    }
   },
   "outputs": [
    {
     "data": {
      "text/latex": [
       "$\\displaystyle \\frac{d}{d t} x{\\left(t \\right)} = r \\frac{d}{d t} \\theta{\\left(t \\right)}$"
      ],
      "text/plain": [
       "Eq(Derivative(x(t), t), r*Derivative(theta(t), t))"
      ]
     },
     "execution_count": 35,
     "metadata": {},
     "output_type": "execute_result"
    }
   ],
   "source": [
    "sy.Eq(x.diff(),xsol)"
   ]
  },
  {
   "cell_type": "markdown",
   "metadata": {
    "slideshow": {
     "slide_type": "subslide"
    }
   },
   "source": [
    "### 4.3.2 Equações de Restrições Cinemáticas ou Equações de Vínculos"
   ]
  },
  {
   "cell_type": "markdown",
   "metadata": {
    "slideshow": {
     "slide_type": "subslide"
    }
   },
   "source": [
    "A determinação da configuração do sistema pode ser feita através de um conjunto de funções escalares do tempo, $q_1(t)$, $q_2(t)$, ..., $q_n(t)$, denominadas **coordenadas generalizadas** ou, simplesmente, coordenadas do sistema.\n",
    "* O número de coordenadas generalizadas mutuamente independentes de um sistema mecânico é conhecido como **número de graus de liberdade** do sistema.  \n",
    "$$f(q_1,q_2,...,q_n,\\dot{q}_1,\\dot{q}_2,...,\\dot{q}_n,t) = 0$$"
   ]
  },
  {
   "cell_type": "code",
   "execution_count": 36,
   "metadata": {
    "slideshow": {
     "slide_type": "subslide"
    }
   },
   "outputs": [
    {
     "data": {
      "image/svg+xml": [
       "<svg xmlns:dc=\"http://purl.org/dc/elements/1.1/\" xmlns:cc=\"http://creativecommons.org/ns#\" xmlns:rdf=\"http://www.w3.org/1999/02/22-rdf-syntax-ns#\" xmlns:svg=\"http://www.w3.org/2000/svg\" xmlns=\"http://www.w3.org/2000/svg\" xmlns:sodipodi=\"http://sodipodi.sourceforge.net/DTD/sodipodi-0.dtd\" xmlns:inkscape=\"http://www.inkscape.org/namespaces/inkscape\" width=\"86.461693mm\" height=\"47.92981mm\" viewBox=\"0 0 86.461693 47.92981\" version=\"1.1\" id=\"svg1894\" inkscape:version=\"1.0.1 (3bc2e813f5, 2020-09-07)\" sodipodi:docname=\"robo1.svg\">\n",
       "  <defs id=\"defs1888\"/>\n",
       "  <sodipodi:namedview id=\"base\" pagecolor=\"#ffffff\" bordercolor=\"#666666\" borderopacity=\"1.0\" inkscape:pageopacity=\"0.0\" inkscape:pageshadow=\"2\" inkscape:zoom=\"2.8\" inkscape:cx=\"129.37101\" inkscape:cy=\"112.52531\" inkscape:document-units=\"mm\" inkscape:current-layer=\"layer1\" inkscape:document-rotation=\"0\" showgrid=\"false\" inkscape:snap-object-midpoints=\"true\" inkscape:snap-others=\"false\" inkscape:snap-nodes=\"false\" inkscape:snap-smooth-nodes=\"false\" inkscape:snap-intersection-paths=\"false\" inkscape:snap-midpoints=\"false\" inkscape:window-width=\"1920\" inkscape:window-height=\"1017\" inkscape:window-x=\"-8\" inkscape:window-y=\"-8\" inkscape:window-maximized=\"1\"/>\n",
       "  <metadata id=\"metadata1891\">\n",
       "    <rdf:RDF>\n",
       "      <cc:Work rdf:about=\"\">\n",
       "        <dc:format>image/svg+xml</dc:format>\n",
       "        <dc:type rdf:resource=\"http://purl.org/dc/dcmitype/StillImage\"/>\n",
       "        <dc:title/>\n",
       "      </cc:Work>\n",
       "    </rdf:RDF>\n",
       "  </metadata>\n",
       "  <g inkscape:label=\"Layer 1\" inkscape:groupmode=\"layer\" id=\"layer1\" transform=\"translate(-25.123336,-151.15101)\">\n",
       "    <path id=\"rect2465\" style=\"fill:#ffffff;stroke:#000000;stroke-width:0.600002;stroke-miterlimit:4;stroke-dasharray:none\" d=\"m 34.611928,175.00507 c -2.670263,0 -4.819536,2.12792 -4.819536,4.77069 v 2.56796 h -0.0596 v 8.27857 h 9.758251 v -8.27857 h -0.05883 v -2.56796 c 0,-2.64277 -2.150031,-4.77069 -4.820292,-4.77069 z\"/>\n",
       "    <rect style=\"fill:#ffffff;stroke:#000000;stroke-width:0.6;stroke-miterlimit:4;stroke-dasharray:none\" id=\"rect2457\" width=\"6.9490075\" height=\"37.417732\" x=\"132.42323\" y=\"87.748741\" ry=\"3.4745038\" transform=\"rotate(37.30893)\"/>\n",
       "    <path style=\"fill:none;stroke:#000000;stroke-width:0.665;stroke-linecap:butt;stroke-linejoin:miter;stroke-miterlimit:4;stroke-dasharray:none;stroke-opacity:1\" d=\"m 94.592276,168.92715 -5.491499,-5.32587 -7.418016,0.93241 1.797621,2.79054 5.13859,-0.79516 3.19765,3.01178 z\" id=\"path2482\"/>\n",
       "    <rect style=\"fill:#ffffff;stroke:#000000;stroke-width:0.6;stroke-miterlimit:4;stroke-dasharray:none\" id=\"rect2459\" width=\"6.9490075\" height=\"37.417732\" x=\"113.67439\" y=\"-148.3118\" ry=\"3.4745038\" transform=\"rotate(115.48005)\" inkscape:transform-center-x=\"-13.923483\" inkscape:transform-center-y=\"6.5047636\"/>\n",
       "    <circle style=\"fill:#ffffff;stroke:#000000;stroke-width:0.600001;stroke-miterlimit:4;stroke-dasharray:none\" id=\"path2461\" cx=\"34.301342\" cy=\"179.2552\" r=\"1.6063988\"/>\n",
       "    <circle style=\"fill:#ffffff;stroke:#000000;stroke-width:0.600001;stroke-miterlimit:4;stroke-dasharray:none\" id=\"circle2463\" cx=\"53.011162\" cy=\"155.34821\" r=\"1.6063988\"/>\n",
       "    <circle style=\"fill:#ffffff;stroke:#000000;stroke-width:0.600001;stroke-miterlimit:4;stroke-dasharray:none\" id=\"circle2478\" cx=\"79.847473\" cy=\"167.72693\" r=\"1.6063988\"/>\n",
       "    <path style=\"fill:none;stroke:#000000;stroke-width:0.665;stroke-linecap:butt;stroke-linejoin:miter;stroke-miterlimit:4;stroke-dasharray:none;stroke-opacity:1\" d=\"m 77.579613,170.75074 2.362351,7.27604 6.992559,2.64584 -0.283482,-3.3073 -4.913691,-1.70089 -1.41741,-4.15773 z\" id=\"path2480\"/>\n",
       "    <g id=\"g2505\" style=\"stroke-width:0.371409;stroke-miterlimit:4;stroke-dasharray:none\" transform=\"matrix(1.8123249,0,0,1,7.6856837,-3.3408691)\">\n",
       "      <path style=\"fill:none;stroke:#000000;stroke-width:0.371409;stroke-linecap:butt;stroke-linejoin:miter;stroke-miterlimit:4;stroke-dasharray:none;stroke-opacity:1\" d=\"m 9.621703,194.17131 h 47.70761\" id=\"path2484\"/>\n",
       "      <path style=\"fill:none;stroke:#000000;stroke-width:0.371409;stroke-linecap:butt;stroke-linejoin:miter;stroke-miterlimit:4;stroke-dasharray:none;stroke-opacity:1\" d=\"m 9.8889724,194.43858 4.9444866,7.88445\" id=\"path2486\"/>\n",
       "      <path style=\"fill:none;stroke:#000000;stroke-width:0.371409;stroke-linecap:butt;stroke-linejoin:miter;stroke-miterlimit:4;stroke-dasharray:none;stroke-opacity:1\" d=\"m 18.355644,194.43858 4.944487,7.88445\" id=\"path2488\"/>\n",
       "      <path style=\"fill:none;stroke:#000000;stroke-width:0.371409;stroke-linecap:butt;stroke-linejoin:miter;stroke-miterlimit:4;stroke-dasharray:none;stroke-opacity:1\" d=\"m 26.293149,194.43858 4.944487,7.88445\" id=\"path2490\"/>\n",
       "      <path style=\"fill:none;stroke:#000000;stroke-width:0.371409;stroke-linecap:butt;stroke-linejoin:miter;stroke-miterlimit:4;stroke-dasharray:none;stroke-opacity:1\" d=\"m 34.759821,194.43858 4.944487,7.88445\" id=\"path2492\"/>\n",
       "      <path style=\"fill:none;stroke:#000000;stroke-width:0.371409;stroke-linecap:butt;stroke-linejoin:miter;stroke-miterlimit:4;stroke-dasharray:none;stroke-opacity:1\" d=\"m 43.226493,194.43858 4.944487,7.88445\" id=\"path2494\"/>\n",
       "      <path style=\"fill:none;stroke:#000000;stroke-width:0.371409;stroke-linecap:butt;stroke-linejoin:miter;stroke-miterlimit:4;stroke-dasharray:none;stroke-opacity:1\" d=\"m 51.163998,194.43858 4.944487,7.88445\" id=\"path2496\"/>\n",
       "    </g>\n",
       "    <path style=\"fill:none;stroke:#ff0000;stroke-width:0.264583px;stroke-linecap:butt;stroke-linejoin:miter;stroke-opacity:1\" d=\"M 34.2105,179.20422 H 58.064304\" id=\"path2507\"/>\n",
       "    <path style=\"fill:none;stroke:#ff0000;stroke-width:0.264583px;stroke-linecap:butt;stroke-linejoin:miter;stroke-opacity:1\" d=\"m 44.634012,179.07058 c 0.211868,-1.94341 -1.055546,-3.14718 -2.605879,-4.20949\" id=\"path2509\" sodipodi:nodetypes=\"cc\"/>\n",
       "    <path style=\"fill:none;stroke:#ff0000;stroke-width:0.264583px;stroke-linecap:butt;stroke-linejoin:miter;stroke-opacity:1\" d=\"m 50.246671,164.23712 c 3.060118,1.02434 6.316026,1.54833 10.958049,-1.46998\" id=\"path2511\" sodipodi:nodetypes=\"cc\"/>\n",
       "    <path style=\"fill:#ff0000;stroke:#ff0000;stroke-width:0.264583px;stroke-linecap:butt;stroke-linejoin:miter;stroke-opacity:1\" d=\"m 42.128357,174.9279 0.467723,1.5368 1.102487,-1.13589 z\" id=\"path2513\"/>\n",
       "    <path style=\"fill:#ff0000;stroke:#ff0000;stroke-width:0.264583px;stroke-linecap:butt;stroke-linejoin:miter;stroke-opacity:1\" d=\"m 59.300427,162.96759 1.135893,1.36975 0.668176,-1.50339 z\" id=\"path2515\"/>\n",
       "    <text xml:space=\"preserve\" style=\"font-style:normal;font-variant:normal;font-weight:normal;font-stretch:normal;font-size:4.25779px;line-height:1.25;font-family:sans-serif;-inkscape-font-specification:sans-serif;letter-spacing:0px;word-spacing:0px;fill:#ff0000;fill-opacity:1;stroke:none;stroke-width:0.264583\" x=\"45.14455\" y=\"177.33301\" id=\"text2519\"><tspan sodipodi:role=\"line\" id=\"tspan2517\" x=\"45.14455\" y=\"177.33301\" style=\"fill:#ff0000;stroke-width:0.264583\">q<tspan style=\"font-size:65%;baseline-shift:sub\" id=\"tspan2525\">1</tspan></tspan></text>\n",
       "    <text xml:space=\"preserve\" style=\"font-style:normal;font-variant:normal;font-weight:normal;font-stretch:normal;font-size:4.25779px;line-height:1.25;font-family:sans-serif;-inkscape-font-specification:sans-serif;letter-spacing:0px;word-spacing:0px;fill:#ff0000;fill-opacity:1;stroke:none;stroke-width:0.264583\" x=\"54.09808\" y=\"168.78038\" id=\"text2523\"><tspan sodipodi:role=\"line\" id=\"tspan2521\" x=\"54.09808\" y=\"168.78038\" style=\"fill:#ff0000;stroke-width:0.264583\">q<tspan style=\"font-size:65%;baseline-shift:sub\" id=\"tspan2527\">2</tspan></tspan></text>\n",
       "    <rect style=\"fill:#cccccc;stroke:#000000;stroke-width:0.499999;stroke-miterlimit:4;stroke-dasharray:none\" id=\"rect2529\" width=\"8.598958\" height=\"7.3705359\" x=\"86.260986\" y=\"169.57735\"/>\n",
       "    <path style=\"fill:#0000ff;stroke:#0000ff;stroke-width:0.264583px;stroke-linecap:butt;stroke-linejoin:miter;stroke-opacity:1\" d=\"m 90.434315,173.45011 h 8.418996 l -2.6727,-1.20272 -0.0668,2.40543 2.73951,-1.20271\" id=\"path2542\"/>\n",
       "    <path style=\"fill:#0000ff;stroke:#0000ff;stroke-width:0.264583px;stroke-linecap:butt;stroke-linejoin:miter;stroke-opacity:1\" d=\"m 90.486085,173.59637 v -8.419 l -1.20272,2.6727 2.40543,0.0668 -1.20271,-2.73951\" id=\"path3153\"/>\n",
       "  </g>\n",
       "</svg>"
      ],
      "text/plain": [
       "<IPython.core.display.SVG object>"
      ]
     },
     "execution_count": 36,
     "metadata": {},
     "output_type": "execute_result"
    }
   ],
   "source": [
    "SVG('robo1.svg')"
   ]
  },
  {
   "cell_type": "markdown",
   "metadata": {
    "slideshow": {
     "slide_type": "fragment"
    }
   },
   "source": [
    "2 coordenadas generalizadas independentes"
   ]
  },
  {
   "cell_type": "code",
   "execution_count": 37,
   "metadata": {
    "scrolled": true,
    "slideshow": {
     "slide_type": "subslide"
    }
   },
   "outputs": [
    {
     "data": {
      "image/svg+xml": [
       "<svg xmlns:dc=\"http://purl.org/dc/elements/1.1/\" xmlns:cc=\"http://creativecommons.org/ns#\" xmlns:rdf=\"http://www.w3.org/1999/02/22-rdf-syntax-ns#\" xmlns:svg=\"http://www.w3.org/2000/svg\" xmlns=\"http://www.w3.org/2000/svg\" xmlns:sodipodi=\"http://sodipodi.sourceforge.net/DTD/sodipodi-0.dtd\" xmlns:inkscape=\"http://www.inkscape.org/namespaces/inkscape\" width=\"73.516006mm\" height=\"38.410149mm\" viewBox=\"0 0 73.516007 38.410149\" version=\"1.1\" id=\"svg1894\" inkscape:version=\"1.0.1 (3bc2e813f5, 2020-09-07)\" sodipodi:docname=\"robo2.svg\">\n",
       "  <defs id=\"defs1888\"/>\n",
       "  <sodipodi:namedview id=\"base\" pagecolor=\"#ffffff\" bordercolor=\"#666666\" borderopacity=\"1.0\" inkscape:pageopacity=\"0.0\" inkscape:pageshadow=\"2\" inkscape:zoom=\"3.959798\" inkscape:cx=\"158.42614\" inkscape:cy=\"90.192171\" inkscape:document-units=\"mm\" inkscape:current-layer=\"layer1\" inkscape:document-rotation=\"0\" showgrid=\"false\" inkscape:snap-object-midpoints=\"true\" inkscape:snap-others=\"false\" inkscape:snap-nodes=\"false\" inkscape:snap-smooth-nodes=\"false\" inkscape:snap-intersection-paths=\"false\" inkscape:snap-midpoints=\"false\" inkscape:window-width=\"1920\" inkscape:window-height=\"1017\" inkscape:window-x=\"-8\" inkscape:window-y=\"-8\" inkscape:window-maximized=\"1\"/>\n",
       "  <metadata id=\"metadata1891\">\n",
       "    <rdf:RDF>\n",
       "      <cc:Work rdf:about=\"\">\n",
       "        <dc:format>image/svg+xml</dc:format>\n",
       "        <dc:type rdf:resource=\"http://purl.org/dc/dcmitype/StillImage\"/>\n",
       "        <dc:title/>\n",
       "      </cc:Work>\n",
       "    </rdf:RDF>\n",
       "  </metadata>\n",
       "  <g inkscape:label=\"Layer 1\" inkscape:groupmode=\"layer\" id=\"layer1\" transform=\"translate(-25.123336,-160.67901)\">\n",
       "    <path id=\"rect2465\" style=\"fill:#ffffff;stroke:#000000;stroke-width:0.600002;stroke-miterlimit:4;stroke-dasharray:none\" d=\"m 34.611928,175.00507 c -2.670263,0 -4.819536,2.12792 -4.819536,4.77069 v 2.56796 h -0.0596 v 8.27857 h 9.758251 v -8.27857 h -0.05883 v -2.56796 c 0,-2.64277 -2.150031,-4.77069 -4.820292,-4.77069 z\"/>\n",
       "    <rect style=\"fill:#ffffff;stroke:#000000;stroke-width:0.6;stroke-miterlimit:4;stroke-dasharray:none\" id=\"rect2457\" width=\"6.9490075\" height=\"37.417732\" x=\"170.3443\" y=\"21.60391\" ry=\"3.4745038\" transform=\"rotate(61.427463)\" inkscape:transform-center-x=\"-13.519285\" inkscape:transform-center-y=\"-7.3029342\"/>\n",
       "    <rect style=\"fill:#cccccc;stroke:#000000;stroke-width:0.5;stroke-miterlimit:4;stroke-dasharray:none\" id=\"rect2529\" width=\"11.055803\" height=\"9.8273811\" x=\"78.89045\" y=\"180.91663\"/>\n",
       "    <path id=\"rect2459\" style=\"fill:#ffffff;stroke:#000000;stroke-width:2.26772;stroke-miterlimit:4;stroke-dasharray:none\" inkscape:transform-center-x=\"-11.419481\" inkscape:transform-center-y=\"10.284472\" d=\"m 134.9375,37.158203 c -3.35345,0.149617 -6.64857,1.5853 -9.10352,4.269531 -4.90988,5.368461 -4.54032,13.642862 0.82813,18.552735 l 84.97656,77.718751 c 5.36845,4.90987 13.64285,4.54033 18.55274,-0.82813 4.90988,-5.36846 4.54032,-13.64286 -0.82813,-18.55273 L 144.38672,40.599609 c -2.68422,-2.454936 -6.09577,-3.591023 -9.44922,-3.441406 z m 86.53125,84.777347 a 6.0714285,6.0714285 0 0 1 0.006,0 6.0714285,6.0714285 0 0 1 6.07031,6.07031 6.0714285,6.0714285 0 0 1 -6.07031,6.07226 6.0714285,6.0714285 0 0 1 -6.07227,-6.07226 6.0714285,6.0714285 0 0 1 6.06641,-6.07031 z\" transform=\"matrix(0.26458333,0,0,0.26458333,25.123336,151.15101)\"/>\n",
       "    <circle style=\"fill:#ffffff;stroke:#000000;stroke-width:0.600001;stroke-miterlimit:4;stroke-dasharray:none\" id=\"path2461\" cx=\"34.301342\" cy=\"179.2552\" r=\"1.6063988\"/>\n",
       "    <circle style=\"fill:#ffffff;stroke:#000000;stroke-width:0.600001;stroke-miterlimit:4;stroke-dasharray:none\" id=\"circle2463\" cx=\"61.13765\" cy=\"164.79761\" r=\"1.6063988\"/>\n",
       "    <g id=\"g2505\" style=\"stroke-width:0.402785;stroke-miterlimit:4;stroke-dasharray:none\" transform=\"matrix(1.5409702,0,0,1,10.296578,-3.3408691)\">\n",
       "      <path style=\"fill:none;stroke:#000000;stroke-width:0.402785;stroke-linecap:butt;stroke-linejoin:miter;stroke-miterlimit:4;stroke-dasharray:none;stroke-opacity:1\" d=\"m 9.621703,194.17131 h 47.70761\" id=\"path2484\"/>\n",
       "      <path style=\"fill:none;stroke:#000000;stroke-width:0.402785;stroke-linecap:butt;stroke-linejoin:miter;stroke-miterlimit:4;stroke-dasharray:none;stroke-opacity:1\" d=\"m 9.8889724,194.43858 4.9444866,7.88445\" id=\"path2486\"/>\n",
       "      <path style=\"fill:none;stroke:#000000;stroke-width:0.402785;stroke-linecap:butt;stroke-linejoin:miter;stroke-miterlimit:4;stroke-dasharray:none;stroke-opacity:1\" d=\"m 18.355644,194.43858 4.944487,7.88445\" id=\"path2488\"/>\n",
       "      <path style=\"fill:none;stroke:#000000;stroke-width:0.402785;stroke-linecap:butt;stroke-linejoin:miter;stroke-miterlimit:4;stroke-dasharray:none;stroke-opacity:1\" d=\"m 26.293149,194.43858 4.944487,7.88445\" id=\"path2490\"/>\n",
       "      <path style=\"fill:none;stroke:#000000;stroke-width:0.402785;stroke-linecap:butt;stroke-linejoin:miter;stroke-miterlimit:4;stroke-dasharray:none;stroke-opacity:1\" d=\"m 34.759821,194.43858 4.944487,7.88445\" id=\"path2492\"/>\n",
       "      <path style=\"fill:none;stroke:#000000;stroke-width:0.402785;stroke-linecap:butt;stroke-linejoin:miter;stroke-miterlimit:4;stroke-dasharray:none;stroke-opacity:1\" d=\"m 43.226493,194.43858 4.944487,7.88445\" id=\"path2494\"/>\n",
       "      <path style=\"fill:none;stroke:#000000;stroke-width:0.402785;stroke-linecap:butt;stroke-linejoin:miter;stroke-miterlimit:4;stroke-dasharray:none;stroke-opacity:1\" d=\"m 51.163998,194.43858 4.944487,7.88445\" id=\"path2496\"/>\n",
       "    </g>\n",
       "    <path style=\"fill:none;stroke:#ff0000;stroke-width:0.264583px;stroke-linecap:butt;stroke-linejoin:miter;stroke-opacity:1\" d=\"M 34.2105,179.20422 H 58.064304\" id=\"path2507\"/>\n",
       "    <g id=\"g2536\" transform=\"translate(7.3705357,0.1889881)\">\n",
       "      <path style=\"fill:none;stroke:#ff0000;stroke-width:0.264583px;stroke-linecap:butt;stroke-linejoin:miter;stroke-opacity:1\" d=\"m 44.634012,179.07058 c 0.211868,-1.94341 -1.055546,-3.14718 -2.605879,-4.20949\" id=\"path2509\" sodipodi:nodetypes=\"cc\"/>\n",
       "      <path style=\"fill:#ff0000;stroke:#ff0000;stroke-width:0.264583px;stroke-linecap:butt;stroke-linejoin:miter;stroke-opacity:1\" d=\"m 42.128357,174.9279 0.467723,1.5368 1.102487,-1.13589 z\" id=\"path2513\"/>\n",
       "    </g>\n",
       "    <g id=\"g2540\" transform=\"translate(-0.28348214,-0.09449405)\">\n",
       "      <path style=\"fill:none;stroke:#ff0000;stroke-width:0.264583px;stroke-linecap:butt;stroke-linejoin:miter;stroke-opacity:1\" d=\"m 52.986998,173.49754 c 3.060118,1.02434 6.316026,1.54833 10.958049,-1.46998\" id=\"path2511\" sodipodi:nodetypes=\"cc\"/>\n",
       "      <path style=\"fill:#ff0000;stroke:#ff0000;stroke-width:0.264583px;stroke-linecap:butt;stroke-linejoin:miter;stroke-opacity:1\" d=\"m 62.040754,172.03902 1.135893,1.36975 0.668176,-1.50339 z\" id=\"path2515\"/>\n",
       "    </g>\n",
       "    <text xml:space=\"preserve\" style=\"font-style:normal;font-variant:normal;font-weight:normal;font-stretch:normal;font-size:4.25779px;line-height:1.25;font-family:sans-serif;-inkscape-font-specification:sans-serif;letter-spacing:0px;word-spacing:0px;fill:#ff0000;fill-opacity:1;stroke:none;stroke-width:0.264583\" x=\"52.042618\" y=\"177.6165\" id=\"text2519\"><tspan sodipodi:role=\"line\" id=\"tspan2517\" x=\"52.042618\" y=\"177.6165\" style=\"fill:#ff0000;stroke-width:0.264583\">q<tspan style=\"font-size:65%;baseline-shift:sub\" id=\"tspan2525\">1</tspan></tspan></text>\n",
       "    <text xml:space=\"preserve\" style=\"font-style:normal;font-variant:normal;font-weight:normal;font-stretch:normal;font-size:4.25779px;line-height:1.25;font-family:sans-serif;-inkscape-font-specification:sans-serif;letter-spacing:0px;word-spacing:0px;fill:#ff0000;fill-opacity:1;stroke:none;stroke-width:0.264583\" x=\"60.145702\" y=\"176.15091\" id=\"text2523\"><tspan sodipodi:role=\"line\" id=\"tspan2521\" x=\"60.145702\" y=\"176.15091\" style=\"fill:#ff0000;stroke-width:0.264583\">q<tspan style=\"font-size:65%;baseline-shift:sub\" id=\"tspan2527\">2</tspan></tspan></text>\n",
       "    <path style=\"fill:#0000ff;stroke:#0000ff;stroke-width:0.264583px;stroke-linecap:butt;stroke-linejoin:miter;stroke-opacity:1\" d=\"m 88.065308,186.27007 h 8.418991 l -2.672694,-1.20272 -0.06682,2.40543 2.739512,-1.20271\" id=\"path2542\"/>\n",
       "  </g>\n",
       "</svg>"
      ],
      "text/plain": [
       "<IPython.core.display.SVG object>"
      ]
     },
     "execution_count": 37,
     "metadata": {},
     "output_type": "execute_result"
    }
   ],
   "source": [
    "SVG('robo2.svg')"
   ]
  },
  {
   "cell_type": "markdown",
   "metadata": {
    "slideshow": {
     "slide_type": "fragment"
    }
   },
   "source": [
    "1 coordenada generalizada independente"
   ]
  },
  {
   "cell_type": "markdown",
   "metadata": {
    "slideshow": {
     "slide_type": "subslide"
    }
   },
   "source": [
    "### Exemplo 3:"
   ]
  },
  {
   "cell_type": "code",
   "execution_count": 38,
   "metadata": {
    "slideshow": {
     "slide_type": "fragment"
    }
   },
   "outputs": [
    {
     "data": {
      "image/svg+xml": [
       "<svg xmlns:dc=\"http://purl.org/dc/elements/1.1/\" xmlns:cc=\"http://creativecommons.org/ns#\" xmlns:rdf=\"http://www.w3.org/1999/02/22-rdf-syntax-ns#\" xmlns:svg=\"http://www.w3.org/2000/svg\" xmlns=\"http://www.w3.org/2000/svg\" xmlns:sodipodi=\"http://sodipodi.sourceforge.net/DTD/sodipodi-0.dtd\" xmlns:inkscape=\"http://www.inkscape.org/namespaces/inkscape\" width=\"147.65387mm\" height=\"61.359169mm\" viewBox=\"0 0 147.65387 61.359169\" version=\"1.1\" id=\"svg8\" inkscape:version=\"1.0.1 (3bc2e813f5, 2020-09-07)\" sodipodi:docname=\"biela-manivela2.svg\">\n",
       "  <defs id=\"defs2\">\n",
       "    <marker style=\"overflow:visible\" id=\"marker1435\" refX=\"0\" refY=\"0\" orient=\"auto\" inkscape:stockid=\"Arrow1Lend\" inkscape:isstock=\"true\">\n",
       "      <path transform=\"matrix(-0.8,0,0,-0.8,-10,0)\" style=\"fill:#ff0000;fill-opacity:1;fill-rule:evenodd;stroke:#ff0000;stroke-width:1pt;stroke-opacity:1\" d=\"M 0,0 5,-5 -12.5,0 5,5 Z\" id=\"path1433\"/>\n",
       "    </marker>\n",
       "    <marker style=\"overflow:visible\" id=\"marker1413\" refX=\"0\" refY=\"0\" orient=\"auto\" inkscape:stockid=\"Arrow1Lstart\" inkscape:isstock=\"true\">\n",
       "      <path transform=\"matrix(0.8,0,0,0.8,10,0)\" style=\"fill:#000000;fill-opacity:1;fill-rule:evenodd;stroke:#000000;stroke-width:1pt;stroke-opacity:1\" d=\"M 0,0 5,-5 -12.5,0 5,5 Z\" id=\"path1411\"/>\n",
       "    </marker>\n",
       "    <marker style=\"overflow:visible\" id=\"marker1227\" refX=\"0\" refY=\"0\" orient=\"auto\" inkscape:stockid=\"Arrow1Lend\" inkscape:isstock=\"true\">\n",
       "      <path transform=\"matrix(-0.8,0,0,-0.8,-10,0)\" style=\"fill:#ff0000;fill-opacity:1;fill-rule:evenodd;stroke:#ff0000;stroke-width:1pt;stroke-opacity:1\" d=\"M 0,0 5,-5 -12.5,0 5,5 Z\" id=\"path1225\"/>\n",
       "    </marker>\n",
       "    <marker style=\"overflow:visible\" id=\"marker1193\" refX=\"0\" refY=\"0\" orient=\"auto\" inkscape:stockid=\"Arrow1Lstart\" inkscape:isstock=\"true\">\n",
       "      <path transform=\"matrix(0.8,0,0,0.8,10,0)\" style=\"fill:#ff0000;fill-opacity:1;fill-rule:evenodd;stroke:#ff0000;stroke-width:1pt;stroke-opacity:1\" d=\"M 0,0 5,-5 -12.5,0 5,5 Z\" id=\"path1191\"/>\n",
       "    </marker>\n",
       "  </defs>\n",
       "  <sodipodi:namedview id=\"base\" pagecolor=\"#ffffff\" bordercolor=\"#666666\" borderopacity=\"1.0\" inkscape:pageopacity=\"0.0\" inkscape:pageshadow=\"2\" inkscape:zoom=\"1.979899\" inkscape:cx=\"241.43101\" inkscape:cy=\"101.89103\" inkscape:document-units=\"mm\" inkscape:current-layer=\"layer1\" inkscape:document-rotation=\"0\" showgrid=\"false\" showguides=\"true\" inkscape:guide-bbox=\"true\" inkscape:snap-nodes=\"false\" inkscape:snap-global=\"false\" inkscape:window-width=\"1920\" inkscape:window-height=\"1017\" inkscape:window-x=\"-8\" inkscape:window-y=\"-8\" inkscape:window-maximized=\"1\">\n",
       "    <sodipodi:guide position=\"27.291595,21.239775\" orientation=\"0,-1\" id=\"guide837\"/>\n",
       "  </sodipodi:namedview>\n",
       "  <metadata id=\"metadata5\">\n",
       "    <rdf:RDF>\n",
       "      <cc:Work rdf:about=\"\">\n",
       "        <dc:format>image/svg+xml</dc:format>\n",
       "        <dc:type rdf:resource=\"http://purl.org/dc/dcmitype/StillImage\"/>\n",
       "        <dc:title/>\n",
       "      </cc:Work>\n",
       "    </rdf:RDF>\n",
       "  </metadata>\n",
       "  <g inkscape:label=\"Layer 1\" inkscape:groupmode=\"layer\" id=\"layer1\" transform=\"translate(-46.073888,-88.971787)\">\n",
       "    <path style=\"fill:none;stroke:#000000;stroke-width:0.7;stroke-linecap:butt;stroke-linejoin:miter;stroke-miterlimit:4;stroke-dasharray:none;stroke-opacity:1\" d=\"m 57.664388,125.46368 h 10.593798 l 6.025853,10.43709 H 52.416393 Z\" id=\"path857\"/>\n",
       "    <rect style=\"fill:#ffffff;stroke:#000000;stroke-width:0.7;stroke-miterlimit:4;stroke-dasharray:none\" id=\"rect10\" width=\"5.2892442\" height=\"54.141151\" x=\"138.3114\" y=\"-22.091949\" ry=\"2.6446221\" inkscape:transform-center-x=\"-18.801227\" inkscape:transform-center-y=\"-14.52191\" transform=\"rotate(52.310077)\"/>\n",
       "    <rect style=\"fill:#ffffff;stroke:#000000;stroke-width:0.7;stroke-miterlimit:4;stroke-dasharray:none\" id=\"rect853\" width=\"20.189341\" height=\"16.185692\" x=\"157.68295\" y=\"119.76421\"/>\n",
       "    <rect style=\"fill:#ffffff;stroke:#000000;stroke-width:0.699999;stroke-miterlimit:4;stroke-dasharray:none\" id=\"rect835\" width=\"5.2892442\" height=\"77.829567\" x=\"-52.52449\" y=\"130.21509\" ry=\"3.8017251\" inkscape:transform-center-x=\"32.68512\" inkscape:transform-center-y=\"-14.551955\" transform=\"rotate(-66.150301)\"/>\n",
       "    <circle style=\"fill:#ffffff;stroke:#000000;stroke-width:0.7;stroke-miterlimit:4;stroke-dasharray:none\" id=\"path841\" cx=\"101.62834\" cy=\"100.37824\" r=\"4.8302884\"/>\n",
       "    <circle style=\"fill:#ffffff;stroke:#000000;stroke-width:0.7;stroke-miterlimit:4;stroke-dasharray:none\" id=\"path843\" cx=\"101.51643\" cy=\"100.44621\" r=\"2.3659611\"/>\n",
       "    <circle style=\"fill:#ffffff;stroke:#000000;stroke-width:0.7;stroke-miterlimit:4;stroke-dasharray:none\" id=\"circle845\" cx=\"63.295891\" cy=\"128.97316\" r=\"4.8302884\"/>\n",
       "    <circle style=\"fill:#ffffff;stroke:#000000;stroke-width:0.7;stroke-miterlimit:4;stroke-dasharray:none\" id=\"circle847\" cx=\"63.183983\" cy=\"129.04114\" r=\"2.3659611\"/>\n",
       "    <circle style=\"fill:#ffffff;stroke:#000000;stroke-width:0.7;stroke-miterlimit:4;stroke-dasharray:none\" id=\"circle849\" cx=\"167.46436\" cy=\"128.44586\" r=\"4.8302884\"/>\n",
       "    <circle style=\"fill:#ffffff;stroke:#000000;stroke-width:0.7;stroke-miterlimit:4;stroke-dasharray:none\" id=\"circle851\" cx=\"167.35245\" cy=\"128.51384\" r=\"2.3659611\"/>\n",
       "    <path style=\"fill:none;stroke:#000000;stroke-width:0.264583px;stroke-linecap:butt;stroke-linejoin:miter;stroke-opacity:1\" d=\"m 46.110173,136.0462 c 2.059744,-0.58747 136.327557,0 136.327557,0\" id=\"path859\"/>\n",
       "    <path style=\"fill:none;stroke:#000000;stroke-width:0.264583px;stroke-linecap:butt;stroke-linejoin:miter;stroke-opacity:1\" d=\"m 49.215005,135.99382 14.243592,14.24359\" id=\"path861\"/>\n",
       "    <path style=\"fill:none;stroke:#000000;stroke-width:0.264583px;stroke-linecap:butt;stroke-linejoin:miter;stroke-opacity:1\" d=\"m 67.206683,135.99382 14.243592,14.24359\" id=\"path863\"/>\n",
       "    <path style=\"fill:none;stroke:#000000;stroke-width:0.264583px;stroke-linecap:butt;stroke-linejoin:miter;stroke-opacity:1\" d=\"m 83.081693,135.99382 14.243592,14.24359\" id=\"path865\"/>\n",
       "    <path style=\"fill:none;stroke:#000000;stroke-width:0.264583px;stroke-linecap:butt;stroke-linejoin:miter;stroke-opacity:1\" d=\"m 98.956703,135.99382 14.243667,14.24359\" id=\"path867\"/>\n",
       "    <path style=\"fill:none;stroke:#000000;stroke-width:0.264583px;stroke-linecap:butt;stroke-linejoin:miter;stroke-opacity:1\" d=\"m 115.89014,135.99382 14.24367,14.24359\" id=\"path869\"/>\n",
       "    <path style=\"fill:none;stroke:#000000;stroke-width:0.264583px;stroke-linecap:butt;stroke-linejoin:miter;stroke-opacity:1\" d=\"m 132.29441,135.99382 14.24367,14.24359\" id=\"path871\"/>\n",
       "    <path style=\"fill:none;stroke:#000000;stroke-width:0.264583px;stroke-linecap:butt;stroke-linejoin:miter;stroke-opacity:1\" d=\"m 147.64034,135.99382 14.24367,14.24359\" id=\"path873\"/>\n",
       "    <path style=\"fill:none;stroke:#000000;stroke-width:0.264583px;stroke-linecap:butt;stroke-linejoin:miter;stroke-opacity:1\" d=\"m 164.04461,135.99382 14.24367,14.24359\" id=\"path875\"/>\n",
       "    <path style=\"fill:none;stroke:#000000;stroke-width:0.264583px;stroke-linecap:butt;stroke-linejoin:miter;stroke-opacity:1\" d=\"m 179.39054,135.99382 14.24367,14.24359\" id=\"path877\"/>\n",
       "    <path style=\"fill:none;stroke:#ff0000;stroke-width:0.264583px;stroke-linecap:butt;stroke-linejoin:miter;stroke-opacity:1;marker-start:\" d=\"M 84.730417,112.69418 63.143179,129.02003 47.780211,108.57531\" id=\"path881\"/>\n",
       "    <path style=\"fill:none;stroke:#ff0000;stroke-width:0.264583px;stroke-linecap:butt;stroke-linejoin:miter;stroke-opacity:1;marker-start:\" d=\"m 141.80061,117.19362 25.74975,11.40044 12.40188,-20.65993\" id=\"path883\"/>\n",
       "    <path style=\"fill:none;stroke:#000000;stroke-width:0.264583px;stroke-linecap:butt;stroke-linejoin:miter;stroke-opacity:1\" d=\"m 63.580221,128.95619 34.580671,0.0924\" id=\"path885\"/>\n",
       "    <path style=\"fill:none;stroke:#000000;stroke-width:0.264583px;stroke-linecap:butt;stroke-linejoin:miter;stroke-opacity:1\" d=\"m 167.4687,128.88907 -36.74089,0.16503\" id=\"path887\"/>\n",
       "    <path style=\"fill:none;stroke:#000000;stroke-width:0.265;stroke-linecap:butt;stroke-linejoin:miter;stroke-opacity:1;marker-end:;stroke-miterlimit:4;stroke-dasharray:none\" d=\"m 142.19055,120.7017 c -1.60409,2.38418 -2.93985,4.84749 -1.37482,8.16635\" id=\"path1431\" sodipodi:nodetypes=\"cc\"/>\n",
       "    <text xml:space=\"preserve\" style=\"font-style:normal;font-weight:normal;font-size:7.05556px;line-height:1.25;font-family:sans-serif;fill:#ff0000;fill-opacity:1;stroke:none;stroke-width:0.264583;\" x=\"99.053696\" y=\"94.208336\" id=\"text1481\"><tspan sodipodi:role=\"line\" id=\"tspan1479\" x=\"99.053696\" y=\"94.208336\" style=\"font-size:7.05556px;stroke-width:0.264583;fill:#ff0000;\">Q</tspan></text>\n",
       "    <text xml:space=\"preserve\" style=\"font-style:normal;font-weight:normal;font-size:7.05556px;line-height:1.25;font-family:sans-serif;fill:#ff0000;fill-opacity:1;stroke:none;stroke-width:0.264583;\" x=\"66.156761\" y=\"137.3009\" id=\"text1485\"><tspan sodipodi:role=\"line\" id=\"tspan1483\" x=\"66.156761\" y=\"137.3009\" style=\"font-size:7.05556px;stroke-width:0.264583;fill:#ff0000;\">O</tspan></text>\n",
       "    <text xml:space=\"preserve\" style=\"font-style:normal;font-weight:normal;font-size:7.05556px;line-height:1.25;font-family:sans-serif;fill:#ff0000;fill-opacity:1;stroke:none;stroke-width:0.264583;\" x=\"172.1562\" y=\"134.83026\" id=\"text1489\"><tspan sodipodi:role=\"line\" id=\"tspan1487\" x=\"172.1562\" y=\"134.83026\" style=\"font-size:7.05556px;stroke-width:0.264583;fill:#ff0000;\">C</tspan></text>\n",
       "    <text xml:space=\"preserve\" style=\"font-style:normal;font-weight:normal;font-size:10.5833px;line-height:1.25;font-family:sans-serif;fill:#000000;fill-opacity:1;stroke:none;stroke-width:0.264583\" x=\"72.263763\" y=\"108.21267\" id=\"text1493\"><tspan sodipodi:role=\"line\" id=\"tspan1491\" x=\"72.263763\" y=\"108.21267\" style=\"stroke-width:0.264583\">A</tspan></text>\n",
       "    <text xml:space=\"preserve\" style=\"font-style:normal;font-weight:normal;font-size:10.5833px;line-height:1.25;font-family:sans-serif;fill:#000000;fill-opacity:1;stroke:none;stroke-width:0.264583\" x=\"139.2551\" y=\"109.60692\" id=\"text1497\"><tspan sodipodi:role=\"line\" id=\"tspan1495\" x=\"139.2551\" y=\"109.60692\" style=\"stroke-width:0.264583\">B</tspan></text>\n",
       "    <text xml:space=\"preserve\" style=\"font-size:7.05556px;line-height:1.25;font-family:sans-serif;fill:#ff0000;stroke-width:0.264583\" x=\"49.479931\" y=\"108.25814\" id=\"text1505\"><tspan sodipodi:role=\"line\" id=\"tspan1503\" x=\"49.479931\" y=\"108.25814\" style=\"fill:#ff0000;stroke-width:0.264583\">â<tspan style=\"font-size:65%;baseline-shift:sub;fill:#ff0000\" id=\"tspan1531\">y</tspan></tspan></text>\n",
       "    <text xml:space=\"preserve\" style=\"font-size:7.05556px;line-height:1.25;font-family:sans-serif;stroke-width:0.264583;fill:#ff0000;\" x=\"149.45815\" y=\"116.40037\" id=\"text1509\"><tspan sodipodi:role=\"line\" id=\"tspan1507\" x=\"149.45815\" y=\"116.40037\" style=\"stroke-width:0.264583;fill:#ff0000;\">b<tspan style=\"font-size:65%;baseline-shift:sub;fill:#ff0000;\" id=\"tspan1535\">y</tspan></tspan></text>\n",
       "    <text xml:space=\"preserve\" style=\"font-size:7.05556px;line-height:1.25;font-family:sans-serif;stroke-width:0.264583;fill:#ff0000;\" x=\"182.06195\" y=\"114.11613\" id=\"text1513\"><tspan sodipodi:role=\"line\" id=\"tspan1511\" x=\"182.06195\" y=\"114.11613\" style=\"stroke-width:0.264583;fill:#ff0000;\">b<tspan style=\"font-size:65%;baseline-shift:sub;fill:#ff0000;\" id=\"tspan1537\">x</tspan></tspan></text>\n",
       "    <text xml:space=\"preserve\" style=\"font-size:7.05556px;line-height:1.25;font-family:sans-serif;stroke-width:0.264583;fill:#ff0000;\" x=\"85.698814\" y=\"119.54067\" id=\"text1519\"><tspan sodipodi:role=\"line\" id=\"tspan1517\" x=\"85.698814\" y=\"119.54067\" style=\"stroke-width:0.264583;fill:#ff0000;\">â<tspan style=\"font-size:65%;baseline-shift:sub;fill:#ff0000;\" id=\"tspan1533\">x</tspan></tspan></text>\n",
       "    <text xml:space=\"preserve\" style=\"font-size:7.05556px;line-height:1.25;font-family:sans-serif;stroke-width:0.264583;fill:#ff0000;\" x=\"85.429138\" y=\"101.75543\" id=\"text1523\"><tspan sodipodi:role=\"line\" id=\"tspan1521\" x=\"85.429138\" y=\"101.75543\" style=\"stroke-width:0.264583;fill:#ff0000;\">L<tspan style=\"font-size:65%;baseline-shift:sub;fill:#ff0000;\" id=\"tspan1551\">a</tspan></tspan></text>\n",
       "    <text xml:space=\"preserve\" style=\"font-size:7.05556px;line-height:1.25;font-family:sans-serif;stroke-width:0.264583;fill:#ff0000;\" x=\"117.06631\" y=\"103.13172\" id=\"text1527\"><tspan sodipodi:role=\"line\" id=\"tspan1525\" x=\"117.06631\" y=\"103.13172\" style=\"stroke-width:0.264583;fill:#ff0000;\">L<tspan style=\"font-size:65%;baseline-shift:sub;fill:#ff0000;\" id=\"tspan1549\">b</tspan></tspan></text>\n",
       "    <text xml:space=\"preserve\" style=\"font-size:4.58611px;line-height:1.25;font-family:sans-serif;stroke-width:0.264583;fill:#ff0000;\" x=\"148.91661\" y=\"113.02181\" id=\"text1541\"><tspan sodipodi:role=\"line\" id=\"tspan1539\" x=\"148.91661\" y=\"113.02181\" style=\"font-size:4.58611px;stroke-width:0.264583;fill:#ff0000;\">^</tspan></text>\n",
       "    <text xml:space=\"preserve\" style=\"font-size:4.58611px;line-height:1.25;font-family:sans-serif;stroke-width:0.264583;fill:#ff0000;\" x=\"181.86467\" y=\"109.93748\" id=\"text1545\"><tspan sodipodi:role=\"line\" id=\"tspan1543\" x=\"181.86467\" y=\"109.93748\" style=\"font-size:4.58611px;stroke-width:0.264583;fill:#ff0000;\">^</tspan></text>\n",
       "    <path style=\"fill:none;stroke:#000000;stroke-width:0.264583px;stroke-linecap:butt;stroke-linejoin:miter;stroke-opacity:1\" d=\"m 80.418021,129.19585 c 0.4944,-3.33342 -1.310893,-5.38923 -4.009043,-6.94901\" id=\"path968\" sodipodi:nodetypes=\"cc\"/>\n",
       "    <ellipse style=\"fill:#ffffff;stroke:#000000;stroke-width:0.264999;stroke-miterlimit:4;stroke-dasharray:none\" id=\"path970\" cx=\"82.517319\" cy=\"124.11537\" rx=\"1.2027128\" ry=\"1.9377041\"/>\n",
       "    <path style=\"fill:none;stroke:#000000;stroke-width:0.264583px;stroke-linecap:butt;stroke-linejoin:miter;stroke-opacity:1\" d=\"m 81.225673,124.26531 h 2.504093\" id=\"path972\"/>\n",
       "    <path style=\"fill:#000000;stroke:#000000;stroke-width:0.264583px;stroke-linecap:butt;stroke-linejoin:miter;stroke-opacity:1\" d=\"m 76.8317,122.61167 0.614212,1.65364 1.322916,-1.13393 z\" id=\"path974\"/>\n",
       "    <ellipse style=\"fill:#ffffff;stroke:#000000;stroke-width:0.264999;stroke-miterlimit:4;stroke-dasharray:none\" id=\"path976\" cx=\"137.87486\" cy=\"124.3598\" rx=\"1.4646577\" ry=\"1.5119048\"/>\n",
       "    <path style=\"fill:none;stroke:#000000;stroke-width:0.264583px;stroke-linecap:butt;stroke-linejoin:miter;stroke-opacity:1\" d=\"m 135.46526,126.53317 4.58296,-4.20499\" id=\"path978\"/>\n",
       "    <path style=\"fill:#000000;stroke:#000000;stroke-width:0.264583px;stroke-linecap:butt;stroke-linejoin:miter;stroke-opacity:1\" d=\"m 142.22158,120.62729 -1.55915,1.32292 1.37016,0.61421 z\" id=\"path980\"/>\n",
       "    <path style=\"fill:#ff0000;stroke:#ff0000;stroke-width:0.264583px;stroke-linecap:butt;stroke-linejoin:miter;stroke-opacity:1\" d=\"m 179.9091,108.08156 -2.07134,1.67043 1.40317,0.73499 z\" id=\"path1084\"/>\n",
       "    <path style=\"fill:#ff0000;stroke:#ff0000;stroke-width:0.264583px;stroke-linecap:butt;stroke-linejoin:miter;stroke-opacity:1\" d=\"m 141.95683,117.16872 h 2.87315 l -1.20272,1.67044 z\" id=\"path1110\"/>\n",
       "    <path style=\"fill:#ff0000;stroke:#ff0000;stroke-width:0.264583px;stroke-linecap:butt;stroke-linejoin:miter;stroke-opacity:1\" d=\"m 84.761151,112.62514 -3.674956,1.46998 1.469982,1.60362 z\" id=\"path1136\"/>\n",
       "    <path style=\"fill:#ff0000;stroke:#ff0000;stroke-width:0.264583px;stroke-linecap:butt;stroke-linejoin:miter;stroke-opacity:1\" d=\"m 47.81114,108.6161 1.135895,3.4745 1.80407,-1.46998 z\" id=\"path1138\"/>\n",
       "  </g>\n",
       "</svg>"
      ],
      "text/plain": [
       "<IPython.core.display.SVG object>"
      ]
     },
     "execution_count": 38,
     "metadata": {},
     "output_type": "execute_result"
    }
   ],
   "source": [
    "SVG('biela-manivela2.svg')"
   ]
  },
  {
   "cell_type": "markdown",
   "metadata": {
    "slideshow": {
     "slide_type": "fragment"
    }
   },
   "source": [
    "$${}^{N}\\vec{\\omega}{}^{A} = \\dot{\\theta} \\hat{\\mathbf{n}}_z \\qquad {}^{N}\\vec{\\omega}{}^{B} = -\\dot{\\phi} \\hat{\\mathbf{n}}_z$$\n",
    "Obter $\\dot{\\phi}(t)$:"
   ]
  },
  {
   "cell_type": "code",
   "execution_count": 39,
   "metadata": {
    "slideshow": {
     "slide_type": "subslide"
    }
   },
   "outputs": [],
   "source": [
    "theta,phi = me.dynamicsymbols('theta phi')\n",
    "t = me.dynamicsymbols._t"
   ]
  },
  {
   "cell_type": "code",
   "execution_count": 40,
   "metadata": {
    "slideshow": {
     "slide_type": "fragment"
    }
   },
   "outputs": [],
   "source": [
    "la,lb = sy.symbols('la lb')"
   ]
  },
  {
   "cell_type": "code",
   "execution_count": 41,
   "metadata": {
    "slideshow": {
     "slide_type": "subslide"
    }
   },
   "outputs": [],
   "source": [
    "N = me.ReferenceFrame('N')\n",
    "A = me.ReferenceFrame('A')\n",
    "B = me.ReferenceFrame('B')"
   ]
  },
  {
   "cell_type": "code",
   "execution_count": 42,
   "metadata": {
    "slideshow": {
     "slide_type": "fragment"
    }
   },
   "outputs": [],
   "source": [
    "A.orient(N,'Axis',[theta,N.z])\n",
    "B.orient(N,'Axis',[sy.pi/2-phi,N.z])"
   ]
  },
  {
   "cell_type": "code",
   "execution_count": 43,
   "metadata": {
    "slideshow": {
     "slide_type": "subslide"
    }
   },
   "outputs": [],
   "source": [
    "O = me.Point('O')\n",
    "O.set_vel(N,0)"
   ]
  },
  {
   "cell_type": "code",
   "execution_count": 44,
   "metadata": {
    "slideshow": {
     "slide_type": "fragment"
    }
   },
   "outputs": [],
   "source": [
    "Q = me.Point('Q')\n",
    "pQO = la*A.x\n",
    "Q.set_pos(O,pQO)\n",
    "Q.set_vel(N,pQO.dt(N))"
   ]
  },
  {
   "cell_type": "code",
   "execution_count": 45,
   "metadata": {
    "slideshow": {
     "slide_type": "subslide"
    }
   },
   "outputs": [
    {
     "data": {
      "text/latex": [
       "$\\displaystyle la \\dot{\\theta}\\mathbf{\\hat{a}_y} -  lb \\dot{\\phi}\\mathbf{\\hat{b}_x}$"
      ],
      "text/plain": [
       "la*theta'*A.y - lb*phi'*B.x"
      ]
     },
     "execution_count": 45,
     "metadata": {},
     "output_type": "execute_result"
    }
   ],
   "source": [
    "C = me.Point('C')\n",
    "pCQ = -lb*B.y\n",
    "pCO = pQO + pCQ\n",
    "C.set_pos(O, pCO)\n",
    "C.set_vel(N,pCO.dt(N))\n",
    "C.vel(N)"
   ]
  },
  {
   "cell_type": "code",
   "execution_count": 46,
   "metadata": {
    "slideshow": {
     "slide_type": "subslide"
    }
   },
   "outputs": [
    {
     "data": {
      "text/latex": [
       "$\\displaystyle (la \\operatorname{cos}\\left(\\theta\\right) + lb \\operatorname{cos}\\left(\\phi\\right) - x)\\mathbf{\\hat{n}_x} + (la \\operatorname{sin}\\left(\\theta\\right) - lb \\operatorname{sin}\\left(\\phi\\right))\\mathbf{\\hat{n}_y}$"
      ],
      "text/plain": [
       "(la*cos(theta) + lb*cos(phi) - x)*N.x + (la*sin(theta) - lb*sin(phi))*N.y"
      ]
     },
     "execution_count": 46,
     "metadata": {},
     "output_type": "execute_result"
    }
   ],
   "source": [
    "x = sy.symbols('x')\n",
    "Eq1 = (la*A.x - lb*B.y) - x*N.x\n",
    "Eq1.express(N)"
   ]
  },
  {
   "cell_type": "code",
   "execution_count": 47,
   "metadata": {
    "slideshow": {
     "slide_type": "fragment"
    }
   },
   "outputs": [
    {
     "data": {
      "text/latex": [
       "$\\displaystyle \\pi - \\operatorname{asin}{\\left(\\frac{la \\sin{\\left(\\theta{\\left(t \\right)} \\right)}}{lb} \\right)}$"
      ],
      "text/plain": [
       "pi - asin(la*sin(theta(t))/lb)"
      ]
     },
     "execution_count": 47,
     "metadata": {},
     "output_type": "execute_result"
    }
   ],
   "source": [
    "phi_sol = sy.solve(Eq1.dot(N.y),phi)[0]\n",
    "phi_sol"
   ]
  },
  {
   "cell_type": "code",
   "execution_count": 48,
   "metadata": {
    "scrolled": true,
    "slideshow": {
     "slide_type": "fragment"
    }
   },
   "outputs": [
    {
     "data": {
      "text/latex": [
       "$\\displaystyle - \\frac{la \\cos{\\left(\\theta{\\left(t \\right)} \\right)} \\frac{d}{d t} \\theta{\\left(t \\right)}}{lb \\sqrt{- \\frac{la^{2} \\sin^{2}{\\left(\\theta{\\left(t \\right)} \\right)}}{lb^{2}} + 1}}$"
      ],
      "text/plain": [
       "-la*cos(theta(t))*Derivative(theta(t), t)/(lb*sqrt(-la**2*sin(theta(t))**2/lb**2 + 1))"
      ]
     },
     "execution_count": 48,
     "metadata": {},
     "output_type": "execute_result"
    }
   ],
   "source": [
    "phi_ponto_sol = phi_sol.diff(t)\n",
    "phi_ponto_sol"
   ]
  },
  {
   "cell_type": "markdown",
   "metadata": {
    "slideshow": {
     "slide_type": "subslide"
    }
   },
   "source": [
    "Outra maneira de obter $\\dot{\\phi}$"
   ]
  },
  {
   "cell_type": "code",
   "execution_count": 49,
   "metadata": {
    "scrolled": true,
    "slideshow": {
     "slide_type": "fragment"
    }
   },
   "outputs": [
    {
     "data": {
      "text/latex": [
       "$\\displaystyle la \\cos{\\left(\\theta{\\left(t \\right)} \\right)} \\frac{d}{d t} \\theta{\\left(t \\right)} - lb \\cos{\\left(\\phi{\\left(t \\right)} \\right)} \\frac{d}{d t} \\phi{\\left(t \\right)} = 0$"
      ],
      "text/plain": [
       "Eq(la*cos(theta(t))*Derivative(theta(t), t) - lb*cos(phi(t))*Derivative(phi(t), t), 0)"
      ]
     },
     "execution_count": 49,
     "metadata": {},
     "output_type": "execute_result"
    }
   ],
   "source": [
    "EqR = sy.Eq(C.vel(N).dot(N.y),0)\n",
    "EqR"
   ]
  },
  {
   "cell_type": "code",
   "execution_count": 50,
   "metadata": {
    "slideshow": {
     "slide_type": "subslide"
    }
   },
   "outputs": [
    {
     "data": {
      "text/latex": [
       "$\\displaystyle \\frac{la \\cos{\\left(\\theta{\\left(t \\right)} \\right)} \\frac{d}{d t} \\theta{\\left(t \\right)}}{lb \\cos{\\left(\\phi{\\left(t \\right)} \\right)}}$"
      ],
      "text/plain": [
       "la*cos(theta(t))*Derivative(theta(t), t)/(lb*cos(phi(t)))"
      ]
     },
     "execution_count": 50,
     "metadata": {},
     "output_type": "execute_result"
    }
   ],
   "source": [
    "phi_ponto = phi.diff(t)\n",
    "sol_phi_ponto = sy.solve(EqR,phi_ponto)[0]\n",
    "sol_phi_ponto"
   ]
  },
  {
   "cell_type": "code",
   "execution_count": 51,
   "metadata": {
    "slideshow": {
     "slide_type": "fragment"
    }
   },
   "outputs": [
    {
     "data": {
      "text/latex": [
       "$\\displaystyle - \\frac{la \\cos{\\left(\\theta{\\left(t \\right)} \\right)} \\frac{d}{d t} \\theta{\\left(t \\right)}}{lb \\sqrt{- \\frac{la^{2} \\sin^{2}{\\left(\\theta{\\left(t \\right)} \\right)}}{lb^{2}} + 1}}$"
      ],
      "text/plain": [
       "-la*cos(theta(t))*Derivative(theta(t), t)/(lb*sqrt(-la**2*sin(theta(t))**2/lb**2 + 1))"
      ]
     },
     "execution_count": 51,
     "metadata": {},
     "output_type": "execute_result"
    }
   ],
   "source": [
    "sol_phi_ponto.subs(phi,phi_sol)"
   ]
  },
  {
   "cell_type": "markdown",
   "metadata": {
    "slideshow": {
     "slide_type": "fragment"
    }
   },
   "source": [
    "Solução de $x$ em função de $\\theta$:"
   ]
  },
  {
   "cell_type": "code",
   "execution_count": 52,
   "metadata": {},
   "outputs": [
    {
     "data": {
      "text/latex": [
       "$\\displaystyle (la \\operatorname{cos}\\left(\\theta\\right) + lb \\operatorname{cos}\\left(\\phi\\right))\\mathbf{\\hat{n}_x} + (la \\operatorname{sin}\\left(\\theta\\right) - lb \\operatorname{sin}\\left(\\phi\\right))\\mathbf{\\hat{n}_y}$"
      ],
      "text/plain": [
       "(la*cos(theta) + lb*cos(phi))*N.x + (la*sin(theta) - lb*sin(phi))*N.y"
      ]
     },
     "execution_count": 52,
     "metadata": {},
     "output_type": "execute_result"
    }
   ],
   "source": [
    "C.pos_from(O).express(N)"
   ]
  },
  {
   "cell_type": "code",
   "execution_count": 53,
   "metadata": {
    "scrolled": false,
    "slideshow": {
     "slide_type": "fragment"
    }
   },
   "outputs": [
    {
     "data": {
      "text/latex": [
       "$\\displaystyle (la \\operatorname{cos}\\left(\\theta\\right) - lb \\sqrt{- \\frac{la^{2} \\operatorname{sin}^{2}\\left(\\theta\\right)}{lb^{2}} + 1})\\mathbf{\\hat{n}_x}$"
      ],
      "text/plain": [
       "(la*cos(theta) - lb*sqrt(-la**2*sin(theta)**2/lb**2 + 1))*N.x"
      ]
     },
     "execution_count": 53,
     "metadata": {},
     "output_type": "execute_result"
    }
   ],
   "source": [
    "x_sol = ((C.pos_from(O)).express(N)).subs(phi,phi_sol)\n",
    "x_sol"
   ]
  },
  {
   "cell_type": "markdown",
   "metadata": {
    "slideshow": {
     "slide_type": "fragment"
    }
   },
   "source": [
    "Velocidade do ponto C:"
   ]
  },
  {
   "cell_type": "code",
   "execution_count": 54,
   "metadata": {
    "scrolled": true,
    "slideshow": {
     "slide_type": "fragment"
    }
   },
   "outputs": [
    {
     "data": {
      "text/latex": [
       "$\\displaystyle (\\frac{la^{2} \\operatorname{sin}\\left(\\theta\\right) \\operatorname{cos}\\left(\\theta\\right) \\dot{\\theta}}{lb \\sqrt{- \\frac{la^{2} \\operatorname{sin}^{2}\\left(\\theta\\right)}{lb^{2}} + 1}} - la \\operatorname{sin}\\left(\\theta\\right) \\dot{\\theta})\\mathbf{\\hat{n}_x}$"
      ],
      "text/plain": [
       "(la**2*sin(theta)*cos(theta)*theta'/(lb*sqrt(-la**2*sin(theta)**2/lb**2 + 1)) - la*sin(theta)*theta')*N.x"
      ]
     },
     "execution_count": 54,
     "metadata": {},
     "output_type": "execute_result"
    }
   ],
   "source": [
    "v_C = x_sol.dt(N)\n",
    "v_C"
   ]
  },
  {
   "cell_type": "markdown",
   "metadata": {
    "slideshow": {
     "slide_type": "fragment"
    }
   },
   "source": [
    "Aceleração do ponto C:"
   ]
  },
  {
   "cell_type": "code",
   "execution_count": 55,
   "metadata": {
    "slideshow": {
     "slide_type": "fragment"
    }
   },
   "outputs": [
    {
     "data": {
      "text/latex": [
       "$\\displaystyle (\\frac{la^{4} \\operatorname{sin}^{2}\\left(\\theta\\right) \\operatorname{cos}^{2}\\left(\\theta\\right) \\dot{\\theta}^{2}}{lb^{3} \\left(- \\frac{la^{2} \\operatorname{sin}^{2}\\left(\\theta\\right)}{lb^{2}} + 1\\right)^{\\frac{3}{2}}} - \\frac{la^{2} \\operatorname{sin}^{2}\\left(\\theta\\right) \\dot{\\theta}^{2}}{lb \\sqrt{- \\frac{la^{2} \\operatorname{sin}^{2}\\left(\\theta\\right)}{lb^{2}} + 1}} + \\frac{la^{2} \\operatorname{sin}\\left(\\theta\\right) \\operatorname{cos}\\left(\\theta\\right) \\ddot{\\theta}}{lb \\sqrt{- \\frac{la^{2} \\operatorname{sin}^{2}\\left(\\theta\\right)}{lb^{2}} + 1}} + \\frac{la^{2} \\operatorname{cos}^{2}\\left(\\theta\\right) \\dot{\\theta}^{2}}{lb \\sqrt{- \\frac{la^{2} \\operatorname{sin}^{2}\\left(\\theta\\right)}{lb^{2}} + 1}} - la \\operatorname{sin}\\left(\\theta\\right) \\ddot{\\theta} - la \\operatorname{cos}\\left(\\theta\\right) \\dot{\\theta}^{2})\\mathbf{\\hat{n}_x}$"
      ],
      "text/plain": [
       "(la**4*sin(theta)**2*cos(theta)**2*theta'**2/(lb**3*(-la**2*sin(theta)**2/lb**2 + 1)**(3/2)) - la**2*sin(theta)**2*theta'**2/(lb*sqrt(-la**2*sin(theta)**2/lb**2 + 1)) + la**2*sin(theta)*cos(theta)*theta''/(lb*sqrt(-la**2*sin(theta)**2/lb**2 + 1)) + la**2*cos(theta)**2*theta'**2/(lb*sqrt(-la**2*sin(theta)**2/lb**2 + 1)) - la*sin(theta)*theta'' - la*cos(theta)*theta'**2)*N.x"
      ]
     },
     "execution_count": 55,
     "metadata": {},
     "output_type": "execute_result"
    }
   ],
   "source": [
    "a_C = v_C.dt(N)\n",
    "a_C"
   ]
  },
  {
   "cell_type": "markdown",
   "metadata": {
    "slideshow": {
     "slide_type": "skip"
    }
   },
   "source": [
    "[Voltar para o capítulo anterior](Din3.ipynb)     $\\qquad$   [Avançar para o próximo capítulo](Din5.ipynb)"
   ]
  }
 ],
 "metadata": {
  "kernelspec": {
   "display_name": "Python 3",
   "language": "python",
   "name": "python3"
  },
  "language_info": {
   "codemirror_mode": {
    "name": "ipython",
    "version": 3
   },
   "file_extension": ".py",
   "mimetype": "text/x-python",
   "name": "python",
   "nbconvert_exporter": "python",
   "pygments_lexer": "ipython3",
   "version": "3.8.10"
  }
 },
 "nbformat": 4,
 "nbformat_minor": 4
}
