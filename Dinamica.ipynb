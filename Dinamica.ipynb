{
 "cells": [
  {
   "cell_type": "markdown",
   "metadata": {},
   "source": [
    "# Dinâmica\n",
    "Professor Paulo Victor <br>\n",
    "E-mail: paulo.gomes@cefet-rj.br <br>\n",
    "CEFET-RJ Campus Angra dos Reis Sala 17C\n",
    "\n",
    "\n",
    "\n",
    "### Ementa:\n",
    "1. [Introdução à Dinâmica de Sistemas Mecânicos](Din1.ipynb)\n",
    "2. [Cinemática da Partícula](Din2.ipynb)\n",
    "3. [Dinâmica da Partícula](Din4.ipynb)\n",
    "4. [Cinemática do Corpo Rígido](Din3.ipynb)\n",
    "5. [Dinâmica do Corpo Rígido](Din5.ipynb)\n",
    "\n",
    "\n",
    "\n",
    "### Objetivos gerais:\n",
    "* Capacitar o aluno a determinar de forma simples e lógica, através de métodos adequados, o comportamento dos componentes e dos sistemas mecânicos que envolvam força e movimento.\n",
    "\n",
    "\n",
    "\n",
    "### Bibliografia Básica:\n",
    "* SANTOS, ILMAR F. Dinâmica de Sistemas Mecânicos: Modelagem, Simulação, Visualização, Verificação.  1ª Ed. São Paulo: Ed. Makron Books, 2001.\n",
    "* BEER, FERDINAND P. Mecânica Vetorial para Engenheiros: Cinemática e Dinâmica. Vol. 2. 9ª Ed. São Paulo: Ed. McGraw-Hill Bookman, 2012. \n",
    "\n",
    "\n",
    "\n",
    "### Bibliografia Complementar:\n",
    "* TENENBAUM, ROBERTO A. Dinâmica Aplicada. 3ª Ed. Ed. Manole, 2006. \n",
    "* NORTON, ROBERT L. Cinemática e Dinâmica dos Mecanismos. AMGH Editora, 2010. \n",
    "\n",
    "\n",
    "\n",
    "### Avaliação:\n",
    "* Provas\n",
    "\n",
    "\n",
    "\n",
    "### Datas Importantes:\n",
    " * Período de trancamento\n",
    " > 26/02/24 a 08/03/24\n",
    " * Avaliações:\n",
    " >P1: 17/04/24 \\\n",
    " >P2: 10/06/24 \\\n",
    " >P3: 19/06/24 "
   ]
  }
 ],
 "metadata": {
  "kernelspec": {
   "display_name": "Python 3 (ipykernel)",
   "language": "python",
   "name": "python3"
  },
  "language_info": {
   "codemirror_mode": {
    "name": "ipython",
    "version": 3
   },
   "file_extension": ".py",
   "mimetype": "text/x-python",
   "name": "python",
   "nbconvert_exporter": "python",
   "pygments_lexer": "ipython3",
   "version": "3.11.5"
  }
 },
 "nbformat": 4,
 "nbformat_minor": 4
}
