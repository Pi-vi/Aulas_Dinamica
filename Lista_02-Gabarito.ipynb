{
 "cells": [
  {
   "cell_type": "markdown",
   "metadata": {},
   "source": [
    "# Dinâmica - Lista 02\n",
    "# CEFET/RJ Campus Angra dos Reis"
   ]
  },
  {
   "cell_type": "markdown",
   "metadata": {},
   "source": [
    "1- A aceleração de um ponto se movendo em uma linha vertical é dada pela equação $ a = 12t - 20$. Sabe-se que o seu deslocamento é $s = -10m$ no instante $t=0$ e que o seu deslocamento é $s = 10m$ no instante $t=5s$. Determinar a equação de seu movimento s(t). "
   ]
  },
  {
   "cell_type": "code",
   "execution_count": 1,
   "metadata": {},
   "outputs": [],
   "source": [
    "import sympy as sy\n",
    "import sympy.physics.mechanics as me"
   ]
  },
  {
   "cell_type": "code",
   "execution_count": 2,
   "metadata": {},
   "outputs": [],
   "source": [
    "t = me.dynamicsymbols._t"
   ]
  },
  {
   "cell_type": "code",
   "execution_count": 3,
   "metadata": {},
   "outputs": [
    {
     "data": {
      "text/latex": [
       "$\\displaystyle 12 t - 20$"
      ],
      "text/plain": [
       "12*t - 20"
      ]
     },
     "execution_count": 3,
     "metadata": {},
     "output_type": "execute_result"
    }
   ],
   "source": [
    "a = 12*t - 20\n",
    "a"
   ]
  },
  {
   "cell_type": "code",
   "execution_count": 4,
   "metadata": {},
   "outputs": [],
   "source": [
    "v = a.integrate(t)"
   ]
  },
  {
   "cell_type": "code",
   "execution_count": 5,
   "metadata": {},
   "outputs": [],
   "source": [
    "c1 = sy.symbols('c1') # constante de integração 1"
   ]
  },
  {
   "cell_type": "code",
   "execution_count": 6,
   "metadata": {},
   "outputs": [
    {
     "data": {
      "text/latex": [
       "$\\displaystyle c_{1} + 6 t^{2} - 20 t$"
      ],
      "text/plain": [
       "c1 + 6*t**2 - 20*t"
      ]
     },
     "execution_count": 6,
     "metadata": {},
     "output_type": "execute_result"
    }
   ],
   "source": [
    "v = v + c1\n",
    "v"
   ]
  },
  {
   "cell_type": "code",
   "execution_count": 7,
   "metadata": {},
   "outputs": [
    {
     "data": {
      "text/latex": [
       "$\\displaystyle c_{1} t + c_{2} + 2 t^{3} - 10 t^{2}$"
      ],
      "text/plain": [
       "c1*t + c2 + 2*t**3 - 10*t**2"
      ]
     },
     "execution_count": 7,
     "metadata": {},
     "output_type": "execute_result"
    }
   ],
   "source": [
    "s = v.integrate(t)\n",
    "c2 = sy.symbols('c2') # constante de integração 2\n",
    "s = s + c2\n",
    "s"
   ]
  },
  {
   "cell_type": "code",
   "execution_count": 8,
   "metadata": {
    "scrolled": true
   },
   "outputs": [
    {
     "data": {
      "text/latex": [
       "$\\displaystyle c_{2} = -10$"
      ],
      "text/plain": [
       "Eq(c2, -10)"
      ]
     },
     "execution_count": 8,
     "metadata": {},
     "output_type": "execute_result"
    }
   ],
   "source": [
    "# s = -10 em t = 0\n",
    "Eq1 = sy.Eq(s.subs(t,0),-10)\n",
    "Eq1"
   ]
  },
  {
   "cell_type": "code",
   "execution_count": 9,
   "metadata": {},
   "outputs": [
    {
     "data": {
      "text/latex": [
       "$\\displaystyle c_{1} t + 2 t^{3} - 10 t^{2} - 10$"
      ],
      "text/plain": [
       "c1*t + 2*t**3 - 10*t**2 - 10"
      ]
     },
     "execution_count": 9,
     "metadata": {},
     "output_type": "execute_result"
    }
   ],
   "source": [
    "s = s.subs(c2,-10)\n",
    "s"
   ]
  },
  {
   "cell_type": "code",
   "execution_count": 10,
   "metadata": {},
   "outputs": [
    {
     "data": {
      "text/latex": [
       "$\\displaystyle 5 c_{1} - 10 = 10$"
      ],
      "text/plain": [
       "Eq(5*c1 - 10, 10)"
      ]
     },
     "execution_count": 10,
     "metadata": {},
     "output_type": "execute_result"
    }
   ],
   "source": [
    "# s = 10 em t = 5\n",
    "Eq2 = sy.Eq(s.subs(t,5),10)\n",
    "Eq2"
   ]
  },
  {
   "cell_type": "code",
   "execution_count": 11,
   "metadata": {},
   "outputs": [
    {
     "data": {
      "text/plain": [
       "[4]"
      ]
     },
     "execution_count": 11,
     "metadata": {},
     "output_type": "execute_result"
    }
   ],
   "source": [
    "c1sol = sy.solve(Eq2,c1)\n",
    "c1sol"
   ]
  },
  {
   "cell_type": "code",
   "execution_count": 12,
   "metadata": {},
   "outputs": [
    {
     "data": {
      "text/latex": [
       "$\\displaystyle 2 t^{3} - 10 t^{2} + 4 t - 10$"
      ],
      "text/plain": [
       "2*t**3 - 10*t**2 + 4*t - 10"
      ]
     },
     "execution_count": 12,
     "metadata": {},
     "output_type": "execute_result"
    }
   ],
   "source": [
    "s = s.subs(c1,c1sol[0])\n",
    "s"
   ]
  },
  {
   "cell_type": "markdown",
   "metadata": {},
   "source": [
    "2- Considerando a figura abaixo e sabendo que em um dado instante o bloco A possui velocidade de $5m/s$ e aceleração de $10m/s^2$, ambas para a esquerda, determinar os módulos e os sentidos da velocidade e da aceleração do bloco $B$. \n",
    "![](Cap2-Ex1.png)"
   ]
  },
  {
   "cell_type": "code",
   "execution_count": 13,
   "metadata": {},
   "outputs": [],
   "source": [
    "x1,x2 = sy.symbols('x1 x2')\n",
    "xA,yB = me.dynamicsymbols('x_A y_B')"
   ]
  },
  {
   "cell_type": "code",
   "execution_count": 14,
   "metadata": {},
   "outputs": [
    {
     "data": {
      "text/latex": [
       "$\\displaystyle x_{1} + 2 x_{2} - 3 \\operatorname{x_{A}}{\\left(t \\right)} + \\operatorname{y_{B}}{\\left(t \\right)}$"
      ],
      "text/plain": [
       "x1 + 2*x2 - 3*x_A(t) + y_B(t)"
      ]
     },
     "execution_count": 14,
     "metadata": {},
     "output_type": "execute_result"
    }
   ],
   "source": [
    "L = (x1 - xA) + 2*(x2 - xA) + yB # L é o comprimento total do cabo e é constante.\n",
    "L"
   ]
  },
  {
   "cell_type": "code",
   "execution_count": 15,
   "metadata": {},
   "outputs": [
    {
     "data": {
      "text/latex": [
       "$\\displaystyle - 3 \\frac{d}{d t} \\operatorname{x_{A}}{\\left(t \\right)} + \\frac{d}{d t} \\operatorname{y_{B}}{\\left(t \\right)}$"
      ],
      "text/plain": [
       "-3*Derivative(x_A(t), t) + Derivative(y_B(t), t)"
      ]
     },
     "execution_count": 15,
     "metadata": {},
     "output_type": "execute_result"
    }
   ],
   "source": [
    "v_L = L.diff(t) # v_L é a velocidade deformação do cabo e é igual a zero\n",
    "v_L"
   ]
  },
  {
   "cell_type": "code",
   "execution_count": 16,
   "metadata": {},
   "outputs": [
    {
     "data": {
      "text/latex": [
       "$\\displaystyle - 3 \\frac{d^{2}}{d t^{2}} \\operatorname{x_{A}}{\\left(t \\right)} + \\frac{d^{2}}{d t^{2}} \\operatorname{y_{B}}{\\left(t \\right)}$"
      ],
      "text/plain": [
       "-3*Derivative(x_A(t), (t, 2)) + Derivative(y_B(t), (t, 2))"
      ]
     },
     "execution_count": 16,
     "metadata": {},
     "output_type": "execute_result"
    }
   ],
   "source": [
    "a_L = v_L.diff(t) # a_L é a aceleração de deformação do cabo e é igual a zero\n",
    "a_L"
   ]
  },
  {
   "cell_type": "code",
   "execution_count": 17,
   "metadata": {},
   "outputs": [],
   "source": [
    "# a primeira derivada temporal de xA é igual a velocidade do carro A \n",
    "# a segunda derivada temporal de xA é a aceleração do carro A\n",
    "dic1 = {xA.diff(t):5,xA.diff(t,2):10} # dicionário com os valores fornecidos no enunciado"
   ]
  },
  {
   "cell_type": "code",
   "execution_count": 18,
   "metadata": {},
   "outputs": [
    {
     "data": {
      "text/latex": [
       "$\\displaystyle \\frac{d}{d t} \\operatorname{y_{B}}{\\left(t \\right)} - 15$"
      ],
      "text/plain": [
       "Derivative(y_B(t), t) - 15"
      ]
     },
     "execution_count": 18,
     "metadata": {},
     "output_type": "execute_result"
    }
   ],
   "source": [
    "Eq1 = v_L.subs(dic1)\n",
    "Eq1"
   ]
  },
  {
   "cell_type": "code",
   "execution_count": 19,
   "metadata": {},
   "outputs": [
    {
     "data": {
      "text/plain": [
       "[15]"
      ]
     },
     "execution_count": 19,
     "metadata": {},
     "output_type": "execute_result"
    }
   ],
   "source": [
    "v_yB = sy.solve(Eq1,yB.diff(t)) # velocidade do bloco B\n",
    "v_yB"
   ]
  },
  {
   "cell_type": "code",
   "execution_count": 20,
   "metadata": {},
   "outputs": [
    {
     "data": {
      "text/latex": [
       "$\\displaystyle - 3 \\frac{d^{2}}{d t^{2}} \\operatorname{x_{A}}{\\left(t \\right)} + \\frac{d^{2}}{d t^{2}} \\operatorname{y_{B}}{\\left(t \\right)}$"
      ],
      "text/plain": [
       "-3*Derivative(x_A(t), (t, 2)) + Derivative(y_B(t), (t, 2))"
      ]
     },
     "execution_count": 20,
     "metadata": {},
     "output_type": "execute_result"
    }
   ],
   "source": [
    "Eq2 = a_L.subs(dic1)\n",
    "a_L"
   ]
  },
  {
   "cell_type": "code",
   "execution_count": 21,
   "metadata": {},
   "outputs": [
    {
     "data": {
      "text/plain": [
       "[30]"
      ]
     },
     "execution_count": 21,
     "metadata": {},
     "output_type": "execute_result"
    }
   ],
   "source": [
    "a_YB = sy.solve(Eq2,yB.diff(t,2)) # aceleração do bloco B\n",
    "a_YB"
   ]
  },
  {
   "cell_type": "markdown",
   "metadata": {},
   "source": [
    "3- Obtenha as expressões da velocidade absoluta e da aceleração absoluta do ponto P, conforme mostrado na figura abaixo.\n",
    "![](Cap2-Ex2.png)"
   ]
  },
  {
   "cell_type": "markdown",
   "metadata": {},
   "source": [
    "![](Cap2-Ex2-gab.png)"
   ]
  },
  {
   "cell_type": "code",
   "execution_count": 22,
   "metadata": {},
   "outputs": [],
   "source": [
    "h,R = sy.symbols('h R')\n",
    "l,theta,gamma = me.dynamicsymbols('l theta gamma')"
   ]
  },
  {
   "cell_type": "code",
   "execution_count": 23,
   "metadata": {},
   "outputs": [],
   "source": [
    "N = me.ReferenceFrame('N')\n",
    "A = me.ReferenceFrame('A')\n",
    "B = me.ReferenceFrame('B')"
   ]
  },
  {
   "cell_type": "code",
   "execution_count": 24,
   "metadata": {},
   "outputs": [],
   "source": [
    "A.orient(N,'Axis',[theta,N.z])\n",
    "B.orient(A,'Axis',[gamma,A.x])"
   ]
  },
  {
   "cell_type": "code",
   "execution_count": 25,
   "metadata": {},
   "outputs": [],
   "source": [
    "O = me.Point('O')\n",
    "O.set_vel(N,0)"
   ]
  },
  {
   "cell_type": "code",
   "execution_count": 26,
   "metadata": {},
   "outputs": [],
   "source": [
    "P = me.Point('P')\n",
    "pPO = h*B.z - l*B.y\n",
    "P.set_pos(O,pPO)\n",
    "P.set_vel(N,pPO.dt(N))"
   ]
  },
  {
   "cell_type": "code",
   "execution_count": 27,
   "metadata": {},
   "outputs": [
    {
     "data": {
      "text/latex": [
       "$\\displaystyle (h \\operatorname{sin}\\left(\\gamma\\right) \\dot{\\theta} + l \\operatorname{cos}\\left(\\gamma\\right) \\dot{\\theta})\\mathbf{\\hat{b}_x} + (- h \\dot{\\gamma} - \\dot{l})\\mathbf{\\hat{b}_y} -  l \\dot{\\gamma}\\mathbf{\\hat{b}_z}$"
      ],
      "text/plain": [
       "(h*sin(gamma)*theta' + l*cos(gamma)*theta')*B.x + (-h*gamma' - l')*B.y - l*gamma'*B.z"
      ]
     },
     "execution_count": 27,
     "metadata": {},
     "output_type": "execute_result"
    }
   ],
   "source": [
    "P.vel(N)"
   ]
  },
  {
   "cell_type": "code",
   "execution_count": 28,
   "metadata": {},
   "outputs": [
    {
     "data": {
      "text/latex": [
       "$\\displaystyle (h \\operatorname{sin}\\left(\\gamma\\right) \\ddot{\\theta} + h \\operatorname{cos}\\left(\\gamma\\right) \\dot{\\gamma} \\dot{\\theta} - \\left(- h \\dot{\\gamma} - \\dot{l}\\right) \\operatorname{cos}\\left(\\gamma\\right) \\dot{\\theta} - 2 l \\operatorname{sin}\\left(\\gamma\\right) \\dot{\\gamma} \\dot{\\theta} + l \\operatorname{cos}\\left(\\gamma\\right) \\ddot{\\theta} + \\operatorname{cos}\\left(\\gamma\\right) \\dot{l} \\dot{\\theta})\\mathbf{\\hat{b}_x} + (- h \\ddot{\\gamma} + \\left(h \\operatorname{sin}\\left(\\gamma\\right) \\dot{\\theta} + l \\operatorname{cos}\\left(\\gamma\\right) \\dot{\\theta}\\right) \\operatorname{cos}\\left(\\gamma\\right) \\dot{\\theta} + l \\dot{\\gamma}^{2} - \\ddot{l})\\mathbf{\\hat{b}_y} + (\\left(- h \\dot{\\gamma} - \\dot{l}\\right) \\dot{\\gamma} - \\left(h \\operatorname{sin}\\left(\\gamma\\right) \\dot{\\theta} + l \\operatorname{cos}\\left(\\gamma\\right) \\dot{\\theta}\\right) \\operatorname{sin}\\left(\\gamma\\right) \\dot{\\theta} - l \\ddot{\\gamma} - \\dot{\\gamma} \\dot{l})\\mathbf{\\hat{b}_z}$"
      ],
      "text/plain": [
       "(h*sin(gamma)*theta'' + h*cos(gamma)*gamma'*theta' - (-h*gamma' - l')*cos(gamma)*theta' - 2*l*sin(gamma)*gamma'*theta' + l*cos(gamma)*theta'' + cos(gamma)*l'*theta')*B.x + (-h*gamma'' + (h*sin(gamma)*theta' + l*cos(gamma)*theta')*cos(gamma)*theta' + l*gamma'**2 - l'')*B.y + ((-h*gamma' - l')*gamma' - (h*sin(gamma)*theta' + l*cos(gamma)*theta')*sin(gamma)*theta' - l*gamma'' - gamma'*l')*B.z"
      ]
     },
     "execution_count": 28,
     "metadata": {},
     "output_type": "execute_result"
    }
   ],
   "source": [
    "P.acc(N)"
   ]
  },
  {
   "cell_type": "markdown",
   "metadata": {},
   "source": [
    "4- Obtenha as expressões para a velocidade e a aceleração relativas do ponto P em relação ao ponto Q no referencial newtoniano.\n",
    "![](Cap2-Ex3.png)"
   ]
  },
  {
   "cell_type": "markdown",
   "metadata": {},
   "source": [
    "![](Cap2-Ex3-gab.png)"
   ]
  },
  {
   "cell_type": "code",
   "execution_count": 29,
   "metadata": {},
   "outputs": [],
   "source": [
    "R = sy.symbols('R')\n",
    "theta,gamma,x = me.dynamicsymbols('theta gamma x')"
   ]
  },
  {
   "cell_type": "code",
   "execution_count": 30,
   "metadata": {},
   "outputs": [],
   "source": [
    "N = me.ReferenceFrame('N')\n",
    "A = me.ReferenceFrame('A')\n",
    "B = me.ReferenceFrame('B')"
   ]
  },
  {
   "cell_type": "code",
   "execution_count": 31,
   "metadata": {},
   "outputs": [],
   "source": [
    "A.orient(N,'Axis',[theta,N.z])\n",
    "B.orient(A,'Axis',[-gamma,A.x])"
   ]
  },
  {
   "cell_type": "code",
   "execution_count": 32,
   "metadata": {},
   "outputs": [],
   "source": [
    "O = me.Point(O)\n",
    "O.set_vel(N,0)"
   ]
  },
  {
   "cell_type": "code",
   "execution_count": 33,
   "metadata": {},
   "outputs": [],
   "source": [
    "Q = me.Point('Q')\n",
    "pQO = R*B.y\n",
    "Q.set_pos(O,pQO)\n",
    "Q.set_vel(N,pQO.dt(N))"
   ]
  },
  {
   "cell_type": "code",
   "execution_count": 34,
   "metadata": {},
   "outputs": [],
   "source": [
    "P = me.Point('P')\n",
    "pPQ = -x*B.y\n",
    "P.set_pos(Q,pPQ)\n",
    "P.set_vel(N,P.pos_from(O).dt(N))"
   ]
  },
  {
   "cell_type": "code",
   "execution_count": 35,
   "metadata": {},
   "outputs": [
    {
     "data": {
      "text/latex": [
       "$\\displaystyle x \\operatorname{cos}\\left(\\gamma\\right) \\dot{\\theta}\\mathbf{\\hat{b}_x} -  \\dot{x}\\mathbf{\\hat{b}_y} + x \\dot{\\gamma}\\mathbf{\\hat{b}_z}$"
      ],
      "text/plain": [
       "x*cos(gamma)*theta'*B.x - x'*B.y + x*gamma'*B.z"
      ]
     },
     "execution_count": 35,
     "metadata": {},
     "output_type": "execute_result"
    }
   ],
   "source": [
    "P.pos_from(Q).dt(N) # velocidade de P em relação a Q no referencial newtoniano"
   ]
  },
  {
   "cell_type": "code",
   "execution_count": 36,
   "metadata": {},
   "outputs": [
    {
     "data": {
      "text/latex": [
       "$\\displaystyle (- 2 x \\operatorname{sin}\\left(\\gamma\\right) \\dot{\\gamma} \\dot{\\theta} + x \\operatorname{cos}\\left(\\gamma\\right) \\ddot{\\theta} + 2 \\operatorname{cos}\\left(\\gamma\\right) \\dot{\\theta} \\dot{x})\\mathbf{\\hat{b}_x} + (x \\operatorname{cos}^{2}\\left(\\gamma\\right) \\dot{\\theta}^{2} + x \\dot{\\gamma}^{2} - \\ddot{x})\\mathbf{\\hat{b}_y} + (x \\operatorname{sin}\\left(\\gamma\\right) \\operatorname{cos}\\left(\\gamma\\right) \\dot{\\theta}^{2} + x \\ddot{\\gamma} + 2 \\dot{\\gamma} \\dot{x})\\mathbf{\\hat{b}_z}$"
      ],
      "text/plain": [
       "(-2*x*sin(gamma)*gamma'*theta' + x*cos(gamma)*theta'' + 2*cos(gamma)*theta'*x')*B.x + (x*cos(gamma)**2*theta'**2 + x*gamma'**2 - x'')*B.y + (x*sin(gamma)*cos(gamma)*theta'**2 + x*gamma'' + 2*gamma'*x')*B.z"
      ]
     },
     "execution_count": 36,
     "metadata": {},
     "output_type": "execute_result"
    }
   ],
   "source": [
    "(P.pos_from(Q).dt(N)).dt(N) # aceleração de P em relação a Q no referencial newtoniano"
   ]
  },
  {
   "cell_type": "markdown",
   "metadata": {},
   "source": [
    "5- Obtenha a velocidade e a aceleração do ponto P em relação ao braço B.\n",
    "![](Cap2-Ex4.png)"
   ]
  },
  {
   "cell_type": "markdown",
   "metadata": {},
   "source": [
    "![](Cap2-Ex4-gab.png)"
   ]
  },
  {
   "cell_type": "code",
   "execution_count": 37,
   "metadata": {},
   "outputs": [],
   "source": [
    "L = sy.symbols('L')\n",
    "theta,gamma,x = me.dynamicsymbols('theta gamma x')"
   ]
  },
  {
   "cell_type": "code",
   "execution_count": 38,
   "metadata": {},
   "outputs": [],
   "source": [
    "N = me.ReferenceFrame('N')\n",
    "A = me.ReferenceFrame('A')\n",
    "B = me.ReferenceFrame('B')"
   ]
  },
  {
   "cell_type": "code",
   "execution_count": 39,
   "metadata": {},
   "outputs": [],
   "source": [
    "A.orient(N,'Axis',[theta,N.z])\n",
    "B.orient(A,'Axis',[gamma,A.x])"
   ]
  },
  {
   "cell_type": "code",
   "execution_count": 40,
   "metadata": {},
   "outputs": [],
   "source": [
    "O = me.Point('O')\n",
    "O.set_vel(N,0)"
   ]
  },
  {
   "cell_type": "code",
   "execution_count": 41,
   "metadata": {},
   "outputs": [],
   "source": [
    "P = me.Point('P')\n",
    "pPO = L*B.y + x*B.x\n",
    "P.set_pos(O,pPO)\n",
    "P.set_vel(N,pPO.dt(N))"
   ]
  },
  {
   "cell_type": "code",
   "execution_count": 42,
   "metadata": {},
   "outputs": [
    {
     "data": {
      "text/latex": [
       "$\\displaystyle (- L \\operatorname{cos}\\left(\\gamma\\right) \\dot{\\theta} + \\dot{x})\\mathbf{\\hat{b}_x} + x \\operatorname{cos}\\left(\\gamma\\right) \\dot{\\theta}\\mathbf{\\hat{b}_y} + (L \\dot{\\gamma} - x \\operatorname{sin}\\left(\\gamma\\right) \\dot{\\theta})\\mathbf{\\hat{b}_z}$"
      ],
      "text/plain": [
       "(-L*cos(gamma)*theta' + x')*B.x + x*cos(gamma)*theta'*B.y + (L*gamma' - x*sin(gamma)*theta')*B.z"
      ]
     },
     "execution_count": 42,
     "metadata": {},
     "output_type": "execute_result"
    }
   ],
   "source": [
    "P.vel(N) # velocidade absoluta do ponto P. Não é isso que a questão está pedindo"
   ]
  },
  {
   "cell_type": "code",
   "execution_count": 43,
   "metadata": {},
   "outputs": [
    {
     "data": {
      "text/latex": [
       "$\\displaystyle \\dot{x}\\mathbf{\\hat{b}_x}$"
      ],
      "text/plain": [
       "x'*B.x"
      ]
     },
     "execution_count": 43,
     "metadata": {},
     "output_type": "execute_result"
    }
   ],
   "source": [
    "P.set_vel(B,pPO.dt(B))\n",
    "P.vel(B) # velocidade do ponto B em relação ao referencial B. É isso que a questão está pedindo"
   ]
  },
  {
   "cell_type": "code",
   "execution_count": 44,
   "metadata": {},
   "outputs": [
    {
     "data": {
      "text/latex": [
       "$\\displaystyle \\ddot{x}\\mathbf{\\hat{b}_x}$"
      ],
      "text/plain": [
       "x''*B.x"
      ]
     },
     "execution_count": 44,
     "metadata": {},
     "output_type": "execute_result"
    }
   ],
   "source": [
    "P.acc(B)"
   ]
  },
  {
   "cell_type": "markdown",
   "metadata": {},
   "source": [
    "6- Obtenha a velocidade e a aceleração do ponto P em relação ao referencial inercial. \n",
    "![](Cap2-Ex5.png)"
   ]
  },
  {
   "cell_type": "markdown",
   "metadata": {},
   "source": [
    "![](Cap2-Ex5-gab.png)"
   ]
  },
  {
   "cell_type": "code",
   "execution_count": 45,
   "metadata": {},
   "outputs": [],
   "source": [
    "omega = sy.symbols('omega')\n",
    "x = me.dynamicsymbols('x')\n",
    "t = me.dynamicsymbols._t"
   ]
  },
  {
   "cell_type": "code",
   "execution_count": 46,
   "metadata": {},
   "outputs": [],
   "source": [
    "N = me.ReferenceFrame('N')\n",
    "A = me.ReferenceFrame('A')\n",
    "B = me.ReferenceFrame('B')"
   ]
  },
  {
   "cell_type": "code",
   "execution_count": 47,
   "metadata": {},
   "outputs": [],
   "source": [
    "A.orient(N,'Axis',[omega*t,N.z])\n",
    "B.orient(A,'Axis',[sy.pi/6,A.x])"
   ]
  },
  {
   "cell_type": "code",
   "execution_count": 48,
   "metadata": {},
   "outputs": [],
   "source": [
    "O = me.Point('O')\n",
    "O.set_vel(N,0)"
   ]
  },
  {
   "cell_type": "code",
   "execution_count": 49,
   "metadata": {},
   "outputs": [],
   "source": [
    "P = me.Point('P')\n",
    "pPO = x*B.y\n",
    "P.set_pos(O,pPO)\n",
    "P.set_vel(N,pPO.dt(N))"
   ]
  },
  {
   "cell_type": "code",
   "execution_count": 50,
   "metadata": {},
   "outputs": [
    {
     "data": {
      "text/latex": [
       "$\\displaystyle -  \\frac{\\sqrt{3} \\omega x}{2}\\mathbf{\\hat{b}_x} + \\dot{x}\\mathbf{\\hat{b}_y}$"
      ],
      "text/plain": [
       "- sqrt(3)*omega*x/2*B.x + x'*B.y"
      ]
     },
     "execution_count": 50,
     "metadata": {},
     "output_type": "execute_result"
    }
   ],
   "source": [
    "P.vel(N)"
   ]
  },
  {
   "cell_type": "code",
   "execution_count": 51,
   "metadata": {},
   "outputs": [
    {
     "data": {
      "text/latex": [
       "$\\displaystyle -  \\sqrt{3} \\omega \\dot{x}\\mathbf{\\hat{b}_x} + (- \\frac{3 \\omega^{2} x}{4} + \\ddot{x})\\mathbf{\\hat{b}_y} + \\frac{\\sqrt{3} \\omega^{2} x}{4}\\mathbf{\\hat{b}_z}$"
      ],
      "text/plain": [
       "- sqrt(3)*omega*x'*B.x + (-3*omega**2*x/4 + x'')*B.y + sqrt(3)*omega**2*x/4*B.z"
      ]
     },
     "execution_count": 51,
     "metadata": {},
     "output_type": "execute_result"
    }
   ],
   "source": [
    "P.acc(N)"
   ]
  }
 ],
 "metadata": {
  "kernelspec": {
   "display_name": "Python 3",
   "language": "python",
   "name": "python3"
  },
  "language_info": {
   "codemirror_mode": {
    "name": "ipython",
    "version": 3
   },
   "file_extension": ".py",
   "mimetype": "text/x-python",
   "name": "python",
   "nbconvert_exporter": "python",
   "pygments_lexer": "ipython3",
   "version": "3.8.10"
  }
 },
 "nbformat": 4,
 "nbformat_minor": 4
}
