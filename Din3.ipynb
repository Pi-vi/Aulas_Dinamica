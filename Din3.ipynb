{
 "cells": [
  {
   "cell_type": "markdown",
   "metadata": {
    "slideshow": {
     "slide_type": "slide"
    }
   },
   "source": [
    "# 3. Cinemática do Corpo Rígido\n",
    "Professor Paulo Victor <br>\n",
    "E-mail: paulo.gomes@cefet-rj.br <br>\n",
    "CEFET-RJ Campus Angra dos Reis Sala 6E"
   ]
  },
  {
   "cell_type": "markdown",
   "metadata": {
    "slideshow": {
     "slide_type": "subslide"
    }
   },
   "source": [
    "## 3.1 Introdução\n",
    "* Tudo o que vimos em **Cinemática da Partícula** também vale para a **Cinemática de Corpos Rígidos**.\n",
    "    - Queremos obter a posição, velocidade e aceleração de pontos pertencentes ao corpo\n",
    "* Além disso, queremos também obter a orientação, velocidade angular e aceleração angular do corpo\n",
    "\n",
    "**Corpo Rígido x Corpo Flexível**"
   ]
  },
  {
   "cell_type": "markdown",
   "metadata": {
    "slideshow": {
     "slide_type": "subslide"
    }
   },
   "source": [
    "Para analisar a cinemática de um corpo rígido, devemos criar um sistema de referência móvel associado ao corpo objeto de estudo. Através desse referencial móvel, poderemos estudar a mudança de orientação, a velocidade angular e a aceleração angular do corpo. "
   ]
  },
  {
   "cell_type": "code",
   "execution_count": 1,
   "metadata": {
    "slideshow": {
     "slide_type": "fragment"
    }
   },
   "outputs": [
    {
     "data": {
      "image/svg+xml": [
       "<svg xmlns:dc=\"http://purl.org/dc/elements/1.1/\" xmlns:cc=\"http://creativecommons.org/ns#\" xmlns:rdf=\"http://www.w3.org/1999/02/22-rdf-syntax-ns#\" xmlns:svg=\"http://www.w3.org/2000/svg\" xmlns=\"http://www.w3.org/2000/svg\" xmlns:sodipodi=\"http://sodipodi.sourceforge.net/DTD/sodipodi-0.dtd\" xmlns:inkscape=\"http://www.inkscape.org/namespaces/inkscape\" width=\"94.496765mm\" height=\"76.933922mm\" viewBox=\"0 0 94.496776 76.933923\" version=\"1.1\" id=\"svg8\" inkscape:version=\"1.0.1 (3bc2e813f5, 2020-09-07)\" sodipodi:docname=\"batata02.svg\">\n",
       "  <defs id=\"defs2\">\n",
       "    <marker inkscape:stockid=\"DistanceStart\" orient=\"auto\" refY=\"0\" refX=\"0\" id=\"DistanceStart\" style=\"overflow:visible\" inkscape:isstock=\"true\">\n",
       "      <g id=\"g2300\">\n",
       "        <path id=\"path2306\" d=\"M 0,0 H 2\" style=\"fill:none;stroke:#ffffff;stroke-width:1.15;stroke-linecap:square\"/>\n",
       "        <path id=\"path2302\" d=\"M 0,0 13,4 9,0 13,-4 Z\" style=\"fill:#000000;fill-rule:evenodd;stroke:none\"/>\n",
       "        <path id=\"path2304\" d=\"M 0,-4 V 40\" style=\"fill:none;stroke:#000000;stroke-width:1;stroke-linecap:square\"/>\n",
       "      </g>\n",
       "    </marker>\n",
       "    <marker style=\"overflow:visible\" id=\"marker1788\" refX=\"0\" refY=\"0\" orient=\"auto\" inkscape:stockid=\"Arrow1Lend\" inkscape:isstock=\"true\">\n",
       "      <path transform=\"matrix(-0.8,0,0,-0.8,-10,0)\" style=\"fill:#ff0000;fill-opacity:1;fill-rule:evenodd;stroke:#ff0000;stroke-width:1pt;stroke-opacity:1\" d=\"M 0,0 5,-5 -12.5,0 5,5 Z\" id=\"path1786\"/>\n",
       "    </marker>\n",
       "    <marker style=\"overflow:visible\" id=\"marker1399\" refX=\"0\" refY=\"0\" orient=\"auto\" inkscape:stockid=\"Arrow1Lend\" inkscape:isstock=\"true\">\n",
       "      <path transform=\"matrix(-0.8,0,0,-0.8,-10,0)\" style=\"fill:#0000ff;fill-opacity:1;fill-rule:evenodd;stroke:#0000ff;stroke-width:1pt;stroke-opacity:1\" d=\"M 0,0 5,-5 -12.5,0 5,5 Z\" id=\"path1397\"/>\n",
       "    </marker>\n",
       "    <marker style=\"overflow:visible\" id=\"marker1379\" refX=\"0\" refY=\"0\" orient=\"auto\" inkscape:stockid=\"Arrow1Lend\" inkscape:isstock=\"true\">\n",
       "      <path transform=\"matrix(-0.8,0,0,-0.8,-10,0)\" style=\"fill:#0000ff;fill-opacity:1;fill-rule:evenodd;stroke:#0000ff;stroke-width:1pt;stroke-opacity:1\" d=\"M 0,0 5,-5 -12.5,0 5,5 Z\" id=\"path1377\"/>\n",
       "    </marker>\n",
       "    <filter inkscape:collect=\"always\" style=\"color-interpolation-filters:sRGB\" id=\"filter1977\" x=\"-0.67794436\" width=\"2.3558888\" y=\"-0.67794436\" height=\"2.3558888\">\n",
       "      <feGaussianBlur inkscape:collect=\"always\" stdDeviation=\"0.18001642\" id=\"feGaussianBlur1979\"/>\n",
       "    </filter>\n",
       "  </defs>\n",
       "  <sodipodi:namedview id=\"base\" pagecolor=\"#ffffff\" bordercolor=\"#666666\" borderopacity=\"1.0\" inkscape:pageopacity=\"0.0\" inkscape:pageshadow=\"2\" inkscape:zoom=\"4.2546304\" inkscape:cx=\"231.12286\" inkscape:cy=\"112.87291\" inkscape:document-units=\"mm\" inkscape:current-layer=\"layer1\" inkscape:document-rotation=\"0\" showgrid=\"true\" showguides=\"true\" inkscape:guide-bbox=\"true\" inkscape:snap-nodes=\"true\" inkscape:snap-grids=\"false\" inkscape:snap-to-guides=\"false\" inkscape:snap-smooth-nodes=\"true\" inkscape:object-paths=\"false\" inkscape:snap-intersection-paths=\"false\" inkscape:window-width=\"1920\" inkscape:window-height=\"1017\" inkscape:window-x=\"-8\" inkscape:window-y=\"-8\" inkscape:window-maximized=\"1\" showborder=\"false\" inkscape:snap-others=\"false\">\n",
       "    <inkscape:grid type=\"axonomgrid\" id=\"grid10\" originx=\"-25.930769\" originy=\"-78.152683\"/>\n",
       "  </sodipodi:namedview>\n",
       "  <metadata id=\"metadata5\">\n",
       "    <rdf:RDF>\n",
       "      <cc:Work rdf:about=\"\">\n",
       "        <dc:format>image/svg+xml</dc:format>\n",
       "        <dc:type rdf:resource=\"http://purl.org/dc/dcmitype/StillImage\"/>\n",
       "        <dc:title/>\n",
       "      </cc:Work>\n",
       "    </rdf:RDF>\n",
       "  </metadata>\n",
       "  <g inkscape:label=\"Layer 1\" inkscape:groupmode=\"layer\" id=\"layer1\" transform=\"translate(-25.930763,-78.152679)\">\n",
       "    <g id=\"g176\" style=\"stroke-width:0.2;stroke-miterlimit:4;stroke-dasharray:none\">\n",
       "      <path style=\"fill:none;stroke:#000000;stroke-width:0.2;stroke-linecap:butt;stroke-linejoin:miter;stroke-miterlimit:4;stroke-dasharray:none;stroke-opacity:1\" d=\"M 73.612159,127.5 V 80.499998\" id=\"path170\"/>\n",
       "      <path style=\"fill:none;stroke:#000000;stroke-width:0.2;stroke-linecap:butt;stroke-linejoin:miter;stroke-miterlimit:4;stroke-dasharray:none;stroke-opacity:1\" d=\"M 120.37753,154.5 73.612159,127.5 25.980763,155 v 0\" id=\"path172\"/>\n",
       "    </g>\n",
       "    <path style=\"fill:none;stroke:#0000ff;stroke-width:0.3;stroke-linecap:butt;stroke-linejoin:miter;stroke-miterlimit:4;stroke-dasharray:none;stroke-opacity:1\" d=\"m 100.38432,106.11613 8.96836,-15.510143\" id=\"path1369\"/>\n",
       "    <path style=\"fill:none;stroke:#0000ff;stroke-width:0.3;stroke-linecap:butt;stroke-linejoin:miter;stroke-miterlimit:4;stroke-dasharray:none;stroke-opacity:1\" d=\"m 100.38432,106.11613 8.94799,15.52189\" id=\"path1371\"/>\n",
       "    <path style=\"fill:none;stroke:#0000ff;stroke-width:0.3;stroke-linecap:butt;stroke-linejoin:miter;stroke-miterlimit:4;stroke-dasharray:none;stroke-opacity:1\" d=\"m 100.38432,106.11613 -17.916356,-0.0118\" id=\"path1373\"/>\n",
       "    <path style=\"fill:#ff0000;stroke:#ff0000;stroke-width:0.4;stroke-linecap:butt;stroke-linejoin:miter;stroke-miterlimit:4;stroke-dasharray:none;stroke-opacity:1\" d=\"M 73.612157,127.5 100.38432,106.11613\" id=\"path1784\"/>\n",
       "    <path style=\"fill:none;stroke:#000000;stroke-width:0.5;stroke-linecap:butt;stroke-linejoin:miter;stroke-miterlimit:4;stroke-dasharray:none;stroke-opacity:1\" d=\"M 73.612157,127.5 V 97.499999\" id=\"path12\"/>\n",
       "    <path style=\"fill:none;stroke:#000000;stroke-width:0.5;stroke-linecap:butt;stroke-linejoin:miter;stroke-miterlimit:4;stroke-dasharray:none;stroke-opacity:1\" d=\"m 73.612157,127.5 25.980763,15\" id=\"path16\"/>\n",
       "    <path style=\"fill:none;stroke:#000000;stroke-width:0.5;stroke-linecap:butt;stroke-linejoin:miter;stroke-miterlimit:4;stroke-dasharray:none;stroke-opacity:1\" d=\"m 73.612157,127.5 -25.98076,15\" id=\"path20\"/>\n",
       "    <path style=\"fill:#000000;stroke:#000000;stroke-width:0.264583px;stroke-linecap:butt;stroke-linejoin:miter;stroke-opacity:1\" d=\"m 99.59292,142.5 -2.024655,-4.14873 -3.558146,2.58774 z\" id=\"path1401\"/>\n",
       "    <path style=\"fill:#000000;stroke:#000000;stroke-width:0.264583px;stroke-linecap:butt;stroke-linejoin:miter;stroke-opacity:1\" d=\"m 47.631397,142.5 6.376543,-1.1297 -2.264272,-3.45032 z\" id=\"path1442\"/>\n",
       "    <path style=\"fill:#000000;stroke:#000000;stroke-width:0.264583px;stroke-linecap:butt;stroke-linejoin:miter;stroke-opacity:1\" d=\"m 73.612157,97.499999 -1.597845,5.054171 3.234677,-0.10782 z\" id=\"path1444\"/>\n",
       "    <path style=\"fill:#0000ff;stroke:#0000ff;stroke-width:0.264583px;stroke-linecap:butt;stroke-linejoin:miter;stroke-opacity:1\" d=\"m 109.35268,90.605987 -2.67341,1.974594 2.42601,1.455605 z\" id=\"path1536\"/>\n",
       "    <g id=\"g1573\" transform=\"matrix(0.52950255,0.30617185,-0.30617185,0.52950255,112.32113,37.586931)\">\n",
       "      <circle style=\"fill:#ffffff;stroke:#000000;stroke-width:0.245;stroke-miterlimit:4;stroke-dasharray:none\" id=\"path1556\" cx=\"38.971142\" cy=\"106.5\" r=\"3.8038476\"/>\n",
       "      <path style=\"fill:none;stroke:#000000;stroke-width:0.264583px;stroke-linecap:butt;stroke-linejoin:miter;stroke-opacity:1\" d=\"m 35.167294,106.5 h 7.607695\" id=\"path1558\"/>\n",
       "      <path style=\"fill:none;stroke:#000000;stroke-width:0.264583px;stroke-linecap:butt;stroke-linejoin:miter;stroke-opacity:1\" d=\"m 38.97114,102.69615 v 7.6077\" id=\"path1560\"/>\n",
       "      <path style=\"fill:#000000;stroke:#000000;stroke-width:0.108081;stroke-miterlimit:4;stroke-dasharray:none\" d=\"m 133.49764,401.22822 c 0.45172,-4.05981 2.41113,-7.48554 5.65105,-9.87998 1.96041,-1.44884 4.2684,-2.32713 6.92566,-2.63553 l 0.67114,-0.0779 v 6.66145 6.66145 h -6.66451 -6.66451 z\" id=\"path1564\" transform=\"scale(0.26458333)\"/>\n",
       "      <path style=\"fill:#000000;stroke:#000000;stroke-width:0.108081;stroke-miterlimit:4;stroke-dasharray:none\" d=\"m 147.79598,409.71961 v -6.59469 h 6.65305 6.65305 v 0.39323 c 0,0.66611 -0.32724,2.31304 -0.65346,3.28872 -1.58524,4.74127 -5.56218,8.28667 -10.39494,9.26695 -0.65204,0.13227 -1.42677,0.24048 -1.72162,0.24048 h -0.53608 z\" id=\"path1566\" transform=\"scale(0.26458333)\"/>\n",
       "    </g>\n",
       "    <path style=\"fill:none;stroke:#000000;stroke-width:0.921889;stroke-linecap:butt;stroke-linejoin:miter;stroke-miterlimit:4;stroke-dasharray:none;stroke-opacity:1\" d=\"m 115.16699,87.761049 c -1.41978,-1.135499 -2.7796,-2.350327 -4.25933,-3.406498 -0.57386,-0.409603 -1.7868,-0.351656 -2.47714,-0.43939 -0.93755,-0.119159 -1.62177,0.04127 -2.50448,0.429143 -3.49252,1.534629 -2.04437,5.176996 -4.43425,7.118456 -0.59293,0.481685 -1.658896,0.838941 -2.301511,1.119336 -4.261885,1.859568 -9.210377,2.358689 -12.147912,6.387287 -1.159543,1.590157 -1.700059,3.431927 -2.131358,5.334897 -2.214678,9.77131 7.018645,18.36264 16.596531,16.76735 2.57767,-0.42934 7.82006,-3.44954 9.05573,-5.90825 1.17662,-2.34118 0.52664,-5.16203 1.77807,-7.45603 1.21258,-2.22278 3.20884,-4.02321 4.33035,-6.3012 0.56205,-1.14156 1.22465,-2.345012 1.69333,-3.521985 0.34048,-0.854995 0.14889,-1.824906 0.26106,-2.707424 0.38634,-3.039904 -1.00875,-5.77484 -3.45913,-7.415712 z\" id=\"path1557\"/>\n",
       "    <path style=\"fill:#0000ff;stroke:#0000ff;stroke-width:0.264583px;stroke-linecap:butt;stroke-linejoin:miter;stroke-opacity:1\" d=\"m 82.467963,106.10433 3.293729,-1.12415 -0.215646,2.21036 -3.078083,-1.08621\" id=\"path1538\"/>\n",
       "    <path style=\"fill:#0000ff;stroke:#0000ff;stroke-width:0.264583px;stroke-linecap:butt;stroke-linejoin:miter;stroke-opacity:1\" d=\"m 109.33231,121.63802 -0.11921,-3.18002 -2.31818,1.40169 z\" id=\"path1540\"/>\n",
       "    <path style=\"fill:#ff0000;stroke:#ff0000;stroke-width:0.264583px;stroke-linecap:butt;stroke-linejoin:miter;stroke-opacity:1\" d=\"m 100.38432,106.11613 -3.786459,1.61352 1.779071,1.56343 z\" id=\"path1548\"/>\n",
       "    <path style=\"fill:#00ff00;stroke:#00ff00;stroke-width:0.264583px;stroke-linecap:butt;stroke-linejoin:miter;stroke-opacity:1\" d=\"m 100.38432,106.11613 12.03251,-6.01059\" id=\"path1559\"/>\n",
       "    <circle style=\"fill:#808080;stroke:#808080;stroke-width:0.765;stroke-miterlimit:4;stroke-dasharray:none\" id=\"path1565\" cx=\"112.95187\" cy=\"99.761597\" r=\"1.2229581\"/>\n",
       "    <path style=\"fill:#00ff00;stroke:#00ff00;stroke-width:0.264583px;stroke-linecap:butt;stroke-linejoin:miter;stroke-opacity:1\" d=\"m 112.41683,100.10554 -1.79622,1.94909 -0.95544,-1.60513 z\" id=\"path1563\"/>\n",
       "    <circle style=\"fill:#ffffff;stroke:#ffffff;stroke-width:0.315635;stroke-miterlimit:4;stroke-dasharray:none;filter:url(#filter1977)\" id=\"path1567\" cx=\"113.71622\" cy=\"99.111877\" r=\"0.31863928\"/>\n",
       "    <text xml:space=\"preserve\" style=\"font-style:normal;font-variant:normal;font-weight:normal;font-stretch:normal;font-size:4.21596px;line-height:1.25;font-family:sans-serif;-inkscape-font-specification:sans-serif;letter-spacing:0px;word-spacing:0px;fill:#000000;fill-opacity:1;stroke:none;stroke-width:0.112927\" x=\"112.62344\" y=\"97.736053\" id=\"text1983\"><tspan sodipodi:role=\"line\" id=\"tspan1981\" x=\"112.62344\" y=\"97.736053\" style=\"stroke-width:0.112927\">P</tspan></text>\n",
       "    <text xml:space=\"preserve\" style=\"font-style:normal;font-variant:normal;font-weight:normal;font-stretch:normal;font-size:6.31293px;line-height:1.25;font-family:sans-serif;-inkscape-font-specification:sans-serif;letter-spacing:0px;word-spacing:0px;fill:#000000;fill-opacity:1;stroke:none;stroke-width:0.169096\" x=\"66.704491\" y=\"99.188324\" id=\"text1991\"><tspan sodipodi:role=\"line\" id=\"tspan1989\" x=\"66.704491\" y=\"99.188324\" style=\"stroke-width:0.169096\">N</tspan></text>\n",
       "    <text xml:space=\"preserve\" style=\"font-style:normal;font-variant:normal;font-weight:normal;font-stretch:normal;font-size:6.31293px;line-height:1.25;font-family:sans-serif;-inkscape-font-specification:sans-serif;letter-spacing:0px;word-spacing:0px;fill:#000000;fill-opacity:1;stroke:none;stroke-width:0.169096\" x=\"109.01119\" y=\"82.754829\" id=\"text1995\"><tspan sodipodi:role=\"line\" id=\"tspan1993\" x=\"109.01119\" y=\"82.754829\" style=\"stroke-width:0.169096\">B</tspan></text>\n",
       "    <text xml:space=\"preserve\" style=\"font-style:normal;font-variant:normal;font-weight:normal;font-stretch:normal;font-size:6.31293px;line-height:1.25;font-family:sans-serif;-inkscape-font-specification:sans-serif;letter-spacing:0px;word-spacing:0px;fill:#0000ff;fill-opacity:1;stroke:none;stroke-width:0.169096\" x=\"103.81362\" y=\"91.544838\" id=\"text1999\"><tspan sodipodi:role=\"line\" id=\"tspan1997\" x=\"103.81362\" y=\"91.544838\" style=\"fill:#0000ff;stroke-width:0.169096\">B</tspan></text>\n",
       "    <text xml:space=\"preserve\" style=\"font-style:normal;font-variant:normal;font-weight:normal;font-stretch:normal;font-size:4.77435px;line-height:1.25;font-family:sans-serif;-inkscape-font-specification:sans-serif;letter-spacing:0px;word-spacing:0px;fill:#000000;fill-opacity:1;stroke:none;stroke-width:0.127884\" x=\"71.810738\" y=\"133.27412\" id=\"text2003\"><tspan sodipodi:role=\"line\" id=\"tspan2001\" x=\"71.810738\" y=\"133.27412\" style=\"stroke-width:0.127884\">O</tspan></text>\n",
       "    <text xml:space=\"preserve\" style=\"font-style:normal;font-variant:normal;font-weight:normal;font-stretch:normal;font-size:3.26609px;line-height:1.25;font-family:sans-serif;-inkscape-font-specification:sans-serif;letter-spacing:0px;word-spacing:0px;fill:#000000;fill-opacity:1;stroke:none;stroke-width:0.0874845\" x=\"98.265465\" y=\"111.78481\" id=\"text2007\"><tspan sodipodi:role=\"line\" id=\"tspan2005\" x=\"98.265465\" y=\"111.78481\" style=\"stroke-width:0.0874845\">B*</tspan></text>\n",
       "    <text xml:space=\"preserve\" style=\"font-style:normal;font-variant:normal;font-weight:normal;font-stretch:normal;font-size:4.03094px;line-height:1.25;font-family:sans-serif;-inkscape-font-specification:sans-serif;letter-spacing:0px;word-spacing:0px;fill:#000000;fill-opacity:1;stroke:none;stroke-width:0.107971\" x=\"78.928291\" y=\"117.04057\" id=\"text930\"><tspan sodipodi:role=\"line\" id=\"tspan928\" x=\"78.928291\" y=\"117.04057\" style=\"stroke-width:0.107971\">p</tspan></text>\n",
       "    <text xml:space=\"preserve\" style=\"font-style:normal;font-variant:normal;font-weight:normal;font-stretch:normal;font-size:1.541px;line-height:1.25;font-family:sans-serif;-inkscape-font-specification:sans-serif;letter-spacing:0px;word-spacing:0px;fill:#000000;fill-opacity:1;stroke:none;stroke-width:0.0412768\" x=\"81.827332\" y=\"114.85659\" id=\"text934\"><tspan sodipodi:role=\"line\" id=\"tspan932\" x=\"81.827332\" y=\"114.85659\" style=\"stroke-width:0.0412768\">B*/O</tspan></text>\n",
       "    <g id=\"g958\">\n",
       "      <path style=\"fill:none;stroke:#000000;stroke-width:0.1;stroke-linecap:butt;stroke-linejoin:miter;stroke-miterlimit:4;stroke-dasharray:none;stroke-opacity:1\" d=\"m 78.847202,114.06958 c 0.0389,-0.008 1.70238,0 1.70238,0\" id=\"path938\"/>\n",
       "      <path style=\"fill:#000000;stroke:#000000;stroke-width:0.1;stroke-linecap:butt;stroke-linejoin:miter;stroke-miterlimit:4;stroke-dasharray:none;stroke-opacity:1\" d=\"m 80.549582,114.06958 -0.008,-0.38975 0.83,0.38159 -0.82128,0.33038 z\" id=\"path944\" sodipodi:nodetypes=\"ccccc\"/>\n",
       "    </g>\n",
       "    <text xml:space=\"preserve\" style=\"font-style:normal;font-variant:normal;font-weight:normal;font-stretch:normal;font-size:4.03094px;line-height:1.25;font-family:sans-serif;-inkscape-font-specification:sans-serif;letter-spacing:0px;word-spacing:0px;fill:#000000;fill-opacity:1;stroke:none;stroke-width:0.107971\" x=\"106.7192\" y=\"107.01474\" id=\"text954\"><tspan sodipodi:role=\"line\" id=\"tspan952\" x=\"106.7192\" y=\"107.01474\" style=\"stroke-width:0.107971\">p</tspan></text>\n",
       "    <g id=\"g964\" transform=\"translate(27.611094,-10.012131)\">\n",
       "      <path style=\"fill:none;stroke:#000000;stroke-width:0.1;stroke-linecap:butt;stroke-linejoin:miter;stroke-miterlimit:4;stroke-dasharray:none;stroke-opacity:1\" d=\"m 78.847202,114.06958 c 0.0389,-0.008 1.70238,0 1.70238,0\" id=\"path960\"/>\n",
       "      <path style=\"fill:#000000;stroke:#000000;stroke-width:0.1;stroke-linecap:butt;stroke-linejoin:miter;stroke-miterlimit:4;stroke-dasharray:none;stroke-opacity:1\" d=\"m 80.549582,114.06958 -0.008,-0.38975 0.83,0.38159 -0.82128,0.33038 z\" id=\"path962\" sodipodi:nodetypes=\"ccccc\"/>\n",
       "    </g>\n",
       "    <text xml:space=\"preserve\" style=\"font-style:normal;font-variant:normal;font-weight:normal;font-stretch:normal;font-size:1.541px;line-height:1.25;font-family:sans-serif;-inkscape-font-specification:sans-serif;letter-spacing:0px;word-spacing:0px;fill:#000000;fill-opacity:1;stroke:none;stroke-width:0.0412768\" x=\"109.25186\" y=\"104.68899\" id=\"text968\"><tspan sodipodi:role=\"line\" x=\"109.25186\" y=\"104.68899\" style=\"stroke-width:0.0412768\" id=\"tspan970\">P/B*</tspan></text>\n",
       "  </g>\n",
       "</svg>"
      ],
      "text/plain": [
       "<IPython.core.display.SVG object>"
      ]
     },
     "execution_count": 1,
     "metadata": {},
     "output_type": "execute_result"
    }
   ],
   "source": [
    "from IPython.display import SVG\n",
    "SVG('batata02.svg')"
   ]
  },
  {
   "cell_type": "markdown",
   "metadata": {},
   "source": [
    "## Tipos de movimento\n",
    "\n",
    "#### Rotação Pura:\n",
    "\n",
    "O corpo possui um ponto (centro de rotação) que não apresenta movimento com relação à estrutura estacionária de referência (sistema de referência inercial). Todos os outros pontos do corpo descrevem arcos ao redor daquele centro. Uma linha de referência desenhada no corpo através do centro muda somente a orientação angular\n",
    "![](rotação_pura.svg)\n",
    "\n",
    "#### Translação Pura:\n",
    "\n",
    "Todos os pontos do corpo descrevem caminhos paralelos (curvilíneos ou retilíneos). A linha de referência desenhada no corpo muda de posição linear, mas não muda a orientação angular. \n",
    "\n",
    "![](translação_pura.svg)\n",
    "\n",
    "\n",
    "#### Movimento Complexo: \n",
    "\n",
    "Uma combinação simultânea de rotação e translação. Qualquer linha de referência desenhada no corpo mudará a posição linear e a orientação angular. Pontos no corpo terão caminhos não paralelos e haverá, a cada instante, um centro de rotação que mudará de localização constantemente. \n",
    "\n",
    "![](movimento_complexo.svg)\n"
   ]
  },
  {
   "cell_type": "markdown",
   "metadata": {
    "slideshow": {
     "slide_type": "slide"
    }
   },
   "source": [
    "## 3.2 Ângulos de Euler"
   ]
  },
  {
   "cell_type": "markdown",
   "metadata": {
    "slideshow": {
     "slide_type": "subslide"
    }
   },
   "source": [
    "Podemos representar qualquer orientação de um corpo rígido através de 3 rotações sucessivas. "
   ]
  },
  {
   "cell_type": "code",
   "execution_count": 2,
   "metadata": {
    "slideshow": {
     "slide_type": "subslide"
    }
   },
   "outputs": [
    {
     "data": {
      "image/svg+xml": [
       "<svg xmlns:dc=\"http://purl.org/dc/elements/1.1/\" xmlns:cc=\"http://creativecommons.org/ns#\" xmlns:rdf=\"http://www.w3.org/1999/02/22-rdf-syntax-ns#\" xmlns:svg=\"http://www.w3.org/2000/svg\" xmlns=\"http://www.w3.org/2000/svg\" xmlns:sodipodi=\"http://sodipodi.sourceforge.net/DTD/sodipodi-0.dtd\" xmlns:inkscape=\"http://www.inkscape.org/namespaces/inkscape\" height=\"411.32492\" version=\"1.1\" width=\"683.94055\" id=\"svg448\" sodipodi:docname=\"helicoptero-Euler-angs.svg\" inkscape:version=\"1.0.2 (394de47547, 2021-03-26)\">\n",
       "  <metadata id=\"metadata454\">\n",
       "    <rdf:RDF>\n",
       "      <cc:Work rdf:about=\"\">\n",
       "        <dc:format>image/svg+xml</dc:format>\n",
       "        <dc:type rdf:resource=\"http://purl.org/dc/dcmitype/StillImage\"/>\n",
       "      </cc:Work>\n",
       "    </rdf:RDF>\n",
       "  </metadata>\n",
       "  <defs id=\"defs452\"/>\n",
       "  <sodipodi:namedview pagecolor=\"#ffffff\" bordercolor=\"#666666\" borderopacity=\"1\" objecttolerance=\"10\" gridtolerance=\"10\" guidetolerance=\"10\" inkscape:pageopacity=\"0\" inkscape:pageshadow=\"2\" inkscape:window-width=\"1920\" inkscape:window-height=\"1016\" id=\"namedview450\" showgrid=\"false\" inkscape:zoom=\"0.98602112\" inkscape:cx=\"274.72197\" inkscape:cy=\"274.11371\" inkscape:window-x=\"0\" inkscape:window-y=\"27\" inkscape:window-maximized=\"1\" inkscape:current-layer=\"strokes\"/>\n",
       "  <g id=\"View Layer_LineSet\" inkscape:label=\"View Layer_LineSet\" transform=\"matrix(0.45951178,0,0,0.45951178,-124.77491,-45.785895)\">\n",
       "    <g id=\"strokes\" inkscape:groupmode=\"layer\" inkscape:label=\"strokes\">\n",
       "      <path d=\"m 1321.383,655.363 0.498,-0.348 1.419,-0.992 0.013,-0.009 1.53,-1.07 0.539,-0.482 -5.478,-8.366 -5.478,-8.366 -5.478,-8.366 -2.53,-3.864 -5.628,-8.266 -5.629,-8.266 -5.628,-8.266 -0.883,-1.297 -5.975,-8.019 -5.975,-8.018 -3.432,-4.606 -6.489,-7.609 -4.047,-4.745 -5.19,-6.016 -7.87,-6.168 -0.217,-0.17 -7.606,-6.491 -3.917,-3.343 -8.424,-5.388 -2.127,-1.361 -8.784,-4.779 -4.142,-2.253 -8.78,-4.786 -7.219,-3.936 -8.746,-4.849 -8.746,-4.848 -0.981,-0.544 -8.728,-4.882 -8.728,-4.881 -2.585,-1.446 -8.72,-4.895 -8.72,-4.896 -2.583,-1.45 -0.704,-0.395 -7.799,-4.375 -9.127,0.451 -9.577,2.878 -0.307,0.092 -9.334,3.589 -0.701,0.269 -8.458,5.336 -1.054,0.665 -6.317,7.751 -1.95,2.392 -3.598,9.33 -2.679,6.945 -1.439,9.896 -1.439,9.896 -0.531,3.655 0.29,9.995 0.291,9.996 0.235,8.078 2.164,9.763 2.163,9.764 2.175,9.815 3.643,7.303 4.464,8.948 2.108,4.226 1.416,2.838 2.039,4.088 6.859,7.277 5.894,6.254 6.723,7.133 2.101,2.229 2.197,1.464 8.322,5.544 8.322,5.545 7.354,4.899 0.687,0.458 2.541,1.141 0.716,0.321 9.122,4.098 1.516,0.681 0.157,0.07 2.667,1.198 1.541,0.692 0.881,0.396 4.966,2.231 4.549,2.043 9.61,2.766 4.186,1.205 4.737,1.364 1.106,0.318 7.093,2.041 5.792,0.689 0.521,0.061 0.071,0.009 6.933,0.824 8.473,1.007 7.246,-0.56 0.428,-0.033 0.413,-0.032 0.408,-0.032 0.449,-0.034 0.05,-0.004 0.014,-10e-4 0.045,-0.004 0.069,-0.005 0.169,-0.013 0.272,-0.021 0.642,-0.05 0.628,-0.048 6.526,-0.504\" fill=\"none\" stroke=\"#000000\" stroke-linecap=\"butt\" stroke-linejoin=\"round\" stroke-opacity=\"1\" stroke-width=\"3\" id=\"path2\"/>\n",
       "      <path d=\"m 487.288,577.839 8.613,5.081 0.522,0.308 8.785,4.779 3.168,1.723 8.858,4.641 2.089,1.095 8.215,4.294 8.534,4.53 8.811,4.731 4.373,2.348 8.804,4.742 8.804,4.742 4.713,2.539 8.803,4.744 8.804,4.743 8.803,4.744 7.996,4.308 8.803,4.744 8.804,4.743 8.803,4.744 8.803,4.743 6.925,3.731 8.803,4.744 8.804,4.743 8.803,4.744 8.803,4.743 8.012,4.317 8.803,4.744 8.804,4.743 8.803,4.744 8.803,4.743 1.803,0.972 8.804,4.743 8.803,4.744 7.21,3.884 8.803,4.744 4.934,2.658\" fill=\"none\" stroke=\"#000000\" stroke-linecap=\"butt\" stroke-linejoin=\"round\" stroke-opacity=\"1\" stroke-width=\"3\" id=\"path4\"/>\n",
       "      <path d=\"m 906.123,695.075 -4.099,1.996 -0.193,0.072 -0.145,0.053 -9.375,3.479 -1.111,0.412 -9.463,3.233 -9.464,3.232 -2.093,0.715 -9.492,3.147 -9.492,3.147 -9.492,3.147 -4.949,1.64 -9.502,3.115 -9.503,3.116 -9.502,3.115 -9.502,3.115 -3.512,1.151 -9.507,3.1 -2.998,0.978 -4.325,1.41 -2.445,0.798 -2.411,0.786 -2.464,0.803 -9.507,3.1 -9.396,3.064 -9.509,3.094 -9.51,3.093 -9.509,3.094 -8.585,2.792 -9.502,3.114 -0.552,0.181 -2.51,0.822 -0.972,0.319 -2.515,0.824 -8.698,2.85 -9.413,3.378 -3.825,1.372 -4.913,2.701 -1.755,2.359 -0.561,3.345 0.744,3.652 0.276,0.694 0.031,0.078 1.105,2.398 3.28,2.684 0.178,0.146 0.334,0.177 3.812,2.021 1.566,0.569 3.694,1.34 0.962,0.289 1.374,0.413 0.127,0.038 3.541,1.064 0.899,0.262 3.158,0.921 2.308,0.673 4.514,1.316 2.027,0.591 6.583,1.92 6.488,1.893 6.212,1.759 1.832,0.409 1.782,0.398 1.089,0.244 0.876,0.195 0.361,0.026 4.2,0.297 1.289,-0.081 5.678,-0.355 0.791,-0.049 1.692,-0.313 5.309,-0.981 9.834,-1.816 0.967,-0.179 9.792,-2.027 0.859,-0.178 6.245,-1.293 6.828,-1.413 2.449,-0.507 7.955,-1.647 0.636,-0.131 2.078,-0.431 2.575,-0.523 3.172,-0.645 6.201,-1.261 9.8,-1.992 5.091,-1.035 2.575,-0.523 0.902,-0.184 2.692,-0.547 9.8,-1.992 6.603,-1.343 0.878,-0.178 9.204,-1.866 9.801,-1.986 4.707,-0.955 5.765,-1.168 9.801,-1.987 9.8,-1.987 2.087,-0.423 1.365,-0.277 1.38,-0.28 2.948,-0.597 2.535,-0.511 2.834,-0.571 7.936,-1.6 2.274,-0.458 9.803,-1.975 9.803,-1.976 9.803,-1.975 1.084,-0.219 9.803,-1.975 0.296,-0.06 8.678,-1.726 9.808,-1.952 5.453,-1.084 9.808,-1.952 8.366,-1.664 3.577,-0.712 9.821,-1.886 9.82,-1.886 9.565,-1.837 8.083,-1.397 5.795,-1.002 0.146,-0.025 1.579,-0.273 4.921,-0.534 1.775,-0.192\" fill=\"none\" stroke=\"#000000\" stroke-linecap=\"butt\" stroke-linejoin=\"round\" stroke-opacity=\"1\" stroke-width=\"3\" id=\"path6\"/>\n",
       "      <path d=\"m 1139.919,487.026 -2.004,-3.885 -3.202,-2.642 -8.145,-4.347 -6.363,-2.255 -8.548,-1.986 -9.516,-1.866 -2.505,-0.516 -7.585,-3.339 -7.075,-4.247 -4.12,-1.538 -5.563,-1.747 -2.92,-0.681\" fill=\"none\" stroke=\"#000000\" stroke-linecap=\"butt\" stroke-linejoin=\"round\" stroke-opacity=\"1\" stroke-width=\"3\" id=\"path8\"/>\n",
       "      <path d=\"m 396.803,599.042 -1.864,-1.686 -2.446,-1.987 -3.78,-3.436 -6.421,-6.296 -4.827,-4.832 -0.126,-0.126 -5.577,-5.583 -7.061,-7.082 -7.06,-7.081 -1.262,-1.266 -7.061,-7.082 -7.06,-7.082 -3.97,-3.981 -7.06,-7.082 -7.061,-7.082 -3.87,-3.882 -7.061,-7.081 -7.06,-7.082 -1.041,-1.043 -7.07,-7.072 -3.274,-3.274 -6.29,-6.094 -3.637,-3.097 -0.325,-0.267 -1.709,-1.083 -1.437,-0.559 -1.099,-0.421 -2.237,-0.57 -1.972,-0.149 -1.113,-0.025 -1.301,0.327 -0.432,0.355 -0.201,1.006 1.491,2.712 3.989,5.554 6.021,7.983 1.136,1.507 6.039,7.971 4.513,5.958 6.039,7.971 6.038,7.971 0.411,0.543 6.038,7.971 6.039,7.971 0.442,0.584 6.038,7.971 4.578,6.042 1.797,2.377 5.428,7.174\" fill=\"none\" stroke=\"#000000\" stroke-linecap=\"butt\" stroke-linejoin=\"round\" stroke-opacity=\"1\" stroke-width=\"3\" id=\"path10\"/>\n",
       "      <path d=\"m 410.821,405.04 -3.848,0.192 -2.593,0.036 -0.782,-0.157 0.759,-0.321 1.815,-0.434 2.344,-0.493 2.44,-0.495 0.852,-0.17 2.401,-0.441 2.451,-0.361 2.605,-0.262 2.919,-0.161 2.983,-0.071 2.573,0.015 1.702,0.094 0.871,0.098 0.657,0.185 0.667,0.388 0.697,0.782 1.257,1.515 2.901,3.498 5.773,6.962 6.383,7.698 3.475,4.192 0.032,0.038 2.886,3.481 2.183,2.632 6.383,7.698 0.636,0.768 0.523,0.63 0.413,0.498 0.864,1.042 0.179,0.216 0.571,0.688 0.352,0.425\" fill=\"none\" stroke=\"#000000\" stroke-linecap=\"butt\" stroke-linejoin=\"round\" stroke-opacity=\"1\" stroke-width=\"3\" id=\"path12\"/>\n",
       "      <path d=\"m 800.646,553.617 -9.411,-0.84 -9.96,-0.894 -9.96,-0.893 -9.96,-0.894 -9.96,-0.893 -1.127,-0.101 -9.96,-0.894 -9.96,-0.893 -9.96,-0.894 -9.96,-0.893 -8.122,-0.729 -9.96,-0.893 -9.96,-0.894 -9.96,-0.893 -9.96,-0.894 -7.044,-0.632 -9.961,-0.893 -7.485,-0.672 -9.96,-0.893 -7.988,-0.717 -2.983,-0.267 -9.959,-0.895 -9.96,-0.896 -0.278,-0.025 -4.649,-0.418 -9.958,-0.914 -4.125,-0.379 -7.737,-0.748 -6.022,-0.527 -5.414,-0.688 -0.014,-0.002 -2.728,-0.346 -9.469,-1.086 -7.849,-0.643\" fill=\"none\" stroke=\"#000000\" stroke-linecap=\"butt\" stroke-linejoin=\"round\" stroke-opacity=\"1\" stroke-width=\"3\" id=\"path14\"/>\n",
       "      <path d=\"m 906.775,446.861 -1.342,0.17 -8.912,1.125 -9.679,2.513 -1.742,0.452 -9.56,2.931 -2.1,0.644 -9.111,4.123 -2.229,1.008 -8.895,4.569 -0.535,0.275 -7.804,6.253 -1.965,1.574 -6.731,7.395 -1.399,1.537 -4.944,6.436 -4.971,8.677 -2.506,4.375 -4.14,9.103 -4.14,9.103 -1.182,2.599 -3.596,9.331 -3.597,9.331 -2.416,6.267 -2.633,6.965 -3.536,9.354 -1.02,2.699 -2.884,7.628 -0.468,1.24\" fill=\"none\" stroke=\"#000000\" stroke-linecap=\"butt\" stroke-linejoin=\"round\" stroke-opacity=\"1\" stroke-width=\"3\" id=\"path16\"/>\n",
       "      <path d=\"m 480.948,530.884 -0.873,0.303 -2.43,0.921 -3.093,1.274 -2.472,1.637 -1.538,2.461 -1.113,1.708 -1.03,3.21 -0.786,3.474 -0.847,3.311 -2.187,4.494 -0.856,2.142 -0.03,1.079 1.062,0.795\" fill=\"none\" stroke=\"#000000\" stroke-linecap=\"butt\" stroke-linejoin=\"round\" stroke-opacity=\"1\" stroke-width=\"3\" id=\"path18\"/>\n",
       "      <path d=\"m 463.693,556.898 1.498,2.412 0.228,0.213\" fill=\"none\" stroke=\"#000000\" stroke-linecap=\"butt\" stroke-linejoin=\"round\" stroke-opacity=\"1\" stroke-width=\"3\" id=\"path20\"/>\n",
       "      <path d=\"m 466.569,559.138 0.244,-0.379 0.018,-0.027 -0.038,-0.02 -0.779,-0.439\" fill=\"none\" stroke=\"#000000\" stroke-linecap=\"butt\" stroke-linejoin=\"round\" stroke-opacity=\"1\" stroke-width=\"3\" id=\"path22\"/>\n",
       "      <path d=\"m 1033.149,380.991 0.155,-0.955 0.096,-0.505 -0.145,-0.339 -0.147,-0.127 -0.493,-0.234 -0.882,-0.258 -1.289,-0.366 -0.746,-0.214\" fill=\"none\" stroke=\"#000000\" stroke-linecap=\"butt\" stroke-linejoin=\"round\" stroke-opacity=\"1\" stroke-width=\"3\" id=\"path24\"/>\n",
       "      <path d=\"m 1073.059,460.538 -1.033,2.174 -4.626,2.438 -7.069,2.627 -1.415,0.464 -6.931,2.272 -1.232,0.389 -6.74,2.129 -0.681,0.216 -6.87,1.932 -1.998,0.562 -5.364,1.154 -3.832,0.825 -9.622,1.184 -10.066,0.202 -9.984,-0.573 -0.307,-0.018 -6.827,-0.729 -3.425,-0.366 -9.973,-1.311 -9.58,-1.3 -9.506,-1.29 -9.853,-1.337 -9.909,-1.345 -0.699,-0.095 -9.904,-1.381 -1.506,-0.209 -9.87,-1.605 -0.964,-0.156 -8.543,-1.945 -4.564,-2.14 0.554,-2.335\" fill=\"none\" stroke=\"#000000\" stroke-linecap=\"butt\" stroke-linejoin=\"round\" stroke-opacity=\"1\" stroke-width=\"3\" id=\"path26\"/>\n",
       "      <path d=\"m 941.507,775.473 2.202,0.468 7.408,1.573 3.842,0.816 9.783,2.072 3.792,0.804 9.783,2.071 4.354,0.921 9.784,2.071 4.783,1.012 9.783,2.071 4.931,1.044 9.784,2.071 4.787,1.013 9.787,2.052 4.622,0.97 3.705,0.734 4.74,0.941 2.413,0.478 4.499,0.892 0.228,0.041 9.842,1.772 7.663,1.379 9.874,1.586 9.873,1.585 1.848,0.297 9.898,1.425 9.898,1.424 6.537,0.941 4.315,0.559 9.134,1.183 4.962,0.643 9.065,1.175 1.764,0.228 9.936,1.129 9.936,1.129 9.647,1.096 9.959,0.909 9.959,0.909 7.11,0.649 9.985,0.537 9.825,0.529 2.598,0.14 1.79,-0.004 3.447,-0.007 4.376,-0.01 9.142,-0.02 9.976,-0.69 6.952,-0.48 9.919,-1.271 7.077,-0.907 9.863,-1.649 8.49,-1.42 9.785,-2.065 8.552,-1.806 9.634,-2.682 6.603,-1.838 8.629,-3.143 9.273,-3.742 3.838,-1.549 8.851,-4.654 0.872,-0.459 8.545,-5.193 1.046,-0.636 8.438,-5.365 0.72,-0.457 8.316,-5.553 0.23,-0.154 7.003,-5.283 4.538,-5.885 3.063,-4.437 1.879,-6.198 0.48,-6.116 0.237,-5.871 0.234,-5.785 0.24,-5.937 0.256,-6.328 0.045,-6.876 -1.343,-7.243 -2.454,-5.929 -3.481,-6.891 -4.478,-4.811 -7.345,-6.576 -8.296,-5.584 -4.688,-3.156 -8.828,-4.698 -7.727,-4.112 -4.284,-1.826 -8.999,-4.361 -6.057,-2.935 -9.384,-3.456 -1.457,-0.537 -6.207,-1.038 -3.78,0.708 -0.376,0.126\" fill=\"none\" stroke=\"#000000\" stroke-linecap=\"butt\" stroke-linejoin=\"round\" stroke-opacity=\"1\" stroke-width=\"3\" id=\"path28\"/>\n",
       "      <path d=\"m 544.419,427.705 -0.414,-0.239 -0.211,-0.084 -2.135,-0.776 -2.158,-0.475 -1.897,-0.104 -0.933,-0.037 -1.268,0.316 -0.292,0.297 -0.21,0.907 1.209,2.103\" fill=\"none\" stroke=\"#000000\" stroke-linecap=\"butt\" stroke-linejoin=\"round\" stroke-opacity=\"1\" stroke-width=\"3\" id=\"path30\"/>\n",
       "      <path d=\"m 469.262,505.904 5.409,8.411 1.35,2.1 0.228,0.353 1.042,1.727 3.433,5.682 1.736,4.009 -0.384,1.987 -1.128,0.711 -0.749,0.471\" fill=\"none\" stroke=\"#000000\" stroke-linecap=\"butt\" stroke-linejoin=\"round\" stroke-opacity=\"1\" stroke-width=\"3\" id=\"path32\"/>\n",
       "      <path d=\"m 482.453,531.032 -0.251,-0.572 -0.004,-0.01 -0.122,-0.277\" fill=\"none\" stroke=\"#000000\" stroke-linecap=\"butt\" stroke-linejoin=\"round\" stroke-opacity=\"1\" stroke-width=\"3\" id=\"path34\"/>\n",
       "      <path d=\"m 320.157,523.894 7.088,7.054 7.088,7.054 4.023,4.003 7.088,7.054 7.088,7.054 4.126,4.106 7.088,7.054 7.089,7.054 1.388,1.382 5.017,4.994 5.613,5.585 6.325,6.302 3.204,3.228 0.165,0.165 1.687,1.869 1.025,1.504 0.421,1.374 1.881,-0.248 1.231,-0.539 1.707,-0.651 3.516,-1.001 6.685,-1.695 9.71,-2.391 1.433,-0.353 9.711,-2.385 6.392,-1.57 9.711,-2.385 9.01,-2.213 9.711,-2.385 8.697,-2.136 9.711,-2.386 2.429,-0.596 3.174,-0.78 9.713,-2.375 0.541,-0.133 6.055,-1.411 2.022,-0.374 1.334,-0.247 2.12,-0.122 2.093,0.13\" fill=\"none\" stroke=\"#000000\" stroke-linecap=\"butt\" stroke-linejoin=\"round\" stroke-opacity=\"1\" stroke-width=\"3\" id=\"path36\"/>\n",
       "      <path d=\"m 399.526,599.838 2.929,-1.008 6.654,-1.763 9.708,-2.402 1.449,-0.358 9.711,-2.386 6.42,-1.578 9.711,-2.386 9.043,-2.222 9.711,-2.386 8.729,-2.145 9.712,-2.386 3.985,-0.979 1.644,-0.404 9.714,-2.375 0.556,-0.136 6.054,-1.395 3.329,-0.568 2.061,-0.019\" fill=\"none\" stroke=\"#000000\" stroke-linecap=\"butt\" stroke-linejoin=\"round\" stroke-opacity=\"1\" stroke-width=\"3\" id=\"path38\"/>\n",
       "      <path d=\"m 333.647,568.433 4.881,6.534 4.143,5.644 2.032,3.017 0.771,1.652 0.26,1.364 0.112,1.369 0.146,1.451 0.056,1.546 -0.226,1.719 -0.646,2.311 -1.189,3.409 -1.859,5.034 -2.57,6.915 -2.965,7.979 -2.962,7.97 -2.564,6.9 -1.831,5.036 -0.157,0.432 -1.016,3.344 -0.063,2.136 0.841,1.462 1.686,1.283 2.349,1.09 2.681,0.715 2.539,0.213 0.799,0.037 2.423,-0.471 2.647,-1.46 3.532,-2.762 5.037,-4.338 6.883,-5.99 7.544,-6.564 0.426,-0.371 7.544,-6.565 0.459,-0.399 6.954,-6.051 5.068,-4.411 3.405,-2.971 2.221,-1.971 1.427,-1.418 2.455,-1.603 0.992,-0.905 0.88,-0.802\" fill=\"none\" stroke=\"#000000\" stroke-linecap=\"butt\" stroke-linejoin=\"round\" stroke-opacity=\"1\" stroke-width=\"3\" id=\"path40\"/>\n",
       "      <path d=\"m 1031.466,380.041 0.036,0.023 0.392,0.253 0.197,0.27 v 0.343 l -0.075,0.211\" fill=\"none\" stroke=\"#000000\" stroke-linecap=\"butt\" stroke-linejoin=\"round\" stroke-opacity=\"1\" stroke-width=\"3\" id=\"path42\"/>\n",
       "      <path d=\"m 1031.466,380.041 -0.766,-0.328 -1.011,-0.348\" fill=\"none\" stroke=\"#000000\" stroke-linecap=\"butt\" stroke-linejoin=\"round\" stroke-opacity=\"1\" stroke-width=\"3\" id=\"path44\"/>\n",
       "      <path d=\"m 1033.108,379.065 0.171,0.308 -0.066,0.422 -0.225,0.54 -0.322,0.594 -0.362,0.563 -0.348,0.449 -0.289,0.276 -0.247,0.162 -0.23,0.116 -0.019,0.007 v 10e-4 l -0.014,0.005 -0.027,0.01 -0.139,0.05 -0.018,0.006 -0.251,0.047 -0.474,0.073 -0.575,0.094 -0.352,0.058 -1.61,0.231 -2.416,0.289 -2.91,0.309 -2.984,0.285 -2.635,0.217 -1.998,0.124 -1.617,0.072 -1.631,0.064 -2.037,0.043 h -2.702 l -3.095,-0.042 -3.079,-0.077 -2.657,-0.106 -1.944,-0.126 -1.409,-0.137 -1.167,-0.154 -1.223,-0.234 -1.437,-0.353 -0.058,-0.014\" fill=\"none\" stroke=\"#000000\" stroke-linecap=\"butt\" stroke-linejoin=\"round\" stroke-opacity=\"1\" stroke-width=\"3\" id=\"path46\"/>\n",
       "      <path d=\"m 273.407,486.818 -0.168,-0.477\" fill=\"none\" stroke=\"#000000\" stroke-linecap=\"butt\" stroke-linejoin=\"round\" stroke-opacity=\"1\" stroke-width=\"3\" id=\"path48\"/>\n",
       "      <path d=\"m 601.801,513.57 -0.002,0.206 -0.01,1.225 -0.641,1.091 -0.673,1.027\" fill=\"none\" stroke=\"#000000\" stroke-linecap=\"butt\" stroke-linejoin=\"round\" stroke-opacity=\"1\" stroke-width=\"3\" id=\"path50\"/>\n",
       "      <path d=\"m 1323.156,654.416 -1.773,0.947 -2.09,1.116 -0.615,0.328 -7.179,3.681 -8.619,4.38 -8.916,4.529 -0.111,0.056 -8.928,4.503 -0.443,0.223 -6.775,3.36 -3.112,1.543 -9.005,4.347 -1.539,0.743 -9.162,4.007 -2.353,1.029 -3.332,0.934 -9.629,2.7 -0.456,0.128 -0.088,0.025 v 0 l -0.068,0.019\" fill=\"none\" stroke=\"#000000\" stroke-linecap=\"butt\" stroke-linejoin=\"round\" stroke-opacity=\"1\" stroke-width=\"3\" id=\"path52\"/>\n",
       "      <path d=\"m 394.465,603.253 0.91,-1.256\" fill=\"none\" stroke=\"#000000\" stroke-linecap=\"butt\" stroke-linejoin=\"round\" stroke-opacity=\"1\" stroke-width=\"3\" id=\"path54\"/>\n",
       "      <path d=\"m 403.598,405.111 -0.17,0.425 0.44,0.768 0.969,1.476 2.237,3.407 4.449,6.776 5.489,8.36 2.127,3.239 5.488,8.359 5.489,8.359 0.276,0.421 5.489,8.359 5.489,8.359 2.407,3.667 5.489,8.359 5.488,8.359 2.515,3.83 5.489,8.359 0.971,1.479 1.27,1.935 3.816,5.812 0.447,0.685 5.464,8.375 1.288,1.975 0.769,1.178\" fill=\"none\" stroke=\"#000000\" stroke-linecap=\"butt\" stroke-linejoin=\"round\" stroke-opacity=\"1\" stroke-width=\"3\" id=\"path56\"/>\n",
       "      <path d=\"m 620.028,537.418 0.543,-0.188 9.451,-3.268 1.475,-0.51 7.433,-2.562 4.546,-1.515 0.505,-0.148 2.197,-0.64 1.817,-0.38 1.535,-0.276 0.525,-0.414 -0.361,-1.232 -0.901,-1.348 -1.487,-1.675 -3.073,-3.013 -5.899,-5.56 -7.307,-6.827 -2.668,-2.493 -7.296,-6.84 -7.295,-6.839 -0.449,-0.422 -7.282,-6.854 -7.281,-6.854 -2.443,-2.299 -7.281,-6.855 -7.281,-6.854 -2.362,-2.223 -7.282,-6.854 -2.412,-2.271\" fill=\"none\" stroke=\"#000000\" stroke-linecap=\"butt\" stroke-linejoin=\"round\" stroke-opacity=\"1\" stroke-width=\"3\" id=\"path58\"/>\n",
       "      <path d=\"m 638.93,530.89 3.013,-0.993 2.831,-0.643\" fill=\"none\" stroke=\"#000000\" stroke-linecap=\"butt\" stroke-linejoin=\"round\" stroke-opacity=\"1\" stroke-width=\"3\" id=\"path60\"/>\n",
       "      <path d=\"m 637.976,539.028 4.193,-3.431 3.309,-2.732 2.096,-1.793 1.313,-1.278 0.857,-1.134 0.311,-1.143\" fill=\"none\" stroke=\"#000000\" stroke-linecap=\"butt\" stroke-linejoin=\"round\" stroke-opacity=\"1\" stroke-width=\"3\" id=\"path62\"/>\n",
       "      <path d=\"m 648.867,526.638 -1.595,-1.528\" fill=\"none\" stroke=\"#000000\" stroke-linecap=\"butt\" stroke-linejoin=\"round\" stroke-opacity=\"1\" stroke-width=\"3\" id=\"path64\"/>\n",
       "      <path d=\"m 1073.059,460.538 -0.686,-2.561 -2.589,-9.659 -1.894,-7.065 -2.599,-9.656 -2.297,-8.536 -2.621,-9.65 -1.694,-6.239 -2.672,-9.637 -0.755,-2.723 -2.329,-7.991 -1.444,-4.377 -0.878,-1.929 -0.635,-0.654 -0.686,-0.361 -2.282,-0.991 -0.868,-0.244 -4.349,-0.855 -5.69,-0.767 -0.857,-0.108 -5.524,-0.632\" fill=\"none\" stroke=\"#000000\" stroke-linecap=\"butt\" stroke-linejoin=\"round\" stroke-opacity=\"1\" stroke-width=\"3\" id=\"path66\"/>\n",
       "      <path d=\"m 1324.843,652.944 -2.881,1.528 -1.699,0.9 -3.842,1.968 -3.509,1.798 -8.829,4.484 -8.918,4.524 -0.317,0.161 -8.93,4.5 -0.652,0.329 -8.082,4.016 -2.023,1.006 -8.99,4.381 -1.794,0.874 -9.129,4.081 -2.651,1.184 -4.472,1.311 -9.389,2.753 -8.573,0.713 -0.651,0.054 -0.405,0.034 -0.03,0.002 v 0.001 l -0.08,0.006 -0.191,0.016 -0.179,0.015 -0.07,0.006 -0.288,0.024 -0.196,0.016 -0.776,0.064 -1.336,0.112 -4.427,0.368\" fill=\"none\" stroke=\"#000000\" stroke-linecap=\"butt\" stroke-linejoin=\"round\" stroke-opacity=\"1\" stroke-width=\"3\" id=\"path68\"/>\n",
       "      <path d=\"m 598.164,518.614 -0.829,0.295 -4.6,1.634\" fill=\"none\" stroke=\"#000000\" stroke-linecap=\"butt\" stroke-linejoin=\"round\" stroke-opacity=\"1\" stroke-width=\"3\" id=\"path70\"/>\n",
       "      <path d=\"m 600.316,517.534 -0.124,0.057 -0.037,0.017 -0.649,0.3 -2.171,1.001\" fill=\"none\" stroke=\"#000000\" stroke-linecap=\"butt\" stroke-linejoin=\"round\" stroke-opacity=\"1\" stroke-width=\"3\" id=\"path72\"/>\n",
       "      <path d=\"m 593.56,520.27 -0.825,0.273 -7.137,2.362 -9.501,3.119 -2.27,0.745 -9.501,3.119 -4.552,1.494 -0.845,0.277\" fill=\"none\" stroke=\"#000000\" stroke-linecap=\"butt\" stroke-linejoin=\"round\" stroke-opacity=\"1\" stroke-width=\"3\" id=\"path74\"/>\n",
       "      <path d=\"m 600.958,516.727 -0.483,0.392 -0.969,0.789\" fill=\"none\" stroke=\"#000000\" stroke-linecap=\"butt\" stroke-linejoin=\"round\" stroke-opacity=\"1\" stroke-width=\"3\" id=\"path76\"/>\n",
       "      <path d=\"m 1080.609,603.359 -2.032,-9.791 -2.033,-9.791 -2.032,-9.792 -0.133,-0.641\" fill=\"none\" stroke=\"#000000\" stroke-linecap=\"butt\" stroke-linejoin=\"round\" stroke-opacity=\"1\" stroke-width=\"3\" id=\"path78\"/>\n",
       "      <path d=\"m 985.697,381.627 -10e-4,-0.02 0.145,-0.495 0.259,-0.555 0.327,-0.535 0.347,-0.434 0.319,-0.273 0.007,-0.006\" fill=\"none\" stroke=\"#000000\" stroke-linecap=\"butt\" stroke-linejoin=\"round\" stroke-opacity=\"1\" stroke-width=\"3\" id=\"path80\"/>\n",
       "      <path d=\"m 988.712,377.352 -0.321,0.023 -0.942,0.08 -0.482,0.086 -0.253,0.074 -0.221,0.049 -0.227,0.097 -0.128,0.083 -0.111,0.142 -0.273,0.374 -0.321,0.515 -0.331,0.588 -0.29,0.579 -0.199,0.486 -0.09,0.298 -0.076,0.252 0.142,0.739\" fill=\"none\" stroke=\"#000000\" stroke-linecap=\"butt\" stroke-linejoin=\"round\" stroke-opacity=\"1\" stroke-width=\"3\" id=\"path82\"/>\n",
       "      <path d=\"m 988.727,371.639 -0.485,-0.045 -7.487,-0.469 -6.922,-0.076 -6.212,0.412 -5.681,0.828 -0.809,0.141 -5.516,1.158 -5.339,1.31 -5.187,1.338 -4.329,1.322 -0.782,0.371 -2.635,1.306 -0.779,0.687 -1.226,1.968 -2.189,4.437 -3.667,8.086 -4.018,9.158 -1.468,3.347 -3.972,9.177 -2.989,6.904 -3.952,9.186 -3.974,9.239 -2.334,5.437 -3.943,9.189 -2.112,4.921\" fill=\"none\" stroke=\"#000000\" stroke-linecap=\"butt\" stroke-linejoin=\"round\" stroke-opacity=\"1\" stroke-width=\"3\" id=\"path84\"/>\n",
       "      <path d=\"m 990.766,383.251 -1.489,-0.42 -0.578,-0.177 -0.964,-0.295 -1.283,-0.43 -0.755,-0.302 -0.131,-0.052 -0.27,-0.107 -0.04,-0.017\" fill=\"none\" stroke=\"#000000\" stroke-linecap=\"butt\" stroke-linejoin=\"round\" stroke-opacity=\"1\" stroke-width=\"3\" id=\"path86\"/>\n",
       "      <path d=\"m 990.708,383.237 -1.643,-0.46 -0.366,-0.113 -1.219,-0.377 -1.323,-0.458 -0.46,-0.193 -0.399,-0.167 -0.042,-0.018 -0.507,-0.307 -0.185,-0.275 0.049,-0.341\" fill=\"none\" stroke=\"#000000\" stroke-linecap=\"butt\" stroke-linejoin=\"round\" stroke-opacity=\"1\" stroke-width=\"3\" id=\"path88\"/>\n",
       "      <path d=\"m 918.333,770.514 9.276,1.993 2.524,0.538\" fill=\"none\" stroke=\"#000000\" stroke-linecap=\"butt\" stroke-linejoin=\"round\" stroke-opacity=\"1\" stroke-width=\"3\" id=\"path90\"/>\n",
       "      <path d=\"m 986.266,377.761 -0.239,0.225\" fill=\"none\" stroke=\"#000000\" stroke-linecap=\"butt\" stroke-linejoin=\"round\" stroke-opacity=\"1\" stroke-width=\"3\" id=\"path100\"/>\n",
       "      <path d=\"m 1029.664,383.574 -2.351,0.434 -0.17,0.032 -0.979,0.128 -3.598,0.422 -3.833,0.381 -5.375,0.406 -2.301,0.049 -3.45,-0.014 -4.02,-0.066 -3.919,-0.131 -1.051,-0.076 -4.043,-0.295 -0.33,-0.024 -1.633,-0.238 -0.374,-0.055 -2.056,-0.299\" fill=\"none\" stroke=\"#000000\" stroke-linecap=\"butt\" stroke-linejoin=\"round\" stroke-opacity=\"1\" stroke-width=\"3\" id=\"path110\"/>\n",
       "      <path d=\"m 772.857,731.847 1.043,0.562 3.16,1.703 2.831,1.487 2.838,1.439\" fill=\"none\" stroke=\"#000000\" stroke-linecap=\"butt\" stroke-linejoin=\"round\" stroke-opacity=\"1\" stroke-width=\"3\" id=\"path112\"/>\n",
       "      <path d=\"m 901.96,696.795 -0.274,0.401\" fill=\"none\" stroke=\"#000000\" stroke-linecap=\"butt\" stroke-linejoin=\"round\" stroke-opacity=\"1\" stroke-width=\"3\" id=\"path114\"/>\n",
       "      <path d=\"m 993.411,384.061 1.077,0.096 1.324,0.176\" fill=\"none\" stroke=\"#000000\" stroke-linecap=\"butt\" stroke-linejoin=\"round\" stroke-opacity=\"1\" stroke-width=\"3\" id=\"path116\"/>\n",
       "      <path d=\"m 1032.023,381.134 v 0.007 l -0.287,0.54 -0.353,0.541 -0.169,0.213\" fill=\"none\" stroke=\"#000000\" stroke-linecap=\"butt\" stroke-linejoin=\"round\" stroke-opacity=\"1\" stroke-width=\"3\" id=\"path118\"/>\n",
       "      <path d=\"m 1033.355,382.375 -0.446,0.177 -2.016,0.794\" fill=\"none\" stroke=\"#000000\" stroke-linecap=\"butt\" stroke-linejoin=\"round\" stroke-opacity=\"1\" stroke-width=\"3\" id=\"path120\"/>\n",
       "      <path d=\"m 1030.7,379.713 0.802,0.351\" fill=\"none\" stroke=\"#000000\" stroke-linecap=\"butt\" stroke-linejoin=\"round\" stroke-opacity=\"1\" stroke-width=\"3\" id=\"path122\"/>\n",
       "      <path d=\"m 467.939,558.679 -0.866,0.29 -0.064,0.022 -0.086,0.029 -0.354,0.118 -1.15,0.385 -0.051,0.017 -6.01,1.527 -9.723,2.335 -1.005,0.241 -9.726,2.324 -6.376,1.524 -9.726,2.324 -9.64,2.304 -9.726,2.324 -9.726,2.324 -0.255,0.061 -9.726,2.324 -6.39,1.527\" fill=\"none\" stroke=\"#000000\" stroke-linecap=\"butt\" stroke-linejoin=\"round\" stroke-opacity=\"1\" stroke-width=\"3\" id=\"path124\"/>\n",
       "      <path d=\"m 988.709,378.817 -0.174,0.026 -0.474,0.071 -0.269,0.052 -0.202,0.07 -0.215,0.108 -0.275,0.165\" fill=\"none\" stroke=\"#000000\" stroke-linecap=\"butt\" stroke-linejoin=\"round\" stroke-opacity=\"1\" stroke-width=\"3\" id=\"path132\"/>\n",
       "      <path d=\"m 987.093,379.315 0.169,-0.085 0.216,-0.128 0.112,-0.066\" fill=\"none\" stroke=\"#000000\" stroke-linecap=\"butt\" stroke-linejoin=\"round\" stroke-opacity=\"1\" stroke-width=\"3\" id=\"path134\"/>\n",
       "      <path d=\"m 1030.448,382.818 0.447,-0.038 0.237,-0.016 0.211,-0.104 0.206,-0.137\" fill=\"none\" stroke=\"#000000\" stroke-linecap=\"butt\" stroke-linejoin=\"round\" stroke-opacity=\"1\" stroke-width=\"3\" id=\"path136\"/>\n",
       "      <path d=\"m 539.966,530.552 -0.619,-0.554 -0.464,-0.414 -3.473,-3.106 -6.662,-7.458 -0.218,-0.245 -6.447,-7.645 -4.271,-5.064 -6.425,-7.662 -6.426,-7.662 -2.478,-2.955 -6.426,-7.662 -6.426,-7.663 -5.023,-5.989 -6.389,-7.693 -1.301,-1.568\" fill=\"none\" stroke=\"#000000\" stroke-linecap=\"butt\" stroke-linejoin=\"round\" stroke-opacity=\"1\" stroke-width=\"3\" id=\"path138\"/>\n",
       "      <path d=\"m 543.041,531.581 -3.694,-1.583\" fill=\"none\" stroke=\"#000000\" stroke-linecap=\"butt\" stroke-linejoin=\"round\" stroke-opacity=\"1\" stroke-width=\"3\" id=\"path140\"/>\n",
       "      <path d=\"m 555.047,453.754 1.524,1.912 6.233,7.819 5.432,6.815 6.219,7.831 5.078,6.393 6.183,7.859 3.559,4.523 6.173,7.868 0.446,0.569 3.821,5.018 1.797,2.704 0.287,0.711\" fill=\"none\" stroke=\"#000000\" stroke-linecap=\"butt\" stroke-linejoin=\"round\" stroke-opacity=\"1\" stroke-width=\"3\" id=\"path142\"/>\n",
       "      <path d=\"m 628.359,505.369 -7.31,-6.825 -7.312,-6.827 -7.31,-6.824 -7.309,-6.824 -2.588,-2.416 -7.309,-6.824 -7.31,-6.824 -2.504,-2.338\" fill=\"none\" stroke=\"#000000\" stroke-linecap=\"butt\" stroke-linejoin=\"round\" stroke-opacity=\"1\" stroke-width=\"3\" id=\"path144\"/>\n",
       "      <path d=\"m 647.379,529.938 -1.762,1.135\" fill=\"none\" stroke=\"#000000\" stroke-linecap=\"butt\" stroke-linejoin=\"round\" stroke-opacity=\"1\" stroke-width=\"3\" id=\"path146\"/>\n",
       "      <path d=\"m 987.613,379.044 0.267,-0.038 0.47,-0.058 0.358,-0.062\" fill=\"none\" stroke=\"#000000\" stroke-linecap=\"butt\" stroke-linejoin=\"round\" stroke-opacity=\"1\" stroke-width=\"3\" id=\"path148\"/>\n",
       "      <path d=\"m 1031.382,382.328 -0.145,0.098 -0.04,0.027 -0.013,0.009 -0.069,0.046 -0.128,0.06\" fill=\"none\" stroke=\"#000000\" stroke-linecap=\"butt\" stroke-linejoin=\"round\" stroke-opacity=\"1\" stroke-width=\"3\" id=\"path150\"/>\n",
       "      <path d=\"m 1031.329,382.32 -0.118,0.115 -0.027,0.027\" fill=\"none\" stroke=\"#000000\" stroke-linecap=\"butt\" stroke-linejoin=\"round\" stroke-opacity=\"1\" stroke-width=\"3\" id=\"path152\"/>\n",
       "      <path d=\"m 1026.681,357.333 -2.483,0.507 -3.064,0.417 -3.527,0.311 -3.853,0.192 -4.027,0.067 -4.044,-0.063 -3.901,-0.189 -3.607,-0.308 -3.17,-0.415 -2.613,-0.505\" fill=\"none\" stroke=\"#000000\" stroke-linecap=\"butt\" stroke-linejoin=\"round\" stroke-opacity=\"1\" stroke-width=\"3\" id=\"path154\"/>\n",
       "      <path d=\"m 976.687,351.561 -10e-4,0.568 0.684,1.019 1.92,0.984 3.091,0.91 4.146,0.8 2.238,0.292 0.563,0.074 2.243,0.292 5.747,0.49 6.224,0.301 6.454,0.1 6.427,-0.106 6.146,-0.306 5.619,-0.494 0.993,-0.135 0.648,-0.088 3.233,-0.439 3.939,-0.804 2.854,-0.913 1.666,-0.985 0.421,-1.02 0.053,-7.48 -0.414,-0.496\" fill=\"none\" stroke=\"#000000\" stroke-linecap=\"butt\" stroke-linejoin=\"round\" stroke-opacity=\"1\" stroke-width=\"3\" id=\"path156\"/>\n",
       "      <path d=\"m 1026.681,357.333 3.146,-0.706 7.174,-1.608\" fill=\"none\" stroke=\"#000000\" stroke-linecap=\"butt\" stroke-linejoin=\"round\" stroke-opacity=\"1\" stroke-width=\"3\" id=\"path158\"/>\n",
       "      <path d=\"m 982.381,355.042 6.383,1.47 3.628,0.835\" fill=\"none\" stroke=\"#000000\" stroke-linecap=\"butt\" stroke-linejoin=\"round\" stroke-opacity=\"1\" stroke-width=\"3\" id=\"path160\"/>\n",
       "      <path d=\"m 995.776,346.935 2.689,0.342 3.528,0.294 3.816,0.181 3.955,0.06 3.94,-0.063 3.768,-0.184 3.45,-0.297 2.997,-0.398 2.429,-0.483 1.768,-0.55 1.041,-0.595 0.276,-0.616\" fill=\"none\" stroke=\"#000000\" stroke-linecap=\"butt\" stroke-linejoin=\"round\" stroke-opacity=\"1\" stroke-width=\"3\" id=\"path162\"/>\n",
       "      <path d=\"m 1041.995,344.621 -0.421,1.002 -1.667,0.97 -2.856,0.897 -3.942,0.791 -4.876,0.651 -5.623,0.486 -6.15,0.301 -6.431,0.104 -6.458,-0.098 -6.228,-0.296 -5.751,-0.482 -2.695,-0.345\" fill=\"none\" stroke=\"#000000\" stroke-linecap=\"butt\" stroke-linejoin=\"round\" stroke-opacity=\"1\" stroke-width=\"3\" id=\"path164\"/>\n",
       "      <path d=\"m 1033.305,341.311 -1.538,-0.281 -2.31,-0.288\" fill=\"none\" stroke=\"#000000\" stroke-linecap=\"butt\" stroke-linejoin=\"round\" stroke-opacity=\"1\" stroke-width=\"3\" id=\"path166\"/>\n",
       "      <path d=\"m 1029.433,344.626 0.024,-3.884 v -0.676\" fill=\"none\" stroke=\"#000000\" stroke-linecap=\"butt\" stroke-linejoin=\"round\" stroke-opacity=\"1\" stroke-width=\"3\" id=\"path168\"/>\n",
       "      <path d=\"m 998.001,335.243 7.855,0.794 1.659,0.168 -0.014,3.381 -0.01,1.94 -0.011,2.571 -9.719,2.356 -1.987,0.482 -3.007,0.728 -3.872,0.939 -9.718,2.355 -2.124,0.515 -0.368,0.089 -9.719,2.356 -9.718,2.355 -9.719,2.356 -9.719,2.355 -9.718,2.356 -9.719,2.355 -9.719,2.356 -9.718,2.355 -9.719,2.356 -9.719,2.355 -9.718,2.356 -9.719,2.355 -9.718,2.356 -9.719,2.355 -9.719,2.356 -9.718,2.355 -9.719,2.356 -9.718,2.355 -9.719,2.356 -9.719,2.355 -9.718,2.356 -9.719,2.355 -9.719,2.356 -9.718,2.355 -9.719,2.356 -9.718,2.355 -9.719,2.356 -9.719,2.355 -9.718,2.356 -9.719,2.355 -9.719,2.356 -9.718,2.355 -9.719,2.356 -9.718,2.355 -9.719,2.356 -9.719,2.355 -9.718,2.356 -9.719,2.355 -9.719,2.356 -9.718,2.355 -9.719,2.356 -6.28,1.522 -2.248,0.545 -9.719,2.355 -4.696,1.138 -0.233,0.057 -9.719,2.355 -9.718,2.356 -9.719,2.355 -9.437,2.288 -9.891,-1.475 -0.813,-0.122 -6,-0.894 -8.607,-1.284 -8.566,-1.277 -5.659,-0.844 -0.266,-0.039 -1.972,-0.294 -1.196,-0.179 -7.306,-1.089 -0.326,-7.573 -0.098,-2.274 1.391,-0.319 2.683,-0.616 1.118,-0.257 1.179,-0.27 9.746,-2.238 9.747,-2.237 9.746,-2.238 9.747,-2.237 9.746,-2.238 0.919,-0.211 9.746,-2.237 4.588,-1.053 8.309,-1.908 9.747,-2.237 9.746,-2.238 9.747,-2.237 9.746,-2.238 9.747,-2.237 9.746,-2.237 9.747,-2.238 9.746,-2.237 9.747,-2.238 9.746,-2.237 9.747,-2.238 9.746,-2.237 9.747,-2.238 9.746,-2.237 9.747,-2.237 9.746,-2.238 9.747,-2.237 9.746,-2.238 9.747,-2.237 9.746,-2.238 9.747,-2.237 9.746,-2.238 9.746,-2.237 9.747,-2.237 9.746,-2.238 9.747,-2.237 9.746,-2.238 9.747,-2.237 9.746,-2.238 9.747,-2.237 9.746,-2.238 9.747,-2.237 9.746,-2.237 9.747,-2.238 9.746,-2.237 9.747,-2.238 9.746,-2.237 9.747,-2.238 9.746,-2.237 9.747,-2.238 9.746,-2.237 5.466,-1.255 8.081,-1.855 5.156,-1.184 0.967,0.098 8.386,0.848 9.916,-1.288 2.426,-0.314 4.873,-0.633 0.332,-0.043 3.227,-0.419 2.559,0.463 3.106,0.381 3.533,0.283 3.822,0.174\" fill=\"none\" stroke=\"#000000\" stroke-linecap=\"butt\" stroke-linejoin=\"round\" stroke-opacity=\"1\" stroke-width=\"3\" id=\"path170\"/>\n",
       "      <path d=\"m 1026.497,320.446 -2.435,0.456 -3.003,0.375 -3.458,0.279 -3.777,0.173 -2.581,0.039 -1.366,0.021 -3.965,-0.057 -3.824,-0.17 -3.536,-0.276 -3.109,-0.373 -2.561,-0.454\" fill=\"none\" stroke=\"#000000\" stroke-linecap=\"butt\" stroke-linejoin=\"round\" stroke-opacity=\"1\" stroke-width=\"3\" id=\"path172\"/>\n",
       "      <path d=\"m 998.001,335.243 7.874,-4.017 -0.019,4.811\" fill=\"none\" stroke=\"#000000\" stroke-linecap=\"butt\" stroke-linejoin=\"round\" stroke-opacity=\"1\" stroke-width=\"3\" id=\"path174\"/>\n",
       "      <path d=\"m 1039.321,333.96 -5.978,1.441 -0.01,1.365 -0.025,3.985 v 0.56 l -0.012,1.967 8.288,0.847 9.949,1.017 9.948,1.016 9.948,1.017 9.948,1.016 9.949,1.017 9.948,1.016 9.948,1.017 9.948,1.016 9.948,1.017 9.948,1.016 9.949,1.017 9.948,1.016 9.948,1.017 9.948,1.016 9.948,1.017 9.949,1.016 9.948,1.017 9.948,1.017 9.948,1.016 9.948,1.017 9.949,1.016 9.948,1.017 9.948,1.016 9.948,1.017 9.948,1.016 9.949,1.017 9.948,1.016 9.948,1.017 9.948,1.016 9.948,1.017 9.949,1.016 9.948,1.017 9.948,1.016 9.948,1.017 9.948,1.016 9.949,1.017 9.948,1.016 9.948,1.017 9.948,1.016 9.948,1.017 9.949,1.016 9.948,1.017 9.948,1.017 9.948,1.016 9.948,1.017 9.949,1.016 9.948,1.017 9.948,1.016 9.948,1.017 9.948,1.016 9.949,1.017 9.948,1.016 9.948,1.017 9.948,1.016 9.948,1.017 9.949,1.016 9.948,1.017 9.948,1.016 9.948,1.017 9.949,1.016 9.948,1.017 9.948,1.016 6.409,0.655 9.948,1.017 9.948,1.016 9.948,1.017 9.949,1.016 9.948,1.017 9.948,1.016 9.948,1.017 3.948,0.403 4.159,-2 2.327,-1.119 3.334,-1.602 3.311,-1.593 2.288,-1.1 4.036,-1.941 0.623,-8.981 -9.952,-0.976 -9.952,-0.976 -9.953,-0.975 -9.952,-0.976 -9.952,-0.976 -9.952,-0.976 -9.953,-0.975 -2.916,-0.286 -9.953,-0.976 -9.952,-0.976 -9.952,-0.975 -9.952,-0.976 -9.953,-0.976 -9.952,-0.975 -9.952,-0.976 -9.953,-0.976 -9.952,-0.976 -9.952,-0.975 -9.952,-0.976 -9.953,-0.976 -9.952,-0.975 -9.952,-0.976 -9.953,-0.976 -9.952,-0.975 -9.952,-0.976 -9.952,-0.976 -9.953,-0.976 -9.952,-0.975 -9.952,-0.976 -9.953,-0.976 -9.952,-0.975 -9.952,-0.976 -9.953,-0.976 -9.952,-0.976 -9.952,-0.975 -9.952,-0.976 -9.953,-0.976 -9.952,-0.975 -9.952,-0.976 -9.953,-0.976 -9.952,-0.976 -9.952,-0.975 -9.952,-0.976 -9.953,-0.976 -9.952,-0.975 -9.952,-0.976 -9.953,-0.976 -9.952,-0.975 -9.952,-0.976 -9.952,-0.976 -9.953,-0.976 -9.952,-0.975 -9.952,-0.976 -9.953,-0.976 -9.952,-0.975 -9.952,-0.976 -9.952,-0.976 -9.953,-0.975 -9.952,-0.976 -9.952,-0.976 -9.952,-0.976 -9.953,-0.975 -9.952,-0.976 -9.952,-0.976 -9.953,-0.975 -9.952,-0.976 -9.952,-0.976 -9.953,-0.976 -9.952,-0.975 -10.38,-1.018 -7.021,-0.688 -5.828,1.404 -0.245,-0.012 -9.362,-0.442 -9.989,-0.472 -6.417,-0.303 -0.273,-0.013 -1.042,0.573 -1.771,0.529 -0.618,0.119 -1.814,0.347 -3.001,0.383\" fill=\"none\" stroke=\"#000000\" stroke-linecap=\"butt\" stroke-linejoin=\"round\" stroke-opacity=\"1\" stroke-width=\"3\" id=\"path176\"/>\n",
       "      <path d=\"m 963.697,326.411 -0.002,5.363\" fill=\"none\" stroke=\"#000000\" stroke-linecap=\"butt\" stroke-linejoin=\"round\" stroke-opacity=\"1\" stroke-width=\"3\" id=\"path178\"/>\n",
       "      <path d=\"m 989.323,319.585 -0.012,4.623 -0.008,3.415 -0.002,0.608 -0.005,2.156\" fill=\"none\" stroke=\"#000000\" stroke-linecap=\"butt\" stroke-linejoin=\"round\" stroke-opacity=\"1\" stroke-width=\"3\" id=\"path180\"/>\n",
       "      <path d=\"m 1045.976,323.916 -9.917,1.29 -6.514,0.848\" fill=\"none\" stroke=\"#000000\" stroke-linecap=\"butt\" stroke-linejoin=\"round\" stroke-opacity=\"1\" stroke-width=\"3\" id=\"path182\"/>\n",
       "      <path d=\"m 1033.309,340.751 -3.848,-0.685 -8.493,-1.512 0.041,-7.794 4.806,0.84 3.42,0.598 0.273,0.047 4.935,0.863 4.878,0.852\" fill=\"none\" stroke=\"#000000\" stroke-linecap=\"butt\" stroke-linejoin=\"round\" stroke-opacity=\"1\" stroke-width=\"3\" id=\"path184\"/>\n",
       "      <path d=\"m 1026.497,320.446 3.086,-0.738 9.726,-2.326 0.675,-0.162 3.138,-0.919 1.827,-0.992 0.454,-1.026 0.012,-1.589 0.063,-8.505 -0.926,-0.996 -9.158,-4.016 -9.321,-4.088 -1.046,-0.44 -1.636,-0.404 -2.162,-0.354 -2.605,-0.289 -2.948,-0.214 -3.178,-0.131 -3.29,-0.044 -3.277,0.046 -3.139,0.134 -2.884,0.216 -2.518,0.291 -2.057,0.355 -1.515,0.405 -9.183,3.96 -8.456,3.646 -1.984,0.954 -0.636,0.995 -0.012,10.096 0.745,1.025 2.108,0.991 3.399,0.916 9.524,2.342 3.559,0.874\" fill=\"none\" stroke=\"#000000\" stroke-linecap=\"butt\" stroke-linejoin=\"round\" stroke-opacity=\"1\" stroke-width=\"3\" id=\"path186\"/>\n",
       "      <path d=\"m 1029.528,328.822 v -0.607 l 0.013,-2.161 0.013,-2.197 0.025,-4.149\" fill=\"none\" stroke=\"#000000\" stroke-linecap=\"butt\" stroke-linejoin=\"round\" stroke-opacity=\"1\" stroke-width=\"3\" id=\"path188\"/>\n",
       "      <path d=\"m 986.288,323.681 0.006,-2.395 -9.953,-0.975 -9.952,-0.976 -9.952,-0.976 -9.953,-0.975 -9.952,-0.976 -9.952,-0.976 -9.952,-0.975 -9.953,-0.976 -9.952,-0.976 -9.952,-0.976 -9.953,-0.975 -9.952,-0.976 -9.952,-0.976 -9.952,-0.975 -9.953,-0.976 -9.952,-0.976 -9.952,-0.975 -9.953,-0.976 -9.952,-0.976 -9.952,-0.976 -9.952,-0.975 -9.953,-0.976 -9.952,-0.976 -9.952,-0.975 -9.953,-0.976 -9.952,-0.976 -9.952,-0.976 -9.952,-0.975 -9.953,-0.976 -9.952,-0.976 -9.952,-0.975 -9.953,-0.976 -9.952,-0.976 -9.952,-0.976 -9.952,-0.975 -9.953,-0.976 -9.952,-0.976 -9.952,-0.975 -9.953,-0.976 -9.952,-0.976 -9.952,-0.975 -9.952,-0.976 -9.953,-0.976 -9.952,-0.976 -9.952,-0.975 -9.953,-0.976 -8.134,-0.797 -9.952,-0.976 -9.953,-0.976 -9.952,-0.976 -9.952,-0.975 -0.997,-0.098 -6.723,1.044 -3.803,0.59 -5.499,0.854 -5.525,0.857 -3.853,0.598 -6.872,1.067 0.3,6.812 9.948,1.017 9.948,1.016 9.949,1.017 9.948,1.017 1.205,0.123 9.948,1.016 9.948,1.017 9.948,1.016 9.948,1.017 9.949,1.016 9.948,1.017 9.948,1.016 9.948,1.017 9.948,1.016 9.949,1.017 9.948,1.016 9.948,1.017 9.948,1.016 9.948,1.017 9.949,1.016 9.948,1.017 9.948,1.016 9.948,1.017 9.948,1.017 9.949,1.016 9.948,1.017 9.948,1.016 9.948,1.017 9.948,1.016 9.949,1.017 9.948,1.016 9.948,1.017 9.948,1.016 9.948,1.017 9.949,1.016 9.948,1.017 9.948,1.016 9.948,1.017 9.948,1.016 9.949,1.017 9.948,1.016 9.948,1.017 9.948,1.016 9.948,1.017 9.949,1.017 9.948,1.016 9.948,1.017 9.948,1.016 9.948,1.017 9.949,1.016 13.251,1.354\" fill=\"none\" stroke=\"#000000\" stroke-linecap=\"butt\" stroke-linejoin=\"round\" stroke-opacity=\"1\" stroke-width=\"3\" id=\"path190\"/>\n",
       "      <path d=\"m 447.273,276.616 9.95,0.998 9.95,0.998 9.95,0.998 9.95,0.998 1.218,0.122 9.95,0.998 9.95,0.998 9.95,0.998 9.95,0.998 9.951,0.998 9.95,0.998 9.95,0.998 9.95,0.998 9.95,0.998 9.95,0.999 9.95,0.997 9.95,0.999 9.95,0.998 9.95,0.998 9.95,0.998 9.95,0.998 9.95,0.998 9.951,0.998 9.95,0.998 9.95,0.998 9.95,0.998 9.95,0.998 9.95,0.998 9.95,0.998 9.95,0.998 9.95,0.998 9.95,0.998 9.95,0.998 9.95,0.998 9.95,0.998 9.95,0.998 9.951,0.998 9.95,0.998 9.95,0.998 9.95,0.998 9.95,0.998 9.95,0.998 9.95,0.998 9.95,0.998 9.95,0.998 9.95,0.998 9.95,0.998 9.95,0.998 9.95,0.998 9.95,0.998 9.951,0.998 11.576,1.161\" fill=\"none\" stroke=\"#000000\" stroke-linecap=\"butt\" stroke-linejoin=\"round\" stroke-opacity=\"1\" stroke-width=\"3\" id=\"path192\"/>\n",
       "      <path d=\"m 1068.39,329.335 9.718,-2.355 9.719,-2.356 9.719,-2.355 9.718,-2.356 9.719,-2.355 9.718,-2.356 9.719,-2.355 9.719,-2.356 9.718,-2.355 9.719,-2.356 9.719,-2.355 9.718,-2.356 9.719,-2.355 9.718,-2.356 9.719,-2.355 9.719,-2.356 9.718,-2.355 9.719,-2.356 9.719,-2.355 9.718,-2.356 9.719,-2.355 9.718,-2.356 9.719,-2.355 9.719,-2.356 9.718,-2.355 9.719,-2.356 11.915,-2.888 9.719,-2.355 9.718,-2.356 3.439,-0.833 0.217,-6.387 -8.284,-0.621 -4.652,-0.348 -6.682,-0.501 -6.663,-0.5 -4.614,-0.346 -8.172,-0.612 -9.747,2.237 -9.746,2.238 -3.814,0.875 -9.747,2.238 -9.746,2.237 -9.747,2.238 -9.746,2.237 -9.747,2.237 -9.746,2.238 -9.747,2.237 -9.746,2.238 -9.747,2.237 -9.746,2.238 -9.747,2.237 -9.746,2.238 -9.747,2.237 -9.746,2.237 -9.747,2.238 -9.746,2.237 -9.747,2.238 -9.746,2.237 -9.746,2.238 -9.747,2.237 -9.746,2.238 -9.747,2.237 -9.746,2.237 -9.747,2.238 -9.746,2.237 -4.631,1.063\" fill=\"none\" stroke=\"#000000\" stroke-linecap=\"butt\" stroke-linejoin=\"round\" stroke-opacity=\"1\" stroke-width=\"3\" id=\"path194\"/>\n",
       "      <path d=\"m 465.754,445.764 1.886,0.276 1.162,0.171 4.242,0.621 3.192,0.467 5.929,0.868 8.572,1.255 8.613,1.261 6.005,0.879 9.895,1.449 0.817,0.12\" fill=\"none\" stroke=\"#000000\" stroke-linecap=\"butt\" stroke-linejoin=\"round\" stroke-opacity=\"1\" stroke-width=\"3\" id=\"path196\"/>\n",
       "      <path d=\"m 957.572,332.86 -10e-4,-5.06 6.126,-1.389 9.988,0.473 6.627,0.314 5.968,0.282 3.023,0.143\" fill=\"none\" stroke=\"#000000\" stroke-linecap=\"butt\" stroke-linejoin=\"round\" stroke-opacity=\"1\" stroke-width=\"3\" id=\"path198\"/>\n",
       "      <path d=\"m 986.294,321.286 -5.974,1.355 5.968,1.04 3.023,0.527\" fill=\"none\" stroke=\"#000000\" stroke-linecap=\"butt\" stroke-linejoin=\"round\" stroke-opacity=\"1\" stroke-width=\"3\" id=\"path200\"/>\n",
       "      <path d=\"m 1033.343,335.401 5.964,0.598 9.95,0.998 9.95,0.998 9.95,0.998 9.95,0.998 9.95,0.998 9.95,0.998 9.951,0.998 9.95,0.998 9.95,0.998 9.95,0.998 9.95,0.998 9.95,0.998 9.95,0.998 9.95,0.998 9.95,0.998 9.95,0.998 9.95,0.998 9.95,0.998 9.95,0.998 9.95,0.998 9.951,0.998 9.95,0.998 9.95,0.998 9.95,0.998 9.95,0.998 9.95,0.998 9.95,0.998 9.95,0.998 9.95,0.998 9.95,0.998 9.95,0.998 9.95,0.998 9.95,0.998 9.95,0.998 9.951,0.998 9.95,0.998 9.95,0.998 9.95,0.999 9.95,0.998 9.95,0.998 9.95,0.998 9.95,0.998 9.95,0.998 9.95,0.998 9.95,0.998 9.95,0.998 9.95,0.998 9.951,0.998 9.95,0.998 9.95,0.998 9.95,0.998 9.95,0.998 9.95,0.998 9.95,0.998 9.95,0.998 9.95,0.998 9.95,0.998 9.95,0.998 9.95,0.998 9.95,0.998 9.95,0.998 9.951,0.998 9.119,0.915 9.95,0.998 9.95,0.998 9.95,0.998 9.95,0.998 9.95,0.998 9.95,0.998 9.951,0.998 4.001,0.401\" fill=\"none\" stroke=\"#000000\" stroke-linecap=\"butt\" stroke-linejoin=\"round\" stroke-opacity=\"1\" stroke-width=\"3\" id=\"path202\"/>\n",
       "      <path d=\"m 1758.442,396.987 -4.037,1.907 -2.288,1.08 -3.312,1.565 -3.334,1.575 -2.328,1.099 -4.16,1.965 -0.619,9.145\" fill=\"none\" stroke=\"#000000\" stroke-linecap=\"butt\" stroke-linejoin=\"round\" stroke-opacity=\"1\" stroke-width=\"3\" id=\"path204\"/>\n",
       "      <path d=\"m 1007.515,336.205 -9.524,2.266 -0.082,0.019 -8.639,2.056 -0.707,0.168 -9.728,2.315 -0.727,0.172 -9.728,2.315 -9.729,2.315 -9.728,2.314 -9.729,2.315 -9.728,2.314 -9.728,2.315 -9.729,2.315 -9.728,2.314 -9.729,2.315 -9.728,2.314 -9.729,2.315 -9.728,2.315 -9.729,2.314 -9.728,2.315 -9.728,2.314 -9.729,2.315 -9.728,2.315 -9.729,2.314 -9.728,2.315 -9.729,2.314 -9.728,2.315 -9.729,2.315 -9.728,2.314 -9.728,2.315 -9.729,2.314 -9.728,2.315 -9.729,2.315 -9.728,2.314 -9.729,2.315 -9.728,2.314 -9.729,2.315 -9.728,2.315 -9.728,2.314 -9.729,2.315 -9.728,2.314 -9.729,2.315 -9.728,2.315 -9.729,2.314 -9.728,2.315 -9.729,2.314 -9.728,2.315 -7.629,1.815 -9.728,2.315 -0.537,0.127 -9.728,2.315 -3.204,0.762 -9.729,2.315 -9.728,2.314 -9.729,2.315 -3.163,0.753 0.387,9.977\" fill=\"none\" stroke=\"#000000\" stroke-linecap=\"butt\" stroke-linejoin=\"round\" stroke-opacity=\"1\" stroke-width=\"3\" id=\"path206\"/>\n",
       "      <path d=\"m 1055.339,324.827 -0.043,5.212\" fill=\"none\" stroke=\"#000000\" stroke-linecap=\"butt\" stroke-linejoin=\"round\" stroke-opacity=\"1\" stroke-width=\"3\" id=\"path208\"/>\n",
       "      <path d=\"m 1356.082,253.273 -9.728,2.315 -9.728,2.315 -3.429,0.815 -9.729,2.315 -9.728,2.315 -9.729,2.314 -9.728,2.315 -9.728,2.314 -9.729,2.315 -9.728,2.315 -9.729,2.314 -9.728,2.315 -9.729,2.314 -9.728,2.315 -9.729,2.315 -9.728,2.314 -9.728,2.315 -9.729,2.314 -9.728,2.315 -9.729,2.315 -9.728,2.314 -9.729,2.315 -9.728,2.314 -9.729,2.315 -9.728,2.315 -9.728,2.314 -9.729,2.315 -9.728,2.314 -9.729,2.315 -9.728,2.315 -9.729,2.314 -5.461,1.3 -9.363,-0.911 -0.042,5.681\" fill=\"none\" stroke=\"#000000\" stroke-linecap=\"butt\" stroke-linejoin=\"round\" stroke-opacity=\"1\" stroke-width=\"3\" id=\"path210\"/>\n",
       "      <path d=\"m 1039.984,317.22 -4.335,0.81 -5.368,0.667 -6.192,0.499 -6.774,0.308 -1.673,0.025 -5.413,0.081 -7.115,-0.1 -6.861,-0.304 -6.333,-0.493 -5.557,-0.664 -4.564,-0.806\" fill=\"none\" stroke=\"#000000\" stroke-linecap=\"butt\" stroke-linejoin=\"round\" stroke-opacity=\"1\" stroke-width=\"3\" id=\"path212\"/>\n",
       "      <path d=\"m 1045.478,304.189 -0.455,1.001 -1.828,0.967 -3.141,0.897 -4.338,0.79 -5.373,0.651 -6.198,0.486 -6.779,0.301 -7.092,0.104 -7.122,-0.098 -6.867,-0.296 -6.339,-0.482 -5.561,-0.647 -4.569,-0.787 -3.401,-0.894 -2.11,-0.966 -0.746,-1.001\" fill=\"none\" stroke=\"#000000\" stroke-linecap=\"butt\" stroke-linejoin=\"round\" stroke-opacity=\"1\" stroke-width=\"3\" id=\"path214\"/>\n",
       "      <path d=\"m 469.828,444.829 0.388,-0.618 0.306,-0.807 0.023,-0.062 0.015,-0.041 10e-4,-0.002 0.147,-0.387 0.211,-0.558 0.395,-2.071 0.069,-2.203 -0.259,-2.252 -0.577,-2.213 -0.873,-2.088 -1.135,-1.882 -1.107,-1.313 -0.246,-0.291 -0.284,-0.237 -0.043,-0.036 -0.041,-0.034 -1.15,-0.957 -1.625,-0.876 -0.666,-0.181 -1.003,-0.272 -0.375,-0.003 -1.274,-0.011 -8.602,1.895\" fill=\"none\" stroke=\"#000000\" stroke-linecap=\"butt\" stroke-linejoin=\"round\" stroke-opacity=\"1\" stroke-width=\"3\" id=\"path216\"/>\n",
       "      <path d=\"m 469.811,429.868 -1.051,-0.874 -1.125,-0.606 -0.203,-0.056\" fill=\"none\" stroke=\"#000000\" stroke-linecap=\"butt\" stroke-linejoin=\"round\" stroke-opacity=\"1\" stroke-width=\"3\" id=\"path218\"/>\n",
       "      <path d=\"m 471.67,443.05 0.129,-0.034 0.987,-0.58 0.851,-0.849 0.682,-1.088 0.487,-1.284 0.273,-1.431 0.049,-1.522 -0.179,-1.555 -0.398,-1.528 -0.603,-1.442 -0.784,-1.3 -0.935,-1.108 -0.916,-0.762\" fill=\"none\" stroke=\"#000000\" stroke-linecap=\"butt\" stroke-linejoin=\"round\" stroke-opacity=\"1\" stroke-width=\"3\" id=\"path220\"/>\n",
       "      <path d=\"m 461.999,425.445 -1.593,-4.385 -0.434,-9.99 -0.435,-9.991 -0.434,-9.99 -0.435,-9.991 -0.36,-8.281 -0.434,-9.991 -0.435,-9.99 -0.087,-1.999 1.192,-0.224 1.501,0.181 2.124,0.256 2.212,0.266 2.215,0.267 2.132,0.257 1.509,0.181 0.423,9.991 0.424,9.991 0.087,2.055 0.423,9.991 0.423,9.991 0.424,9.991 0.423,9.991 0.356,8.405 -1.907,6.14 -0.322,1.038 -1.18,0.263 0.307,-0.99 0.264,-0.852 1.657,-5.339 -0.424,-9.991 -0.424,-9.991 -0.425,-9.991 -0.424,-9.991 -0.358,-8.429 -0.425,-9.99 -0.424,-9.992 -0.088,-2.065\" fill=\"none\" stroke=\"#000000\" stroke-linecap=\"butt\" stroke-linejoin=\"round\" stroke-opacity=\"1\" stroke-width=\"3\" id=\"path222\"/>\n",
       "      <path d=\"m 470.237,352.021 -1.19,0.226 -1.509,-0.182 -2.133,-0.257 -2.215,-0.267 -2.212,-0.267 -2.125,-0.256 -1.501,-0.181\" fill=\"none\" stroke=\"#000000\" stroke-linecap=\"butt\" stroke-linejoin=\"round\" stroke-opacity=\"1\" stroke-width=\"3\" id=\"path224\"/>\n",
       "      <path d=\"m 463.729,497.472 0.434,9.991 0.435,9.99 0.032,0.747 1.482,0.246 2.099,0.35 2.184,0.363 2.188,0.364 2.105,0.351 1.491,0.248 1.168,-0.308 -0.056,-1.319\" fill=\"none\" stroke=\"#000000\" stroke-linecap=\"butt\" stroke-linejoin=\"round\" stroke-opacity=\"1\" stroke-width=\"3\" id=\"path226\"/>\n",
       "      <path d=\"m 476.179,520.122 -0.158,-3.707\" fill=\"none\" stroke=\"#000000\" stroke-linecap=\"butt\" stroke-linejoin=\"round\" stroke-opacity=\"1\" stroke-width=\"3\" id=\"path228\"/>\n",
       "      <path d=\"m 931.248,799.674 9.775,2.113 9.774,2.113 9.774,2.113 9.774,2.114 9.774,2.113 9.774,2.113 9.774,2.114 9.775,2.113 9.774,2.113 9.774,2.113 9.774,2.114 5.668,1.225 7.135,1.543 9.774,2.113 9.774,2.113 9.774,2.114 5.676,1.227\" fill=\"none\" stroke=\"#000000\" stroke-linecap=\"butt\" stroke-linejoin=\"round\" stroke-opacity=\"1\" stroke-width=\"3\" id=\"path230\"/>\n",
       "      <path d=\"m 1106.059,837.47 9.774,2.113 9.775,2.113 9.774,2.114 9.774,2.113 9.774,2.113 9.774,2.114 9.774,2.113 9.774,2.113 9.775,2.113 9.774,2.114 9.774,2.113 9.774,2.113 3.164,0.684 7.766,1.68 9.774,2.113 9.775,2.113 9.774,2.113 9.774,2.114 9.774,2.113 9.774,2.113 9.774,2.114 9.775,2.113 9.774,2.113 9.774,2.113 2.191,0.474 9.948,1.024 2.674,0.276 2.31,-0.183 9.927,-1.212 2.533,-0.309 9.363,-3.514 2.16,-0.811 8.224,-5.688 1.848,-1.278 6.588,-7.522 1.576,-1.8 4.219,-8.098 0.929,-2.031 0.293,-1.741 -0.857,-1.579 -1.244,-2.149 -2.882,-2.127 -3.748,-1.541 -3.615,-0.543 -1.413,0.319 -3.02,0.718 -1.299,1.325 -2.519,4.896 -5.793,6.697 -7.166,5.026 -8.218,3.148 -7.233,0.93 -1.675,0.215\" fill=\"none\" stroke=\"#000000\" stroke-linecap=\"butt\" stroke-linejoin=\"round\" stroke-opacity=\"1\" stroke-width=\"3\" id=\"path232\"/>\n",
       "      <path d=\"m 921.882,776.875 -1.571,-1.207 -3.234,-3.319 -1.018,-1.377\" fill=\"none\" stroke=\"#000000\" stroke-linecap=\"butt\" stroke-linejoin=\"round\" stroke-opacity=\"1\" stroke-width=\"3\" id=\"path234\"/>\n",
       "      <path d=\"m 1239.758,820.791 -0.252,9.997 -0.253,9.997 -0.157,6.23 -2.183,0.14 -2.249,2.542 0.248,-9.997 0.249,-9.997 0.221,-8.902\" fill=\"none\" stroke=\"#000000\" stroke-linecap=\"butt\" stroke-linejoin=\"round\" stroke-opacity=\"1\" stroke-width=\"3\" id=\"path236\"/>\n",
       "      <path d=\"m 1347.797,869.032 -8.809,-0.855 -9.783,-2.073 -9.783,-2.072 -9.783,-2.073 -9.782,-2.072 -9.783,-2.073 -9.783,-2.072 -9.783,-2.073 -9.783,-2.072 -9.783,-2.073 -9.783,-2.072 -2.063,-0.437\" fill=\"none\" stroke=\"#000000\" stroke-linecap=\"butt\" stroke-linejoin=\"round\" stroke-opacity=\"1\" stroke-width=\"3\" id=\"path238\"/>\n",
       "      <path d=\"m 1056.517,799.588 -0.076,8.732 -2.363,0.078 -2.388,2.386 0.083,-9.999 0.017,-2.13\" fill=\"none\" stroke=\"#000000\" stroke-linecap=\"butt\" stroke-linejoin=\"round\" stroke-opacity=\"1\" stroke-width=\"3\" id=\"path240\"/>\n",
       "      <path d=\"m 790.274,895.173 9.706,2.407 9.706,2.408 9.705,2.408 9.706,2.408 9.706,2.408 9.706,2.407 9.706,2.408 9.705,2.408 2.887,0.716 7.526,1.867 9.706,2.408 9.706,2.408 9.706,2.408 9.706,2.408 9.705,2.408 9.706,2.407 9.706,2.408 9.706,2.408 9.706,2.408 9.705,2.408 9.706,2.408 9.706,2.408 9.706,2.407 9.705,2.408 9.706,2.408 9.706,2.408 9.706,2.408 9.706,2.408 10.637,2.638 8.263,2.05 9.706,2.408 9.706,2.408 9.706,2.408 9.705,2.408 9.706,2.408 9.706,2.407 9.706,2.408 9.706,2.408 9.705,2.408 9.706,2.408 9.549,2.369 9.914,1.308 3.567,0.471 9.951,-0.993 3.085,-0.308 3.062,-0.403 9.403,-3.404 2.842,-1.029 8.224,-5.689 2.443,-1.69 6.511,-7.59 2.091,-2.438 1.44,-2.692 4.279,-8.55 0.27,-1.894 -1.39,-3.037 -0.762,-1.219 -3.037,-2.467 -4.102,-1.744 -4.076,-0.559 -1.451,0.277 -3.553,0.931 -1.369,1.422 -1.353,2.429 -1.642,3.327 -1.101,2.231\" fill=\"none\" stroke=\"#000000\" stroke-linecap=\"butt\" stroke-linejoin=\"round\" stroke-opacity=\"1\" stroke-width=\"3\" id=\"path242\"/>\n",
       "      <path d=\"m 1201.007,971.232 -6.827,0.729 -9.923,-1.244 -0.163,-0.02 -9.718,-2.361 -9.717,-2.361 -9.717,-2.361 -9.718,-2.362 -9.717,-2.361 -9.717,-2.361 -9.717,-2.361 -9.718,-2.361 -9.717,-2.361 -9.717,-2.361 -9.397,-2.284 0.107,-9.999 0.107,-9.999 0.107,-10 0.108,-9.999 0.102,-9.571 0.602,-9.982 0.145,-2.404 1.689,-9.857 0.623,-3.637 3.257,-9.454 0.41,-1.188 4.736,-6.989 5.488,-7.01 5.96,-4.434 5.094,-2.809 8.757,-4.829 8.757,-4.829 6.905,-3.807 8.757,-4.829 8.757,-4.829 1.434,-0.79\" fill=\"none\" stroke=\"#000000\" stroke-linecap=\"butt\" stroke-linejoin=\"round\" stroke-opacity=\"1\" stroke-width=\"3\" id=\"path244\"/>\n",
       "      <path d=\"m 1222.892,955.955 -5.727,6.769 -7.585,5.331 -8.573,3.177 -0.158,0.058\" fill=\"none\" stroke=\"#000000\" stroke-linecap=\"butt\" stroke-linejoin=\"round\" stroke-opacity=\"1\" stroke-width=\"3\" id=\"path246\"/>\n",
       "      <path d=\"m 1077.524,944.802 -2.688,0.323 -2.724,2.953 0.102,-10 0.102,-9.999 0.103,-10 0.102,-9.999 0.099,-9.714 0.639,-9.979 0.335,-5.223 2.013,-9.795 0.895,-4.355 3.292,-9.442 1.338,-3.837 4.652,-8.852 1.337,-2.544 6.22,-7.83 0.661,-0.832 0.855,-0.629 6.233,-4.59 8.778,-4.789 7.961,-4.344 8.779,-4.789 8.791,-4.797\" fill=\"none\" stroke=\"#000000\" stroke-linecap=\"butt\" stroke-linejoin=\"round\" stroke-opacity=\"1\" stroke-width=\"3\" id=\"path248\"/>\n",
       "      <path d=\"m 883.732,864.179 0.069,10 0.069,9.999 0.069,10 0.025,3.593 -2.88,0.231 -2.871,2.752 -0.075,-10 -0.074,-10 -0.074,-9.999 -0.059,-7.938\" fill=\"none\" stroke=\"#000000\" stroke-linecap=\"butt\" stroke-linejoin=\"round\" stroke-opacity=\"1\" stroke-width=\"3\" id=\"path250\"/>\n",
       "      <path d=\"m 1126.265,810.556 -8.792,4.764 -7.867,4.263 -8.792,4.764 -7.998,4.334 -6.251,4.574 -0.857,0.627 -6.239,7.814 -0.658,0.825 -4.668,8.844 -1.332,2.525 -3.302,9.439 -1.333,3.811 -2.016,9.794 -0.891,4.326 -0.634,9.98 -0.33,5.195 -0.095,9.999 -0.094,10 -0.095,9.999 -0.095,10 -0.048,5.054 -0.043,4.571\" fill=\"none\" stroke=\"#000000\" stroke-linecap=\"butt\" stroke-linejoin=\"round\" stroke-opacity=\"1\" stroke-width=\"3\" id=\"path252\"/>\n",
       "      <path d=\"m 875.062,820.353 -1.147,3.047 -2.092,9.83\" fill=\"none\" stroke=\"#000000\" stroke-linecap=\"butt\" stroke-linejoin=\"round\" stroke-opacity=\"1\" stroke-width=\"3\" id=\"path254\"/>\n",
       "      <path d=\"m 879.4,834.955 2.094,-9.849 1.871,-4.985\" fill=\"none\" stroke=\"#000000\" stroke-linecap=\"butt\" stroke-linejoin=\"round\" stroke-opacity=\"1\" stroke-width=\"3\" id=\"path256\"/>\n",
       "      <path d=\"m 884.686,836.159 1.779,-8.514 2.85,-7.69\" fill=\"none\" stroke=\"#000000\" stroke-linecap=\"butt\" stroke-linejoin=\"round\" stroke-opacity=\"1\" stroke-width=\"3\" id=\"path258\"/>\n",
       "      <path d=\"m 902.188,786.016 -2.525,1.172 -6.752,4.303\" fill=\"none\" stroke=\"#000000\" stroke-linecap=\"butt\" stroke-linejoin=\"round\" stroke-opacity=\"1\" stroke-width=\"3\" id=\"path260\"/>\n",
       "      <path d=\"m 899.299,819.677 6.544,1.458 1.256,0.28 1.821,0.406 9.761,2.175 8.741,1.947 1.099,0.245 0.631,0.141 0.004,0.001 0.128,0.028 9.76,2.175 9.761,2.175 9.703,2.162 9.832,1.826 0.189,0.035 9.535,1.03 8.385,0.122 1.041,0.014 6.42,-0.802 0.846,-0.291 3.902,-1.577 0.574,-0.395 0.552,-0.577 0.51,-0.737 0.447,-0.869 0.367,-0.968 0.275,-1.028 0.17,-1.051 0.06,-1.033 -0.052,-0.975 -0.164,-0.88 -0.268,-0.752 -0.362,-0.594 -2.904,-3.076 -0.653,-0.61 -5.511,-3.421 -7.514,-3.331 -1.117,-0.481 -9.09,-3.057 -9.692,-2.461 -0.18,-0.045 -9.774,-2.114 -9.774,-2.113 -9.774,-2.114 -1.775,-0.384 -1.649,-0.356\" fill=\"none\" stroke=\"#000000\" stroke-linecap=\"butt\" stroke-linejoin=\"round\" stroke-opacity=\"1\" stroke-width=\"3\" id=\"path262\"/>\n",
       "      <path d=\"m 778.404,738.448 -5.547,-6.601 -2.321,-2.76 -2.48,-0.514 -1.075,0.022 -0.065,0.051 -0.997,0.792 4.128,9.108 1.037,2.289\" fill=\"none\" stroke=\"#000000\" stroke-linecap=\"butt\" stroke-linejoin=\"round\" stroke-opacity=\"1\" stroke-width=\"3\" id=\"path264\"/>\n",
       "      <path d=\"m 765.919,729.438 2.481,0.514 6.31,7.758 1.249,1.536\" fill=\"none\" stroke=\"#000000\" stroke-linecap=\"butt\" stroke-linejoin=\"round\" stroke-opacity=\"1\" stroke-width=\"3\" id=\"path266\"/>\n",
       "      <path d=\"m 905.289,773.143 6.374,7.705 0.46,0.556 6.374,7.706 0.068,0.083 2.191,2.649 5.552,6.711 0.16,0.194 0.253,0.306 2.02,2.442 -9.773,-2.119 -2.365,-0.512 -7.35,-1.594 -2.127,-0.461 -1.14,-2.491 -0.256,-0.559 -1.418,-3.101 -2.124,-4.642 -4.16,-9.094 -0.967,-2.114\" fill=\"none\" stroke=\"#000000\" stroke-linecap=\"butt\" stroke-linejoin=\"round\" stroke-opacity=\"1\" stroke-width=\"3\" id=\"path268\"/>\n",
       "      <path d=\"m 901.308,809.371 -7.123,1.211 -7.595,1.292 -1.838,0.312 -7.068,1.202 -3.747,0.637 -9.859,1.676 -5.3,0.901 -0.245,1.89 0.277,1.644 2.647,0.596 9.997,-0.279 3.608,-0.1 5.976,-0.167 2.327,-0.065 5.95,-0.166 9.984,-0.278 9.997,-0.279 9.996,-0.279 3.666,-0.102\" fill=\"none\" stroke=\"#000000\" stroke-linecap=\"butt\" stroke-linejoin=\"round\" stroke-opacity=\"1\" stroke-width=\"3\" id=\"path270\"/>\n",
       "      <path d=\"m 901.308,809.371 9.766,2.15 9.766,2.151 2.102,0.462 -9.988,0.498 -8.005,0.398 -9.987,0.497 -3.707,0.185 -7.969,0.396 -6.752,0.336 -9.988,0.497 -5.12,0.255 -2.648,-0.594\" fill=\"none\" stroke=\"#000000\" stroke-linecap=\"butt\" stroke-linejoin=\"round\" stroke-opacity=\"1\" stroke-width=\"3\" id=\"path272\"/>\n",
       "      <path d=\"m 931.624,800.114 -0.264,-0.309 -0.112,-0.131 -6.491,-7.607 -1.285,-1.507 -3.123,-3.66 -2.582,-3.025 -3.111,-3.646 -6.533,-7.657\" fill=\"none\" stroke=\"#000000\" stroke-linecap=\"butt\" stroke-linejoin=\"round\" stroke-opacity=\"1\" stroke-width=\"3\" id=\"path274\"/>\n",
       "      <path d=\"m 875.373,779.205 0.065,8.507 -1.412,-0.057 -1.466,0.434 -1.464,0.909 -1.407,1.35\" fill=\"none\" stroke=\"#000000\" stroke-linecap=\"butt\" stroke-linejoin=\"round\" stroke-opacity=\"1\" stroke-width=\"3\" id=\"path276\"/>\n",
       "      <path d=\"m 844.391,807.441 9.761,2.175 9.76,2.175 5.962,1.329 4.063,0.905\" fill=\"none\" stroke=\"#000000\" stroke-linecap=\"butt\" stroke-linejoin=\"round\" stroke-opacity=\"1\" stroke-width=\"3\" id=\"path278\"/>\n",
       "      <path d=\"m 869.608,780.373 0.081,9.975 -9.772,-2.122 -9.772,-2.123 -4.249,-0.923\" fill=\"none\" stroke=\"#000000\" stroke-linecap=\"butt\" stroke-linejoin=\"round\" stroke-opacity=\"1\" stroke-width=\"3\" id=\"path280\"/>\n",
       "      <path d=\"m 833.383,852.362 5.327,1.251 1.332,0.312 1.961,0.46 9.736,2.285 8.959,2.103 1.142,0.268 0.666,0.156 0.004,10e-4 0.151,0.036 7.708,1.809 5.816,1.365 1.746,0.409 5.801,1.362 8.654,2.031 9.812,1.931 0.41,0.08 9.731,1.144 8.564,0.192 1.122,-0.007 6.55,-0.777 0.91,-0.319 3.967,-1.595 0.616,-0.42 0.591,-0.608 0.545,-0.773 0.476,-0.907 0.39,-1.008 0.289,-1.069 0.178,-1.089 0.058,-1.069 -0.063,-1.006 -0.181,-0.906 -0.294,-0.771 -0.394,-0.606 -2.92,-3.235 -0.708,-0.617 -5.597,-3.604 -7.645,-3.524 -1.207,-0.474 -9.074,-3.179 -0.03,-0.01 -0.049,-0.018 -0.112,-0.039 -0.435,-0.115 -9.315,-2.479 -0.316,-0.084 -1.203,-0.274 -9.75,-2.22 -2.616,-0.596 -5.286,-1.204 -2.277,-0.518 -5.3,-1.207 -5.27,-1.2 -0.94,-0.214 -0.881,-0.201\" fill=\"none\" stroke=\"#000000\" stroke-linecap=\"butt\" stroke-linejoin=\"round\" stroke-opacity=\"1\" stroke-width=\"3\" id=\"path282\"/>\n",
       "      <path d=\"m 705.014,762.367 -4.166,-5.029 -2.521,-0.55 -1.153,0.039 -1.135,0.887 2.978,6.618\" fill=\"none\" stroke=\"#000000\" stroke-linecap=\"butt\" stroke-linejoin=\"round\" stroke-opacity=\"1\" stroke-width=\"3\" id=\"path284\"/>\n",
       "      <path d=\"m 696.039,757.714 2.522,0.551 3.943,4.924\" fill=\"none\" stroke=\"#000000\" stroke-linecap=\"butt\" stroke-linejoin=\"round\" stroke-opacity=\"1\" stroke-width=\"3\" id=\"path286\"/>\n",
       "      <path d=\"m 670.872,784.683 -0.43,0.114 -2.103,1.18 -2.009,1.754 -1.838,2.263 -1.595,2.684 -1.289,3.001 -0.932,3.202 -0.539,3.278 -0.125,3.226 0.294,3.048 0.702,2.752 1.08,2.349 1.416,1.856 1.697,1.291 1.911,0.68 2.051,0.043 2.112,-0.594 9.394,-3.429 1.635,-0.597\" fill=\"none\" stroke=\"#000000\" stroke-linecap=\"butt\" stroke-linejoin=\"round\" stroke-opacity=\"1\" stroke-width=\"3\" id=\"path288\"/>\n",
       "      <path d=\"m 687.208,794.798 -0.286,0.151 -0.358,0.204 -0.898,0.511 -0.476,0.421 -0.486,0.43 -0.237,0.21 -1.098,1.365 -0.952,1.616 -0.769,1.806 -0.558,1.926 -0.324,1.97 -0.077,1.939 0.172,1.832 0.383,1.529 0.032,0.126 0.235,0.519 0.406,0.894 0.387,0.537 1.796,2.489 0.909,1.205\" fill=\"none\" stroke=\"#000000\" stroke-linecap=\"butt\" stroke-linejoin=\"round\" stroke-opacity=\"1\" stroke-width=\"3\" id=\"path290\"/>\n",
       "      <path d=\"m 695.355,814.77 -9.867,1.629 -0.479,0.079 -9.866,1.63 -9.867,1.629 -0.594,0.098 -0.241,1.897 0.336,1.648 2.528,0.601 9.996,-0.278 9.997,-0.278 8.258,-0.23\" fill=\"none\" stroke=\"#000000\" stroke-linecap=\"butt\" stroke-linejoin=\"round\" stroke-opacity=\"1\" stroke-width=\"3\" id=\"path292\"/>\n",
       "      <path d=\"m 825.923,789.24 6.316,7.754 6.315,7.753 1.387,1.702 6.316,7.754 6.403,7.861 6.316,7.753 0.487,0.598 0.317,0.389 2.188,2.686 -9.749,-2.226 -1.936,-0.442 -9.749,-2.226 -0.592,-0.135 -1.262,-2.778 -4.136,-9.105 -4.136,-9.104 -1.591,-3.504 -4.137,-9.104 -2.234,-4.919\" fill=\"none\" stroke=\"#000000\" stroke-linecap=\"butt\" stroke-linejoin=\"round\" stroke-opacity=\"1\" stroke-width=\"3\" id=\"path294\"/>\n",
       "      <path d=\"m 833.759,841.548 -9.853,1.71 -9.852,1.71 -7.002,1.215 -9.853,1.709 -8.019,1.392 -0.252,1.957 0.309,1.693 2.695,0.641 9.996,-0.293 9.996,-0.292 9.995,-0.292 9.996,-0.293 1.468,-0.043 9.996,-0.292 9.996,-0.292 2.475,-0.073\" fill=\"none\" stroke=\"#000000\" stroke-linecap=\"butt\" stroke-linejoin=\"round\" stroke-opacity=\"1\" stroke-width=\"3\" id=\"path296\"/>\n",
       "      <path d=\"m 833.759,841.548 9.742,2.26 9.741,2.259 2.56,0.594 -9.987,0.51 -7.721,0.393 -9.987,0.51 -9.987,0.509 -0.69,0.035 -9.987,0.51 -9.987,0.509 -5.579,0.284 -2.697,-0.637\" fill=\"none\" stroke=\"#000000\" stroke-linecap=\"butt\" stroke-linejoin=\"round\" stroke-opacity=\"1\" stroke-width=\"3\" id=\"path298\"/>\n",
       "      <path d=\"m 695.456,819.035 -3.367,0.167 -9.987,0.494 -9.988,0.495 -4.902,0.242 -2.53,-0.598\" fill=\"none\" stroke=\"#000000\" stroke-linecap=\"butt\" stroke-linejoin=\"round\" stroke-opacity=\"1\" stroke-width=\"3\" id=\"path300\"/>\n",
       "      <path d=\"m 865.613,831.816 -6.167,-7.872 -3.329,-4.25 -1.746,-0.393\" fill=\"none\" stroke=\"#000000\" stroke-linecap=\"butt\" stroke-linejoin=\"round\" stroke-opacity=\"1\" stroke-width=\"3\" id=\"path302\"/>\n",
       "      <path d=\"m 865.062,832.007 -0.33,-0.392 -6.438,-7.651 -3.923,-4.663 -6.439,-7.651 -3.541,-4.209 -6.438,-7.652 -6.439,-7.651 -2.899,-3.445\" fill=\"none\" stroke=\"#000000\" stroke-linecap=\"butt\" stroke-linejoin=\"round\" stroke-opacity=\"1\" stroke-width=\"3\" id=\"path304\"/>\n",
       "      <path d=\"m 807.555,792.974 0.055,4.002 0.005,0.343 10e-4,0.076 0.025,1.857 0.137,9.999 0.13,9.424 -1.518,-0.033 -1.573,0.475 -1.569,0.965 -1.504,1.42\" fill=\"none\" stroke=\"#000000\" stroke-linecap=\"butt\" stroke-linejoin=\"round\" stroke-opacity=\"1\" stroke-width=\"3\" id=\"path306\"/>\n",
       "      <path d=\"m 769.577,837.387 0.468,0.11 9.735,2.285 9.736,2.285 9.735,2.285 2.828,0.663 4.973,1.168\" fill=\"none\" stroke=\"#000000\" stroke-linecap=\"butt\" stroke-linejoin=\"round\" stroke-opacity=\"1\" stroke-width=\"3\" id=\"path308\"/>\n",
       "      <path d=\"m 801.354,794.235 0.048,3.352 0.004,0.275 0.06,4.166 v 0.006 l 0.003,0.228 0.143,9.999 0.132,9.241 -9.749,-2.23 -9.318,-2.132 -0.054,-0.013 -0.028,-0.006 -9.185,-2.101 -3.766,-0.862 -0.072,-4.212 -0.156,-9.121\" fill=\"none\" stroke=\"#000000\" stroke-linecap=\"butt\" stroke-linejoin=\"round\" stroke-opacity=\"1\" stroke-width=\"3\" id=\"path310\"/>\n",
       "      <path d=\"m 762.522,887.496 4.067,1.008 1.417,0.351 2.117,0.525 9.707,2.406 9.157,2.27 1.189,0.295 0.705,0.174 0.004,10e-4 0.178,0.044 9.706,2.406 9.706,2.406 9.707,2.406 1.101,0.273 9.788,2.047 0.636,0.133 9.931,1.273 8.746,0.272 1.213,-0.032 6.681,-0.746 0.982,-0.35 4.03,-1.611 0.663,-0.448 0.635,-0.642 0.583,-0.811 0.509,-0.95 0.415,-1.05 0.306,-1.113 0.184,-1.131 0.057,-1.107 -0.075,-1.04 -0.202,-0.933 -0.147,-0.363 -0.175,-0.429 -0.429,-0.618 -2.932,-3.408 -0.768,-0.623 -5.681,-3.806 -7.776,-3.737 -9.321,-3.412 -0.313,-0.112 -0.035,-0.012 -0.048,-0.017 -0.546,-0.195 -0.485,-0.172 -7.542,-2.11 -1.567,-0.438 -1.152,-0.322 -9.723,-2.338 -9.722,-2.339 -9.723,-2.338 -2.782,-0.669 -0.362,-0.087 -2.016,-0.484\" fill=\"none\" stroke=\"#000000\" stroke-linecap=\"butt\" stroke-linejoin=\"round\" stroke-opacity=\"1\" stroke-width=\"3\" id=\"path312\"/>\n",
       "      <path d=\"m 665.13,835.395 -0.387,-0.474 -6.376,-7.815 -1.19,-1.459 -6.322,-7.748 -6.321,-7.748 -6.322,-7.749 -6.322,-7.748 -5.739,-7.034 -2.56,-0.59 -1.241,0.058 -1.215,0.935 4.078,9.131 4.077,9.131 4.077,9.131 4.078,9.131 1.905,4.267 1.343,3.008\" fill=\"none\" stroke=\"#000000\" stroke-linecap=\"butt\" stroke-linejoin=\"round\" stroke-opacity=\"1\" stroke-width=\"3\" id=\"path314\"/>\n",
       "      <path d=\"m 621.135,788.023 2.562,0.591 6.186,7.858 6.185,7.857 6.186,7.858 6.185,7.857 6.186,7.857 0.881,1.12 3.572,4.538 0.37,0.469 2.252,2.86 -9.015,-2.174 -9.721,-2.344 -2.271,-0.548\" fill=\"none\" stroke=\"#000000\" stroke-linecap=\"butt\" stroke-linejoin=\"round\" stroke-opacity=\"1\" stroke-width=\"3\" id=\"path316\"/>\n",
       "      <path d=\"m 612.122,826.431 -6.706,-7.418 -1.638,-1.812 -1.81,-1.331 -2.043,-0.703 -2.199,-0.047 -2.269,0.614 -2.253,1.252 -2.15,1.845 -1.962,2.368 -1.698,2.799 -1.368,3.122 -0.983,3.324 -0.56,3.395 -0.115,3.336 0.335,3.144 0.77,2.831 1.175,2.409 1.534,1.893 1.832,1.306 2.058,0.67 2.205,0.009 2.266,-0.648 9.398,-3.417 1.388,-0.504\" fill=\"none\" stroke=\"#000000\" stroke-linecap=\"butt\" stroke-linejoin=\"round\" stroke-opacity=\"1\" stroke-width=\"3\" id=\"path318\"/>\n",
       "      <path d=\"m 639.35,828.814 -9.723,-2.338 -9.723,-2.338 -0.605,-0.145 -1.684,-0.029 -1.738,0.482 -3.637,1.919 -0.118,0.066 -1.228,0.694 -0.311,0.271 -0.654,0.568 -0.319,0.277 -1.171,1.428 -1.014,1.687 -0.212,0.487 -0.605,1.391 -0.588,1.999 -0.337,2.042 -0.021,0.607 -0.05,1.397 0.196,1.891 0.346,1.29 0.11,0.412 0.212,0.44 0.486,1.009 0.367,0.547 1.774,2.638 1.168,1.459\" fill=\"none\" stroke=\"#000000\" stroke-linecap=\"butt\" stroke-linejoin=\"round\" stroke-opacity=\"1\" stroke-width=\"3\" id=\"path320\"/>\n",
       "      <path d=\"m 634.567,855.778 5.176,1.283 1.49,0.369 2.316,0.574 9.706,2.406 7.459,1.849 1.278,0.317 1.167,0.289 9.706,2.406 9.706,2.406 9.706,2.406 4.423,1.097 9.707,2.406 9.706,2.406 9.706,2.406 3.475,0.861 5.917,1.467\" fill=\"none\" stroke=\"#000000\" stroke-linecap=\"butt\" stroke-linejoin=\"round\" stroke-opacity=\"1\" stroke-width=\"3\" id=\"path322\"/>\n",
       "      <path d=\"m 634.021,844.965 -9.861,1.661 -9.861,1.661 -4.028,0.678 -9.861,1.661 -9.861,1.661 -2.781,0.468 -0.249,1.965 0.372,1.699 2.568,0.644 9.996,-0.291 9.995,-0.291 9.996,-0.291 9.996,-0.292 4.125,-0.12 9.996,-0.291 9.996,-0.291 0.62,-0.018\" fill=\"none\" stroke=\"#000000\" stroke-linecap=\"butt\" stroke-linejoin=\"round\" stroke-opacity=\"1\" stroke-width=\"3\" id=\"path324\"/>\n",
       "      <path d=\"m 696.015,842.441 -9.723,-2.338 -9.723,-2.338 -8.039,-1.934 -1.736,-0.417 -0.819,-0.197 -1.232,-0.296\" fill=\"none\" stroke=\"#000000\" stroke-linecap=\"butt\" stroke-linejoin=\"round\" stroke-opacity=\"1\" stroke-width=\"3\" id=\"path326\"/>\n",
       "      <path d=\"m 793.527,866.284 -0.407,-0.491 -3.639,-4.391 -4.504,-5.435 -1.288,-1.553 -0.743,-0.896 -6.381,-7.699 -6.382,-7.699 -0.606,-0.733 -6.382,-7.699 -6.381,-7.699 -4.364,-5.265 -2.734,-0.63 -1.202,0.079 -1.187,0.982 4.111,9.116 3.459,7.671 4.11,9.116 4.111,9.116 3.238,7.183 1.403,3.111\" fill=\"none\" stroke=\"#000000\" stroke-linecap=\"butt\" stroke-linejoin=\"round\" stroke-opacity=\"1\" stroke-width=\"3\" id=\"path328\"/>\n",
       "      <path d=\"m 747.327,817.155 2.736,0.631 6.252,7.804 6.253,7.805 2.317,2.891 6.252,7.804 6.253,7.804 4.289,5.354 5.749,7.176 0.39,0.487 2.379,2.969 -9.721,-2.345 -1.489,-0.359 -9.722,-2.345 -1.506,-0.363\" fill=\"none\" stroke=\"#000000\" stroke-linecap=\"butt\" stroke-linejoin=\"round\" stroke-opacity=\"1\" stroke-width=\"3\" id=\"path330\"/>\n",
       "      <path d=\"m 641.233,857.43 -4.537,8.912 -4.537,8.912 -4.536,8.911 -3.357,6.594 2.54,0.655 1.227,-0.121 1.201,-0.981 7.774,-6.289 7.774,-6.29 7.774,-6.29 7.775,-6.29 2.828,-2.288\" fill=\"none\" stroke=\"#000000\" stroke-linecap=\"butt\" stroke-linejoin=\"round\" stroke-opacity=\"1\" stroke-width=\"3\" id=\"path332\"/>\n",
       "      <path d=\"m 634.021,844.965 9.712,2.381 9.713,2.38 1.594,0.39 -9.987,0.507 -6.932,0.351 -9.988,0.507 -9.05,0.459 -9.987,0.507 -9.987,0.506 -8.773,0.445 -2.568,-0.643\" fill=\"none\" stroke=\"#000000\" stroke-linecap=\"butt\" stroke-linejoin=\"round\" stroke-opacity=\"1\" stroke-width=\"3\" id=\"path334\"/>\n",
       "      <path d=\"m 761.171,876.126 -9.847,1.745 -9.846,1.744 -3.844,0.681 -2.423,0.43 -9.847,1.744 -9.847,1.745 -1.168,0.207 -0.259,2.03 0.344,1.746 2.744,0.689 9.995,-0.307 9.995,-0.306 9.996,-0.307 9.995,-0.307 2.521,-0.077 2.842,-0.087 8.441,-0.26 0.383,-0.011 1.493,-0.046 9.996,-0.307 0.874,-0.027\" fill=\"none\" stroke=\"#000000\" stroke-linecap=\"butt\" stroke-linejoin=\"round\" stroke-opacity=\"1\" stroke-width=\"3\" id=\"path336\"/>\n",
       "      <path d=\"m 761.171,876.126 9.713,2.38 9.712,2.38 3.03,0.743 -9.987,0.522 -7.409,0.388 -9.987,0.522 -9.588,0.502 -1.736,0.09 -9.987,0.523 -9.986,0.522 -7.852,0.411 -2.745,-0.687\" fill=\"none\" stroke=\"#000000\" stroke-linecap=\"butt\" stroke-linejoin=\"round\" stroke-opacity=\"1\" stroke-width=\"3\" id=\"path338\"/>\n",
       "      <path d=\"m 668.53,835.831 -4.872,-8.733 -2.314,-4.149 -2.532,-0.601 -1.635,3.299\" fill=\"none\" stroke=\"#000000\" stroke-linecap=\"butt\" stroke-linejoin=\"round\" stroke-opacity=\"1\" stroke-width=\"3\" id=\"path340\"/>\n",
       "      <path d=\"m 795.498,866.364 -5.609,-8.278 -3.714,-5.482 -2.7,-0.641 -0.529,1.555\" fill=\"none\" stroke=\"#000000\" stroke-linecap=\"butt\" stroke-linejoin=\"round\" stroke-opacity=\"1\" stroke-width=\"3\" id=\"path342\"/>\n",
       "      <path d=\"m 768.006,888.855 -0.381,0.699 -4.793,8.776 -4.793,8.777 -4.792,8.777 -3.89,7.123 2.71,0.698 1.191,-0.145 7.917,-6.109 7.917,-6.109 0.361,-0.278 7.917,-6.109 7.917,-6.109 4.816,-3.716 0.782,-0.604\" fill=\"none\" stroke=\"#000000\" stroke-linecap=\"butt\" stroke-linejoin=\"round\" stroke-opacity=\"1\" stroke-width=\"3\" id=\"path344\"/>\n",
       "      <path d=\"m 626.806,891.414 7.734,-6.339 7.734,-6.339 7.735,-6.338 7.734,-6.339 4.249,-3.483\" fill=\"none\" stroke=\"#000000\" stroke-linecap=\"butt\" stroke-linejoin=\"round\" stroke-opacity=\"1\" stroke-width=\"3\" id=\"path346\"/>\n",
       "      <path d=\"m 752.067,923.705 7.923,-6.102 7.922,-6.102 7.922,-6.103 7.922,-6.102 5.637,-4.342 0.783,-0.603\" fill=\"none\" stroke=\"#000000\" stroke-linecap=\"butt\" stroke-linejoin=\"round\" stroke-opacity=\"1\" stroke-width=\"3\" id=\"path348\"/>\n",
       "      <path d=\"m 734.494,806.723 0.022,1.047 0.098,4.851 0.203,9.998 0.084,4.119 0.044,2.182 0.007,0.341 0.02,0.952 0.016,0.807 v 10e-4 l 0.006,0.285 0.203,9.998 0.203,9.998 0.012,0.613 -0.431,-10e-4 -1.204,-0.004 -1.693,0.52 -1.686,1.027 -1.612,1.497\" fill=\"none\" stroke=\"#000000\" stroke-linecap=\"butt\" stroke-linejoin=\"round\" stroke-opacity=\"1\" stroke-width=\"3\" id=\"path350\"/>\n",
       "      <path d=\"m 727.768,806.286 0.209,9.997 0.118,5.628 0.008,0.38 0.105,5.048 0.007,0.341 0.182,8.672 v 0.006 l 0.005,0.221 0.209,9.998 0.038,1.816 0.105,5.033 v 0.018 l 0.032,1.51 -9.309,-2.25 -8.628,-2.085 -0.051,-0.012 -0.016,-0.004 -7.935,-1.918 -6.722,-1.625 -0.11,-4.619 -0.239,-9.997 -0.22,-9.249 -0.077,-3.198 -0.018,-0.757 -0.005,-0.205 -0.101,-4.265 -0.239,-9.997 -0.183,-7.69\" fill=\"none\" stroke=\"#000000\" stroke-linecap=\"butt\" stroke-linejoin=\"round\" stroke-opacity=\"1\" stroke-width=\"3\" id=\"path352\"/>\n",
       "      <path d=\"m 397.912,600.745 1.614,-0.907 0.973,-0.546\" fill=\"none\" stroke=\"#000000\" stroke-linecap=\"butt\" stroke-linejoin=\"round\" stroke-opacity=\"1\" stroke-width=\"3\" id=\"path354\"/>\n",
       "      <path d=\"m 470.708,442.912 0.842,-0.193 0.12,0.331 0.455,1.252\" fill=\"none\" stroke=\"#000000\" stroke-linecap=\"butt\" stroke-linejoin=\"round\" stroke-opacity=\"1\" stroke-width=\"3\" id=\"path356\"/>\n",
       "      <path d=\"m 470.946,444.572 -0.424,-1.168\" fill=\"none\" stroke=\"#000000\" stroke-linecap=\"butt\" stroke-linejoin=\"round\" stroke-opacity=\"1\" stroke-width=\"3\" id=\"path358\"/>\n",
       "      <path d=\"m 686.564,795.153 -0.73,-0.768\" fill=\"none\" stroke=\"#000000\" stroke-linecap=\"butt\" stroke-linejoin=\"round\" stroke-opacity=\"1\" stroke-width=\"3\" id=\"path360\"/>\n",
       "      <path d=\"m 734.972,830.213 0.907,-0.734\" fill=\"none\" stroke=\"#000000\" stroke-linecap=\"butt\" stroke-linejoin=\"round\" stroke-opacity=\"1\" stroke-width=\"3\" id=\"path362\"/>\n",
       "      <path d=\"m 734.988,831.021 1.677,-1.358\" fill=\"none\" stroke=\"#000000\" stroke-linecap=\"butt\" stroke-linejoin=\"round\" stroke-opacity=\"1\" stroke-width=\"3\" id=\"path364\"/>\n",
       "      <path d=\"m 734.994,831.306 1.967,-1.573\" fill=\"none\" stroke=\"#000000\" stroke-linecap=\"butt\" stroke-linejoin=\"round\" stroke-opacity=\"1\" stroke-width=\"3\" id=\"path366\"/>\n",
       "      <path d=\"m 734.952,829.261 0.927,0.218 0.786,0.184 v 0 l 0.296,0.07 9.736,2.285 8.2,1.924\" fill=\"none\" stroke=\"#000000\" stroke-linecap=\"butt\" stroke-linejoin=\"round\" stroke-opacity=\"1\" stroke-width=\"3\" id=\"path368\"/>\n",
       "      <path d=\"m 766.356,859.357 -9.722,-2.339 -9.723,-2.338 -9.723,-2.338 -1.776,-0.427\" fill=\"none\" stroke=\"#000000\" stroke-linecap=\"butt\" stroke-linejoin=\"round\" stroke-opacity=\"1\" stroke-width=\"3\" id=\"path370\"/>\n",
       "      <path d=\"m 769.572,809.946 -9.75,-2.221 -9.751,-2.22 -2.107,-0.48\" fill=\"none\" stroke=\"#000000\" stroke-linecap=\"butt\" stroke-linejoin=\"round\" stroke-opacity=\"1\" stroke-width=\"3\" id=\"path372\"/>\n",
       "      <path d=\"m 791.86,573.177 -3.616,4.013\" fill=\"none\" stroke=\"#000000\" stroke-linecap=\"butt\" stroke-linejoin=\"round\" stroke-opacity=\"1\" stroke-width=\"3\" id=\"path374\"/>\n",
       "      <path d=\"m 769.453,911.064 7.949,-6.067 7.949,-6.067 4.923,-3.757 0.789,-0.603\" fill=\"none\" stroke=\"#000000\" stroke-linecap=\"butt\" stroke-linejoin=\"round\" stroke-opacity=\"1\" stroke-width=\"3\" id=\"path376\"/>\n",
       "      <path d=\"m 796.09,565.67 -4.23,7.507 -1.189,2.109 -4.909,8.713 -0.258,0.459\" fill=\"none\" stroke=\"#000000\" stroke-linecap=\"butt\" stroke-linejoin=\"round\" stroke-opacity=\"1\" stroke-width=\"3\" id=\"path378\"/>\n",
       "      <path d=\"m 807.641,799.252 9.761,2.175 9.761,2.175 1.654,0.368\" fill=\"none\" stroke=\"#000000\" stroke-linecap=\"butt\" stroke-linejoin=\"round\" stroke-opacity=\"1\" stroke-width=\"3\" id=\"path380\"/>\n",
       "      <path d=\"m 840.042,853.925 -4.883,8.727 -4.884,8.726 -1.675,2.992\" fill=\"none\" stroke=\"#000000\" stroke-linecap=\"butt\" stroke-linejoin=\"round\" stroke-opacity=\"1\" stroke-width=\"3\" id=\"path382\"/>\n",
       "      <path d=\"m 838.68,825.683 -9.75,-2.221 -9.75,-2.22 -9.751,-2.22 -1.521,-0.347\" fill=\"none\" stroke=\"#000000\" stroke-linecap=\"butt\" stroke-linejoin=\"round\" stroke-opacity=\"1\" stroke-width=\"3\" id=\"path384\"/>\n",
       "      <path d=\"m 838.194,877.09 7.949,-6.067 7.949,-6.068 7.748,-5.914\" fill=\"none\" stroke=\"#000000\" stroke-linecap=\"butt\" stroke-linejoin=\"round\" stroke-opacity=\"1\" stroke-width=\"3\" id=\"path386\"/>\n",
       "      <path d=\"m 838.823,877.314 4.912,-3.756 7.943,-6.075 7.943,-6.075 2.889,-2.21\" fill=\"none\" stroke=\"#000000\" stroke-linecap=\"butt\" stroke-linejoin=\"round\" stroke-opacity=\"1\" stroke-width=\"3\" id=\"path388\"/>\n",
       "      <path d=\"m 843.735,873.558 7.974,-6.035 7.973,-6.035 2.979,-2.254\" fill=\"none\" stroke=\"#000000\" stroke-linecap=\"butt\" stroke-linejoin=\"round\" stroke-opacity=\"1\" stroke-width=\"3\" id=\"path390\"/>\n",
       "      <path d=\"m 870.369,861.043 0.081,9.999 0.081,10 0.081,10 0.028,3.492 0.036,4.38\" fill=\"none\" stroke=\"#000000\" stroke-linecap=\"butt\" stroke-linejoin=\"round\" stroke-opacity=\"1\" stroke-width=\"3\" id=\"path392\"/>\n",
       "      <path d=\"m 759.68,887.583 7.945,1.971\" fill=\"none\" stroke=\"#000000\" stroke-linecap=\"butt\" stroke-linejoin=\"round\" stroke-opacity=\"1\" stroke-width=\"3\" id=\"path394\"/>\n",
       "      <path d=\"m 870.64,894.534 -4.422,-1.075\" fill=\"none\" stroke=\"#000000\" stroke-linecap=\"butt\" stroke-linejoin=\"round\" stroke-opacity=\"1\" stroke-width=\"3\" id=\"path396\"/>\n",
       "      <path d=\"m 900.463,793.124 3.849,-2.466\" fill=\"none\" stroke=\"#000000\" stroke-linecap=\"butt\" stroke-linejoin=\"round\" stroke-opacity=\"1\" stroke-width=\"3\" id=\"path398\"/>\n",
       "      <path d=\"m 907.099,821.415 -4.966,8.679 -4.966,8.68 -0.115,0.201\" fill=\"none\" stroke=\"#000000\" stroke-linecap=\"butt\" stroke-linejoin=\"round\" stroke-opacity=\"1\" stroke-width=\"3\" id=\"path400\"/>\n",
       "      <path d=\"m 905.986,794.318 -0.991,-0.214 -4.532,-0.98 -7.552,-1.633 -9.775,-2.114 -7.698,-1.665\" fill=\"none\" stroke=\"#000000\" stroke-linecap=\"butt\" stroke-linejoin=\"round\" stroke-opacity=\"1\" stroke-width=\"3\" id=\"path402\"/>\n",
       "      <path d=\"m 907.886,841.812 7.973,-6.037 7.973,-6.036 4.689,-3.551\" fill=\"none\" stroke=\"#000000\" stroke-linecap=\"butt\" stroke-linejoin=\"round\" stroke-opacity=\"1\" stroke-width=\"3\" id=\"path404\"/>\n",
       "      <path d=\"m 908.512,841.994 4.338,-3.292 7.967,-6.044 7.966,-6.045 0.373,-0.283\" fill=\"none\" stroke=\"#000000\" stroke-linecap=\"butt\" stroke-linejoin=\"round\" stroke-opacity=\"1\" stroke-width=\"3\" id=\"path406\"/>\n",
       "      <path d=\"m 912.85,838.702 7.996,-6.006 7.995,-6.005 0.443,-0.333\" fill=\"none\" stroke=\"#000000\" stroke-linecap=\"butt\" stroke-linejoin=\"round\" stroke-opacity=\"1\" stroke-width=\"3\" id=\"path408\"/>\n",
       "      <path d=\"m 930.133,773.045 -8.251,3.83 -7.226,3.354\" fill=\"none\" stroke=\"#000000\" stroke-linecap=\"butt\" stroke-linejoin=\"round\" stroke-opacity=\"1\" stroke-width=\"3\" id=\"path416\"/>\n",
       "      <path d=\"m 923.472,790.56 9.044,-4.268 6.179,-2.916 9.043,-4.268 3.379,-1.594\" fill=\"none\" stroke=\"#000000\" stroke-linecap=\"butt\" stroke-linejoin=\"round\" stroke-opacity=\"1\" stroke-width=\"3\" id=\"path418\"/>\n",
       "      <path d=\"m 937.565,774.632 -9.061,4.23 -2.054,0.959 -8.683,4.054\" fill=\"none\" stroke=\"#000000\" stroke-linecap=\"butt\" stroke-linejoin=\"round\" stroke-opacity=\"1\" stroke-width=\"3\" id=\"path420\"/>\n",
       "      <path d=\"m 985.566,381.575 -0.491,-0.288\" fill=\"none\" stroke=\"#000000\" stroke-linecap=\"butt\" stroke-linejoin=\"round\" stroke-opacity=\"1\" stroke-width=\"3\" id=\"path422\"/>\n",
       "      <path d=\"m 987.478,379.102 0.135,-0.058 0.179,-0.078\" fill=\"none\" stroke=\"#000000\" stroke-linecap=\"butt\" stroke-linejoin=\"round\" stroke-opacity=\"1\" stroke-width=\"3\" id=\"path424\"/>\n",
       "      <path d=\"m 988.764,356.512 -0.025,10 -0.012,5.127 -0.015,5.713 -0.003,1.465 -10e-4,0.069 -0.009,3.768\" fill=\"none\" stroke=\"#000000\" stroke-linecap=\"butt\" stroke-linejoin=\"round\" stroke-opacity=\"1\" stroke-width=\"3\" id=\"path426\"/>\n",
       "      <path d=\"M 992.611,384.582 990.749,384.2\" fill=\"none\" stroke=\"#000000\" stroke-linecap=\"butt\" stroke-linejoin=\"round\" stroke-opacity=\"1\" stroke-width=\"3\" id=\"path428\"/>\n",
       "      <path d=\"m 1029.669,382.788 0.02,-3.423 0.01,-1.372 0.012,-2.09 0.061,-10 0.056,-9.276\" fill=\"none\" stroke=\"#000000\" stroke-linecap=\"butt\" stroke-linejoin=\"round\" stroke-opacity=\"1\" stroke-width=\"3\" id=\"path430\"/>\n",
       "      <path d=\"m 1044.637,797.236 -0.065,8.57 -0.027,3.459\" fill=\"none\" stroke=\"#000000\" stroke-linecap=\"butt\" stroke-linejoin=\"round\" stroke-opacity=\"1\" stroke-width=\"3\" id=\"path432\"/>\n",
       "      <path d=\"m 1044.572,805.806 -9.783,-2.073 -9.783,-2.072 -9.783,-2.073 -9.783,-2.072 -9.783,-2.073 -9.783,-2.072 -9.783,-2.073 -9.782,-2.072 -9.783,-2.072 -9.783,-2.073 -8.048,-1.705\" fill=\"none\" stroke=\"#000000\" stroke-linecap=\"butt\" stroke-linejoin=\"round\" stroke-opacity=\"1\" stroke-width=\"3\" id=\"path434\"/>\n",
       "      <path d=\"m 1063.878,941.487 -9.717,-2.361 -9.717,-2.361 -9.717,-2.361 -9.718,-2.362 -9.717,-2.361 -9.717,-2.361 -9.718,-2.361 -9.717,-2.361 -9.717,-2.361 -9.717,-2.361 -9.718,-2.361 -9.717,-2.361 -9.717,-2.362 -9.717,-2.361 -9.718,-2.361 -9.717,-2.361 -9.717,-2.361 -9.717,-2.361 -5.004,-1.216\" fill=\"none\" stroke=\"#000000\" stroke-linecap=\"butt\" stroke-linejoin=\"round\" stroke-opacity=\"1\" stroke-width=\"3\" id=\"path436\"/>\n",
       "      <path d=\"m 1227.547,820.672 -0.241,9.997 -0.242,9.997 -0.091,3.781 -0.087,3.596\" fill=\"none\" stroke=\"#000000\" stroke-linecap=\"butt\" stroke-linejoin=\"round\" stroke-opacity=\"1\" stroke-width=\"3\" id=\"path438\"/>\n",
       "      <path d=\"m 1109.606,819.583 -9.783,-2.073 -9.783,-2.072 -9.783,-2.072 -9.783,-2.073 -9.782,-2.072 -4.251,-0.901\" fill=\"none\" stroke=\"#000000\" stroke-linecap=\"butt\" stroke-linejoin=\"round\" stroke-opacity=\"1\" stroke-width=\"3\" id=\"path440\"/>\n",
       "      <path d=\"m 1226.973,844.447 -9.783,-2.073 -9.783,-2.072 -9.783,-2.073 -9.782,-2.072 -9.783,-2.073 -9.783,-2.072 -9.783,-2.073 -9.783,-2.072 -9.783,-2.072 -8.449,-1.79\" fill=\"none\" stroke=\"#000000\" stroke-linecap=\"butt\" stroke-linejoin=\"round\" stroke-opacity=\"1\" stroke-width=\"3\" id=\"path442\"/>\n",
       "      <path d=\"m 1228.776,693.613 0.892,-0.061 0.447,-0.03 0.472,-0.032 0.587,-0.04 0.077,-0.006 h 0.01 l 0.235,-0.016 0.075,-0.005 0.572,-0.039 0.262,-0.018 2.354,-0.16 4.277,-0.291\" fill=\"none\" stroke=\"#000000\" stroke-linecap=\"butt\" stroke-linejoin=\"round\" stroke-opacity=\"1\" stroke-width=\"3\" id=\"path444\"/>\n",
       "      <path style=\"fill:#ff0000;stroke:#ff0000;stroke-width:5.70327;stroke-linecap:butt;stroke-linejoin:miter;stroke-miterlimit:4;stroke-dasharray:none;stroke-opacity:1\" d=\"M 1012.2966,686.12402 V 129.40896\" id=\"path1279\"/>\n",
       "      <path style=\"fill:none;stroke:#ff0000;stroke-width:6.2922;stroke-linecap:butt;stroke-linejoin:miter;stroke-miterlimit:4;stroke-dasharray:none;stroke-opacity:1\" d=\"M 1012.2966,686.12402 422.09474,892.38942\" id=\"path1281\"/>\n",
       "      <path style=\"fill:none;stroke:#ff0000;stroke-width:6.2922;stroke-linecap:butt;stroke-linejoin:miter;stroke-miterlimit:4;stroke-dasharray:none;stroke-opacity:1\" d=\"m 1012.2966,686.12402 589.2211,142.36859\" id=\"path1283\"/>\n",
       "      <path style=\"fill:#ff0000;stroke:#ff0000;stroke-width:2.17622px;stroke-linecap:butt;stroke-linejoin:miter;stroke-opacity:1\" d=\"m 1012.2966,100.08418 -13.72511,39.4449 31.72441,0.84038 -17.9993,-40.28528\" id=\"path1285\"/>\n",
       "      <path style=\"fill:#ff0000;stroke:#ff0000;stroke-width:2.17622px;stroke-linecap:butt;stroke-linejoin:miter;stroke-opacity:1\" d=\"m 422.09474,892.38942 35.50313,-25.70628 4.9461,27.41138 z\" id=\"path1287\"/>\n",
       "      <path style=\"fill:#ff0000;stroke:#ff0000;stroke-width:2.17622px;stroke-linecap:butt;stroke-linejoin:miter;stroke-opacity:1\" d=\"m 1601.5177,828.49261 -28.7295,-25.42188 -3.0082,35.54471 31.7377,-10.12283\" id=\"path1289\"/>\n",
       "      <ellipse style=\"fill:none;stroke:#ff0000;stroke-width:6.2922;stroke-linejoin:bevel;stroke-miterlimit:4;stroke-dasharray:none\" id=\"path1291\" cx=\"1008.8899\" cy=\"220.43024\" rx=\"70.600983\" ry=\"32.519066\"/>\n",
       "      <ellipse style=\"fill:none;stroke:#ff0000;stroke-width:6.2922;stroke-linejoin:bevel;stroke-miterlimit:4;stroke-dasharray:none\" id=\"ellipse1293\" cx=\"889.64771\" cy=\"-468.65878\" rx=\"70.600983\" ry=\"32.519066\" transform=\"rotate(85.873577)\"/>\n",
       "      <ellipse style=\"fill:none;stroke:#ff0000;stroke-width:6.2922;stroke-linejoin:bevel;stroke-miterlimit:4;stroke-dasharray:none\" id=\"ellipse1295\" cx=\"727.23926\" cy=\"-1535.2175\" rx=\"70.600983\" ry=\"32.519066\" transform=\"rotate(92.905966)\"/>\n",
       "      <path style=\"fill:#ff0000;stroke:#ff0000;stroke-width:2.17622px;stroke-linecap:butt;stroke-linejoin:miter;stroke-opacity:1\" d=\"m 1013.9463,186.48161 36.2967,-9.46796 -6.9629,32.66493 z\" id=\"path1297\"/>\n",
       "      <path style=\"fill:#ff0000;stroke:#ff0000;stroke-width:2.17622px;stroke-linecap:butt;stroke-linejoin:miter;stroke-opacity:1\" d=\"m 1510.0865,830.32096 30.0161,11.42003 -11.4342,-27.30569 z\" id=\"path1299\"/>\n",
       "      <path style=\"fill:#ff0000;stroke:#ff0000;stroke-width:2.17622px;stroke-linecap:butt;stroke-linejoin:miter;stroke-opacity:1\" d=\"m 499.06579,863.72446 -17.1403,-31.40956 32.52374,0.41066 z\" id=\"path1301\"/>\n",
       "      <text xml:space=\"preserve\" style=\"font-size:63.8358px;line-height:1.25;font-family:sans-serif;-inkscape-font-specification:sans-serif;fill:#ff0000;stroke-width:2.17622\" x=\"1080.6903\" y=\"169.26517\" id=\"text1305\"><tspan sodipodi:role=\"line\" id=\"tspan1303\" x=\"1080.6903\" y=\"169.26517\" style=\"fill:#ff0000;stroke-width:2.17622\">guinada</tspan></text>\n",
       "      <text xml:space=\"preserve\" style=\"font-size:63.8358px;line-height:1.25;font-family:sans-serif;-inkscape-font-specification:sans-serif;fill:#ff0000;stroke-width:2.17622\" x=\"369.91931\" y=\"756.19409\" id=\"text1309\"><tspan sodipodi:role=\"line\" id=\"tspan1307\" x=\"369.91931\" y=\"756.19409\" style=\"fill:#ff0000;stroke-width:2.17622\">arfagem</tspan></text>\n",
       "      <text xml:space=\"preserve\" style=\"font-size:63.8358px;line-height:1.25;font-family:sans-serif;-inkscape-font-specification:sans-serif;fill:#ff0000;stroke-width:2.17622\" x=\"1398.8624\" y=\"697.77594\" id=\"text1313\"><tspan sodipodi:role=\"line\" id=\"tspan1311\" x=\"1398.8624\" y=\"697.77594\" style=\"fill:#ff0000;stroke-width:2.17622\">rolagem</tspan></text>\n",
       "    </g>\n",
       "  </g>\n",
       "</svg>"
      ],
      "text/plain": [
       "<IPython.core.display.SVG object>"
      ]
     },
     "execution_count": 2,
     "metadata": {},
     "output_type": "execute_result"
    }
   ],
   "source": [
    "SVG('helicoptero-Euler-angs.svg')"
   ]
  },
  {
   "cell_type": "code",
   "execution_count": 3,
   "metadata": {
    "slideshow": {
     "slide_type": "subslide"
    }
   },
   "outputs": [],
   "source": [
    "from IPython.display import Video"
   ]
  },
  {
   "cell_type": "code",
   "execution_count": 4,
   "metadata": {
    "slideshow": {
     "slide_type": "subslide"
    }
   },
   "outputs": [
    {
     "data": {
      "text/html": [
       "<video src=\"Helicoptero-Euler-Angs.m4v\" controls  width=\"700\" >\n",
       "      Your browser does not support the <code>video</code> element.\n",
       "    </video>"
      ],
      "text/plain": [
       "<IPython.core.display.Video object>"
      ]
     },
     "execution_count": 4,
     "metadata": {},
     "output_type": "execute_result"
    }
   ],
   "source": [
    "Video('Helicoptero-Euler-Angs.m4v',width=700)"
   ]
  },
  {
   "cell_type": "markdown",
   "metadata": {
    "slideshow": {
     "slide_type": "subslide"
    }
   },
   "source": [
    "### Exemplo 1: \n",
    "Obtenha a orientação, velocidade angular e a aceleração angular do helicóptero. "
   ]
  },
  {
   "cell_type": "code",
   "execution_count": 5,
   "metadata": {
    "slideshow": {
     "slide_type": "subslide"
    }
   },
   "outputs": [],
   "source": [
    "import sympy as sy\n",
    "import sympy.physics.mechanics as me"
   ]
  },
  {
   "cell_type": "code",
   "execution_count": 6,
   "metadata": {
    "slideshow": {
     "slide_type": "subslide"
    }
   },
   "outputs": [
    {
     "data": {
      "image/svg+xml": [
       "<svg xmlns:dc=\"http://purl.org/dc/elements/1.1/\" xmlns:cc=\"http://creativecommons.org/ns#\" xmlns:rdf=\"http://www.w3.org/1999/02/22-rdf-syntax-ns#\" xmlns:svg=\"http://www.w3.org/2000/svg\" xmlns=\"http://www.w3.org/2000/svg\" xmlns:sodipodi=\"http://sodipodi.sourceforge.net/DTD/sodipodi-0.dtd\" xmlns:inkscape=\"http://www.inkscape.org/namespaces/inkscape\" width=\"186.51448mm\" height=\"20.852571mm\" viewBox=\"0 0 186.51448 20.852571\" version=\"1.1\" id=\"svg1321\" inkscape:version=\"1.0.2 (394de47547, 2021-03-26)\" sodipodi:docname=\"angs_euler.svg\">\n",
       "  <defs id=\"defs1315\">\n",
       "    <inkscape:path-effect effect=\"spiro\" id=\"path-effect1974\" is_visible=\"true\" lpeversion=\"1\"/>\n",
       "    <inkscape:path-effect effect=\"simplify\" id=\"path-effect1972\" is_visible=\"true\" lpeversion=\"1\" steps=\"1\" threshold=\"0.00243902\" smooth_angles=\"360\" helper_size=\"0\" simplify_individual_paths=\"false\" simplify_just_coalesce=\"false\"/>\n",
       "  </defs>\n",
       "  <sodipodi:namedview id=\"base\" pagecolor=\"#ffffff\" bordercolor=\"#666666\" borderopacity=\"1.0\" inkscape:pageopacity=\"0.0\" inkscape:pageshadow=\"2\" inkscape:zoom=\"1.979899\" inkscape:cx=\"345.53717\" inkscape:cy=\"67.815656\" inkscape:document-units=\"mm\" inkscape:current-layer=\"layer1\" inkscape:document-rotation=\"0\" showgrid=\"false\" showborder=\"false\" inkscape:snap-smooth-nodes=\"true\" inkscape:window-width=\"1920\" inkscape:window-height=\"1016\" inkscape:window-x=\"0\" inkscape:window-y=\"27\" inkscape:window-maximized=\"1\"/>\n",
       "  <metadata id=\"metadata1318\">\n",
       "    <rdf:RDF>\n",
       "      <cc:Work rdf:about=\"\">\n",
       "        <dc:format>image/svg+xml</dc:format>\n",
       "        <dc:type rdf:resource=\"http://purl.org/dc/dcmitype/StillImage\"/>\n",
       "        <dc:title/>\n",
       "      </cc:Work>\n",
       "    </rdf:RDF>\n",
       "  </metadata>\n",
       "  <g inkscape:label=\"Layer 1\" inkscape:groupmode=\"layer\" id=\"layer1\" transform=\"translate(-11.855135,-127.59459)\">\n",
       "    <circle style=\"fill:#ffffff;stroke:#000000;stroke-width:0.451828;stroke-linejoin:bevel\" id=\"path1884\" cx=\"21.671101\" cy=\"138.6312\" r=\"9.5900517\"/>\n",
       "    <circle style=\"fill:#ffffff;stroke:#000000;stroke-width:0.419328;stroke-linejoin:bevel;stroke-miterlimit:4;stroke-dasharray:none\" id=\"circle1892\" cx=\"77.53421\" cy=\"138.51338\" r=\"8.9002485\"/>\n",
       "    <g id=\"g1926\">\n",
       "      <path style=\"fill:none;stroke:#000000;stroke-width:0.765;stroke-linecap:butt;stroke-linejoin:miter;stroke-miterlimit:4;stroke-dasharray:none;stroke-opacity:1\" d=\"m 31.261152,138.6312 h 32.6133\" id=\"path1894\"/>\n",
       "      <path style=\"fill:#000000;stroke:#000000;stroke-width:0.264583px;stroke-linecap:butt;stroke-linejoin:miter;stroke-opacity:1\" d=\"m 68.633962,138.51338 -4.908383,-2.18834 0.145023,4.62162 4.76336,-2.43328\" id=\"path1896\"/>\n",
       "    </g>\n",
       "    <text xml:space=\"preserve\" style=\"font-size:7.7611px;line-height:1.25;font-family:sans-serif;-inkscape-font-specification:sans-serif;stroke-width:0.264583\" x=\"18.443449\" y=\"140.98978\" id=\"text1900\"><tspan sodipodi:role=\"line\" id=\"tspan1898\" x=\"18.443449\" y=\"140.98978\" style=\"stroke-width:0.264583\">N</tspan></text>\n",
       "    <text xml:space=\"preserve\" style=\"font-size:7.7611px;line-height:1.25;font-family:sans-serif;-inkscape-font-specification:sans-serif;stroke-width:0.264583\" x=\"75.039986\" y=\"140.86853\" id=\"text1904\"><tspan sodipodi:role=\"line\" id=\"tspan1902\" x=\"75.039986\" y=\"140.86853\" style=\"stroke-width:0.264583\">A</tspan></text>\n",
       "    <circle style=\"fill:#ffffff;stroke:#000000;stroke-width:0.451828;stroke-linejoin:bevel\" id=\"circle1906\" cx=\"133.39732\" cy=\"138.39557\" r=\"9.5900517\"/>\n",
       "    <circle style=\"fill:#ffffff;stroke:#000000;stroke-width:0.419328;stroke-linejoin:bevel;stroke-miterlimit:4;stroke-dasharray:none\" id=\"circle1908\" cx=\"189.2597\" cy=\"138.27776\" r=\"8.9002485\"/>\n",
       "    <path style=\"fill:none;stroke:#000000;stroke-width:0.765;stroke-linecap:butt;stroke-linejoin:miter;stroke-miterlimit:4;stroke-dasharray:none;stroke-opacity:1\" d=\"m 142.98755,138.39556 h 32.61348\" id=\"path1910\"/>\n",
       "    <path style=\"fill:#000000;stroke:#000000;stroke-width:0.264583px;stroke-linecap:butt;stroke-linejoin:miter;stroke-opacity:1\" d=\"m 180.36057,138.27774 -4.90841,-2.18834 0.14502,4.62162 4.76339,-2.43328\" id=\"path1912\"/>\n",
       "    <text xml:space=\"preserve\" style=\"font-size:7.7611px;line-height:1.25;font-family:sans-serif;-inkscape-font-specification:sans-serif;stroke-width:0.264583\" x=\"130.16968\" y=\"140.75415\" id=\"text1916\"><tspan sodipodi:role=\"line\" id=\"tspan1914\" x=\"130.16968\" y=\"140.75415\" style=\"stroke-width:0.264583\">B</tspan></text>\n",
       "    <text xml:space=\"preserve\" style=\"font-size:7.7611px;line-height:1.25;font-family:sans-serif;-inkscape-font-specification:sans-serif;stroke-width:0.264583\" x=\"186.7655\" y=\"140.6329\" id=\"text1920\"><tspan sodipodi:role=\"line\" id=\"tspan1918\" x=\"186.7655\" y=\"140.6329\" style=\"stroke-width:0.264583\">C</tspan></text>\n",
       "    <g id=\"g1932\" transform=\"translate(55.173307,-0.11781804)\">\n",
       "      <path style=\"fill:none;stroke:#000000;stroke-width:0.765;stroke-linecap:butt;stroke-linejoin:miter;stroke-miterlimit:4;stroke-dasharray:none;stroke-opacity:1\" d=\"m 31.261152,138.6312 h 32.6133\" id=\"path1928\"/>\n",
       "      <path style=\"fill:#000000;stroke:#000000;stroke-width:0.264583px;stroke-linecap:butt;stroke-linejoin:miter;stroke-opacity:1\" d=\"m 68.633962,138.51338 -4.908383,-2.18834 0.145023,4.62162 4.76336,-2.43328\" id=\"path1930\"/>\n",
       "    </g>\n",
       "    <text xml:space=\"preserve\" style=\"font-size:7.7611px;line-height:1.25;font-family:sans-serif;-inkscape-font-specification:sans-serif;stroke-width:0.264583\" x=\"38.793011\" y=\"133.5876\" id=\"text1936\"><tspan sodipodi:role=\"line\" id=\"tspan1934\" x=\"38.793011\" y=\"133.5876\" style=\"stroke-width:0.264583\">R<tspan style=\"font-size:65%;baseline-shift:sub\" id=\"tspan1940\">x</tspan>(  )</tspan></text>\n",
       "    <text xml:space=\"preserve\" style=\"font-size:7.7611px;line-height:1.25;font-family:sans-serif;-inkscape-font-specification:sans-serif;stroke-width:0.264583\" x=\"93.520454\" y=\"133.48363\" id=\"text1944\"><tspan sodipodi:role=\"line\" id=\"tspan1942\" x=\"93.520454\" y=\"133.48363\" style=\"stroke-width:0.264583\">R<tspan style=\"font-size:65%;baseline-shift:sub\" id=\"tspan1950\">y</tspan>(  )</tspan></text>\n",
       "    <text xml:space=\"preserve\" style=\"font-size:7.7611px;line-height:1.25;font-family:sans-serif;-inkscape-font-specification:sans-serif;stroke-width:0.264583\" x=\"150.35132\" y=\"134.43018\" id=\"text1948\"><tspan sodipodi:role=\"line\" id=\"tspan1946\" x=\"150.35132\" y=\"134.43018\" style=\"stroke-width:0.264583\">R<tspan style=\"font-size:65%;baseline-shift:sub\" id=\"tspan1952\">z</tspan>(  )</tspan></text>\n",
       "    <g id=\"g1960\" transform=\"translate(11.453345,-22.305636)\">\n",
       "      <ellipse style=\"fill:#ffffff;stroke:#000000;stroke-width:0.465;stroke-linejoin:bevel;stroke-miterlimit:4;stroke-dasharray:none\" id=\"path1954\" cx=\"41.039398\" cy=\"153.6757\" rx=\"1.7292383\" ry=\"3.3809416\"/>\n",
       "      <path style=\"fill:none;stroke:#000000;stroke-width:0.465;stroke-linecap:butt;stroke-linejoin:miter;stroke-miterlimit:4;stroke-dasharray:none;stroke-opacity:1\" d=\"m 39.310159,153.6757 h 3.458477\" id=\"path1956\"/>\n",
       "    </g>\n",
       "    <g id=\"g1968\" transform=\"matrix(0.79730008,0,0,0.79730008,75.025366,4.0934849)\">\n",
       "      <ellipse style=\"fill:#ffffff;stroke:#000000;stroke-width:0.465;stroke-linejoin:bevel;stroke-miterlimit:4;stroke-dasharray:none\" id=\"path1962\" cx=\"40.297619\" cy=\"159.83926\" rx=\"2.4688785\" ry=\"2.4580672\"/>\n",
       "      <path style=\"fill:none;stroke:#000000;stroke-width:0.465;stroke-linecap:butt;stroke-linejoin:miter;stroke-miterlimit:4;stroke-dasharray:none;stroke-opacity:1\" d=\"m 37.215659,163.25102 7.129401,-7.60213\" id=\"path1964\"/>\n",
       "    </g>\n",
       "    <path style=\"fill:none;stroke:#000000;stroke-width:0.465;stroke-linecap:butt;stroke-linejoin:miter;stroke-miterlimit:4;stroke-dasharray:none;stroke-opacity:1\" d=\"m 161.97196,129.6705 c 0.91807,0.50935 1.75932,1.15689 2.48662,1.91407 0.17969,0.18707 0.35321,0.38175 0.49484,0.59907 0.14162,0.21732 0.25104,0.45889 0.29292,0.71488 0.0537,0.32852 -0.0113,0.68126 -0.20698,0.95054 -0.13435,0.18485 -0.3243,0.32475 -0.53114,0.42189 -0.20684,0.0971 -0.43072,0.15336 -0.65603,0.1915 -0.2032,0.0344 -0.41011,0.0546 -0.61548,0.0374 -0.20538,-0.0171 -0.40991,-0.0728 -0.58501,-0.18148 -0.0979,-0.0608 -0.18622,-0.1381 -0.25447,-0.23097 -0.0683,-0.0929 -0.11605,-0.20156 -0.1323,-0.31566 -0.0218,-0.1534 0.0139,-0.31099 0.0792,-0.45149 0.0653,-0.1405 0.15916,-0.26576 0.25809,-0.38501 0.43083,-0.51929 0.96701,-0.94107 1.52224,-1.32447 0.67621,-0.46693 1.38736,-0.88327 2.12552,-1.24439\" id=\"path1970\" inkscape:path-effect=\"#path-effect1972;#path-effect1974\" inkscape:original-d=\"m 161.97196,129.6705 c 9.96156,6.12087 -6.8645,6.48527 4.27803,0.69592\"/>\n",
       "  </g>\n",
       "</svg>"
      ],
      "text/plain": [
       "<IPython.core.display.SVG object>"
      ]
     },
     "execution_count": 6,
     "metadata": {},
     "output_type": "execute_result"
    }
   ],
   "source": [
    "SVG('angs_euler.svg')"
   ]
  },
  {
   "cell_type": "code",
   "execution_count": 7,
   "metadata": {
    "slideshow": {
     "slide_type": "fragment"
    }
   },
   "outputs": [],
   "source": [
    "theta,phi,gamma = me.dynamicsymbols('theta phi gamma')"
   ]
  },
  {
   "cell_type": "code",
   "execution_count": 8,
   "metadata": {
    "slideshow": {
     "slide_type": "subslide"
    }
   },
   "outputs": [],
   "source": [
    "N = me.ReferenceFrame('N')\n",
    "A = me.ReferenceFrame('A')\n",
    "B = me.ReferenceFrame('B')\n",
    "C = me.ReferenceFrame('C')"
   ]
  },
  {
   "cell_type": "code",
   "execution_count": 9,
   "metadata": {
    "slideshow": {
     "slide_type": "fragment"
    }
   },
   "outputs": [],
   "source": [
    "A.orient(N,'Axis',[theta,N.x])\n",
    "B.orient(A,'Axis',[phi,A.y])\n",
    "C.orient(B,'Axis',[gamma,B.z])"
   ]
  },
  {
   "cell_type": "markdown",
   "metadata": {
    "slideshow": {
     "slide_type": "subslide"
    }
   },
   "source": [
    "**Orientação**"
   ]
  },
  {
   "cell_type": "code",
   "execution_count": 10,
   "metadata": {
    "slideshow": {
     "slide_type": "fragment"
    }
   },
   "outputs": [
    {
     "data": {
      "text/latex": [
       "$\\displaystyle \\left[\\begin{matrix}\\cos{\\left(\\gamma{\\left(t \\right)} \\right)} \\cos{\\left(\\phi{\\left(t \\right)} \\right)} & \\sin{\\left(\\gamma{\\left(t \\right)} \\right)} \\cos{\\left(\\theta{\\left(t \\right)} \\right)} + \\sin{\\left(\\phi{\\left(t \\right)} \\right)} \\sin{\\left(\\theta{\\left(t \\right)} \\right)} \\cos{\\left(\\gamma{\\left(t \\right)} \\right)} & \\sin{\\left(\\gamma{\\left(t \\right)} \\right)} \\sin{\\left(\\theta{\\left(t \\right)} \\right)} - \\sin{\\left(\\phi{\\left(t \\right)} \\right)} \\cos{\\left(\\gamma{\\left(t \\right)} \\right)} \\cos{\\left(\\theta{\\left(t \\right)} \\right)}\\\\- \\sin{\\left(\\gamma{\\left(t \\right)} \\right)} \\cos{\\left(\\phi{\\left(t \\right)} \\right)} & - \\sin{\\left(\\gamma{\\left(t \\right)} \\right)} \\sin{\\left(\\phi{\\left(t \\right)} \\right)} \\sin{\\left(\\theta{\\left(t \\right)} \\right)} + \\cos{\\left(\\gamma{\\left(t \\right)} \\right)} \\cos{\\left(\\theta{\\left(t \\right)} \\right)} & \\sin{\\left(\\gamma{\\left(t \\right)} \\right)} \\sin{\\left(\\phi{\\left(t \\right)} \\right)} \\cos{\\left(\\theta{\\left(t \\right)} \\right)} + \\sin{\\left(\\theta{\\left(t \\right)} \\right)} \\cos{\\left(\\gamma{\\left(t \\right)} \\right)}\\\\\\sin{\\left(\\phi{\\left(t \\right)} \\right)} & - \\sin{\\left(\\theta{\\left(t \\right)} \\right)} \\cos{\\left(\\phi{\\left(t \\right)} \\right)} & \\cos{\\left(\\phi{\\left(t \\right)} \\right)} \\cos{\\left(\\theta{\\left(t \\right)} \\right)}\\end{matrix}\\right]$"
      ],
      "text/plain": [
       "Matrix([\n",
       "[ cos(gamma(t))*cos(phi(t)),  sin(gamma(t))*cos(theta(t)) + sin(phi(t))*sin(theta(t))*cos(gamma(t)), sin(gamma(t))*sin(theta(t)) - sin(phi(t))*cos(gamma(t))*cos(theta(t))],\n",
       "[-sin(gamma(t))*cos(phi(t)), -sin(gamma(t))*sin(phi(t))*sin(theta(t)) + cos(gamma(t))*cos(theta(t)), sin(gamma(t))*sin(phi(t))*cos(theta(t)) + sin(theta(t))*cos(gamma(t))],\n",
       "[               sin(phi(t)),                                             -sin(theta(t))*cos(phi(t)),                                             cos(phi(t))*cos(theta(t))]])"
      ]
     },
     "execution_count": 10,
     "metadata": {},
     "output_type": "execute_result"
    }
   ],
   "source": [
    "C.dcm(N)"
   ]
  },
  {
   "cell_type": "markdown",
   "metadata": {
    "slideshow": {
     "slide_type": "subslide"
    }
   },
   "source": [
    "**Velocidade Angular**"
   ]
  },
  {
   "cell_type": "code",
   "execution_count": 11,
   "metadata": {
    "slideshow": {
     "slide_type": "fragment"
    }
   },
   "outputs": [
    {
     "data": {
      "text/latex": [
       "$\\displaystyle \\dot{\\gamma}\\mathbf{\\hat{b}_z} + \\dot{\\phi}\\mathbf{\\hat{a}_y} + \\dot{\\theta}\\mathbf{\\hat{n}_x}$"
      ],
      "text/plain": [
       "theta'*N.x + phi'*A.y + gamma'*B.z"
      ]
     },
     "execution_count": 11,
     "metadata": {},
     "output_type": "execute_result"
    }
   ],
   "source": [
    "C.ang_vel_in(N)"
   ]
  },
  {
   "cell_type": "markdown",
   "metadata": {
    "slideshow": {
     "slide_type": "subslide"
    }
   },
   "source": [
    "**Aceleração Angular**"
   ]
  },
  {
   "cell_type": "code",
   "execution_count": 12,
   "metadata": {
    "slideshow": {
     "slide_type": "fragment"
    }
   },
   "outputs": [
    {
     "data": {
      "text/latex": [
       "$\\displaystyle \\dot{\\gamma} \\dot{\\phi}\\mathbf{\\hat{b}_x} -  \\operatorname{cos}\\left(\\phi\\right) \\dot{\\gamma} \\dot{\\theta}\\mathbf{\\hat{b}_y} + \\ddot{\\gamma}\\mathbf{\\hat{b}_z} + \\ddot{\\phi}\\mathbf{\\hat{a}_y} + \\dot{\\phi} \\dot{\\theta}\\mathbf{\\hat{a}_z} + \\ddot{\\theta}\\mathbf{\\hat{n}_x}$"
      ],
      "text/plain": [
       "theta''*N.x + phi''*A.y + phi'*theta'*A.z + gamma'*phi'*B.x - cos(phi)*gamma'*theta'*B.y + gamma''*B.z"
      ]
     },
     "execution_count": 12,
     "metadata": {},
     "output_type": "execute_result"
    }
   ],
   "source": [
    "C.ang_acc_in(N)"
   ]
  },
  {
   "cell_type": "markdown",
   "metadata": {
    "slideshow": {
     "slide_type": "subslide"
    }
   },
   "source": [
    "Queremos agora obter a velocidade e a aceleração do bico do helicóptero em relação ao referencial inercial. Vamos supor que a distância do bico ao centro de massa seja $L$."
   ]
  },
  {
   "cell_type": "code",
   "execution_count": 13,
   "metadata": {
    "slideshow": {
     "slide_type": "subslide"
    }
   },
   "outputs": [],
   "source": [
    "x,y,z = me.dynamicsymbols('x y z')\n",
    "L = sy.symbols('L')"
   ]
  },
  {
   "cell_type": "code",
   "execution_count": 14,
   "metadata": {
    "slideshow": {
     "slide_type": "fragment"
    }
   },
   "outputs": [],
   "source": [
    "O = me.Point('O')\n",
    "O.set_vel(N,0)"
   ]
  },
  {
   "cell_type": "code",
   "execution_count": 15,
   "metadata": {
    "slideshow": {
     "slide_type": "fragment"
    }
   },
   "outputs": [],
   "source": [
    "P = me.Point('P')\n",
    "pO_CO = x*N.x + y*N.y + z*N.z \n",
    "pPO = pO_CO + L*C.y\n",
    "P.set_pos(O,pPO)\n",
    "P.set_vel(N,pPO.dt(N))"
   ]
  },
  {
   "cell_type": "code",
   "execution_count": 16,
   "metadata": {
    "slideshow": {
     "slide_type": "fragment"
    }
   },
   "outputs": [
    {
     "data": {
      "text/latex": [
       "$\\displaystyle \\dot{x}\\mathbf{\\hat{n}_x} + \\dot{y}\\mathbf{\\hat{n}_y} + \\dot{z}\\mathbf{\\hat{n}_z} -  L \\left(\\operatorname{sin}\\left(\\phi\\right) \\dot{\\theta} + \\dot{\\gamma}\\right)\\mathbf{\\hat{c}_x} + L \\left(\\operatorname{sin}\\left(\\gamma\\right) \\dot{\\phi} + \\operatorname{cos}\\left(\\gamma\\right) \\operatorname{cos}\\left(\\phi\\right) \\dot{\\theta}\\right)\\mathbf{\\hat{c}_z}$"
      ],
      "text/plain": [
       "x'*N.x + y'*N.y + z'*N.z - L*(sin(phi)*theta' + gamma')*C.x + L*(sin(gamma)*phi' + cos(gamma)*cos(phi)*theta')*C.z"
      ]
     },
     "execution_count": 16,
     "metadata": {},
     "output_type": "execute_result"
    }
   ],
   "source": [
    "P.vel(N)"
   ]
  },
  {
   "cell_type": "code",
   "execution_count": 17,
   "metadata": {
    "slideshow": {
     "slide_type": "fragment"
    }
   },
   "outputs": [
    {
     "data": {
      "text/latex": [
       "$\\displaystyle \\ddot{x}\\mathbf{\\hat{n}_x} + \\ddot{y}\\mathbf{\\hat{n}_y} + \\ddot{z}\\mathbf{\\hat{n}_z} + (L \\left(\\operatorname{sin}\\left(\\gamma\\right) \\dot{\\phi} + \\operatorname{cos}\\left(\\gamma\\right) \\operatorname{cos}\\left(\\phi\\right) \\dot{\\theta}\\right) \\left(- \\operatorname{sin}\\left(\\gamma\\right) \\operatorname{cos}\\left(\\phi\\right) \\dot{\\theta} + \\operatorname{cos}\\left(\\gamma\\right) \\dot{\\phi}\\right) - L \\left(\\operatorname{sin}\\left(\\phi\\right) \\ddot{\\theta} + \\operatorname{cos}\\left(\\phi\\right) \\dot{\\phi} \\dot{\\theta} + \\ddot{\\gamma}\\right))\\mathbf{\\hat{c}_x} + (- L \\left(\\operatorname{sin}\\left(\\gamma\\right) \\dot{\\phi} + \\operatorname{cos}\\left(\\gamma\\right) \\operatorname{cos}\\left(\\phi\\right) \\dot{\\theta}\\right)^{2} - L \\left(\\operatorname{sin}\\left(\\phi\\right) \\dot{\\theta} + \\dot{\\gamma}\\right)^{2})\\mathbf{\\hat{c}_y} + (L \\left(\\operatorname{sin}\\left(\\phi\\right) \\dot{\\theta} + \\dot{\\gamma}\\right) \\left(- \\operatorname{sin}\\left(\\gamma\\right) \\operatorname{cos}\\left(\\phi\\right) \\dot{\\theta} + \\operatorname{cos}\\left(\\gamma\\right) \\dot{\\phi}\\right) + L \\left(- \\operatorname{sin}\\left(\\gamma\\right) \\operatorname{cos}\\left(\\phi\\right) \\dot{\\gamma} \\dot{\\theta} + \\operatorname{sin}\\left(\\gamma\\right) \\ddot{\\phi} - \\operatorname{sin}\\left(\\phi\\right) \\operatorname{cos}\\left(\\gamma\\right) \\dot{\\phi} \\dot{\\theta} + \\operatorname{cos}\\left(\\gamma\\right) \\operatorname{cos}\\left(\\phi\\right) \\ddot{\\theta} + \\operatorname{cos}\\left(\\gamma\\right) \\dot{\\gamma} \\dot{\\phi}\\right))\\mathbf{\\hat{c}_z}$"
      ],
      "text/plain": [
       "x''*N.x + y''*N.y + z''*N.z + (L*(sin(gamma)*phi' + cos(gamma)*cos(phi)*theta')*(-sin(gamma)*cos(phi)*theta' + cos(gamma)*phi') - L*(sin(phi)*theta'' + cos(phi)*phi'*theta' + gamma''))*C.x + (-L*(sin(gamma)*phi' + cos(gamma)*cos(phi)*theta')**2 - L*(sin(phi)*theta' + gamma')**2)*C.y + (L*(sin(phi)*theta' + gamma')*(-sin(gamma)*cos(phi)*theta' + cos(gamma)*phi') + L*(-sin(gamma)*cos(phi)*gamma'*theta' + sin(gamma)*phi'' - sin(phi)*cos(gamma)*phi'*theta' + cos(gamma)*cos(phi)*theta'' + cos(gamma)*gamma'*phi'))*C.z"
      ]
     },
     "execution_count": 17,
     "metadata": {},
     "output_type": "execute_result"
    }
   ],
   "source": [
    "P.acc(N)"
   ]
  },
  {
   "cell_type": "markdown",
   "metadata": {
    "slideshow": {
     "slide_type": "slide"
    }
   },
   "source": [
    "## 3.3 Restrições Cinemáticas"
   ]
  },
  {
   "cell_type": "markdown",
   "metadata": {
    "slideshow": {
     "slide_type": "subslide"
    }
   },
   "source": [
    "Em sistemas mecânicos, frequentemente os corpos (**elos**) do sistema são restringidos a se moverem de alguma forma específica para um dado fim. <br>\n",
    "Chamamos o conjunto de **elos** do sistema mecânico de **cadeia cinemática**. Basicamente podemos ter:\n",
    "* Cadeia cinemática aberta\n",
    "* Cadeia cinemática fechada"
   ]
  },
  {
   "cell_type": "markdown",
   "metadata": {
    "slideshow": {
     "slide_type": "subslide"
    }
   },
   "source": [
    "![](https://encrypted-tbn0.gstatic.com/images?q=tbn:ANd9GcTPEwD5jd0h3y0qYiG5gw-456UmpzFMFq-odg&usqp=CAU)"
   ]
  },
  {
   "cell_type": "code",
   "execution_count": 18,
   "metadata": {
    "slideshow": {
     "slide_type": "subslide"
    }
   },
   "outputs": [
    {
     "data": {
      "image/svg+xml": [
       "<svg xmlns:osb=\"http://www.openswatchbook.org/uri/2009/osb\" xmlns:dc=\"http://purl.org/dc/elements/1.1/\" xmlns:cc=\"http://creativecommons.org/ns#\" xmlns:rdf=\"http://www.w3.org/1999/02/22-rdf-syntax-ns#\" xmlns:svg=\"http://www.w3.org/2000/svg\" xmlns=\"http://www.w3.org/2000/svg\" xmlns:sodipodi=\"http://sodipodi.sourceforge.net/DTD/sodipodi-0.dtd\" xmlns:inkscape=\"http://www.inkscape.org/namespaces/inkscape\" width=\"187.1248mm\" height=\"137.60519mm\" viewBox=\"0 0 663.04064 487.57746\" id=\"svg5217\" version=\"1.1\" inkscape:version=\"1.0.1 (3bc2e813f5, 2020-09-07)\" sodipodi:docname=\"robo-pv.svg\">\n",
       "  <defs id=\"defs5219\">\n",
       "    <marker inkscape:isstock=\"true\" style=\"overflow:visible\" id=\"marker5864\" refX=\"0\" refY=\"0\" orient=\"auto\" inkscape:stockid=\"TriangleOutL\">\n",
       "      <path transform=\"scale(0.8)\" style=\"fill:#000000;fill-opacity:1;fill-rule:evenodd;stroke:#000000;stroke-width:1pt;stroke-opacity:1\" d=\"M 5.77,0 -2.88,5 V -5 Z\" id=\"path5866\"/>\n",
       "    </marker>\n",
       "    <marker inkscape:stockid=\"TriangleInL\" orient=\"auto\" refY=\"0\" refX=\"0\" id=\"marker5722\" style=\"overflow:visible\" inkscape:isstock=\"true\">\n",
       "      <path id=\"path5724\" d=\"M 5.77,0 -2.88,5 V -5 Z\" style=\"fill:#000000;fill-opacity:1;fill-rule:evenodd;stroke:#000000;stroke-width:1pt;stroke-opacity:1\" transform=\"scale(-0.8)\"/>\n",
       "    </marker>\n",
       "    <marker inkscape:stockid=\"TriangleOutL\" orient=\"auto\" refY=\"0\" refX=\"0\" id=\"marker5584\" style=\"overflow:visible\" inkscape:isstock=\"true\" inkscape:collect=\"always\">\n",
       "      <path id=\"path5586\" d=\"M 5.77,0 -2.88,5 V -5 Z\" style=\"fill:#000000;fill-opacity:1;fill-rule:evenodd;stroke:#000000;stroke-width:1pt;stroke-opacity:1\" transform=\"scale(0.8)\"/>\n",
       "    </marker>\n",
       "    <marker inkscape:isstock=\"true\" style=\"overflow:visible\" id=\"marker5454\" refX=\"0\" refY=\"0\" orient=\"auto\" inkscape:stockid=\"TriangleInL\" inkscape:collect=\"always\">\n",
       "      <path transform=\"scale(-0.8)\" style=\"fill:#000000;fill-opacity:1;fill-rule:evenodd;stroke:#000000;stroke-width:1pt;stroke-opacity:1\" d=\"M 5.77,0 -2.88,5 V -5 Z\" id=\"path5456\"/>\n",
       "    </marker>\n",
       "    <marker inkscape:isstock=\"true\" style=\"overflow:visible\" id=\"marker5326\" refX=\"0\" refY=\"0\" orient=\"auto\" inkscape:stockid=\"TriangleOutL\" inkscape:collect=\"always\">\n",
       "      <path transform=\"scale(0.8)\" style=\"fill:#000000;fill-opacity:1;fill-rule:evenodd;stroke:#000000;stroke-width:1pt;stroke-opacity:1\" d=\"M 5.77,0 -2.88,5 V -5 Z\" id=\"path5328\"/>\n",
       "    </marker>\n",
       "    <marker inkscape:stockid=\"TriangleInL\" orient=\"auto\" refY=\"0\" refX=\"0\" id=\"marker5208\" style=\"overflow:visible\" inkscape:isstock=\"true\" inkscape:collect=\"always\">\n",
       "      <path id=\"path5210\" d=\"M 5.77,0 -2.88,5 V -5 Z\" style=\"fill:#000000;fill-opacity:1;fill-rule:evenodd;stroke:#000000;stroke-width:1pt;stroke-opacity:1\" transform=\"scale(-0.8)\"/>\n",
       "    </marker>\n",
       "    <marker inkscape:stockid=\"TriangleOutL\" orient=\"auto\" refY=\"0\" refX=\"0\" id=\"marker5094\" style=\"overflow:visible\" inkscape:isstock=\"true\" inkscape:collect=\"always\">\n",
       "      <path id=\"path5096\" d=\"M 5.77,0 -2.88,5 V -5 Z\" style=\"fill:#000000;fill-opacity:1;fill-rule:evenodd;stroke:#000000;stroke-width:1pt;stroke-opacity:1\" transform=\"scale(0.8)\"/>\n",
       "    </marker>\n",
       "    <marker inkscape:isstock=\"true\" style=\"overflow:visible\" id=\"marker4988\" refX=\"0\" refY=\"0\" orient=\"auto\" inkscape:stockid=\"TriangleInL\" inkscape:collect=\"always\">\n",
       "      <path transform=\"scale(-0.8)\" style=\"fill:#000000;fill-opacity:1;fill-rule:evenodd;stroke:#000000;stroke-width:1pt;stroke-opacity:1\" d=\"M 5.77,0 -2.88,5 V -5 Z\" id=\"path4990\"/>\n",
       "    </marker>\n",
       "    <marker inkscape:isstock=\"true\" style=\"overflow:visible\" id=\"marker4886\" refX=\"0\" refY=\"0\" orient=\"auto\" inkscape:stockid=\"TriangleOutL\" inkscape:collect=\"always\">\n",
       "      <path transform=\"scale(0.8)\" style=\"fill:#000000;fill-opacity:1;fill-rule:evenodd;stroke:#000000;stroke-width:1pt;stroke-opacity:1\" d=\"M 5.77,0 -2.88,5 V -5 Z\" id=\"path4888\"/>\n",
       "    </marker>\n",
       "    <marker inkscape:stockid=\"TriangleInL\" orient=\"auto\" refY=\"0\" refX=\"0\" id=\"marker4792\" style=\"overflow:visible\" inkscape:isstock=\"true\" inkscape:collect=\"always\">\n",
       "      <path id=\"path4794\" d=\"M 5.77,0 -2.88,5 V -5 Z\" style=\"fill:#000000;fill-opacity:1;fill-rule:evenodd;stroke:#000000;stroke-width:1pt;stroke-opacity:1\" transform=\"scale(-0.8)\"/>\n",
       "    </marker>\n",
       "    <marker inkscape:isstock=\"true\" style=\"overflow:visible\" id=\"marker4702\" refX=\"0\" refY=\"0\" orient=\"auto\" inkscape:stockid=\"TriangleOutL\">\n",
       "      <path transform=\"scale(0.8)\" style=\"fill:#000000;fill-opacity:1;fill-rule:evenodd;stroke:#000000;stroke-width:1pt;stroke-opacity:1\" d=\"M 5.77,0 -2.88,5 V -5 Z\" id=\"path4704\"/>\n",
       "    </marker>\n",
       "    <marker inkscape:isstock=\"true\" style=\"overflow:visible\" id=\"marker4620\" refX=\"0\" refY=\"0\" orient=\"auto\" inkscape:stockid=\"TriangleInL\" inkscape:collect=\"always\">\n",
       "      <path transform=\"scale(-0.8)\" style=\"fill:#000000;fill-opacity:1;fill-rule:evenodd;stroke:#000000;stroke-width:1pt;stroke-opacity:1\" d=\"M 5.77,0 -2.88,5 V -5 Z\" id=\"path4622\"/>\n",
       "    </marker>\n",
       "    <linearGradient id=\"linearGradient4260\" osb:paint=\"solid\">\n",
       "      <stop style=\"stop-color:#800080;stop-opacity:1;\" offset=\"0\" id=\"stop4262\"/>\n",
       "    </linearGradient>\n",
       "    <marker inkscape:stockid=\"TriangleOutL\" orient=\"auto\" refY=\"0\" refX=\"0\" id=\"marker9112\" style=\"overflow:visible\" inkscape:isstock=\"true\" inkscape:collect=\"always\">\n",
       "      <path id=\"path9114\" d=\"M 5.77,0 -2.88,5 V -5 Z\" style=\"fill:#000000;fill-opacity:1;fill-rule:evenodd;stroke:#000000;stroke-width:1pt;stroke-opacity:1\" transform=\"scale(0.8)\"/>\n",
       "    </marker>\n",
       "    <marker inkscape:stockid=\"TriangleInL\" orient=\"auto\" refY=\"0\" refX=\"0\" id=\"marker9042\" style=\"overflow:visible\" inkscape:isstock=\"true\" inkscape:collect=\"always\">\n",
       "      <path id=\"path9044\" d=\"M 5.77,0 -2.88,5 V -5 Z\" style=\"fill:#000000;fill-opacity:1;fill-rule:evenodd;stroke:#000000;stroke-width:1pt;stroke-opacity:1\" transform=\"scale(-0.8)\"/>\n",
       "    </marker>\n",
       "    <marker inkscape:stockid=\"TriangleOutL\" orient=\"auto\" refY=\"0\" refX=\"0\" id=\"marker8976\" style=\"overflow:visible\" inkscape:isstock=\"true\">\n",
       "      <path id=\"path8978\" d=\"M 5.77,0 -2.88,5 V -5 Z\" style=\"fill:#000000;fill-opacity:1;fill-rule:evenodd;stroke:#000000;stroke-width:1pt;stroke-opacity:1\" transform=\"scale(0.8)\"/>\n",
       "    </marker>\n",
       "    <marker inkscape:stockid=\"TriangleInL\" orient=\"auto\" refY=\"0\" refX=\"0\" id=\"marker8918\" style=\"overflow:visible\" inkscape:isstock=\"true\">\n",
       "      <path id=\"path8920\" d=\"M 5.77,0 -2.88,5 V -5 Z\" style=\"fill:#000000;fill-opacity:1;fill-rule:evenodd;stroke:#000000;stroke-width:1pt;stroke-opacity:1\" transform=\"scale(-0.8)\"/>\n",
       "    </marker>\n",
       "    <marker inkscape:isstock=\"true\" style=\"overflow:visible\" id=\"marker7084\" refX=\"0\" refY=\"0\" orient=\"auto\" inkscape:stockid=\"TriangleOutL\" inkscape:collect=\"always\">\n",
       "      <path transform=\"scale(0.8)\" style=\"fill:#000000;fill-opacity:1;fill-rule:evenodd;stroke:#000000;stroke-width:1pt;stroke-opacity:1\" d=\"M 5.77,0 -2.88,5 V -5 Z\" id=\"path7086\"/>\n",
       "    </marker>\n",
       "    <marker inkscape:isstock=\"true\" style=\"overflow:visible\" id=\"marker7056\" refX=\"0\" refY=\"0\" orient=\"auto\" inkscape:stockid=\"TriangleInL\" inkscape:collect=\"always\">\n",
       "      <path transform=\"scale(-0.8)\" style=\"fill:#000000;fill-opacity:1;fill-rule:evenodd;stroke:#000000;stroke-width:1pt;stroke-opacity:1\" d=\"M 5.77,0 -2.88,5 V -5 Z\" id=\"path7058\"/>\n",
       "    </marker>\n",
       "    <marker inkscape:stockid=\"TriangleOutL\" orient=\"auto\" refY=\"0\" refX=\"0\" id=\"TriangleOutL\" style=\"overflow:visible\" inkscape:isstock=\"true\" inkscape:collect=\"always\">\n",
       "      <path id=\"path6096\" d=\"M 5.77,0 -2.88,5 V -5 Z\" style=\"fill:#000000;fill-opacity:1;fill-rule:evenodd;stroke:#000000;stroke-width:1pt;stroke-opacity:1\" transform=\"scale(0.8)\"/>\n",
       "    </marker>\n",
       "    <marker inkscape:stockid=\"TriangleInL\" orient=\"auto\" refY=\"0\" refX=\"0\" id=\"TriangleInL\" style=\"overflow:visible\" inkscape:isstock=\"true\" inkscape:collect=\"always\">\n",
       "      <path id=\"path6087\" d=\"M 5.77,0 -2.88,5 V -5 Z\" style=\"fill:#000000;fill-opacity:1;fill-rule:evenodd;stroke:#000000;stroke-width:1pt;stroke-opacity:1\" transform=\"scale(-0.8)\"/>\n",
       "    </marker>\n",
       "    <inkscape:perspective sodipodi:type=\"inkscape:persp3d\" inkscape:vp_x=\"-14.931397 : 145.64698 : 1\" inkscape:vp_y=\"0 : 654.78273 : 0\" inkscape:vp_z=\"545.04363 : 145.64698 : 1\" inkscape:persp3d-origin=\"265.05612 : 30.802217 : 1\" id=\"perspective5914\"/>\n",
       "  </defs>\n",
       "  <sodipodi:namedview id=\"base\" pagecolor=\"#ffffff\" bordercolor=\"#666666\" borderopacity=\"1.0\" inkscape:pageopacity=\"0.0\" inkscape:pageshadow=\"2\" inkscape:zoom=\"1.4980205\" inkscape:cx=\"286.15501\" inkscape:cy=\"110.46968\" inkscape:document-units=\"px\" inkscape:current-layer=\"layer1\" showgrid=\"false\" inkscape:window-width=\"1920\" inkscape:window-height=\"1017\" inkscape:window-x=\"-8\" inkscape:window-y=\"-8\" inkscape:window-maximized=\"1\" inkscape:snap-bbox=\"true\" showguides=\"false\" inkscape:document-rotation=\"0\"/>\n",
       "  <metadata id=\"metadata5222\">\n",
       "    <rdf:RDF>\n",
       "      <cc:Work rdf:about=\"\">\n",
       "        <dc:format>image/svg+xml</dc:format>\n",
       "        <dc:type rdf:resource=\"http://purl.org/dc/dcmitype/StillImage\"/>\n",
       "        <dc:title/>\n",
       "      </cc:Work>\n",
       "    </rdf:RDF>\n",
       "  </metadata>\n",
       "  <g inkscape:label=\"Camada 1\" inkscape:groupmode=\"layer\" id=\"layer1\" transform=\"translate(-134.34708,-94.206875)\">\n",
       "    <ellipse ry=\"10.766929\" rx=\"14.152756\" cy=\"472.79633\" cx=\"488.97369\" id=\"ellipse4568\" style=\"fill:#ffffff;fill-opacity:1;stroke:#1a1a1a;stroke-width:1.41732;stroke-miterlimit:4;stroke-dasharray:none;stroke-opacity:0.980392\"/>\n",
       "    <g id=\"g4592\" transform=\"translate(-32.03489,-32.658647)\" style=\"stroke-width:1.41732;stroke-miterlimit:4;stroke-dasharray:none\">\n",
       "      <ellipse style=\"fill:#ffffff;fill-opacity:1;stroke:#1a1a1a;stroke-width:1.41732;stroke-miterlimit:4;stroke-dasharray:none;stroke-opacity:0.980392\" id=\"ellipse4594\" cx=\"596.99731\" cy=\"375.8815\" rx=\"14.152756\" ry=\"10.766929\"/>\n",
       "      <path style=\"fill:none;fill-rule:evenodd;stroke:#000000;stroke-width:1.41732;stroke-linecap:butt;stroke-linejoin:miter;stroke-miterlimit:4;stroke-dasharray:none;stroke-opacity:1\" d=\"m 582.25511,375.10757 -6.89512,24.13295 21.83456,7.27819 23.36682,-9.19351 -9.1935,-23.36681\" id=\"path4596\" inkscape:connector-curvature=\"0\"/>\n",
       "    </g>\n",
       "    <path style=\"fill:none;fill-rule:evenodd;stroke:#000000;stroke-width:1.41732;stroke-linecap:butt;stroke-linejoin:miter;stroke-miterlimit:4;stroke-dasharray:none;stroke-opacity:1\" d=\"M 135.93923,423.36773 422.51381,566.65502 795.79558,382.21856 509.22099,238.93127 Z\" id=\"path4514\" inkscape:connector-curvature=\"0\"/>\n",
       "    <path inkscape:connector-curvature=\"0\" id=\"path9386\" d=\"m 349.27376,292.54621 v -62.9206\" style=\"fill:none;fill-rule:evenodd;stroke:#000000;stroke-width:1.41732;stroke-linecap:butt;stroke-linejoin:miter;stroke-miterlimit:4;stroke-dasharray:11.3386, 2.83465, 1.41732, 2.83465;stroke-dashoffset:0;stroke-opacity:1\"/>\n",
       "    <path style=\"fill:none;fill-rule:evenodd;stroke:#000000;stroke-width:1.41732;stroke-linecap:butt;stroke-linejoin:round;stroke-miterlimit:4;stroke-dasharray:none;stroke-opacity:1\" d=\"m 333.15295,196.16627 v 8.72035 c 2.22876,8.63953 15.1473,10.52105 19.22036,8.72035 l 17.79663,-7.29662 v 22.06782 l -13.70341,5.69492 c -10.92027,-1.25588 -19.2372,-3.74493 -21.17799,-9.25425 l 0.35593,8.54239 c 19.31459,9.57489 15.28332,7.29219 21.54657,7.79627 l 92.49931,-37.06432 c 2.88142,-2.11946 3.79916,-9.44196 3.50087,-13.53284 l 0.17798,-34.08056 c 0.7878,5.5433 -0.39802,9.92645 -5.60595,13.16951 l -94.67808,35.41529 z\" id=\"path5845\" inkscape:connector-curvature=\"0\" sodipodi:nodetypes=\"ccccccccccccccc\"/>\n",
       "    <path style=\"fill:#ffffff;fill-rule:evenodd;stroke:#000000;stroke-width:1.41732;stroke-linecap:butt;stroke-linejoin:round;stroke-miterlimit:4;stroke-dasharray:none;stroke-opacity:1\" d=\"m 352.79732,205.13033 95.13594,-35.7389 c 5.54838,-3.42443 6.08717,-8.28016 5.03364,-13.59085 -2.97128,-4.60626 -8.77994,-7.94957 -14.59757,-6.54374 l -96.64604,35.23553 c -4.03208,1.88336 -9.27129,5.0108 -8.62459,11.09562 3.36383,7.49016 15.31384,10.66028 19.69862,9.54234 z\" id=\"path5843\" inkscape:connector-curvature=\"0\" sodipodi:nodetypes=\"ccccccc\"/>\n",
       "    <path style=\"fill:#ffffff;fill-rule:evenodd;stroke:#000000;stroke-width:1.41732;stroke-linecap:butt;stroke-linejoin:round;stroke-miterlimit:4;stroke-dasharray:none;stroke-opacity:1\" d=\"m 367.21458,207.69423 -0.71187,22.06782 -65.96973,58.99512 -0.12584,-21.93828 z\" id=\"path5863\" inkscape:connector-curvature=\"0\" sodipodi:nodetypes=\"ccccc\"/>\n",
       "    <path style=\"fill:#ffffff;fill-rule:evenodd;stroke:#000000;stroke-width:1.41732;stroke-linecap:butt;stroke-linejoin:round;stroke-miterlimit:4;stroke-dasharray:none;stroke-opacity:1\" d=\"m 300.40714,266.81889 -21.35595,-11.38984 54.10176,-49.1187 c 4.44433,4.84198 9.38858,8.9341 18.50849,6.76272 l 15.19722,-5.15141 z\" id=\"path5865\" inkscape:connector-curvature=\"0\" sodipodi:nodetypes=\"cccccc\"/>\n",
       "    <path style=\"fill:#ffffff;fill-rule:evenodd;stroke:#000000;stroke-width:1.41732;stroke-linecap:butt;stroke-linejoin:round;stroke-miterlimit:4;stroke-dasharray:none;stroke-opacity:1\" d=\"m 282.69032,259.99708 14.59757,7.42463 -45.80619,43.79273 -15.10094,-7.0471 z\" id=\"path5869\" inkscape:connector-curvature=\"0\" sodipodi:nodetypes=\"ccccc\"/>\n",
       "    <path style=\"fill:#ffffff;fill-rule:evenodd;stroke:#000000;stroke-width:1.41732;stroke-linecap:butt;stroke-linejoin:round;stroke-miterlimit:4;stroke-dasharray:none;stroke-opacity:1\" d=\"m 297.41373,267.54755 1e-5,17.7436 -45.80619,42.91185 -0.12586,-17.49192 z\" id=\"path5871\" inkscape:connector-curvature=\"0\" sodipodi:nodetypes=\"ccccc\"/>\n",
       "    <path style=\"fill:none;fill-rule:evenodd;stroke:#000000;stroke-width:1.41732;stroke-linecap:butt;stroke-linejoin:miter;stroke-miterlimit:4;stroke-dasharray:none;stroke-opacity:1\" d=\"m 278.9622,255.60701 v 7.83052\" id=\"path5877\" inkscape:connector-curvature=\"0\"/>\n",
       "    <path style=\"fill:none;fill-rule:evenodd;stroke:#000000;stroke-width:1.41732;stroke-linecap:butt;stroke-linejoin:miter;stroke-miterlimit:4;stroke-dasharray:none;stroke-opacity:1\" d=\"m 300.31816,288.79773 -4.09322,-2.93644\" id=\"path5879\" inkscape:connector-curvature=\"0\"/>\n",
       "    <path style=\"fill:#ffffff;fill-opacity:1;stroke:#000000;stroke-width:1.41732;stroke-linecap:round;stroke-linejoin:round;stroke-miterlimit:4;stroke-dasharray:none;stroke-opacity:0.980392\" d=\"m 231.85518,302.36454 c -2.55525,-0.0364 -5.00668,0.922 -7.3586,2.92647 -4.25731,3.62789 -5.28331,8.46844 -2.75725,11.43219 0.66565,0.77409 1.21922,1.33187 2.2592,2.13813 l 19.02539,11.31445 13.10352,-16.48633 -19.50391,-9.76562 c -1.65915,-0.86533 -2.76356,-1.39952 -4.76835,-1.55929 z\" id=\"ellipse5885\" inkscape:connector-curvature=\"0\" sodipodi:nodetypes=\"cccccccc\"/>\n",
       "    <ellipse style=\"fill:#ffffff;fill-opacity:1;stroke:#000000;stroke-width:1.41732;stroke-linecap:round;stroke-linejoin:round;stroke-miterlimit:4;stroke-dasharray:none;stroke-opacity:0.980392\" id=\"path5883\" transform=\"rotate(49.561753)\" ry=\"10.904187\" rx=\"8.2782822\" cy=\"18.844172\" cx=\"407.8728\"/>\n",
       "    <path style=\"fill:none;fill-rule:evenodd;stroke:#000000;stroke-width:1.41732;stroke-linecap:butt;stroke-linejoin:miter;stroke-miterlimit:4;stroke-dasharray:none;stroke-opacity:1\" d=\"m 231.00028,322.52235 v 61.22041 h 1.6017 v -59.61871\" id=\"path5892\" inkscape:connector-curvature=\"0\"/>\n",
       "    <path style=\"fill:#ffffff;fill-opacity:1;stroke:#000000;stroke-width:1.41732;stroke-linecap:round;stroke-linejoin:round;stroke-miterlimit:4;stroke-dasharray:none;stroke-opacity:0.980392\" id=\"path5938\" sodipodi:type=\"arc\" sodipodi:cx=\"230.98306\" sodipodi:cy=\"409.99979\" sodipodi:rx=\"29.195156\" sodipodi:ry=\"28.691792\" sodipodi:start=\"6.194163\" sodipodi:end=\"6.1469142\" d=\"m 260.06261,407.44895 a 29.195156,28.691792 0 0 1 -26.14065,31.09689 29.195156,28.691792 0 0 1 -31.94902,-25.32085 29.195156,28.691792 0 0 1 25.3859,-31.69506 29.195156,28.691792 0 0 1 32.54872,24.57208 l -28.9245,3.89778 z\" sodipodi:arc-type=\"slice\"/>\n",
       "    <path style=\"fill:none;fill-rule:evenodd;stroke:#000000;stroke-width:1.41732;stroke-linecap:butt;stroke-linejoin:miter;stroke-miterlimit:4;stroke-dasharray:none;stroke-opacity:1\" d=\"m 227.88587,321.1876 c 1.28548,-7.24111 4.8905,-12.6266 12.10171,-15.12713\" id=\"path5940\" inkscape:connector-curvature=\"0\" sodipodi:nodetypes=\"cc\"/>\n",
       "    <path style=\"fill:none;fill-rule:evenodd;stroke:#000000;stroke-width:1.41732;stroke-linecap:butt;stroke-linejoin:miter;stroke-miterlimit:4;stroke-dasharray:none;stroke-opacity:1\" d=\"m 229.22062,322.16642 c 1.83191,-7.42876 5.85341,-12.76745 12.90256,-15.21612\" id=\"path5942\" inkscape:connector-curvature=\"0\" sodipodi:nodetypes=\"cc\"/>\n",
       "    <path style=\"fill:none;fill-rule:evenodd;stroke:#000000;stroke-width:1.41732;stroke-linecap:butt;stroke-linejoin:miter;stroke-miterlimit:4;stroke-dasharray:none;stroke-opacity:1\" d=\"m 231.26723,322.96726 c 1.29956,-7.015 4.93993,-12.40034 12.36866,-15.12713\" id=\"path5944\" inkscape:connector-curvature=\"0\" sodipodi:nodetypes=\"cc\"/>\n",
       "    <path style=\"fill:none;fill-rule:evenodd;stroke:#000000;stroke-width:1.41732;stroke-linecap:butt;stroke-linejoin:miter;stroke-miterlimit:4;stroke-dasharray:none;stroke-opacity:1\" d=\"m 233.58079,324.56897 c 1.94517,-9.20093 7.10153,-13.82391 13.08052,-15.48307\" id=\"path5946\" inkscape:connector-curvature=\"0\" sodipodi:nodetypes=\"cc\"/>\n",
       "    <path sodipodi:nodetypes=\"cc\" inkscape:connector-curvature=\"0\" id=\"path7054\" d=\"m 377.82209,175.20542 c -9.06646,-29.28021 -80.98084,-5.59992 -57.59003,32.59052\" style=\"fill:none;fill-rule:evenodd;stroke:#000000;stroke-width:1.41732;stroke-linecap:butt;stroke-linejoin:miter;stroke-miterlimit:4;stroke-dasharray:none;stroke-opacity:1;marker-start:url(#marker7056);marker-end:url(#marker7084)\"/>\n",
       "    <path style=\"fill:none;fill-rule:evenodd;stroke:#000000;stroke-width:1.41732;stroke-linecap:butt;stroke-linejoin:miter;stroke-miterlimit:4;stroke-dasharray:11.3386, 2.83465, 1.41732, 2.83465;stroke-dashoffset:0;stroke-opacity:1\" d=\"m 349.27376,192.54621 v -62.9206\" id=\"path8906\" inkscape:connector-curvature=\"0\"/>\n",
       "    <path inkscape:connector-curvature=\"0\" id=\"path8908\" d=\"M 439.20333,157.12748 V 94.206875\" style=\"fill:none;fill-rule:evenodd;stroke:#000000;stroke-width:1.41732;stroke-linecap:butt;stroke-linejoin:miter;stroke-miterlimit:4;stroke-dasharray:11.3386, 2.83465, 1.41732, 2.83465;stroke-dashoffset:0;stroke-opacity:1\"/>\n",
       "    <path style=\"fill:none;fill-rule:evenodd;stroke:#000000;stroke-width:1.41732;stroke-linecap:butt;stroke-linejoin:miter;stroke-miterlimit:4;stroke-dasharray:none;stroke-opacity:1;marker-start:url(#marker8918);marker-end:url(#marker8976)\" d=\"m 230.98305,288.68887 32.71871,-32.7187\" id=\"path8910\" inkscape:connector-curvature=\"0\"/>\n",
       "    <path style=\"fill:none;fill-rule:evenodd;stroke:#000000;stroke-width:1.41732;stroke-linecap:butt;stroke-linejoin:miter;stroke-miterlimit:4;stroke-dasharray:none;stroke-opacity:1;marker-start:url(#marker9042);marker-end:url(#marker9112)\" d=\"m 212.86192,329.96478 v 43.79274\" id=\"path9034\" inkscape:connector-curvature=\"0\"/>\n",
       "    <path style=\"fill:none;fill-rule:evenodd;stroke:#000000;stroke-width:1.41732;stroke-linecap:butt;stroke-linejoin:miter;stroke-miterlimit:4;stroke-dasharray:none;stroke-opacity:1\" d=\"m 332.97046,337.29449 -1.81951,11.82682 58.22434,29.11217 138.28282,-23.65364 38.20972,-40.02923 -0.90975,-12.73658\" id=\"path4246\" inkscape:connector-curvature=\"0\"/>\n",
       "    <path style=\"fill:#ffffff;fill-rule:evenodd;stroke:#000000;stroke-width:1.41732;stroke-linecap:butt;stroke-linejoin:miter;stroke-miterlimit:4;stroke-dasharray:none;stroke-opacity:1\" d=\"m 402.22266,275.65171 -69.2522,61.64278 55.49508,26.38291 137.37306,-21.83413 38.20972,-38.20973 -81.87798,-44.57801 -80.05847,16.3756\" id=\"path4244\" inkscape:connector-curvature=\"0\" sodipodi:nodetypes=\"ccccccc\"/>\n",
       "    <path sodipodi:nodetypes=\"ccccc\" inkscape:connector-curvature=\"0\" id=\"path5902\" d=\"m 448.91108,204.03907 0.50336,97.96766 c -1.30218,3.77918 -5.45223,6.88771 -10.44002,7.88686 -4.70335,0.50255 -11.26198,-0.83407 -14.91428,-4.73388 l 1.65519,-91.68788\" style=\"fill:#ffffff;fill-rule:evenodd;stroke:#000000;stroke-width:1.41732;stroke-linecap:butt;stroke-linejoin:miter;stroke-miterlimit:4;stroke-dasharray:none;stroke-opacity:1\"/>\n",
       "    <path style=\"fill:none;fill-rule:evenodd;stroke:#000000;stroke-width:1.41732;stroke-linecap:butt;stroke-linejoin:miter;stroke-miterlimit:4;stroke-dasharray:none;stroke-opacity:1;marker-start:url(#TriangleInL);marker-end:url(#TriangleOutL)\" d=\"m 406.39825,252.11598 c 13.80419,19.5117 56.86925,6.74502 61.4105,-26.17497\" id=\"path5948\" inkscape:connector-curvature=\"0\" sodipodi:nodetypes=\"cc\"/>\n",
       "    <path style=\"fill:none;fill-rule:evenodd;stroke:#000000;stroke-width:1.41732;stroke-linecap:butt;stroke-linejoin:miter;stroke-miterlimit:4;stroke-dasharray:none;stroke-opacity:1\" d=\"m 388.46554,363.6774 0.90975,13.64633\" id=\"path4250\" inkscape:connector-curvature=\"0\"/>\n",
       "    <path style=\"fill:none;fill-rule:evenodd;stroke:#000000;stroke-width:1.41732;stroke-linecap:butt;stroke-linejoin:miter;stroke-miterlimit:4;stroke-dasharray:none;stroke-opacity:1\" d=\"m 524.92884,341.84327 4.54878,14.55608\" id=\"path4252\" inkscape:connector-curvature=\"0\"/>\n",
       "    <ellipse style=\"fill:#ffffff;fill-opacity:1;stroke:#1a1a1a;stroke-width:1.41732;stroke-miterlimit:4;stroke-dasharray:none;stroke-opacity:0.980392\" id=\"path4556\" cx=\"419.63934\" cy=\"484.28821\" rx=\"14.152756\" ry=\"10.766929\"/>\n",
       "    <path style=\"fill:#ffffff;fill-rule:evenodd;stroke:#000000;stroke-width:1.41732;stroke-linecap:butt;stroke-linejoin:miter;stroke-miterlimit:4;stroke-dasharray:none;stroke-opacity:1\" d=\"m 391.25009,439.07651 18.2303,42.53735 c 6.38839,6.27984 12.77678,5.24162 19.16517,-0.93489 L 411.8176,437.20674\" id=\"path4314\" inkscape:connector-curvature=\"0\" sodipodi:nodetypes=\"cccc\"/>\n",
       "    <ellipse style=\"fill:none;fill-opacity:1;stroke:#1a1a1a;stroke-width:1.41732;stroke-miterlimit:4;stroke-dasharray:none;stroke-opacity:0.980392\" id=\"path4258\" cx=\"401.53384\" cy=\"437.67416\" rx=\"10.283754\" ry=\"4.2069902\"/>\n",
       "    <path style=\"fill:#ffffff;fill-rule:evenodd;stroke:#000000;stroke-width:1.41732;stroke-linecap:butt;stroke-linejoin:miter;stroke-miterlimit:4;stroke-dasharray:none;stroke-opacity:1\" d=\"m 367.54117,367.31642 27.29266,70.05116 c 4.85203,5.96358 8.30172,2.11951 13.15375,0.8595 l -25.89033,-63.63262 z\" id=\"path4254\" inkscape:connector-curvature=\"0\" sodipodi:nodetypes=\"ccccc\"/>\n",
       "    <ellipse style=\"fill:#ffffff;fill-opacity:1;stroke:#1a1a1a;stroke-width:1.41732;stroke-miterlimit:4;stroke-dasharray:none;stroke-opacity:0.980392\" id=\"path4334\" cx=\"498.06088\" cy=\"427.85785\" rx=\"10.159333\" ry=\"4.3162918\"/>\n",
       "    <path style=\"fill:#ffffff;fill-rule:evenodd;stroke:#000000;stroke-width:1.41732;stroke-linecap:butt;stroke-linejoin:miter;stroke-miterlimit:4;stroke-dasharray:none;stroke-opacity:1\" d=\"m 508.11093,358.67625 -14.95818,67.77929 c 1.75963,2.84764 4.79335,3.9965 10.28375,1.86978 l 15.89308,-71.51884 z\" id=\"path4332\" inkscape:connector-curvature=\"0\" sodipodi:nodetypes=\"ccccc\"/>\n",
       "    <path style=\"fill:#ffffff;fill-rule:evenodd;stroke:#000000;stroke-width:1.41732;stroke-linecap:butt;stroke-linejoin:miter;stroke-miterlimit:4;stroke-dasharray:none;stroke-opacity:1\" d=\"m 488.47831,428.32532 -8.88142,43.00479 c 6.23258,4.59873 12.46515,5.06122 18.69773,0.93488 l 9.34887,-43.00479 c -6.8614,2.99939 -13.53586,4.69026 -19.16518,-0.93488 z\" id=\"path4336\" inkscape:connector-curvature=\"0\" sodipodi:nodetypes=\"ccccc\"/>\n",
       "    <g id=\"g4588\" style=\"stroke-width:1.41732;stroke-miterlimit:4;stroke-dasharray:none\">\n",
       "      <ellipse ry=\"10.766929\" rx=\"14.152756\" cy=\"375.8815\" cx=\"596.99731\" id=\"ellipse4576\" style=\"fill:#ffffff;fill-opacity:1;stroke:#1a1a1a;stroke-width:1.41732;stroke-miterlimit:4;stroke-dasharray:none;stroke-opacity:0.980392\"/>\n",
       "      <path inkscape:connector-curvature=\"0\" id=\"path4582\" d=\"m 582.25511,375.10757 -6.89512,24.13295 21.83456,7.27819 23.36682,-9.19351 -9.1935,-23.36681\" style=\"fill:none;fill-rule:evenodd;stroke:#000000;stroke-width:1.41732;stroke-linecap:butt;stroke-linejoin:miter;stroke-miterlimit:4;stroke-dasharray:none;stroke-opacity:1\"/>\n",
       "    </g>\n",
       "    <path style=\"fill:#ffffff;fill-rule:evenodd;stroke:#000000;stroke-width:1.41732;stroke-linecap:butt;stroke-linejoin:miter;stroke-miterlimit:4;stroke-dasharray:none;stroke-opacity:1\" d=\"m 574.02045,359.1437 16.82796,17.76285 c 8.05657,1.66818 12.66512,-0.11167 14.49074,-4.67444 l -15.42563,-19.63262 c -2.91589,10.91468 -9.30967,9.07709 -15.89307,6.54421 z\" id=\"path4342\" inkscape:connector-curvature=\"0\" sodipodi:nodetypes=\"ccccc\"/>\n",
       "    <path style=\"fill:#ffffff;fill-rule:evenodd;stroke:#000000;stroke-width:1.41732;stroke-linecap:butt;stroke-linejoin:miter;stroke-miterlimit:4;stroke-dasharray:none;stroke-opacity:1\" d=\"m 548.31106,332.96687 12.62097,13.08841 c 4.47695,1.98392 6.22061,1.23454 7.01166,-0.46744 l -14.9437,-17.35505 z\" id=\"path4348\" inkscape:connector-curvature=\"0\" sodipodi:nodetypes=\"ccccc\"/>\n",
       "    <g transform=\"translate(-283.01097,-4.6867538)\" id=\"g4604\" style=\"stroke-width:1.41732;stroke-miterlimit:4;stroke-dasharray:none\">\n",
       "      <ellipse ry=\"10.766929\" rx=\"14.152756\" cy=\"375.8815\" cx=\"596.99731\" id=\"ellipse4606\" style=\"fill:#ffffff;fill-opacity:1;stroke:#1a1a1a;stroke-width:1.41732;stroke-miterlimit:4;stroke-dasharray:none;stroke-opacity:0.980392\"/>\n",
       "      <path inkscape:connector-curvature=\"0\" id=\"path4608\" d=\"m 582.25511,375.10757 -6.89512,24.13295 21.83456,7.27819 23.36682,-9.19351 -9.1935,-23.36681\" style=\"fill:none;fill-rule:evenodd;stroke:#000000;stroke-width:1.41732;stroke-linecap:butt;stroke-linejoin:miter;stroke-miterlimit:4;stroke-dasharray:none;stroke-opacity:1\"/>\n",
       "    </g>\n",
       "    <path style=\"fill:none;fill-rule:evenodd;stroke:#000000;stroke-width:1.41732;stroke-linecap:butt;stroke-linejoin:miter;stroke-miterlimit:4;stroke-dasharray:none;stroke-opacity:1\" d=\"m 293.72127,386.34214 c 4.14998,-1.24812 7.17444,-0.24521 9.82219,1.51111 3.46938,2.36571 3.52326,5.20241 4.34443,7.9333\" id=\"path4364\" inkscape:connector-curvature=\"0\" sodipodi:nodetypes=\"ccc\"/>\n",
       "    <path style=\"fill:#ffffff;fill-rule:evenodd;stroke:#000000;stroke-width:1.41732;stroke-linecap:butt;stroke-linejoin:miter;stroke-miterlimit:4;stroke-dasharray:none;stroke-opacity:1\" d=\"m 341.2241,354.18116 -46.74433,35.52569 c 1.52491,2.16389 2.56635,4.39685 7.47909,6.07677 l 48.61411,-36.92803 z\" id=\"path4354\" inkscape:connector-curvature=\"0\" sodipodi:nodetypes=\"ccccc\"/>\n",
       "    <g id=\"g4598\" transform=\"translate(-319.67325,33.70468)\" style=\"stroke-width:1.41732;stroke-miterlimit:4;stroke-dasharray:none\">\n",
       "      <ellipse style=\"fill:#ffffff;fill-opacity:1;stroke:#1a1a1a;stroke-width:1.41732;stroke-miterlimit:4;stroke-dasharray:none;stroke-opacity:0.980392\" id=\"ellipse4600\" cx=\"596.99731\" cy=\"375.8815\" rx=\"14.152756\" ry=\"10.766929\"/>\n",
       "      <path style=\"fill:none;fill-rule:evenodd;stroke:#000000;stroke-width:1.41732;stroke-linecap:butt;stroke-linejoin:miter;stroke-miterlimit:4;stroke-dasharray:none;stroke-opacity:1\" d=\"m 582.25511,375.10757 -6.89512,24.13295 21.83456,7.27819 23.36682,-9.19351 -9.1935,-23.36681\" id=\"path4602\" inkscape:connector-curvature=\"0\"/>\n",
       "    </g>\n",
       "    <path style=\"fill:#ffffff;fill-rule:evenodd;stroke:#000000;stroke-width:1.41732;stroke-linecap:butt;stroke-linejoin:miter;stroke-miterlimit:4;stroke-dasharray:none;stroke-opacity:1\" d=\"m 293.53238,386.71992 -25.6888,18.51105 c -0.09,3.9637 1.6034,6.73845 4.53332,8.68886 3.72651,2.47457 6.96553,1.53666 10.19996,0.56666 l 25.49992,-19.07771 c -3.57287,0.73207 -7.08188,1.96339 -11.14441,-1.13333 -3.29544,-1.90076 -3.58603,-4.66006 -3.39999,-7.55553 z\" id=\"path4360\" inkscape:connector-curvature=\"0\" sodipodi:nodetypes=\"ccccccc\"/>\n",
       "    <path style=\"fill:#ffffff;fill-rule:evenodd;stroke:#000000;stroke-width:1.41732;stroke-linecap:butt;stroke-linejoin:miter;stroke-miterlimit:4;stroke-dasharray:none;stroke-opacity:1\" d=\"m 332.25448,342.89784 -23.42215,23.23325 c 0.40953,2.89123 -0.48081,4.63454 8.1222,7.36665 l 24.32212,-19.62324 -10.15601,-4.55269 z\" id=\"path4366\" inkscape:connector-curvature=\"0\" sodipodi:nodetypes=\"ccc\"/>\n",
       "    <path style=\"fill:none;fill-rule:evenodd;stroke:#000000;stroke-width:1.41732;stroke-linecap:butt;stroke-linejoin:miter;stroke-miterlimit:4;stroke-dasharray:none;stroke-opacity:1\" d=\"m 422.51381,565.92022 0.73481,14.69613 -288.0442,-141.81768 0.73481,-16.16575\" id=\"path4516\" inkscape:connector-curvature=\"0\"/>\n",
       "    <path style=\"fill:none;fill-rule:evenodd;stroke:#000000;stroke-width:1.41732;stroke-linecap:butt;stroke-linejoin:miter;stroke-miterlimit:4;stroke-dasharray:none;stroke-opacity:1\" d=\"M 422.51381,580.61635 796.53039,396.17988 795.79558,382.95336\" id=\"path4518\" inkscape:connector-curvature=\"0\"/>\n",
       "    <path style=\"fill:none;fill-rule:evenodd;stroke:#000000;stroke-width:1.41732;stroke-linecap:butt;stroke-linejoin:miter;stroke-miterlimit:4;stroke-dasharray:none;stroke-opacity:1\" d=\"m 474.23146,472.78853 -6.89512,24.13295 21.83456,7.27819 23.36682,-9.19351 -9.1935,-23.36681\" id=\"path4570\" inkscape:connector-curvature=\"0\"/>\n",
       "    <path inkscape:connector-curvature=\"0\" id=\"path4580\" d=\"m 405.66326,483.89734 -6.89512,24.13295 21.83456,7.27819 23.36682,-9.19351 -9.1935,-23.36681\" style=\"fill:none;fill-rule:evenodd;stroke:#000000;stroke-width:1.41732;stroke-linecap:butt;stroke-linejoin:miter;stroke-miterlimit:4;stroke-dasharray:none;stroke-opacity:1\"/>\n",
       "    <path style=\"fill:#ffffff;fill-rule:evenodd;stroke:#000000;stroke-width:1.41732;stroke-linecap:butt;stroke-linejoin:miter;stroke-miterlimit:4;stroke-dasharray:none;stroke-opacity:1\" d=\"m 573.88232,359.15576 c 1.62683,2.16996 7.16611,3.05426 11.68208,1.46026 2.28646,-1.65853 6.10923,-6.39528 4.58939,-8.65726 -1.77982,-2.6489 -9.82976,-1.10239 -10.84765,-0.10431 -1.2742,0.6649 -6.36877,4.41593 -5.42382,7.30131 z\" id=\"path4610\" inkscape:connector-curvature=\"0\" sodipodi:nodetypes=\"ccscc\"/>\n",
       "    <path style=\"fill:#ffffff;fill-rule:evenodd;stroke:#000000;stroke-width:1.41732;stroke-linecap:butt;stroke-linejoin:miter;stroke-miterlimit:4;stroke-dasharray:none;stroke-opacity:1\" d=\"m 552.99999,328.23279 24.55343,28.24195 c 1.60778,1.18084 2.80106,0.64699 7.31118,-2.48288 l -26.60304,-31.23769 z\" id=\"path4338\" inkscape:connector-curvature=\"0\" sodipodi:nodetypes=\"ccccc\"/>\n",
       "    <path style=\"fill:none;fill-rule:evenodd;stroke:#000000;stroke-width:1px;stroke-linecap:butt;stroke-linejoin:miter;stroke-opacity:1;marker-start:url(#marker4620);marker-end:url(#marker4702)\" d=\"m 375.73383,434.95033 -18.8811,-44.37058\" id=\"path4612\" inkscape:connector-curvature=\"0\"/>\n",
       "    <path style=\"fill:none;fill-rule:evenodd;stroke:#000000;stroke-width:1px;stroke-linecap:butt;stroke-linejoin:miter;stroke-opacity:1;marker-start:url(#marker4792);marker-end:url(#marker4886)\" d=\"m 517.81409,420.31748 13.21676,-51.45099\" id=\"path4784\" inkscape:connector-curvature=\"0\"/>\n",
       "    <path style=\"fill:none;fill-rule:evenodd;stroke:#000000;stroke-width:1px;stroke-linecap:butt;stroke-linejoin:miter;stroke-opacity:1;marker-start:url(#marker4988);marker-end:url(#marker5094)\" d=\"m 568.79305,384.91542 -18.8811,-28.79367\" id=\"path4980\" inkscape:connector-curvature=\"0\"/>\n",
       "    <path style=\"fill:none;fill-rule:evenodd;stroke:#000000;stroke-width:1px;stroke-linecap:butt;stroke-linejoin:miter;stroke-opacity:1;marker-start:url(#marker5208);marker-end:url(#marker5326)\" d=\"M 589.09023,337.24065 570.68116,312.2232\" id=\"path5200\" inkscape:connector-curvature=\"0\"/>\n",
       "    <path style=\"fill:none;fill-rule:evenodd;stroke:#000000;stroke-width:1px;stroke-linecap:butt;stroke-linejoin:miter;stroke-opacity:1;marker-start:url(#marker5454);marker-end:url(#marker5584)\" d=\"m 304.45769,409.46085 38.23422,-28.79367\" id=\"path5446\" inkscape:connector-curvature=\"0\"/>\n",
       "    <path style=\"fill:none;fill-rule:evenodd;stroke:#000000;stroke-width:1px;stroke-linecap:butt;stroke-linejoin:miter;stroke-opacity:1;marker-start:url(#marker5722);marker-end:url(#marker5864)\" d=\"m 307.28985,350.92945 21.71327,-18.40907\" id=\"path5714\" inkscape:connector-curvature=\"0\"/>\n",
       "  </g>\n",
       "</svg>"
      ],
      "text/plain": [
       "<IPython.core.display.SVG object>"
      ]
     },
     "execution_count": 18,
     "metadata": {},
     "output_type": "execute_result"
    }
   ],
   "source": [
    "SVG('robo-pv.svg')"
   ]
  },
  {
   "cell_type": "code",
   "execution_count": 19,
   "metadata": {
    "slideshow": {
     "slide_type": "subslide"
    }
   },
   "outputs": [
    {
     "data": {
      "text/html": [
       "<video src=\"Dinamica Do Hibrido-1.m4v\" controls  width=\"700\" >\n",
       "      Your browser does not support the <code>video</code> element.\n",
       "    </video>"
      ],
      "text/plain": [
       "<IPython.core.display.Video object>"
      ]
     },
     "execution_count": 19,
     "metadata": {},
     "output_type": "execute_result"
    }
   ],
   "source": [
    "Video('Dinamica Do Hibrido-1.m4v',width=700)"
   ]
  },
  {
   "cell_type": "markdown",
   "metadata": {
    "slideshow": {
     "slide_type": "subslide"
    }
   },
   "source": [
    "### 3.3.1 Condição de não deslizamento"
   ]
  },
  {
   "cell_type": "code",
   "execution_count": 20,
   "metadata": {
    "scrolled": true,
    "slideshow": {
     "slide_type": "subslide"
    }
   },
   "outputs": [
    {
     "data": {
      "image/svg+xml": [
       "<svg xmlns:dc=\"http://purl.org/dc/elements/1.1/\" xmlns:cc=\"http://creativecommons.org/ns#\" xmlns:rdf=\"http://www.w3.org/1999/02/22-rdf-syntax-ns#\" xmlns:svg=\"http://www.w3.org/2000/svg\" xmlns=\"http://www.w3.org/2000/svg\" xmlns:sodipodi=\"http://sodipodi.sourceforge.net/DTD/sodipodi-0.dtd\" xmlns:inkscape=\"http://www.inkscape.org/namespaces/inkscape\" width=\"97.860092mm\" height=\"88.224983mm\" viewBox=\"0 0 97.860103 88.224984\" version=\"1.1\" id=\"svg8\" inkscape:version=\"1.0.1 (3bc2e813f5, 2020-09-07)\" sodipodi:docname=\"batata03.svg\">\n",
       "  <defs id=\"defs2\">\n",
       "    <marker inkscape:stockid=\"DistanceStart\" orient=\"auto\" refY=\"0\" refX=\"0\" id=\"DistanceStart\" style=\"overflow:visible\" inkscape:isstock=\"true\">\n",
       "      <g id=\"g2300\">\n",
       "        <path id=\"path2306\" d=\"M 0,0 H 2\" style=\"fill:none;stroke:#ffffff;stroke-width:1.15;stroke-linecap:square\"/>\n",
       "        <path id=\"path2302\" d=\"M 0,0 13,4 9,0 13,-4 Z\" style=\"fill:#000000;fill-rule:evenodd;stroke:none\"/>\n",
       "        <path id=\"path2304\" d=\"M 0,-4 V 40\" style=\"fill:none;stroke:#000000;stroke-width:1;stroke-linecap:square\"/>\n",
       "      </g>\n",
       "    </marker>\n",
       "    <marker style=\"overflow:visible\" id=\"marker1788\" refX=\"0\" refY=\"0\" orient=\"auto\" inkscape:stockid=\"Arrow1Lend\" inkscape:isstock=\"true\">\n",
       "      <path transform=\"matrix(-0.8,0,0,-0.8,-10,0)\" style=\"fill:#ff0000;fill-opacity:1;fill-rule:evenodd;stroke:#ff0000;stroke-width:1pt;stroke-opacity:1\" d=\"M 0,0 5,-5 -12.5,0 5,5 Z\" id=\"path1786\"/>\n",
       "    </marker>\n",
       "    <marker style=\"overflow:visible\" id=\"marker1399\" refX=\"0\" refY=\"0\" orient=\"auto\" inkscape:stockid=\"Arrow1Lend\" inkscape:isstock=\"true\">\n",
       "      <path transform=\"matrix(-0.8,0,0,-0.8,-10,0)\" style=\"fill:#0000ff;fill-opacity:1;fill-rule:evenodd;stroke:#0000ff;stroke-width:1pt;stroke-opacity:1\" d=\"M 0,0 5,-5 -12.5,0 5,5 Z\" id=\"path1397\"/>\n",
       "    </marker>\n",
       "    <marker style=\"overflow:visible\" id=\"marker1379\" refX=\"0\" refY=\"0\" orient=\"auto\" inkscape:stockid=\"Arrow1Lend\" inkscape:isstock=\"true\">\n",
       "      <path transform=\"matrix(-0.8,0,0,-0.8,-10,0)\" style=\"fill:#0000ff;fill-opacity:1;fill-rule:evenodd;stroke:#0000ff;stroke-width:1pt;stroke-opacity:1\" d=\"M 0,0 5,-5 -12.5,0 5,5 Z\" id=\"path1377\"/>\n",
       "    </marker>\n",
       "  </defs>\n",
       "  <sodipodi:namedview id=\"base\" pagecolor=\"#ffffff\" bordercolor=\"#666666\" borderopacity=\"1.0\" inkscape:pageopacity=\"0.0\" inkscape:pageshadow=\"2\" inkscape:zoom=\"1.2238436\" inkscape:cx=\"234.46898\" inkscape:cy=\"210.49149\" inkscape:document-units=\"mm\" inkscape:current-layer=\"layer1\" inkscape:document-rotation=\"0\" showgrid=\"true\" showguides=\"true\" inkscape:guide-bbox=\"true\" inkscape:snap-nodes=\"true\" inkscape:snap-grids=\"false\" inkscape:snap-to-guides=\"false\" inkscape:snap-smooth-nodes=\"true\" inkscape:object-paths=\"false\" inkscape:snap-intersection-paths=\"false\" inkscape:window-width=\"1920\" inkscape:window-height=\"1017\" inkscape:window-x=\"-8\" inkscape:window-y=\"-8\" inkscape:window-maximized=\"1\" showborder=\"false\">\n",
       "    <inkscape:grid type=\"axonomgrid\" id=\"grid10\" originx=\"-69.407716\" originy=\"-83.417667\"/>\n",
       "  </sodipodi:namedview>\n",
       "  <metadata id=\"metadata5\">\n",
       "    <rdf:RDF>\n",
       "      <cc:Work rdf:about=\"\">\n",
       "        <dc:format>image/svg+xml</dc:format>\n",
       "        <dc:type rdf:resource=\"http://purl.org/dc/dcmitype/StillImage\"/>\n",
       "        <dc:title/>\n",
       "      </cc:Work>\n",
       "    </rdf:RDF>\n",
       "  </metadata>\n",
       "  <g inkscape:label=\"Layer 1\" inkscape:groupmode=\"layer\" id=\"layer1\" transform=\"translate(-69.407706,-83.417668)\">\n",
       "    <path style=\"fill:none;stroke:#000000;stroke-width:0.921889;stroke-linecap:butt;stroke-linejoin:miter;stroke-miterlimit:4;stroke-dasharray:none;stroke-opacity:1\" d=\"m 115.16699,87.761049 c -1.41978,-1.135499 -2.7796,-2.350327 -4.25933,-3.406498 -0.57386,-0.409603 -1.7868,-0.351656 -2.47714,-0.43939 -0.93755,-0.119159 -1.62177,0.04127 -2.50448,0.429143 -3.49252,1.534629 -2.04437,5.176996 -4.43425,7.118456 -0.59293,0.481685 -1.658896,0.838941 -2.301511,1.119336 -4.261885,1.859568 -9.210377,2.358689 -12.147912,6.387287 -1.159543,1.590157 -1.700059,3.431927 -2.131358,5.334897 -2.214678,9.77131 7.018645,18.36264 16.596531,16.76735 2.57767,-0.42934 7.82006,-3.44954 9.05573,-5.90825 1.17662,-2.34118 0.52664,-5.16203 1.77807,-7.45603 1.21258,-2.22278 3.20884,-4.02321 4.33035,-6.3012 0.56205,-1.14156 1.22465,-2.345012 1.69333,-3.521985 0.34048,-0.854995 0.14889,-1.824906 0.26106,-2.707424 0.38634,-3.039904 -1.00875,-5.77484 -3.45913,-7.415712 z\" id=\"path1557\"/>\n",
       "    <path style=\"fill:none;stroke:#000000;stroke-width:0.921889;stroke-linecap:butt;stroke-linejoin:miter;stroke-miterlimit:4;stroke-dasharray:none;stroke-opacity:1\" d=\"m 121.82411,90.468473 c 1.41978,-1.135499 2.7796,-2.350327 4.25933,-3.406498 0.57386,-0.409603 1.7868,-0.351656 2.47714,-0.43939 0.93755,-0.119159 1.62177,0.04127 2.50448,0.429143 3.49252,1.534629 2.04437,5.176996 4.43425,7.118456 0.59293,0.481685 1.65889,0.838941 2.30151,1.119336 4.26188,1.859568 9.21038,2.358689 12.14791,6.38729 1.15954,1.59015 1.70006,3.43192 2.13136,5.33489 2.21468,9.77131 -7.01865,18.36264 -16.59653,16.76735 -2.57767,-0.42934 -7.82006,-3.44954 -9.05573,-5.90825 -1.17662,-2.34118 -0.52664,-5.16203 -1.77807,-7.45603 -1.21258,-2.22278 -3.20884,-4.02321 -4.33035,-6.3012 -0.56205,-1.14156 -1.22465,-2.34501 -1.69333,-3.52198 -0.34048,-0.854996 -0.14889,-1.824907 -0.26106,-2.707425 -0.38634,-3.039904 1.00875,-5.77484 3.45913,-7.415712 z\" id=\"path899\"/>\n",
       "    <path style=\"fill:#ff0000;stroke:#ff0000;stroke-width:0.264583px;stroke-linecap:butt;stroke-linejoin:miter;stroke-opacity:1\" d=\"m 118.36502,97.884165 -4.01235,23.151545 -0.63645,-3.73232 2.29305,0.76435 -1.6566,2.96797\" id=\"path905\"/>\n",
       "    <text xml:space=\"preserve\" style=\"font-style:normal;font-variant:normal;font-weight:normal;font-stretch:normal;font-size:5.01715px;line-height:1.25;font-family:sans-serif;-inkscape-font-specification:sans-serif;letter-spacing:0px;word-spacing:0px;fill:#000000;fill-opacity:1;stroke:none;stroke-width:0.134388\" x=\"119.16561\" y=\"98.188354\" id=\"text913\"><tspan sodipodi:role=\"line\" id=\"tspan911\" x=\"119.16561\" y=\"98.188354\" style=\"stroke-width:0.134388\">C</tspan></text>\n",
       "    <text xml:space=\"preserve\" style=\"font-style:normal;font-variant:normal;font-weight:normal;font-stretch:normal;font-size:6.76393px;line-height:1.25;font-family:sans-serif;-inkscape-font-specification:sans-serif;letter-spacing:0px;word-spacing:0px;fill:#000000;fill-opacity:1;stroke:none;stroke-width:0.181177\" x=\"97.968826\" y=\"106.01047\" id=\"text917\"><tspan sodipodi:role=\"line\" id=\"tspan915\" x=\"97.968826\" y=\"106.01047\" style=\"stroke-width:0.181177\">B<tspan style=\"font-size:65%;baseline-shift:sub\" id=\"tspan923\">1</tspan></tspan></text>\n",
       "    <text xml:space=\"preserve\" style=\"font-style:normal;font-variant:normal;font-weight:normal;font-stretch:normal;font-size:6.76393px;line-height:1.25;font-family:sans-serif;-inkscape-font-specification:sans-serif;letter-spacing:0px;word-spacing:0px;fill:#000000;fill-opacity:1;stroke:none;stroke-width:0.181177\" x=\"127.26263\" y=\"106.44285\" id=\"text921\"><tspan sodipodi:role=\"line\" id=\"tspan919\" x=\"127.26263\" y=\"106.44285\" style=\"stroke-width:0.181177\">B<tspan style=\"font-size:65%;baseline-shift:sub\" id=\"tspan925\">2</tspan></tspan></text>\n",
       "    <text xml:space=\"preserve\" style=\"font-style:normal;font-variant:normal;font-weight:normal;font-stretch:normal;font-size:6.62817px;line-height:1.25;font-family:sans-serif;-inkscape-font-specification:sans-serif;letter-spacing:0px;word-spacing:0px;fill:#ff0000;fill-opacity:1;stroke:none;stroke-width:0.17754\" x=\"107.20708\" y=\"126.98096\" id=\"text929\"><tspan sodipodi:role=\"line\" id=\"tspan927\" x=\"107.20708\" y=\"126.98096\" style=\"fill:#ff0000;stroke-width:0.17754\">v</tspan></text>\n",
       "    <text xml:space=\"preserve\" style=\"font-style:normal;font-variant:normal;font-weight:normal;font-stretch:normal;font-size:2.52298px;line-height:1.25;font-family:sans-serif;-inkscape-font-specification:sans-serif;letter-spacing:0px;word-spacing:0px;fill:#ff0000;fill-opacity:1;stroke:none;stroke-width:0.0675796\" x=\"111.6309\" y=\"123.60109\" id=\"text933\"><tspan sodipodi:role=\"line\" id=\"tspan931\" x=\"111.6309\" y=\"123.60109\" style=\"fill:#ff0000;stroke-width:0.0675796\">C</tspan></text>\n",
       "    <g id=\"g941\" transform=\"translate(35.347143,0.27023807)\" style=\"fill:#ff0000;stroke:#ff0000\">\n",
       "      <path style=\"fill:#ff0000;stroke:#ff0000;stroke-width:0.065;stroke-linecap:butt;stroke-linejoin:miter;stroke-miterlimit:4;stroke-dasharray:none;stroke-opacity:1\" d=\"m 72.411715,122.06262 3.080715,-0.054\" id=\"path935\"/>\n",
       "      <path style=\"fill:#ff0000;stroke:#ff0000;stroke-width:0.065;stroke-linecap:butt;stroke-linejoin:miter;stroke-miterlimit:4;stroke-dasharray:none;stroke-opacity:1\" d=\"m 75.49243,122.00862 -1.189048,-0.75672 0.05405,1.56738 z\" id=\"path937\"/>\n",
       "    </g>\n",
       "    <path style=\"fill:none;stroke:#000000;stroke-width:0.921889;stroke-linecap:butt;stroke-linejoin:miter;stroke-miterlimit:4;stroke-dasharray:none;stroke-opacity:1\" d=\"m 121.82411,90.468473 c 1.41978,-1.135499 2.7796,-2.350327 4.25933,-3.406498 0.57386,-0.409603 1.7868,-0.351656 2.47714,-0.43939 0.93755,-0.119159 1.62177,0.04127 2.50448,0.429143 3.49252,1.534629 2.04437,5.176996 4.43425,7.118456 0.59293,0.481685 1.65889,0.838941 2.30151,1.119336 4.26188,1.859568 9.21038,2.358689 12.14791,6.38729 1.15954,1.59015 1.70006,3.43192 2.13136,5.33489 2.21468,9.77131 -7.01865,18.36264 -16.59653,16.76735 -2.57767,-0.42934 -7.82006,-3.44954 -9.05573,-5.90825 -1.17662,-2.34118 -0.52664,-5.16203 -1.77807,-7.45603 -1.21258,-2.22278 -3.20884,-4.02321 -4.33035,-6.3012 -0.56205,-1.14156 -1.22465,-2.34501 -1.69333,-3.52198 -0.34048,-0.854996 -0.14889,-1.824907 -0.26106,-2.707425 -0.38634,-3.039904 1.00875,-5.77484 3.45913,-7.415712 z\" id=\"path943\"/>\n",
       "    <text xml:space=\"preserve\" style=\"font-style:normal;font-variant:normal;font-weight:normal;font-stretch:normal;font-size:6.76393px;line-height:1.25;font-family:sans-serif;-inkscape-font-specification:sans-serif;letter-spacing:0px;word-spacing:0px;fill:#000000;fill-opacity:1;stroke:none;stroke-width:0.181177\" x=\"127.26263\" y=\"106.44285\" id=\"text949\"><tspan sodipodi:role=\"line\" id=\"tspan947\" x=\"127.26263\" y=\"106.44285\" style=\"stroke-width:0.181177\">B<tspan style=\"font-size:65%;baseline-shift:sub\" id=\"tspan945\">2</tspan></tspan></text>\n",
       "    <path style=\"fill:none;stroke:#000000;stroke-width:0.921889;stroke-linecap:butt;stroke-linejoin:miter;stroke-miterlimit:4;stroke-dasharray:none;stroke-opacity:1\" d=\"m 100.45701,132.42386 c -1.419772,-1.13551 -2.779586,-2.35034 -4.259307,-3.40652 -0.573857,-0.40961 -1.786791,-0.35166 -2.477125,-0.43939 -0.937547,-0.11916 -1.621761,0.0413 -2.504468,0.42914 -3.492499,1.53464 -2.044358,5.17703 -4.434223,7.1185 -0.592927,0.48169 -1.65889,0.83895 -2.301505,1.11934 -4.261885,1.85958 -9.210377,2.3587 -12.147912,6.38733 -1.159543,1.59016 -1.700059,3.43193 -2.131358,5.3349 -2.214678,9.77131 7.018645,18.36264 16.596525,16.76735 2.577655,-0.42934 7.820015,-3.44954 9.055679,-5.90825 1.176611,-2.34118 0.526637,-5.16203 1.778058,-7.45603 1.212574,-2.22278 3.208826,-4.02321 4.330326,-6.3012 0.56205,-1.14156 1.22464,-2.34502 1.69332,-3.522 0.34048,-0.855 0.14889,-1.82492 0.26106,-2.70744 0.38634,-3.03992 -1.00875,-5.77487 -3.45911,-7.41575 z\" id=\"path959\"/>\n",
       "    <path style=\"fill:#ff0000;stroke:#ff0000;stroke-width:0.264583px;stroke-linecap:butt;stroke-linejoin:miter;stroke-opacity:1\" d=\"m 103.65502,142.54703 -4.012328,23.15156 -0.636444,-3.73232 2.293032,0.76435 -1.656588,2.96797\" id=\"path963\"/>\n",
       "    <text xml:space=\"preserve\" style=\"font-style:normal;font-variant:normal;font-weight:normal;font-stretch:normal;font-size:5.01715px;line-height:1.25;font-family:sans-serif;-inkscape-font-specification:sans-serif;letter-spacing:0px;word-spacing:0px;fill:#000000;fill-opacity:1;stroke:none;stroke-width:0.134388\" x=\"104.4557\" y=\"142.85045\" id=\"text967\"><tspan sodipodi:role=\"line\" id=\"tspan965\" x=\"104.4557\" y=\"142.85045\" style=\"stroke-width:0.134388\">C</tspan></text>\n",
       "    <text xml:space=\"preserve\" style=\"font-style:normal;font-variant:normal;font-weight:normal;font-stretch:normal;font-size:6.76393px;line-height:1.25;font-family:sans-serif;-inkscape-font-specification:sans-serif;letter-spacing:0px;word-spacing:0px;fill:#000000;fill-opacity:1;stroke:none;stroke-width:0.181177\" x=\"83.258919\" y=\"150.67244\" id=\"text973\"><tspan sodipodi:role=\"line\" id=\"tspan971\" x=\"83.258919\" y=\"150.67244\" style=\"stroke-width:0.181177\">B<tspan style=\"font-size:65%;baseline-shift:sub\" id=\"tspan969\">1</tspan></tspan></text>\n",
       "    <text xml:space=\"preserve\" style=\"font-style:normal;font-variant:normal;font-weight:normal;font-stretch:normal;font-size:6.62817px;line-height:1.25;font-family:sans-serif;-inkscape-font-specification:sans-serif;letter-spacing:0px;word-spacing:0px;fill:#ff0000;fill-opacity:1;stroke:none;stroke-width:0.17754\" x=\"92.497192\" y=\"171.64265\" id=\"text983\"><tspan sodipodi:role=\"line\" id=\"tspan981\" x=\"92.497192\" y=\"171.64265\" style=\"fill:#ff0000;stroke-width:0.17754\">v</tspan></text>\n",
       "    <text xml:space=\"preserve\" style=\"font-style:normal;font-variant:normal;font-weight:normal;font-stretch:normal;font-size:2.52298px;line-height:1.25;font-family:sans-serif;-inkscape-font-specification:sans-serif;letter-spacing:0px;word-spacing:0px;fill:#ff0000;fill-opacity:1;stroke:none;stroke-width:0.0675796\" x=\"96.921005\" y=\"168.26282\" id=\"text987\"><tspan sodipodi:role=\"line\" id=\"tspan985\" x=\"96.921005\" y=\"168.26282\" style=\"fill:#ff0000;stroke-width:0.0675796\">C/B<tspan style=\"font-size:65%;baseline-shift:sub\" id=\"tspan1047\">1</tspan></tspan></text>\n",
       "    <g id=\"g993\" transform=\"translate(20.637246,44.93277)\" style=\"fill:#ff0000;stroke:#ff0000\">\n",
       "      <path style=\"fill:#ff0000;stroke:#ff0000;stroke-width:0.065;stroke-linecap:butt;stroke-linejoin:miter;stroke-miterlimit:4;stroke-dasharray:none;stroke-opacity:1\" d=\"m 72.411715,122.06262 3.080715,-0.054\" id=\"path989\"/>\n",
       "      <path style=\"fill:#ff0000;stroke:#ff0000;stroke-width:0.065;stroke-linecap:butt;stroke-linejoin:miter;stroke-miterlimit:4;stroke-dasharray:none;stroke-opacity:1\" d=\"m 75.49243,122.00862 -1.189048,-0.75672 0.05405,1.56738 z\" id=\"path991\"/>\n",
       "    </g>\n",
       "    <path style=\"fill:none;stroke:#000000;stroke-width:0.921889;stroke-linecap:butt;stroke-linejoin:miter;stroke-miterlimit:4;stroke-dasharray:none;stroke-opacity:1\" d=\"m 136.21841,135.1313 c 1.41978,-1.13551 2.7796,-2.35034 4.25933,-3.40652 0.57386,-0.40961 1.7868,-0.35166 2.47714,-0.43939 0.93755,-0.11916 1.62177,0.0413 2.50448,0.42914 3.49252,1.53464 2.04437,5.17703 4.43425,7.1185 0.59293,0.48169 1.65889,0.83894 2.30151,1.11934 4.26188,1.85958 9.21038,2.3587 12.14791,6.38732 1.15954,1.59015 1.70006,3.43192 2.13136,5.33489 2.21468,9.77131 -7.01865,18.36264 -16.59653,16.76735 -2.57767,-0.42934 -7.82006,-3.44954 -9.05573,-5.90825 -1.17662,-2.34118 -0.52664,-5.16203 -1.77807,-7.45603 -1.21258,-2.22278 -3.20884,-4.02321 -4.33035,-6.3012 -0.56205,-1.14156 -1.22465,-2.34501 -1.69333,-3.52198 -0.34048,-0.855 -0.14889,-1.82492 -0.26106,-2.70744 -0.38633,-3.03992 1.00875,-5.77487 3.45913,-7.41575 z\" id=\"path1005\"/>\n",
       "    <path style=\"fill:#ff0000;stroke:#ff0000;stroke-width:0.264583px;stroke-linecap:butt;stroke-linejoin:miter;stroke-opacity:1\" d=\"m 132.75932,142.54703 -4.01234,23.15156 -0.63645,-3.73232 2.29305,0.76435 -1.6566,2.96797\" id=\"path1007\"/>\n",
       "    <text xml:space=\"preserve\" style=\"font-style:normal;font-variant:normal;font-weight:normal;font-stretch:normal;font-size:5.01715px;line-height:1.25;font-family:sans-serif;-inkscape-font-specification:sans-serif;letter-spacing:0px;word-spacing:0px;fill:#000000;fill-opacity:1;stroke:none;stroke-width:0.134388\" x=\"133.55989\" y=\"142.85045\" id=\"text1011\"><tspan sodipodi:role=\"line\" id=\"tspan1009\" x=\"133.55989\" y=\"142.85045\" style=\"stroke-width:0.134388\">C</tspan></text>\n",
       "    <text xml:space=\"preserve\" style=\"font-style:normal;font-variant:normal;font-weight:normal;font-stretch:normal;font-size:6.76393px;line-height:1.25;font-family:sans-serif;-inkscape-font-specification:sans-serif;letter-spacing:0px;word-spacing:0px;fill:#000000;fill-opacity:1;stroke:none;stroke-width:0.181177\" x=\"141.65685\" y=\"151.10481\" id=\"text1023\"><tspan sodipodi:role=\"line\" id=\"tspan1021\" x=\"141.65685\" y=\"151.10481\" style=\"stroke-width:0.181177\">B<tspan style=\"font-size:65%;baseline-shift:sub\" id=\"tspan1019\">2</tspan></tspan></text>\n",
       "    <text xml:space=\"preserve\" style=\"font-style:normal;font-variant:normal;font-weight:normal;font-stretch:normal;font-size:6.62817px;line-height:1.25;font-family:sans-serif;-inkscape-font-specification:sans-serif;letter-spacing:0px;word-spacing:0px;fill:#ff0000;fill-opacity:1;stroke:none;stroke-width:0.17754\" x=\"121.60137\" y=\"171.64265\" id=\"text1027\"><tspan sodipodi:role=\"line\" id=\"tspan1025\" x=\"121.60137\" y=\"171.64265\" style=\"fill:#ff0000;stroke-width:0.17754\">v</tspan></text>\n",
       "    <text xml:space=\"preserve\" style=\"font-style:normal;font-variant:normal;font-weight:normal;font-stretch:normal;font-size:2.52298px;line-height:1.25;font-family:sans-serif;-inkscape-font-specification:sans-serif;letter-spacing:0px;word-spacing:0px;fill:#ff0000;fill-opacity:1;stroke:none;stroke-width:0.0675796\" x=\"126.02516\" y=\"168.26282\" id=\"text1031\"><tspan sodipodi:role=\"line\" id=\"tspan1029\" x=\"126.02516\" y=\"168.26282\" style=\"fill:#ff0000;stroke-width:0.0675796\">C/B<tspan style=\"font-size:65%;baseline-shift:sub\" id=\"tspan1049\">2</tspan></tspan></text>\n",
       "    <g id=\"g1037\" transform=\"translate(49.74143,44.93277)\" style=\"fill:#ff0000;stroke:#ff0000\">\n",
       "      <path style=\"fill:#ff0000;stroke:#ff0000;stroke-width:0.065;stroke-linecap:butt;stroke-linejoin:miter;stroke-miterlimit:4;stroke-dasharray:none;stroke-opacity:1\" d=\"m 72.411715,122.06262 3.080715,-0.054\" id=\"path1033\"/>\n",
       "      <path style=\"fill:#ff0000;stroke:#ff0000;stroke-width:0.065;stroke-linecap:butt;stroke-linejoin:miter;stroke-miterlimit:4;stroke-dasharray:none;stroke-opacity:1\" d=\"m 75.49243,122.00862 -1.189048,-0.75672 0.05405,1.56738 z\" id=\"path1035\"/>\n",
       "    </g>\n",
       "    <path style=\"fill:none;stroke:#000000;stroke-width:0.921889;stroke-linecap:butt;stroke-linejoin:miter;stroke-miterlimit:4;stroke-dasharray:none;stroke-opacity:1\" d=\"m 136.21841,135.1313 c 1.41978,-1.13551 2.7796,-2.35034 4.25933,-3.40652 0.57386,-0.40961 1.7868,-0.35166 2.47714,-0.43939 0.93755,-0.11916 1.62177,0.0413 2.50448,0.42914 3.49252,1.53464 2.04437,5.17703 4.43425,7.1185 0.59293,0.48169 1.65889,0.83894 2.30151,1.11934 4.26188,1.85958 9.21038,2.3587 12.14791,6.38732 1.15954,1.59015 1.70006,3.43192 2.13136,5.33489 2.21468,9.77131 -7.01865,18.36264 -16.59653,16.76735 -2.57767,-0.42934 -7.82006,-3.44954 -9.05573,-5.90825 -1.17662,-2.34118 -0.52664,-5.16203 -1.77807,-7.45603 -1.21258,-2.22278 -3.20884,-4.02321 -4.33035,-6.3012 -0.56205,-1.14156 -1.22465,-2.34501 -1.69333,-3.52198 -0.34048,-0.855 -0.14889,-1.82492 -0.26106,-2.70744 -0.38633,-3.03992 1.00875,-5.77487 3.45913,-7.41575 z\" id=\"path1039\"/>\n",
       "    <text xml:space=\"preserve\" style=\"font-style:normal;font-variant:normal;font-weight:normal;font-stretch:normal;font-size:6.76393px;line-height:1.25;font-family:sans-serif;-inkscape-font-specification:sans-serif;letter-spacing:0px;word-spacing:0px;fill:#000000;fill-opacity:1;stroke:none;stroke-width:0.181177\" x=\"141.65685\" y=\"151.10481\" id=\"text1045\"><tspan sodipodi:role=\"line\" id=\"tspan1043\" x=\"141.65685\" y=\"151.10481\" style=\"stroke-width:0.181177\">B<tspan style=\"font-size:65%;baseline-shift:sub\" id=\"tspan1041\">2</tspan></tspan></text>\n",
       "  </g>\n",
       "</svg>"
      ],
      "text/plain": [
       "<IPython.core.display.SVG object>"
      ]
     },
     "execution_count": 20,
     "metadata": {},
     "output_type": "execute_result"
    }
   ],
   "source": [
    "SVG('batata03.svg')"
   ]
  },
  {
   "cell_type": "markdown",
   "metadata": {
    "slideshow": {
     "slide_type": "fragment"
    }
   },
   "source": [
    "$$\\vec{v}{}^{C/B_{1}} = \\vec{v}{}^{C/B_{2}}$$"
   ]
  },
  {
   "cell_type": "code",
   "execution_count": 21,
   "metadata": {
    "slideshow": {
     "slide_type": "subslide"
    }
   },
   "outputs": [
    {
     "data": {
      "image/svg+xml": [
       "<svg xmlns:dc=\"http://purl.org/dc/elements/1.1/\" xmlns:cc=\"http://creativecommons.org/ns#\" xmlns:rdf=\"http://www.w3.org/1999/02/22-rdf-syntax-ns#\" xmlns:svg=\"http://www.w3.org/2000/svg\" xmlns=\"http://www.w3.org/2000/svg\" xmlns:sodipodi=\"http://sodipodi.sourceforge.net/DTD/sodipodi-0.dtd\" xmlns:inkscape=\"http://www.inkscape.org/namespaces/inkscape\" width=\"156.72002mm\" height=\"95.04113mm\" viewBox=\"0 0 156.72002 95.041131\" version=\"1.1\" id=\"svg1057\" sodipodi:docname=\"engrenagens.svg\" inkscape:version=\"1.0.1 (3bc2e813f5, 2020-09-07)\">\n",
       "  <defs id=\"defs1051\"/>\n",
       "  <sodipodi:namedview id=\"base\" pagecolor=\"#ffffff\" bordercolor=\"#666666\" borderopacity=\"1.0\" inkscape:pageopacity=\"0.0\" inkscape:pageshadow=\"2\" inkscape:zoom=\"1.4\" inkscape:cx=\"347.86957\" inkscape:cy=\"137.67215\" inkscape:document-units=\"mm\" inkscape:current-layer=\"layer1\" inkscape:document-rotation=\"0\" showgrid=\"false\" inkscape:window-width=\"1920\" inkscape:window-height=\"1017\" inkscape:window-x=\"-8\" inkscape:window-y=\"-8\" inkscape:window-maximized=\"1\" inkscape:snap-nodes=\"true\" inkscape:snap-others=\"true\" inkscape:snap-grids=\"false\" inkscape:snap-to-guides=\"true\" inkscape:snap-object-midpoints=\"true\" showguides=\"true\" inkscape:guide-bbox=\"true\" inkscape:snap-smooth-nodes=\"true\">\n",
       "    <sodipodi:guide position=\"48.805662,47.565578\" orientation=\"1,0\" id=\"guide1830\"/>\n",
       "    <sodipodi:guide position=\"98.682095,47.532168\" orientation=\"1,0\" id=\"guide1832\"/>\n",
       "  </sodipodi:namedview>\n",
       "  <metadata id=\"metadata1054\">\n",
       "    <rdf:RDF>\n",
       "      <cc:Work rdf:about=\"\">\n",
       "        <dc:format>image/svg+xml</dc:format>\n",
       "        <dc:type rdf:resource=\"http://purl.org/dc/dcmitype/StillImage\"/>\n",
       "        <dc:title/>\n",
       "      </cc:Work>\n",
       "    </rdf:RDF>\n",
       "  </metadata>\n",
       "  <g inkscape:label=\"Layer 1\" inkscape:groupmode=\"layer\" id=\"layer1\" transform=\"translate(-32.025614,-93.07577)\">\n",
       "    <g inkscape:label=\"Rendered Gears\" transform=\"matrix(1.5190139,0,0,1.5190139,65.492162,140.52796)\" id=\"g1627\">\n",
       "      <path style=\"fill:none;stroke:#000000;stroke-width:0.264583\" d=\"m 18.502461,-0.97787411 0.464754,-0.024566 1.230948,0.23661064 1.698929,0.7665040355 -0.0332,1.2046626245 -1.738566,0.6717699 -1.242113,0.1684555 -0.462694,-0.050126 -0.295444,1.8487926 0.455312,0.09657 1.127756,0.5471357 L 21.15078,5.6680355 20.80693,6.8230512 18.953747,7.0219641 17.710349,6.8632 17.276417,6.6950319 l -0.76388,1.709335 0.414742,0.2111057 0.94776,0.8203808 1.088023,1.5133086 -0.631021,1.026605 -1.84158,-0.287442 -1.159849,-0.475232 -0.375673,-0.274754 -1.180288,1.453437 0.346057,0.311251 0.70308,1.037663 0.659324,1.743325 -0.875353,0.8284 -1.704366,-0.75434 -0.997365,-0.759164 -0.291719,-0.362674 -1.516236,1.098447 0.253646,0.390236 0.410631,1.184261 0.185578,1.854617 L 9.888127,19.537319 8.4370404,18.3676 7.6701039,17.376096 7.482161,16.950356 l -1.748812,0.668577 0.1440134,0.442535 0.090041,1.250255 -0.3006775,1.839415 -1.1722006,0.279714 -1.0988542,-1.505444 -0.4841926,-1.156177 -0.071346,-0.45994 -1.86225839,0.19317 0.024566,0.464754 -0.23661064,1.230948 -0.7665040355,1.698929 -1.2046626245,-0.0332 -0.6717699,-1.738566 -0.1684555,-1.242113 0.050126,-0.462694 -1.8487926,-0.295444 -0.09657,0.455312 -0.5471357,1.127756 -1.1801006,1.442637 -1.1550157,-0.34385 -0.1989129,-1.853183 0.1587641,-1.243398 0.1681681,-0.433932 -1.709335,-0.76388 -0.2111057,0.414742 -0.8203808,0.94776 -1.5133086,1.088023 -1.026605,-0.631021 0.287442,-1.84158 0.475232,-1.159849 0.274754,-0.375673 -1.453437,-1.180288 -0.311251,0.346057 -1.037663,0.70308 -1.743325,0.659324 -0.8284,-0.875353 0.75434,-1.704366 0.759164,-0.997365 0.362674,-0.291719 -1.098447,-1.516236 -0.390236,0.253646 -1.184261,0.410631 -1.854617,0.185578 -0.573521,-1.059802 1.169719,-1.4510866 0.991504,-0.7669365 0.42574,-0.1879429 -0.668577,-1.748812 -0.442535,0.1440134 -1.250255,0.090041 -1.839415,-0.3006775 -0.279714,-1.1722006 1.505444,-1.0988542 1.156177,-0.4841926 0.45994,-0.071346 -0.19317,-1.86225839 -0.464754,0.024566 -1.230948,-0.23661064 -1.698929,-0.7665040355 0.0332,-1.2046626245 1.738566,-0.6717699 1.242113,-0.1684555 0.462694,0.050126 0.295444,-1.8487926 -0.455312,-0.09657 -1.127756,-0.5471357 -1.442637,-1.1801006 0.34385,-1.1550157 1.853183,-0.1989129 1.243398,0.1587641 0.433932,0.1681681 0.76388,-1.709335 -0.414742,-0.2111057 -0.94776,-0.8203808 -1.088023,-1.5133086 0.631021,-1.026605 1.84158,0.287442 1.159849,0.475232 0.375673,0.274754 1.180288,-1.453437 -0.346057,-0.311251 -0.70308,-1.037663 -0.659324,-1.743325 0.875353,-0.8284 1.704366,0.75434 0.997365,0.759164 0.291719,0.362674 1.516236,-1.098447 -0.253646,-0.390236 -0.410631,-1.184261 -0.185578,-1.854617 1.0598023,-0.573521 1.4510866,1.169719 0.7669365,0.991504 0.1879429,0.42574 1.748812,-0.668577 -0.1440134,-0.442535 -0.090041,-1.250255 0.3006775,-1.839415 1.1722006,-0.279714 1.0988542,1.505444 0.4841926,1.156177 0.071346,0.45994 1.86225844,-0.19317 -0.024566,-0.464754 0.23661079,-1.230948 0.7665040355,-1.698929 1.2046624745,0.0332 0.6717699,1.738566 0.1684555,1.242113 -0.050126,0.462694 1.8487926,0.295444 0.09657,-0.455312 0.5471357,-1.127756 1.1801006,-1.442637 1.1550157,0.34385 0.1989129,1.853183 -0.1587641,1.243398 -0.1681681,0.433932 1.709335,0.76388 0.2111057,-0.414742 0.8203808,-0.94776 1.5133083,-1.088023 1.026605,0.631021 -0.287442,1.84158 -0.475232,1.159849 -0.274754,0.375673 1.453437,1.180288 0.311251,-0.346057 1.037663,-0.70308 1.743325,-0.659324 0.8284,0.875353 -0.75434,1.704366 -0.759164,0.997365 -0.362674,0.291719 1.098447,1.516236 0.390236,-0.253646 1.184261,-0.410631 1.854617,-0.185578 0.573521,1.0598023 -1.169719,1.4510866 -0.991504,0.7669365 -0.42574,0.1879429 0.668577,1.748812 0.442535,-0.1440134 1.250255,-0.090041 1.839415,0.3006775 0.279714,1.1722006 -1.505444,1.0988542 -1.156177,0.4841926 -0.45994,0.071346 z\" id=\"path1623\"/>\n",
       "      <circle style=\"fill:none;stroke:#000000;stroke-width:0.264583\" id=\"path1625\" cx=\"0\" cy=\"0\" r=\"2.6458333\"/>\n",
       "    </g>\n",
       "    <g inkscape:label=\"Rendered Gears\" transform=\"matrix(1.5190139,0,0,1.5190139,141.20857,140.57871)\" id=\"g1823\">\n",
       "      <path style=\"fill:none;stroke:#000000;stroke-width:0.264583\" d=\"m 27.712528,-2.1057151 1.709188,0.305247 1.718698,0.6625896 0.02055,1.26389298 -1.696252,0.71810795 -1.698362,0.36064507 -0.123143,1.6716326 1.627258,0.6055284 1.572794,0.9588305 -0.205453,1.2472344 -1.797175,0.403707 -1.735491,0.051578 -0.419677,1.6227864 1.493006,0.8863679 1.376282,1.2242499 -0.424904,1.1904644 -1.840303,0.07632 -1.716839,-0.259126 -0.702655,1.521823 1.310782,1.138643 1.135526,1.450333 -0.630676,1.095497 -1.824361,-0.253478 -1.643046,-0.561566 -0.963026,1.371935 1.08636,1.35442 0.858306,1.629764 -0.816017,0.965292 -1.749882,-0.575231 -1.51635,-0.845863 -1.19251,1.17794 0.827024,1.526558 0.553531,1.756834 -0.975257,0.80416 -1.619094,-0.878498 -1.340906,-1.102948 -1.383605,0.946015 0.541088,1.649723 0.230937,1.827487 -1.103216,0.617015 -1.436138,-1.153408 -1.122383,-1.32473 -1.530387,0.683767 0.237888,1.719861 -0.09901,1.839352 L 9.5099006,29.675133 8.3027757,28.283871 7.4349448,26.77998 5.807094,27.179494 5.7340526,28.91421 5.3081568,30.70627 4.0584609,30.896309 3.1191612,29.311868 2.5338013,27.677168 0.86077496,27.779577 0.4791582,29.473404 -0.25988292,31.16064 -1.5234078,31.12447 l -0.6412928,-1.726703 -0.2840813,-1.712909 -1.664428,-0.19797 -0.6779266,1.598431 -1.0284259,1.528119 -1.2367698,-0.26123 -0.3226599,-1.813395 0.026332,-1.736157 -1.602328,-0.491919 -0.9524385,1.451674 -1.2847134,1.319958 -1.170322,-0.47784 0.0064,-1.841946 0.335854,-1.703485 -1.488717,-0.770202 -1.196303,1.258313 -1.499815,1.069421 -1.066181,-0.679159 0.335202,-1.811288 0.634613,-1.616129 -1.327314,-1.02356 -1.401733,1.024421 -1.666669,0.784396 -0.927679,-0.858534 0.653089,-1.722343 0.913015,-1.476837 -1.123172,-1.244107 -1.56219,0.757694 -1.779927,0.474196 -0.759526,-1.010487 0.950175,-1.577954 1.162084,-1.29006 -0.882977,-1.424736 -1.672437,0.466548 -1.835924,0.148763 -0.566841,-1.129835 1.216581,-1.382959 1.373822,-1.061772 -0.614432,-1.559538 -1.72882,0.1604836 -1.832993,-0.1814981 -0.356062,-1.2128624 1.444003,-1.1434937 1.541308,-0.7994901 -0.326069,-1.6441369 -1.72968,-0.1507934 -1.771157,-0.5058662 -0.13375,-1.2569619 1.625017,-0.8672697 1.659206,-0.5114285 -0.02725,-1.67593854 -1.674953,-0.45722354 -1.65235,-0.81398812 0.09282,-1.2606454 1.753777,-0.5631726 1.723864,-0.2069392 0.272452,-1.6538673 -1.566482,-0.7489654 -1.48041,-1.0959502 0.316448,-1.2237957 1.826124,-0.240986 1.733123,0.1042013 0.563412,-1.578687 -1.40761,-1.016553 -1.260892,-1.342681 0.529814,-1.147664 1.83979,0.08901 1.686719,0.411936 0.836197,-1.452684 -1.203404,-1.251604 -1.000967,-1.546233 0.726277,-1.034643 1.794401,0.416087 1.585994,0.706512 1.082137,-1.279959 -0.960538,-1.446378 -0.708731,-1.700204 0.89928,-0.888235 1.691287,0.729804 1.434292,0.978314 1.29334,-1.066164 -0.686812,-1.594646 -0.393902,-1.799435 1.04354,-0.713457 1.533785,1.020102 1.236574,1.21876 1.462894,-0.818188 -0.39105,-1.691666 -0.06623,-1.840767 1.15417,-0.51563 1.326942,1.277499 0.9991237,1.419947 1.5854908,-0.543744 -0.082754,-1.734384 0.2635426,-1.822925 1.2276246,-0.301295 1.0775559,1.493881 0.7295274,1.575549 1.6571131,-0.25197 0.2282509,-1.721237 0.5848252,-1.746638 1.2616814,-0.07722 0.79349641,1.662321 0.43647513,1.680527 1.67547116,0.04797 0.5319125,-1.652865 0.8872989,-1.614136 1.2552131,0.149316 0.4839239,1.777268 0.129392,1.731426 1.6399773,0.346387 0.8184863,-1.531307 1.1612621,-1.429765 1.2084205,0.371005 0.1587521,1.835162 -0.1818563,1.726684 1.5518053,0.633659 1.078727,-1.360515 1.397887,-1.199481 1.12269,0.580827 -0.17141,1.834029 -0.487176,1.666439 1.413625,0.90054 1.304345,-1.145954 1.589681,-0.930664 1.000882,0.772033 -0.49613,1.773899 -0.776964,1.552635 1.23017,1.138553 1.488053,-0.894707 1.730258,-0.631809 0.846964,0.938256 -0.804875,1.656803 -1.041759,1.389017 1.007114,1.339907 1.623923,-0.614679 1.815157,-0.312647 0.665953,1.074416 -1.08778,1.486479 -1.273077,1.18065 0.751753,1.498178 1.707509,-0.314797 1.841811,0.01646 0.463377,1.176023 -1.335759,1.2683404 -1.463404,0.9344315 0.472206,1.6082867 1.73625,-0.00486 1.809348,0.3450741 0.245888,1.2398968 -1.540795,1.0094495 -1.606714,0.6581046 z\" id=\"path1819\"/>\n",
       "      <circle style=\"fill:none;stroke:#000000;stroke-width:0.264583\" id=\"path1821\" cx=\"0\" cy=\"0\" r=\"2.6458333\"/>\n",
       "      <path style=\"fill:#ff0000;stroke:#ff0000;stroke-width:0.065;stroke-linecap:butt;stroke-linejoin:miter;stroke-miterlimit:4;stroke-dasharray:none;stroke-opacity:1\" d=\"M -49.845764,-0.03341637 -38.120121,16.369882\" id=\"path1840\"/>\n",
       "      <path style=\"fill:none;stroke:#ff0000;stroke-width:0.065;stroke-linecap:butt;stroke-linejoin:miter;stroke-miterlimit:4;stroke-dasharray:none;stroke-opacity:1\" d=\"M 0.03066779,-2.1461462e-6 -18.156571,23.451942\" id=\"path1842\"/>\n",
       "      <path style=\"fill:#ff0000;stroke:#ff0000;stroke-width:0.065;stroke-linecap:butt;stroke-linejoin:miter;stroke-miterlimit:4;stroke-dasharray:none;stroke-opacity:1\" d=\"m -18.156573,23.451939 0.467725,-1.23612 0.601355,0.467723 z\" id=\"path1844\"/>\n",
       "      <path style=\"fill:#ff0000;stroke:#ff0000;stroke-width:0.065;stroke-linecap:butt;stroke-linejoin:miter;stroke-miterlimit:4;stroke-dasharray:none;stroke-opacity:1\" d=\"m -38.120121,16.36988 -0.449159,-1.270112 -0.593003,0.451017 z\" id=\"path1846\"/>\n",
       "      <text xml:space=\"preserve\" style=\"font-style:normal;font-variant:normal;font-weight:normal;font-stretch:normal;font-size:5.72991px;line-height:1.25;font-family:sans-serif;-inkscape-font-specification:sans-serif;letter-spacing:0px;word-spacing:0px;fill:#ff0000;fill-opacity:1;stroke:none;stroke-width:0.15348\" x=\"-43.844227\" y=\"7.6764336\" id=\"text1850\"><tspan sodipodi:role=\"line\" id=\"tspan1848\" x=\"-43.844227\" y=\"7.6764336\" style=\"fill:#ff0000;stroke-width:0.15348\">r<tspan style=\"font-size:65%;baseline-shift:sub\" id=\"tspan1856\">1</tspan></tspan></text>\n",
       "      <text xml:space=\"preserve\" style=\"font-style:normal;font-variant:normal;font-weight:normal;font-stretch:normal;font-size:5.72991px;line-height:1.25;font-family:sans-serif;-inkscape-font-specification:sans-serif;letter-spacing:0px;word-spacing:0px;fill:#ff0000;fill-opacity:1;stroke:none;stroke-width:0.15348\" x=\"-13.133661\" y=\"8.9048557\" id=\"text1854\"><tspan sodipodi:role=\"line\" id=\"tspan1852\" x=\"-13.133661\" y=\"8.9048557\" style=\"fill:#ff0000;stroke-width:0.15348\">r<tspan style=\"font-size:65%;baseline-shift:sub\" id=\"tspan1858\">2</tspan></tspan></text>\n",
       "      <circle style=\"fill:none;stroke:none;stroke-width:0.0649999;stroke-miterlimit:4;stroke-dasharray:none\" id=\"path1860\" cx=\"-49.845768\" cy=\"-0.033410996\" r=\"5.5193257\"/>\n",
       "    </g>\n",
       "    <circle style=\"fill:none;stroke:#ff0000;stroke-width:0.0987357\" id=\"path1836\" cx=\"65.492157\" cy=\"140.52795\" r=\"30.658041\"/>\n",
       "    <circle style=\"fill:none;stroke:#ff0000;stroke-width:0.0987359;stroke-miterlimit:4;stroke-dasharray:none\" id=\"path1838\" cx=\"141.20856\" cy=\"140.5787\" r=\"45.058361\"/>\n",
       "    <g id=\"g1880\" transform=\"matrix(1.5190139,0,0,1.5190139,-26.802629,-112.52915)\">\n",
       "      <circle style=\"fill:none;stroke:#ff0000;stroke-width:0.0649999;stroke-miterlimit:4;stroke-dasharray:none\" id=\"path1874\" cx=\"60.75967\" cy=\"166.59302\" r=\"4.8191962\"/>\n",
       "      <path style=\"fill:#ff0000;stroke:#ff0000;stroke-width:0.264583px;stroke-linecap:butt;stroke-linejoin:miter;stroke-opacity:1\" d=\"m 65.578865,166.59302 -0.699188,-1.18659 1.202714,-0.16705 z\" id=\"path1876\"/>\n",
       "    </g>\n",
       "    <g id=\"g1886\" transform=\"matrix(-1.5190139,0,0,1.5190139,233.54994,-112.4784)\">\n",
       "      <circle style=\"fill:none;stroke:#ff0000;stroke-width:0.0649999;stroke-miterlimit:4;stroke-dasharray:none\" id=\"circle1882\" cx=\"60.75967\" cy=\"166.59302\" r=\"4.8191962\"/>\n",
       "      <path style=\"fill:#ff0000;stroke:#ff0000;stroke-width:0.264583px;stroke-linecap:butt;stroke-linejoin:miter;stroke-opacity:1\" d=\"m 65.578865,166.59302 -0.699188,-1.18659 1.202714,-0.16705 z\" id=\"path1884\"/>\n",
       "    </g>\n",
       "  </g>\n",
       "</svg>"
      ],
      "text/plain": [
       "<IPython.core.display.SVG object>"
      ]
     },
     "execution_count": 21,
     "metadata": {},
     "output_type": "execute_result"
    }
   ],
   "source": [
    "SVG('engrenagens.svg')"
   ]
  },
  {
   "cell_type": "markdown",
   "metadata": {
    "slideshow": {
     "slide_type": "subslide"
    }
   },
   "source": [
    "### Exemplo 2:"
   ]
  },
  {
   "cell_type": "code",
   "execution_count": 22,
   "metadata": {
    "scrolled": true,
    "slideshow": {
     "slide_type": "subslide"
    }
   },
   "outputs": [
    {
     "data": {
      "image/svg+xml": [
       "<svg xmlns:dc=\"http://purl.org/dc/elements/1.1/\" xmlns:cc=\"http://creativecommons.org/ns#\" xmlns:rdf=\"http://www.w3.org/1999/02/22-rdf-syntax-ns#\" xmlns:svg=\"http://www.w3.org/2000/svg\" xmlns=\"http://www.w3.org/2000/svg\" xmlns:sodipodi=\"http://sodipodi.sourceforge.net/DTD/sodipodi-0.dtd\" xmlns:inkscape=\"http://www.inkscape.org/namespaces/inkscape\" width=\"136.42647mm\" height=\"89.924995mm\" viewBox=\"0 0 136.42647 89.924995\" version=\"1.1\" id=\"svg8\" inkscape:version=\"1.0.1 (3bc2e813f5, 2020-09-07)\" sodipodi:docname=\"disco1.svg\">\n",
       "  <defs id=\"defs2\"/>\n",
       "  <sodipodi:namedview id=\"base\" pagecolor=\"#ffffff\" bordercolor=\"#666666\" borderopacity=\"1.0\" inkscape:pageopacity=\"0.0\" inkscape:pageshadow=\"2\" inkscape:zoom=\"2.8\" inkscape:cx=\"302.24504\" inkscape:cy=\"186.48489\" inkscape:document-units=\"mm\" inkscape:current-layer=\"layer1\" inkscape:document-rotation=\"0\" showgrid=\"false\" inkscape:snap-object-midpoints=\"true\" showguides=\"true\" inkscape:guide-bbox=\"true\" inkscape:snap-others=\"true\" inkscape:snap-grids=\"false\" inkscape:snap-to-guides=\"true\" inkscape:snap-smooth-nodes=\"true\" inkscape:window-width=\"1920\" inkscape:window-height=\"1017\" inkscape:window-x=\"-8\" inkscape:window-y=\"-8\" inkscape:window-maximized=\"1\">\n",
       "    <sodipodi:guide position=\"89.879257,36.070175\" orientation=\"0,-1\" id=\"guide873\"/>\n",
       "    <sodipodi:guide position=\"9.8320373,89.924994\" orientation=\"0,-1\" id=\"guide909\"/>\n",
       "  </sodipodi:namedview>\n",
       "  <metadata id=\"metadata5\">\n",
       "    <rdf:RDF>\n",
       "      <cc:Work rdf:about=\"\">\n",
       "        <dc:format>image/svg+xml</dc:format>\n",
       "        <dc:type rdf:resource=\"http://purl.org/dc/dcmitype/StillImage\"/>\n",
       "        <dc:title/>\n",
       "      </cc:Work>\n",
       "    </rdf:RDF>\n",
       "  </metadata>\n",
       "  <g inkscape:label=\"Layer 1\" inkscape:groupmode=\"layer\" id=\"layer1\" transform=\"translate(-0.59147354,-51.315741)\">\n",
       "    <circle style=\"fill:#ffffff;stroke:#000000;stroke-width:0.5;stroke-miterlimit:4;stroke-dasharray:none\" id=\"path833\" cx=\"90.470734\" cy=\"105.17056\" r=\"22.584274\"/>\n",
       "    <g id=\"g871\" transform=\"translate(3.7417734,-31.003265)\" style=\"stroke-width:0.5;stroke-miterlimit:4;stroke-dasharray:none\">\n",
       "      <path style=\"fill:none;stroke:#000000;stroke-width:0.5;stroke-linecap:butt;stroke-linejoin:miter;stroke-miterlimit:4;stroke-dasharray:none;stroke-opacity:1\" d=\"M 35.012307,159.02537 H 125.88395\" id=\"path835\"/>\n",
       "      <path style=\"fill:none;stroke:#000000;stroke-width:0.5;stroke-linecap:butt;stroke-linejoin:miter;stroke-miterlimit:4;stroke-dasharray:none;stroke-opacity:1\" d=\"M 35.012307,159.02537 42.571921,172.119\" id=\"path837\"/>\n",
       "      <path style=\"fill:none;stroke:#000000;stroke-width:0.5;stroke-linecap:butt;stroke-linejoin:miter;stroke-miterlimit:4;stroke-dasharray:none;stroke-opacity:1\" d=\"M 44.537313,159.02537 52.096927,172.119\" id=\"path839\"/>\n",
       "      <path style=\"fill:none;stroke:#000000;stroke-width:0.5;stroke-linecap:butt;stroke-linejoin:miter;stroke-miterlimit:4;stroke-dasharray:none;stroke-opacity:1\" d=\"M 55.120653,159.02537 62.680267,172.119\" id=\"path841\"/>\n",
       "      <path style=\"fill:none;stroke:#000000;stroke-width:0.5;stroke-linecap:butt;stroke-linejoin:miter;stroke-miterlimit:4;stroke-dasharray:none;stroke-opacity:1\" d=\"M 65.174826,159.02537 72.73444,172.119\" id=\"path843\"/>\n",
       "      <path style=\"fill:none;stroke:#000000;stroke-width:0.5;stroke-linecap:butt;stroke-linejoin:miter;stroke-miterlimit:4;stroke-dasharray:none;stroke-opacity:1\" d=\"M 75.228999,159.02537 82.788613,172.119\" id=\"path845\"/>\n",
       "      <path style=\"fill:none;stroke:#000000;stroke-width:0.5;stroke-linecap:butt;stroke-linejoin:miter;stroke-miterlimit:4;stroke-dasharray:none;stroke-opacity:1\" d=\"M 84.224838,159.02537 91.784452,172.119\" id=\"path847\"/>\n",
       "      <path style=\"fill:none;stroke:#000000;stroke-width:0.5;stroke-linecap:butt;stroke-linejoin:miter;stroke-miterlimit:4;stroke-dasharray:none;stroke-opacity:1\" d=\"M 93.220677,159.02537 100.78029,172.119\" id=\"path849\"/>\n",
       "      <path style=\"fill:none;stroke:#000000;stroke-width:0.5;stroke-linecap:butt;stroke-linejoin:miter;stroke-miterlimit:4;stroke-dasharray:none;stroke-opacity:1\" d=\"m 101.68736,159.02537 7.55965,13.09363\" id=\"path851\"/>\n",
       "      <path style=\"fill:none;stroke:#000000;stroke-width:0.5;stroke-linecap:butt;stroke-linejoin:miter;stroke-miterlimit:4;stroke-dasharray:none;stroke-opacity:1\" d=\"M 110.68325,159.02537 118.2429,172.119\" id=\"path853\"/>\n",
       "      <path style=\"fill:none;stroke:#000000;stroke-width:0.5;stroke-linecap:butt;stroke-linejoin:miter;stroke-miterlimit:4;stroke-dasharray:none;stroke-opacity:1\" d=\"m 119.14997,159.02537 7.55965,13.09363\" id=\"path855\"/>\n",
       "      <path style=\"fill:none;stroke:#000000;stroke-width:0.5;stroke-linecap:butt;stroke-linejoin:miter;stroke-miterlimit:4;stroke-dasharray:none;stroke-opacity:1\" d=\"m 125.50001,159.02537 7.55965,13.09363\" id=\"path857\"/>\n",
       "    </g>\n",
       "    <path style=\"fill:#ff0000;stroke:#ff0000;stroke-width:0.5;stroke-linecap:butt;stroke-linejoin:miter;stroke-miterlimit:4;stroke-dasharray:none;stroke-opacity:1\" d=\"M 10.423511,105.17056 V 66.817382\" id=\"path875\"/>\n",
       "    <path style=\"fill:#ff0000;stroke:#ff0000;stroke-width:0.5;stroke-linecap:butt;stroke-linejoin:miter;stroke-miterlimit:4;stroke-dasharray:none;stroke-opacity:1\" d=\"M 10.423511,105.17056 H 46.504896\" id=\"path877\"/>\n",
       "    <path style=\"fill:#ff0000;stroke:#ff0000;stroke-width:0.5;stroke-linecap:butt;stroke-linejoin:miter;stroke-miterlimit:4;stroke-dasharray:none;stroke-opacity:1\" d=\"m 46.504896,105.17056 -4.276312,-1.46998 0.133636,3.07359 z\" id=\"path879\"/>\n",
       "    <path style=\"fill:#ff0000;stroke:#ff0000;stroke-width:0.5;stroke-linecap:butt;stroke-linejoin:miter;stroke-miterlimit:4;stroke-dasharray:none;stroke-opacity:1\" d=\"M 10.423511,66.817382 8.41899,71.360963 h 3.741773 z\" id=\"path881\"/>\n",
       "    <text xml:space=\"preserve\" style=\"font-style:normal;font-variant:normal;font-weight:normal;font-stretch:normal;font-size:9.87777px;line-height:1.25;font-family:sans-serif;-inkscape-font-specification:sans-serif;letter-spacing:0px;word-spacing:0px;fill:#000000;fill-opacity:1;stroke:none;stroke-width:0.5;stroke-miterlimit:4;stroke-dasharray:none\" x=\"70.567886\" y=\"86.590919\" id=\"text887\"><tspan sodipodi:role=\"line\" id=\"tspan885\" x=\"70.567886\" y=\"86.590919\" style=\"stroke-width:0.5;stroke-miterlimit:4;stroke-dasharray:none\">D</tspan></text>\n",
       "    <text xml:space=\"preserve\" style=\"font-style:normal;font-variant:normal;font-weight:normal;font-stretch:normal;font-size:9.87777px;line-height:1.25;font-family:sans-serif;-inkscape-font-specification:sans-serif;letter-spacing:0px;word-spacing:0px;fill:#00ffff;fill-opacity:1;stroke:none;stroke-width:0.5;stroke-miterlimit:4;stroke-dasharray:none;\" x=\"106.66347\" y=\"126.20378\" id=\"text891\"><tspan sodipodi:role=\"line\" id=\"tspan889\" x=\"106.66347\" y=\"126.20378\" style=\"stroke-width:0.5;stroke-miterlimit:4;stroke-dasharray:none;fill:#00ffff;\">C</tspan></text>\n",
       "    <g id=\"g905\" style=\"stroke-width:0.5;stroke-miterlimit:4;stroke-dasharray:none\">\n",
       "      <path style=\"fill:none;stroke:#0000ff;stroke-width:0.5;stroke-linecap:butt;stroke-linejoin:miter;stroke-miterlimit:4;stroke-dasharray:none;stroke-opacity:1\" d=\"m 90.47073,105.17056 12.2944,-12.2944\" id=\"path893\"/>\n",
       "      <path style=\"fill:none;stroke:#0000ff;stroke-width:0.5;stroke-linecap:butt;stroke-linejoin:miter;stroke-miterlimit:4;stroke-dasharray:none;stroke-opacity:1\" d=\"m 90.47073,105.17056 11.42577,11.42577\" id=\"path895\"/>\n",
       "      <path style=\"fill:#0000ff;stroke:#0000ff;stroke-width:0.5;stroke-linecap:butt;stroke-linejoin:miter;stroke-miterlimit:4;stroke-dasharray:none;stroke-opacity:1\" d=\"m 101.8965,116.59633 -1.02411,-2.58926 -1.417405,1.46465 z\" id=\"path897\"/>\n",
       "      <path style=\"fill:#0000ff;stroke:#0000ff;stroke-width:0.5;stroke-linecap:butt;stroke-linejoin:miter;stroke-miterlimit:4;stroke-dasharray:none;stroke-opacity:1\" d=\"m 102.76513,92.87616 -2.31796,0.909182 1.41741,1.228421 z\" id=\"path899\"/>\n",
       "    </g>\n",
       "    <path style=\"fill:none;stroke:#000000;stroke-width:0.264583px;stroke-linecap:butt;stroke-linejoin:miter;stroke-opacity:1\" d=\"M 10.423511,66.817382 V 51.315749\" id=\"path907\"/>\n",
       "    <path style=\"fill:none;stroke:#000000;stroke-width:0.264583px;stroke-linecap:butt;stroke-linejoin:miter;stroke-opacity:1\" d=\"M 90.47073,105.17056 V 51.315741\" id=\"path911\"/>\n",
       "    <path style=\"fill:none;stroke:#000000;stroke-width:0.264583px;stroke-linecap:butt;stroke-linejoin:miter;stroke-opacity:1\" d=\"M 10.423511,62.407434 H 90.470735\" id=\"path913\"/>\n",
       "    <text xml:space=\"preserve\" style=\"font-style:normal;font-variant:normal;font-weight:normal;font-stretch:normal;font-size:9.87777px;line-height:1.25;font-family:sans-serif;-inkscape-font-specification:sans-serif;letter-spacing:0px;word-spacing:0px;fill:#000000;fill-opacity:1;stroke:none;stroke-width:0.264583\" x=\"45.97036\" y=\"60.402912\" id=\"text917\"><tspan sodipodi:role=\"line\" id=\"tspan915\" x=\"45.97036\" y=\"60.402912\" style=\"stroke-width:0.264583\">x</tspan></text>\n",
       "    <path style=\"fill:#000000;stroke:#000000;stroke-width:0.264583px;stroke-linecap:butt;stroke-linejoin:miter;stroke-opacity:1\" d=\"m 90.470735,62.407434 -5.142611,-1.553268 v 3.118302 z\" id=\"path919\"/>\n",
       "    <path style=\"fill:none;stroke:#000000;stroke-width:0.264583px;stroke-linecap:butt;stroke-linejoin:miter;stroke-opacity:1\" d=\"m 90.470732,77.632935 c 14.711798,1.322936 25.387318,8.377375 27.537628,27.537625\" id=\"path943\" sodipodi:nodetypes=\"cc\"/>\n",
       "    <text xml:space=\"preserve\" style=\"font-style:normal;font-variant:normal;font-weight:normal;font-stretch:normal;font-size:9.87777px;line-height:1.25;font-family:sans-serif;-inkscape-font-specification:sans-serif;letter-spacing:0px;word-spacing:0px;fill:#ff0000;fill-opacity:1;stroke:none;stroke-width:0.264583\" x=\"-0.37797561\" y=\"71.4375\" id=\"text951\"><tspan sodipodi:role=\"line\" id=\"tspan949\" x=\"-0.37797561\" y=\"71.4375\" style=\"fill:#ff0000;stroke-width:0.264583\">N</tspan></text>\n",
       "    <text xml:space=\"preserve\" style=\"font-style:normal;font-variant:normal;font-weight:normal;font-stretch:normal;font-size:9.87777px;line-height:1.25;font-family:sans-serif;-inkscape-font-specification:sans-serif;letter-spacing:0px;word-spacing:0px;fill:#ff0000;fill-opacity:1;stroke:none;stroke-width:0.264583\" x=\"13.040177\" y=\"74.083328\" id=\"text955\"><tspan sodipodi:role=\"line\" id=\"tspan953\" x=\"13.040177\" y=\"74.083328\" style=\"fill:#ff0000;stroke-width:0.264583\">n<tspan style=\"font-size:65%;baseline-shift:sub\" id=\"tspan961\">y</tspan></tspan></text>\n",
       "    <text xml:space=\"preserve\" style=\"font-style:normal;font-variant:normal;font-weight:normal;font-stretch:normal;font-size:9.87777px;line-height:1.25;font-family:sans-serif;-inkscape-font-specification:sans-serif;letter-spacing:0px;word-spacing:0px;fill:#ff0000;fill-opacity:1;stroke:none;stroke-width:0.264583\" x=\"36.474701\" y=\"116.03869\" id=\"text959\"><tspan sodipodi:role=\"line\" id=\"tspan957\" x=\"36.474701\" y=\"116.03869\" style=\"fill:#ff0000;stroke-width:0.264583\">n<tspan style=\"font-size:65%;baseline-shift:sub\" id=\"tspan963\">x</tspan></tspan></text>\n",
       "    <text xml:space=\"preserve\" style=\"font-style:normal;font-variant:normal;font-weight:normal;font-stretch:normal;font-size:9.87777px;line-height:1.25;font-family:sans-serif;-inkscape-font-specification:sans-serif;letter-spacing:0px;word-spacing:0px;fill:#0000ff;fill-opacity:1;stroke:none;stroke-width:0.264583\" x=\"99.21875\" y=\"113.20386\" id=\"text967\"><tspan sodipodi:role=\"line\" id=\"tspan965\" x=\"99.21875\" y=\"113.20386\" style=\"fill:#0000ff;stroke-width:0.264583\">d<tspan style=\"font-size:65%;baseline-shift:sub\" id=\"tspan975\">x</tspan></tspan></text>\n",
       "    <text xml:space=\"preserve\" style=\"font-style:normal;font-variant:normal;font-weight:normal;font-stretch:normal;font-size:9.87777px;line-height:1.25;font-family:sans-serif;-inkscape-font-specification:sans-serif;letter-spacing:0px;word-spacing:0px;fill:#0000ff;fill-opacity:1;stroke:none;stroke-width:0.264583\" x=\"89.944901\" y=\"93.820305\" id=\"text971\"><tspan sodipodi:role=\"line\" id=\"tspan969\" x=\"89.944901\" y=\"93.820305\" style=\"fill:#0000ff;stroke-width:0.264583\">d<tspan style=\"font-size:65%;baseline-shift:sub\" id=\"tspan973\">y</tspan></tspan></text>\n",
       "    <g id=\"g983\" transform=\"translate(-19.024774,-8.139919)\">\n",
       "      <ellipse style=\"fill:#ffffff;stroke:#000000;stroke-width:0.499999;stroke-miterlimit:4;stroke-dasharray:none\" id=\"path977\" cx=\"135.59895\" cy=\"90.241821\" rx=\"2.5513394\" ry=\"3.8742559\"/>\n",
       "      <path style=\"fill:none;stroke:#000000;stroke-width:0.365;stroke-linecap:butt;stroke-linejoin:miter;stroke-miterlimit:4;stroke-dasharray:none;stroke-opacity:1\" d=\"m 133.04761,90.24182 h 5.10268\" id=\"path979\"/>\n",
       "    </g>\n",
       "    <path style=\"fill:#000000;stroke:#000000;stroke-width:0.264583px;stroke-linecap:butt;stroke-linejoin:miter;stroke-opacity:1\" d=\"m 118.00836,105.17056 0.72341,-5.243106 -3.44903,1.039436 z\" id=\"path985\"/>\n",
       "    <path style=\"fill:#000000;stroke:#000000;stroke-width:0.264583px;stroke-linecap:butt;stroke-linejoin:miter;stroke-opacity:1\" d=\"m 90.47073,105.17056 -19.269467,11.52959 5.43341,-1.41741 -1.842634,-2.97656 -3.590776,4.39397\" id=\"path987\"/>\n",
       "    <text xml:space=\"preserve\" style=\"font-style:normal;font-variant:normal;font-weight:normal;font-stretch:normal;font-size:9.87777px;line-height:1.25;font-family:sans-serif;-inkscape-font-specification:sans-serif;letter-spacing:0px;word-spacing:0px;fill:#000000;fill-opacity:1;stroke:none;stroke-width:0.264583\" x=\"76.729164\" y=\"110.46353\" id=\"text991\"><tspan sodipodi:role=\"line\" id=\"tspan989\" x=\"76.729164\" y=\"110.46353\" style=\"stroke-width:0.264583\">r</tspan></text>\n",
       "    <text xml:space=\"preserve\" style=\"font-style:normal;font-variant:normal;font-weight:normal;font-stretch:normal;font-size:9.87777px;line-height:1.25;font-family:sans-serif;-inkscape-font-specification:sans-serif;letter-spacing:0px;word-spacing:0px;fill:#ff0000;fill-opacity:1;stroke:none;stroke-width:0.264583\" x=\"36.138321\" y=\"114.52499\" id=\"text995\"><tspan sodipodi:role=\"line\" id=\"tspan993\" x=\"36.138321\" y=\"114.52499\" style=\"fill:#ff0000;stroke-width:0.264583\">^</tspan></text>\n",
       "    <text xml:space=\"preserve\" style=\"font-style:normal;font-variant:normal;font-weight:normal;font-stretch:normal;font-size:9.87777px;line-height:1.25;font-family:sans-serif;-inkscape-font-specification:sans-serif;letter-spacing:0px;word-spacing:0px;fill:#ff0000;fill-opacity:1;stroke:none;stroke-width:0.264583\" x=\"13.019506\" y=\"71.8955\" id=\"text999\"><tspan sodipodi:role=\"line\" id=\"tspan997\" x=\"13.019506\" y=\"71.8955\" style=\"fill:#ff0000;stroke-width:0.264583\">^</tspan></text>\n",
       "    <text xml:space=\"preserve\" style=\"font-style:normal;font-variant:normal;font-weight:normal;font-stretch:normal;font-size:9.87777px;line-height:1.25;font-family:sans-serif;-inkscape-font-specification:sans-serif;letter-spacing:0px;word-spacing:0px;fill:#0000ff;fill-opacity:1;stroke:none;stroke-width:0.264583\" x=\"100.01574\" y=\"109.04597\" id=\"text1003\"><tspan sodipodi:role=\"line\" id=\"tspan1001\" x=\"100.01574\" y=\"109.04597\" style=\"fill:#0000ff;stroke-width:0.264583\">^</tspan></text>\n",
       "    <text xml:space=\"preserve\" style=\"font-style:normal;font-variant:normal;font-weight:normal;font-stretch:normal;font-size:9.87777px;line-height:1.25;font-family:sans-serif;-inkscape-font-specification:sans-serif;letter-spacing:0px;word-spacing:0px;fill:#0000ff;fill-opacity:1;stroke:none;stroke-width:0.264583\" x=\"89.859497\" y=\"90.203468\" id=\"text1007\"><tspan sodipodi:role=\"line\" id=\"tspan1005\" x=\"89.859497\" y=\"90.203468\" style=\"fill:#0000ff;stroke-width:0.264583\">^</tspan></text>\n",
       "    <text xml:space=\"preserve\" style=\"font-style:normal;font-variant:normal;font-weight:normal;font-stretch:normal;font-size:9.87777px;line-height:1.25;font-family:sans-serif;-inkscape-font-specification:sans-serif;letter-spacing:0px;word-spacing:0px;fill:#ff0000;fill-opacity:1;stroke:none;stroke-width:0.264583\" x=\"3.9323425\" y=\"110.78322\" id=\"text1011\"><tspan sodipodi:role=\"line\" id=\"tspan1009\" x=\"3.9323425\" y=\"110.78322\" style=\"fill:#ff0000;stroke-width:0.264583\">o</tspan></text>\n",
       "    <text xml:space=\"preserve\" style=\"font-style:normal;font-variant:normal;font-weight:normal;font-stretch:normal;font-size:6.75741px;line-height:1.25;font-family:sans-serif;-inkscape-font-specification:sans-serif;letter-spacing:0px;word-spacing:0px;fill:#0000ff;fill-opacity:1;stroke:none;stroke-width:0.181002\" x=\"81.195839\" y=\"103.79009\" id=\"text1015\"><tspan sodipodi:role=\"line\" id=\"tspan1013\" x=\"81.195839\" y=\"103.79009\" style=\"fill:#0000ff;stroke-width:0.181002\">O<tspan style=\"font-size:4.39232px;baseline-shift:sub;fill:#0000ff;stroke-width:0.181002\" id=\"tspan1017\">D</tspan></tspan></text>\n",
       "    <path style=\"fill:#00ffff;stroke:#00ffff;stroke-width:0.26458299;stroke-linecap:butt;stroke-linejoin:miter;stroke-opacity:1;stroke-miterlimit:4;stroke-dasharray:1.58749792, 0.52916596999999999;stroke-dashoffset:0\" d=\"m 90.47073,105.17056 16.13145,16.13145\" id=\"path1019\"/>\n",
       "  </g>\n",
       "</svg>"
      ],
      "text/plain": [
       "<IPython.core.display.SVG object>"
      ]
     },
     "execution_count": 22,
     "metadata": {},
     "output_type": "execute_result"
    }
   ],
   "source": [
    "SVG('disco1.svg')"
   ]
  },
  {
   "cell_type": "code",
   "execution_count": 23,
   "metadata": {
    "slideshow": {
     "slide_type": "fragment"
    }
   },
   "outputs": [],
   "source": [
    "theta,x = me.dynamicsymbols('theta x')\n",
    "r = sy.symbols('r')"
   ]
  },
  {
   "cell_type": "code",
   "execution_count": 24,
   "metadata": {
    "slideshow": {
     "slide_type": "fragment"
    }
   },
   "outputs": [],
   "source": [
    "N = me.ReferenceFrame('N')\n",
    "D = me.ReferenceFrame('D')"
   ]
  },
  {
   "cell_type": "code",
   "execution_count": 25,
   "metadata": {
    "slideshow": {
     "slide_type": "fragment"
    }
   },
   "outputs": [],
   "source": [
    "D.orient(N,'Axis',[-theta,N.z])"
   ]
  },
  {
   "cell_type": "code",
   "execution_count": 26,
   "metadata": {
    "slideshow": {
     "slide_type": "fragment"
    }
   },
   "outputs": [
    {
     "data": {
      "text/latex": [
       "$\\displaystyle -  \\dot{\\theta}\\mathbf{\\hat{n}_z}$"
      ],
      "text/plain": [
       "- theta'*N.z"
      ]
     },
     "execution_count": 26,
     "metadata": {},
     "output_type": "execute_result"
    }
   ],
   "source": [
    "D.ang_vel_in(N)"
   ]
  },
  {
   "cell_type": "code",
   "execution_count": 27,
   "metadata": {
    "slideshow": {
     "slide_type": "fragment"
    }
   },
   "outputs": [
    {
     "data": {
      "text/latex": [
       "$\\displaystyle -  \\ddot{\\theta}\\mathbf{\\hat{n}_z}$"
      ],
      "text/plain": [
       "- theta''*N.z"
      ]
     },
     "execution_count": 27,
     "metadata": {},
     "output_type": "execute_result"
    }
   ],
   "source": [
    "D.ang_acc_in(N)"
   ]
  },
  {
   "cell_type": "code",
   "execution_count": 28,
   "metadata": {
    "slideshow": {
     "slide_type": "subslide"
    }
   },
   "outputs": [],
   "source": [
    "pOdO = x*N.x\n",
    "pCOd = r*D.x"
   ]
  },
  {
   "cell_type": "code",
   "execution_count": 29,
   "metadata": {
    "slideshow": {
     "slide_type": "fragment"
    }
   },
   "outputs": [
    {
     "data": {
      "text/latex": [
       "$\\displaystyle x\\mathbf{\\hat{n}_x} + r\\mathbf{\\hat{d}_x}$"
      ],
      "text/plain": [
       "x*N.x + r*D.x"
      ]
     },
     "execution_count": 29,
     "metadata": {},
     "output_type": "execute_result"
    }
   ],
   "source": [
    "pCO = pOdO + pCOd\n",
    "pCO"
   ]
  },
  {
   "cell_type": "code",
   "execution_count": 30,
   "metadata": {
    "slideshow": {
     "slide_type": "fragment"
    }
   },
   "outputs": [
    {
     "data": {
      "text/latex": [
       "$\\displaystyle \\dot{x}\\mathbf{\\hat{n}_x} -  r \\dot{\\theta}\\mathbf{\\hat{d}_y}$"
      ],
      "text/plain": [
       "x'*N.x - r*theta'*D.y"
      ]
     },
     "execution_count": 30,
     "metadata": {},
     "output_type": "execute_result"
    }
   ],
   "source": [
    "velC = pCO.dt(N)\n",
    "velC"
   ]
  },
  {
   "cell_type": "markdown",
   "metadata": {
    "slideshow": {
     "slide_type": "subslide"
    }
   },
   "source": [
    "Quando $C$ é o ponto de contato do disco com o chão:\n",
    "$$\\hat{\\mathbf{d}}_y = \\hat{\\mathbf{n}}_x$$\n",
    "$$\\theta = \\dfrac{\\pi}{2}$$\n",
    "Neste instante de tempo, temos que:\n",
    "$${}^{N}\\vec{v} {}^{C} = \\vec{0}$$"
   ]
  },
  {
   "cell_type": "code",
   "execution_count": 31,
   "metadata": {
    "slideshow": {
     "slide_type": "fragment"
    }
   },
   "outputs": [
    {
     "data": {
      "text/latex": [
       "$\\displaystyle (- r \\operatorname{sin}\\left(\\theta\\right) \\dot{\\theta} + \\dot{x})\\mathbf{\\hat{n}_x} -  r \\operatorname{cos}\\left(\\theta\\right) \\dot{\\theta}\\mathbf{\\hat{n}_y}$"
      ],
      "text/plain": [
       "(-r*sin(theta)*theta' + x')*N.x - r*cos(theta)*theta'*N.y"
      ]
     },
     "execution_count": 31,
     "metadata": {},
     "output_type": "execute_result"
    }
   ],
   "source": [
    "velC.express(N)"
   ]
  },
  {
   "cell_type": "code",
   "execution_count": 32,
   "metadata": {
    "slideshow": {
     "slide_type": "fragment"
    }
   },
   "outputs": [
    {
     "data": {
      "text/latex": [
       "$\\displaystyle (- r \\dot{\\theta} + \\dot{x})\\mathbf{\\hat{n}_x}$"
      ],
      "text/plain": [
       "(-r*theta' + x')*N.x"
      ]
     },
     "execution_count": 32,
     "metadata": {},
     "output_type": "execute_result"
    }
   ],
   "source": [
    "dic = {theta:sy.pi/2}\n",
    "Eq = me.msubs(velC.express(N),dic)\n",
    "Eq"
   ]
  },
  {
   "cell_type": "code",
   "execution_count": 33,
   "metadata": {
    "slideshow": {
     "slide_type": "subslide"
    }
   },
   "outputs": [
    {
     "data": {
      "text/latex": [
       "$\\displaystyle - r \\frac{d}{d t} \\theta{\\left(t \\right)} + \\frac{d}{d t} x{\\left(t \\right)} = 0$"
      ],
      "text/plain": [
       "Eq(-r*Derivative(theta(t), t) + Derivative(x(t), t), 0)"
      ]
     },
     "execution_count": 33,
     "metadata": {},
     "output_type": "execute_result"
    }
   ],
   "source": [
    "Eqx = sy.Eq(Eq.dot(N.x),0)\n",
    "Eqx"
   ]
  },
  {
   "cell_type": "code",
   "execution_count": 34,
   "metadata": {
    "slideshow": {
     "slide_type": "fragment"
    }
   },
   "outputs": [
    {
     "data": {
      "text/latex": [
       "$\\displaystyle r \\frac{d}{d t} \\theta{\\left(t \\right)}$"
      ],
      "text/plain": [
       "r*Derivative(theta(t), t)"
      ]
     },
     "execution_count": 34,
     "metadata": {},
     "output_type": "execute_result"
    }
   ],
   "source": [
    "xsol = sy.solve(Eqx,x.diff())[0]\n",
    "xsol"
   ]
  },
  {
   "cell_type": "code",
   "execution_count": 35,
   "metadata": {
    "slideshow": {
     "slide_type": "fragment"
    }
   },
   "outputs": [
    {
     "data": {
      "text/latex": [
       "$\\displaystyle \\frac{d}{d t} x{\\left(t \\right)} = r \\frac{d}{d t} \\theta{\\left(t \\right)}$"
      ],
      "text/plain": [
       "Eq(Derivative(x(t), t), r*Derivative(theta(t), t))"
      ]
     },
     "execution_count": 35,
     "metadata": {},
     "output_type": "execute_result"
    }
   ],
   "source": [
    "sy.Eq(x.diff(),xsol)"
   ]
  },
  {
   "cell_type": "markdown",
   "metadata": {
    "slideshow": {
     "slide_type": "subslide"
    }
   },
   "source": [
    "### 3.3.2 Equações de Restrições Cinemáticas ou Equações de Vínculos"
   ]
  },
  {
   "cell_type": "markdown",
   "metadata": {
    "slideshow": {
     "slide_type": "subslide"
    }
   },
   "source": [
    "A determinação da configuração do sistema pode ser feita através de um conjunto de funções escalares do tempo, $q_1(t)$, $q_2(t)$, ..., $q_n(t)$, denominadas **coordenadas generalizadas** ou, simplesmente, coordenadas do sistema.\n",
    "* O número de coordenadas generalizadas mutuamente independentes de um sistema mecânico é conhecido como **número de graus de liberdade** do sistema.  \n",
    "$$f(q_1,q_2,...,q_n,\\dot{q}_1,\\dot{q}_2,...,\\dot{q}_n,t) = 0$$"
   ]
  },
  {
   "cell_type": "code",
   "execution_count": 36,
   "metadata": {
    "slideshow": {
     "slide_type": "subslide"
    }
   },
   "outputs": [
    {
     "data": {
      "image/svg+xml": [
       "<svg xmlns:dc=\"http://purl.org/dc/elements/1.1/\" xmlns:cc=\"http://creativecommons.org/ns#\" xmlns:rdf=\"http://www.w3.org/1999/02/22-rdf-syntax-ns#\" xmlns:svg=\"http://www.w3.org/2000/svg\" xmlns=\"http://www.w3.org/2000/svg\" xmlns:sodipodi=\"http://sodipodi.sourceforge.net/DTD/sodipodi-0.dtd\" xmlns:inkscape=\"http://www.inkscape.org/namespaces/inkscape\" width=\"86.461693mm\" height=\"47.92981mm\" viewBox=\"0 0 86.461693 47.92981\" version=\"1.1\" id=\"svg1894\" inkscape:version=\"1.0.1 (3bc2e813f5, 2020-09-07)\" sodipodi:docname=\"robo1.svg\">\n",
       "  <defs id=\"defs1888\"/>\n",
       "  <sodipodi:namedview id=\"base\" pagecolor=\"#ffffff\" bordercolor=\"#666666\" borderopacity=\"1.0\" inkscape:pageopacity=\"0.0\" inkscape:pageshadow=\"2\" inkscape:zoom=\"2.8\" inkscape:cx=\"129.37101\" inkscape:cy=\"112.52531\" inkscape:document-units=\"mm\" inkscape:current-layer=\"layer1\" inkscape:document-rotation=\"0\" showgrid=\"false\" inkscape:snap-object-midpoints=\"true\" inkscape:snap-others=\"false\" inkscape:snap-nodes=\"false\" inkscape:snap-smooth-nodes=\"false\" inkscape:snap-intersection-paths=\"false\" inkscape:snap-midpoints=\"false\" inkscape:window-width=\"1920\" inkscape:window-height=\"1017\" inkscape:window-x=\"-8\" inkscape:window-y=\"-8\" inkscape:window-maximized=\"1\"/>\n",
       "  <metadata id=\"metadata1891\">\n",
       "    <rdf:RDF>\n",
       "      <cc:Work rdf:about=\"\">\n",
       "        <dc:format>image/svg+xml</dc:format>\n",
       "        <dc:type rdf:resource=\"http://purl.org/dc/dcmitype/StillImage\"/>\n",
       "        <dc:title/>\n",
       "      </cc:Work>\n",
       "    </rdf:RDF>\n",
       "  </metadata>\n",
       "  <g inkscape:label=\"Layer 1\" inkscape:groupmode=\"layer\" id=\"layer1\" transform=\"translate(-25.123336,-151.15101)\">\n",
       "    <path id=\"rect2465\" style=\"fill:#ffffff;stroke:#000000;stroke-width:0.600002;stroke-miterlimit:4;stroke-dasharray:none\" d=\"m 34.611928,175.00507 c -2.670263,0 -4.819536,2.12792 -4.819536,4.77069 v 2.56796 h -0.0596 v 8.27857 h 9.758251 v -8.27857 h -0.05883 v -2.56796 c 0,-2.64277 -2.150031,-4.77069 -4.820292,-4.77069 z\"/>\n",
       "    <rect style=\"fill:#ffffff;stroke:#000000;stroke-width:0.6;stroke-miterlimit:4;stroke-dasharray:none\" id=\"rect2457\" width=\"6.9490075\" height=\"37.417732\" x=\"132.42323\" y=\"87.748741\" ry=\"3.4745038\" transform=\"rotate(37.30893)\"/>\n",
       "    <path style=\"fill:none;stroke:#000000;stroke-width:0.665;stroke-linecap:butt;stroke-linejoin:miter;stroke-miterlimit:4;stroke-dasharray:none;stroke-opacity:1\" d=\"m 94.592276,168.92715 -5.491499,-5.32587 -7.418016,0.93241 1.797621,2.79054 5.13859,-0.79516 3.19765,3.01178 z\" id=\"path2482\"/>\n",
       "    <rect style=\"fill:#ffffff;stroke:#000000;stroke-width:0.6;stroke-miterlimit:4;stroke-dasharray:none\" id=\"rect2459\" width=\"6.9490075\" height=\"37.417732\" x=\"113.67439\" y=\"-148.3118\" ry=\"3.4745038\" transform=\"rotate(115.48005)\" inkscape:transform-center-x=\"-13.923483\" inkscape:transform-center-y=\"6.5047636\"/>\n",
       "    <circle style=\"fill:#ffffff;stroke:#000000;stroke-width:0.600001;stroke-miterlimit:4;stroke-dasharray:none\" id=\"path2461\" cx=\"34.301342\" cy=\"179.2552\" r=\"1.6063988\"/>\n",
       "    <circle style=\"fill:#ffffff;stroke:#000000;stroke-width:0.600001;stroke-miterlimit:4;stroke-dasharray:none\" id=\"circle2463\" cx=\"53.011162\" cy=\"155.34821\" r=\"1.6063988\"/>\n",
       "    <circle style=\"fill:#ffffff;stroke:#000000;stroke-width:0.600001;stroke-miterlimit:4;stroke-dasharray:none\" id=\"circle2478\" cx=\"79.847473\" cy=\"167.72693\" r=\"1.6063988\"/>\n",
       "    <path style=\"fill:none;stroke:#000000;stroke-width:0.665;stroke-linecap:butt;stroke-linejoin:miter;stroke-miterlimit:4;stroke-dasharray:none;stroke-opacity:1\" d=\"m 77.579613,170.75074 2.362351,7.27604 6.992559,2.64584 -0.283482,-3.3073 -4.913691,-1.70089 -1.41741,-4.15773 z\" id=\"path2480\"/>\n",
       "    <g id=\"g2505\" style=\"stroke-width:0.371409;stroke-miterlimit:4;stroke-dasharray:none\" transform=\"matrix(1.8123249,0,0,1,7.6856837,-3.3408691)\">\n",
       "      <path style=\"fill:none;stroke:#000000;stroke-width:0.371409;stroke-linecap:butt;stroke-linejoin:miter;stroke-miterlimit:4;stroke-dasharray:none;stroke-opacity:1\" d=\"m 9.621703,194.17131 h 47.70761\" id=\"path2484\"/>\n",
       "      <path style=\"fill:none;stroke:#000000;stroke-width:0.371409;stroke-linecap:butt;stroke-linejoin:miter;stroke-miterlimit:4;stroke-dasharray:none;stroke-opacity:1\" d=\"m 9.8889724,194.43858 4.9444866,7.88445\" id=\"path2486\"/>\n",
       "      <path style=\"fill:none;stroke:#000000;stroke-width:0.371409;stroke-linecap:butt;stroke-linejoin:miter;stroke-miterlimit:4;stroke-dasharray:none;stroke-opacity:1\" d=\"m 18.355644,194.43858 4.944487,7.88445\" id=\"path2488\"/>\n",
       "      <path style=\"fill:none;stroke:#000000;stroke-width:0.371409;stroke-linecap:butt;stroke-linejoin:miter;stroke-miterlimit:4;stroke-dasharray:none;stroke-opacity:1\" d=\"m 26.293149,194.43858 4.944487,7.88445\" id=\"path2490\"/>\n",
       "      <path style=\"fill:none;stroke:#000000;stroke-width:0.371409;stroke-linecap:butt;stroke-linejoin:miter;stroke-miterlimit:4;stroke-dasharray:none;stroke-opacity:1\" d=\"m 34.759821,194.43858 4.944487,7.88445\" id=\"path2492\"/>\n",
       "      <path style=\"fill:none;stroke:#000000;stroke-width:0.371409;stroke-linecap:butt;stroke-linejoin:miter;stroke-miterlimit:4;stroke-dasharray:none;stroke-opacity:1\" d=\"m 43.226493,194.43858 4.944487,7.88445\" id=\"path2494\"/>\n",
       "      <path style=\"fill:none;stroke:#000000;stroke-width:0.371409;stroke-linecap:butt;stroke-linejoin:miter;stroke-miterlimit:4;stroke-dasharray:none;stroke-opacity:1\" d=\"m 51.163998,194.43858 4.944487,7.88445\" id=\"path2496\"/>\n",
       "    </g>\n",
       "    <path style=\"fill:none;stroke:#ff0000;stroke-width:0.264583px;stroke-linecap:butt;stroke-linejoin:miter;stroke-opacity:1\" d=\"M 34.2105,179.20422 H 58.064304\" id=\"path2507\"/>\n",
       "    <path style=\"fill:none;stroke:#ff0000;stroke-width:0.264583px;stroke-linecap:butt;stroke-linejoin:miter;stroke-opacity:1\" d=\"m 44.634012,179.07058 c 0.211868,-1.94341 -1.055546,-3.14718 -2.605879,-4.20949\" id=\"path2509\" sodipodi:nodetypes=\"cc\"/>\n",
       "    <path style=\"fill:none;stroke:#ff0000;stroke-width:0.264583px;stroke-linecap:butt;stroke-linejoin:miter;stroke-opacity:1\" d=\"m 50.246671,164.23712 c 3.060118,1.02434 6.316026,1.54833 10.958049,-1.46998\" id=\"path2511\" sodipodi:nodetypes=\"cc\"/>\n",
       "    <path style=\"fill:#ff0000;stroke:#ff0000;stroke-width:0.264583px;stroke-linecap:butt;stroke-linejoin:miter;stroke-opacity:1\" d=\"m 42.128357,174.9279 0.467723,1.5368 1.102487,-1.13589 z\" id=\"path2513\"/>\n",
       "    <path style=\"fill:#ff0000;stroke:#ff0000;stroke-width:0.264583px;stroke-linecap:butt;stroke-linejoin:miter;stroke-opacity:1\" d=\"m 59.300427,162.96759 1.135893,1.36975 0.668176,-1.50339 z\" id=\"path2515\"/>\n",
       "    <text xml:space=\"preserve\" style=\"font-style:normal;font-variant:normal;font-weight:normal;font-stretch:normal;font-size:4.25779px;line-height:1.25;font-family:sans-serif;-inkscape-font-specification:sans-serif;letter-spacing:0px;word-spacing:0px;fill:#ff0000;fill-opacity:1;stroke:none;stroke-width:0.264583\" x=\"45.14455\" y=\"177.33301\" id=\"text2519\"><tspan sodipodi:role=\"line\" id=\"tspan2517\" x=\"45.14455\" y=\"177.33301\" style=\"fill:#ff0000;stroke-width:0.264583\">q<tspan style=\"font-size:65%;baseline-shift:sub\" id=\"tspan2525\">1</tspan></tspan></text>\n",
       "    <text xml:space=\"preserve\" style=\"font-style:normal;font-variant:normal;font-weight:normal;font-stretch:normal;font-size:4.25779px;line-height:1.25;font-family:sans-serif;-inkscape-font-specification:sans-serif;letter-spacing:0px;word-spacing:0px;fill:#ff0000;fill-opacity:1;stroke:none;stroke-width:0.264583\" x=\"54.09808\" y=\"168.78038\" id=\"text2523\"><tspan sodipodi:role=\"line\" id=\"tspan2521\" x=\"54.09808\" y=\"168.78038\" style=\"fill:#ff0000;stroke-width:0.264583\">q<tspan style=\"font-size:65%;baseline-shift:sub\" id=\"tspan2527\">2</tspan></tspan></text>\n",
       "    <rect style=\"fill:#cccccc;stroke:#000000;stroke-width:0.499999;stroke-miterlimit:4;stroke-dasharray:none\" id=\"rect2529\" width=\"8.598958\" height=\"7.3705359\" x=\"86.260986\" y=\"169.57735\"/>\n",
       "    <path style=\"fill:#0000ff;stroke:#0000ff;stroke-width:0.264583px;stroke-linecap:butt;stroke-linejoin:miter;stroke-opacity:1\" d=\"m 90.434315,173.45011 h 8.418996 l -2.6727,-1.20272 -0.0668,2.40543 2.73951,-1.20271\" id=\"path2542\"/>\n",
       "    <path style=\"fill:#0000ff;stroke:#0000ff;stroke-width:0.264583px;stroke-linecap:butt;stroke-linejoin:miter;stroke-opacity:1\" d=\"m 90.486085,173.59637 v -8.419 l -1.20272,2.6727 2.40543,0.0668 -1.20271,-2.73951\" id=\"path3153\"/>\n",
       "  </g>\n",
       "</svg>"
      ],
      "text/plain": [
       "<IPython.core.display.SVG object>"
      ]
     },
     "execution_count": 36,
     "metadata": {},
     "output_type": "execute_result"
    }
   ],
   "source": [
    "SVG('robo1.svg')"
   ]
  },
  {
   "cell_type": "markdown",
   "metadata": {
    "slideshow": {
     "slide_type": "fragment"
    }
   },
   "source": [
    "2 coordenadas generalizadas independentes"
   ]
  },
  {
   "cell_type": "code",
   "execution_count": 37,
   "metadata": {
    "scrolled": true,
    "slideshow": {
     "slide_type": "subslide"
    }
   },
   "outputs": [
    {
     "data": {
      "image/svg+xml": [
       "<svg xmlns:dc=\"http://purl.org/dc/elements/1.1/\" xmlns:cc=\"http://creativecommons.org/ns#\" xmlns:rdf=\"http://www.w3.org/1999/02/22-rdf-syntax-ns#\" xmlns:svg=\"http://www.w3.org/2000/svg\" xmlns=\"http://www.w3.org/2000/svg\" xmlns:sodipodi=\"http://sodipodi.sourceforge.net/DTD/sodipodi-0.dtd\" xmlns:inkscape=\"http://www.inkscape.org/namespaces/inkscape\" width=\"73.516006mm\" height=\"38.410149mm\" viewBox=\"0 0 73.516007 38.410149\" version=\"1.1\" id=\"svg1894\" inkscape:version=\"1.0.1 (3bc2e813f5, 2020-09-07)\" sodipodi:docname=\"robo2.svg\">\n",
       "  <defs id=\"defs1888\"/>\n",
       "  <sodipodi:namedview id=\"base\" pagecolor=\"#ffffff\" bordercolor=\"#666666\" borderopacity=\"1.0\" inkscape:pageopacity=\"0.0\" inkscape:pageshadow=\"2\" inkscape:zoom=\"3.959798\" inkscape:cx=\"158.42614\" inkscape:cy=\"90.192171\" inkscape:document-units=\"mm\" inkscape:current-layer=\"layer1\" inkscape:document-rotation=\"0\" showgrid=\"false\" inkscape:snap-object-midpoints=\"true\" inkscape:snap-others=\"false\" inkscape:snap-nodes=\"false\" inkscape:snap-smooth-nodes=\"false\" inkscape:snap-intersection-paths=\"false\" inkscape:snap-midpoints=\"false\" inkscape:window-width=\"1920\" inkscape:window-height=\"1017\" inkscape:window-x=\"-8\" inkscape:window-y=\"-8\" inkscape:window-maximized=\"1\"/>\n",
       "  <metadata id=\"metadata1891\">\n",
       "    <rdf:RDF>\n",
       "      <cc:Work rdf:about=\"\">\n",
       "        <dc:format>image/svg+xml</dc:format>\n",
       "        <dc:type rdf:resource=\"http://purl.org/dc/dcmitype/StillImage\"/>\n",
       "        <dc:title/>\n",
       "      </cc:Work>\n",
       "    </rdf:RDF>\n",
       "  </metadata>\n",
       "  <g inkscape:label=\"Layer 1\" inkscape:groupmode=\"layer\" id=\"layer1\" transform=\"translate(-25.123336,-160.67901)\">\n",
       "    <path id=\"rect2465\" style=\"fill:#ffffff;stroke:#000000;stroke-width:0.600002;stroke-miterlimit:4;stroke-dasharray:none\" d=\"m 34.611928,175.00507 c -2.670263,0 -4.819536,2.12792 -4.819536,4.77069 v 2.56796 h -0.0596 v 8.27857 h 9.758251 v -8.27857 h -0.05883 v -2.56796 c 0,-2.64277 -2.150031,-4.77069 -4.820292,-4.77069 z\"/>\n",
       "    <rect style=\"fill:#ffffff;stroke:#000000;stroke-width:0.6;stroke-miterlimit:4;stroke-dasharray:none\" id=\"rect2457\" width=\"6.9490075\" height=\"37.417732\" x=\"170.3443\" y=\"21.60391\" ry=\"3.4745038\" transform=\"rotate(61.427463)\" inkscape:transform-center-x=\"-13.519285\" inkscape:transform-center-y=\"-7.3029342\"/>\n",
       "    <rect style=\"fill:#cccccc;stroke:#000000;stroke-width:0.5;stroke-miterlimit:4;stroke-dasharray:none\" id=\"rect2529\" width=\"11.055803\" height=\"9.8273811\" x=\"78.89045\" y=\"180.91663\"/>\n",
       "    <path id=\"rect2459\" style=\"fill:#ffffff;stroke:#000000;stroke-width:2.26772;stroke-miterlimit:4;stroke-dasharray:none\" inkscape:transform-center-x=\"-11.419481\" inkscape:transform-center-y=\"10.284472\" d=\"m 134.9375,37.158203 c -3.35345,0.149617 -6.64857,1.5853 -9.10352,4.269531 -4.90988,5.368461 -4.54032,13.642862 0.82813,18.552735 l 84.97656,77.718751 c 5.36845,4.90987 13.64285,4.54033 18.55274,-0.82813 4.90988,-5.36846 4.54032,-13.64286 -0.82813,-18.55273 L 144.38672,40.599609 c -2.68422,-2.454936 -6.09577,-3.591023 -9.44922,-3.441406 z m 86.53125,84.777347 a 6.0714285,6.0714285 0 0 1 0.006,0 6.0714285,6.0714285 0 0 1 6.07031,6.07031 6.0714285,6.0714285 0 0 1 -6.07031,6.07226 6.0714285,6.0714285 0 0 1 -6.07227,-6.07226 6.0714285,6.0714285 0 0 1 6.06641,-6.07031 z\" transform=\"matrix(0.26458333,0,0,0.26458333,25.123336,151.15101)\"/>\n",
       "    <circle style=\"fill:#ffffff;stroke:#000000;stroke-width:0.600001;stroke-miterlimit:4;stroke-dasharray:none\" id=\"path2461\" cx=\"34.301342\" cy=\"179.2552\" r=\"1.6063988\"/>\n",
       "    <circle style=\"fill:#ffffff;stroke:#000000;stroke-width:0.600001;stroke-miterlimit:4;stroke-dasharray:none\" id=\"circle2463\" cx=\"61.13765\" cy=\"164.79761\" r=\"1.6063988\"/>\n",
       "    <g id=\"g2505\" style=\"stroke-width:0.402785;stroke-miterlimit:4;stroke-dasharray:none\" transform=\"matrix(1.5409702,0,0,1,10.296578,-3.3408691)\">\n",
       "      <path style=\"fill:none;stroke:#000000;stroke-width:0.402785;stroke-linecap:butt;stroke-linejoin:miter;stroke-miterlimit:4;stroke-dasharray:none;stroke-opacity:1\" d=\"m 9.621703,194.17131 h 47.70761\" id=\"path2484\"/>\n",
       "      <path style=\"fill:none;stroke:#000000;stroke-width:0.402785;stroke-linecap:butt;stroke-linejoin:miter;stroke-miterlimit:4;stroke-dasharray:none;stroke-opacity:1\" d=\"m 9.8889724,194.43858 4.9444866,7.88445\" id=\"path2486\"/>\n",
       "      <path style=\"fill:none;stroke:#000000;stroke-width:0.402785;stroke-linecap:butt;stroke-linejoin:miter;stroke-miterlimit:4;stroke-dasharray:none;stroke-opacity:1\" d=\"m 18.355644,194.43858 4.944487,7.88445\" id=\"path2488\"/>\n",
       "      <path style=\"fill:none;stroke:#000000;stroke-width:0.402785;stroke-linecap:butt;stroke-linejoin:miter;stroke-miterlimit:4;stroke-dasharray:none;stroke-opacity:1\" d=\"m 26.293149,194.43858 4.944487,7.88445\" id=\"path2490\"/>\n",
       "      <path style=\"fill:none;stroke:#000000;stroke-width:0.402785;stroke-linecap:butt;stroke-linejoin:miter;stroke-miterlimit:4;stroke-dasharray:none;stroke-opacity:1\" d=\"m 34.759821,194.43858 4.944487,7.88445\" id=\"path2492\"/>\n",
       "      <path style=\"fill:none;stroke:#000000;stroke-width:0.402785;stroke-linecap:butt;stroke-linejoin:miter;stroke-miterlimit:4;stroke-dasharray:none;stroke-opacity:1\" d=\"m 43.226493,194.43858 4.944487,7.88445\" id=\"path2494\"/>\n",
       "      <path style=\"fill:none;stroke:#000000;stroke-width:0.402785;stroke-linecap:butt;stroke-linejoin:miter;stroke-miterlimit:4;stroke-dasharray:none;stroke-opacity:1\" d=\"m 51.163998,194.43858 4.944487,7.88445\" id=\"path2496\"/>\n",
       "    </g>\n",
       "    <path style=\"fill:none;stroke:#ff0000;stroke-width:0.264583px;stroke-linecap:butt;stroke-linejoin:miter;stroke-opacity:1\" d=\"M 34.2105,179.20422 H 58.064304\" id=\"path2507\"/>\n",
       "    <g id=\"g2536\" transform=\"translate(7.3705357,0.1889881)\">\n",
       "      <path style=\"fill:none;stroke:#ff0000;stroke-width:0.264583px;stroke-linecap:butt;stroke-linejoin:miter;stroke-opacity:1\" d=\"m 44.634012,179.07058 c 0.211868,-1.94341 -1.055546,-3.14718 -2.605879,-4.20949\" id=\"path2509\" sodipodi:nodetypes=\"cc\"/>\n",
       "      <path style=\"fill:#ff0000;stroke:#ff0000;stroke-width:0.264583px;stroke-linecap:butt;stroke-linejoin:miter;stroke-opacity:1\" d=\"m 42.128357,174.9279 0.467723,1.5368 1.102487,-1.13589 z\" id=\"path2513\"/>\n",
       "    </g>\n",
       "    <g id=\"g2540\" transform=\"translate(-0.28348214,-0.09449405)\">\n",
       "      <path style=\"fill:none;stroke:#ff0000;stroke-width:0.264583px;stroke-linecap:butt;stroke-linejoin:miter;stroke-opacity:1\" d=\"m 52.986998,173.49754 c 3.060118,1.02434 6.316026,1.54833 10.958049,-1.46998\" id=\"path2511\" sodipodi:nodetypes=\"cc\"/>\n",
       "      <path style=\"fill:#ff0000;stroke:#ff0000;stroke-width:0.264583px;stroke-linecap:butt;stroke-linejoin:miter;stroke-opacity:1\" d=\"m 62.040754,172.03902 1.135893,1.36975 0.668176,-1.50339 z\" id=\"path2515\"/>\n",
       "    </g>\n",
       "    <text xml:space=\"preserve\" style=\"font-style:normal;font-variant:normal;font-weight:normal;font-stretch:normal;font-size:4.25779px;line-height:1.25;font-family:sans-serif;-inkscape-font-specification:sans-serif;letter-spacing:0px;word-spacing:0px;fill:#ff0000;fill-opacity:1;stroke:none;stroke-width:0.264583\" x=\"52.042618\" y=\"177.6165\" id=\"text2519\"><tspan sodipodi:role=\"line\" id=\"tspan2517\" x=\"52.042618\" y=\"177.6165\" style=\"fill:#ff0000;stroke-width:0.264583\">q<tspan style=\"font-size:65%;baseline-shift:sub\" id=\"tspan2525\">1</tspan></tspan></text>\n",
       "    <text xml:space=\"preserve\" style=\"font-style:normal;font-variant:normal;font-weight:normal;font-stretch:normal;font-size:4.25779px;line-height:1.25;font-family:sans-serif;-inkscape-font-specification:sans-serif;letter-spacing:0px;word-spacing:0px;fill:#ff0000;fill-opacity:1;stroke:none;stroke-width:0.264583\" x=\"60.145702\" y=\"176.15091\" id=\"text2523\"><tspan sodipodi:role=\"line\" id=\"tspan2521\" x=\"60.145702\" y=\"176.15091\" style=\"fill:#ff0000;stroke-width:0.264583\">q<tspan style=\"font-size:65%;baseline-shift:sub\" id=\"tspan2527\">2</tspan></tspan></text>\n",
       "    <path style=\"fill:#0000ff;stroke:#0000ff;stroke-width:0.264583px;stroke-linecap:butt;stroke-linejoin:miter;stroke-opacity:1\" d=\"m 88.065308,186.27007 h 8.418991 l -2.672694,-1.20272 -0.06682,2.40543 2.739512,-1.20271\" id=\"path2542\"/>\n",
       "  </g>\n",
       "</svg>"
      ],
      "text/plain": [
       "<IPython.core.display.SVG object>"
      ]
     },
     "execution_count": 37,
     "metadata": {},
     "output_type": "execute_result"
    }
   ],
   "source": [
    "SVG('robo2.svg')"
   ]
  },
  {
   "cell_type": "markdown",
   "metadata": {
    "slideshow": {
     "slide_type": "fragment"
    }
   },
   "source": [
    "1 coordenada generalizada independente"
   ]
  },
  {
   "cell_type": "markdown",
   "metadata": {
    "slideshow": {
     "slide_type": "subslide"
    }
   },
   "source": [
    "### Exemplo 3:"
   ]
  },
  {
   "cell_type": "code",
   "execution_count": 38,
   "metadata": {
    "slideshow": {
     "slide_type": "fragment"
    }
   },
   "outputs": [
    {
     "data": {
      "image/svg+xml": [
       "<svg xmlns:inkscape=\"http://www.inkscape.org/namespaces/inkscape\" xmlns:sodipodi=\"http://sodipodi.sourceforge.net/DTD/sodipodi-0.dtd\" xmlns=\"http://www.w3.org/2000/svg\" xmlns:svg=\"http://www.w3.org/2000/svg\" xmlns:rdf=\"http://www.w3.org/1999/02/22-rdf-syntax-ns#\" xmlns:cc=\"http://creativecommons.org/ns#\" xmlns:dc=\"http://purl.org/dc/elements/1.1/\" width=\"147.65387mm\" height=\"61.359169mm\" viewBox=\"0 0 147.65387 61.359169\" version=\"1.1\" id=\"svg8\" inkscape:version=\"1.1.1 (eb90963e84, 2021-10-02)\" sodipodi:docname=\"biela-manivela2.svg\">\n",
       "  <defs id=\"defs2\">\n",
       "    <inkscape:path-effect effect=\"spiro\" id=\"path-effect1625\" is_visible=\"true\" lpeversion=\"1\"/>\n",
       "    <inkscape:path-effect effect=\"simplify\" id=\"path-effect1621\" is_visible=\"true\" lpeversion=\"1\" steps=\"1\" threshold=\"0.00243902\" smooth_angles=\"360\" helper_size=\"0\" simplify_individual_paths=\"false\" simplify_just_coalesce=\"false\"/>\n",
       "    <inkscape:path-effect effect=\"spiro\" id=\"path-effect1502\" is_visible=\"true\" lpeversion=\"1\"/>\n",
       "    <inkscape:path-effect effect=\"simplify\" id=\"path-effect1500\" is_visible=\"true\" lpeversion=\"1\" steps=\"1\" threshold=\"0.00243902\" smooth_angles=\"360\" helper_size=\"0\" simplify_individual_paths=\"false\" simplify_just_coalesce=\"false\"/>\n",
       "    <inkscape:path-effect effect=\"spiro\" id=\"path-effect1053\" is_visible=\"true\" lpeversion=\"1\"/>\n",
       "    <inkscape:path-effect effect=\"simplify\" id=\"path-effect1051\" is_visible=\"true\" lpeversion=\"1\" steps=\"1\" threshold=\"0.00243902\" smooth_angles=\"360\" helper_size=\"0\" simplify_individual_paths=\"false\" simplify_just_coalesce=\"false\"/>\n",
       "    <inkscape:path-effect effect=\"spiro\" id=\"path-effect1125\" is_visible=\"true\" lpeversion=\"1\"/>\n",
       "    <inkscape:path-effect effect=\"simplify\" id=\"path-effect1123\" is_visible=\"true\" lpeversion=\"1\" steps=\"1\" threshold=\"0.00243902\" smooth_angles=\"360\" helper_size=\"0\" simplify_individual_paths=\"false\" simplify_just_coalesce=\"false\"/>\n",
       "    <inkscape:path-effect effect=\"spiro\" id=\"path-effect1086\" is_visible=\"true\" lpeversion=\"1\"/>\n",
       "    <inkscape:path-effect effect=\"simplify\" id=\"path-effect1082\" is_visible=\"true\" lpeversion=\"1\" steps=\"1\" threshold=\"0.00243902\" smooth_angles=\"360\" helper_size=\"0\" simplify_individual_paths=\"false\" simplify_just_coalesce=\"false\"/>\n",
       "    <inkscape:path-effect effect=\"spiro\" id=\"path-effect960\" is_visible=\"true\" lpeversion=\"1\"/>\n",
       "    <inkscape:path-effect effect=\"simplify\" id=\"path-effect958\" is_visible=\"true\" lpeversion=\"1\" steps=\"1\" threshold=\"0.00243902\" smooth_angles=\"360\" helper_size=\"0\" simplify_individual_paths=\"false\" simplify_just_coalesce=\"false\"/>\n",
       "    <marker style=\"overflow:visible\" id=\"marker1435\" refX=\"0\" refY=\"0\" orient=\"auto\" inkscape:stockid=\"Arrow1Lend\" inkscape:isstock=\"true\">\n",
       "      <path transform=\"matrix(-0.8,0,0,-0.8,-10,0)\" style=\"fill:#ff0000;fill-opacity:1;fill-rule:evenodd;stroke:#ff0000;stroke-width:1pt;stroke-opacity:1\" d=\"M 0,0 5,-5 -12.5,0 5,5 Z\" id=\"path1433\"/>\n",
       "    </marker>\n",
       "    <marker style=\"overflow:visible\" id=\"marker1413\" refX=\"0\" refY=\"0\" orient=\"auto\" inkscape:stockid=\"Arrow1Lstart\" inkscape:isstock=\"true\">\n",
       "      <path transform=\"matrix(0.8,0,0,0.8,10,0)\" style=\"fill:#000000;fill-opacity:1;fill-rule:evenodd;stroke:#000000;stroke-width:1pt;stroke-opacity:1\" d=\"M 0,0 5,-5 -12.5,0 5,5 Z\" id=\"path1411\"/>\n",
       "    </marker>\n",
       "    <marker style=\"overflow:visible\" id=\"marker1227\" refX=\"0\" refY=\"0\" orient=\"auto\" inkscape:stockid=\"Arrow1Lend\" inkscape:isstock=\"true\">\n",
       "      <path transform=\"matrix(-0.8,0,0,-0.8,-10,0)\" style=\"fill:#ff0000;fill-opacity:1;fill-rule:evenodd;stroke:#ff0000;stroke-width:1pt;stroke-opacity:1\" d=\"M 0,0 5,-5 -12.5,0 5,5 Z\" id=\"path1225\"/>\n",
       "    </marker>\n",
       "    <marker style=\"overflow:visible\" id=\"marker1193\" refX=\"0\" refY=\"0\" orient=\"auto\" inkscape:stockid=\"Arrow1Lstart\" inkscape:isstock=\"true\">\n",
       "      <path transform=\"matrix(0.8,0,0,0.8,10,0)\" style=\"fill:#ff0000;fill-opacity:1;fill-rule:evenodd;stroke:#ff0000;stroke-width:1pt;stroke-opacity:1\" d=\"M 0,0 5,-5 -12.5,0 5,5 Z\" id=\"path1191\"/>\n",
       "    </marker>\n",
       "  </defs>\n",
       "  <sodipodi:namedview id=\"base\" pagecolor=\"#ffffff\" bordercolor=\"#666666\" borderopacity=\"1.0\" inkscape:pageopacity=\"0.0\" inkscape:pageshadow=\"2\" inkscape:zoom=\"2.8\" inkscape:cx=\"514.28571\" inkscape:cy=\"118.03571\" inkscape:document-units=\"mm\" inkscape:current-layer=\"layer1\" inkscape:document-rotation=\"0\" showgrid=\"false\" showguides=\"true\" inkscape:guide-bbox=\"true\" inkscape:snap-nodes=\"false\" inkscape:snap-global=\"false\" inkscape:window-width=\"1920\" inkscape:window-height=\"1016\" inkscape:window-x=\"0\" inkscape:window-y=\"27\" inkscape:window-maximized=\"1\" inkscape:pagecheckerboard=\"0\">\n",
       "    <sodipodi:guide position=\"27.291595,21.239775\" orientation=\"0,-1\" id=\"guide837\"/>\n",
       "  </sodipodi:namedview>\n",
       "  <metadata id=\"metadata5\">\n",
       "    <rdf:RDF>\n",
       "      <cc:Work rdf:about=\"\">\n",
       "        <dc:format>image/svg+xml</dc:format>\n",
       "        <dc:type rdf:resource=\"http://purl.org/dc/dcmitype/StillImage\"/>\n",
       "        <dc:title/>\n",
       "      </cc:Work>\n",
       "    </rdf:RDF>\n",
       "  </metadata>\n",
       "  <g inkscape:label=\"Layer 1\" inkscape:groupmode=\"layer\" id=\"layer1\" transform=\"translate(-46.073888,-88.971787)\">\n",
       "    <path style=\"fill:none;stroke:#000000;stroke-width:0.7;stroke-linecap:butt;stroke-linejoin:miter;stroke-miterlimit:4;stroke-dasharray:none;stroke-opacity:1\" d=\"m 57.664388,125.46368 h 10.593798 l 6.025853,10.43709 H 52.416393 Z\" id=\"path857\"/>\n",
       "    <rect style=\"fill:#ffffff;stroke:#000000;stroke-width:0.7;stroke-miterlimit:4;stroke-dasharray:none\" id=\"rect10\" width=\"5.2892442\" height=\"54.141151\" x=\"138.3114\" y=\"-22.091949\" ry=\"2.6446221\" inkscape:transform-center-x=\"-18.801227\" inkscape:transform-center-y=\"-14.52191\" transform=\"rotate(52.310077)\"/>\n",
       "    <rect style=\"fill:#ffffff;stroke:#000000;stroke-width:0.7;stroke-miterlimit:4;stroke-dasharray:none\" id=\"rect853\" width=\"20.189341\" height=\"16.185692\" x=\"157.68295\" y=\"119.76421\"/>\n",
       "    <rect style=\"fill:#ffffff;stroke:#000000;stroke-width:0.699999;stroke-miterlimit:4;stroke-dasharray:none\" id=\"rect835\" width=\"5.2892442\" height=\"77.829567\" x=\"-52.52449\" y=\"130.21509\" ry=\"3.8017251\" inkscape:transform-center-x=\"32.68512\" inkscape:transform-center-y=\"-14.551955\" transform=\"rotate(-66.150301)\"/>\n",
       "    <circle style=\"fill:#ffffff;stroke:#000000;stroke-width:0.7;stroke-miterlimit:4;stroke-dasharray:none\" id=\"path841\" cx=\"101.62834\" cy=\"100.37824\" r=\"4.8302884\"/>\n",
       "    <circle style=\"fill:#ffffff;stroke:#000000;stroke-width:0.7;stroke-miterlimit:4;stroke-dasharray:none\" id=\"path843\" cx=\"101.51643\" cy=\"100.44621\" r=\"2.3659611\"/>\n",
       "    <circle style=\"fill:#ffffff;stroke:#000000;stroke-width:0.7;stroke-miterlimit:4;stroke-dasharray:none\" id=\"circle845\" cx=\"63.295891\" cy=\"128.97316\" r=\"4.8302884\"/>\n",
       "    <circle style=\"fill:#ffffff;stroke:#000000;stroke-width:0.7;stroke-miterlimit:4;stroke-dasharray:none\" id=\"circle847\" cx=\"63.183983\" cy=\"129.04114\" r=\"2.3659611\"/>\n",
       "    <circle style=\"fill:#ffffff;stroke:#000000;stroke-width:0.7;stroke-miterlimit:4;stroke-dasharray:none\" id=\"circle849\" cx=\"167.46436\" cy=\"128.44586\" r=\"4.8302884\"/>\n",
       "    <circle style=\"fill:#ffffff;stroke:#000000;stroke-width:0.7;stroke-miterlimit:4;stroke-dasharray:none\" id=\"circle851\" cx=\"167.35245\" cy=\"128.51384\" r=\"2.3659611\"/>\n",
       "    <path style=\"fill:none;stroke:#000000;stroke-width:0.264583px;stroke-linecap:butt;stroke-linejoin:miter;stroke-opacity:1\" d=\"m 46.110173,136.0462 c 2.059744,-0.58747 136.327557,0 136.327557,0\" id=\"path859\"/>\n",
       "    <path style=\"fill:none;stroke:#000000;stroke-width:0.264583px;stroke-linecap:butt;stroke-linejoin:miter;stroke-opacity:1\" d=\"m 49.215005,135.99382 14.243592,14.24359\" id=\"path861\"/>\n",
       "    <path style=\"fill:none;stroke:#000000;stroke-width:0.264583px;stroke-linecap:butt;stroke-linejoin:miter;stroke-opacity:1\" d=\"m 67.206683,135.99382 14.243592,14.24359\" id=\"path863\"/>\n",
       "    <path style=\"fill:none;stroke:#000000;stroke-width:0.264583px;stroke-linecap:butt;stroke-linejoin:miter;stroke-opacity:1\" d=\"m 83.081693,135.99382 14.243592,14.24359\" id=\"path865\"/>\n",
       "    <path style=\"fill:none;stroke:#000000;stroke-width:0.264583px;stroke-linecap:butt;stroke-linejoin:miter;stroke-opacity:1\" d=\"m 98.956703,135.99382 14.243667,14.24359\" id=\"path867\"/>\n",
       "    <path style=\"fill:none;stroke:#000000;stroke-width:0.264583px;stroke-linecap:butt;stroke-linejoin:miter;stroke-opacity:1\" d=\"m 115.89014,135.99382 14.24367,14.24359\" id=\"path869\"/>\n",
       "    <path style=\"fill:none;stroke:#000000;stroke-width:0.264583px;stroke-linecap:butt;stroke-linejoin:miter;stroke-opacity:1\" d=\"m 132.29441,135.99382 14.24367,14.24359\" id=\"path871\"/>\n",
       "    <path style=\"fill:none;stroke:#000000;stroke-width:0.264583px;stroke-linecap:butt;stroke-linejoin:miter;stroke-opacity:1\" d=\"m 147.64034,135.99382 14.24367,14.24359\" id=\"path873\"/>\n",
       "    <path style=\"fill:none;stroke:#000000;stroke-width:0.264583px;stroke-linecap:butt;stroke-linejoin:miter;stroke-opacity:1\" d=\"m 164.04461,135.99382 14.24367,14.24359\" id=\"path875\"/>\n",
       "    <path style=\"fill:none;stroke:#000000;stroke-width:0.264583px;stroke-linecap:butt;stroke-linejoin:miter;stroke-opacity:1\" d=\"m 179.39054,135.99382 14.24367,14.24359\" id=\"path877\"/>\n",
       "    <path style=\"fill:none;stroke:#ff0000;stroke-width:0.264583px;stroke-linecap:butt;stroke-linejoin:miter;stroke-opacity:1;marker-start:\" d=\"M 84.730417,112.69418 63.143179,129.02003 47.780211,108.57531\" id=\"path881\"/>\n",
       "    <path style=\"fill:none;stroke:#000000;stroke-width:0.264583px;stroke-linecap:butt;stroke-linejoin:miter;stroke-opacity:1\" d=\"m 63.580221,128.95619 34.580671,0.0924\" id=\"path885\"/>\n",
       "    <path style=\"fill:none;stroke:#000000;stroke-width:0.264583px;stroke-linecap:butt;stroke-linejoin:miter;stroke-opacity:1\" d=\"m 188.55015,128.88907 -57.82708,0.16503\" id=\"path887\"/>\n",
       "    <text xml:space=\"preserve\" style=\"font-style:normal;font-weight:normal;font-size:7.05556px;line-height:1.25;font-family:sans-serif;fill:#ff0000;fill-opacity:1;stroke:none;stroke-width:0.264583;\" x=\"99.053696\" y=\"94.208336\" id=\"text1481\"><tspan sodipodi:role=\"line\" id=\"tspan1479\" x=\"99.053696\" y=\"94.208336\" style=\"font-size:7.05556px;stroke-width:0.264583;fill:#ff0000;\">Q</tspan></text>\n",
       "    <text xml:space=\"preserve\" style=\"font-style:normal;font-weight:normal;font-size:7.05556px;line-height:1.25;font-family:sans-serif;fill:#ff0000;fill-opacity:1;stroke:none;stroke-width:0.264583;\" x=\"66.156761\" y=\"137.3009\" id=\"text1485\"><tspan sodipodi:role=\"line\" id=\"tspan1483\" x=\"66.156761\" y=\"137.3009\" style=\"font-size:7.05556px;stroke-width:0.264583;fill:#ff0000;\">O</tspan></text>\n",
       "    <text xml:space=\"preserve\" style=\"font-style:normal;font-weight:normal;font-size:7.05556px;line-height:1.25;font-family:sans-serif;fill:#ff0000;fill-opacity:1;stroke:none;stroke-width:0.264583\" x=\"169.38942\" y=\"137.13945\" id=\"text1489\"><tspan sodipodi:role=\"line\" id=\"tspan1487\" x=\"169.38942\" y=\"137.13945\" style=\"font-size:7.05556px;fill:#ff0000;stroke-width:0.264583\">C</tspan></text>\n",
       "    <text xml:space=\"preserve\" style=\"font-style:normal;font-weight:normal;font-size:10.5833px;line-height:1.25;font-family:sans-serif;fill:#000000;fill-opacity:1;stroke:none;stroke-width:0.264583\" x=\"72.263763\" y=\"108.21267\" id=\"text1493\"><tspan sodipodi:role=\"line\" id=\"tspan1491\" x=\"72.263763\" y=\"108.21267\" style=\"stroke-width:0.264583\">A</tspan></text>\n",
       "    <text xml:space=\"preserve\" style=\"font-style:normal;font-weight:normal;font-size:10.5833px;line-height:1.25;font-family:sans-serif;fill:#000000;fill-opacity:1;stroke:none;stroke-width:0.264583\" x=\"139.2551\" y=\"109.60692\" id=\"text1497\"><tspan sodipodi:role=\"line\" id=\"tspan1495\" x=\"139.2551\" y=\"109.60692\" style=\"stroke-width:0.264583\">B</tspan></text>\n",
       "    <text xml:space=\"preserve\" style=\"font-size:7.05556px;line-height:1.25;font-family:sans-serif;fill:#ff0000;stroke-width:0.264583\" x=\"49.479931\" y=\"108.25814\" id=\"text1505\"><tspan sodipodi:role=\"line\" id=\"tspan1503\" x=\"49.479931\" y=\"108.25814\" style=\"fill:#ff0000;stroke-width:0.264583\">â<tspan style=\"font-size:65%;baseline-shift:sub;fill:#ff0000\" id=\"tspan1531\">y</tspan></tspan></text>\n",
       "    <text xml:space=\"preserve\" style=\"font-size:7.05556px;line-height:1.25;font-family:sans-serif;fill:#ff0000;stroke-width:0.264583\" x=\"180.4628\" y=\"115.01823\" id=\"text1509\"><tspan sodipodi:role=\"line\" id=\"tspan1507\" x=\"180.4628\" y=\"115.01823\" style=\"fill:#ff0000;stroke-width:0.264583\">b<tspan style=\"font-size:65%;baseline-shift:sub;fill:#ff0000\" id=\"tspan1535\">y</tspan></tspan></text>\n",
       "    <text xml:space=\"preserve\" style=\"font-size:7.05556px;line-height:1.25;font-family:sans-serif;fill:#ff0000;stroke-width:0.264583\" x=\"182.9063\" y=\"145.29695\" id=\"text1513\"><tspan sodipodi:role=\"line\" id=\"tspan1511\" x=\"182.9063\" y=\"145.29695\" style=\"fill:#ff0000;stroke-width:0.264583\">b<tspan style=\"font-size:65%;baseline-shift:sub;fill:#ff0000\" id=\"tspan1537\">x</tspan></tspan></text>\n",
       "    <text xml:space=\"preserve\" style=\"font-size:7.05556px;line-height:1.25;font-family:sans-serif;stroke-width:0.264583;fill:#ff0000;\" x=\"85.698814\" y=\"119.54067\" id=\"text1519\"><tspan sodipodi:role=\"line\" id=\"tspan1517\" x=\"85.698814\" y=\"119.54067\" style=\"stroke-width:0.264583;fill:#ff0000;\">â<tspan style=\"font-size:65%;baseline-shift:sub;fill:#ff0000;\" id=\"tspan1533\">x</tspan></tspan></text>\n",
       "    <text xml:space=\"preserve\" style=\"font-size:7.05556px;line-height:1.25;font-family:sans-serif;stroke-width:0.264583;fill:#ff0000;\" x=\"85.429138\" y=\"101.75543\" id=\"text1523\"><tspan sodipodi:role=\"line\" id=\"tspan1521\" x=\"85.429138\" y=\"101.75543\" style=\"stroke-width:0.264583;fill:#ff0000;\">L<tspan style=\"font-size:65%;baseline-shift:sub;fill:#ff0000;\" id=\"tspan1551\">a</tspan></tspan></text>\n",
       "    <text xml:space=\"preserve\" style=\"font-size:7.05556px;line-height:1.25;font-family:sans-serif;stroke-width:0.264583;fill:#ff0000;\" x=\"117.06631\" y=\"103.13172\" id=\"text1527\"><tspan sodipodi:role=\"line\" id=\"tspan1525\" x=\"117.06631\" y=\"103.13172\" style=\"stroke-width:0.264583;fill:#ff0000;\">L<tspan style=\"font-size:65%;baseline-shift:sub;fill:#ff0000;\" id=\"tspan1549\">b</tspan></tspan></text>\n",
       "    <text xml:space=\"preserve\" style=\"font-size:4.58611px;line-height:1.25;font-family:sans-serif;fill:#ff0000;stroke-width:0.264583\" x=\"179.92126\" y=\"111.63968\" id=\"text1541\"><tspan sodipodi:role=\"line\" id=\"tspan1539\" x=\"179.92126\" y=\"111.63968\" style=\"font-size:4.58611px;fill:#ff0000;stroke-width:0.264583\">^</tspan></text>\n",
       "    <text xml:space=\"preserve\" style=\"font-size:4.58611px;line-height:1.25;font-family:sans-serif;fill:#ff0000;stroke-width:0.264583\" x=\"182.70901\" y=\"141.1183\" id=\"text1545\"><tspan sodipodi:role=\"line\" id=\"tspan1543\" x=\"182.70901\" y=\"141.1183\" style=\"font-size:4.58611px;fill:#ff0000;stroke-width:0.264583\">^</tspan></text>\n",
       "    <path style=\"fill:none;stroke:#000000;stroke-width:0.264583px;stroke-linecap:butt;stroke-linejoin:miter;stroke-opacity:1\" d=\"m 80.418021,129.19585 c 0.4944,-3.33342 -1.310893,-5.38923 -4.009043,-6.94901\" id=\"path968\" sodipodi:nodetypes=\"cc\"/>\n",
       "    <ellipse style=\"fill:#ffffff;stroke:#000000;stroke-width:0.264999;stroke-miterlimit:4;stroke-dasharray:none\" id=\"path970\" cx=\"82.517319\" cy=\"124.11537\" rx=\"1.2027128\" ry=\"1.9377041\"/>\n",
       "    <path style=\"fill:none;stroke:#000000;stroke-width:0.264583px;stroke-linecap:butt;stroke-linejoin:miter;stroke-opacity:1\" d=\"m 81.225673,124.26531 h 2.504093\" id=\"path972\"/>\n",
       "    <path style=\"fill:#000000;stroke:#000000;stroke-width:0.264583px;stroke-linecap:butt;stroke-linejoin:miter;stroke-opacity:1\" d=\"m 76.8317,122.61167 0.614212,1.65364 1.322916,-1.13393 z\" id=\"path974\"/>\n",
       "    <ellipse style=\"fill:#ffffff;stroke:#000000;stroke-width:0.264999;stroke-miterlimit:4;stroke-dasharray:none\" id=\"path976\" cx=\"137.87486\" cy=\"124.3598\" rx=\"1.4646577\" ry=\"1.5119048\"/>\n",
       "    <path style=\"fill:none;stroke:#000000;stroke-width:0.264583px;stroke-linecap:butt;stroke-linejoin:miter;stroke-opacity:1\" d=\"m 135.46526,126.53317 4.58296,-4.20499\" id=\"path978\"/>\n",
       "    <ellipse style=\"fill:#ffffff;stroke:#000000;stroke-width:0.264999;stroke-miterlimit:4;stroke-dasharray:none\" id=\"path976-3\" cx=\"187.64091\" cy=\"133.51199\" rx=\"1.4646577\" ry=\"1.5119048\"/>\n",
       "    <path style=\"fill:none;stroke:#000000;stroke-width:0.264583px;stroke-linecap:butt;stroke-linejoin:miter;stroke-opacity:1\" d=\"m 185.23132,135.68536 4.58296,-4.20499\" id=\"path978-6\"/>\n",
       "    <g id=\"g958\">\n",
       "      <path style=\"fill:none;stroke:#000000;stroke-width:0.265;stroke-linecap:butt;stroke-linejoin:miter;stroke-miterlimit:4;stroke-dasharray:none;stroke-opacity:1\" d=\"m 142.19055,120.7017 c -1.60409,2.38418 -2.93985,4.84749 -1.37482,8.16635\" id=\"path1431\" sodipodi:nodetypes=\"cc\"/>\n",
       "      <path style=\"fill:#000000;stroke:#000000;stroke-width:0.264583px;stroke-linecap:butt;stroke-linejoin:miter;stroke-opacity:1\" d=\"m 142.22158,120.62729 -1.55915,1.32292 1.37016,0.61421 z\" id=\"path980\"/>\n",
       "    </g>\n",
       "    <path style=\"fill:#ff0000;stroke:#ff0000;stroke-width:0.264583px;stroke-linecap:butt;stroke-linejoin:miter;stroke-opacity:1\" d=\"m 179.9091,108.08156 -2.07134,1.67043 1.40317,0.73499 z\" id=\"path1084\"/>\n",
       "    <path style=\"fill:#ff0000;stroke:#ff0000;stroke-width:0.264583px;stroke-linecap:butt;stroke-linejoin:miter;stroke-opacity:1\" d=\"m 191.65771,140.17589 h -2.87315 l 1.20272,-1.67044 z\" id=\"path1110\"/>\n",
       "    <path style=\"fill:#ff0000;stroke:#ff0000;stroke-width:0.264583px;stroke-linecap:butt;stroke-linejoin:miter;stroke-opacity:1\" d=\"m 84.761151,112.62514 -3.674956,1.46998 1.469982,1.60362 z\" id=\"path1136\"/>\n",
       "    <path style=\"fill:#ff0000;stroke:#ff0000;stroke-width:0.264583px;stroke-linecap:butt;stroke-linejoin:miter;stroke-opacity:1\" d=\"m 47.81114,108.6161 1.135895,3.4745 1.80407,-1.46998 z\" id=\"path1138\"/>\n",
       "    <path style=\"fill:#ff0000;stroke:#ff0000;stroke-width:0.264;stroke-linecap:butt;stroke-linejoin:miter;stroke-opacity:1;stroke-miterlimit:4;stroke-dasharray:0.528,0.264;stroke-dashoffset:0\" d=\"m 63.271925,113.25374 v 33.48209\" id=\"path956\" inkscape:path-effect=\"#path-effect958;#path-effect960\" inkscape:original-d=\"m 63.271925,113.25374 v 33.48209\"/>\n",
       "    <path style=\"fill:#ff0000;stroke:#ff0000;stroke-width:0.264;stroke-linecap:butt;stroke-linejoin:miter;stroke-miterlimit:4;stroke-dasharray:0.79200001,0.264;stroke-opacity:1;stroke-dashoffset:0\" d=\"m 167.51817,113.25374 v 33.48209\" id=\"path1078\" inkscape:path-effect=\"#path-effect1082;#path-effect1086\" inkscape:original-d=\"m 167.51817,113.25374 v 33.48209\"/>\n",
       "    <path style=\"fill:none;stroke:#ff0000;stroke-width:0.264583px;stroke-linecap:butt;stroke-linejoin:miter;stroke-opacity:1;marker-end:\" d=\"M 63.215026,144.91593 H 167.62263\" id=\"path1121\" inkscape:path-effect=\"#path-effect1123;#path-effect1125\" inkscape:original-d=\"M 63.215026,144.91593 H 167.62263\"/>\n",
       "    <path style=\"fill:#ff0000;stroke:#ff0000;stroke-width:0.264583px;stroke-linecap:butt;stroke-linejoin:miter;stroke-opacity:1\" d=\"m 63.361262,144.9412 3.605125,-0.96599 v 2.24097 z\" id=\"path1193\"/>\n",
       "    <path style=\"fill:#ff0000;stroke:#ff0000;stroke-width:0.264583px;stroke-linecap:butt;stroke-linejoin:miter;stroke-opacity:1\" d=\"m 167.19471,144.9412 -3.60515,-0.96599 v 2.24097 z\" id=\"path1377\"/>\n",
       "    <text xml:space=\"preserve\" style=\"font-size:7.05556px;line-height:1.25;font-family:sans-serif;fill:#ff0000;stroke-width:0.264583\" x=\"115.20232\" y=\"143.4115\" id=\"text1383\"><tspan sodipodi:role=\"line\" id=\"tspan1381\" x=\"115.20232\" y=\"143.4115\" style=\"fill:#ff0000;stroke-width:0.264583\">x</tspan></text>\n",
       "    <path style=\"fill:#ff0000;stroke:#ff0000;stroke-width:0.264583px;stroke-linecap:butt;stroke-linejoin:miter;stroke-opacity:1\" d=\"m 167.70781,128.85072 10.99675,-18.97318\" id=\"path1049\" inkscape:path-effect=\"#path-effect1051;#path-effect1053\" inkscape:original-d=\"m 167.70781,128.85072 10.99675,-18.97318\"/>\n",
       "    <path style=\"fill:none;stroke:#ff0000;stroke-width:0.26458299;stroke-linecap:butt;stroke-linejoin:miter;stroke-opacity:1;stroke-miterlimit:4;stroke-dasharray:0.79374896,0.26458299;stroke-dashoffset:0\" d=\"M 167.51989,128.93926 144.34132,118.10864\" id=\"path1498\" inkscape:path-effect=\"#path-effect1500;#path-effect1502\" inkscape:original-d=\"M 167.51989,128.93926 144.34132,118.10864\"/>\n",
       "    <path style=\"fill:none;stroke:#ff0000;stroke-width:0.264583px;stroke-linecap:butt;stroke-linejoin:miter;stroke-opacity:1\" d=\"M 190.45143,139.61101 167.27286,128.78039\" id=\"path1617\" inkscape:path-effect=\"#path-effect1621;#path-effect1625\" inkscape:original-d=\"M 190.45143,139.61101 167.27286,128.78039\"/>\n",
       "    <g id=\"g954\" transform=\"matrix(1,0,0,-1,4.3993485,238.31107)\">\n",
       "      <g id=\"g949\">\n",
       "        <path style=\"fill:none;stroke:#000000;stroke-width:0.265;stroke-linecap:butt;stroke-linejoin:miter;stroke-miterlimit:4;stroke-dasharray:none;stroke-opacity:1\" d=\"m 183.00585,135.56256 c 1.60409,-2.38418 2.99023,-3.09155 1.4252,-6.41041\" id=\"path1730\" sodipodi:nodetypes=\"cc\"/>\n",
       "      </g>\n",
       "      <path style=\"fill:#000000;stroke:#000000;stroke-width:0.264583px;stroke-linecap:butt;stroke-linejoin:miter;stroke-opacity:1\" d=\"m 182.97482,135.63697 1.55915,-1.32292 -1.37016,-0.61421 z\" id=\"path1732\"/>\n",
       "    </g>\n",
       "    <g id=\"g964\" transform=\"rotate(180,161.92534,128.60781)\">\n",
       "      <path style=\"fill:none;stroke:#000000;stroke-width:0.265;stroke-linecap:butt;stroke-linejoin:miter;stroke-miterlimit:4;stroke-dasharray:none;stroke-opacity:1\" d=\"m 142.19055,120.7017 c -1.60409,2.38418 -2.93985,4.84749 -1.37482,8.16635\" id=\"path960\" sodipodi:nodetypes=\"cc\"/>\n",
       "      <path style=\"fill:#000000;stroke:#000000;stroke-width:0.264583px;stroke-linecap:butt;stroke-linejoin:miter;stroke-opacity:1\" d=\"m 142.22158,120.62729 -1.55915,1.32292 1.37016,0.61421 z\" id=\"path962\"/>\n",
       "    </g>\n",
       "  </g>\n",
       "</svg>"
      ],
      "text/plain": [
       "<IPython.core.display.SVG object>"
      ]
     },
     "execution_count": 38,
     "metadata": {},
     "output_type": "execute_result"
    }
   ],
   "source": [
    "SVG('biela-manivela2.svg')"
   ]
  },
  {
   "cell_type": "markdown",
   "metadata": {
    "slideshow": {
     "slide_type": "fragment"
    }
   },
   "source": [
    "$${}^{N}\\vec{\\omega}{}^{A} = \\dot{\\theta} \\hat{\\mathbf{n}}_z \\qquad {}^{N}\\vec{\\omega}{}^{B} = -\\dot{\\phi} \\hat{\\mathbf{n}}_z$$\n",
    "Obter $\\dot{\\phi}(t)$:"
   ]
  },
  {
   "cell_type": "code",
   "execution_count": 39,
   "metadata": {
    "slideshow": {
     "slide_type": "subslide"
    }
   },
   "outputs": [],
   "source": [
    "theta,phi = me.dynamicsymbols('theta phi')\n",
    "t = me.dynamicsymbols._t"
   ]
  },
  {
   "cell_type": "code",
   "execution_count": 40,
   "metadata": {
    "slideshow": {
     "slide_type": "fragment"
    }
   },
   "outputs": [],
   "source": [
    "la,lb = sy.symbols('la lb')"
   ]
  },
  {
   "cell_type": "code",
   "execution_count": 41,
   "metadata": {
    "slideshow": {
     "slide_type": "subslide"
    }
   },
   "outputs": [],
   "source": [
    "N = me.ReferenceFrame('N')\n",
    "A = me.ReferenceFrame('A')\n",
    "B = me.ReferenceFrame('B')"
   ]
  },
  {
   "cell_type": "code",
   "execution_count": 42,
   "metadata": {
    "slideshow": {
     "slide_type": "fragment"
    }
   },
   "outputs": [],
   "source": [
    "A.orient(N,'Axis',[theta,N.z])\n",
    "B.orient(N,'Axis',[- phi,N.z])"
   ]
  },
  {
   "cell_type": "code",
   "execution_count": 43,
   "metadata": {
    "slideshow": {
     "slide_type": "subslide"
    }
   },
   "outputs": [],
   "source": [
    "O = me.Point('O')\n",
    "O.set_vel(N,0)"
   ]
  },
  {
   "cell_type": "code",
   "execution_count": 44,
   "metadata": {
    "slideshow": {
     "slide_type": "fragment"
    }
   },
   "outputs": [],
   "source": [
    "Q = me.Point('Q')\n",
    "pQO = la*A.x\n",
    "Q.set_pos(O,pQO)\n",
    "Q.set_vel(N,pQO.dt(N))"
   ]
  },
  {
   "cell_type": "code",
   "execution_count": 45,
   "metadata": {
    "slideshow": {
     "slide_type": "subslide"
    }
   },
   "outputs": [
    {
     "data": {
      "text/latex": [
       "$\\displaystyle la \\dot{\\theta}\\mathbf{\\hat{a}_y} -  lb \\dot{\\phi}\\mathbf{\\hat{b}_y}$"
      ],
      "text/plain": [
       "la*theta'*A.y - lb*phi'*B.y"
      ]
     },
     "execution_count": 45,
     "metadata": {},
     "output_type": "execute_result"
    }
   ],
   "source": [
    "C = me.Point('C')\n",
    "pCQ = lb*B.x\n",
    "pCO = pQO + pCQ\n",
    "C.set_pos(O, pCO)\n",
    "C.set_vel(N,pCO.dt(N))\n",
    "C.vel(N)"
   ]
  },
  {
   "cell_type": "code",
   "execution_count": 46,
   "metadata": {
    "slideshow": {
     "slide_type": "subslide"
    }
   },
   "outputs": [
    {
     "data": {
      "text/latex": [
       "$\\displaystyle (la \\operatorname{cos}\\left(\\theta\\right) + lb \\operatorname{cos}\\left(\\phi\\right) - x)\\mathbf{\\hat{n}_x} + (la \\operatorname{sin}\\left(\\theta\\right) - lb \\operatorname{sin}\\left(\\phi\\right))\\mathbf{\\hat{n}_y}$"
      ],
      "text/plain": [
       "(la*cos(theta) + lb*cos(phi) - x)*N.x + (la*sin(theta) - lb*sin(phi))*N.y"
      ]
     },
     "execution_count": 46,
     "metadata": {},
     "output_type": "execute_result"
    }
   ],
   "source": [
    "x = sy.symbols('x')\n",
    "Eq1 = (la*A.x + lb*B.x) - x*N.x\n",
    "Eq1.express(N)"
   ]
  },
  {
   "cell_type": "code",
   "execution_count": 47,
   "metadata": {
    "slideshow": {
     "slide_type": "fragment"
    }
   },
   "outputs": [
    {
     "data": {
      "text/latex": [
       "$\\displaystyle \\operatorname{asin}{\\left(\\frac{la \\sin{\\left(\\theta{\\left(t \\right)} \\right)}}{lb} \\right)}$"
      ],
      "text/plain": [
       "asin(la*sin(theta(t))/lb)"
      ]
     },
     "execution_count": 47,
     "metadata": {},
     "output_type": "execute_result"
    }
   ],
   "source": [
    "phi_sol = sy.solve(Eq1.dot(N.y),phi)[1]\n",
    "phi_sol"
   ]
  },
  {
   "cell_type": "code",
   "execution_count": 48,
   "metadata": {
    "scrolled": true,
    "slideshow": {
     "slide_type": "fragment"
    }
   },
   "outputs": [
    {
     "data": {
      "text/latex": [
       "$\\displaystyle \\frac{la \\cos{\\left(\\theta{\\left(t \\right)} \\right)} \\frac{d}{d t} \\theta{\\left(t \\right)}}{lb \\sqrt{- \\frac{la^{2} \\sin^{2}{\\left(\\theta{\\left(t \\right)} \\right)}}{lb^{2}} + 1}}$"
      ],
      "text/plain": [
       "la*cos(theta(t))*Derivative(theta(t), t)/(lb*sqrt(-la**2*sin(theta(t))**2/lb**2 + 1))"
      ]
     },
     "execution_count": 48,
     "metadata": {},
     "output_type": "execute_result"
    }
   ],
   "source": [
    "phi_ponto_sol = phi_sol.diff(t)\n",
    "phi_ponto_sol"
   ]
  },
  {
   "cell_type": "markdown",
   "metadata": {
    "slideshow": {
     "slide_type": "subslide"
    }
   },
   "source": [
    "Outra maneira de obter $\\dot{\\phi}$"
   ]
  },
  {
   "cell_type": "code",
   "execution_count": 49,
   "metadata": {
    "scrolled": true,
    "slideshow": {
     "slide_type": "fragment"
    }
   },
   "outputs": [
    {
     "data": {
      "text/latex": [
       "$\\displaystyle la \\cos{\\left(\\theta{\\left(t \\right)} \\right)} \\frac{d}{d t} \\theta{\\left(t \\right)} - lb \\cos{\\left(\\phi{\\left(t \\right)} \\right)} \\frac{d}{d t} \\phi{\\left(t \\right)} = 0$"
      ],
      "text/plain": [
       "Eq(la*cos(theta(t))*Derivative(theta(t), t) - lb*cos(phi(t))*Derivative(phi(t), t), 0)"
      ]
     },
     "execution_count": 49,
     "metadata": {},
     "output_type": "execute_result"
    }
   ],
   "source": [
    "EqR = sy.Eq(C.vel(N).dot(N.y),0)\n",
    "EqR"
   ]
  },
  {
   "cell_type": "code",
   "execution_count": 50,
   "metadata": {
    "slideshow": {
     "slide_type": "subslide"
    }
   },
   "outputs": [
    {
     "data": {
      "text/latex": [
       "$\\displaystyle \\frac{la \\cos{\\left(\\theta{\\left(t \\right)} \\right)} \\frac{d}{d t} \\theta{\\left(t \\right)}}{lb \\cos{\\left(\\phi{\\left(t \\right)} \\right)}}$"
      ],
      "text/plain": [
       "la*cos(theta(t))*Derivative(theta(t), t)/(lb*cos(phi(t)))"
      ]
     },
     "execution_count": 50,
     "metadata": {},
     "output_type": "execute_result"
    }
   ],
   "source": [
    "phi_ponto = phi.diff(t)\n",
    "sol_phi_ponto = sy.solve(EqR,phi_ponto)[0]\n",
    "sol_phi_ponto"
   ]
  },
  {
   "cell_type": "code",
   "execution_count": 51,
   "metadata": {
    "slideshow": {
     "slide_type": "fragment"
    }
   },
   "outputs": [
    {
     "data": {
      "text/latex": [
       "$\\displaystyle \\frac{la \\cos{\\left(\\theta{\\left(t \\right)} \\right)} \\frac{d}{d t} \\theta{\\left(t \\right)}}{lb \\sqrt{- \\frac{la^{2} \\sin^{2}{\\left(\\theta{\\left(t \\right)} \\right)}}{lb^{2}} + 1}}$"
      ],
      "text/plain": [
       "la*cos(theta(t))*Derivative(theta(t), t)/(lb*sqrt(-la**2*sin(theta(t))**2/lb**2 + 1))"
      ]
     },
     "execution_count": 51,
     "metadata": {},
     "output_type": "execute_result"
    }
   ],
   "source": [
    "sol_phi_ponto.subs(phi,phi_sol)"
   ]
  },
  {
   "cell_type": "markdown",
   "metadata": {
    "slideshow": {
     "slide_type": "fragment"
    }
   },
   "source": [
    "Solução de $x$ em função de $\\theta$:"
   ]
  },
  {
   "cell_type": "code",
   "execution_count": 52,
   "metadata": {},
   "outputs": [
    {
     "data": {
      "text/latex": [
       "$\\displaystyle (la \\operatorname{cos}\\left(\\theta\\right) + lb \\operatorname{cos}\\left(\\phi\\right))\\mathbf{\\hat{n}_x} + (la \\operatorname{sin}\\left(\\theta\\right) - lb \\operatorname{sin}\\left(\\phi\\right))\\mathbf{\\hat{n}_y}$"
      ],
      "text/plain": [
       "(la*cos(theta) + lb*cos(phi))*N.x + (la*sin(theta) - lb*sin(phi))*N.y"
      ]
     },
     "execution_count": 52,
     "metadata": {},
     "output_type": "execute_result"
    }
   ],
   "source": [
    "C.pos_from(O).express(N)"
   ]
  },
  {
   "cell_type": "code",
   "execution_count": 53,
   "metadata": {
    "scrolled": false,
    "slideshow": {
     "slide_type": "fragment"
    }
   },
   "outputs": [
    {
     "data": {
      "text/latex": [
       "$\\displaystyle (la \\operatorname{cos}\\left(\\theta\\right) + lb \\sqrt{- \\frac{la^{2} \\operatorname{sin}^{2}\\left(\\theta\\right)}{lb^{2}} + 1})\\mathbf{\\hat{n}_x}$"
      ],
      "text/plain": [
       "(la*cos(theta) + lb*sqrt(-la**2*sin(theta)**2/lb**2 + 1))*N.x"
      ]
     },
     "execution_count": 53,
     "metadata": {},
     "output_type": "execute_result"
    }
   ],
   "source": [
    "x_sol = ((C.pos_from(O)).express(N)).subs(phi,phi_sol)\n",
    "x_sol"
   ]
  },
  {
   "cell_type": "markdown",
   "metadata": {
    "slideshow": {
     "slide_type": "fragment"
    }
   },
   "source": [
    "Velocidade do ponto C:"
   ]
  },
  {
   "cell_type": "code",
   "execution_count": 54,
   "metadata": {
    "scrolled": true,
    "slideshow": {
     "slide_type": "fragment"
    }
   },
   "outputs": [
    {
     "data": {
      "text/latex": [
       "$\\displaystyle (- \\frac{la^{2} \\operatorname{sin}\\left(\\theta\\right) \\operatorname{cos}\\left(\\theta\\right) \\dot{\\theta}}{lb \\sqrt{- \\frac{la^{2} \\operatorname{sin}^{2}\\left(\\theta\\right)}{lb^{2}} + 1}} - la \\operatorname{sin}\\left(\\theta\\right) \\dot{\\theta})\\mathbf{\\hat{n}_x}$"
      ],
      "text/plain": [
       "(-la**2*sin(theta)*cos(theta)*theta'/(lb*sqrt(-la**2*sin(theta)**2/lb**2 + 1)) - la*sin(theta)*theta')*N.x"
      ]
     },
     "execution_count": 54,
     "metadata": {},
     "output_type": "execute_result"
    }
   ],
   "source": [
    "v_C = x_sol.dt(N)\n",
    "v_C"
   ]
  },
  {
   "cell_type": "markdown",
   "metadata": {
    "slideshow": {
     "slide_type": "fragment"
    }
   },
   "source": [
    "Aceleração do ponto C:"
   ]
  },
  {
   "cell_type": "code",
   "execution_count": 55,
   "metadata": {
    "slideshow": {
     "slide_type": "fragment"
    }
   },
   "outputs": [
    {
     "data": {
      "text/latex": [
       "$\\displaystyle (- \\frac{la^{4} \\operatorname{sin}^{2}\\left(\\theta\\right) \\operatorname{cos}^{2}\\left(\\theta\\right) \\dot{\\theta}^{2}}{lb^{3} \\left(- \\frac{la^{2} \\operatorname{sin}^{2}\\left(\\theta\\right)}{lb^{2}} + 1\\right)^{\\frac{3}{2}}} + \\frac{la^{2} \\operatorname{sin}^{2}\\left(\\theta\\right) \\dot{\\theta}^{2}}{lb \\sqrt{- \\frac{la^{2} \\operatorname{sin}^{2}\\left(\\theta\\right)}{lb^{2}} + 1}} - \\frac{la^{2} \\operatorname{sin}\\left(\\theta\\right) \\operatorname{cos}\\left(\\theta\\right) \\ddot{\\theta}}{lb \\sqrt{- \\frac{la^{2} \\operatorname{sin}^{2}\\left(\\theta\\right)}{lb^{2}} + 1}} - \\frac{la^{2} \\operatorname{cos}^{2}\\left(\\theta\\right) \\dot{\\theta}^{2}}{lb \\sqrt{- \\frac{la^{2} \\operatorname{sin}^{2}\\left(\\theta\\right)}{lb^{2}} + 1}} - la \\operatorname{sin}\\left(\\theta\\right) \\ddot{\\theta} - la \\operatorname{cos}\\left(\\theta\\right) \\dot{\\theta}^{2})\\mathbf{\\hat{n}_x}$"
      ],
      "text/plain": [
       "(-la**4*sin(theta)**2*cos(theta)**2*theta'**2/(lb**3*(-la**2*sin(theta)**2/lb**2 + 1)**(3/2)) + la**2*sin(theta)**2*theta'**2/(lb*sqrt(-la**2*sin(theta)**2/lb**2 + 1)) - la**2*sin(theta)*cos(theta)*theta''/(lb*sqrt(-la**2*sin(theta)**2/lb**2 + 1)) - la**2*cos(theta)**2*theta'**2/(lb*sqrt(-la**2*sin(theta)**2/lb**2 + 1)) - la*sin(theta)*theta'' - la*cos(theta)*theta'**2)*N.x"
      ]
     },
     "execution_count": 55,
     "metadata": {},
     "output_type": "execute_result"
    }
   ],
   "source": [
    "a_C = v_C.dt(N)\n",
    "a_C"
   ]
  },
  {
   "cell_type": "markdown",
   "metadata": {},
   "source": [
    "Vamos considerar os seguintes parâmetros: $L_a = 0.05m$ e $L_b = 0.1m$. "
   ]
  },
  {
   "cell_type": "code",
   "execution_count": 56,
   "metadata": {},
   "outputs": [],
   "source": [
    "import numpy as np"
   ]
  },
  {
   "cell_type": "code",
   "execution_count": 57,
   "metadata": {},
   "outputs": [],
   "source": [
    "th_num = np.linspace(0,2*np.pi,360)\n",
    "th_p_num = 10 # 10rad/s\n",
    "th_pp_num = 0"
   ]
  },
  {
   "cell_type": "code",
   "execution_count": 58,
   "metadata": {},
   "outputs": [],
   "source": [
    "vc_num = []\n",
    "for i in range(0,360):\n",
    "    vc_num.append((v_C.dot(N.x)).subs({la:0.05,lb:0.1,theta:th_num[i],theta.diff(t):th_p_num}))"
   ]
  },
  {
   "cell_type": "code",
   "execution_count": 59,
   "metadata": {},
   "outputs": [],
   "source": [
    "import matplotlib.pyplot as plt"
   ]
  },
  {
   "cell_type": "code",
   "execution_count": 60,
   "metadata": {},
   "outputs": [
    {
     "data": {
      "image/png": "[encoded data removed]",
      "text/plain": [
       "<Figure size 1800x1200 with 1 Axes>"
      ]
     },
     "metadata": {
      "needs_background": "light"
     },
     "output_type": "display_data"
    }
   ],
   "source": [
    "plt.figure(dpi=300)\n",
    "plt.plot(th_num,vc_num)\n",
    "plt.title('Velocidade de deslocamento pelo ângulo da manivela')\n",
    "plt.xlabel(r'$\\theta(t)$')\n",
    "plt.ylabel(r'$\\dot{x}(t)$')\n",
    "plt.grid(True)\n",
    "plt.show()"
   ]
  },
  {
   "cell_type": "code",
   "execution_count": 61,
   "metadata": {},
   "outputs": [],
   "source": [
    "from matplotlib import animation, rc\n",
    "from IPython.display import HTML\n",
    "constantes = {la:0.05,lb:0.1}\n",
    "x0 = 0\n",
    "y0 = 0\n",
    "x1 = me.dot(pQO,N.x)\n",
    "x1 = x1.subs(constantes)\n",
    "y1 = me.dot(pQO,N.y)\n",
    "y1 = y1.subs(constantes)\n",
    "x2 = me.dot(x_sol,N.x).subs(constantes)\n",
    "y2 = 0"
   ]
  },
  {
   "cell_type": "code",
   "execution_count": 62,
   "metadata": {
    "scrolled": false
   },
   "outputs": [
    {
     "data": {
      "image/png": "[encoded data removed]",
      "text/plain": [
       "<Figure size 900x450 with 1 Axes>"
      ]
     },
     "metadata": {
      "needs_background": "light"
     },
     "output_type": "display_data"
    }
   ],
   "source": [
    "%matplotlib inline\n",
    "plt.rcParams['figure.figsize']=(6,3)\n",
    "plt.rcParams['figure.dpi']=150\n",
    "\n",
    "fig, ax = plt.subplots()\n",
    "\n",
    "ax.set_xlim(( -0.10, 0.15))\n",
    "ax.set_ylim((-0.075, 0.075))\n",
    "ax.grid(True)\n",
    "line, = ax.plot([], [], 'o-')\n",
    "\n",
    "def animate(i):\n",
    "    xp1 = x1.subs(theta,th_num[i])\n",
    "    xp2 = x2.subs(theta,th_num[i])\n",
    "    yp1 = y1.subs(theta,th_num[i])\n",
    "    yp2 = y2\n",
    "    line.set_data([x0,xp1,xp2],[y0,yp1,yp2])\n",
    "    return (line,)\n",
    "\n",
    "def init():\n",
    "    line.set_data([], [])\n",
    "    return (line,)"
   ]
  },
  {
   "cell_type": "code",
   "execution_count": 63,
   "metadata": {},
   "outputs": [
    {
     "data": {
      "text/html": [
       "<video width=\"900\" height=\"450\" controls autoplay loop>\n",
       "  <source type=\"video/mp4\" src=\"data:video/mp4;base64,AAAAHGZ0eXBNNFYgAAACAGlzb21pc28yYXZjMQAAAAhmcmVlAAFzJm1kYXQAAAKuBgX//6rcRem9\n",
       "5tlIt5Ys2CDZI+7veDI2NCAtIGNvcmUgMTU1IHIyOTE3IDBhODRkOTggLSBILjI2NC9NUEVHLTQg\n",
       "QVZDIGNvZGVjIC0gQ29weWxlZnQgMjAwMy0yMDE4IC0gaHR0cDovL3d3dy52aWRlb2xhbi5vcmcv\n",
       "eDI2NC5odG1sIC0gb3B0aW9uczogY2FiYWM9MSByZWY9MyBkZWJsb2NrPTE6MDowIGFuYWx5c2U9\n",
       "MHgzOjB4MTEzIG1lPWhleCBzdWJtZT03IHBzeT0xIHBzeV9yZD0xLjAwOjAuMDAgbWl4ZWRfcmVm\n",
       "PTEgbWVfcmFuZ2U9MTYgY2hyb21hX21lPTEgdHJlbGxpcz0xIDh4OGRjdD0xIGNxbT0wIGRlYWR6\n",
       "b25lPTIxLDExIGZhc3RfcHNraXA9MSBjaHJvbWFfcXBfb2Zmc2V0PS0yIHRocmVhZHM9NiBsb29r\n",
       "YWhlYWRfdGhyZWFkcz0xIHNsaWNlZF90aHJlYWRzPTAgbnI9MCBkZWNpbWF0ZT0xIGludGVybGFj\n",
       "ZWQ9MCBibHVyYXlfY29tcGF0PTAgY29uc3RyYWluZWRfaW50cmE9MCBiZnJhbWVzPTMgYl9weXJh\n",
       "bWlkPTIgYl9hZGFwdD0xIGJfYmlhcz0wIGRpcmVjdD0xIHdlaWdodGI9MSBvcGVuX2dvcD0wIHdl\n",
       "aWdodHA9MiBrZXlpbnQ9MjUwIGtleWludF9taW49MjUgc2NlbmVjdXQ9NDAgaW50cmFfcmVmcmVz\n",
       "aD0wIHJjX2xvb2thaGVhZD00MCByYz1jcmYgbWJ0cmVlPTEgY3JmPTIzLjAgcWNvbXA9MC42MCBx\n",
       "cG1pbj0wIHFwbWF4PTY5IHFwc3RlcD00IGlwX3JhdGlvPTEuNDAgYXE9MToxLjAwAIAAABjEZYiE\n",
       "ADP//vbsvgU1/Z/QlxEsxdpKcD4qpICAdzTAAAADAAADAAADAAA4PZ34mF41Bv8gAAADAAUMAJ6B\n",
       "mbPSh14gCrLbBpe021TyI/05/B4NJafYAep/4F1PRUDPJzi6j+MAyjZ8E4WiPjg3oKmUXFuyP6F4\n",
       "wixzZy+5ZdREu/4MD75PFyO/3lAhMOcdVBjFexUpjjfDUeT9HpkNf65y6wnoT2X9NyN0uUiJ0E70\n",
       "qVYxw+Yu7vT+x3jxmWq9drC6FYBx7G+kaTVsbeXgU82xSBlv4FjAARBRxcjkGqYJPIcC8bb6ti9s\n",
       "5w7mhuNsI2G3GJLhWqAH+m7G0d9HzetkzcsqFXLHwGTN8+P7u5a/hnF56q+HL398BUZcI/AgkI03\n",
       "/1SxM20s5Wgi9XTJAw35yt4RtSTXLGvXeXAfT+OsuGJtReNy2XAzvXE37kYqEMdNA2eiVkbXE+Rk\n",
       "StTKyfDCQ6AyAT4Eto7bpRtrWqB0V00YwOaf376srrLcNKU9P8agMBm1HveKFrylbHxgvfQnYH4d\n",
       "xXDtOOctFiRxoXnLFlQ2JM8x0NrHKqVPVh7GFbc6fmh3riI/sIuCHZ3rrGkMSXGL5nzTejmLNLOV\n",
       "N349wFCvjLgsYrRGcM1E89EtoT0ifQxlVKH0IHw7Nk4IsgyqGJJapjs5YgALqz8H2nk5SiXn0IG9\n",
       "petKWDzZpewedjlVIIkPDhjYCIm7vWgUgvexLkjdJMDnr74Qt0o3LlNZP/vKAn2PIET8dBFNsxgp\n",
       "+oq7SiF651cucl66nOciLW1x4KLaPpuPZJSOZGSfHk00FCBg/9P4tGMrtKvuwKf6hO5F5N8hlcd/\n",
       "uGFxA2wkdFsgry7s1Vz3MHk1/TGHCUQNBHtslFaS/M8XD98uvgiZGSb6Gir9GaZpXtfFQRG46eTF\n",
       "4f6C3oRptAtY/XNYcFNrhlvG72DabAXvSVMgGfAiKOroq7gRGpPvVOXPwVmXdYaeKW7Cc+XAAnke\n",
       "F+YpsZ38ZbHdhRKFYDBABwROoLctQnlwSs1Ll2HqcLXuYDTrYxgr5qfPb/Mp+02dTY5xMkinVbBO\n",
       "FuZ215pRppq/9bqRWYpd8iUYDWkmqFtJRRUHAKCcQVHjlBOPZhDtaWf8nZlVAuHeWx6Rvav5MddU\n",
       "l89/frTPgAWJoAADvEAsNeGn0G0wuLaBqJRxj/7H7bo/b74iB0PB+9oiGMMdiRZ7VTbyvB4nlXEC\n",
       "Y1spOfgPZ9DR+uXA97Y316c377WM0J+Yx7TrEsnXDlfKLXY/Cu+1cjl9Sy+S07azfT6T8Bgc7P2Z\n",
       "Tdxeuu/+khQV9BAS9YrzSSZys+hej/5I3HP23z7GozxhRDHB4sd2p5lT+PlixSGvKJ95oApbCDjn\n",
       "cKdje7KY9LvAKeCZ9xbvpjrSlCnW6QZ3rBmk/MDMjI84p02uP4hWrKJKUrOag4sJpDoruWjKNber\n",
       "HZ2c3AVqRwuzLMcffxrDQ6e8f//0F6+aYmV1fcpXfCy6vuzxyCcDLFms8kWqR/q4gYNsLRAp9wPB\n",
       "5MWGOBsw9zo/0Kw/XpkYpFp9EvNVYX0DlpbaE6XLYRfGqrxM8RaEjlw0EjzNUmFb/tt39lRBfLNT\n",
       "wIt2rRo0g8E9kr4Ik2egH9Pc401ilwV2NZYapYc3sFCADjP7VdlxfUn8ZR0C6rMbQeH/AXSdFqXx\n",
       "ejFn8wu2xVefU3rBNxhwsgkTUs3+TmE+1uGDsHNCffjE91/MyCid5ofG2EfYnqml/3k2/Pe2liW2\n",
       "RBu/Xe3bx1WVgXde/5cQm6rm9UnJpiYv0VaRt/qFrU0pf1NhPi5W7PdqvoJ++71O1CoEoRFMqXvA\n",
       "vzQ/iHMkEqBiYD8XANJJr50ue0lZWpC9bfTi+XwCjf64v42QdYJCnqPzddNsTJHYl/be8O5rCxU3\n",
       "Ey+YLxFHspZj2+epwzxIDWBcpmL+oaMFi7ptao2G75rerQEcOAAACPo2YUlnbI6RGJapOnv5t9Rx\n",
       "vewA9Kq/Egk8NRkyvlA9nrbuub/8p2H5e02KXFROoXcQFODlB+bJ/M3cfoRVn2skUC+9hkt+fpqf\n",
       "UEaJs92vrKOy5AMnhjQhZRS8aETgExbilYnEfWfJMZGGbb/MSte5JntV03lKZarFPQJ7TDMubHyA\n",
       "EuzAnXiDnMDYa9bCs/ARyEap6TngORubF7K90KsbKvWOXRPq8H/QduaYhDCCThJW80j+uTGjdEVr\n",
       "lXmqtqDus6EZCT9fm4zn0fFdV5Efu1cP0VeVQTqQ+kKB8l6kx4f6MzhCWAPn+SHoZv2FE74/ObWU\n",
       "owzdbBorVwc37zA90LgY/xuFzgQZstQJIiJpXjRZQACtasNga8XFY0GoOXD06s4N2bYwDRz7iSwQ\n",
       "fH2OrQl7JT6IXiP5m4+9m+nRirvwYXz17tCjIZkzzkMNfdaxkh2Bgfwsooe68qiLwbxLybL+0GO/\n",
       "E1AOiJxf3qqcOMLTPsyfYjWFjE/lhj3HlaEDNg0uAtUCSWmvE5z6kfOCbl92ktW6bF+HLRC6IeM+\n",
       "DMCQTmvX7X/dyocTrOaETs4WZMNHPl5PrIGPE8ogciC6uyTH6elj+0pSwajIZEi1ks2p9U3Hd3qk\n",
       "6l/A5CcKYv0RtpFXHMEOwAr2UfFvz3X14gXmn0uFuhtpz3L3sdJaI8jEMwjjFZcatun7VlrB5oky\n",
       "1qOxbGdvfK22ojt+T2lE9Hn9YKKaC6ZGKiF6QT6WtjvCEghiFRY1LGOO+XENn+zb1T00ri22PI+s\n",
       "hSa0aiBFdYs+wxMgsp8OzieYKwYPNzx5lXnGUjRvK+DCsaKoIkwHWWUwOmfTDO5QRVTT8N2K9JCx\n",
       "mtaWdlMxkbD+kT/cUZPEYJkre8M4RlEz+E7cpYXHvTIQ90aDvI8zmjo5BNZToI5/J30p+z5p009D\n",
       "hBBEfaw5qv16NH6Y+7tNvsoF6bh/5I8YPnCXejf3cYXvlCkTu9zqayITgowOUWlb+xFdatXjpnEE\n",
       "3d2Qj+53t619GEQbT7obPE71ePeWSaqLzeVBilqiEljX61sPlDkgE0HhkNBUyaNb+K8TUksfuJ95\n",
       "cAJOVouSdEGpNZGV9WdXhXd/LAYklnoYYNb2FeyYQ9Jx/66ukG5JGMwQYF86RdUygu9YMwRSaxR6\n",
       "Aoi723O86YHnlRTeDmubkJhrXcaqyAAwFIYq9rTIS4KRSPSz7tWIWV3K99UytB6Yy8jvNoKoH6iA\n",
       "jk+VJpEgqitBS8YIdTEXTNP15r6DuQJn/JsB9G8/KLSeRDpAGpfvX8hx381Zsq0IACZ025VsxiHX\n",
       "YrX9FjjO5QEwDU94fQ+Y/5d8lXICbNNFu5Xbb6Yd6wcbqr78XRUwa9bJomEIBk0hO8WfsKphFxRL\n",
       "p6RykyRMgMSpCL+B2WLXNnAbooAKz0vrPJX+tE1Gf8WG0x7k6icHSNSsrbUReWPXI5mUXjQbIchb\n",
       "gQj4+3LQT681qL4+bqg/XkQRhfG7Al3aO7ei1T3SlpI2RtfrKVltvflY6hNcEVNRcfXIUDhRAeNC\n",
       "yyseRRCOgBNtPvoj/VkwCDms6IaAr29yl9RXOdvCFp3k5jhJFH9vu30mhTf7Wb/5ZEHvZcxSx4G/\n",
       "KMLVt1mg6jcdYsHOPdo4Zuo1pMovtr3Vr5RSwLa/nMRT/Qsl3kXiistmq992LR5N0DeLGD0ArHnM\n",
       "gAlhz5ar+iDEUCmxoworo3YBodX14oUTfPP8tBQX0SyKKogFmUqc0MBeCT+6Pdib0nzI4n340fMP\n",
       "KTzlmKTyYyKZ6uHtfD+lw09PjL1jta53HbE7EQFVz35ASuaugRpgP0fOvAthhLNHuRHu08pLRtp5\n",
       "RUc+MAhAdQCubN9hPLZm+0bR9nMe3BhHfSk4dnL+sxrtLwjt2oIJXuVpImJwtWHHCOIyb1FkCOBJ\n",
       "XLVPRoMQEIHD2u8PZ8caPr1SOR0IAYXGxiCkQfIYvnjR289ZCDzin5z8/0p/jf0Z4gj5wPYIqmw3\n",
       "5fYNR37jwCjkZx7LfH7arTZJuHdKSRFr/pM7RbwlLbXHE2nURZhRAJE0QHJ8nMz9Va2c5UtF+ScG\n",
       "7MFDVcxEDhniNZSYNuStUqIEtYW73ePAInDsuP+C3VuQCqZu2JDE4lQuEZ1G35fPHd5TX7W+wXX6\n",
       "xUFNnAl1WblJKYi3mNp7T0wzmO25Ae4lZM7x1USfiSOqH7KxH8Tf2SSvuZH42PAHi0Rdx6IAAE7U\n",
       "gXWagM26c4Dm1cgl2hIyWgnSaM/PKsrGRGqquoM795TXet3mJdwTnaBJWBMcDnfCgf5SRNPe2YPV\n",
       "Tkd+qo4pyvJ8laGLqjtwhs0InryVShl5Sb6njUdmfRlVSJglrNY0kATktNmU84ZTSGd0UVlUm8GG\n",
       "CW5AbWa+mCY19mlyDcOO6+vPwzRLNglGz6l5fAC29tIjAmGrft7AFmACGpjoMU4pjxRoX/10a5x+\n",
       "5SqnydtbyuORPu2CRss0NQupHJ4oyAlXRScpndr/6ixiZoR7llru4dRRPh1O9XYeNn2lKZvCnVaM\n",
       "XBpT9M32EKBl3tj08s3Ldj14fT200od6H1uP3gLwwMDm1hEGyK9yXBnRjy+PJsQ2RzfLQ8SeIktF\n",
       "tIWukozKXtwcpXghjjhaswUN/h1pYLEVFb3WGhJR8p45E1t9BYsevgFfFQEocsxBV6LvRhqHjDBY\n",
       "tMZH4z5MvvBaQ67wnyb3elEzkNkl0kUwSwRFXN819xHqjolu+69tGF6qhDs2kBkkUkM3H+/ypo6Z\n",
       "2ZSCUWNjrlB7R0/wb/0vWEVyNYrNPRWREjSA8H3k6+1OMjk+tasDxGA3ONdy1y/pMikt1ige1+Tw\n",
       "36hadPcfEv+p1H3+jp54MYxp4/+oy9IJKtI5pNjs8go+zkfhwwJSymEhrR0qAv/UH/n2gvNb8D8F\n",
       "R1Jd9146uzL6xAGQRweCsl9mlh/uB+RxhBIQsdXciihP7zjUgk1TFdrbHb26PzmsgahAorsHgAaj\n",
       "9VzTzSqyY8/5SNfkw8/THWpAf7jOtZ2iTackI7DojstyPbtDpZmYYafaYPOkb4DyH9kPlQVhCs10\n",
       "jET8Lv+HU9iT63AxpRwhs9XZMsxY9u6K0M6Yt1t6iUPnvCfa6bcfQRunJkujTMX/syUBGgAAAwAA\n",
       "AwLxocHqn9UE6WqgmVvQptJ0JicyJ8GpoDdFmN7iwY0GBHhUJem4hHLhGbcPgR0gsFmY83RvekXe\n",
       "OXjgj/aPNWvVMK85AdKkTciDiej7NAGcaxHabsJcNE7RRgCjOxPrRSJpIVfE0ajPx51pPoPxHuVB\n",
       "6gVfmnwKKNvSko9qasSoBguPp7DmHC9j2jXOjRHqzowtkjeT7/OUXIUCjVoo8ZxJhm4rld5i9Lma\n",
       "OG+bvBu7gErmk0gW93oT3r5cYnjWqjAKp5dIfbtovg8l3erUmO2l9gPbcR9cFyLbvgznGkwxLNL2\n",
       "/b4BKDVv8Dwfx40XJrKnIvUbbwUAmUXyVp1JGfCIPt5l3qG5VzQEpN1U6oL+dSdLEpqmolbjA5G3\n",
       "5yEahazKSkQ/74pD8hdjYJijNE+ipXHDWzMYddYeJ86aevZ+B2PeNMDQHPAgYCrGrZlYDZNr1MQf\n",
       "XFCm0+4BgRgw8j9qr3VL8HwJI7pADH+hudAMxWcz+6NaxAc9M8L5V3zW1xuqccjHGP6WGoDxmQmP\n",
       "T2gJiUDO3EJKUADb4C4xRk0Rha42LY2JzZH+O9kTnYC326KRb1Fm+hs+m5aIzNJTRv1fZJugG9Hd\n",
       "1yPsOUtPE+Qt2AxtdpoUouQ/on3CsSPLusAPx1qgJAR6iqNKrPW143okQpJJHhzAz4FcHo7UclWa\n",
       "qGYHtDI3A9LvsZ7eXc2FZJ3azMPsT2E232j/7TdDgn/P0TBitOEpm/Y/K57m0/skO60ktxdxKL6y\n",
       "VJJyq/YyHynmzC8AqpphAxtO0DP1V9QAAU38ZKtP6SGOey8Hy8f5r+jfdNDXYafdQ5RsDwfyvIX1\n",
       "30ocHkTK0iKs0lmTgchGBxe6AC2pOifsF9s9ExxlyF94PxeucR5xyDjsp8BEPmMIP+Y6JENN88T/\n",
       "O5ythP5F3TGMDzesFFeg/oZq2KCysQZlU4G6nH3Ok6ZQzzmjTCuJyvvuw48KsZWD3pBmU//14fq4\n",
       "Pz2K/U5hBWIpbaslX9laR7CnbBS43XMA6ScxkKKD+HYxII3ckr4PIqJ0gWsJn220ncrj5Ks9Gn9K\n",
       "wC/0uIcvZ9ynOmkJfGUWcNNGUplrnf55yABBsODv3rdnGVtLV/6We+0Y6HE4iLW9JvX9WO17SpH3\n",
       "AEwzRycptq6ot8COKcyE8nX2RYsfFkuADoCAkcelrKdJmnjQTb+OkkkQFJzOn5W90Ty8XjRsvtBz\n",
       "jN1tsjS9VnROFEGTwiqyBushOEChsiUi2mIBVVvIYuPGj8MZlXwvId3im4Y/iRZXnFGSsT8EN5Sa\n",
       "8WVVay/bqCkFsvaZmNsaz8UeMrb+mrkV93RaHZD4wod2SfsxQK5X/+GGNJNhzojTSw7bqDoKTSS3\n",
       "7sP72oJ/AbcD1dcF3nHBV6bCFocjjv/0mZ8Ug64rLbbak9zcuD+q8ZyEq0LPXbRShKw+It3/0zKr\n",
       "dNPH2H9/47MKWbeWU1sdjT5I2UiQpbXxDDwBZQfHEZEvNIRZ/JYs0yTal0wg8t6F8p9aWm9O+D2W\n",
       "dQsXKp7HOfy8dU2fc4EUjK5Daotx/0VGzZakUCiqUY26i7Q0M1sH6etpSGpNgxkQIxhhSEeQdLJV\n",
       "Pxj9t+BJidfnK3lG/0R+MmSKegPc7xmunBSWG4vE52ICfACzLbd/4AahZpWfgjFEiGqiWOmJHIHV\n",
       "KpuihoACBlxPHbOy9wY7fVGDFwvMpscvMISS2WuxkxlCSaR3ctrOZJLPEiS9hWUvFW/9v4A5ZyHo\n",
       "OXPnY3mg0L7XGJFB6s0/vz55AKGbiSBC8lYn4pBl//leHyNdTWBQG+7ZR7V2Iaj4QP3DOG3nY0IN\n",
       "qGFaQ3RbCoc/MTqQxHu9OKgA9bP6adZWKAG4aRMZQx1NCMpLzXahU7UcMoxjC2+CvyPTcx7vY/VP\n",
       "7vyVC+atQDEYO6dE4ABKWjmTKQz+IV0NAdaFsZv2/kRQAqjZZ9guGa4tZY5kIibbFleP0kyRi7Oe\n",
       "gl3yqHXyBV7voEy3jTzvDyW7GTjAK8JgkRHwkWoajwXThPpQ8N/d9Gl6isJrUxLjMXndjitu2tIZ\n",
       "OtIRg06q7M2TAZwmnpS17wrMBhhDG/52jsUQ3cMybuYlLEuJoMuLq2voFB4IIWrm3NkNnf5pXh0j\n",
       "FkJYOesbdFThI8RxpE8KdnU1Uh/Wh5Guj32YkCelVwGOfuPI8Ci0Mpg8Cgo43G9ofHez0g8AiToU\n",
       "jJHquFGtwgfwUqXtKYerTYvYHBpOjC+3+v4ffvFRy2ow5EiQRXffRUFdufFLQqLp2eOmWeUD+AHf\n",
       "u4lVIIHrB10GZickdq3dgV8e/7biVb0H8GT7cqZ4puxZqPgv4WnK8/oAOtelTAVIQcwjyNnLPMq9\n",
       "jPh1stgCxOxTNYtK9Qlvl3BWLUbWIo2pK8r7KfFW7qKOsa1sBSt9Oma5Wo1zXvfj+AwVwHRqD3Hq\n",
       "LUxVIIEk1aDCxQASAQtJutzrV1kEzf/YTLlb0OXx9TSK3/JvuCAAAXiCiXxQ2kzCCkp9Wo50kdQD\n",
       "BTnEXcqhCWE2VOLr7ACpSIipXmc1FNcAjC9LQlE77mPBmFieOz+Yfo1dCC4E+ci3bpIBEw+AcHE/\n",
       "irIR51WLuCg2jrNjODdZvnon4XM1HM7z6Tt07WA800T/iBU0Id/v9F1HDtCjV1YOH9j6oTsRy9Ef\n",
       "cOocSjL40gv9iAFzdgZnKXVjp24BDqLlFxRhlZ0AsqSyTcZH2+izdpGmKqSC7VT7DSb5fYX2Bn4D\n",
       "lsFSSKbKk2fgxGXVXI6GsS77DDOcRIvfnldYliZHXE+XLFfuDARlAkmvgBCdtBF4p862ri9w+vTY\n",
       "WuNUfTzKvJVyEk1MbTzmDTXugTzprHZkJRQjdoEJK5niLr/fVPVAlqJXFKZu8CmOCaUtUBoSJ0uK\n",
       "lEDz99HhQV/6FmGPEl3q1o/p/JJeEYbMDmIdO7Rl5nR89orusF8DriCctVWRduX3VzwJC2sfPSkh\n",
       "X+U6GQ4UxljPPo1JIRKyP+0zRcZubIj2Teir1hoSf+UUD0X5pEJl0sM14ZrzXT4iQRflx0B0ZSPU\n",
       "hxQ7pL2yIVOoOZtTsxLXz18xPI2x/7J6oVlQFLW0y28Z0aMaIQ9w5kz8dlmCxW1ciX0WY221vGiL\n",
       "7WkdbFnNz0Oi6RHHYaR5bxmXXOJ3i0v/R2iMiDje0TiTIxg1zPTLYuRdJEnouTK2abFEg5iBer2a\n",
       "laMrg1aE0sCogwv+x2xsgT3E9J2YrJtHhhqhyZqJPgs1qo3IANS2LdmzjrexO7i3GbVpsWYYQCRM\n",
       "WxE/D8544ndtYaQ2RpL9Jv3i6eS/7ZIRfMyAI4dHjwK+wUm1We+nDx8TC9ATCA88BSyh6MlEfEAA\n",
       "ACEMB3QYAAAF5QAAA6xBmiRsQv/+jLAAqnuaDrlIQrnBoC7DoAQznQOEEJVsgvtgGc3bDL4sq2rH\n",
       "Dm63KlwPbNqPILCFoaRnuhX0e6AsPKE1Prnee0PQ8R29IFKjRO+J4uXdcWk3+ZQ1huI/QXrX0SYy\n",
       "3kRFNlBK0itgw3k17988aHgGsgs6ZLEc5oXPBHVOQ0PTyoFbVgAA0NHdQq7IyfRZHOXriZDlPkR3\n",
       "GH/Jme6v2mQv3nIHMgab23HgEU+vn2l/oQs9I/NVeEYe1rE1YxVnqY9bdvl4hOYRBzvt8PoWB0i0\n",
       "R5yHObSwdyCjUfNw5FTSATPwLVQC7XBJy4wpd3Pa2PiFLyrs5CADdhEi6XdxvmyZOvY7IAKXSLuC\n",
       "eSOFMBw+k138uomh2HpSCZ/ciC/gIxfD5bexZkKXxw/swx7Xa2OBZfRJFRvfV0bYDLR6ksazaaOI\n",
       "b2RCzHH4tBYpG7iCvvWRspAxTleOD56Oz4kk5veOHJQZhatY8b6O2Bhhj9SEukLeodcDpDiFtlLw\n",
       "MhkOgabAAw9Nf3BzbBcKHq2LDvFXq9ftGin+nx667Zg7Md+bMPK619gRWzMS5cNKDpBflxUPRBiX\n",
       "iWLfKLCPFVUMCWvs5ynY7dnMHsm++v1ixqD0HmHFc21TEpMqBDeySC03offk/FR0V4n6khiOWr0q\n",
       "xHw5rrJAD8JLF3DFWM+jqMfKuaFpL+JrZP5jWtEMQ+4uhb0iLCVd75Xl1Js5tCrqGZsSJze2IH+P\n",
       "EyQ4jg7Jm0qM4M6tsJZ91WltwsYoFi4jYX1ydBO2Whcw8xLEnCQ/yfAP9jG/rLwPAJD2TYzFFGWU\n",
       "LPJKscO99sF79H4bdkfbSAPAwBl50s7PuKeGqLMR53u0z7PHNFFOygWlojgIBb0VLp7rj8AF2FrB\n",
       "F1XaU5SaMCTmNyxFE7YOaMcgwsMCESVbkoCIqN4SulS/kXTm+DpsWQRMIKA/YXE6UlfFNqBrA/Wk\n",
       "Vkj0is2hOjSr0fnBPFNlOIhPuF3CMjUiRLUi5hmdM/sG88J/m8AhZ43NHYaOajb3E5T6iqW6FGph\n",
       "WKvyTY4Gmt07Sw6xGssrkWUH0sDtmzI/0njpRz0BsGLJJcewuSw1S6lnWcj73BozjJsDb4HoQVGR\n",
       "MBvORUte8JJnV1Gq2oGl7bdpQECGSF67ualVhs0lRzc76+IJZozT9iTJ7epEpcQg1rafzdAHxwMj\n",
       "eEUlrcpzZbRd5GThCV0n5AjlU3WrDnN/ByA4/+ZKWJ7W2Kbvn/fOsC1YAAABIEGeQniEfwA2BTGd\n",
       "DRfdJlmKJ//wLQ3xNP47mbXaG5NuCpAMXtUTeAOn9APSrmCVUmjGeydtUQa5+41R1ZR6hoxsdgeb\n",
       "qhVX87Ayo3t2alBBBnQrOoAPZ+nQebtmIx66Nu32fzKPFOe0VaU8NwcFau/W8JjztDZGJA5XKHqb\n",
       "4LLoTCymuxkekiBghzk6piJdo/UyKleQAKjVrVCLzv5wieCN3Rbmj2cBt0TNrPYhe5ZJwPwCjkSX\n",
       "tLWaYL3jTEdGrX++rRoFnWCtprPk3r1gZv7n3Zxwj9TSDSVfBnbx5rVrVhyWtbVCPEFCTc0zzzOM\n",
       "rDD7o8Y+Kx9SkdcBK+BJicREHqWsKVr697OsgUYsVvReORhCQ3nrGQ8cHsaXTGpJUQAAAJ4BnmF0\n",
       "R/8AVkW44TG+bdb4UgxV8C+AEBxrbZ4KasFuwoE6EAHptYDBCu+IdX07aJBKaWFgoulRYzB7WERo\n",
       "VMOXBCQSLv2vWR+WZ6OInoDMyp0jDmTaMNURKdZUXTiYeLQoinJrZGABswTdCEsH0HVECSzAbH4m\n",
       "GZ/AllmqAbBtWep1gRfBODCRmNUZHDuBdq5PUQGLeNGn3OmNY5vugAAAAK0BnmNqR/8AD+P0teju\n",
       "onbVHOIIq2iNvdlF5jatqlM2o//kBXid23+8Q8MIPxvTZ8aOvtGAAnTgD3pkfl+N3BM4IWcxGcJ5\n",
       "LfI/c7l0nM9656PSFCz6QEUPHiR3/fvhyqHN/njOHCIJJN5VnN/sq68fwHMNV8iGujuD7LK2E0Sw\n",
       "9x16y5T0MV1hrfywSIfiPU3EVoV9QgABfl4+2vixpZGpoNxqea7MbAkIujBW9QAAAu9BmmhJqEFo\n",
       "mUwIX//+jLAAHzRaCHMNTdnYD7JmTQ9y8gtK/HQgjyp4tRdAAiyg4pHw3MjqcywtkOR7RO5/y6z/\n",
       "Igrf44K0GVpWH4DJwih/qmc07UoOIWpCnWKlvWqQ2MRnHjLo8kxq0fd0644bfzlDzoLvmkE2y6Ml\n",
       "C0eLDfQQTLvEQA1fbz4tNCChtkdGx9mbwu5tqyDB8yfHOIWZLPgANtp+BqlYHRd3R6Z76CG/lvpw\n",
       "bdtKLQO6L1U7ZUqcMvRs5ohigc585g22/sz+i4rTFFL9CL8KI3AJ97ZgKRAin9WPC3y7r4Y1G98T\n",
       "Jm6XDo8pc3WskjJygxXKNvdq2U/5q2k7HIHJuUfKOw/jZ02eA//vYiRFh3TaxkhtAx7fXdmWraj4\n",
       "SID1zMnBVQ8YRZaVYb+FsudS7UNtmB9V4YoiQrdWBHffD/JjR3We2IlKfK2e1DTnBK+tf9P/QRUK\n",
       "o7aPuGl2BBj57Zf6+sbhcr/6BujjPE5LYd1lvELYbYPTjn12lNpEhg5g0eoRl4CVqgLdyb662rzR\n",
       "1SxPPL9313yfNLxFU+dzPsrFIeKX+Gsgd1jFQHggpvW1Xc4ODpZS3BBNXQ7JqQsINkq0B3VTUGv9\n",
       "ILsupf55NdlMFf9Y2AcYJ7rLFEpBFsww9wgH6YEfy8IWdZ2t6Qsb8EulNeDPggfnNgZ1xR1+FaAx\n",
       "zLbOGBoXlAl6q6COaLUUlVNsukFwZWNhpKQAc0bOstCQeV2GNIOohgla0/5VHFgQqo3O3xFB6EJj\n",
       "s6irDY/3aUx1fGIzJhTkTM9ffB+4KEyFMPULBnJEKO2a6Cc5HLzUugssrROX4N13IcnaaWthSs+i\n",
       "601mEp35GAtF3ERCKgt8IsNWmuMNkUTUzETsfkaUfWR6kzFkL81IxFPTUcVkFExHz4G1X/ro4hDc\n",
       "L/uYfrrJjE9T6jnApwmb087+xD5xoZVrV8RZy3jKY4JoYybDrVhqr9jwLcRtUcuZZIGdqUAvyB4g\n",
       "QrNbAAAA70GehkURLCP/AAo6lZwFFovr24di5d7raP2xtmZk8GjB6UkCw0oQIqdAAC3Kg84GDK5y\n",
       "kXZTMfG/3S4T/d0Ho319NGMRZvMiklAXCEATw9zlPn90AHprf6pd6Iq+qHQpswj0Xdp7eagW6ne2\n",
       "KiRH1hFmKVNPbHKTvWLxKNHUkZnCXFSV7wGoeUvy8uuS9XPli6kc3sQSjfzEDpSltxSExDv/4Qx2\n",
       "Uo5nE5cA8CgsVL0u6f4Y/JOtbkohbNw+GrUg5aAZQym25BMa1vRBHqz/PU9VKkeWNVf/VTWcJkQH\n",
       "5PWaA2acr45lqxktxqxz/N0hAAAApAGepXRH/wAP3D7TxJEQ7x4QzjJSqH7s31JhheWpxxms8ZFq\n",
       "uwJJdtBNE3Isu33/w6vfYb1pej88j3xd92NystTQAJzPpeXRw91XX9ccsGDaH9F9Ral8CPMIC0ZM\n",
       "nqfupHzuyeNnqS1EUDKymjq/+pdh3PPxje4mt+7w/GaIPlExCVoNZratL1IGR0CmjiIyABLf/9zQ\n",
       "zBweupo5z2asvKVbzhGLAAAAfgGep2pH/wAAgvxqh4WRTaeQAWdyzwh1RfmAXmTlp2+32nVnNTsp\n",
       "7eG9hOXOuUqAt84tQISpTctTtx0mPMmKt9D3AAILbS5Pkd+DrQInhKw9zO3UiaKj7uuJnHdP7zb7\n",
       "nwxQw9/OwlkcZPFmctFOQABVuo5M2PGMEqZeT/mfSAAAAY1BmqpJqEFsmUwUTC///oywAB3/e75O\n",
       "Ip5TkiZl5Nv/4lIB3pvu1JiH47xW9Q5jZiRuQMR/jfWaaAnJ6KJO1be1x/LE8mk5VSYv4cd9SuFY\n",
       "sbdH9fu1gCTxYb7rVtuAetqc3zgaQBdHoOQZME/fH43sFEduQBS5zF5Bpv/oECwOglEt46x9lw3P\n",
       "ji5XAgCPjMLXUnb54IoV7FBzDRrXS1Wu5ubgVc+EhLWBlzrsixGVkOj2Dv+VH8RwliK3v0WboYuG\n",
       "VRHO8d/nBQSzn5P9AGSF0LpLdd19a/fP6rmkrTGC5927Hx6rlkOuZFPRsInWgkeM0siyBTH/XyXY\n",
       "H1+5NAk8wcXpeKfofBlyKP7FYnaVIef2vN1UxaGeT012+MDEcdpBakAo5dOnNZTEeoNb6I5ZydfV\n",
       "9ojV3Is2FPAB1c+8Nl7ZOx9yLrInRncPwlyUll3sVmufPfe/ppkIZqduyo+khEo5KYlIMEAecRLi\n",
       "PmQmILjc4Hd41i9soC9qrDlSvpGsIQhR5iWtECZjGYpUAAAAkwGeyWpH/wAAgx8aqfzaIrq8CCyU\n",
       "V6B9GAABjDOx0iLSOPgR8j80ne46wmpZhALCtA5whtYYU1sSrMluNHMDucd/TbfCCRxfDt979Piq\n",
       "iiWwc0VbWnffL51r6ejhhPVPcQAJ03rgJmrQHAzIhwHnooaICszNdpGMuyP4D6UDL0BTEBm+usz+\n",
       "4AYYGfiF5y51+Wa5OQAAAjpBms5J4QpSZTAhf/6MsAAAAwAWbRj/CB4HABxaJrKo/sgIN7eBdI1f\n",
       "ldff4omD2O3eei9vOjUPIy7e0bTeUZW/tOoNBVINci6SY8O1OoKtLj52U1k1uA9o7fwuB2hoKg+t\n",
       "asSJz8Y3cJT7nQPFgdGERI/4a/h19pMdgYcz21SiEi+VTuO9S5JHuGw6iH47BtccAJRckSuNwHJ7\n",
       "OvQrU3hWja+5UuU2+d39p8ltvtMPoPTE456x8xvvwsdIGSm0V7zsTeXEK/KWo4mq+w3KnsKiMRYw\n",
       "OKp4CKn0bpc06aJiqhZyZT5h6hi//IwDIWIUWB+B+MFG3N5Kw4uRupcY8cEeOTcZrSjiK4pi3iLv\n",
       "rxePLiAcEjfGOPijAtyzUVhfQegmfJysOTdW2FnRx44IS69EZYRbrAoX3iRECABwIC2ApDQeTYn3\n",
       "yZWn0GYBp3fD/bKtFxoJD7nCrwwEtl10Ej1CqVhreVEUtURLEAA3d1BJ+NL8u+/xaREOzwQ4A4+b\n",
       "QWSYyANFnKweeg08bPu5a2KrcevPF/x/VXufN3nQ3dilBV3Vjk/4W2+KJh08zcVSw1N832Su1i+n\n",
       "jM/JhCQnll+BpC79nJ7pVFA2BkwCqAq5I8VG3tDB68Rk6L5tCE8C44FX3cvxxw/y8z6CKKKZO7oI\n",
       "7UX7HT97W1ehV9utaSRh39fl56IbdRskMCrEM8FY5KTXjbeqgwAZuJrH/e5EfV5pNsXvJb/fiaTI\n",
       "woIMjanFrpHIi9eTVSYTwoAAAAC2QZ7sRTRMI/8AAFQ6mmMMEHxlnGx6Uzhht3lDTNtUDbgE2ESH\n",
       "gfr85EGe/YYt3VHhcLb8TKLo5nuXMirsDSAEPAMbbc+JjV8bYSl9g12bFcdwEUadahScJmSvL9yP\n",
       "s6dpE4ckhXeAOxPRnmDWZOG+ABOMYAYGrGorUf7j244vsR/3Y0JDp0ArQw+Qbf9dqJp/I7OvkLwF\n",
       "2Qr+dOQP1sMLdvJ+ocVQAdwtmt3AQoN0GOMF8u72XcAAAAB7AZ8LdEf/AACCsOqc5NT9m5ziUccD\n",
       "A1m/kTIMp8qHJQZ7C0Q9c6uPiMYkommbxKhWxMAcmzImqtvj3dhplibJq5/IuiMJZIdfC9AHVn9a\n",
       "ACcLlTv2UQ+oW0iqsZAGjPv8C+T8HyNyjCLVWi3jEtIqwAKaMmDY9TWS7Je1AAAAbgGfDWpH/wAA\n",
       "gvxqh4Usk76W5A+SqCPnHBwI6rtPsWNK3XfGP9JQ+K7UKJEEgjrY1FpzJw32yq8T9Mr8tmgiQoVC\n",
       "saBFhUZCmnIapmxZ0Qb5vs6UxJhI2w6EHzSX0eNXYaISBVRkAAJC65Wz9Ek3AAABnEGbEUmoQWiZ\n",
       "TAhf//6MsAAAAwBgvW76zCWgwjc8NT48hdguhaWcoPEFJuHkRqO3aliC5XTi/f+BBWQSo7ZpFlsf\n",
       "LpINhbtHP6IZkjvJg3Ov7Q+H8cosIvuv1VakJKIVSiveIQ1O3rLgIcvYki82wwbY1SPo6VQUYpEN\n",
       "H5YCethMuHC7RAhR9wy/mBkp2OqIaMt6xUJ+J5IHqNrHlIBxvAnOrM9+3seAvxAPrt1zzvPEBHd1\n",
       "Rq++ztXNvxFr3gUTlr1PTz9jAUsVa9kKUqTS9gRMc6EhAtlOXpqZBEtxS/qOjrfOygG8jxRxpBfi\n",
       "6WdqMkiDj32lSuu/O50lXRaV/iEDQWSGBT9EMsrxaN+gnVQX8aoS9YRlXw7bg5G31AlkUA7+Nb9d\n",
       "42lXaaTQIoMUetxpcm5hb10QFIw5FdxOd9pWYcjfLV6HzY+N/9UveCOF+Qe5M7IzbU2nbpBimx6i\n",
       "OgPREeKMh2HPK5rZ373uXs2zmobJFn+Vgw5pRIXCIyCTTRvuIcb5HikOZuqQFYw9rtFIT/0ucNwR\n",
       "bGQvtPcAAACWQZ8vRREsI/8AAFRCfZjqYPjR98ajmaI+iCx4NeovcybFsLTsTjSUWizpJdBDCXgj\n",
       "2lfTn84sdUVYqJZJnPjjZzFuDvqGZY5phLoATOiyTgJGhuamV2lqnrkQWlMXAUtMaQEU3Hw0ixL9\n",
       "ytwQCqKDZgzRpCP1CRbxq/X6xwGu5xMLie7GzEknYdIAIHwiovxzi7fsUAzcAAAAcQGfUGpH/wAA\n",
       "gvxqh4Usk76W4cGFjjmq0LgxQK1wiV7pMWbXi9eDnMiWU6/M4AS+9MkTBa5jzveTbO//5PXUK8SZ\n",
       "Vsm8/CmkdmpR7uKUKHZF3FFHIZz5EBWg1y9Nnp+2Kh31KM8IIkbEABpIL0mgPyTgAAACY0GbVUmo\n",
       "QWyZTAhf//6MsAAhOYoO6A/XKQTZD6Bf4QSDwARIYy+22IQiGrNdtTgAt6u+/RDjnR7CLFINIdBe\n",
       "lK1H5vJlheRmG7bcJArIBKNKYtyGKjbrLyRFP3HRgx0evyKJtWU5hP58hL4mDjWbp27XkvTRXkdo\n",
       "I5VsDj+LccP9KMtgjO7jyuZ31gCqaeVXeVA2ReeF4Cn7eLr26utbkdFXmi5W9xLHZPxNo1j/uc4o\n",
       "3xBa/rgpLz71LI3ZGnbE0OYxlMUHE4No78ITPvk41gVC5H/bYuCSTBA+gM+2cqWjp3X3Rj53AMau\n",
       "ULX8nbyMO6mA0N59Xn/LaJNgLJr0PGG/YpDoHopF8IqFkH/e8UHUgKJGfnBE0hAGtce+MMWq2f4t\n",
       "KJS3j2hrhsznrMf1j1Dhq4mZI+/CicuuiKbSor5v31shU82T2f2DvYeufMDf89UOSoVdIRJSJQqo\n",
       "z9O/BixD97BMWJHJn11Guir43OIcqjOgEplXMQBMqy+tS5bxd0VrBu+gDzIQKmEw/3rh66bRbZ7E\n",
       "52aecCpkBC3zIz9kc0pGcXk5GaXtEQ9hU/UFEmIaakVAAQUY0Kdo2QlbUGbQEGY3onqQIKZUV/dT\n",
       "n76V1jfMoOiH9i9N9UwU8/XGMUjYjRpZD0yjBQ6F4IGAEsQQi8DFglvDQ4IKWSVN8+4xWuqCc7Go\n",
       "+u7c9haErFtPHE2TLM9J2lGHdZbHIk5mLTbLbjmqUERd+sPnxGKGkJzwC8h8/mbbATjKvc71Z03W\n",
       "jqnOBJRBi+U0FWmeRnUjb5uYJbKQdhgC2BCxCB7o/LKI97aXAAAAwkGfc0UVLCP/AABUQn2Y6mD4\n",
       "0ffGo5miPogvBmcu/giQPvN5XfXQAPVDURn58jPfmzLwjB8SZEQwUO0dExE+Kha6g999DEcZ4twe\n",
       "PpADw8uWNKmoctjq7HSA4sxLb4C+8iaTN1DQsDwr+fSwBoGRGTc/0DTbWPiNOIJEOe18gc+8XFjo\n",
       "2eyFI4SvmDeqQWBoVzeGTT6LTj7O+JLacZ0e2RT4kUiKIk99HNUI57OXWcC4vlro8AD4bRarrTT7\n",
       "Odp2LmggAAAAfwGfknRH/wAAgrDqnOTZItY+LpCdy25pihsqPHJ4ABL+MWBRLhdEwrDjwWnAmHxI\n",
       "J4qNEcwyTszEM5srPWrC0eauLRoIQ5gw8zz2yZVEV0e50Uaub1NuZhJnRMKTaOKHEpEHEXBct43f\n",
       "5AGfpix4wPpVeuzNG4APuqA/iz1G+2oAAAB+AZ+Uakf/AACC/GqHhSyNrT9B0LbSoruh124k3I+B\n",
       "QAkw1wsHnu8sooOEvxaGT4kwSuPIE5lZBUwwGizBchPNjEIw4XK2wL1WrPI00wc2UU7IGWwhcGGJ\n",
       "GGXoZyZyvBISNm4/pCvLe+yItMD6Pe7St+uMsKDrfAAigbCFT5aDAAACJUGbmUmoQWyZTAhX//44\n",
       "QAAGlPryTvkdnnagVHdWuu/gyRtW9Zpq5gVV4Sy5Tt6L5V6zWFz/Tfl149OcGwOjn1/hA9OoxZS+\n",
       "ek9HBFR9JFYITuYTAPeJ6Y8v8gnEch8WzruNW6k+8fVnAJV2WzmrgG0hh4j+lUXI2uBYvfbNxwO2\n",
       "+vjXsCsbH71UtL3BuYx5UAQrwSSH0TcYioQ+nh8wz+ji7VyuF7AXgrr+iHMI8X464KZ5af5J+Bs5\n",
       "Ht1TcNWRBVLMJyOgF/P2qPH8C3gWOcNxpqsjLnPO7PFPtC39voq9b9TPkypSGWLKzNXAqEnO+QP0\n",
       "uCn5oMxJ8950zy4caGTrMaIUz557HF9hA4NOKJ0POAWEsW+YHVseK4XC2yEda9Z4YgtrajG/Uv3a\n",
       "7HNWAocMY3FzaeVOKjcdjvrf0Cm/TKh/1rFNiU0Ntg0dgPjd1PAQ6t65RdetJcRCuhdyXgwBjKB5\n",
       "beB2gEmbHtKEVSlvME7JxlveCAQetGJj/k+TM+MpF7+wIBgn6NUwowggS1HoKtahuup1Ie5PAIaB\n",
       "cwNOn0ggyy5AqIIn/7GoB4YOFpPvMSTvO0yyUWV4Yqb1gSvotIXl4ohiILVISaJpWh43HXcZjotN\n",
       "sTtRtJ/pBEeYEQBrv6dcj9htyRV2md2eENY5IA2koWqN8p03NvBtvLZfduqJrZjveErhAdvLGQyN\n",
       "10a+VFpogGljup9MExfaLPoBFE3TQAAAAL5Bn7dFFSwj/wAAVEJ9mOpg+NH3xqOa2NmL2nyO4BGR\n",
       "IA/c91RVCOLsPW4G8hoHADsTrXNYABBXB1jR8soJHBEODvKv/up9zrU9Apd2zbOjENZ6YcutiuXA\n",
       "eiRr3R3bfGdwAU3mTA4MNQ1koVs8sm63GfRwQRgg3xyc2w8ukHfOHrr3ymrRpV4JusK2Pgu32qr/\n",
       "8tTqmyFw7zIymceT0SSWvFrPYcXEt2MubgCFPesU+gAmYtBVe0tqTA5Z4AI/AAAAfAGf1nRH/wAA\n",
       "grDqnOTZKZxbW82nsE2qnGI3ZnIARX6ngBLNcsFAn4qya+9jtO+OTNTXH0U5xl6Gp037CFxcHQkc\n",
       "vTdH9Fl3ei+oQW2fUV5UQetpd2zA5LHMl8T6D0IBR+tfRFGVLziz54nrNmRqc64lqoAAHaPqVJ4/\n",
       "0vEAAAB1AZ/Yakf/AACC/GqHhS2Dz1t+IxpMSbJraLFvJtfGbTZBBG/L2+mPIqfN7+cgAmYhnSHQ\n",
       "vLpFye+gS2L2sp+UlbIqoywwFzzj0TzNBdiMe4lf7wAiO6IgzgvXcxx1MhilGMN6wQw87V1pcYAA\n",
       "ELteFTSYfDMgAAABB0Gb2kmoQWyZTAhf//6MsAAAAwCqe5nqdv20VNAKWEAgDluBrA+SKpHIyhLg\n",
       "9Eo8mc+luPOMDNOWF/0icDnV7nBI07d40f3msGOsmjKQGwIgoJIexHfasHLOdw71jum0CnZhiwji\n",
       "36n5vD0Bz5xbP1+muKW7df9n9ksuhptjm1X9a2kASJMw7o7DteTjIbhFVr135qlLj6pA8Q8PlD80\n",
       "dJ1pkLqXbsS6iN7mxaw8pCD1jMRMHyH0W1k3CdNVl8IMzHHve0H2Bd+Ne6+uSKj2ULw901vSqLtH\n",
       "Ng8rDY0Y981UnRVgMQ4Vb+exFIOiEUZPKn4V8xBFYrq8Czd43zlKoza46ePsin3BAAABs0Gb/Unh\n",
       "ClJlMCF//oywAAADAKp7miqTRWAWs9OEOYctgNE8GipakhcIIiQKtiPfyKJrNg6jJTb55ca3jljD\n",
       "oXFDqfKWXw/W88AT9lczjKjAdek1GYgSVprivLfpwUr9XAajwcUK/yNrKsrH3YVTTN0mW7Lml+ex\n",
       "DQFS7NSuUIpvmL+3BH1Mafgj3gDWLMumY3RhN3J/JJoU8f5mi70Yqr+8s2XH3Voc7khuYpRiMiRi\n",
       "Vy/OYmes9v2kdwmjqYA6+lwN1+uRs1iN93Oq8vZE4+HiODaNWN6g6JyhZUuE0WYd1Llzt9oNuq4t\n",
       "jyqKWlsEOBOwD+HntnynCgNw2MXYVkXr+/X4amjXXFCP89Bx1Of96HPYuWp3lZY3szY8nXTx0YHI\n",
       "RfC1R/1LQmt2/pgZ8r555BktaoMXR5AX9hCEe9nQIg8vLSq1jRdRV+JwXEwDirwIiP48oUJpRWT0\n",
       "lseqhO2x4Xz5joyCKrqiTR3Ftk8rtWORQRVXG15YkcXc+uYlOg62DNcwtajnVnBUu0EAG2CkdRFj\n",
       "YPxBu554EJAfjlIFFXBJdgkwSO+2lgeffYD5+QELhgAAAJtBnhtFNEwj/wAAVDqaYwwQfGWcbHpT\n",
       "SU5+pqA4Kcx1FIYS2FwnOL3ir3CzMfvFBO8ZoASo/yxIctudK9nxkf0g0ehc4Wt5EfCULvNVMN9x\n",
       "6maxbbhe0RVxxlXXdgjOgn6garIijsw2yTHRTSBMjekfFpEAdg+Ql0rOjFhroEAvXZ2uSsSf5W2A\n",
       "EDy5gP+oGPNepSzhvDVRDNR8wQAAAG0BnjxqR/8AAIL8aoeFLdOH5T/QcCgA9P94gFUl2F0mgZ1l\n",
       "Sb/Beu80//xoykukzqHcmAMjEodtp9la91jjnN3YhszRM5VxaMHm/bREST5MhIlg+ZuT6gxcgwRt\n",
       "ulmUY7Uomjjs0AACuIZjg29BAAABlEGaIEmoQWiZTAhf//6MsAAAAwGpE3SWfnAE7KwqpuCeH4iO\n",
       "YpEy3y4IlLAWtipTpTJzJQ0BWRV20+f5lD/k0QnkQzeKbGhcAFN024EBgJuqThXdwCqmCbSUrhsV\n",
       "FDoe7R3xZBYtHwaOD7DK1eag18KrFVfdwMhbB+lNyncGaAjDRzAqibo68IGUFFdfvZeREE1bDwm5\n",
       "Lr8E2w1qwRZqIFa4rxAHBPub5p4jpzUlQSTu8Xa39rBpx3n4mTgymKuUzvVn+Ivwe7BeHY+3er8K\n",
       "kCdl2svq2X8UqGIEOV9BRuShEKTreXYTwtvShXq3qxmIJBN1ygAj7Hs/wOWPLRVph5w5yq7Zgie6\n",
       "DaqC/J3Wu4jRPGrbXlg1ggqCaROyUjCClUQsWJK33YjWz71GDCCo4mMFuLhrFR/T2NdqY2Tc572k\n",
       "bvFDgNpzkoi0d3rgim+FisYsmA6BKn72InfQ8XJhEOq1RcLPl5FIDYmqGwIozpnCW9ToyLWAO80F\n",
       "CkEvkmLEbK1mKuDJJREPFRfdNyd+07zl/KbXAAAAiUGeXkURLCP/AABUQn2Y6mJ9ONqjhwvMLaZo\n",
       "yubS7q/o5zTA3Ef1ZBadzBO7BuvAbEeyRiCZWc8/Ht+jhEPQ92Xi3S81ENSVmxxkg0gcjDgE95Jg\n",
       "jwlr2lRA+KBKZdLD2MvmUlNFpzxWh1YG0IABonGQrnM8B8/kAId/LdQA24OGG3V28gGBSBpeAAAA\n",
       "XwGef2pH/wAAgvxqh4VXSoUQD7fraKXBv7YlXEnDKmspWT89pjNELhNZFKulpnuiNL/HH9WGE2JM\n",
       "/60T5yT1tdRcBF9WUqsWXpw9O0693sq6PLfPZz8SG1cgAACh6BTRAAABGUGaYUmoQWyZTAhf//6M\n",
       "sAAAAwGqFQHCty5gCgYpqY44511neJip6vvOa6P2u8tmcISV/F0VGTd/4epWGA2MtGaiuoOvlqFF\n",
       "1QmWsOJwuKDCGoNvX9TTfKKRcTRKSupn2rJgwiRPYFblzKNVWbnBnJ4IRh/3G/4GiwBX5rrmIblM\n",
       "cEg+r03DheqsbIuqKYZKJDf/DcnIW5ESfQPZHIjVShguNVLyOjEc2J9WEIQSLTnNzbsJBgNzrJrG\n",
       "bv5WxB/oyJfnGkDCnxE60BvOIhxyMpr36H9LrRT4G5ZwQc0t/2CzmBOUacqoABp4DYyU1dqBOgKE\n",
       "B9pXdpXh8lCZSEiEZ9yFjJ9ybHFlmTIjtF9jvKzj+iwDpWaNnmSAAAAB/kGahUnhClJlMCF//oyw\n",
       "AAADAbJYckg9CAS3H1oKsJusWqzCeqQmURPALdd5RTUmBrABS2sG7JCB3g6TlazTF+f/8/oii/+O\n",
       "1XJxm4GyCplZB0euhD/E4GynxIIQVFvPaXBS3Z+WtPSykVoglctqDJffCJPidV0GgQ/mxlH3zOg9\n",
       "hpB0IUPYkcNgcH7YwphDzhkjkxukK7odRM/92aO/zGr0JJNPB3lje+JcMj1bptC4eYg/QGFuM4bc\n",
       "35N4JvbdIlVnwfm7DOXxzI2PDFrX8mnNIAox0JxtBOV6W5D6bGmx/0sT2FjwwgN5eTMNm09KzQ5r\n",
       "ID2HqXUVczyhCIwcjHFUWohG6BB0Xt1/gpcerdcMNaO8R1DciwT5lEqIGE8wVKKveInlvlSUDHTb\n",
       "GQ2KgzqPomn6OpgxyRflOSl6b96pYTKdOQlccKAMBa7hJSzENWFrp2ZD6QnnRCDXGmraTGeqwSaL\n",
       "bewEiHJYzzBQA7h4l8LsZrDBmo5mNbSxSBpedD626uJsfhyAbcSc0WZ37dFOCYvc4cVGcft0XZh0\n",
       "CSDaxkz2P5sJgh8DoB8+pmKXCsHPir5KTNAoBWI2V8oMPu1HkMSAN5yHJ5EcGhqr0NfnpUE1pVAV\n",
       "6UXzhFfSz9l0bQ4xt0z0vGHzwFYGwD/3mVlw6eeE3cvpPk5Q4o010QAAAJhBnqNFNEwj/wAAVDqa\n",
       "YwwRSBloJGtxjzYl3v+e+5iw4+7Ls5hVd7qqBcojAFA9jAfnF6yAC5BMjc8fasm5+PE7vxLwuar/\n",
       "CPyiQ2fAfInp+rMMkcdAEBe4z3Zc3w4zxtnOiohB6JsoCD23hJGJ4BSMFdWPjnGpqSs1m7o2dUz2\n",
       "eSJfI8OL9yPGZoFadYAWfYtXsUV/KyPYWwAAAGcBnsJ0R/8AAIKw6pzlMQSrkrWO7B0WJ0jiBNJJ\n",
       "CuQeHAevAtK7KDrHsj8tajBCusnz8mKimBPhG/rQJ7o8Cegkv5ihvJoS6ES5541yIp35tKZOzZvC\n",
       "iNdeNQQupsu6NgB307GkGKuBAAAAaAGexGpH/wAAgvxqh4VYpyKDs+0g7+DyyH2abuhTxTrUJFGS\n",
       "atr0mo0jC0hUtjv3qvG54BKixnOyDZOPqSxrp28SVLIh1VcRpgTn6gqfu+YvSiNVts6wBOQtqdcZ\n",
       "MO+6ABtFe+PP0TFhAAABLkGax0moQWiZTBTwz/6eEAAABxsWyeHP/3x665KT91pfPZ/mkGFgWCzc\n",
       "A7A9ACr8mDsKgSfl0n0fYwCk8Vpgd7RlYpNxxtyklPYVeomlsAglhOEa3Chxu7dYD41clBYsBYSg\n",
       "WsfFYiV5+jAwfWU3Qdg/nz4ralmLeNmG1hUZ9HvTXxxXczRrE8eAnjy8C3KUFFTgGN+SHL0I8I9D\n",
       "x0feQ9pFWwPm8iNuK0c4MaVJE1lL7X1iNtwCJAZxeAndPaSrgz6Eii8UEHHkJ62oiMh6LzbWvUxp\n",
       "n3kywoShfOD3APzO2B5+NY4eS6LeBlmeY/qtg6ANitpHtFW34XNgCCU7onx3WZoGFnO1Solj+b35\n",
       "FaV3qIcFkX1GJu7nch4PcVpbDLyk2SP7nZgVVcRNgOaBAAAAagGe5mpH/wAAgx8aqfzTQJJseqfa\n",
       "1gMoqpTuLqRaKoqrM8rDB0Debofn3CP3uWPRmWCdUzwMdgBCCcBCJVT5/XUaRS11D16E4wbeS2uv\n",
       "qodd17Plac6hpfkXmO5dAAG9gnAZecASueYyB00AAAGUQZrrSeEKUmUwIZ/+nhAAAAdDtAReF6qX\n",
       "SqmNCQArnU6FID6m0/N5Pw5/xOzNBS36nGB00E0x+Xj+cR6OajLjHlGXMt4O5HYzsB1dbDF/+0Iu\n",
       "Vx2/xwGcefSBc2YNPOgh+Kgfqmty0DpzuTwwQM2ioIbJ750wHZmTJuBa56iHgLO/QKusncYpNRE4\n",
       "OeDxe+t7i5pRk7zlTTRf+Wf13D7l3u9eDKGlDSxtfS9TCzcFMUSW2vhz9Z/PPFs9C+MCKeyV8SDK\n",
       "3F0ruQMVZbVzEQ48lk7caAb1zbAq3dXmUWBo4dW9c77G2Tk5OV/1PAL3rN3w2nxx24rtDf168TOc\n",
       "CsYT/M9C0f90VUuvrqE14NK8H+RPNewxIYWZiRRzPbQiqv1Y4vHJQ4LFYHowKcF4FMQZYLGzwIS+\n",
       "cXHdUriALY+TUQn5Mq2VOAEOhgGIubSv9GHzhHDnAzwDFP0lzWCv/DksmaIVynTULCvLjlY+EThK\n",
       "zIWX8cn7q/zl1sdL3flTn46LjDh7UvKnsOBms8sn24H96iMw/LAAAACeQZ8JRTRMI/8AAFQ6mmMM\n",
       "FYCEQplg4AiVt/r2KnT5wYNFFj60P6Ad89klBwXXAeczgsDq4H+P2fD5XlsV1zJUt6T8xeHNGkyt\n",
       "kRalMIxwP4WTCFIbsBUZX1sP0h6JUQVhfetveiSa1J4TXrmCc9T4+C5GjRv+swIV98rcgjhbDHrk\n",
       "3OE+JfFCNkmLGf3DggKs3ZcIWEhwWNipmcbmWUAAAABmAZ8odEf/AACCsOqc5qaosZ/Ojift8+PF\n",
       "zssGh1hYdfPwyPj8Mawovf3lhVcnuF8zgooQwT04J/ThjY/9xR4lQk5jqXxBL5CZVinZI5ZKApk8\n",
       "Bcd54SyYDCqeNbAlzAAAZkyWOPGfAAAAaQGfKmpH/wAAgvxqh4YSGmeZXJsUD2z/yyJFlJPLoc0V\n",
       "0rDNI+FW40lcigBkJcAUHRxxiVfT5BbSfRVokcYXE7ivQVyHCK3EYnBcYqOm32iNEVxPV/RBdKpe\n",
       "llfxxkMeCAAAYJN4gDRQQAAAAdRBmy9JqEFomUwIZ//+nhAAHn55CE2kx6J33MeOdCjEyiFh0y9W\n",
       "s1k/AUh3OHAXQ3nziGOlHPHJYIGkQ4/zQ/JZWbY8S9krqWU8VR0A/Ws2ZFnLIi9vDDtprPjkTASg\n",
       "tvwZN2Ze8Eia1iGAW5f+L93slYFruD3UmbdYwthxG4dTUaNSIVJVhXNrNWmWXx/Jz4+TcOBxgJ2Z\n",
       "zE0P8+gY4aVoHlwFDQEjd2c/eHDq7R8RoS3/3GB+bKQNgwfBvBKjnbiqkf9KYM28ZHb62D3U8oHJ\n",
       "2eYKHFZWUm/M63wL5FQG8VeYfIuEaPHLgd53/qMwYwz1wJ2MhDvlXwxYK+xkiPDA6PH0BTziXCyN\n",
       "0Zn0Mb6qXX700JF1edDZmkQzFePVsdTWfI8HWA/BVfDEyR5l8hqQAFNE+vbVAf4Omfpd7C/rW114\n",
       "rzTH1mY6pKc18yywVJhYjedRNAVJ/QfkToDwghyZhuYqd7YbfRIK4fbtRH+De9UAeCYWnnipXByP\n",
       "EB5tAftwUTk439M3dG2TQ7bZsDGbPTZUIE48ssTeG9StaYWrG2IZq7zzZoRkEt6ABkELy6+oUGa0\n",
       "UKeodbGfJTNYPw4y7dXvfgfK6igMJsTL9TySgGmcg+gAAACsQZ9NRREsI/8AAFRCfZjqa1TVkHqE\n",
       "pdUjYAbfRBfxn6wL4GtiLOEHBUpDf+04tJHTX53GdMZLAagTuARo3wDRSEbNe33yk/b18FIxyrjo\n",
       "l2lVghU62ZhrkKQOeVQ00IihkeMgpWt2PPo0H9qKmXOngVrmI11lQttVzRQi3ZDbAzei4yam270x\n",
       "8PavAlbgn9Hyv69jcrN2zEeQgGscvcHMQP9+P1gFkYrX9z6kgQAAAGcBn2x0R/8AAIKw6pzmpHxd\n",
       "IUvEAzyVBUuR+lXtmqvoo1ohETAnI76KrRhtB8KIItrZimuccLVTVVCeXX/DTOTp+76wmL69Yfc7\n",
       "zDdt4oI4fuM7pP0R9MFd/4q1urbAAAAp5ipHhEUlAAAAdAGfbmpH/wAAgvxqh4YY/CJYsH4ArS70\n",
       "ToRcvYVGQ52SCIR8CIUdOApjoelIkp7PrWkdjAUHrtPDGjgKCQWLsIyGmmqz+Ztg8ZVaUykRgLFw\n",
       "+WmJlCVfCzSeNXCsqdngYlES/qeHAcWt2AACRaKmVLz+AIeBAAAB20Gbc0moQWyZTAhn//6eEAAA\n",
       "H7DK4qjOcgSeG3AOny6rWdFE27hFLW3athbO4ft5aQWe8UBhktQSG2a2IzFs8nay0nF6aSAqm51m\n",
       "d5GPey+I4c2fHO+jpzJrjdW5IYPjJhuuOerWLlLUX0WGaprFS5+9jyf5gPciFUUo4DSkSzSWIj9y\n",
       "fpLoM4c7xmP5pVgwM+ynCcKqG5VAOvdctVrYAhPwn03i/V2EtEwxj8rR22Uw6xvSC0XX1/AiaWon\n",
       "CoaeZDCSPG9DbFvJhQsgr6tnWjeAUgrun5OsZ1rMB6atTtUWe0aFsn+RqW2/UHki+DSbuNCWeedi\n",
       "ndG1PbLZmDX1zTMEJMlAGE0emJtop2MhjOfFPROrW71nPvcB+Be69/OH/3fYLc0gWJflYQ2Dnyhr\n",
       "r1RkiQ+Uqc9t895x80z7RhtIpiiE5xl7184V/iTOgq+zDtygQx8WhmkUOarFhegyjygH4tmf36Lz\n",
       "XwPNrM8LK5425SDeFQcWKtvsHLeKKneNFFJK9FBbFP1JoDEDTtZjQh5W5NjjEBlbiY4/kq/cFHos\n",
       "iTfhskDRXZ7ACUfsgaNv1Q7w6vLgkiOSNOgf1CfVhM5PMEeE1zcFg5m2b6sZ9TuatctkguZ3hxOc\n",
       "UgwAAACqQZ+RRRUsI/8AAFRCfZjqa0bHtsoLgASsMg1e/qu6db6lwdd8Q4lagBV0ZMa+5eiq7MMV\n",
       "mstKYIeXp1V+qhRZSP+Z+FLjQxcD9+4zupQ6ptGiMWK4jAarNCZnWh7WQdoF3C1c8NnXbvaNn4bc\n",
       "AsceiF8LCjU2IsUI0IyByKtTJv/Pcm+//kAdEXFhWnsRggAdF5dBwe4ZEpACztbADleRyorh+ThM\n",
       "n3CiLUgAAAB1AZ+wdEf/AACCsOqc5q8NnzUygAcbCIo1AAefcNFsAvt3JHl3PnePyAHRgCSutuB2\n",
       "R1ZJ4DCaeNIdWEnHwUisDtI06/iftG+/ryattT0RIqBrR9xaHWrXxp0uR6Esyt9sapVhZJpS9wgw\n",
       "2vgoAABhYpATpybhAAAAaAGfsmpH/wAAgvxqh4YWr18CUaGgnFlEbJFdniVVC4aww7kumzmnSVGP\n",
       "F0r4qLKM6ubdv5wecT4+C1HT5C7HnSPM1rJFc+a2LC8o8HoVxl4MKm0MqWor4AEI4WhSFEAAACcl\n",
       "ewXVYHrAAAAB0kGbt0moQWyZTAhf//6MsAAAIADOktTiAC1lnGU8pYjxB5suiavnMV5q4zfHKomw\n",
       "3CUAwvaDYw4/dbP9SGu1HYUCYz+WZRpPImaydNyvcpMMHWeeb0O69LmH5Meim6nsDV6CEyVYAxaU\n",
       "B3QACCbUyVHXyJ6jeOiicvS6VG3546cUZV5TO5a0SS48uTGUXIrz7y2nlm0N4zxR1o1yOOCA0hSn\n",
       "ICU3mS6B1Jx0Oy+opgDrS5I4B6vgXRWKhVQH22tvqLFgtXbeNt4G6ELGGvC510EqPJnuLvlRYix9\n",
       "izy0hfykoUu/K413fYgQlE+m+la6zXyWsY0f44+SsnJ5VIN2cUS+VbRKoxudS5FZ8KXv1MI8Ie94\n",
       "6DyvdY+jIVDHIcWxe2Fx+RSnb7blzlV3aEBzAbUCq7JsyYDdNiOhMzYOU9ImlU10wK1rDQZhBSF+\n",
       "s7wDgP7cy1lUGLNyigYU/z97Uf5s0PZM1alJOhslC03Kjwz4QgfFHlpvPhKaq2JVOaIb8tRBuCNW\n",
       "clGLLMGiIKwXnmwyWek7meHAv9Vr+2nfN9DUaIKf2qS8w/v2IzeU0ewepR90OTqUG6TkGZO0p6lV\n",
       "5O7f0nQJE4YBDGk8NNZmsRu4oYgAAACnQZ/VRRUsI/8AAFRCfZjqtfXt1o/lW6qisySNtbAC2N+y\n",
       "1/mkYoDwBG+jAQm95ZhhH6Sh/CO95rsIXzefc84R8QSAA1s2c9ga4JfxNSmqUHWhPum2gC1VVvDX\n",
       "VB2oEVSbyPAGAU0q8c6iZeWnwb3byrLlTSmDUe1vsyFVL0Obcsgk6r3biY/6yINlplnAaM5pBbcB\n",
       "jNiqgAK9tQAVX0WVlMM4i+RTpF0AAABtAZ/0dEf/AACCsOqc9IkCK5kS1WvD0k421KMYFY98sABO\n",
       "yDc5XTEnUtX03xs3xdTtBJEg2Z+/Qf5Kn7f2BMg54NwFNeUVXiI1wP59ZZo5pYF/QF++2dMiRxJE\n",
       "/IVGAdBAIS6DUgBqh+Kv1MIBBwAAAGkBn/ZqR/8AAIL8aoeM+19OuB+V66fFfgHdiwAEzCz4VxKW\n",
       "tdOlVbVWhTh/9SmkuU93/h3yLz+EelPXvOfv9BHodoLsKAO6EvH8zSvpMAXwrt3bEwO3Nf4oj7Dh\n",
       "fJDfDYABrju15BtJDKkAAAHUQZv7SahBbJlMCF///oywAAAhKxGQDKV6GQBHd3vSDicK7b+SYuWX\n",
       "pu67kmC6OS7zbboaIitnYdBLUvA8qOYS+wksn/fskSpmxXQK/MwEb2TzxSNSuXzhRrqZZ/5GBOzw\n",
       "/hXDdlMKDnBXI3YYe7BJZfCqcZG7Ier82tWqZDZv6gFqy3xESk2rxhy1nF9O1zz1pVF+kwWP1iuR\n",
       "ZPp+SpWrfqz3kePRDeXv25ESVMCSkLENBPdmMuJYO3kYJ/FogPy4mMR/qDvtWX8yV1+shai6xs2k\n",
       "9Wj9tY1ZpAqGSxI6yefCDrIQxHKy1Jvkh5t1lpWWnQ5As6NB8jtFuLkL/T1qbKgHjNMrHlGLALE5\n",
       "AznZXyGvVidk9UWJK29lCJZ+Nn8KweyE6K9Pd/e062y2m4755ByJVjTOHHCFsnFZ8GVRhsfux+67\n",
       "yDJJFFrJh6BKXcnhZ94WuIRM1aNqcAn4em9y7z61H3xnHvygOtUmeujXDWvD/CzD5+6OyMcGuwLs\n",
       "aB6tW2GI1STDXeLMSfOt5IHZh2IU88+ec6eKyW9yEXFUa8KTZsvgWV2yVzNxfausfh2ngafvhZy4\n",
       "zubDVP0coZdBg8XEUrrIeQ4OihakyGYdrU3ddf45AAAAmkGeGUUVLCP/AABUQn2Y6rlJURM7E4aE\n",
       "lbiPcnIAAfOi2e7+TR9jY6h/mvG1Z5SV9TudQXrk5+py7d7jlutfM8uPc9hDYCI++kJODC7EC3j8\n",
       "usiqx1Pbc+ICN4ieC2SBEbwkyCtJhMnT7HTLlBZSxsd0n9agn8YyaSSqNYuGaLt+cJtN26rUAHu4\n",
       "q4GOEwoGf0Jf7oGRZk0o1YAAAABnAZ44dEf/AACCsOqc9R3KsaeO7MYygjrXQScYEk78o42wEPv4\n",
       "YNJClgTkwlvxbwTJsF3QqRThDAXnFG2CI1KZr279E1uqgA9GxXMvGrYYxREI6mswtDtD0mDmkViA\n",
       "AAFOZqUFqrwm4QAAAGsBnjpqR/8AAIL8aoeNULau/A2icWRW/k3Hh589SUTN3bicjIE4J9FbVGEt\n",
       "wFvnp/sP1cPU7N39V3TIC/dI6pTX7WN/tXaZfEAJSbRdSU7I6H5cd0U0R25CraecfyX+OwAALa2g\n",
       "4xg3PkgfMAAAATNBmj1JqEFsmUwUTDP//p4QAAAgoen7P+lM0AbWuNzN/cvU5cVKVfZO+eBYzNUU\n",
       "voPKGBSjS3CCfJOs73RuXr3NcNhldqd33y24go5gy10HNqD9fgTtwUPVajdkaw4/6PGXL2uOkLux\n",
       "N2uPFRuzhmuaImMhEqCmRNGbKIyc4Pj/SDwQjVxubzRhyAsh9rapj2uuZGQuD7BFosLxnUceASKC\n",
       "oFOUkPjN/x6B/6RCi8vUWbiifaojLf153nR+rIytpyjOcK6d/t9hzZvHZ4stJSEfZpryOqe3lN03\n",
       "iPdwiB7I3qN5nreuUDtBSwUzTmr9Q8zDhtQUv7JRiaoJCMFaNOwnnZFQoJdlGd/y8blKjeM37eCx\n",
       "zVwyW+J/msGaJ0vKqg4KUqknQFKIw/KfFnx7+hxNR3RBAAAAawGeXGpH/wAAgx8aqf3SFtXR3h3q\n",
       "mW5PnlCPoPu8x2hq2hB13jOzFx/6XuOH/0AQvTRwM2lNg2taybvgrmkrf8lgm/bhMxG9MJIkqro3\n",
       "Rqs+q/LmXGJXFVXmMAGHcoAG5UuH9WhESa6nQOpJAAAB0kGaQUnhClJlMCGf/p4QAAAhog8MnrIA\n",
       "FuG4WEpyhs4LJumbOx77iuvLbDgmMN3C9+g/n+mUzz/JWXTq7klCj40kq2ZXF2MVFXE/bGket/ef\n",
       "P3oBI88VEVG7razfVTmZcuA6Sm07P7sCw7InnQ/wfyEkcGEDF6Dicuy9UWRQbzC5E+MlOLyabq2x\n",
       "sJrscArIyXE2tSDajYku79DN+3LQVwwoDUFkeizx8DT8uhXvOjnMiucn30Lwd4eADnb5z1EgwqS9\n",
       "6kPoCwP0QFOUcPRem3XGm8pYKFIXmJwq/z3mmodlnit4SdvXDNVZH4z5OxY42WVYChE8I68eQ8Sf\n",
       "PxmjHBbOrycHwlEuzEPV036aQErCjGlCX0W7FGkCMqSy5o9mDF8H1B0AFLll+KwaLk18jCM6mU5l\n",
       "TeO8vfNTp2gY77VJ12UElJzlzfnQkzdTboRU1rtBgzN5PQFGRKMiRskepXLvubwSKdRmRXpZhH0P\n",
       "e8134mdiwgUw8jeMUw56IIIz3YGp8ayLo5b7h1yqlNvoF/mw0wo1VTDoHeh1R/S621AYqO2DTTGZ\n",
       "evqR51yKwDzBxHOI9o0vPnmNhuUh+n0YBhe7lElGM5a2Z1BkLoAKGL8HgcoAAACsQZ5/RTRMI/8A\n",
       "AFQ6mmMMPjihicR9vonIh8tIhh4sh4C/XiAFqkfq2Yu4+axS+yO96J4bkNnCXbe9YU8PdaeNC8AA\n",
       "GTUjPf69l7kYY9rE7xim/NwGW/G0xSeWjIcHE/oX4EZzizPNIhOn8lbawm2COOwjYmOQjsSJ+5ZO\n",
       "MNKVTyISTo5Y6bS4kir70sM8nzB0twJPbAxwdAFMkwNo7AdlHJw9UP8e05OWTDBJOAAAAHQBnp50\n",
       "R/8AAIKw6pz16qpYhKnXG3tm63K11xsACYsPVtGs7CqhkKZBG9hEPqgyfRAW88u95gTAX+UczQzL\n",
       "uesXY+aBNz8IwmFbYEQ6ytVL9pT0bQJd0d409NHlojNo5GXB7WKhlmWXrwAAAwEkF9R59gQFJQAA\n",
       "AHIBnoBqR/8AAIL8aoeNqLaulmIeEMQ+zhT9qESKSkjucR5+S11Ac+K8uWGxeMpG4yrtG7DuMhze\n",
       "u1/Nn9YEdrKtG46BvStNEeTtVWHpcY4SIlLXZkoDKLSsPY9Xdp/RvesKnT4LLxAAAJsE/a3gcb0A\n",
       "+YAAAAG7QZqFSahBaJlMCGf//p4QAACSiDo+iDICQq7e8BaxOtjA9MzzsLHWpnlSx3t5A7h2QTpP\n",
       "ZAGahcmdXcsFub5oULkG0Y8NNEZ1bQYleNKSq5gSX9u7P3LMCw+qGmRv5E0ibFGaQmUZEHKs3jqT\n",
       "vVNE1tI84+EiEeABNi+NEdkUA/mph/XwLI3GkTSlY/CcHsVYmsR+lP0vyxotnrI4z9Q4kJn08pSu\n",
       "pWb8H34p/pbsJoN/V4MHu3wNpLRtcDhWZn7W8NgaVXSqlzxyrYdZ8PO5prM6YUatFodMtpf1mcPx\n",
       "Buvy2yFSDPSxe1tjE83tzu3+2thEsZUz3dw6+2wWYufTIYy6fXk7mTUgwn/bsh/Yg+KrOubXnso9\n",
       "QkQGMB/UWpEu0KON7IMLwW9HPQ0IrYse1GDoyqVtCpbSAyjMAaTzm+e602rJwdToG2D4OVrqLhLC\n",
       "WMX4uKRA7qJR1i7fLjRD0ijS/rYxqq2plmO8YVxfCmVb2phXPS2XJxvKgGQZsvfKafXO7F5az7Ql\n",
       "QWrrbyhQJ+MgVUR7yKbIf3Z3QEz0h270RxvBvM1CLbHEfU/beLBARVupKmZ21kVSAmEAAACiQZ6j\n",
       "RREsI/8AAFRChcgVcdD7hEwxCYDqOo7GGSAIdOA3mtKA18pmPuhorpdqJvM/7zc6KXGFMSqxKPVQ\n",
       "8CUN0GqFygiqAaHEtQL3rS51Xq2tO4dUqGoVtI5ZKE/DPAu2/5ZY+vw+cOVEfP0+vWOE6P11kulY\n",
       "4nCcZx2gj7DX8q8bsvOqJA9Fltn+j/AA+7imuwBdCJcMhApcI8SnYjKYhg/wAAAAbwGewnRH/wAA\n",
       "grDqnPXGeOAqLGJipwvHPJenapXNawsB1UkQY14Djg1ZR+snh7ES7W2NdTtBrABkEANcjVYdFY2l\n",
       "QK2o8/j8wjWc4on+xpoMKwRfhPkI1LCazGd4q9251SidMPegAAEJGKhBMgBvwQAAAGcBnsRqR/8A\n",
       "AIL8lLCp6wS8vmza1fYspqCivBR409IWH6iM09Mba97YDyqE5g0USrDKgsGLZSQzJE6zvdrUsEYE\n",
       "KMoGtrRCeZPQA606+kRcfQdofE/Qdx3++djlfFAAALlDim114H+BAAABoUGayUmoQWyZTAhn//6e\n",
       "EAAAlqH5moqM1ELOcWfjfHIAPzM0snzS+uja64IrQ5GC2pCAT4hNLLOL6yBzXGLR6xty2xbGM04/\n",
       "7+wmXy/w1SDkm2QV1KWZs1NA7oKeUjzKKuSxbcG3uykWKx4cwHUKFvOjKIjXIQYZt7nOkGYGSsWT\n",
       "T2tLKdgVKpp/qmRSLigEv1GgH0tcwy0KygJztrPP4qNNgjOUuwWnDoYoxzWlMgaioLNGTvSSh4ZF\n",
       "7qsk6f7Hd87z6i1+OX+RMfQuv1fg03+/COlYcCe81jsD97PzF0HhsN9KQP/HNQuSO0shkFqRfP7r\n",
       "+IHznrm7kWhsjAr3ib5eKe/h4PfXPgdjyKDJhIzrBPNoyWBbnbSUlcK11O4c5Wfz+drjDCnThuAl\n",
       "fk1OzQpxGa7o/RuJOJl0VS6mk5NDIrWJo1n08kdC3qf0fwECk8ghRcg9fEsue8h0C0A0vxyYKgMS\n",
       "NAH1lpazrvweXTMxddmxx+WmSvO5lOQX8Dnu2B88aFm6NqxEVjyKBv9MwTXiYwMvnkbRlSWMzKXQ\n",
       "+bs0nwAAAKVBnudFFSwj/wAAVEKGK148pnuVBGa72ifj+uvnnC6yiEaseLZBWzzbjKgtibsCOvUb\n",
       "dsi5v1j5lrh3nWpswX2rR4066NP5nF0j16J8U0v4LPVLkoo3eEjcG5fWkNNcl8C/Fdgmsi5/6CAG\n",
       "6H1P70Pbvf4TXpokAC59FnJrN+G3UC0/BNNFEDGYs6n46rRPeLQftQCNeTpHAJ8+jkN03Q59yewu\n",
       "hqUAAABqAZ8GdEf/AACCsTLNdebP7GWb23AudEqiM5+Ul5UdOZfbjMuKZLcHSU54cLY+ToJ+5HjZ\n",
       "EcwarCSFF+95qnQpA2SnMycAkNxPNUeHF+7cyRBF3+4D5aDBqwuIBYbAuAAAS01CMkaGJHkJOAAA\n",
       "AHIBnwhqR/8AAIL8lumHhKthBpdPSQ1qN2i/GXmx7Y55/J78VCxkBK1q0kNbPxpDbCOYoJyJiR7w\n",
       "65Dcg7VzO6+XAEgDHXwtedGFVyjiq4Enn1drlPru01NqsAB+FhmHQJlWW73cEVWQAANwhPdSiUhA\n",
       "ekAAAAGkQZsNSahBbJlMCGf//p4QAACakS5CcdeCzuj7eSFx6aLQh/37U5ylvp+XhaNlSLojiX07\n",
       "SmsTAMPEzPvn2X4rbR25j2jEgibBvlIABldNWKYt2RMLyIgHTHaCQER8CUJqg7C7zS3t9uoxmOgc\n",
       "ld00RsWE3mNoh2HreWVgVk8DYek0Vis6bqJL9y4HwQBjkSCSVm4NhF5loBbc7CDfvW3AQv6uYLpn\n",
       "hJ9vSNziDpxb0DUPNuYJHquPPTCA+GUGu8wLskUafPNQ6O0tCUdzY5eUseDpZZZz210yJfiMiPgn\n",
       "nqUDRtN31msDFeJFziv8Jl6XH3enZKBFFxoYtU7v6Ksyd4i8oK9MrGiuqC2XMyWSnNf+mzglMUMh\n",
       "cr61ByfBdKwZCFK3bpECBi+KoZ98s0czG6Wq7CpFRGdLjC+HF2VG7f/GpLONkRZuzMYZM5FBEzM7\n",
       "/FbNq9+dCikusqdkP/qUY/c2QCxaOSQIg1bvierChMoEPaePfEGsXiIBGqv9UEXVrG0TV6Bqmikc\n",
       "PhbZdxnr/KlIQSBD8vaVpx6QOX2V+Oh9MdBRAAAAqEGfK0UVLCP/AABUQoatyGrsMbHqH78f6bGQ\n",
       "xy5p8QXdsRwdph5/TXyQvw+kzqr93SPDlXzaLlGsRSM/L0KjfOHWcS1LE5DqXnHSfNRMaeYAAhWg\n",
       "1N+Xhlp0Qo6jmGNiSMp2grv8fkuYvX5gu8bYZ0Qajm55b4xvPKkyAzAQ5m/RtbyuS8bcG0bFI4Rz\n",
       "JD1V03QoGaF6ryF8wC62giikGZKBBFTm7+2TZgAAAHABn0p0R/8AAIKxMrrXyXw0bzFwYSolIAfG\n",
       "7/UQsoxwzVN4ZbodYYpn7ydLX+wttGbXeeigpUjX7XIQleL1qyuyXQl3qklKz54XocwBhdHqiYX+\n",
       "UVpYreqYtFIAJlfG6nRt89xgWYwAAAxgtyoafgpIAAAAdQGfTGpH/wAAgvyZYOmOU/jUlUt2MAj1\n",
       "KHeJWUyLQBcUUFedYsrrcdThQT3XVf3U+iouxmfopcUYAO7ReCG9S9WP7Y3ZFIQ2MomK0EsVSqhz\n",
       "RlJrx4tU/lOI1a6fhjXYh328XUFPeUwHfE8AB5NDsINGDsBMwQAAAYNBm1FJqEFsmUwIZ//+nhAA\n",
       "AJqIPDwsmWFHOdlODmAAIh8WAR5qEU2sFjs/22Dkcv3iSYWfwQZL0s6l/qIUzedxS75im2YkY7M4\n",
       "nsm2tPRL8zuz1V5Yogezt4xC7qi2cKkgG5KEVt9Rf4080vF4TUkfBFHcd4urk29dGpTCzZUv2Not\n",
       "lhlARAoQPtIu0Y3K5P5fzxARD4I1SRRq7/57L13SahO3DXx/M8Ovoav8Vy0XghyoMQOu1RNTTLV3\n",
       "LORhE8tCViwHScCAXyfSrpuLKXpG1jTpz2IICxpRhs5nKXRL/phGf3lc/hchtgoFT/iCSRoom8nj\n",
       "r7KpS50LBbXiBFVkufGgPE/uGCF0h4d33w5Hk3KsL3XXEraoZdhLP2o78UuRQtY/Y0THM24Wu0/v\n",
       "9M5qGtsxSzZ/irIODeGkZyVe0kBvIUsHx58m59xJKGRa/J56Zg4GrElgLKARcEhU0v0AyqOwBFMi\n",
       "8gXe48zm+ImtrI/iwLHkRx3Sw5m6QhrArE7/JIEAAACpQZ9vRRUsI/8AAFRChqwrk+WzE5m1zNHV\n",
       "wgHcsSXBKR4Ir6oCoUD81iJejlXz0s3MEJy6LWATFnc5wXkp545bwuTa2ohRkcyvShJhCS0n2JL4\n",
       "w6j6AG66lOSrX4rdSOcUpyCspbJjApjY6WNrUsw+g+wKUIIwXq9a2jq9+hKMvgotBEV1WB8rfP7O\n",
       "GnZVUiG2CRibMVwgQ+FEIuIEcfV/KBBD+RIVb9uBJwAAAHgBn450R/8AAIKxNn53Q50/M/QwjvHV\n",
       "+EQEMMRfSfxde64zYLTJuS5UZ3aoUp2gxNt+gXXdD3I+/zPcl+7qt+7SeSBxoYATJBjqfxzj+kWR\n",
       "a2nyuCIm9AKABMlyqQEFWClxMAv2om6QsGMfngdUAA1S3yFlPjxxQQcAAAB5AZ+Qakf/AACC/Jjb\n",
       "Db1wC94UMk6oaAHbJrFM2ATEUd6Heu9upQ+CR5TviowmlXeRH+52vItYLOn9ZBr5nsAPx3x/BlR2\n",
       "Zo78+rbD9gSnOOH8/IlC9YNQAJkuV5r+Qtv4iS6w14QP84HtWlispd4gATM6WQZQwYAf4AAAAX1B\n",
       "m5VJqEFsmUwIZ//+nhAAAJ6644iBBf5ACsoZ1W2besUWIes7T1/7qAnxUSWK+ap+cihi7Du1Acj5\n",
       "nJtucZt0MNI1/rdDZOZnRzEux4E9XCMyVRfVkToQb5pp0zfiFeIHEKakfjXlT2pvo9QFucuP51cO\n",
       "9OG7r2vt+Pw2e7NnY5Xp52QAPLRJN2m8CfIbUOyVMtD3AX6CU1CSazDYTMsQw93Wrz9Iayn6An5T\n",
       "Z1ddCyn//Q98bFPvlA/JRRzBViBtCljinqU8RUKlkEVF4fJO0GDcrltFVoWmvjYIIy9D4yHLHV4g\n",
       "EiYq+9GvvSFcDQR6H0PA4TjCtp8NxmnrNO8VrANKlpXdv+AEzIr6kmQxWk/ufWi5NlZvMrRm+4oH\n",
       "SuUHP+2+ZQ9eTTU8Qbw3+6q+e1iO/OUnEp8BOCVC2eJ/6e8AotqqMMNluycUFkAnJzknUCKdZlyu\n",
       "yTg7IhsCmN1yuzXX2gg3gRPsmsrH9G1k5IN52bt5nInhvvlsu7kAAADHQZ+zRRUsI/8AAFRChyuz\n",
       "uIJfpGbmR3f6cW4u78aAEj19xu78fpiP169n4jGxv0eRtuR6zOk2xHoLHmwr0NOaGoUcE2p1Cq/K\n",
       "FudDdLOgyxGzcWBmjST/IJJ3m8HpJpAC7PYBMF2hedaqwfdR/cT8WCw1CI40WNEK/ISE1RweDHiE\n",
       "S87y6xV4y9+eSqC/okDQfSX1arPAb5c9kyz175cbIquA1w8xDdHA71un2pe8j5jgUbNbRdmAJmT6\n",
       "10AjULEEiWwNJcwaEAAAAHoBn9J0R/8AAIKxNnrXyXwMb04QtOQliHkxDQZzMR0pHg7AYfpVYMOu\n",
       "vnHsz7/rbsm41ktfmpJU1DHXMKvNnXC48c01Ah0XnZljoToASaAYQ4IFgy3OkTfG8znS53NkOAhg\n",
       "lL1UYHkfuW0jJEqivR8AE1ZtcpIAlpMaMAAAAHkBn9RqR/8AAIL8m8mGtIAEZCIDG9hGIjSbhQWl\n",
       "LBSX2oRsP4q8FCncz6tIJit97m6Ij/DGqDR8COwohtMx5jwq3JtHv+vKlGWwYX+a8HrmR2O9kV91\n",
       "VARz/e286VIMAgw4pJhevuWKPSiWJDMCxJsAVIceMZrMEHpBAAABTEGb2UmoQWyZTAhn//6eEAAA\n",
       "n52EuCc2AzYAo2+QUDvNIetaLQay/u2s/1jYtPMZrQ2wUjB0dB8Y6/XZ1k1MSMPxJUmQ+mlQBkAk\n",
       "+Ak2YQlXh5aqwD30ENnMClOyob4bXS6IIZg6jEyWXjMHkUBd900WnVWfaO8BhWc8cfQdUx1Iodmf\n",
       "Vs1dSDN7uVaMM2s4loE0AK1xnyO1OEV0tsDOIdPozLXg62ydmvpuCWXi8LBiudnN8F+5OPo5+lIX\n",
       "T+Ln4d/MPkDZqt231QnKynF9CQuLYFlswUKL1BIPAG2fsgn5z4BdGwKhMygK9yynA5hNLwcrMh1M\n",
       "30jH9rEgPwPtlPUd8yI5m592anV+tr618ClJGYGU96jhhF+23+Kl5ZM6X8x/oS4tLfBf24ISaoZr\n",
       "OXGwKyclFlrpN3j0Wa3Y5A7a4YfnuqWyx/nrrG/AAAAA0EGf90UVLCP/AABUQocVfI/zgAnDpUL8\n",
       "GS0tK20WZ7sREcRjFuRnR/Yv9oH7vrZb2Yq5RRd4c1QwjNKMjpQ6Qf40s0opYtJHT5I5NCAx5ZWi\n",
       "MsGgJxj0kDZU+9i5qVQnV/jq3HSCQDv6Pxi3Xf8vDi1VBIBTQBeKV2LFLzvKJOjHxybLHVC13Sms\n",
       "qBjliPWThfBKbmhsouMuVQT2DYSVbdFazWH/sw3taejUq2fHxtefMvi7NF1HG5cic80ICbSXnQsA\n",
       "TuGabX7OMujv1nKok4EAAACYAZ4WdEf/AACCsTf3jFn2UAJJqhLFmjtFKsmVf2VSMlNZaaqAVRoE\n",
       "yjaGeTqk7j9iMoIKXRoHtaw3D0P0Hv1DZmlsDKglsg++bf2b/HZSXNPV/G8EBIliUeFQ22NVQqcm\n",
       "jSc3U6ZkDPmoew0SBjsyEDLCsM007x+s7nkrc+p+KjteUrIm3ApgUOKiiMIxLwAV1wUSU4dFIRMA\n",
       "AACQAZ4Yakf/AACC/Jt0Gdyz3DrpDHCv1xDqlG/ABO2mYR3Mpo0sixQghEQtm1YNnijeaUDI5MkJ\n",
       "n0p834WvAkfYSC7vUfOPv4RL4scpdBJ2fJT7Z6Z66xBFha3/PGBN1fLf2IZ2wUZTVYr5fE+0wfpm\n",
       "D6GxidpNyBD4xbbVie28swQ1ONI4DX9jAGt2JmJY39IOAAABfEGaHUmoQWyZTAhn//6eEAAApB2D\n",
       "KPAAaN0+qQmAgn7CFdSB/3UfYhnuUzmcr/w5uOzi7mTJqj60PgaVL5aVAR3n8XO3T7NKPZAEz+ug\n",
       "D4vVQ6zJtTKciKTyJ/bKW1E9xDUvbLCtU4NkoI8ZcUCP42CIutwj+ISmdMQs3VC/yh570PtwMbeg\n",
       "zbfb4X2tML022n8VsSPiyW5NgKm+yiE6eAqMHf7sH1hFcPsx+7nBlMIC/c3OksBsUn1TRbIUZGMp\n",
       "IAYAyYvIc1eQB2AO5uKtbLP2QNRZblnLlqEQfd5F8Gp0ij8WsIiCntRCTs9yEvZn0vMgGwycVbc4\n",
       "e0eH9sVjJN5JUhEJbq03Du1L5xrJXjPOA54/cOjznY5hh1BNoE7NTY6nvhQcUIoD4xvejtXarIjH\n",
       "OAhFzm0XF7L/WLgxsiCB25nYKEJyfSG6uqH45hGbceuCM6TAHPN26ZM+uQMsYh8LA9EfPsJQ3qBA\n",
       "OWK+Txh0bCM6yOjuKh3A7EyBAAAAtUGeO0UVLCP/AABUQoefLRwBil3xGtmhrYIFwHWQA7OBOWAB\n",
       "O3TORpD5MFc83mf+1KhjyhmhJZWlQDdaveq8s/AI08YsaDnKB7ueYX2fozrutI/zMcbnXb8MP1XF\n",
       "qq1YZOPXiJlp3UBrhe8g+85+HUD2mCnxGxrCeQCoAyglJ2dQvbz7i/5wD5UNR/jA/7J5XuuWPY0h\n",
       "KCYZZ7ko8Cv651/AiIj/NTqAJ6aaaA1pLyi5VQblHKgAAAB5AZ5adEf/AACCsT9cDS8gDLFq/fFD\n",
       "kmGSyiw5SRQtBQAfuRUlCXixYVOZmK5ccawBeNcvMHu4kKHAoa5au7WpJGcfQp5VDGY7wpPi6yet\n",
       "ttand5iB4bbnaJlLHbyDyrebVHlkhWigxleDiFCJJOxkAFgaZOz3V20q4QAAAJUBnlxqR/8AAIL8\n",
       "nr8uJZ6c0EH4lpobXVi04w8HgAnZY4WJ1tWUWZUn3JozMtdpfmY+sCNF5OPxOlWOHyOaAm24qiru\n",
       "IPorJArhUIV9128KVsOu6JbXbd2kEfWKJn6GMD5NBvsoU/3Pc0JVOlZfXuxlQmKuzuaHxxVPtYsU\n",
       "fKZReLj3Uu8NsoaWyJCJaADNMqqFIJSGVQAAAdZBmkFJqEFsmUwIZ//+nhAAAKfXf/gcnu/lkE3+\n",
       "YBdJxKFvBMdz1aeaCMv0sNnaByrVCkyjZsdV1J0Qo5hTqA2+Ahq7DconQtNT4dIm7sUzZ4olYsL3\n",
       "MPd3BE1pY2mp1xkOJ49J3kCbHEdw5d0EQoWqrVlE3vDamwXPcM8B3ox2H+FmNhWa80PzFYvT3n5s\n",
       "5phS3qu8pR2HfRsGfvEDV5kYZ/KU9CwEXVM7YVq9ao50WkP8H5kvtr902vR3+GiAwe5SMo5zK3Lo\n",
       "WMQ7Rdh3w+0WlVMaD/PWJ+SJ5T9qJxsHo/oxvVOybMtYC2+8ZMEf6ffcRfNzZR50QhzDr8Zmgv0u\n",
       "ZXA4VNz/dJ4PQB09ukeIJAFafu013GVAYcrQfs/gEGMrVrHnkE0ozN45QQmsz/gnozaaa8mczLSO\n",
       "GeHutOK7lNQ0LdjzEvqCxaOsZcjJmtFZXJMHFZuLjp/1utjGtydle36ALnpLMJ/aD7JcYFVZfoKs\n",
       "EQ3Qp0WOxLTXalRzxRtKtbQLNpzUAhz6i4QdZDVB2GMLhqxMZ4K8otY5cgqtwtTC7yvCGlgw9fL0\n",
       "SVxGsRdW60idBtMMdvg7pLslIx1zozPASPO06FR3WbONH4PoWsxoucSPYAAAANVBnn9FFSwj/wAA\n",
       "VEKIR9mTQxtifyi5AAs/ckGES2LHfRqsYHkz4FAFS00O3K3i3taSkTRlY+G9Q8q5UAR+yOSMNfQo\n",
       "c0K2fc7TTVwK4QV4VuARzau/WZ8mLey69dmEB3o8yZLThGqUX77HCbnRwyBINE5Qgbestmgi9pJQ\n",
       "AWdznZNg6qIDT79TX3N+1bs8OmjwCwuoQpD/5exNWleM4ETBlWlyYz9LItkdWWomMWB83SFty3HF\n",
       "hVDHT5uivinDO2LgsRUFvZMAZr1QBAlfsvXRkns7vFcAAAChAZ6edEf/AACCsT6OquF2CNgABcMH\n",
       "ReW24FZusvZJAcIOgvOjvhb9oPuFiPuZWK2ddY0IoyzRouys+dYq/l7/kZdf8mY21AnQoltux7Ih\n",
       "gGuA9+skaLVM+1xg2X6Wy18YJqng3PPKiqKZPaXzGOB0WugEt65T0GyJAaZ3mh2+fOBfVnAl6eJa\n",
       "GO6KFWJ10sOPBZOc4aDUYY0AAAozO8HEj4EAAAB9AZ6Aakf/AACC/KJLBvtFvc+VetqFgnD4msWl\n",
       "IbXr3Y+DjV6IRR7MXmgRFOUVJNWWXsbsxOPapNHT9WCYEV7d2mFcxqyzysQXADbyvw4KEMaPdG0A\n",
       "4D4aAEzEM6Pvxo7ZjLdvXLDe6Q40oWVzJufuOckF/eXAAAA7ukEcMWAAAAGeQZqFSahBbJlMCGf/\n",
       "/p4QAALZvPvxEI4cIah59UWb9thOsNyAa6cab5c3J0Jlm0ozaBJHlbA4XnXt4khU6tzs6nkkvVos\n",
       "h5AsZMwyLW2qkw/uWhyGqFzOo9sLeybZrBuZhZLl0iIpR8vGu482UbmOZAN2w9cJNnqKHVb7SoC/\n",
       "y2BS8bVIgt5W985t20Ntvy9NaafSQoEp1w5EM/NKYRpu949d+Ool8iU1SNS1ObZHk0+zMOUx+GKo\n",
       "emsZzeKO6o3mDheQ8N8yl3N/uoHLREM5puMbXD1rEq1Alg95nOUopkGUImjVxx5eR6s47diYTr3t\n",
       "0d0P5LJ8RFlymuuRKZfHjAbyD5LlLw8rSEzVFQaGxPPdIneMuXBnlEHhSRDYJOUy8OsytjmdS7UW\n",
       "nSLxkot+Ks2UXL93iDGRGTW9aBK86WYx7uGSuYBC/uN5ncLruVN6dqYtQ4KGFbkbII9anT67OjQ0\n",
       "124k62vv8lN2ePDUCdFiVCLPezaVAgoQM41ye3nItM2PQ7ba34KuFzh192+lzLz/gOTSL3mLd0uQ\n",
       "GuHBAAAAskGeo0UVLCP/AADn/0okNF2TVgUYJ9GZWwCqF05EVv3jXLGgBbN5l45xEP3ZsTkBwBN5\n",
       "Otsr39sBSq02SDPP0pwyR1QTokKZy70H63fLVZ0Mi7GpKtMBVAiFKAFrZnGKOLscAn01FLjrs3yn\n",
       "Vj99BJ/AGfojWZrg4k31itf3JVNfwvsrYJdVkcrIQA44Y5u8pZmPMNkJluFNC5MC0dStb6cAHL8w\n",
       "AG2XMW5tsrGrM6pN8LAAAAB/AZ7CdEf/AAFrFy7306/rnmeABTxTt9BWb9IKcVKYNArsSCJCZpHN\n",
       "9mxIHdzQCn930GCihhbEi9JDF6RP96u6XSkIn4wxUkAdb+BSvgBFy8wUfP8iWEUQYkRoJy9oeBYZ\n",
       "A38uLmQE6qixM22h8m75xuoPCZzZ0AAAPJOgq7QS8QAAAH0BnsRqR/8AAIL8ocyCz0R90CRvL75f\n",
       "q3nHnMMkCd9gmuYSABwZrBH831lPTro6xveALu4iq0RRucDG5Ea0ceGZ4ysJB8yKPTH0iQjS6HOM\n",
       "UXMmBKp65MfQDOR6Ar6Gs7SskHCBX5RbiU4KyCS1JNCIZwgAAAMBliNZxrBWUQAAAZFBmslJqEFs\n",
       "mUwIX//+jLAAAu1UtLDE2JnPoIa0du0W41wgXgBYrkpNPkV96p6+o8yX/vJcwtueoaLKtjsXpIWU\n",
       "Rr/fCePGT+XMhSnGaFm8DNwdHanRcFPWMJTVIWTGtzQ9p1jT+kz9ZG4EQ4q5vjtZV8+wwuDNflrJ\n",
       "JnQhlB63y3bfNDDQFmIJ//8RlaFDggDThPmIekM1feF9a4TenGxa3jGAFOBxKMK5UF1eKenJM52h\n",
       "J05ujOCfN0DmAmwFFFnrFYxncMEtyiM9HNYpWaK+BwXalDLzGxMf9WKiIAyHgZE5cafjE1A4lrn8\n",
       "q1d47kmflVu8aHhWsec3UsWneCDXWgbLAdK91/ZFxNn0uVbPXATD1PgrvaZom0C7L/vn8brDxxD1\n",
       "KuVBOHdGkMdjEae690TrBrKDoHBdD8vvFJXotewvsnUsl1ol1i52f6clc9W89u6r/bUEbi+kyzSu\n",
       "O/F7sz/PStOtlCXO4RdZgeBI7MHxz8OD1ksx30za6ghbglioxKdAwivfFFZQ/2CghvuZIwAAAKxB\n",
       "nudFFSwj/wAA7YEEmgziNcT1LGaTg0VugcZ5C7RlO6Y7qTjCQgJ0DyHQ65gAXFaCDeoLTq/pvunW\n",
       "u3z8kEkdNQvREWNEw+SofuhAsBvV8UJxx4p6TAB1+8pHsfb6p+8thMm0k2gcZzfMvZA7L0BqXFHP\n",
       "5FqoHU8kKNvXv7JMX4eG7CE8pUe7lwyNAXFZ3y8maM/iQsgW10Lq2/UgCoZpAGDuvwWl2myYV5fT\n",
       "AAAAdQGfBnRH/wAAgrFExEDPceA2t0g/wUGr68b498YRgT3dMzAMV4p4AJFEGFjCZG/E/B+W+Jad\n",
       "kyoi3MRtaB/FktRJPjLmIZ15Kl3KBdsCDZNPH6HLlu03WDksoeAqQ/4N+LAdUE8J6TO5BYmzqX3u\n",
       "oAAAWPo44AAAAHgBnwhqR/8AAIL8paxC1Nxi3kiEnasFVu5lfA109J43NH6DeQAJXCtXjfXUciZ8\n",
       "AywXhg/UEzdcKNznyJ5x7/oclM0Xvr0hEwSrF6Fr8SFdonianbAU/reaABbkqQHe4kEeYw38ie8N\n",
       "I6WgtlLQzb3VW1AAAK/Yf4AAAAGcQZsNSahBbJlMCF///oywAAMAtLSxSX7ZvGqyZg84v5RXkAAC\n",
       "VG8vCNzHS87mKBWuOpW8sVtvPiAp2aSNhw4z/XDU6zYtC/2GvaPnc5RhjyHuOtUseHIiar9vdEW/\n",
       "BZcDs1rgARvPWdytQvZfe8Ndqm5r1tbMige88kjB6jj9lRCVNAMtUd//skwAz6IvG9t1RDjdCmVO\n",
       "I/qib9k5aA5aOni529nFOSDyE69+Q0mBTMD1CifcuYajQwXQPYP6NsSuR8aVI+7xl3v7fyge2BEy\n",
       "aY/6eL4lCb5lAUNd4XNvYt9c+Bs8RskT+K+2A3MIQBf6cfVZKIcfZRywq+F45ghyGEDrRtq6Wtf3\n",
       "MLuF8Ome4yzT9pVaeqVAgv2Im74EyY5HWBqdb65kEN8bX69EsvE5GwMTM45ejenXhcUQnVPd0reP\n",
       "XoX+B9kktUEcqCR3jBoVlm90MW1m3ZIij7sjWmi3byno9cIVLPj8THa28v1/bUOx6ls4Xnzl8AAB\n",
       "mslC1GxHWdlUbEt1DheH7691lnDPNg3/SxApDrBcrUpXUwAAAJ5BnytFFSwj/wAA8wEAmiii07HB\n",
       "hgMe86mdBjQ/Fnz0qkB3Cqj9jsEpm/1gQmywD37S8cPZCqAB9+5IE9boa2HJqwQQxe91yad62CHr\n",
       "Rco3Q0HVuHVW6jmwkbRD8I7+R8JKI4hjfbceOf0myopUnSQc/c+CLT+5o+H9bz6oMrVyvysx9zxh\n",
       "O+P5sVISmhGC6FdpvqACdiwPZVoQ3k4IOAAAAHQBn0p0R/8AAIKxSqFeY1aXmqTeR68g8GZ67RK3\n",
       "oLp2Bo2G0dGABKvwr1BSKpRll2uKBOERhZzqG9X4iEb9FeMuRlwoJ6AoLNUvg7WuqQ3rHICIzDSj\n",
       "S5EhJ6GSc67U6tXssZtwhTcDv++CJgUf0AAAmeQSigAAAI8Bn0xqR/8AAIL8paxC1Nxi4DJBMmhG\n",
       "cYYAJkAhP1n8Oyq3Y1KtcaRmfbbheVF6PhnizZHZ2LffCR1oEfXHumz5NPyn/bf5AAdNCMezaucH\n",
       "GnNb6yCn7Lhjb5PZzk1u3E995ZVNmxTKdqYjrzthgxIuxGZwQoXx4UdKOlmJPdTFx2+fQ7dO8/wA\n",
       "ABme7svkfQAAAaxBm1FJqEFsmUwIX//+jLAAAxS0tLFIvxVP2vtdmf0PzTsRfAQCuDGROQpgOBHb\n",
       "99ne5Z387akLMTL7DLj1YU3FuUuzfzSI0v03/wN0WioVeIbS+s44LGefgrpc7XPF8Xu0M2N0gGaN\n",
       "Kdty30EzKKr+8PRmt96ThkQ0WEtr1cxwK6/K7l3inXAEnX7ZfHIKfFuVwUrhSZi8jmC1Q6aVsj3V\n",
       "AQGsW7wH8QbwljT33PKC9gBNL/i0Uqh3w9cmU8o+9wKhDDMeCK/7IepSdy1hck28UQaQuz7k1OFC\n",
       "O5ImkVk8vGiAb9KJBphtHKGBJNStutpsthjy1XEMQ8CqJ/4wZal8VQfKP3qd8RMdJl37HEK6lPmg\n",
       "PrBFAzstkkKpgl8P2OknnK+8pE5XiIdo4mZ89i9QGTFuN7SGAzaCPQBc3KedTb1eZOdraPhn7l1d\n",
       "QLmzrLVBpuSMLNU8ysLNEvvv2pOfpwhRpNkm84WBp1RtmpWMx6aGJ8aPz/4vS84/S7auYtZWdSBd\n",
       "L9SGpUCkZ+GgWR7RV0PHsny/c/DIIAZKQsIj71MjIDxt+jlameO/gQAAAKxBn29FFSwj/wAA+ID9\n",
       "OrypZk0tvkmvk1azcwxywXsbCN8QbGyOfxrFNbQUO9GdEQecABdAylxFxAkfr1YiEvtTXz1smcXH\n",
       "6At9HPU6QkAyRDdC/O4XORRPbAJVRTwomCYYpiVcO+XKAL8ZHEYD9qq+hOZgnNa0cO6zRus3Vi0H\n",
       "LbAKPvzeQL/dpucwZCHw3RZ3NtwIGIe0xP+nSgAG4jbuAlhehIhsHCEdxvzJAAAAdgGfjnRH/wAA\n",
       "grFJg7g2BSbley35IWD3iV0Y6t4oogQgGJsG2nYl2EAA++Hsg1s1LMkPP5S0LhGl4KNEGAke7vzt\n",
       "s1e6rJGiSOXraEyTAN0XJQs+h4vPyg9vQvxISEU+66hoj7uB5c9IUXtBfUAAAA4zM7hJnZ0AAAB4\n",
       "AZ+Qakf/AACC/KVyUowDdz/hJY8m9X2MB8AsoIWXOTQC6QvQAffD2SG2NYN5/izXMLwAziRRoc+s\n",
       "Tw//vCN+VdcuUNIp1fmdMItD7RuD+KFy7fVFZFIPaeccjV2VDofXC2N48aEi7Yx5IBD0tOyQAADG\n",
       "+/XIEA7oAAABXUGbk0moQWyZTBRML//+jLAAAyi0tLEuv1lXEoABMAYbeXtK+miiS6JhB4e+OzxN\n",
       "ZVWZ/6arRjTT36zh24/5993QnXxGhzWEvKSMBN0rtTMIwWNqdH5is42MvJL65eCPF7t6FdoGAr4j\n",
       "2A9ofZAU5ndFaZlGVPE0Ro7m6zGdRGVLK8qTEv/QuvfTTsBYiXV/nXfJfaxlQgW+xAsyU98XCYmD\n",
       "mu6tcXHz0jvlrPwb3VUfcB60/VeoH3+FawdPhWUIm9TuUlaB3jmHw+kcGV9s/40zILk12RhpeD0S\n",
       "VXL9ZsB4qhNoZYmd8AUrLNeqDriwvTqiwrH9JAdonV1eBJCYDd3tKDjEmYeuHLvZMBR6IC3XIASC\n",
       "hzNF1gwqH0Ly8faH+SEbrVncBs63MsYG2T/EieBbIKpH+cnNyP0GeuohwUsYzcKBQeOXBV86TjSr\n",
       "TfihCObsEYoxKOlubLzwW0EAAACCAZ+yakf/AACDHxqp/kUtqJ96qNCGRgQ2j/4gvwAiqoLeWeQz\n",
       "4XEM9sKohBBEYo3Uz/cqnLz7PvMtljcSOBHSFJdSh1iW3Z52qU8ce41xOykMN4zWPcnmGw0nLu0x\n",
       "B6USofE6gVK2bnW/1nFM4wrUgtqFXNsfXAEOCZ0BpaSOp2BD9wAAAZFBm7ZJ4QpSZTAhf/6MsAAD\n",
       "PLS0sS7ICOl8wQ5kq4lYAAPBd+lkFOryA1q41wSE54cKdCPltNc9px6knq+qRMZMvENIstErwRva\n",
       "O3aKb3BRGX2UFQr+g/2j7NNpnjQ9F9LjIQ8IIK+GAMjn9xyI7PGwwVDScLKlKbsPP3K/tceqmxx2\n",
       "Q0F2oDh7I55rAJoQ4Ovn5oPL4B75pMuh+53t51KHPMnHkSPe/n6h43otKmxCkVWMYkaYpuTWy6dG\n",
       "Aavt0PoipVVnb4f+ofXrJLorUULjRpnn7XPzzGTtpywQrxWm2Lkjvy7i/HapMrXg69FakMH/dMpz\n",
       "PcFwUVmfsplB8dn0leSABcozD58NJW05ie3X/VHF3+rwtzVNbYv1cP7B8d/mkT9FU0oV0CUkQRiO\n",
       "GZmMwKt6grznaPqPZcH6DsclbkdDZNLiLgVmXDRss3H8HcJfKaJ3grDanqKIzThbmnz9UWDkBA8o\n",
       "2m2Ul6mnyavSA7X+goiYf/Ge9Vlf6U2gAlM7x5pyyK78hWCOtF3NDwrSwAAAAJJBn9RFNEwj/wAB\n",
       "BYF0B5e1FItnYectaG9fs5agCnzFrZ7tACW0mSOorGuyARp/NmnvaXlgNo/bdv/8239mrQlaZCsS\n",
       "3+Piq6lPHa6/0rDMrt/OO3e6VnSHdLp7MQAicIjSaTIrg0fSmLDwZXO8dySGXuiMfj0bSIaPC0sF\n",
       "mS2IgMAUS/BDOaEs0eAlmqMI5qOVgQAAAIUBn/VqR/8AAIL8aoeRo2qaiHAqTKwKIkNHP6oarU44\n",
       "ATIVzLv+kNUu6slzAkyr1CFjI5K77S5n1h/9b2Tda6fLfegPhMI31bJcZXdQU64/iQPs4ecuBmKc\n",
       "xUsvfDdX9Sr94MbJO1+M49TIQi//H74kh13DJd3zbp1NIZTByqxAAAWbXFUwAAABUEGb+EmoQWiZ\n",
       "TBTwz/6eEAADSr7i2Tqz9w8kZFsTH5CwaADUuUbezxtGVXBZsylBmFpQDJ6IHRG9jRViRPRdOTJS\n",
       "w/Py0f2nMBmUZzBN/ylM+RcwUCBeaSd0FwapXLatvboLJJsUeltVaUM0GNj0AsC5Wmp04BPr5szY\n",
       "cuSgvHpHzCtcTyA/12qZQVkhXs7AUy6vGiAqWodzwDQrTdImYp41i54bqktJqXLvqqhA82ESwQwt\n",
       "Y2JwCz65NhNo37D8HQJjO0DUpvfPH0krZlr9cm9daw7u6KAEvfugpNIwGGm/molLyZhtPD0nCJrw\n",
       "htow3EAiR33jqkfO/Lrp3WU2nFmPExJexQJAsbgfmqeinS+deLt2us7ada0CxzJ5sH4dgCSixnd9\n",
       "W/z6+jFbEkpZfYsWlOFtATVuFNn5X4zcq8G9l8Lep3rqJZPoVgfSI1NGpQAAAIcBnhdqR/8AAa/7\n",
       "IUiWLT1h05S2HHQ3El/Q1zSmj+e/HJMgQ5/eX2DsJpc7u2ct6V8hxJTiiU7017JW7BblNXZjJTQt\n",
       "oP11HabM4BR+v072/aZVjasFw6nRzQbTmS8wl9Y8D9ijIrb1Nc9wND3ReILFo6mcjSdcYsTaHheH\n",
       "LhS2axQtq8yJk4EAAAGeQZocSeEKUmUwIZ/+nhAAACn12ip0i1+V7QJt/Hy1ly+PMZOv4DwroMPU\n",
       "MpPZDmuNB+l0XvDWXqDCPu6z+aT5e6YhWwbftgF6IiCnc5w2LOqqS6pEw3bOv9Mr4c0KGQ9CzOH+\n",
       "fFQpomt7M9uDRd1+WcmJGab/nFRJkskrrEX7LPQqQUeo17NAMcG63pG0PpLLPrPoLgqaYN7XYYDd\n",
       "fE+jRad6TsvcUdedM72rjNoSj9KK3ZgiEtFZrOSzoU9mG0/u1mvQp7miYnfWkrB9uaKag5YiQimS\n",
       "HVJnM4KBBnADXdwryaCqCpMEDNIhZn0dEbIpc1x92zY+7NmvjsgMfvGNsmxb2U98RLtOGBVMxf51\n",
       "aC9TOa8kJGxP80XG8/beGnqoqVX9HBhPdiW6QjuMe7EB615/vvgWfY9x9n6iedKbaW1r9BI1mVv7\n",
       "nitWViRx3w67qzC5euSFR0iYnMo/Cpr1txGZU1i6i0HsfF7ldWJzOW0oDdHcXJncaDhPK48YOJhR\n",
       "ikDi3Esjlx4b4t+VHFrsfSDHXIzNT+2ZpYtDN9XoAAAAp0GeOkU0TCP/AABUOppjDFUCoVxE8Lqb\n",
       "nWX64SPDrHQUss7fzZzwATqLC+DNPLrFIqRvU6VsbnkvxeJE1WhybH9w84jUTAmoCkpiekKgSerp\n",
       "Cn0d5+PFxvaCsu7RMncWhlzEsoKI9f9k1fnJDXI95DypH9e6bQf1KWNuaKGVT7XVgQFUYHuOukXI\n",
       "GCMtoi9BOzovS+ETDjWSXoeADqzJdoKArxQAw3jrAAAAbQGeWXRH/wAAgrDqnP3NWDWaGGW9qV4m\n",
       "iEh3MJaaSNOoQaKI78KxIrbCQbbPSDdhBhksXd4RrohaKN8LXJd3ICCKu2qpeuhwLQJqWhNRdVjV\n",
       "UpT7k5DFUFH1ilr4D+dMKHoMbGYgANlryaLBH3AAAAB6AZ5bakf/AACC/GqHkaDr7mCafXxuiBvM\n",
       "SQoAEzT/cLTWh8sZEiin4p38upItciRClQUxW4wuLRlsLTqMLia6FdT/je/X8sx5fip7+grs0aNg\n",
       "fD9lY6oTG2BRvFwD//rWNsKQd2bIy+Aer1d77erqNseAFwqKImtgsb0AAAIXQZpASahBaJlMCGf/\n",
       "/p4QAAAqP9IIgAYNTeesaCitHDYAlgTrZOM271vANfO/oCSPn/Gleko+sLUytD30bbStbAUdbAnP\n",
       "0DumlGHMxpDhTNqmzxWI7/filedxubsw5qUYNhOgzfZnsByHDMx7UaGA/RpbGw0GIakD/uGKjo2R\n",
       "sxkxdV3KAPI3OUQyx4yfEsgwKx/lqE6SuIoPoGGYN2QqQWv8EaaIdhijz6srdXnBiouXKrV6e0Sx\n",
       "yZYYqnXvyZ/ScA3KQkDYTPmnZ5WxjJbD0n9oEcWkInJ4BQ5ycPr1Tr93JRwE25MTuqNov8rdLakX\n",
       "MX31SbkrY7dAt9uxzYPxswEMmbTMQfXDlzsgzxC+6ojJQpcVNHNioikzk5wCw7movwXSG73KZXr7\n",
       "qahaATZ/HYng0ti3VC3b8QpkDn0OwNHF9yU+90uELMm7teoSX1E7mdJeg+F5MKluCc1KW+iviEMS\n",
       "J5E0PLMjl0ZzgLcmtzKeNVKAoULyMXLNJFtp9w9pOUGOom49bFmC22vqn6xJuNtPd68ktEinPIvy\n",
       "AN37nrcIASbRohBTsncr+Q8ZEUKh4hkOrJ3JCk69UdkY+AJr69nTJN3V4G9r9zRSIaG5MXcfP3+4\n",
       "GlHT30UwRsMin2UwoBueSy6Tx9fGR8lbQPYMhiShrIj6hbjLM4fQaAiK58g8A9keKMRPB8uk5PE3\n",
       "h61X3beALR408QAAAMRBnn5FESwj/wAAVEJ9mOrpQvTRg+w402rF/gxLmADgl2Ao9xvnKam2Ejj1\n",
       "aaGB6NBYa6zpLq6REew9IYQWoHhDhPXjDVG3GUtQCLxELLUt6yJVldKN94rbObYywa+OiEx1Sro6\n",
       "5PT9mhvsTJZFybawOHFJj21A96jFWEMa7rLE/AkTiov+EIc3FPgyEYJbVF7sFhZlOsC92pjIwA6R\n",
       "/ZgWw6eBh2Hg7govwkuMG2HpuGsIBojbqgAtLTtyhMFk2IyM3EPzAAAAgAGenXRH/wAAgrDqnP2b\n",
       "lYYNLlczeY4qcEAJnIKCxH3pdCAdNAjVA8P2dPsb8d0/azbrYiHcfgGTy+/9cUsIBcXkQNDtjT14\n",
       "cp7fxJY6BQir/Dg2co6166pvErU6H20ZSXAjVYTRezJBly5FiL8BxmWswDJAAzZgAAF8kNxJESNo\n",
       "AAAAcAGen2pH/wAAgvxqh5GPyEmKTb8sgloi5dOkzFi5qI5dHaSbClM+zCAhdyZj9nbRnNCkS8lM\n",
       "2T8xTgecS3PCZXI0gTwvVBNrVpT5+EV8S5nID3GckUz0x/PGfZc7Z14Va5hYuXhVXAAA0ZcHgKH2\n",
       "DW0AAAHnQZqESahBbJlMCF///oywAAAKBUySEj6YAIe7yweSxpjifbk4e4gckiILfvZ0p4jrm5au\n",
       "av9biIGKRS3kZ5jJtdnahlyqBoJZ70QwUmYCwlhje5j0h/p2qJicB/LAyb1CvUzXInZq1jB6JH9l\n",
       "/aZF2j/d7JHwZYjeUzm9lRteH2FFWa5FORTAg86NoxlWhwdRJein4wFj2+t1yEfk8EFrvaQjHLAw\n",
       "AcZbAtrH8IDVUeIIU68OVYPju+QtOMajsNJHUT+JhHPmIJdBvaZPzApYC3gj/M19PIeKzshRqgCk\n",
       "hL8izp6axqfh3ih2dG8UlaKNsrG4Rzzdau+yl1jDw8J7JpxPxIXcfea4cU4nxihA3QbG6uHec0yz\n",
       "BH+uv/1TFS+PEC+FqBnWQve4OiZ8W+WGgOZD7u1b4ONPRuCDiToYaKMfymwnHfiFj5h7tcxuG51c\n",
       "dYnxeHYoYicW65syQUjL65C0XLEi73c2VJPC8Dm0uoi1Sf8TZfbwUihGQO7GLGOJO2ulWE8/ZBvf\n",
       "GDjYDP9RWj8BRc66uwkosL+fYinS2Ilx70YEWK0JIwBHJNo/1MrP+QCMe7yDX2jUnGdW1bdA7si9\n",
       "m2S0Van1IucAxHw7OY0Mw8O/wTTVQOeQfIK2pujNdnLbxXftgAAAAKdBnqJFFSwj/wAAVEJ9mOrQ\n",
       "Us73apez6HGo7DEjKVZ0eLvSQAP3KYyPFCovxZKRiSR0Sdxfk52H5Lbc4iI1gdgvy2JCf9vl8U4C\n",
       "Br0wo6AhikWVqzBTwNGfO6MSBQGGTwBS/IZsp/F6T0s1L/AuH9kpe2Xk/FLEMQ0ZA8a4yBNHh7dM\n",
       "e7zGbYcjh5cUsXg2Z2iAp5hqnCacCcLwLwAv2RM6VvZ3tg3q+QAAAHABnsF0R/8AAIKw6pz5Jlmd\n",
       "Q7BPwABLt/q8iXY9Or7zhsciIbM/DBuIAGKb1xEzaUn8YCLUwxsycfclWL+7XXXhWA/zsWHiOKl5\n",
       "p75cfK1K3fQI+UMN2NZptoOfeOhBEo5RQtnCsNRksVPgAATwMSNgAAAAdQGew2pH/wAAgvxqh49d\n",
       "uMtlGtpA7QVcFnRP+Ow7zXTm1oqN7bHIyKD5Zx5mKzX3hOTpYmQtlydfB0vkCmZujCKiAjWbcMDD\n",
       "T2YOdB4TZ18qBec4+C07pe2v7AeqSizGBSW6dRBqDBFZ0otS4vAAAWd9ODaJ8wAAAdZBmshJqEFs\n",
       "mUwIX//+jLAAAApQbhcAEZHaA3d7zCWIokTGrr7y7ScKZf/TSRsqYYzRj7eJlDTycvJ0vIgf2atD\n",
       "n6kDiNwmyKr1KLPbiug7Gag3bMYoDY4kSr6ksGfWT5b9RZAsSlKtVe4lkJSbML5oFqWtVxVwY7Ka\n",
       "9cNLfyYO6twmCp/XeZn6aU+AnbH3NnkXOf6TjaDnfGX/JwNZOiS6yRC2mBPf/X7EG8GFvaVIG+Sh\n",
       "/eJLAJUH42yqbCRlYl6hyYjrCq2RlGP8Osh2fEEvKFAQS6R9c0MelmLqU8f2a+mptvQuLIwmB7rF\n",
       "TiCvFBT7nJjRem2TlpAMNKj1VGhko7FsbEZb9RUKJLNoDpYTfZ9OTj25en+239kG1cGIIA8rrIH3\n",
       "FlIwHru+LNPOAHlOWBg4TqwTIi1TTQzge6zQzjB6KkDBZvZbgaXWAecM4eXpk+w0jTTVpBEOPt2j\n",
       "k2pv8WD92KBfBJyrHS9deTklVWqtWJfNa403EKsUlpyVpSyGBOgjJewnJvwoQbqIsnolstnoMVsE\n",
       "xDds/tiYVmGBI7XGRZk/+bGZRHVi5OX0D60ltd04Wz3L8x9gZIsHWTKfA48KD3/H8c5O9v2YyTLZ\n",
       "SV7mJw/yiQAAAK1BnuZFFSwj/wAAVEJ9mOrQUs/YrUYqLAJqXK70DNoenDqwX2wnwpTAgVOHa143\n",
       "9lxeis2bnFqy/cFtXlXvQXI+7iNViPBZyTgT04z2J3v1HoPjefpBtQc5WAygS5C8+YHOP8sKunUG\n",
       "XV8HHUJMud7sVFXPRC+bOR+7Z3uFKx+KP2vxFkpi3tCTNJH6ya6ZtYvV6znJT7MtzybYGUdU8AZg\n",
       "dIAkecy9DQV1Bl+HjwAAAH4BnwV0R/8AAIKw6pz5Jln7Cs+zZuNR0qpR+VeXGSGaMzHGwRvPgBJu\n",
       "wIp8RmlW22JR60GqCOA5IArhGGTxHM2i4V0meDkZxYg7Gzz5LjVQzX3YB6njiWjAbasKkEDKM6k5\n",
       "v34sfWEFhMecKUGBbPOCmikn0wAAY9klwcFN5bsAAAB7AZ8Hakf/AACC/GqHj1249EwxeEl3F1nC\n",
       "DaADZ7oeefK17kSrh1XQnJmfqJv+HJfgU7wJe4GCgTutARqyqVv470uQhn9FIWoaDrfJ0YlP2wni\n",
       "cdsnQLEmTdLQ+sLEbVdqo+ZhIW7p6LHxME7X/I60WLyQAAMrt5WPZQ+YAAABq0GbC0moQWyZTAhf\n",
       "//6MsAAACk0z1yAEI0O8SlEF93s5Fhdtyfv6GFK7K1FZ7NL0PCGoLvpTjb3sV8GaZOAyfzlUs1QE\n",
       "2xbR2GdrN27/FCIdouHhZvzpxDQ3T84aPQk/TnSBqSnZk+UspGxz8x/A5fOJ/rf+MBUu3wUD3sKQ\n",
       "KrlTbN2m0p2/1NonDtzp1gPBUBnj9zTnxMQIWD8TTboByNg9qijhkWKCFohkfNj5UL33is+6CRTp\n",
       "EhYkJHUlnXS8m1c7QXpadF73jmQJo1ugqo6SwtTlD8cahibrVR2N9jgjzcb1LqNSqD6NIFYCuTKJ\n",
       "0vpJlvQtUXWQx74j+NNB+eZZiHF8oCbT7XnBo5881EanEGHnpusX4mpu117FyVpHokA4WxvqGahZ\n",
       "UFTBooLekCb5ZYfYM7du6JbwNRjmxGSuq6zX3L8RAZugl2rsl9/DUDjCGFXnQNaGwL4RJjmF8a6C\n",
       "3hU/WFAkuGlECcAcsBtygotx62yuUMQgMNgqTJm4pp9iWFe6il8h1eHz/3S8u/zpICJ3y4EjHYSD\n",
       "ojItn5A/8xtKpTEgKHMzOpwAAACZQZ8pRRUsI/8AAFRCfZjq0FLP0DieqsdlGkvjOjnDwQAzP3ql\n",
       "RBOfoRvvU1KlP4HOtQQeS7WKnN6ur88K9My93Culru1ctzmFgfddFsm90yIOzTaxUMTbAqhnPmrY\n",
       "S3IAGPFq7zWGu6lCVawBm4FyCSNmEYce+DVLlFy51WljoRfKyMTAGpboPSA/CQIuATRlulGTGEUa\n",
       "gKaBAAAAegGfSmpH/wAAgvxqh49duPRML6QkuzxGQsPJ3NGnZOnuCSrJo03ZMz+FNel3fBqcwV/I\n",
       "hwqNqrPSooTZ2B+FbixdYjaIzVwAexSo7N5c0Sx2C3PGYD0hCQQUVK+TmJpUBDBvJn5KE7/oNyfm\n",
       "YXHf0OyHb92AAE9GN5UEAAABtUGbT0moQWyZTAhX//44QAAAJ/8N+a4WpTukW4PIWn1qMWNiejIA\n",
       "rZw8tYQHUbsytt8MGHAhC1kGdXpb61U9Es8MOcZAVQf/XEkUn29m/2r9Ti7fIubJaYXfmV/EtHFw\n",
       "2ryK+7RoiT6vIBzGSLZjupDDygWED7/C9G4jK9pGN8htZFecjd6+v0S2pYXEiCUTK34XMfLTXac7\n",
       "FpYW8gOgyyA5jHSBNadQH9LuWG06cwPfwZPwBcBR9R3EIVqsqwmVyrAoWB6ru0fFWp1TNNbQKC5r\n",
       "uVBpZRUPk3cF2U9A435k7Ile6DVLssOITq1WvCR9XYrCwjtGaXWKH7GllqnIGeBsqHhQjQ+88zVN\n",
       "R/U3Dqu7M1xyQHV7hGkbbKPCjCDzmDL9wuNvqIXJ/oarnwMtG2N6v3ZfeFV0L9cPBRoK5N937GoL\n",
       "R9z5h0g/Wso5j75hrDjliFiH7vECHNgqd0QDO8AAIG9OyOsxLx/dcIHIOZDu8GcrcWB6tk82hUj8\n",
       "RdMhhbQat4VrRi+7Mo/RTmVjh+UK5KYaWe3PHo9DXF+2QY4eP7VFv/zEQKtUtKngQfYBS2zd44y5\n",
       "AAAAvEGfbUUVLCP/AABUQn2Y6tBSz9yxBwoYNdv07xi4NQFSp0myhMxrbcgAaPHH+MgOwBnXeNaJ\n",
       "ffYWUSQmuPKdGov+2Z/Men/umf54BcmcoVzIHF/U0se2yZZrNmuVh1GDo5hn4HAKav+JyEqY3Xm9\n",
       "6+ySuBROOsydo/MgXoaNzK4NgFXg/xBiBSa6u823KgPmRFZgubYIvkJJh4f5bIBVAlpHQBoStYx1\n",
       "Dn0AWfu+IAlvMzHMtG46HdOoGZfBAAAAdgGfjHRH/wAAgrDqnPkmWe7222xkI3IfSSlvEsFkIkJb\n",
       "1Ql42+MJT03p8nY4u5kcUq5/IKPCXURdT83/Izqsb76pAUABOHIf0y12vI51GWnT3WYC6eb8lkwt\n",
       "KG1CyO6ZdcSkSjjUQVWNzJmCgsWAAAaWUppxoWEAAAB4AZ+Oakf/AACC/GqHj122ShbMHhy4tbSN\n",
       "ACX1z3XHn/86pLAbn0GrUuBt9ZKVBVtSqO6NobCKSJbWem1o8onn97ABduum1vtC0mYRYKyH1HcN\n",
       "fjfrGiDyZ9RksxVBJEP/lXbEGNSVu0qbaXaPaeh4AAA3LeebseVtAAABTUGbkUmoQWyZTBRMK//+\n",
       "OEAAAAlnjQmKMrqVcbn7q8hauAdKeFQgySt3gA+4lsKuNlACq3S0TYKOjepfrI7/yp72y2RMVJcl\n",
       "dHvNV/f6h9/za6NaY5GGV9XbniGYBU9Xs+OQLiQfWfwoLN+PcCHUzYxlbhZZa8ofknq9pXmELFxO\n",
       "DysMZCJG+GCEV4D8Eu0xkgJaF+dEWBcoAq4m51tV0djddo/msMH0WP4VehglgvLn86LsFdIoQ3R+\n",
       "PIHM+MVsdmuEuItgreopbAZ19z3bS3RHBKKyrOAT8CXO59WbEEZ0Mv5oHkSCERYXI5RN/UKtB5wk\n",
       "7+yAhRC5QjRNSmEnD4mxp/MOuddBHvO7pO6SnaVN8pAft060kM9TH56xHDtkpEW0VO8TmtG46I0D\n",
       "QdVU7Cd/HJP2LO/hdQPHVPNORT9W3TXvA90qZOzNNwFnIAAAAIkBn7BqR/8AAIMfGqn+FCxYmXbP\n",
       "RexC6TKRCsSTqwS5W9PwhAB5dBZRa+5/zKqhqS5te2puiMOAyIZ4Cd99HPRQCC+E7m/A6acGO3j1\n",
       "0vd41FdXgduovvRVvaY1i7WZ33krGGDEpqzTUFHeVMEEbQuVwijfw3Iy3jbUAOAwsmNwQFqPBFiP\n",
       "UXiygAAAAQRBm7JJ4QpSZTAhX/44QAAACWp3lKgdqNNjOaUKgBH4C/wrZ4l9f65ZmwrxOGcipskv\n",
       "Ehx9OWOTnG5RfUGyAT5cqvE760f7gsa72uptpvbVDwg3yG9pJ9XzbPc0qGXAIi/189M7Cz3gBIQ7\n",
       "cx5oaO9JyGfKwD/gPaDgOYgCjpWp2/DVJoOzNaXehSAzgWaeQedtjhwIkaW0D7B6FJ63pnK5Yiqq\n",
       "zIgD53CGN/E+TqcDCim8ewPewANBuHaJMfiKoCy9YYlpGGF7sjz8GnzdqrdLsY/HBtllAweea5ut\n",
       "n7U+yLtZ4fwUXJebSz50qu1elEbcFNK+9b67ntNwexy1MV+zOcYbYQAAANlBm9NJ4Q6JlMCFf/44\n",
       "QAAACWfVuDay9SOaZwHLJvEAAWdg8VRO0N9Khh8STYGV75V4g8bdZ4g96rgItb4GNHxIUzz3eKPQ\n",
       "xyaK/zskceSQywHZKX6q0cK/zbPFRpVZjJl9ZRoZA08uz0PHr/ghtpx6X6LG6PofUhsrIysdX4NB\n",
       "VozG/ppU9W8YWw0l7BA+8qrgIwkfXWd2+qEIJMGezvwo3vefySEdrCMNthhbYtEc7SX6+U4BHRNB\n",
       "mG7PF98EYottHgd913XMtE46oVfkzywxFIuyb+v5r+PTAAAA5UGb9EnhDyZTAhX//jhAAAAJZ9W4\n",
       "Zhc2Tt4r3HNAB+/hUwdk5SOg1ZFNrBTdBtDcwSbJzp4hgw8JxXmZOwiRbtR3i+GR1yGsB1Qm9PkB\n",
       "6efdGgs9J+suoY0dyh0PjMti1LW6QwmIvw4MHp03pnWiYRCq0Q0WGDTEafqoyUITwvFAtQuuEi12\n",
       "u8aZHKZMofOsbmlfeoQ2kJsLYnV8J82AocwslalaA6h0Xpk2cuP9/WeEMw5Ct7KbhVieyp/QnPQo\n",
       "ivhXxULqhOeHu7GZxkp5a5scBsrSOUYOrDtgqT+MdQB3gOREUTcAAADhQZoVSeEPJlMCF//+jLAA\n",
       "AAMCcBASYNnndUoo6icqBHffbUJgACHOBatmMMOm/uJH6zcOIQBKAtsDjuRDHAETe0QkwGOhO1zK\n",
       "ESa5rPvZlCX4lNMV2or/w3RxfDZKvQn1R/YSc2cUWvfeXnMVvYrYmLaV3V9wQLmanwtGTnGx2J3/\n",
       "0yoHHTMrgVOC8ykrfZVh48kTbn+F0zcDTEdKoEKgClSTung3Xdoej07VVLOQ4rJ1frcZDr9P8vjB\n",
       "TtQ3MvvtpBftYdOxZT80OGqtUPnLYdS9Ho3heR8CtaeWJlE4CSVhAAABCUGaNknhDyZTAhn//p4Q\n",
       "AAADAm390ihMPd9JG7UmorvbL+IAZRgc8iHoSouO89UxElmW08pIj2heVuo7vzVyVqT7Tgor4dBB\n",
       "TYCdG1+GeIKwbMeQXntb5BKL5jgOngWjsdWhVjhK2AY0SAx9D80AvS9HpKpy+v/MXSSyrs7h2JUo\n",
       "JLOOee1MU9MXq7Icz1Nwf71hPKrzaqlzanerCZvrkAmxcmpHkDU+z3tJ142zrj22kV7wnUwUwohD\n",
       "PoSsSVuGhzXe578oWsrkaCOSBaVuCp1Bq2yjOCACO5nR6R/t21dhsng9XTDbL0VqqILHmvXzc38z\n",
       "U0VjTa0vHHJfow4iyxcSi9DKuRlLtYAAAAGwQZpaSeEPJlMCF//+jLAAAAMCc9N6eWrWfaQNPZe3\n",
       "oAcT9I5EZQpyWQgOThYPT8IY/7YKJbuQSUoEhsd2nkCn5RVsOx99/vF/GPY7oXyMy+D60rfreK62\n",
       "26FE03cppYzovIv2WP2w3fazU5XN+He57NDgniKcu1DWM27TScG4WGj8OfYB4ldDSDopzLpxrwt4\n",
       "8UzXD8HIMYsjouXEzx+LrF7q3nPdWKroXi8OAE+FiBzbBR3eUGsxrvRLw8Z+HIEo/EKm4aRLawYX\n",
       "l8/+VrRyl+/MM3Nd+NeQ0EXVe81bN5gvOVSMIiN61y0QCCavMjfh1Zn9Ee6Lq/z4GCjJh29Ob7Vx\n",
       "EUlQCdk7oKwJOjQ9VP/o0qcI4cfl7Lpmxgz5sa/TimWmBGtZ3k4SN+/DFFnmv6bNzKz3+ldBtato\n",
       "CQFlHE2qGwjdQBI220pQfr5HYAdz1owS2Q48J1e4GPl8dHzYK+yY4Wfwp4oFC/Yt5IW9ouDk6kIO\n",
       "/nNKxKB+VzZe6jnBG4VkpHhutoZD8lJgpK9F+Kod/1MY+qDcHvOl6iM2azxi/UmWVprumnDeb0Ci\n",
       "3JxBAAAAvUGeeEURPCP/AAASpRT2gwb/jC2JzF1VEQEpYHNC8aIEo8cgAkGwzEXDgP93D0Wm3JHM\n",
       "xeg6YbIBw5RjahQGKNb+okh6G6olLgB3RqEvFEtVqa2fHw6FAd7iATBgGMU+BvSsB1Xc1H0sQ0V6\n",
       "C+dXfOm5HAiLShAGGvE40OsACgRMKCOZeIKToK3l4UMVhXy4/pM66J/CIu9J9aHD2nuRv6fpjx2+\n",
       "ywSDuAmm1PUP7PjbmRCW9Y1CrhVEPvTJswAAAHoBnpd0R/8AAB2ooGlaZGavpvHdo0tqF5nsfOOI\n",
       "ANQUJr1dA29yJa4buX/skXEHZmlUqSqBHPFltICUf5yzA5UmpgMeJBfkc1haEbBCmFsv0JvyssIw\n",
       "CiCGZ4hk/h+TgI7B5IPUeEsU3xZUPzKNv0gbr8wAI4DjyHACigAAAGwBnplqR/8AAB23+7KT71SW\n",
       "9oxQwLFKbeLtqAEmkYpAixpGww7SAmE83s7CxuAk1mDPvLuW8XwdI/4Dg3GgI7DNUvh1ZAf+k40b\n",
       "u0vtH/Dlo7LynAUXFld7V4K4SUA8kUsMyi3ZB9/4Ou0ABqUAAAFKQZqdSahBaJlMCF///oywAAAD\n",
       "AJAB6S53ukpDJHltAPv4Ck35QZGH6/axABvmfAQGQ5QEGS2GGBRYPtEG2KyqNrbAh1ywEP9fytze\n",
       "M7NDaGNvBpiLcJT1fVwOLHacwrjdNxC3SjWQ/wh1k40ZXChrMdFaT2iVgk90La8c5XP1MlG+QjnD\n",
       "VUriEm1iJNkO+BADYgtBb4/XUHeRxlNK2Fu+MSYog65Afqjt4er1XT+x8r8d1ivN1ubywLzJHwXN\n",
       "URLkw5TnKLHTumYtthWsdm2OFhAiD4rbau3a7Ad9cViGcKCel0ggWVotFdp7ORvvSguz9IeGT7db\n",
       "I3a8O6lAXP18TYyHi7jghtWvBzlCeaw8orFpRyHFwnBC3LWGwvLxZjzMfotilXyEerwdqsMDzbCc\n",
       "ZeHbX6k+RxW6TdnRdmUnPGkQr6BUUr88YOPAAAAAl0Geu0URLCP/AAAS4p7+MEezrYqFxV30w1rj\n",
       "I1phNvrhbW/iwAPflc6eomWrphd+lCU5TwKP/9n6MK38UrAaD7gHOWVxUz08b9CvRbxFHPRe/kMD\n",
       "RDCvLs2mskze1TkhPQMalkLXumfmRlqoxPzUbDJb1Zl8aE7GEM/Tf8apmpiTlyXufppWKoZJA4ow\n",
       "vkUPdQIki8vyh1UAAAB9AZ7cakf/AAAdt/uyndoysalsaUoydmxNEVeKgAlJicLfecz67BPuUIRO\n",
       "HMlBi0jOmjGIbmzC4DTJq0+UzQhaqLl8pA9Dho9TAIox3l/evI5QgkK+RqU/Q8wFkTSJPXAtG7xT\n",
       "nAOf1tBVtioLqAz/8dPwXl4hcCFXZzpw9oEAAAGwQZrBSahBbJlMCF///oywAAADAJD8TrdqcWEY\n",
       "2R2VvwUAJnKj4KO1+jNaiNyyg0bt2jwmiYJUQOWW2rwg7wDX3JJeWSrdMIzQ90+AgNQQmC/Ypomb\n",
       "e/THmSaxEdHVminRkN2wzh7Oe7LvXy3mSW8hKKfuF/AmrWZhERYQvAzGlbx7Kfv9DSifo+2phUm7\n",
       "fHE66Rq4DkMcjrwMFZND2gWBoTca1dFMCpbrJCj/pGXRkuSPx4kV8SfzDujEAi1qo+InQ8j7gEaK\n",
       "NVFHcfzltEIAIGyWQCEDWYRm8J/J4fNS2wdJahyvv5hdMgXo9VDAC4iwbIrtO93tddnl84+9na6H\n",
       "Va5vGdi6Z7ILPDSGlnj37EYcDHNPR1rGYZm536Q+9iYqXZTg3FBqWejHpd8NqgEWUTs2NsF3u/Is\n",
       "Chdvn4eqTVeQUFyG5QjqcnXtIzjzJf5JfWsZOVufYZIUUAu0BirGl8vCRNzmLToZgfViipyfmyde\n",
       "Mm6lrF9f6XmlVC8yWzZ9QtQ9YYWn6wz+MzRXw52C/I5tOpr74aKWeqafY2pY0OKWnGVDAbLggE5/\n",
       "5LG+G5XqAAAAtEGe/0UVLCP/AAAS4p7+MEezrZPGeb+mR3v1kALZvoql2eC4/tkmtNH0dlm2HoAx\n",
       "KjFd/UbC5kR4Li/wMxx+4klhFYtmxGNGUgnMtQWbqYJMq4WKXYbKB/qbhqXeaxrcFPhfH6U7E18B\n",
       "uArNz4G6u/yMIivATEhjNKrPhcyBhL16POP9xgT2Q6/qypwqosSYi8lVNLQZZ8Rfu9cimoZtmCAS\n",
       "grFOs6nFZOGsVoAFpQvmOUXifAAAAHoBnx50R/8AAB2ooGlaZGrPw83RUm0pgAWxTBhyvByB5PJ7\n",
       "dawYsRwDqAZlXZ2wiphHY5t7ys94AbZh619LZR1wfdUnxHcGHRiDK0VSQFztkSq6YQCF9HEN+teR\n",
       "IkXhGjeIF1m6OE3jaoRPM69clDwHtdA9wQlHOoytgQAAAIQBnwBqR/8AAB23+7KWO8DJVclMwAF0\n",
       "qsIgRRSMFJ2v1b8IehxEoQSE5lSeE8Ye8BGOodPSJwkVG5Jrhvv/1OiQT0w06ievx5QhIBBqXYA8\n",
       "ABOuG3I2zIrULgthIbJf4C2mDExxznabheP1VdWH9aBlrajjZgPT/a/6LIuZAAL3XqgOIeAAAAGi\n",
       "QZsFSahBbJlMCF///oywAAADACH6bU8cG7gBa4qGZ5ONxYuMCjBSCoSeQCLJrBxZxxizwoqxz+xA\n",
       "isi+qH8OP3S3dkcQKlAngfo5l+lUa8sOEO26aFquW0jVKvdhyQiQnxjbCH3MyF6y1F3v+jEqNV+y\n",
       "zPxu+4bk9T38YJpKiECvi+QDAsxcLBfG71BhL97vhzymEWLqB0LDdij67XaXnjsitAf3gOnChfHK\n",
       "I3gb5tmBHudHshJpaO9Jx873xwOn5fIcyJ4o8haiiOG75KT+jy5GU+ShBw8lZdIyiLRCKdxY6P7j\n",
       "2PKtNOjzPT1MY91mEuoSo07J6T6g+I696L3ZnurGwfS6XRpasjyf0g0Isw+J2GTG0oLeL6DjwsCj\n",
       "Bqo49pxxe3OVFoF0vyuPS8knQ32Y4OwQf1th2hCLkrn/gVNxRB5K69K/gFE4Z6krImV+xdy4uu1e\n",
       "DxjPVQvx+6Q0cR0C+OU0M4DsDNr5TqLEvTbz2XcrwGT9DOuJXBegbDvIyffnSpsHkPlLZBXU3EgS\n",
       "mzghp+Qb0g3gr1J4DzAvhuYSQQAAAKxBnyNFFSwj/wAAEuKe/jBHs61GszedqP2vcnuMIASnP0oQ\n",
       "2ct+ICG06UlLHq7nrOf7EAttkdc4swH1/BL5c7A3733ygnfhTX73J14wP4UP/bARc/p22QsLuBiq\n",
       "T3/iBQQp4C+MeJaRacrc7F2hknA4Bu3IZyjmM3IzKZ4G2pBF0IzosRNZKhlX7tR0sfBV85lw/oIy\n",
       "Bd/S1OFUIPHXXKCZpejuYlagS36tLSvgAAAAZQGfQnRH/wAAHaigaKnRSVc1AJObGgBIxY/G5BiW\n",
       "4L8C6Oi4ZpIvZCDRZdq2kjFAGnCmCm4JdI2CNT+AfiIhiRIMRLLw+iN4bLfM6Ni+P9NqdCjkwfE0\n",
       "tr8+HILeTMAAr8lE3qmBAAAAXwGfRGpH/wAAHbf7pELMIwwgFFeRdqxYxSIq1QACDQUECfdgV/u1\n",
       "16u6hpKWXNYED9qqF9H6kEO5Z/lQre11VO82UVDHLHq9vQFmN629u+b3uj71BPPn80AAAyBj2arZ\n",
       "AAABX0GbSEmoQWyZTAhf//6MsAAAAwAiL1nL3OYgDaGcE2/yb/4wXSbL8ZIn18IDfJjwE5yU8jUc\n",
       "BUDjqQ8+EFHKY4sToKrEpmn6yoQVIFtSicgCWP16MvrRoDZ00sJUuQ8qcQ5jQpj7kcTF6eHJV08J\n",
       "RyyNcK8ExDo8clsk7x9UMh75Oyq/jV017fU1i9Zs/9Gm5o3HCPQBfWQXXrRgRbXTTcJyXriqei48\n",
       "h1JEM+o4gPwMpJuxkrRJh6YDmyNbpy4PiUOi3HepL6ET3ABKwJxyDkuLO9CIA4tP0mRnDrFrjlPB\n",
       "Mt1jFE9RoR0zFwcCJLRrrfZWXCG3tUZiWSg+zIcZ5ocKqiNuSIIN1pIaMb0UnynkLstwXP/KQfEA\n",
       "fkvIM/KeMoSOEdd1lFOQ01pDERdoCKyH7BtEcxukTILnkSFJkx3ez+YpB3CcQ+1stDEY21GcciN2\n",
       "fVMttilw21/Gx1jbgQAAAINBn2ZFFSwj/wAAEuKe/jBHs6zJdfi/0TsOZJxd4xiWE7JGGosZtqEA\n",
       "IO+EBcMOU/GmWIE8liHm9BD9W2vHY7qWmYERtS1+YjKh2KvXzGbTAkDnDuJBI0ObbhnclAbtDskW\n",
       "Wzch+xd7EdRUZPfeNWJST+jJngc3sHPALo1fb4AN0BnnpQAAAHIBn4dqR/8AAB23+6RlfCgmwx2w\n",
       "5b1qkRACZe649ihv0Y/dsABw9GNLLOe/8E1oDZuitKwaaLbNdW6gXx8hrceGiR2L2WX1Ji51UGjV\n",
       "vTxjwadZ/EfZrbtYtYBRk3Mnykyne1gC+dHyPD+PDwAAERUwakAAAAEpQZuKSahBbJlMFEwv//6M\n",
       "sAA0HOgQMIj/KDNF7mZnAA/kMjXCkez02Q0KAblUCldqqlqFdlvO3oOf2rf3n67IRiY1U6ktaa2C\n",
       "yVqtuZo3gHI5/hGJxmyc+94bf/pqcik5z4YkgsalV0OpnvGwC0RDS7PVCA/mNMoriU76ptL/V2Kk\n",
       "ywKQogPedcO4gRosD5592BfAHyHUby9nnYJRspOnCiQy/aQD1D3F/kQrXjiLsXbsGuQR2fQSlxMc\n",
       "ISmiysijE8CUmg5CaH+sYL5b/xg2vtVbrhqNp+rrBpOtME5HnIO69z0bk8OIKT3qrKU0Ahm1bkqS\n",
       "nuWHqQ3XOVmu4/Q9woV9heaQG4VE/w7Qvv0FFHtoO3jBBcv3v3fBb5wAOo6gI44dQWHjSTeAAAAA\n",
       "bQGfqWpH/wAAHb702mFPN9qyVHHdbYX/38IfP+GoBGGdK0vvuy8O8dgD+ja7boz36NXfrZK6ZrNs\n",
       "f/74NweA3dR8aCgfzfTGWWPBhbfmwAO8VnFxJWFXPNVh7+rM3m79vAPkqgAM6OXOAAp2AQ8AAAEx\n",
       "QZusSeEKUmUwUsL//oywAAADAAfUKZH4VU3AB+v5mT1HxTcQhGz56i6n/FetJ52umjwFicVddm0o\n",
       "VxBfOhsrexk3tSA9S4+G7ddb3FwpChFYjkCyaAA+cX19B0kFe8XXdLzGkyafIb14EhVWDJ/lW1VQ\n",
       "k8sMpBdYdK49zGXH1gaEbr5w+G0gOx/XLYV8fYdIaiXhgzuMzot6/w9zswdpdfJUVAH76WQu5RRw\n",
       "ivvliy88EY8G77j6AQt90oqiwS7mZX3rEZNdv3GmqMPEP/p2A+/MGBob00TUAZotKIk98ik1PwI3\n",
       "hK5xN+I7FnzOZKwW/vUMrnKw4r8WtkosSJ2EInvFLizvct2B8Hu8HvstenPt3KyZGHXVDY4FXXWO\n",
       "KaE02EFO20xtkv8c0V+jx5jm6kgAAACKAZ/Lakf/AAADAFHh9dVYfaMnHNv0Yj0ME5adgYLXtIez\n",
       "N0l6O9AL77l28xTAA9PCbaBcOfO0t/8DaUyYIdyKwvWu8LUc1NVJtR+xl1lmL4xONKan+u5dyyJt\n",
       "ACZD9fhAF7ZKNG/l5gfrqZfyGM2ly68X4kotUZBkfRbhzlw4CGhqJn4BBvnAEErAAAABbEGb0Enh\n",
       "DomUwIX//oywAAADAAfXWfNBXqx1k870CN91FsRYRnGuVHTcxlwz0LaGzGD95hm86BKsZk/LoJ98\n",
       "7H8L0iI7l4tiqGD5dNE/9LeG6Em4ZEqY/uwynIUoF3HcOjetGBw5W15tzmA+dwPXawyQvPs1BHwS\n",
       "o6chnXRV9F2Q/fBd4twmU82YIoyJGefZe0RuZtU93EvF/gSnQuMLjg8L+SPYt9Jyofw+RorZ7UY4\n",
       "QB3RSl8+1Tg4KmC5cjjgp8eQXSz00X91cpdhKy8P4IyK3T9qzcd9/Bs5GnSGa7Fkchp+dlk2MJFi\n",
       "EJcO9FVnCgrHEpEbmG5c5rV2yFXtXZ6N4JKXQsCRL3BsASpfrgpDnrFgMGsQ+0ffN/8RP5pvUT+G\n",
       "4je7PnyA6neMgt8/vWa8G/N/xbsND2rNSLA8HzIkLA1qpeiElLIXjMXbOnMzoKyHop6JjaW+6X1D\n",
       "WRP8eYN0yhv7UQEVpwXhcCEAAADhQZ/uRRU8I/8AABKlFPaDBv+MKiWQREE06LCwUNLE0WzACC23\n",
       "+qXFpSEAILst4/Fp8KWbkuVmHNBXzl61y+3HBfVR087TnCOoVY98pEXJGfrNxCUg4WUHdQektrAz\n",
       "CJRNFXzqktyree2N4uK+TR4NyOHRKKneEtbimp3t0+qR0mQNIDU/DWjvN7pOsp+miWYhq3oihgym\n",
       "zZLlXVK0kSPiwNmAqVZvwl8z/cxfRExlSo7y9vzmvD+sg5xDZioIzXSpNMDvSl/ys5JGLoNcXozV\n",
       "bXqqxgCY4ViAgWobFuZrutRdAAAAjgGeDXRH/wAAHaigUWUcJFy8CvUE0dwobHl4aggBNVPGesnB\n",
       "odLkkp9W9lTzLt3J0gKz0H5JtBEXKFvKL2NSnjF+OvJ5+0FSEFz+rg/pgktJB9wjZcgZprK4HbR0\n",
       "u9qWgNyeqHYpt7Au1cESiTXCiaENB8ak9d6vywig5kw2jwY4yB/YeKBHCshoaAKoB6UAAACJAZ4P\n",
       "akf/AAAdt/uhAV8Jp2b+GYphgAEFtpc75wuBg+162mRIsoicrHmSo+Kl8DVLC8aVOq25a6GUrmrH\n",
       "ckuRrpBqR7TGq247fXfQaTVPilzjssd8LElL7IzBLIEipxM2YICOS/A9yAVWdS3BjAcOOL0PIw0m\n",
       "kCw17A0ZAj9fM6O2l4AAADtMkLAAAAFTQZoUSahBaJlMCF///oywAAADAAHSK+BqiAFtywewc6sD\n",
       "QWf3k8c2pHXJsjjLcChwP56VU0wA3iyqKdRF738JRh8cdNzj9+x67kivfbA/GAVWPeXChdPZxa2H\n",
       "eTuMDRzv5S5iCMvbO6lfe6lgQON0vrOnAjelp2UQYgSh0cgmyMVdY4KFyOxkQOjsaoSTuwNWcD2r\n",
       "ed4GImsUAEDGjk+I+/GX/nkx9eDJmZdDuLGdvoEUWNj8BDBYLs7E6G4DqvAWXtuTO8sUWFACwqS1\n",
       "wCb++5Zbp0sFAzMb9+CsYmNhIQtjaPdfWZu6MPAnBm1O4+q7rOUdIYS7MBq/94hiBFGFl9TFGn7r\n",
       "C/8lFEoKVNRNED5lftn8e0sjtBDLljQQ94pTVWDueEDIfHZeSFhpQ3+Gmb0CiGbqp2IJoMMfF+nt\n",
       "YU76+WYU9tUy3uszQD+FU+0AALSAAAAAq0GeMkURLCP/AAAS4p7+MEezqjUeRtnC8CEACdPHE5Ba\n",
       "qgllAW8xbQTgjp0hT1aoMXSdmP/t/i1kTTi0MQlJQs1wAP9UL2me1VLebi/upvZpL6cXbcUz4HBL\n",
       "I5OZQKN9exX4B8cK4hzVTBL8R6QGlZBSwf9+SLl1KTOREOAG3LuYe1pRbwxxAZm3KZesQ4+e+QP6\n",
       "8dRuIsRMBqcE9S2WSJ0fCoufSXT5PMANmQAAAHMBnlF0R/8AAB2ooFEAQq6EbixABpmXqP4fAZv3\n",
       "q5TtVmpbZ9yOtAx8qmNz9tNug+I+REHJE3tQTXIsb1plYmfLH/6JixE8pR4vonSeaWesYYon1gIw\n",
       "5wY/iO79mRTzVDf9WRxJ76xejtOyBAQytMAAAGVAAAAAWQGeU2pH/wAAHbf7oDu9WVuSACaQS959\n",
       "dLWm8VRDRuu8WE2eXOi64xw991yJnLKpF3Iv2NVusI8o5xWENWh9HRFGmDb02lB8ob93ZgFrKZXE\n",
       "yMPCAAADAG9AAAAB8kGaWEmoQWyZTAhX//44QAAAAwAHG1SZhPtc8oFMFNpqudeTlbBYmf1hFQSb\n",
       "uFLv2En8PRXUiXxwyXvXqNkAHqrnsWbTJkbMKFoioKifwLWEn68Xp81M5VpVLFyvVCacVAaBhSG1\n",
       "i1JgMQW9iiVTZl4IQ81cHsjFcRj0zqPAwq5bg8kPw353Bb3wWKOqzJa/fQCu4x9B8P8msDGexd7e\n",
       "BYFE/j9oUI272ZkJwQqt+0z7hM/8Aph5IDsvV/iS9cixStcNyfbrZQ3uygBrf5emISdP8+tQxXFy\n",
       "Gp113g8ysidaRzFGx+Fc7JGBhHKaEHUM8e7uE+3EklDp1J9RGLqDaSu60zbtitQM8S8LLMhFTR6s\n",
       "KEKiu3iVtS65MplmcYg/BFWSN/mT4ET70HPkmAFsNiXrmxsp01YdHGuxIjvJIDDZ38oCOgFyC0cA\n",
       "nQT2HX79Cm6Cwgx54lW8ueBwMW506XiIAoHKl0L/YPQoY5TrBfN3BrzZanabtr7mCZisNSWE+XGH\n",
       "0v0TslJ94WuzmdLpowEJgyHnuB7st2xUY0WnexGa3Ezon+G3NmxNBQCAkWzp+KA+FsPPnHzpw3Td\n",
       "WMa35e1bx96z5LrGTFNsZUvj52DeF5gB/ysm+up7ja3+6AzyQFbNEoqiJNYVQdbdGg5aAAAKaQAA\n",
       "ALVBnnZFFSwj/wAAEuKe/jBHs6o0Q5f1//Vl4yZbBPGd2E9SBFLylsQe3YAbIILMbjLmhiserNHd\n",
       "c4A8E4AjGPWu92Lw7Z/nSvYQn8CHhjKKRLWNQnpGqOJfhZR50no3TR2kOx6Pa6CyZJXcEQlP3tv1\n",
       "t3vilAsCGQfZfHL4heDYq+7t0zZhy+HaGye7dbDHd1+qTsM7HaN9y1gNucqsHm6lWJHJvbKAACoM\n",
       "WH5S6dkqNpwiQA/wAAAAaQGelXRH/wAAHaigUFJZg0FIJsSAAIv0dAWY/vtTb4fh+AsqiZhMNrDO\n",
       "r9ImSl0rj/lHOaRuhVeuHJVYJK87ltMF/ZBB1uFQncFuNjgFSKKR6jD6M5aTAPOx1chVpmXlywAv\n",
       "ZMJXOPThFwAAAH4BnpdqR/8AAB23+6A7xXzsnm9mvZNB2TCogAJf1S8AqMFtnDPC3RP5qoIOex+J\n",
       "BbwNR6zjxmOywNE8qNQogNJn4P4DFqeHCuYl7IFouGjjnT0c/h4K6sFwG5hFV5ZBBAhT8oE7lhRx\n",
       "zd5AQK1p1aeKYUh2sgALQXDHWpm4VMEAAAE4QZqZSahBbJlMCF///oywAAADAKF7mep133GRMNAe\n",
       "RVMVyZYdugPxZtS9Cr4vPQT6UDTYe7qrwXjeAJB3X7LGDK1Ahk3vmrpMXqXroK9Nv6ZUY18GwX/7\n",
       "T65Ia1zu1YqALHrORPAQYd7Ie3MOqjyzCjNj+kuIGvgQ54qy5gZn0uUSHuVZ5BvjNr0BpeT3FS2Q\n",
       "Ng6PaXCX6FQ+zuptrNAnXGrbSfUlP3s6swC1TZWyK+PBFe1XbPCjVUaMb8kzBuBaz1lWCUXK64/b\n",
       "p1kLlBVufthsgQISGDSKShkMnujOcY8AcEhwt7/D7ThO6fvRqdMBmecATWuur4XrVCMOEazr2MnT\n",
       "42z9y+tG6oOpozNB72DIzMbCvz8ClvWMNKzLMM+imtzmGtdbra2R92EcJchX/2hKOi4TecuAAAAB\n",
       "QUGauknhClJlMCF//oywAAADAAGAVtWyHUDcswbcyAHD4zhEtUj0XC9UpAzqKcP3+jhEc8uH/GZH\n",
       "N0amhzHd3SaxL8GtQ3VQH0SCDDbrKI//fgraChuhAImL8z2qCMUAP9W7KC2ZeXXAXugsGYbA+gwx\n",
       "ABdMcaN86q5SCEn5YmN2hkZDy45NCicFBmCUO+JuVNLU6/vKfbJ86QdbCwIcNcfyWF8sqOfrhCku\n",
       "9YEg13iCFykZxciHyTZDQeYBXWIMLKAR4ou+782MLGxLpjWW5x/hTg9gQN9GofpT5xU72DkRWC0O\n",
       "E87ZXgzswD7D9LuXz+sSIlKlYGEvKHCQauxYqDdyNiNRRTsCOrXCiczS+4VECgtipPwe2kz9Zji8\n",
       "Oem0L/8KvLgq7kaK7gtW/SO7UmchHOPV7XH8iMFz4j4SmGFr4QAAAiNBmt1J4Q6JlMCF//6MsAAA\n",
       "AwABgFh2uQAhHgcnZ8WfN9VMvWnGDdk3kchFtoqlmUkYrHSNnj0mgRlctEMbWPLBaWoraClZcSPD\n",
       "mCqotrjKMT7H58l2pv25RPghls+tYElDtF3pVNEhdpp3tKb1AeIk3Gl3MTMzrdvucUHZCNNt+J/G\n",
       "JbVsrIG2HG+Vcu9omyECa4hXUiT6rDO6XHye8vRzryjAWc8cMgx2iN/j/p5jthYGx+jLXgGT0kIT\n",
       "UjqBGrou8wbg6dxmm8nQSQFNDM2NGzba6TYw+zZ0D4tru3HKqrMnvlH/IC4EN/hhs5fiYX9wIcRP\n",
       "K4GKDb4Vlw/S1BmBK+TPLNXxLD2z+DI/hBSxb6aZbU3OpwNio25PUBSiLsEGcRLGOB5tIVDq6Q4/\n",
       "G7x2ED/PwPWDnhsz4Iu2IEvD4nQDregX3spD8MJOeCekrYSQGh+lAQiaZUA7ObQSlP/zLBZOIVVP\n",
       "O0wkdSfIPLmMsLMGCpa86rjc3O88UfsL+8ib+oa34YlK/rbGSpGfenK8BeQXIqxtSwszoiyjfa8P\n",
       "BToWj0bl1K+kNtt5/T5UoW/SwU6aLMsT67X0OV8Bj+dibUGKYMAOQ/0PYWzJ8k8FgKj0YzTzaQzI\n",
       "RCZIz3qv8Xq+vO13qUSW9o8cZkouL2S9+XS8uuxcwh8Mq/Noqh0j+7TVBRLNGHTYbT29kuxV46h5\n",
       "/Dx1vaBIJQdnPjIrsm+TUUWAAAAArEGe+0URPCP/AAAS4KZbb9gg3Rdq3W/AwQtBVDpSPVjeyz8L\n",
       "vFI+5U4nr77eCxnEKGABm9A5MfJvhHX/DVr19LGTquDvwnCjVhUwkmQo9nVd6ev8tiI7cJ7toIzA\n",
       "EE+WwKnIvIqFnIgocWS46uwPOHjWPBtRWxjcSLg7TGUGt8bKXlbbXtRId6bTyE3qcuym41b6xT9Y\n",
       "ty5nQLSOppMABpep8xJgQvDLVW1lCbkAAABqAZ8cakf/AAAdt/ugDeuuUI5Z0xXYok2vsdvxzJYm\n",
       "q6iJ37vFiu7sQfDRACaOAPs3Sk+gAU4Y2OanEUAjuelhanrjDf7Qwm2+Xp/vT43Vb7S/XIS4LLZS\n",
       "7JoUbjBgtSr45RBuSAABtppjwQAAAlNBmwFJqEFomUwIX//+jLAAAAMAAYBW068msAmlAWmDGujI\n",
       "eCyRNP4mJQxBrToHgwSFo7+viWP/XQFoqFol3iwdV1qlu8Usos6o/Emk5yHOqJfWHXrgRZLwv47Y\n",
       "UrTYIyUGetySPhAtSMFQQTy8x4+TQIThdIX5xadiluo3MtKG02mNqA5ruddukhKFVW/fTKdUERRF\n",
       "AVzLQcE7roKQBt36DXEQCtk8A9/+rHOj7tLzSqGCiorwQfeKkk2QVEtM6/sffcOzmeJk9gXDP/lX\n",
       "Eaah4QvKFKurR9sFXf3ITOYLCLaKhhybH39F+vpbe4aiNqGiU6gCBq8IHgUbc/e+CD1VT9jlb1xg\n",
       "cXDOw6kWqnUFVXW5wKPtrkAChA6jCAgJ6ZiQaGOlnpzQQRE5Jeb7qUWA/LCAJyIla/82h7sDVpQQ\n",
       "3IiKv8HyyQB3FqljTtgBAcGr1fCd4V0E/LYjICMX3BW/8wZRDymhPrgRAjDh8JrkMn8BxivRQa79\n",
       "+/1reB/QzEi6jcs1Pjd5HNZg5VQR7hh4aMGJZ28RNRDj/TjrcOhwYggwEuzuLYSrRo7RIYUQ/cq/\n",
       "fi8kMP9mgcJt1pTGvYLHB2IP4hEPqPYf5qKPZax01M3csbDIY4VTIYYsff5hIe2dqhiPPxInaEP1\n",
       "Vxia3n9k+1gxO8emD+lZNykhyH+pxx2qWuB6TfZtthqgAvARzvnpOZhGHd0C633T+5pRNs0zuu3N\n",
       "oI7MYSI2kj5s8nLPw/H37IU3pnCHeLAODpj1k5HzngQt/2OIL03mePKCm2XhgauAAAAAqEGfP0UR\n",
       "LCP/AAAS4p796MmC1eIjkWiXie0imAhViEVcbsOE314KBT3l65lIqkwGsgBBV6Hu4/iG93wxd7bF\n",
       "wKvb7kfoCQb5OgQvIUg2FXkPFI7zDpP1sZNgqOUKOIZB8e5b1UqDc9FChNvJvOdU8bnOEFSQN+r4\n",
       "mzrQ9F7XUevIwD0EPJhdb4Hr41gzyKJ6eAcEv49TaCE5dZJLoi2AI2uL1wnCkOEGzAAAAFQBn150\n",
       "R/8AAB2ooFAS9dtuCpvkqk6JvRilefec5ymg1xguj+lSE7HzYSPYD8Poj3berMwm/+25GO4nvzo5\n",
       "/m44bMM34ha3l+RqHPpwH8NwCgAAD/EAAABhAZ9Aakf/AAAdt/ugJyvhtam9X8dcYDw0QpwlgGJn\n",
       "oAP2YqCfO5MH98SfnK/q07xMlXBe01kr2owoe8q4Y3Y6bZqaHvrAQlSFul0fK2Gk2/bJ9mwmXiyY\n",
       "YR9RNJ4kAAAJeAAAAZJBm0NJqEFsmUwUTC///oywAAADAJj8Tm72N1A/f8zHM0wWyieUANWGMnC+\n",
       "MqaVU1k7HbtCWxUS75PQZiGKaUO1rohn29IKwFKibTObtNCWtj3YLjAUHuBEGa9BQY4RNIzVPVMX\n",
       "dASC5h1sVrFVXOAwCeFjK3BH+e4kXfSKJMBELVoGnkt/s/UE45MkBCeaix5gpCkZz4AHn/5rxwgw\n",
       "8OhcR8R4qvm2a3VDDvvuMd9VUMzFCW8U1441LC+bNdTwncxL0jU9w2Bjzo9wqj5BfxEW9gL85m9/\n",
       "beJn9YDl9sBPapalwY3tLz41HMvfPXJKNKDYZwOHt0pLM0rOxGW7cHCKlzYwomuyYUVm3l0WlwMo\n",
       "mSXcpN0U/dtIUioouiJqN7JbgashhxegQGlgNjGXL5X1kC3jN9P607CUw8lxp4KSEecPNMlkAh/u\n",
       "kgu0WjWJCpwUMMpAFHx+lKFfcFp8v1Afv5zvVinecVnZj1Ep98LWv2yK6DgJ6awIsP6QHIuIxPwP\n",
       "S8rUh4ucJswSAEX3OaYVKjEAAABzAZ9iakf/AAAdvvTQE1jglM2J+xn85MkmOZEf1h7xFAA/l76z\n",
       "MocX8BZCYCNSUmy7PeKOybfil/zEiHsYWdPO5oNwJlcr9/U2Ul+LSJatr1tf0nl5bATPPW+aaXR9\n",
       "01dBQhkVvGbKQAYdqAMQeOJaLiwCygAAAWVBm2VJ4QpSZTBSwv/+jLAAAAMAAXbLdEAmSeHQOWeP\n",
       "002W7Vbx8ZoAG2bwQnTJYvkBnNDAns5kN9cKq+xvKW3PWKTDbc61CuTlLRxaVL3vkuCWInLqNqUN\n",
       "ostNdQBEoQEY6l6AAOtaPP0WtWwatIuSZs8vHJBMONM0YfPNwJQSsU4mO8+NVvBbAS6lzejqZ/n7\n",
       "Ra+IavGtViN7EqXppCWgRCJ4qMOOmPuEhxc1cIkX4JfhQFWJpsgIXv4huk4AJrghak6RY9rT/z0l\n",
       "ZNoofZ3KctfG5u/qvohLDFRNI5q3ifVyF/ZG1Up9rcE38O/+0cwU6o1lEUpvAJkROFX9hENDT/xw\n",
       "OTGMLqPt0LxgjHcnaTVGpWLNs2jCfYT5EtoplZzv3fbrTBtU0WbgYlmZJ+5YWHqIg6kQpFGMSVwa\n",
       "Ua8P75vQnj36AMFKaTgHIn1hJzrSH1hRpSmihjnwEvmAjp0h1LMb7PUAAABTAZ+Eakf/AAADAAAy\n",
       "T0WtRcaJzRTR0o3cd089TJ/J9qdd4B3DlZAWoseunmSQ2Uu+ErlXubnrE0S8SAfobO98X0JB5YXN\n",
       "aWQZPIAV+cPchAAALuEAAAHVQZuISeEOiZTAhf/+jLAAAAMAATADPAqxM+gBrFz0hrrUiTJLrgQy\n",
       "/io3my0qraqQgyVHj95iKmyyF2jlrE6GpGL7hU8RpYFjvSKLlgBB78M2MIfIjS/ScDG7p86JMcga\n",
       "7f4uKtJJ4PiOCZtQD53PBpqGwfRVJ6YTsTf50INCYq72cosM3FcgHM3poIF37XRhrF3rPh/15Ira\n",
       "Up4Olz+y9r7oBMfHwSJ6ESwlZ+ex534v6RHyQv+w6Zmn5fOShNy3VsHXKE/WF8KmloJ0p//KpZxq\n",
       "0pCpX0z44CTjgn33ZWTOnjOa77e1DEhCk6Bk5YRz7Z2yiHa1XS1+5TX/1Fu+od4euukiCzB+C0Vz\n",
       "72v/IoDrmhUVriVN6MTKfUVF29996QSeiXbe/JYTgQS0ag30N5vPwzAJDHxKnAQGSC3z3UcihRcm\n",
       "hiWm1Vv940n/yXeqEKTpeP+v1TLkUZqgtCJwCzliSXjpU7uQMLxCZ/5JYTWuyT6NPm/tIqGQ2hZE\n",
       "mushdRULuL0SRm8nwrlYF7iKg+k0Pn1mrKUxhEynEwValziSo/mRvo91wLRrwZmQtcqCJkrINWec\n",
       "7xOyQx4GXaqHZxzHm8bK157H9KLozAS5FpvO5A0gMQAAAJtBn6ZFFTwj/wAAEqUU9gD4xP1VCnBA\n",
       "AWjVIFCk+xYJ4VDD8l40msOoxlHYnp77l61r1NgGfz7UbQYEm46DBbPC0f+Jfm2jXZavEAVXYfsl\n",
       "HZZU5wYLDFjDDrecjT8adMLK/xkReczEgWkKj3Dia4r4/X53rKjhgmVL0O7kwDViCwazioGmrSpx\n",
       "19WmXwK0lFswdC2z4FFyAAAKaQAAAIYBn8dqR/8AAB23+6AmPiJkUXR+WTMups8JSmsDNEpm0jMj\n",
       "VhaJVv685XXgqq3TTt8kPzmcuwAAfs7nFVnfdjOjCJ31scknjdPQUzu1+JJ0rzq6bzJvAwSnVnR5\n",
       "ov6CXtseol+c6bkRbyzXrpK9aD66cckoGIZ7XAKEHiPBvrtVG72qgAAGBAAAAeBBm8xJqEFomUwI\n",
       "X//+jLAAAAMAATH5OrpLDOAC0tLpDXSRMQOz7JEA9aYsbu/Dz2xrpJNF0XnQuQzgGFMz9y2AHzO9\n",
       "znXbrEO6qbB09vxA853qz9i2qPB43GGedlQgAEkKvN/yVrsKqdhBv+MhvXBP82BWnwd+LGrzjijK\n",
       "37Z45r1GyZ67kojL/W6zwDbSwc0phgpJVfFAjCT35v0gP/yZTB59iEtPhRlVgg4lwAR79TmHdU3R\n",
       "oCU+8FDJH4QuvfoqjGL6R+qz7i58j6J1qHwQWsQBl+m3WYGYk497QaeEeEwKrBOu9QXaeTZbvNHQ\n",
       "9mRoKt9akeqeD9eSX2+05n8BHLBFUYGt6KfIidArkx3Zx5Ibk8gde9gm2cpOZt5y3BatJGvnmDZo\n",
       "lfW6peFMTTTnS1a7d7DaJ23WbPaSByOn/wsjEuscjUiXLV9tFeD3l021/LnKWKEiWm6k3zpUlsRH\n",
       "eYodd2iVEMo/LdnT7jBj5v6JfVVqcUc8iHM4y1+X13u688PEt3WTV1abZYDyc4a/QUaESTXML30n\n",
       "GKIgKFddV2zbd2HxVKwJ+FmdKbpSz6m63zJrmu7GlI45uevAj/Hj5vT0qMXGDZ/CASW52S4Yn/M9\n",
       "8JNCjxuPh1Te+nYaMEwAAACVQZ/qRREsI/8AABLinvkJjt6KNRAbyTFhQHEXKLPXDCpliX2nMRdn\n",
       "oMwj3s47y66O8rJgqdvoyZsCog8jqpypvGCLqXfa4x9eGe5aP9twmQww7Lu3M43RxWPTuE8PBkMC\n",
       "SMkACalZPAQ0dBGZB54WzIy92mOJgstWzjFRPXanxhRXnwibruUVJdRc0d9MLarASAAAEPEAAABh\n",
       "AZ4JdEf/AAAdqKBQEIPuISXttUu2uOdTPKC0bosgb18+KwqFIPifkox7AFsUp1ZUEBk9FpZJu7ul\n",
       "QA2AsfT0OY2C8tPu1B894SCe7Lz83/MHkFMPCfmTWLwMubQrwAABqQAAAHoBngtqR/8AAB23+6Al\n",
       "sQfx14VIKB74YUcY9hIx/jgj6Vhi/DoPwMBbUKK+qc8gSTLtKaulSvuRWw8bE7i9w/AAyM1ERxIG\n",
       "k7jiG8jwimAAE6b1lx5iJVk2CdAOQmr1/jZgb1bqER6OFrErjGSn/Sepdj+PIAADo6guIAAAAalB\n",
       "mg9JqEFsmUwIV//+OEAAAAMABHbTR/ZwAFk+WxRDe0N2LAwuP0EnUBqki3NzJp2rqLs4w5E67LWi\n",
       "QIFPAwPhj8Ip1MeL5sJINTdigGtxGjeUw+5cxmrbslCWmuxKUosiliUetY1Ji1SJL9J8fpf8RsTt\n",
       "UafKC1l2UyE73l/F7v8o6FLPV+or279Z7crYZRYaSHrxYRu4e759l51eD5B9KRqCb9SSHBSypkZd\n",
       "hLCAn09Qul4e6oLQZr1c7oVD1+x/CfYJp8bwF7spK0gdNWJsUX+zRdYvDHdx2JA6aKPx4QCC8y64\n",
       "hGhREHMgLPbreaVtUFCdB5YPMiye50sbtNsG4befSACrbfb7n+1OqTCIIvVB/YaC3FRCt8uecYTY\n",
       "KoVhq17CANg1vLZtkOsGM9ko2j1LGB6el5liU2HEJqq4af7iCcinSaZ2ERfFXqwbiHblS/Yd+pbP\n",
       "Kfuoqn6D/TUjxFIN/4UdkgjiDLWSaM+vdptca/qTz/v3cMEhTgXCQOnX63zzIFkcinj5VadTfTD4\n",
       "vn/fTqNsLdwdGSbHP20/1lYU4gjhJfhCfQAAAJVBni1FFSwj/wAAEuKe+QmO3ooR2bJiHuoj0UtX\n",
       "yr3c7KdQFqNHi8rg7/qOdEndzXfxmWrYrafzrvsixHq9U0opX8V6qrbH888g02UAH7DEzBotxI1R\n",
       "BegV9Y1SOVFQCYqufquMOGEAFw1VbEhH/nyS9KAsE7yvDoS/E1u/yPIcQ66k34vm9IdP53pIcXSS\n",
       "Alf5alABNwAAAHkBnk5qR/8AAB23+6AmK+GpgpRnXFglMl+YHx4+znobwRYyW97/KFuznHsGQhSi\n",
       "onJdFlONnPpFJj6boUBfF1uSBSR0oBIwAA/ZZ06BWbbQAtAoOcZF/yF69UJTrIPDqrK8Da3THraA\n",
       "Z7Ny/KqiT8YLh2ZOAAApzRjRAAABW0GaUUmoQWyZTBRMK//+OEAAAAMABHbJz4FnAAcYmmOVm2PR\n",
       "ug3HdmMf2o3zYQV0uGQVTd1WuMV0WVn+qc3owV9b6AjU3bmHaxVDYrO5F6/RG/GYCGhcLvcUYmak\n",
       "/gD7bec3eX1rZ36DJKzPBEXiLojA60U6Uh2EXVMdsKXPz2eU80bqg9Cr/tM2HyYEOHIkMFVzd+z2\n",
       "SyZDwJdqBJ5Dqs0AfHFF+1vz5nS0p/JB+Gu1R253EiObpOjNToPYGyOFF1En81tZpiS1O5ZK0CH7\n",
       "hpHwvP17QhZvhLsOOIF+DTR+8HGOZp+T261NAjB7GRLYgVfV30krAXyDhTsWh/Ood/07SfiGjCb6\n",
       "tqXvDLpIS0EW5iQBip1ruwEgN7BpL8XvoJxe73okFdHF0hiigtQ80r2APw6o38bT5y59ZAZB2ru1\n",
       "bz3uxSsPojoiFijJxq87V9dEfwl2wLQl7QZxAAAAfwGecGpH/wAAHb700BMOPEEKS5StkYAPdJDl\n",
       "TZ3/lAwengbhjXIaiMU9JA71sf32fwCRxfsyjp3i8dVd/Gs0nG2wwmACEc6s+NmTIyVSdAivsHWp\n",
       "Rm3VeDd4okQ0OQUYJ/xVcujtl5gkvgK1O3pDTJgem6O0+ISuMqAatXVfxcAAAAEMQZpySeEKUmUw\n",
       "IV/+OEAAAAMAAWGUIJSOEuzOANfhRQi+72v372EgT0HhyieKY1PeSuXWafhaH0//BeX7U7r13lM5\n",
       "/VkqRLmondea3P4XEPN9WYM1yKtLTIsTOYnp0wP9dErmtCrLVgPbvhlfbb6sPOB9laQCYXmM6qKK\n",
       "Y4q1OvqPDWsQkKM0HoDCi3e14HZ7QBSTyZ3ri/r/c1jOahxkGM61/FcNS79/AnvVjfNRyC1yXtuk\n",
       "aAHrryzNGb643HagXGr+Zh4I0L1TGbMKvk5uC52qxAM0YYPaeqI5LTCTMkFKnNYxWailUvFb/I/q\n",
       "l5wjBqw7fMsRPx4+9L6Gvb07tiPamRB7kwQ4pjahJwAAARFBmpNJ4Q6JlMCF//6MsAAAAwABKLni\n",
       "L48wAcWf8Lf4OF5WQvfPj4Pi2307bw7lNZqKFgGuUx8RrDB9EYK1zMW5Ihm/r5WUaXQBde0Ev5MA\n",
       "v/b82EkhTUM6m4M0w4898qKDiIbLHeAHtdSiEHX2a3V9C2FEy/awk4JGM1X1jYcdbuftX8RYPfjr\n",
       "kbc2lsKzB1QlWLVTNWlONUcU+cvs/qrRLuRVZSNJmVB18HaGueXTnr9EgvpF6Ts7QtWubRh7jbVG\n",
       "wIbrnTt1QcAEpYuR4ThUSCVrpsrZffHPCrwfUm22MDCgpX/qZCBRk7gE2Fz21giCjs3fIiOERrBe\n",
       "6lC0LbFpw+XD81fvKkcboBdgXK37KZwAAAGCQZq2SeEPJlMCF//+jLAAAAMAASfMiaK50QA3Tkm4\n",
       "J04woVyk0YbLqjgj+gvcTz9FM+ftnZXog8v/aiaGZ0zOhrjrTm2Pl/AlLnNhecdOo/WGxQ2lfVkm\n",
       "YisdG0vManLLH4EgIzYT80YYnDZDNqfoMwpx3hdUVRiHrJt8NYAUrD11r19x3JptMZnv4XPj/jNL\n",
       "METWbStu7nRmp8c5lOwOYm7P3hdZGkzqxK3dvdHkrQmFfdulGbymxhdc1ABTytU7QDZC2uh59liI\n",
       "kJZ8azeYJ5jcYW9xhOhs2+GCTQtEzSCQaEL0EwI4A4/qsE8008K44ouylkw0RpdKBzByVuyT1BkI\n",
       "EChPVD/A43f1fS0C90tGdk8qABvmqJPjP78FoXse7ozeqXFXvSwH2OG+jLd0IGILsJzl4XnSR+jk\n",
       "OuF8/gLPjASpX84HaaW/BnnYFtmrgkDyP4d0eO5yZcWg6M9joERb6to5dHbQFaIBuEBuyVHtyZtl\n",
       "xDvLKUO4h28N+1KSXGYAAAB7QZ7URRE8I/8AABKlFPYA8pRc72Qa7L3PoHIEh+l7AXBghByiss2A\n",
       "+AHFpf354aMFrL4vgqKWXXiMtw4nQgK1bNGJVJD6M25zIOdFaShh1S+DAE/Sp87FNJyDyWYWu008\n",
       "WB0F002bQCKc7ia/Gi9pDwiTb0vvQAXrBUrvAAAAXQGe9WpH/wAAHbf7oCY96ClOM2sP/Xe8Bcql\n",
       "FZP6c9b6Yk9j90pyocZZWM+DbWhcdUrVzlROBKCfb6suISjgzUoRElDbnUVxB27Bgvhavn8BLgQ6\n",
       "h/c9IA5RHtCpgAAAAUZBmvhJqEFomUwU8L/+jLAAAAMAASilhRp5nvcLDSAI2diAlRJQX4ofazDr\n",
       "mh42CbDW616Qzg4E2h4wFN+LE7iwoj1IDFLB/hfa0Zk2H53WgT5yS2ZPfocPcUFprMjJFIkC6V4F\n",
       "2zjNmhM0r6IW6x/6I9/ZfU6AAUIu+GxROS/J8UPQCFCZ7qtEKnJKci73O/rjvv1r7MOxgmqbgIs8\n",
       "A+Dd/o0y6AKwximDCI/JQgSY3TIELZpoBykhCSpk78FmfTUDArZt24DVVVIFxWUynjZXeuyNCidz\n",
       "mypIqhmCYKM80969NvOJ6OsUw5x/Z2pSPg7xE/ILCtEokTbKMLvrdqGBm7XX2kFM1XXpSP4TatAo\n",
       "UaQ9TOxoa99CKCuK0RbIBlXTZd2C4O1Is+BjP0/jLDA8nCXeZbKfcQVuG8rY7HG7W+/gBDaeIwAA\n",
       "AHQBnxdqR/8AAB2+9NATCbHGCRsQ22wiwflqYflfBmfTg860HJmk6FCoMUKYjwU9yehDgsxHymW3\n",
       "Y9Y7/sT6Vgi77sK6VI4u5fEAE4Z6niKv4B2EfzOAYF1gfkKyLwXxk+0arMRMSMmR77czDRXOrWIz\n",
       "qbFDgwAAATpBmxpJ4QpSZTBSwv/+jLAAAAMAASilhRp5nvfX9YTHoAbaSsmly1jsldPbHyBmju3s\n",
       "rAXJ5B4erLzVpnF/Id8qIokZ67DOBM2zk7QanaHf3t+LpE7DNp6m8/QdQ0aEjs8tuMhssojxlbtL\n",
       "HhdRFs2IR+YeMS25pRImdI9zvx09RNXDWGxtrgSEAKvfQ/Z4iVl9VkPRakOoOGx2Vyl8TOp2QFuK\n",
       "eKU8iTmXiGUKIi6hbSFTfUJ1m7mTuxVnkdl7gXDxCyfkRwnHc8eUlATEtN5qsW7GNyTLtJdlWCur\n",
       "F38Jpbj12azQI4RiIn4di8EdkRy9qtC59Ald4n8KV2VYKfHrnXPN+DY+ylDOdReKoHPPKpmKwLQH\n",
       "3VI7qxS/N8pfTj54HdyfRqtfi1II5YIr8QQrYW6KkyFajVuTfAAAAG8BnzlqR/8AAAMAAJK4zJFp\n",
       "t9etBmePpZKNkQV13TDU7n0SCJxLX0FSuYpPWKCLB6E+wYFYmdtvZGqlfSuUAJJ+FdFUdHrHqGxL\n",
       "W0TubXoxquZsvnR7Mf2viWAr0B2+2yOd9r3eHKpVtjwLS5gIYckAAADxQZs7SeEOiZTAhf/+jLAA\n",
       "AAMAAFtr8hxo7W3gCsaZNvUxQG2IEESOqvoKOGz6ulDqxO6P5/+6865U2flUPKKj+PWUNh7XwsUu\n",
       "EzVEr4HQpBTrpDAgP/2RexXhEX/WEoogrdJzSjhw2Qdez4E1WB0lty86WPR4nF5UjMLmXtrdWoA2\n",
       "Vd5K7WuTJQvKY4PYcX8Zu0TCK2dS+6tuFloymI1qz1/MrZMwCKCn3GIN7p0COX4ghfjuSP/BIjYH\n",
       "Yt5CLNipRlsOMkWQqmf6YSCIfFRCiJ1Z1UIlZjKumLSmmAxXhjq8PXZ0XEp5oX1YsSJgVz2c8AAA\n",
       "AbhBm15J4Q8mUwIX//6MsAAAAwABKdlp8KQ5/AFPQiJ8PHa9abn5Vvpr+9nN8015dYs2mXp/oIm6\n",
       "Ch24B/CGB7/V9zcyt9bJRuIQUnkcBhsD/HclMPC/DNPOTkwgbiPLhIp23/WG7XMA23qyEBZCU2uv\n",
       "2Z6F1P6zKUDgMLEDXprvu/f8zQgDKUkA9Qtjxqn9t4fUNFJO7+GmEHTzdSW1g/Z9ZywAqq48XCV0\n",
       "6OdZVOoO6fWPb/SnjOjWoCmY0rmTvH6mEQi3QKU5PIGLf43wOeM6cscKYs5ge7/E8aTR1sTuc8RD\n",
       "6MY5r2tk3kwhfNRebmnvRUl+IfmmcWFfDOBjzcG4Lv+HfRNRGyVvWkMpESb4lIRTvfiJU7XrP3qr\n",
       "AlsWehnv5GakDrE7JPm4SuxHcn5Vk646dPUAGsIfpSm9JF8dlQ1sKCZOLSJR/vwbsehfetglXrhj\n",
       "LSNMSkb0R9LEC/W/HTkzu8mhttpCptTlcqi/OjgD8FEEV0FTIrM/sv0RKvYw2Xn2Qis9TzBJwSqK\n",
       "BklTUH1bxdsGtnp19t3XPQJgXsUcR+5OzauXRGgvRxrAr/A730tBWrv3oQAAAHRBn3xFETwj/wAA\n",
       "EqUU9gDylDm1FImsfdPpTBQbMWz8TJeRHwqx4fKswaKgVFEAJ6tsvWKgfhwpsx2ZktBN+Nw2OS1T\n",
       "lIAST0urCWvy3LI/XvqSLddcLsbcbm8gsc7F2lk7xSJzd6LYXBHNjrzJwAwke2DmgQAAAHIBn51q\n",
       "R/8AAB23+6AlJ4H9PxP0c0ynwRipourEWgBK55mTwDULQuHvBUPMawDr4LfwbPP7uCWtAoxPBj35\n",
       "uaVJRR0e2zkwDxR81ixPd/DVjmtK2wmo7tYLyKWx7yWKF2y+bTKU360WBD8ShMBPD7FoNSAAAAHm\n",
       "QZuCSahBaJlMCF///oywAAADAAEgBYbEyX+Nf0IvP9b2QADjdDFWRu+cEljKQgj0JgrXbrmzSjZ9\n",
       "qXLKuf/9Hd/Be6hL4Ronh1ApDj67sLVawLFm8k2TkwqFtfbM0SysHx23XLZFf1qorh44r6VTyZLe\n",
       "OkREdHIBLjxCTSsvEsqLNwbCSTeSCELbPoRFLzYEyD8KMDIxlwVVxDwTfQUcMJKZWNKotCmbyR3f\n",
       "Lbt1L3PrnAsIeqq8jbhMFqXwGrYP9FV2q58btp1VLG81hTn9BY90fMB/FMyjSZVgVs3HRlMUtBux\n",
       "iYn/7F3jTgyB81JCyb5SQWvBCTSUolmVkAJyYnfIt+F3t/GWeldmhTCSpK7OS2FHUdU6EjpESrae\n",
       "hkg8HGobG/zq56MWuLuDJ7U1y6u92fwkXGhJs5evzj7CeOLj5XlpOZDRcS9tE2j9BkqHUDm/lZXe\n",
       "FBxylPQEz0sQJ0XBICnLovBqnLhyaBd4OsrpktKxr8jyMVwY3lDa5t6kU0AuzYedS3UiBPFP7uJm\n",
       "0QUcWGGHL+d+cQ3aoIfTMO0h073DSl5USRHhD/wYP+jJYmsG607b7RrtWlSQwgXYSkMua495+nO+\n",
       "GYVyinx7jikHF4KSnMuzu/9PCE4YJh/UEPKKYHjuAAAAnEGfoEURLCP/AAAS4p75CU41HYjS4pk4\n",
       "CRT7KPpByRvEg5bFsJABGD01a6BS/gGoJsoD4VAU4gWyNyaTsKdDUCriczWc3U0p/qw9EsJWSV08\n",
       "wEQOnhuG6MaBtjYdHruGMci8nFeTbYq3DtBeeBwYgN0Wx38031vTROIQXQdANhFfmM3bO3X0gMiq\n",
       "1uDQKGqNc9KeFhupICOtscDUgQAAAHYBn990R/8AAB2ooFAytNZf5Ch5SKNtKNslrm3MQVIqMiNZ\n",
       "6faOp1a3CPqMkIkj+voUpvCD5wosoAJTXONqis9+03Uf5MuqhCnoRb3R9ahWBZM+rIutGRUW/EXF\n",
       "3GSuYYqIQWTMst8W22S0fFKmKfYR8MypTCkgAAAAewGfwWpH/wAAHbf7oCU7HOSSstUBhDbg766C\n",
       "QZt3OHAzrc2Y/1pZhnAU0UmXLgz97l3jwA3JeUZmCZ16nrGPF8q1Egtq7BSz66EkVsPaLaCiYyPW\n",
       "qfBz9FrN86A03Xf+WR2WueWIWuW1DHrGm8k3PgGrkq4tAn33/8BqQQAAAVBBm8RJqEFsmUwUTCv/\n",
       "/jhAAAADAART2nhfhhOs1c0AN1uN/Z5EjVGRh0A9OihsMZRellxYdc4txqaOFObskZAt+vqjCCZY\n",
       "7xf50c+afqYuK7OIQ6giuC3tRo3uwBh8w/aa6oE+Cfv8eW8LQ+w3tvlfKhmVdyWs1XdVAklNvenx\n",
       "vJ3QgGWhwyYB3ooK3cz59a8a1/g7Otfh+tpjc1CS8qhdn10MLEIQTWl2NR3ZpY8tfm6M+QhhU0Yy\n",
       "yRpmc2I5YtfJmeYewSydr15TKMk/pRVUvx4FjzF7Q0xVeenWB24WnaUOcpKghGxvalR2erOFOWe0\n",
       "KFWJZrBZLYJscB3vEoaYPErcxb4Hl743Fhvaf0pUavqFHEn7zTuSqgClfVI3buIbqMTGGVYn1jaG\n",
       "Uo/kEqhI+Avx06o7jyFCl/fP1mjhsVRy74uzJU+XM+YIQbNNqEAAAAB1AZ/jakf/AAAdvvTQEpO/\n",
       "az/FnfGqOw+R13JuXj0I8CYe/Lv8VDlMti9rXpVcBZfCsv11YcrHpM5vOsgpO3hhlVzJrlgJZtUx\n",
       "T5IUJPF5lrNPLiAEpV+oS+Hs4WKh1jx3kWzq93CtWTODLKQQXuFTlehKANSBAAABgEGb5knhClJl\n",
       "MFLCv/44QAAAAwAEU9p+yar/ZpxlP02igBw2F128jaY776qNdYHDqYG20IHIMWG7bivr8t6nMy0I\n",
       "6cv2mb3mVrD+UVbF7Qqr443cjIPcZZlrDDmXbm5PNI92WN2NNU+9P1fK+/OiItTMHtgvZNyR/3EU\n",
       "p+NsK2ic1mjF3/NISBY0lD3WdcKD5kFezDAHs15wgNjUED80fddykpPSjzfHFdY1zc7e9Avrf5oO\n",
       "b7CfwFS5ZvLgkrxTeKsKv9UeMBZw3iGIcUmudufqcP+nAiTj68elAJCfpfZgLEO+oX+JXncuOpOz\n",
       "FHVJV9vH6ds9Rtah4aCU9UMZzcyKYBF0X3Wj69QqJy2KOKkLavz7VA78B9iCzXTz+KP2Sy+Yg79m\n",
       "F8IdDriEFOW51iQ3j85hp2mm7/4HQ+0iyE8+YtymiGVy1Xxt7AJLTM7lceo1cKnQUD/Qe1fAuiMp\n",
       "gYB3d7gvy5qhLJF18XR724Q0OZxGooA2rqp1hHKB55W4gQAAAGQBngVqR/8AAAMAAJK4xL9WfV9Z\n",
       "XKVMOHPWX1Q5+PRpJbMxtPVuRVaUtmTC+nQe+TlgmHKzTocjU7PaQiD50x1PpKFeiNH3OD2geBaJ\n",
       "pSMscok9a1rv1xIDCADzaCaYZMFCdAG9AAABUUGaB0nhDomUwIX//oywAAADAAEgCBSk53v4qswA\n",
       "b36L+cLrr5peevlHvHW1CqsN5vTU4yC3+TUy0MeYsHQ8OFD/IPrUGhRwzWsaZQ3nl/cWEkACIaMw\n",
       "IZhHduPRS10L+V7L95wcD3K184snHbXI8DTPgNjyxGDYR7wl28rcVTobVjH5nv4tdvd/YZneUGWC\n",
       "quxESDhRmzog4Hq2x3CQ6bpXgvRThGqCeWnAfXuzlj7UpFsVCOokgQm89CEe0vTVavBHuOD/geDY\n",
       "AODCWa4XZd5XAXZVm3J6rCvCOIbMeQP80oAi/6j+GFkb/uYcGyoqWxcOwctSSzV/PH+ibTA+z7nS\n",
       "uZJ7pje5dPlvOuNxNMoNNhCL9uBIdLgXmyrwaCd93BUyJ2dFGweFmGjgDCMBtUHCpTmjFE6XOnAR\n",
       "QfVXCXRz32n+MR7Ee3xJ4oeU4PG9CMEAAAG0QZopSeEPJlMFFTwv//6MsAAAAwABIAgUpOd7zsdy\n",
       "N8JYAhQEqYNYiG2MaQLccqp05hC7FguSN1tLPlnL9ORINAlr2/5WRHL/uNYZDu96X9v8L7Fh7cVY\n",
       "dGkfYh7UbDKx7FNxWsRnM/UgLE1U0KIyU8Fx4VJCN8oREqBaJeMmgyrdCKGKEDyiJ6ise6xilrch\n",
       "yLFJEMVD+ypOYOtG+OEkYCmbgtTaXtbAJmdjJ8Cn1wnWagC8dUc9POl6jhANCoBamanvkpGWmf+N\n",
       "MUoAyIQ+Ydz4klPT3MQAZJmzYrwgOwjBvIkyr7JtgyfAEFDZBerj1pXJHK+oEpc7haS4okmIoS1A\n",
       "AUY1KAUbMuM+MgANPrwj5qg9ItwSpwzER/WLd4fkqWKVde6UEeztF7a9TyNF3qMnbcqwQNnsSEzE\n",
       "17XNun6vuKU+dIOxK9Dqlrzjc2KBV2TiZPzs5rgiF0bmnb+3a/1+NR1LIjthT3pbjC8zHipgxcdF\n",
       "87xd+dqc27EoQocS6WW701prtjDALDbYOUAqw198A4A6v4FE7RAaGm5H4e3TSanStfx9istNRQds\n",
       "38Wt6W33gAAAAG8BnkhqR/8AAAMAAJK4xL9WfPzLmJvP9Ej16/2BaooH7SanXunjLore0Q/tJK7Y\n",
       "zotmyDc8XLRl1ttNoq4ufNYnby6L0k5VId6i1lvdMazczi8ySDrvn9uWAA+ZTkMJRYX9PGSf1mKS\n",
       "SOFaOzkAQ8AAAAGOQZpMSeEPJlMCF//+jLAAAAMAASH58Fp2jjWHnsn/kAN8pK6t9DcA6doB5xE7\n",
       "Mk6wsPVic2ECma6WUdIWhXPEhOrsGprmdt1dG/2cIuawfYB0xpyZMNdjMboZr2VmjvlfSdzl0UEI\n",
       "VElZAU+L4myoBk0eiJIrCsU1X+WpDwiI+FqPE1w87aFcomO5BlQWCt/h+2QexY3PQ/HD7JQzMF0k\n",
       "Ch264az4C5sliFlDlPuwcOMunuQxslPjdBJlTRtX3Or51pHmP+9K35KY9ywfPht0t1Cyp5ZHcyk5\n",
       "CF22sDQNlTkS0a85XIEGu6Zu+He+S2jFU1+pwJ23BCPDNS9/IWPyR1GT2/6W2Pj9Ig+2dU2NTI/n\n",
       "SjG56tRP0bTJLLJqpzrJjcBivTPP1AOxI2rOWFoZx7dsj07QP/EAh9VzNHxRjv0x4ttMD9DqGT+I\n",
       "sd7+Y9mv//KZy19Nff9OtBFS2jD/I1Wv3c/pEXb9GiJCsr6fxOS+bCtrtq/w7y5D7KYmd/8hpuRu\n",
       "gy3Zv4tW8cb9eG0AAAB3QZ5qRRE8I/8AABKlFPYA7XY15D9O6cC2m92de3vx7ljm3Av4zj0A9cyw\n",
       "dWXsHs09OAEsG4WhjQTMCvPoBSv71rZOLaqv7ggOg31xg5ZZnDa4wNcF2HyT+vipxQ2b6uxfWSgw\n",
       "KizCvDKaEYr5uf2UWjIEKA0AJmAAAABuAZ6Lakf/AAAdt/ugJSvR1kXoBZIlxAevPnk1UuLGD030\n",
       "ABKRWVX8dkCgDtJwC53NhYXjG/zd49bpwU5reP5b+/hMfTBgyWOfEtiTm9EX2YZA/3XqI9bWSbST\n",
       "tnhCBqYYAsDHDvMrUFQDq//wKKAAAAHZQZqQSahBaJlMCF///oywAAADAAEYBdbYnppX0AzACubj\n",
       "UbPI242NjZBkGwMxUxl1Vq5IAO80n6G8T+/NKwmb2LQK79C9U9vwIuTTlzpjvVObltR39LMfnTIH\n",
       "/wTvbswHgGfVX+GspVXJNSQKw/XpbXJX6LmFHTb7qs+dM1GvpU71DIJoiiVEGnYeL16Eqn2iyRt2\n",
       "d+yjmwy1QqqdwCf2SBbZf5bVzl1SuuzzvWLdwbfaf0JK3HXm4F6Zx8awBYrYcEzXQmDLDXofDzCC\n",
       "L1N8ov1V6cV+GeTInfsRnTj/AdMtJ5orf1dllhnc1PbSE9ZymWW3+YqV2AbDXWApbyeqbKeMEpq5\n",
       "zdWrsmduSwbd0a4+AWH28hL40AXGrItCMs+Dn33WFTKwszkj8qboGO+dvDTc9XH1vsW+5Lc9kxAZ\n",
       "R7Ogk3Vo1kjF35JMqYx8DardbcTCAxXVcCCEaEPfmetF3a6kQK+A51dyYXMndwfP/hJ3BuiTnfI3\n",
       "GcxdhE4QK/lhUfC6adMPZQ8orwgwiIT9YLJUZOyCuJ0ryXT4IBCW90BYiFJ2cq6oO8Lon4XEqyd3\n",
       "G1NblZu5OApTdNvQ8ZLpbHGEbzsmr8iq6iaSgmb47s+jDPCVXGmm2XMAAACtQZ6uRREsI/8AABLi\n",
       "nvkJCYsmHzhy9k4fRyT0jCIrxmZywz4/tzg9tzhKHma46DtgJ9a/11c0n9/a18zwRjR5RDNxWgkD\n",
       "HqNAm+woqQeIGbppd8c1uj0nM8ke5K8Tee4WC8g7o3niwSmRO0qq9QZW1OrYb/gBcFZVQTEnVguk\n",
       "vyoqJAFim+x41UawucpD9gTDvWEKHxV+NKOA8ifiwarpXJHWsPGHv7GIqOIAARMAAABtAZ7NdEf/\n",
       "AAAdqKBQMXOaWo6wsQm9/nmDrGh3EEdm3YtHRFbJUsvoq1j5l21Inon9MLAEgofNkd1MP2ASOCGA\n",
       "pEVANIXdyXPPi43MjAA8oNhMwAUEQgqqrjc/ERM9ei5CU5NRTnZZPmvtuAAVsQAAAGQBns9qR/8A\n",
       "AB23+6AkJ37WetfxsrDdsuYJMT32zfuX7WLi1LwWuu+22nY2IvlJh7JW4CuiaI9opS1UPmJNaNv/\n",
       "rpmziduokIEMX0Z1Oq9AAStGeNMh0OJB8Qwxjlag349UoLuAAAABakGa0kmoQWyZTBRMM//+nhAA\n",
       "AAMAARUOW+GxECljcgB8YwfM9yrAxuHuYj8KAHtyIgXBbbJ0kk6W8heFVFAkVfWa3E2XE6kJ7h5D\n",
       "9VD+9qyrOEZ2bQmZO/WOskZnw811Qu98qRFkbNCa8rn/EmS0GJuTpLcn7lqnWHaxJ2Vm2AyIguTo\n",
       "4nauCtIeCgHFiBzAVgA0XkQEF6/McbHH2v7IAMN6CobUxpkklSYpCnGCLvvhkc5SfK/o57ijKeMw\n",
       "nOM1JoxsPHeE5hCCos/7DLeEAsMpiWIEUijEbDnh1rs6qCyYb91mHD8LC4TE+De4B4CnrbfXDuck\n",
       "26aCSiBZ3tycs/7C8+gmKrRok8SbbohG7hrG67Fk4fuHR+wukWfOntuCkVwyvbHQZLRDkhurUHOr\n",
       "Lt4mNcuOXvnEYjSlUMFa1u5Uq4DdcCJxij/k3M8MYh/jYCOgZOv0xs8We5RT6EkXrbwuiElXpndw\n",
       "UNOAAAAAaAGe8WpH/wAAHb700BIdpo5Z0yiHWOIW7fixPVULVsrUV5egUckrsOFujsLwds91KKzr\n",
       "aNQ1M1MKanpItcBt/7kuFpPPUyIAh1E59pGxJnLIYYYAYPvnaXUXfgYuIkekCdaxPAX9kG/BAAAB\n",
       "x0Ga9knhClJlMCGf/p4QAAADAAEW+fteMdQFTk1xFxQCdbUOeOAYDeHYCAX0+5gQpnJSnX7zf5Dd\n",
       "bAK5fSHEjaipwrGJgDMG4lZVaLy2hBdtSvnJF9aYpmJkefnY4R2JSFm1HKNdVISIsB1MWO2JXo8V\n",
       "AkwHd9bDkMPIVgI0Svbjf7apZ/J1bh3UyNhQBkFs6r2VORfEtPNT5ZGWbHswx3sPwK3VsmCkwgJ9\n",
       "/fYfpIsyPFCHVMVJ9Wz5yW3J/MBFW6W1Ott50AGLUX6z/yLaZs2qGAPyJwLLDiAHGpoyO72xXKtc\n",
       "gshEFfqHeKdzm3Y6j4qdvMtCKJKjdheRVqojeshIUq0ECeTePZiqpJjY28sEvBTyc/Jl5c6zCMH1\n",
       "AhE6vZkm5LryCdgi/jGW38Fk8+6W8IOL/ZHBl1a//bUBoJZ/PV1mi6aGupLtnQRX//CyylAgwxCb\n",
       "v8eG/5sHtQ4d6U/rs/1Qwu1fVXpgRflfCJT4CyBSxP5mloYv9BOf3OwXAVVPURlvMCyV+lbnU/v1\n",
       "PVVvHe1v5rZ5Lhmd0R7gNQhYyVuqXHfgre7XQ8F1OXlBOQJixc/LFgsgyqRi+oE22zwT+67dhqJg\n",
       "AAAAkEGfFEU0TCP/AAAS4KZYhW+7rHsvXmYnajBJlGd3ypHsjALFM5ftnGwadDVzMjLirkQro46b\n",
       "QwhhGi3PpAALKzoMgeSm6dxZuJzzFcZoS2HUs93CoSoxa37+DmczsYrDVyLlEIq5qC/5rnBhpx+r\n",
       "A0x+ifEg03CZC8XNSkGYnaGoon/J9l3bb5cHdAPbjxfh6QAAAGgBnzN0R/8AAB2ooFAxc5pajpGt\n",
       "gBF3zy02MueWVHLhTlLIgmM1/p3OvVfi1ZWJNdZg61RC68Vpnhys81IpgRqGUvNKZkvc+ToNFVRy\n",
       "2na5Qo5FJvpa+gE7nQUGbBMLgh2l2iOajOV3wQAAAGQBnzVqR/8AAB23+6AkJmDS2am+JVRr2ILn\n",
       "z/wWW1COr8r83iG+E8sWVg74dLFyintUt3FgnAjNtNiPFxMmPUTyKbE39BGdeB7fHUwPLJzX9/bS\n",
       "l3Bclx9XlYtn93eQSPke6EXAAAAAwkGbOUmoQWiZTAj//IQAAAMAAD3u0LLkuMeYqVnaCADNQJc6\n",
       "qnJbXpmYyqILwOd0bJ3gapUITg1eOfH1y+CmIn4nwpJzOQWq4Q3BxF3WpK/92xOwzr3ztv2kLQPf\n",
       "/ShNYo/c/KRTm9ZPXP0aVwx4W813gzgsEPETaDHLSsTzGd5nF+NgWmEq5YvyAb+YKviVIowixmWw\n",
       "q6Tuhzf2BjoO/lPbdD6zjkwcqkYJSazfP+IxN/0tJoCio0gGmyqcusSxlKNBAAAAdUGfV0URLH8A\n",
       "AB2+9NARkrABqZkopyXO4hWkh1+lbV9U7S6+VbaKKW7/7VwH2EHuRgfUv6nTldszdf6eaUl6/LVz\n",
       "7r/jruVOltHtoCcncEAufQ9gAAaX73+MagnKRmqBYAJ20urEqTEPNOVrneVduD1osxADUwAAAHUB\n",
       "n3hqR/8AAB23+6AjJmBWpSxTPuzFJUMCELKgA/faWgr5BYahCnc/TWoxUcARmfk/RsCB9P+OarwM\n",
       "WwRO2ZISWmat+jAL/QpRo0rQ0fH8tDXiwwfmSqzhP6za8lv1Gfe6nY4sEPXMGB7KDk6x71qHAeWJ\n",
       "Y+YAACHGZYiCAA///vdonwKbWkN6gOSVxSXbT4H/q2dwfI/pAwAAAwAAAwAAAwAAKNJFyVxbG02T\n",
       "k4AAAAMAdEAK3gJ14MB/8wBW0tKk+0QgRwvjTebjy4apNPU/9i6zrceWSptUr8XTUQXNuqgp8BRz\n",
       "OIncl9et7s1g/NSA+gDck0k42bh4J+PAZT44990U5bCIvMS/TaMMTMKI0FzoWM/jR1JBQFbEeDEg\n",
       "8iEdDABNdMCrJIbb1RaNQO/d8ccU1oNvyczyEE5N0jNQew1V72gB/oXACmLR1eoHnn658JR/Leoi\n",
       "9lTZdAk+sqh3HYGNn7QYULXsrmN5OodRkE0Z/WtyDfvBv7h7StEFLtCyJHrAxydVoPAtdV7qfAt1\n",
       "ZLdjrQtgGXXBUX+Zr8JHVcG5IVGIyyT76irkw+eB1w2ZIAMjd5k0Hakgzfku7Mg9G5ZsUrc/NiDa\n",
       "qlqaoQ+se/s4g4gY+yUT/HBFOBWGF5ZC5OR+2gm4RakDeLgfKdA/Q4h8+EPJnkb00/m4ZKaditdJ\n",
       "5FN12YjrXBKmWBqlo1k3af0AFTBoa0FdCwuCdM88ihCLGWhKsBUYplec74S8M3iWXzYF0ctKCAHm\n",
       "z5voMtMigywqlUEe7bZ8wa4J+prJrMCm9FWkU1tfFTSP1r6vlxf3AOp4c4AffsrZl+1YBCECKdbC\n",
       "uR48x/XBiicuKqdYWJ/5z2KpcpSlihjIAfqRC7RGgvxd+9DwUTJYrJqhThLtS8JqvrQKZMmwep1V\n",
       "/ecnwzCm1DNThVr8tBF2ZpfuUr6x7A7d6euqZsAmnHkhfL3SS97cFx8aeO5zc+LHqKsG0+WutYYb\n",
       "H6pcAr+kvbnItFvIb0pYQeZnl6XdML3gGzC96awF8nzIT1jagWDQtWtUh7GU9yW93dgT/+PmMy/h\n",
       "Np0c9i7ud4J/+EMwhAZD6IDhmIaHbraLrnX6QvYKXygsLRxI//ozBeRVm/RBQYFPJ467IOPdfjAm\n",
       "iuBVvvjZ2NhsWfdw3iIzBg7gt+wy40yuC+YAA5PPc9NP7h9B4Bewzi+Z5+BCE7cZWgd9fuKALDtt\n",
       "9wz115ET6OAN9VyfhcBAWFIAmS44ll7Y2LB9drBz1hlo4sQjk4PJ6Vo1Y+wCwHaPHHuHP52PJ3GW\n",
       "Tu91mWDMByIH5sEJ9gyNYY9FB1A+8dG5y0Jzl2JgAAEls8V1pTYKpSc+lKMatL41M5gEcdoUNwun\n",
       "qVGkfIsT7G/RQy4aW6uU1GeYCPYypaApTv7eqB9rZOdgEis/yZ552ajyL9cK4rvWnZDw21WkuhE6\n",
       "zcI5ee2HaKhIvtXI5y10zaQMIUxPz8sZoD5FJ7uaeJAHnVcAblb74GAI5kVgfWjjjCdeUPNE8S76\n",
       "FxmY+TLOibRMmyqIY/d58un2c6DaWWEGM6VFwNQwLJjDAO7xV+KgHm/2VQyM/LwBnt+ZwWiMf+0M\n",
       "TPCSRohKhuB2osg/XMIskwGqVji0rlcEd6BkubteIkTQW66Ctk1TrhKbJCu6noNJMtGE1pcxJXvL\n",
       "gMSWueLqUr+Uo/0uc6/9+j0w06ldvtYfOzdIiKjaarI4EhRnYrMyxXziTwZ3TelYvDSU+AS2HzFD\n",
       "2DSXAABxYvsvWPjQ7gzi1tFjD9hbxujRRPo/4QgbHa2Ty69p8phefnvmJUJBV5FKq343j0Wvqncp\n",
       "2cncoYx3KbOdt9q/PUguk5r9yDhHCC+mybjUSpI39BdW/+aQh6vtwX+6idqClKlA7lDnGVNtH8ME\n",
       "Mt+iXscCtohS6cDP61MMRTFunqsZXt8l7UMF0x95KFAOD+6h8maL7hHs0zFTWvMBtX90Et1N/nWp\n",
       "EDTyUqOLWCWFUsMXLQ1xZ3zyLzn5Eu2E0P/pp5fF/cXFzIujM+7/TxJvEk7phMwsK0MZAXlfiTd1\n",
       "Xld05z4uoYARqu4GANSyyyZmqloHy0oGUiraKuQGKOhJsMfXJG/hpAosd1hSHNOiHkG9LrBCR5Uu\n",
       "ypK7IshBaLL0Kln1J9TfVg4k1Z1IYk6/5JYx6MSgYqI41gR8Rf2EeGbwmfz3fK/oAAADAEchonU+\n",
       "kOd8uvYMiluMFzy7rEt1fHHSyW7HFi+aMwGLFeO2/x43J2I3DDKCMHrdoscJ2LL9Vf4Z3Gnbh1MZ\n",
       "fqCnC57Ji6+r6Vc3HYBqKUIM2+0zbwetJ/RAJ3tfG6UMjUPsSgTi16uQFZLL8OCTcmbnPHD9btYf\n",
       "sLTM8KAxEjwVjU5oF+yl63Lx8XCXfk015+id+Ed9I4d6uWpdJ0KiE2v5QMco4c+PI2V1Zs8yHPcT\n",
       "EpZaiaUDpUa9JhscPlKYIZQx2TYhxgKAitOFXFyiU+Y60KzbPSVZRlD7kf3QAHHDdJ9lIpxm/BQZ\n",
       "cm1si1iYdWFL305//A+Yu3MwsffFAUZsZXdjkYS9RrPlkiRzBx44JL+uV63jEMxmNbOqfyCFNiFP\n",
       "Tzcg9fpY4qAhlbROhxp3nX8c/19aSfKjMLTwLB4p5k1R1/F5ODei33+LQ2QMqYw3XBSk+Lv1VVQQ\n",
       "ruczaLUzX5f9kpl/mEz7h030gs8aofccXYLMGVNuioJFrhgrfO4jWdKapKb4Ad5VMH42iJQleUDW\n",
       "8gGF4kWbwlcv6RH1l1jE2qRwA4SQAxvz69nDv2h+06J5ldsm90VfWLTOPVT/Iu583LR7ghMcszJL\n",
       "g900fVaw0VeMxvm+itYeobEzxLF9HjOjMj0e8DE3dyV1PeFMI7a77E/VqCmi8ygdrI9i95RY9+/b\n",
       "R9n0pUZONhXiC52E+zxuJ4ZN1mU0zt9cNsSEOUAFnHA3sHsOQYc2ie961NkN9E565KhyOSauZH8R\n",
       "OrSlVZR9AwsbEo+nOXmVFJ7OL0iZiFRY0fX+3LpD4IIwACoQUdQ3xG0DCymRGDjeoIvRcocmfKUW\n",
       "pJpV7HyL/H5jkac4zWJuDm6PHj8NsfJ6bf69Kds0sjva38JzpZA9Da9gDT3zGHHvXoLzGKvZL8kg\n",
       "rirM5gFUq8R6C4MkZhCVtkza47TQl6SHXz491wS0XFkMvFvjZr89pZ/uge8eBHCCv8otiJwGM0F3\n",
       "SPqK2EkdwDRkCI6RWIJzp2v7mbzHL2g0xtKjUemvKrGQXO9ibJPI5qw+gBjwx0B+Eyj2L3KSgtDs\n",
       "u1/gPIXhRIBbpzNHc76BEAzzAQre9t6A7u30l3RS+hp5arBQ9EcN9rKxbR4Nxpg0zm4EUwLy25C8\n",
       "7U1tgc5KdYfHLeshqtfcQm07eOb8e8S5PjgWGYU0RBnbJ1hI1KJyR9KwMLTUEJcMTzN8KrM0kHMf\n",
       "aspWyDoMBeFE03zHK3N6M71cHlzUocXmOx7t8ApdeL9ncGQgn8oezvd2nqTK7MFXshucJKEwdgCz\n",
       "px6PLCS2NdABtcZiwLS9f1/DbZr63QhOIgSe+Xntqw3EN2t0YxYWpLTtk4E3KW7ijQF4xPmdDChX\n",
       "+zaJOgyue4RyzM0Sn8YooVPhyaYzoDwds6DNUI1DyNH2XBGlnIkH4Sz6YmiVSNIuesbJNuIw0/Xv\n",
       "QuLPZ8ANbpFqUskbYo7nRUrByVxIFJ1JY7ZZqIyYjuKHuAvevreSYbL/6gKJubwqyZsXNlzxhuKL\n",
       "+cfzMwMTTcqP7ReffIZOMZ4uUtkUiCLggUGkGriuq/l1E2PULYNFJ9nD8By8XP/0vMQ5sZ9Htk5V\n",
       "LtRZDi+Qw/G9fHm6TpgvufFGi30cIPMtNIl/D5x9mmG4Db1Fq0UJOneE3z7ogDmM3bB8XfE9Blvt\n",
       "/5d2hXVjaRAoHEb/JKHMeZTCCs5Z9mLsz/3eLRJI8U7uadMwZSSoNOuB2E9AUxMqu9VhIFBxQyxP\n",
       "L4Hn3/ykguHdiNjbILBMl66trIybPpnvSww6BfMhV8ClvC9R3K537KTVh+NkTE6zyq5h7UWCMtVa\n",
       "mrfGvvSlW0MbvKLzQpvJZHz1J4ij6N2p7l/yNvs1GVeQhy6Epy6xunCm2Jll2VNkUAIwGTSGabsQ\n",
       "XX0FbBxDXrutuZIW5IwrCVnVSefRUh3wIBv7qfu1ThMy80iEOGxU6R2aYdGUIfHJTkAARs5PG56c\n",
       "XJc/Zr/G7+KnorWqTWhlZJIH2w/0Mu0SIdaCxtTRN+H4mt16NkWzgPL62s+fNS52oMLkjoGMrHZa\n",
       "zvrz4FE/L+ZrxDMPcFOp3m06yIbi9o+KYLOlnCXtKt6QdFsGFxaO0cL83kRLFWzq7G0M/1EfD9Tg\n",
       "C6vVOWDIpGd7U1wbBvf1OxS7ZDsvDn8vUouGS3Fdpj98E/eiBE5/1CbhmgV7wIw3rRwnu5CkhPI2\n",
       "UIWKsAIQ+IvRLkTzd5BMZjeePvCkDi62+C0aXKft4AKi2cH54qvKvPPAr5VgcdJbJfxcZOwg6RqL\n",
       "VuuTRcjcfeHB/EnA2iTSl2iP6F4t3iVANJotnJCxPfOQW0UvfekajL7DijRzt2NtnVA3D+prPOWv\n",
       "J2/1S8Id7fs+Gwj3btZimvAJZolIDPC0/Nm86kCD/A8p1fCRl4N95/N0dlLBLx25sEUDPfFzVCtP\n",
       "3oxjGZrnhp9iVFol1XsmCar0cvubOL7MRBivBTiLhXDs8reCzwVs8ushE+ZyApkvXMkW6iB/koKN\n",
       "oWf2c5yeXwAxgGIBZ0czBSXnW2ZI1oCpxLSghkkK2JykQLUD3XIqPMbmPC4s9hFpFCgf9cTeVO7+\n",
       "DljWvM5WuziLRKgco9N5XvVKqFHfJzIZzxbWnwYIp/n7iZnQBjLVgaeGLTG1RMjQuUCSiK0HMBWw\n",
       "4EHfwMPTZLkR8P2JbmrqOFoegEmU97IZygSuA2q1JV39mGClz7OMVd00U+CopMInroeEzpRYu+0M\n",
       "/4Ez3dV6l+MQ+06mqg+yQgXaHWmj54ubkvbBH1t//7XmkcRO1j1ZxMHf5YkCg493pagnzk5tHLmT\n",
       "ciHjKowD/RB5MSNHetT/KTn1nWNL9IpTRCgszotnn/r6Q0CZ1LhZj2mKe8+ObAnqU/BI9YiW9QOG\n",
       "KkUdQncRDihYzkwQDyOVwZ5VfiKhIKBut2a1IO+KyzDyH7wkY46VPZCUOv9ATKn2ZBXKyNkF//Yl\n",
       "+cXcRx/Akue/+OSZb/Q2mzmHVg54V4QuZKWuCMNYBev8jg9Y2PmzJJb5xeqSVPJ6BN8ex5mZjlnF\n",
       "uLuVj1zXBsvQAbHD8zfJsJIhOE9JGZ7PdXAj2JbIs0L4MdNEZ+9811sx5v7Fbe35yAIhWlP86XSD\n",
       "ntKs6ZRXrGkt/+A8zoc0hUnKAI8iuqzV1WDZ5+40b8X+Qi8x6WoWcCMBM79Id17c4+RVv6xDrdQO\n",
       "KDVXR3DHHs/6uXTozNNT0IFoQ1+bBjmucwEWxZECyui4Fsl+M9HEFPHC3FWksWb/WNJMoV2nI1eR\n",
       "gpJyn12B1Ypqb11srLpYsNaISirVF/5cq2huDptxRSYTRTouNTFikeINu2tvFHyCWj3m5UqYJ4b4\n",
       "in+VxC+tFJAaKDjnKi84QmWVDFUY/wijm8UjTgudsjCnRjbpUJq8MxHEV9jvPnVerpFpbWaMcBlw\n",
       "3gd4vzgJMr1FqPMrnWD6dfA9X3MXHfg6bcW7dvVqjs2IpMRIH3QS8m7UGFBYqtL8q9jfvx6i6l0A\n",
       "scZAX/NV6yJmDRG5AdtrU5aRCczPmC2K+KXGwWhfII/hNR4Fqp18KP3TFJ1jmwyfEcE/dUf0LqBI\n",
       "CQcgQCkLnMTaYaAJaTXPywv/2IQq54moNa8T4CyY5v4CK0SJGoqak3r3HyCVczzyzaHiJEPBlWQ5\n",
       "G/O4ubJdCu16pGAdjP4A9BVqMmyz1hhA9sdqksyDxVXkSX2ywfAtNWiZdDDslE5au7XFgI+Hz9O9\n",
       "M31PhJqqA5K9NoLvsuE686EFljM1yNeCJUFgwa7eg82ymFxoliraqKI++FeCwCqa4ZYvFYeYjDFW\n",
       "CAPUWUXDXMhTpnKMhSkfqSCcbYreVi2u2xc6YEwlEMRcaHk6U6yrelAW+VDTLinDuGVcl4tPmifL\n",
       "XZ2AV6H3fhf7MzWRTB8ljvI3pv5zDTzlSXRLMk8jK2toD8u2+eN+TmQI4RaKgyKe8McBYPlueVRP\n",
       "f68S7RTbj2vFi6FVZHSlmu/LNYgavANkAAlotzYDn5M6eXzuaevaMgvBO08FVmc/GigDoO0QUJqz\n",
       "I52I+acjJ0d84znn7bM6csz9pTDdopQJg5v5utCK5wC6CCulARG/LYnKUvYy2WE9NqcziHTQDpsf\n",
       "FHs0td3SWta2M3qRCzJezPFJgdNyhx5zaweK9nb1fpU/wvKLBAW1PjLP9/iX8W2eUqyG2gDKca7N\n",
       "iPh+VpKbjkif0Ug5slUbEkw0Rnj2Kv2Bttq5TcGT/xCfvfPLxX35LTEt4M4IyCUIxzD9HNkn82mC\n",
       "2YF2vJSNRIZz/FxR3rRxXPU2sy0wE3g36gdxPfHQlrNZy/kakczHQl6DsB5s9qbj/FirGajDuBfh\n",
       "871MVbs2LcAEYHW+TTwYZXupOvj5XXHXTNJ1S4hPzCU9lBgAAbOm1j+tCNlb8xrcFuOfN85CHs1d\n",
       "n+BzrimJ1cbU3zhwJht3l3/jIK9tw5QJFKGsVRDYule8gw3//9oteT7qHBJ4lW5i/6I8i32ri0P6\n",
       "mQHlGxfqSDsn/UsicPaOSffquXpGTy0AYARanGTWEi9fsn9Qw8ejZMlEqJz6BkxsZRo8yHsnPiDC\n",
       "IKrbIotTg6JS+tRKSEOJ1yNfU1SSz5l1365Wq2QS2TepbY4VN8k1ollt8c8S/dyrtItEKxhcPCdi\n",
       "ZHP+8j0gncOqEc6mlc+YlJ67ztavJsdjuTjNCP/1e1IkIXV7WKQzRWqlrqk8/+W2jL72LK6QhXjB\n",
       "saAB09u4DP8n/xaf8C+zMKcBMJCWIE8KuKplczHqjTVBjdCdvm5j1Jlz+2EVGTOdjXVuylyZTNCd\n",
       "S6EB01CZG2tFItj/FlC0xSWEkFLBpF3ovUDBPkzW8j/Ahwuvroi7tYcYsdsVZyWlFUuE2MLTxsvz\n",
       "WQ/3S3QVrUbkTmSPcPwpTL9YDmt4oPO9+PmkWy5z4OxHxsW0ncevoQle46084UcWmMcU3sPkOyAL\n",
       "CfZCWloD/HQhhyfzioMIFPQMTYK5i0eEvdhTcvlu+Jot3+5dV9WmPLUH5V/U1en/ze0jmkI5oVYr\n",
       "5raiM4ua49NaPvQjGkMCoUGwi++jTm5Ny4+Gb3bJKbOgQsyNonKYBmJ4ElYnT2wc6ciIVy0vZZOq\n",
       "5UfTDGbgdgNc8GNJ0ddZIp35d7AeLHMkAfhDgLLRQcbyfrZ+uPErzfZcQKWpBiUAmIoWIOHj064S\n",
       "oErAkF0QlEwYIcNQLczuFp2zzdWLcjFAxHkhUzRKvbbjqogox3K1i1Ff3YdC6Skn6KgJuUsNYf1t\n",
       "AZQjQXqWa5ssm/qOpSmfJ9GLplnHkEHLmiqdV+B82dFLA0ZrfdwMrjnxV/N+XG7YjIZ0nChULJaz\n",
       "oIjdAC8QQM/Z7MJlGKrcsW8kOns7DiHAloBlzEXJsi00Kn05IbBFIdTe4wcGF3ernNZrrMrFconi\n",
       "K9xUZW+QF2Oucjf0omkPPZJAkZkNqt2jxVMhf4UskU3qpIV58MujQvBxOqi39vEiFQ7UeMFh/T+d\n",
       "xDMHvKsLjd40fP/oFfzAgk245v0aRgKOwvhVFKomd8cAzf0aujxW0O1UvG2VmXW0wbSgxbS8qomH\n",
       "ArJ4++z8wzzDwPX9Y3/6CvvZORE7ybzids5NFwhpRi/YvbSuZzB5Guxix3O/egR9eHH/OzB/Jpiv\n",
       "KRuhACqHZ8AMFx8bE2SCtFPRXp4tiCsC8Rn0OY15WOT+z4uqL2tGDhCw8GgRkOIk8MNxyG+Mrbmy\n",
       "n25TOobqKUYI5E5NPNBOjE5HiD7A8yUHH9VK+4D9QbxZS4EvRtUAG8mqnATHeFszB8ZD7KZJ8lu7\n",
       "Ok9BymFMZuCdCJ25Kmx93jc6OtKA3GQp8jUjPtf2K9vGinSaEC8AGz7138LmD+YiwHkf0idES+e5\n",
       "VlRslxIGxecw2SVn5COWruslMWMzWxGt0+Z8yT/J4xFmRUoxYeijoGIVH5tDiwrv119YMobLemZW\n",
       "ydpihkDSGX6ZMnZcRVLYFEM3uumKRC/brxapoMbmvZiyezfKw7213NBg6dKyEP3x13X409dXB6Mc\n",
       "hv0i8sqMN6RDzi8VET59kKYLMyCv+zz6+dU+AOVVbfBrz44P9i+KBRzhIhv7HUUD3JBBrwR5zIGm\n",
       "a+K7FqQVuXgmHc3xC6FEUY6VUNEiTmOx/BFMlgqGCI99/X6Yv/l7bNSZWjil/zEbwQTSbeApUjnM\n",
       "ggk3/rg/QEKTQRouB+Jj8Pqk3A3jUOtBGU4IokgfGVZl2w7hjnJEUvRxokMvnh7HWLBoUbc1B2jb\n",
       "AHr9S5n0lv+aQUX5dtASXCuycYyoFr3HR+gSKZPKWBPRnjqbusWeZyNj4M/ENs1U8qUtGk21cjs+\n",
       "j8npCGn5hHf2nEIyVrUf9ax6HnwgfihJF4CApQOZ9Zz1tGeJE3MrWol2gWgpciFEeVc3zCW0Wzii\n",
       "LVG7U8JVJldrRoiHOLVIlvbYh0hZx+/a/oe9f93R8SfwcrNrkINYOaE4ZY7N83KJ2mCLzWAcB2q2\n",
       "/cr6d4mYdf6iVf1Z4ZCs0C1jKQ3C8dXd0XMpOIJlfbf2v41uCS97g7JN6Aum/e8mf81J49NBkTrR\n",
       "wPANI50xvf/G7xmnIIEEV1U6up/6l/2zyE9trkPjzHgV0a5/jTxCEbObWg4MtwatNh/N36uat/ub\n",
       "6Q0vI5f/lVs3bF49dWo6TSxZNWQUsPvWvXLNeKi3W2kO/s7s/KeoVjAyN/39K67gOch/41a/lQqQ\n",
       "WLwksmTQFTkusK2pGcEemfrlcrvoTyVuiR2jy9ZbUdAdvSNrhhd/9GGKxNVoe8YiZeCnJ2J+B9mB\n",
       "UeCaXRvmFoZL1kRsSY6DOhepkYAjkm2AnF+keJIqtGKVSgn9VRNu5EKEV/YCPqY2A+FHWrnK+lXD\n",
       "oxp3tHCfJrWO+J7P5tQYsRewjXtlmX+7wLPp3MsnKR8N8APF/P//Xh+rg/H2I7yn+bpxSQscgfvm\n",
       "47HgdFfkXaP0hQ505q3W4ss1uQWJHODCaxshPIll2+yggx8jwlpKRXaraN7Q+8MxRbZYLkutvKPq\n",
       "llXKc6doD6oGzcA2qb6WqrBnn6R5QM72XkL6YtafWQuTbTeumr1Sm9JYv/wGo43E4SRqvq2ujqgj\n",
       "ocjIjFca2HLwl0iStzp6TiXfE7+bOW2Sfj2SXiT3y17h4jHy7E+B5dAL5wopfi52oL7y2lYD793S\n",
       "jFpebjWSnDlW/t+5mG+nzHZuFQgi6I61iyNPIyW43TC45rqh0M3+7GFLg1laR4pLoDzD0+Ze1qLe\n",
       "dXGSfrlWCGwmck7OrVRY5FVZlZec3INGBvSTQihdXQ3RebVPZGETXPXUtTlwVMn6axLYPG4cf5Vs\n",
       "XRwotbwdQH0kNWyg8AbbCP50RbfW67AWqY5TVanzXfQI7IV4JNIgYuOi3oFgf6e97cv7KKasicmu\n",
       "ASIz+bUiPhbGltJF6dAq2iux8rkwlLE4gBoMf/1mW+HbaN8jUJeUm5PEeE922lpm9v7qC0QUbpIZ\n",
       "xPENWrAGrcOWOqTu/ToJdLvpZSkJIsB3boCOJgMkp9C+njaq1bCnFhvdYyqHT/CPjPNvNfh19c+z\n",
       "d1slLJwuhC3Xh1pZ0o/GSDjkurvs7FBXpUVdbTK3UqY4MAux8o9khzKk8muGVfruhYsazg5lOL1W\n",
       "0DjA/KCrCwEFUguMR6glGIQnpU/OeLedLgfUv4NLHRZpaxGHBdch2LnJTl1Q4Ynn+QIzfRCu8d8f\n",
       "UYkFVUL56vLmYXhJ/TGTxB5RNm0VdCHRSkDUkxQcmt1xrSbhwYYv38p5sp78n1rvcCZEt/7XWN3+\n",
       "Q1MCWr0M25suWzizJa3yb1mXrNR36wsdtRvTWPgLZrTKJoF7eCDwjfrv1YVpU7027H4z8+23PYlF\n",
       "zNVRwq2t5/TYl0WSRoV24W36qvqiBRh7pwlUShIXydoBvyftZgADl393/cTfGJPx/4smgJ7RtunB\n",
       "Uhk3T05aK/TVheBIBdZs0Xl1yA/LlUM/7irPJTebr9uekEg/wuF718Pbq9rbnwTXxzLd7cI4RKmf\n",
       "21N51NXdTEumMvalEt5n17VJF51DlVGnhdvgJMsGr8lRMD8R7JWQub/qBbol7Aw1tCGGcUpbu+CH\n",
       "6smKBhVhB0BaebHsh6rSBpXwTHCksabsIMTp2Nt/4sB/P2zi/9bEYK8M7Ld/pDVGMjCkI06RQnys\n",
       "rwOw1OXTKbFdTJ3hW1YY47V9YRwalSFUEvBaKqgDzD1bXf9R5Tg2/NCrXsgxw3Hy/CoDeZByYgnl\n",
       "p5bjY3bQPVlQefl7jk3zYCCUc2S0qcPpnoZA+NjZyZ6h6lyVVMetQMO7/EvlMuixAMwaP4GAH3G4\n",
       "Sj0w3Rb3rnykkAkv4covsPixidqrwsv+t2gza9gAxeSmfbsN8jCMYvXrAJXluyXdooBaXcuBjQ+X\n",
       "5Ag8APDHlfYkLC3X2Hv8CR0Bjw9Gry6dcSnBp2X85vdKnyFgNbF1UHf2jFnWitpuMtWomVrQNEjS\n",
       "T5SAgbnkMCSv8scb93TXVC/ZqA725jpPMDX8pRlarg77+Dv36cBx2Ism4ecOP+M86718RZYr55H8\n",
       "zQ3JYzs+puEwtAEgQ/3KTuoPkopveKclue89KGnduiWZXVtAlzToAKFgoq5Gm/DP085mXnA5jxGp\n",
       "xOFUWPduwd4J9VwcjLsp1sEP+kigxYiQ1luPEWrTf8p6n3oNRJ+pTg0qnwYSemHbx06mBIEMasgS\n",
       "/AffAbBR7w3UHR0yprUPbQdpw5mKVRV/70ZZ+G/EHLlTOnP9WWpa0tCBHza1pTYqd6AkvCYNIeZe\n",
       "uK77VOWNGoto+3OvT3jdVrkjnuj25qlF0usNGwxsu4mQhf94x4crACuKxETdUPBs/OrSbHeAul9W\n",
       "wsHDpOqewB6g/ex96oWB2JWCDaWaeQy9uj+JEK1SS2hkkccXQ9r77tSdrXI4bpj8/7lzXFMDJXnq\n",
       "Hzsgc6eKAFCcfNr8MyM9xAJwIbP9EyTnvNHvWsbsGw6cK4i7Bl4vrdIcP/zEDk1e2zPyguy+CXlb\n",
       "vCXQncQ7dndeVieONdL81qYb6TQvG8Gckl4AfkdYvTUhn6u/4pH+ugLW4bXSIZqvTAzwTvRnLsHq\n",
       "zAIMpsSapdLWWw/n5SmMGTCdqsNkbOGWLlC6CYOhbKIO8G/+yz9uZPOpwzPUbmbkgzsXeP26Br5Q\n",
       "CLtkUPDsr2zG0brT9OhRNVsUuceFqIogQ7S7Yxkc4xNEsuKauWYL1dcbygnkYIYCX5OzL8iTQEb6\n",
       "DfpyoRiX0GnnKgUDcRR46ca/ff0E8tKLuvhJKwFn/hXNvvbtTX9lew9Z1sSkIcz3lXoTpPUIyUIP\n",
       "LYHN9WTeJoK/xfDpjth2qgtfdd0khv99NWx9/utcDAszvS3VXthW31kBsCk8tVdYcm3e+Pr77HV0\n",
       "tYfb+CGm8q47Mem/HZYnR3HkOSx5KGJrDcbbBANyE2Id4u2UnduU+tjLmqgiuT7VOLrmf1DtiGWR\n",
       "+hX83+VDmd8UWse+MGMJWFjyqwajwF6UYiWWKzAkFaZcAAMkAEs7AAADACdhAAACr0GaJGxDP/6e\n",
       "EAA+CPuQBnvgCQ/BJAq3dIYcYztNDqp/LyN0fRnEB+q/FllVepkuKZoWRUuX2GH28PQlESAUn5qg\n",
       "SuXyr0AbcPhO7yLQRh8JD46pxaRQtLtJM7vjZkGa+Z2pC2/gLLS/bDHTXPKYh3jiwXa/GoDAGlbV\n",
       "gMqkVc0RQK8haFJ4cRwpMIgqw/5fPDUw/z7EOqUPqkUtshp1jWJSCWXx1Er/m2rDUtDdm6xnZf1j\n",
       "kWiOH1PLkfowIejTxuifYrRTV4MGV08p+9/zyzpQ6C1bfvMhMVDAQdEv5eW52KrHdcRxxJlX4afT\n",
       "i0BTdoAbyoKyTfbj80/9FX9Q/jKQu1IhRTOQ9zKNPUR+7Hy93znK3VHHa1iQx4gTzuGwFgjCr1Mv\n",
       "iJ5+CYxzzI7sK1/wT0LmkPGlxbS9IV98yULd9cB7YsX/Z2vqj3ue8prHGg5dQ71Cht7+TOVpcHWD\n",
       "2DLh11MiBVTAcCVudUS9hT207/UCjstO0Z5lBepJx+uu7TnwxL8Ixh1/UyxE1yO2ltCn7ixKIJGh\n",
       "1rqLbZEAhZoOeETxTraKdhahpUuQMgrX8iY3msQTvNWrFvTC5A6+PYenH9Csfs0wAjPZHUok7d3g\n",
       "K1p5DrXjaXOuRxBAUbv4aTuq0k841LeTeAe9P9+BOqfQNuKgdOgqxd54HkyEXhBChJwaEt1hJa9T\n",
       "8lfJg2dU0JXSbSPN1bC2eCEFHr7/pDS7p9HpTkoEzmX8jNsymUfLBtpTmp2BdS+lL56rIRKe2Zjl\n",
       "A/d6yt7L2apPO7e0HFmCx/lCEDpfeYZZHB8GqbT/55Rlb+Q8oU1WMNcgzec0JQbIDt7xoMEiOsvv\n",
       "ajfzUHUNhc1+epwPxS2Zz4iEy4ugrCSgtiIqLcW/wo4EBquoW95vH/xIyTm501PJFytUiAAAAMdB\n",
       "nkJ4hH8AABNYArwHSXAWC/K6Ed+ZCnkOOJfyq/sk71y7NgB3Q0dnveww8As3n0giCAkbfO2TSlT0\n",
       "GaB2lEjoTVuhQAv9sUvu7cfrySEt9AtDY6rH7SczWEE946NGZSypsTvSjd9IBAlHScdMHBQ8rUpP\n",
       "IESe9yHNlMZSx8ABVfyyUq8F7onIqLm0OHLicAJkefV4uwJzSlMAYt40epKY+qRIJt0jO5nVUbQp\n",
       "r/v2nv8ALwNyA84dv7Df8Xlp2aeb1FXGS/KvAAAAiQGeYXRH/wAAHlig4B+YLnr9cr9/UgAAUVRO\n",
       "heoC8D7rzRIQJNQuyv0L/FPIo2AC5PDkNUtCGD9Ttz15lsEkn8vgpDaM26Ux8K/6WW6CBjmuxEXl\n",
       "uDoB3z7xVj1Zx48Xh2YA16AAnbQFHLtMCQzfqnsfigw6iRw2EMcE6s+qkA+5Yszl4q3O5MaBAAAA\n",
       "hgGeY2pH/wAAHbf8DSDVeHEo77L5oLAAASj9VeBTmZDTZTV7DUA+uPhJPbYoykkPpIpGxBPPLPr7\n",
       "qxmA9Uz/TCgzvv4qoU2+wpUU/WtMOT+9gzLbYEpK4LcWpGMapB+Xk71wdAATtpmEefdxiozJ6hYx\n",
       "opCggo2ODwq0NgpvfozquycB/cMCAAABkEGaaEmoQWiZTAhn//6eEAAAAwNLSshvfscyJw4SSLBR\n",
       "crwsWKd0TVpVEE8EC9knPl/V34S3i6nHagBTloZX6fLP0oPUrzU46eMvKWdSuQOUCHOIV9a8PbmW\n",
       "s7859KWQ/cN/TyfJ6A7Q46DMYP6N2RxyPVthYY8Z73kBsAPFP/rTwAL7uFmIPVA99tkVLr/mPniP\n",
       "cSgbyQ+xD9xUwsNCZDq3lVq9SskOhXqiDzIc2erPZZo4SXADvTwn4qtAgIMYDl59Kyp5X9r0FVJ7\n",
       "Iy/9B+brhnZXMBv02vNzfFHPVoMKBfkju8+Hz8GLf2xUYqMd4vCEimpm+0SAL3tU9phLSyT+MwOk\n",
       "wwT6FPQl+Jxv/9LTFtTNLwm67eFUbjfyIsyS9b0wwWGQkXrGF/NeLDbHuhIvjwuW4SkfeGY4o9sq\n",
       "/IPfmz4l2h0Y2NLX62agjdDU+7oF4vLJUr7c1wAcWoEvLH1qjuD+D5qYmO1TKi7NP0EFq6dUFzO5\n",
       "rLW9Z28PceW3XZZoyrp7+ZbpAwaQdmKBrfAAAACuQZ6GRREsI/8AABLinxRAOd7zz5cVkYzAACTf\n",
       "qrwL67KFWTOC/upDP24YRyTtYL+5QiosPeuGgQ7r2WTkLbGS8dHd/I9ihIyq0v+4yAZS42//7n5m\n",
       "gVdp4hm+bHSoIGUyFSZiDK73uTcd9mRCsPunGRa89M/Xnp6DAUIOhH8iLpv9mY+IARslQS1RQYQ8\n",
       "QL/QFpoQ1Sm6fYmiHhe7fV3+WdPWXWFwCG8udigGX2QdAAAAgAGepXRH/wAAHaig5B+YLnr9cr9/\n",
       "UgAATweGwiZpo2bTF1isdYdx1G1LS2w+wN/X4VlkjVuNZI9GeobVdoVCLZZ2O299eBXLtnYEEdqk\n",
       "586vk8APoxX5afVg/DMhjdaAojef2QAkn6yKA/cetg1WALuoEMt15spYEA7SLb5L5rllAAAAcwGe\n",
       "p2pH/wAAHbf8CqFIHEFGdwRW7jUKJoGCzR+VYPy1gn1YukahkdlYnvhCSkEx9blDoRzygSEsMlZr\n",
       "rrwQ/Ym7HjMyUNw6Qw5NUrZN2IrM4gAkUYgvjDSKEhr27ZjWzB38g/6evw48hUU/vesgo77Ag4EA\n",
       "AAFbQZqsSahBbJlMCF///oywAAADAAEJ+hA1I41yGT7RynqnACMjactDEP4hIx4uZ2a/5d2fCfDy\n",
       "BfCc4yfe9y17WuWrpwrK/aRUfNrBjq98SUg6fdKAgF80yUaRpxJi3V/CJQzXjwacuFNl/DJAfjlT\n",
       "nU4kBmfJEReNfqLNDN13o1GUNpFKLOXybNnnLGfDuy0T7sSuFaOlNKVvwrifb6HlQ2RF7Rtcst6J\n",
       "NbAdvSCxCDrfthKi3QPRMrVipp2B9uE85YlUV6nMb9ZmO+E2737eCUJoaA/Kn71THqwDk6JOa23G\n",
       "tbSAixQe7WPCMA5utjbLriPr/5ZdIUcoNkGfqEt/+1/cTH6iSi7kx7w0RjTtDe1luIuMPHHTxU6x\n",
       "uirKsCLcqJzJUn9jDQAHgsxR/heV5lopZ3BczTMiB+vZ/559zCYZmXJMD7w+Lhp2410VxGd5UrV0\n",
       "Th5DopXST4AAAACjQZ7KRRUsI/8AABLinxOupgHEDoLhd035yAEsrhZbdnXlOviALVem2Pv1IkNJ\n",
       "mBZCjTrUcLIK9vaYxMrSCUWQSUGVWVIYTk38Mlm3UGzmInirCtvzLtJMhsc1iU+W25vmPHt/dx1F\n",
       "t8ubb/K5IpZ5ZdrmF5z0oDCn0KY+UXIuyNfC2mBnTWb3a6Hv0sbk7GHCgxhQXhVRJvM4XSfb2Jc7\n",
       "JTj9FwAAAIIBnul0R/8AAB2ooOAhEDh7X5peF+Gnynl4Tj321sYUUkERGVCwNEzPPQ7r9BcZCbns\n",
       "oA5MA68ZpvYJkVLls4nF/bLHCkS2+nNWT6WPMkKJrQGO9NaAgR7eP94gBMYM2y0r7BONVk9AH2rI\n",
       "o9Npzs1UbnR2wpu5S8YmfYjMdyrGgAH/AAAAaAGe62pH/wAAHbf8CqFIHEFGdwRW7ifCzoRgA/5j\n",
       "csX8nIrT4E9M1XAokLfOdTkPc4C02OQ1yilMK9xqurTks+Vx+NfiRRFpL0Bd2MPUzVJdB5r7id3j\n",
       "8yUCCsIqGnK+fs0I1Tv1hC2HAAABeUGa8EmoQWyZTAhf//6MsAAAAwABAFFc6aSNYyNzuBoHUABx\n",
       "vRYxCYqbZ0dJfly/f/Ao3j72Hge3xVQXvF92wudFU7eCpe53E6sBtccQ9U5yFj6EuAb8bhbA22YK\n",
       "a4T/qI+PXSQAALKqHITDfVW6UDtMOxsNsNPAkfesXHbvgaPQwR1P+1DJnBlrOkGjYGoO/DtO18ez\n",
       "5MxMQVFwj7ALwV0h5tKR38vHXXayC1t01dIh9QgmB2cAD9pl/MV5Tj/bPvDsWOo5F5pntqkJADyv\n",
       "BSr2rCDvnt/E0b8/KZShh4OJSS7jjy6cZVqXwOKLR71qn+sVZHPazSdVP9onua0cP0Gq9qjigw1b\n",
       "tiFNJCcCZo+IYHp++0A3qWevTG8k9B/r2evp6px4EyVsz5bC8ud2FMR8sNqF7Q78ND79wkzJyzgP\n",
       "z59hqtNYR9/nK0tqRRe7Z+A/ooozNQ+3qQ36EHqDwnfQ6SaH2iNfgRrxQX228g3QLgXkZcUTmf3d\n",
       "AAAAyEGfDkUVLCP/AAAS4p8TrqYBuUocq3Fanqo7cXykruu312hT1VgFY7mAFw3YkPkksw7rEtCa\n",
       "H84r1UAGfiIM+frreyYRpsh5brZMEA4EIEshGA/10nJK9VdU3ZZqryNXhZmaUrYzyaT1+yzZoVOD\n",
       "quWbGYqaaSCUvi5HXX9FS5rsbpvecTDeWzzIKmR4n95MwLu4aEJB10n9qQzwtCUiUbSMa6+Q44OP\n",
       "2zQRSPyb5x1V07BvO+Mq31q92kUoxfwJgeP+9UWodAQcAAAAcgGfLXRH/wAAHaig4CEQN1IJlsUG\n",
       "s0l2zHnETBy8vvy5GXFB8CnZyNtfxwMSTnbrrlrE/BQAloj5SES7NAcPCwddOInWL+kXlyiMFxn7\n",
       "Dpo9jobPTSzzH5JDgbaww21rzqVWv0WP/Y8yE8Ir1fvJdxaBbQAAAJEBny9qR/8AAB23/AqhSBuW\n",
       "nUhEU2BlpMYybldJ5lNfosexFoWnFlWd4ATRtSVRjBDJbiWY4gkeyOBnJ7MEgOWVjutSlYUa3kdi\n",
       "QutgHjhL5MGvLjCxLyXihRvyeiwK7KGgxSiAvSsOHYKSt/GZkT4thyFowgCfrUGg81W4NQJwVk/j\n",
       "JOB2XYfkbYjS1uQ3N3BxAAABL0GbM0moQWyZTAhf//6MsAAAAwABAfoQNO2TZDZt/MuSPgtADdeg\n",
       "Wb2HCcLQnA3zoB9SEofgiwjh/8svlkFhbl/QtN6mOkxIzbuj8VVSYiNrVDLWS14PzYZgO4dcxe7k\n",
       "G8ZbD18y0ZZifEyiDAKDJf0pFX0phtOExZz3HiX5GUAkAK9EGhZtDCE5rXbeVgUBpfczVbPrFowG\n",
       "Jb/njXO1eXnTWyjomdWbm+c6+3JQjgLVKb4v85gJ1gMIuvSQVw/IX59x0UYP6CeYM1ddBvvHbdrx\n",
       "IvTHB79GSqVNmBOfRtDM3Eipi1JKdr9GqEKe9pj8FE/S4iejq+qQTMG9nmuKIifasboL8K9uvb8D\n",
       "5zR/qEdBjoZN9er+SjSaobTmao7pQIlB8Cc1ia6mV7JLjyn2kAAAALBBn1FFFSwj/wAAEuKfE66m\n",
       "AbojLJC0aaG+K4cyOFiqnT33BOGt02cewQpsm7yfyUAAlPI23ukx5oZAtN5Q+9peKHu6H4TyLMFN\n",
       "V5jXmevFqXaOIvU5x/oyikcp8LIOPN9biFR95hiSUZ/a0f8yC92HhITI1QknLcOrLYY+ObT5MG7J\n",
       "yz9orBUCjPZWZ7tNab1a8ndFW/MydzfJkml////fumcsRB6+YDTITp/1bhdR8wAAAIoBn3JqR/8A\n",
       "AB23/AqhSBuk7jHt87H1jNLlRvWyap1MPlE+fFNmZQAe54/Xcevq9073gFfpzmdXajjx6ZyzlFiw\n",
       "VLbJRrD4QDx8OlBUjXTRUjmhkaQI1X/vU4yvuYCzEHyCkY4XSQKMLdO8zvtz6CCILskN2zsHYpFv\n",
       "QbI8nbrmJpaF0EbVZp3kaMEAAAGBQZt3SahBbJlMCF///oywAAADAAD5cumkoph1YmszD2CgBuLk\n",
       "pJiIInkhweRWA2p1AhREnrpU35/HqCkcH7WSiyJi3PEwFKRaGvpG+pl4CIBYDIN23d+rezFm/YWK\n",
       "C/+uFUC3jc+Y/Aws2i+SUy7gaV4QxBIpzOV6i6iTE2v7c3yJ0Iaz4yIwOUyFWLp5353/Wh8l+du1\n",
       "U3e7WmnXJ/toKT4vuauUply0aryuM8yMW1H1kUECvQdWoNTUSxotDh8oEKFhpgD6qnW2wKdRCd1e\n",
       "0nUw/JN97LmYqFD62t/gPD8I1/zWhnX8Ad8Nnr9R228E6/g4T06X6ieUzigy7olbxlO0rnKK0QQS\n",
       "NEIncj7z8ND2SbOQTJ61u2K2gX+xHqqY7ktZPZC1jXPdb0VARH1oMthxhcHJO0Q2NVUlsY0DaHVM\n",
       "+EBRVrD1z1xdhxih2ETfuqYSm0Wa6XO3d1oidvzlg2FIceJ1ubPXMzyBf3U80dNC+3JmUwH64/kg\n",
       "VO87ywU0RQAAAKdBn5VFFSwj/wAAEuKfE66mAbAlVJe61OnbKmgoRVFWbDRKAEYaCDW5tbiVa5Ox\n",
       "mR2+KKrBq7qBuKXFVTwPvfoGa08Q0B4XSD+MMc1dAz7gj2H/sQPXig4K3MgmCB2HHdVFNmJhiECw\n",
       "SFMZb13/yiolldQfC8xbQaPz34uOrqRICwWkZCsbjiccVqr4DP1Hc6yPL+ZMSDin/z+cD/zPH4hO\n",
       "oqCz11XyoQAAAGgBn7R0R/8AAB2ooOAhEDXnhKxfTu/+8LI1JzEi1ZBbR54V3kKL0jHd4ASvDQEb\n",
       "kNNq3jItR8J1J/zCzfHDiNfCeSGXoIaIjCA/BW8vmuIdGB1TiZr1V7Imp4jPUnZaeHzUeR+2zwYT\n",
       "8wAAAJ4Bn7ZqR/8AAB23/AqhSBr2nUhEVvBBGOZ+JqChCCavEL7rZR+0AC2VF9LBcLYIbcT4uybL\n",
       "g7VHg5gIPn18b5ERouV3Vppg8sS9jS2Hr4DmZZmHiwR73lf1OnOAAB9mUrgzOslJLAo4C7a3enTm\n",
       "mrgjhZ+nO9A8hx2r6uZ0Db3Nuv+seu3lpzq27NXY5nH0AftgDf0YVtyuHJ1PHMA7oAAAAWhBm7lJ\n",
       "qEFsmUwUTC///oywAAADAAD6+9mUHlAIobsKSAHG0Nk9PvVm8MvM90s6J0r+JhZpXH2FKeTYz+Yx\n",
       "Vgjm9t6564hqFrO7hPNkx+fWD5eSrZEFshTcLynXFlYK9ZUunfySqB/F+SQpTjYolzdzB5gyQzU4\n",
       "kjql0gb2mWzacgI53pvhzR1cUcBl2K2u9Bz7tU4n1s/19/nIKRDxpj+iW8uenkqF/T0eWCQ01O+W\n",
       "/C3jEJrypTBHFUEagNve3ClNY4Iea3csskyvaZw+jUggCfCgqt+5ydRH43otUh45kax/RueiQ5+h\n",
       "5djp9g+iAFDptbaILSj0lF9epv9zDgx40PNLmOYkbUwnanaFauO9driKJxu/IGmu9TDjTxHUZAwU\n",
       "3dCVNSbfouRGrsn+uTafeJaJpMeoAB3YIqglcGfDdn0VfKpKpqLSdUCKKccQQhS/HPQyieXloFIC\n",
       "zara+H5K837qzYgU8gcAAACVAZ/Yakf/AAAdvvUFX8zEtCenWr5FSC/ffbQsplksU0KCaDtZcxBw\n",
       "eEFWACZoG0k1fR9JjEVppIBZxTH3XG2a9sjRoUUgEmnmCTKa2sElSOsP6QlYMxJjqZQBggp2/Mc0\n",
       "Nvx0jhPYBD3PlFvCrYTg+1EG0HFCaKQNeH4BHsi305eeOW50A0yNoCUJPyMc0lbvqkxYAooAAAEZ\n",
       "QZvbSeEKUmUwUsM//p4QAAADAADyqdSWN8sxegF+Q2ABXlWrLEHmky/nW4qWGR4Vfli4oL9n6J2o\n",
       "Aw28pRKetdznW46dVCUztNMnl+Oy8ht1P4utT9IB+ADe+z7j2wWybrDpQxwlwGbaWl2za1hD0l8E\n",
       "8RGLd3jRS2KNjNdUfFbn9P4+y/OTY7yEII9i93BY0iAA/X8yH+9MWZ/kyZIprXUIbDx26NsFYwi4\n",
       "49QqpmB7COEdm8xXrfNaR8CGRN7t1kB8gZ7DywMacnuYeWJ3jU41Atvh9d98DYnG2qtHBHk+E28d\n",
       "zyMWTN9u8Kh4z0jXOFGA39SQsv6nejixy1iH/RQ4ymA3GUFuwf58rNIML3GM0CkkmpuDbaAAAABf\n",
       "AZ/6akf/AAADAAB8IBdV7QLEL35PpdQP1MFowKd6xun1oiYeTivoR/NJExZRAevQba4HPAVUJCdx\n",
       "hoikKSItGmOGa84cH9Tn3j8UFBd4ma/JvM2VBH3oiXoUMMFegccAAAF+QZv/SeEOiZTAhn/+nhAA\n",
       "AAMAAPP8HIWRE2sAJxHXDNmENnc+auZs9mArxJv6i5J8bW28X984C1UbkD8x9i8UXnZ9pxFCqMVd\n",
       "Ksf1HQXf4P72WpU88MgHcUDQDX4n8OYFLLPMQxjLBwx/BRJmQEIz2CjLj8orOfGJE17s3jKYiNw/\n",
       "e62M55W3DYBLG7oKf7LhUYVMYGMv8l1anorVs7+anMkbckxc7rzfXEQDmcf3EeQC+tB+1j7768yg\n",
       "pav66gNC7PpUDq4MRCPpxJEqctymq+FqEht1H6jRJKsP10O1Yy6Sogn02amEemXRyRzQBTHlhgiO\n",
       "AU1eTR5ZxQBwOaUuJA2h3Mzx0Ir7C5S7vKRYtWKvI9Njjs5UnaGi1q0tLDlgXkfVhIKKC8c5ljf1\n",
       "caPsGinEDRL/a/eQKhADP/d0SxN9OgyCAwuLAQ/z63VTWOMM2TkWxBBnCESqfmOoael/3rS8OaBV\n",
       "9cgmjDGnfKuUJ4RHqN1SQf/+rt5YXEtZ8AAAAJlBnh1FFTwj/wAAAwAAT4kQl7Vg30ALVmt3QHyP\n",
       "Nlpsge3EIbqenI/0598Yp9zn22h+XajZsimqsHecAVSP7OXanhvQKPs3wKuLNpOPSvKTP87/yYhw\n",
       "DJYeSzdmeFzi5Hkg8UHLdT+lcWD8Hd91Kn5AQaFPjqC25LFwBnUf0aqCDmoo/Av+Alg5kd75zWcC\n",
       "saVGAqS296xwAZ8AAABaAZ48dEf/AAADAAB8YLKKkpdxa2W3oBcqPFOGdoZQKmoJhX/6u0CfC8Rs\n",
       "0rhMFKRyntCFgqcOR0qCp9xM6lDP59LsknyhryRmBHoCLu39lTL938vnU7eXTgIvAAAAcwGePmpH\n",
       "/wAAAwAAfCOzoA5gAfRpeIMniFxII6U9XOQW0wdH4YGgPV31nN6Nw47aCl4tYxsYbyNQpTvZrtQR\n",
       "whP9Q0qe2BNwhncZmf1DMSmokJFI1RstLoMTQeAB4+yE+0D0QU75YxzWZwAbXIi3DfCv1QQAAAFn\n",
       "QZojSahBaJlMCGf//p4QAAADAADt9pJ9UABFXDKRGA34y30GgStCOII2xxFX8GR7frLxUhBJTR4B\n",
       "bheoWVNO4BJshWcdVUVA5TKyYQh0ykjZaSPFZYsSrEuLZtiaxf/9XuiZ6nGt2lvfoDcZoGoDEyFW\n",
       "rTP3JBeRx6hlPDANtXRz8hAa6fuJYb8jqc7ICzujqhpAca9XW62tPrZrGhOr4T3Z0mnBDQ5mX1CX\n",
       "AQQpdExHTgxnvz4BshKc7MDrBbd7ErH99aPgTX9FWzpUbppZWXwNdxxYnVz82vs7D53HIA4nnIbM\n",
       "LF7QyYOZDOOBqGdFw68ZawKemV0djXMg2N8lBbZQmVxtebkIfAzFta+slIu07neVXK5JD6dOwH2T\n",
       "2rVgYih0Lc8xq1f5x8shcZMBrCNRgctxrYdPP2U2ex/K+IS6GL+rGY3I328gtYdXgqGpBF/ZLE39\n",
       "xJi5OfuV8dHZLafOEPXZ78UAAACeQZ5BRREsI/8AAAMAAE0d8UOvAC1rUP+2lJupwjIE61M+km03\n",
       "05yfo1eEReAxUnzJwSvcwG0xDwgwXxgK/jAPgMvwqUpt3OXx5SeVR6m5cSWyJ9Ty0RQbYaVVSDc8\n",
       "WJ7zxD0dpNRFhIwJHjzko3Q1VrsCCprCFNxEAYWAjRpsfemIFlIZW/ySGkqihflrLCAF//opkPHQ\n",
       "rsASOsuaA+YAAABkAZ5gdEf/AAADAAB5QSAYCACcXymIj8sQGTLNvRexs4wbUJkLhkqjLWf4EKb6\n",
       "J62lynMsI4ld14/G8czVJLksjzS6z215hkkQC81o2iqd1vUYyeJABR4gEHqreAWDDQdBH3kBoQAA\n",
       "AF0BnmJqR/8AAAMAAHkFUNJdlBCmOswNo6fMo6xtCaBMZJ+XxsqenjhmeSmKtD1JDOznzjjQ6hoD\n",
       "UeyLuXmF0KH76zxu25nY8DWXv0oTzgK2s8aZjH3ndEi7U35gDUkAAAGmQZpnSahBbJlMCGf//p4Q\n",
       "AAADAADua5jHYz6wCknvqVyxJPWnZUvoHRxy7FcRTDeUlTomIv1zBDhI1WhItwPEFVW2yBGafsgb\n",
       "e/E5PdclJACKUOzOX9IXvzcUQOaCrJNq6089Y2MVNUGGg9FRSmgfR55ZMrT95YCZxqbXZ6rCP+J+\n",
       "xVPHhsyXqA+aefVxi1d6KQBnpao7XOg7Igu9dbQsOg4cwVyi2wearI3vABn/tgPXvjAA2pS5Mhyq\n",
       "eJyx/BGp7XXEKuDlDD0gz7tTUPyJpMn2SPbIPGuMVoJioIDi2ypv3uO1XzTjcbh3B0SS2VEaAUwq\n",
       "bZaLgfGqeLReNfF0H5A9Bdq7ukT4UUC9wDiZmBP+IzwQJht7/6RhJq9vnbXOWU9tORbr4To+dSDW\n",
       "WYiibr/7xx/HB5E0PwEenMuROe21S3Q3oI98q9xUxq8IQczBTEO/9QYGdc4IP/euJeKwZiQZjtfg\n",
       "EfidTViOmS4JP/TA3NMDqfcY2MP1mrPvRHuEU3sNdgX98CBHOFc3G6aZ1zig5JhirVoWhedh+aAA\n",
       "nmjObMt/cCAAAACKQZ6FRRUsI/8AAAMAAE1fxQIQVWIzWe7Fc0Z4zQ2UF+MAAtadW3tjwJX58lQ2\n",
       "Uaf0o1x0Vxyd+yyZhI8Pt1VXI/KxBjV3h4cWAdmiaMITH6mDN4o6IkMouPBrup25jnNE535KtVNf\n",
       "GNVexh0TEH/ulRIsvVxwL2L2ZhGhf0JEKtQBkFsTkono/4HLAAAAagGepHRH/wAAAwAAeWUIgA43\n",
       "MMxyCzSg3B0SarX0P3lT4ZVs0YzheYnndj4lC+RblaMPFU18TkDeEu33Khsqdvc4IBHQ90UKv7Rt\n",
       "blCIJFULcA4DCrKpQpxtqISPYbI4+SEMfNoR1vgAOmEAAABlAZ6makf/AAADAAB2oBdV7RW2zblq\n",
       "svjSoyFcwg/I/eQE0PKDKpWGsLzjNY+vgt8MN66ledRMrvUwKq9vFQMtTFOWCDxeoSiINHxVpObY\n",
       "6C1g/UCJh7+/JKyztm4V2UKidYAAQsAAAAGaQZqrSahBbJlMCGf//p4QAAADAADnnP+ZGEf9uK2q\n",
       "TjQAt4+sDZAP/n+MC8fbo+zl8+E+5RGvjlpS+7+mCz68G+qJUFeo0creovjZRa8csYhHXz17MNYB\n",
       "hUhG5bdWC99KaRaz/IWL+grNdqoXy/Z/AkNNlLrM73cCPpSfPY+TqdLcxTeaFdbzn5KxETUFZbhd\n",
       "CtJhBNjG0XC6AGHRA8eX34lXnee4f/oz04I9jC7HF3q3yY2+wxWUGxJOIpL/IBiCXIxdZq0eH6hX\n",
       "cZ3HXu7PmLcQK8cvf7D0k+mljzbgDTIZ192vG6YHjqzYWQdrrzM8X3aCq2KZguTyQd/jqoi0mOQL\n",
       "xZrP/lgVaNNgg2kWkmVfb6Wby4Kv0M06UurVLLAr9+D1zmZjzpz4shP4Abw6ELbIP7bmY7Yra8KI\n",
       "GSXp2LMnGfOm+MkVO+0R66e6a9iFVdHwY41yV0h/ixXiUzFUXQ5YyRgmIr9ORl3IbRih31hGt3jg\n",
       "PrjpiiYh+eObMAcItvQGr3jOSkX1JLw8hHO8Keu1RDsK+FjCgFEAAACMQZ7JRRUsI/8AAAMAAEtX\n",
       "4MxWy3r/ZlE9xaTkQ+zVAATDn6uRuL9J5ym923KuATZW2gbPxut7R+SNgaVKEg+vM6NL1IrBKF58\n",
       "2ngLFoSXJdlHD8EeKQXNvtqVbGJmd/cpDga2x0AawwlW/w0eJmsqRQtO4lZgeHqE+9oOyaTeDrgA\n",
       "cskb4g4B8/JeA7oAAABdAZ7odEf/AAADAAB2mckCPAyBtJ3iYbcF2eXXAxnV5DOpa6zVqkelEty9\n",
       "Vwd2XsVKs/TSuEUNZ9V2HJAoRgWg/IU3S2/Lk7OoAmK6ZAWdekWvK6d/PWjH9FemZAkvAAAAVQGe\n",
       "6mpH/wAAAwAAdqAX18PP+OnVG/ISGBuwmImIhwot0je1aOdS42q7x6kEzNhyVVuE+GqaFgTw/wkG\n",
       "WGdHw4xdJYK88iGmLhhNmLyTf0bKSJg7CbkAAAHWQZrvSahBbJlMCGf//p4QAAADAADh+qxtcD/i\n",
       "Y5vfcF+IgANsfHGdZ9g9e28nQuZcUSfYH+LzACoysxeDdnbeakqylDG534X3nuljUEAUXRa/6q1t\n",
       "2mbhepKcOCIyimcbvd7P+bxzo/KiVsUzVoAtf1yDunk/PW+3rHkGq30r0btXnMUvmOCCw9fS8RkE\n",
       "0wz9cuVzs3H7grLWItfRMS/GCdHlLGwfC/6cUSUWV0smAJW2dKeUuvtpDaWY+hwK8aqWG3LhG2Cc\n",
       "1s2W6vBBAS5OqNT36sDMJNR5T+T6Hni3YxyVy5h5xGRtABg9tLv0uduXLFizLGidpdIrSKIuqq+p\n",
       "LDMFDGVPJU6QTjjDjcl34ARf9jcWpwYoEHQvRAa64DvkxmnI7VVjMLYUd+12IUBjFG6Qs08z/9z8\n",
       "EMzUazxNNwh1Ze90zvfemEJexNzHDwzDQGWJyyopAVPYkS9s5aWCUAu5BX/rQNxOU2NgOo7CghOd\n",
       "VDHAxuIm2bHkavJuIwe1ozGBT5UNfxG9EFmV9S0Wn2Du0K1OpX0A7jt9MHCn4WsM+g3SNtLvj0Nu\n",
       "HvjHikXOwlbQijYu3D0fHwOz3wayo5saRMuoPqaQ9Y+FEO8zUOamnJiQzzsAAACmQZ8NRRUsI/8A\n",
       "AAMAAElX4MxWzAARq2jsZVTxlIKAAsFIwtAJoIG3eVUH7Bz5dKzMchr3G06AgcjKaGNpLDQssUl6\n",
       "T3SQiyqct1RTuBOpejAguUXkwegngZfNxODUlBA4EWs/f82E+3+mgG2PoU4fdsK/A74SmghV/Nxh\n",
       "9QnSPE+Ae1qunGb1I5GbAHSZQ/TSe3V7ixKBOGn2sKEaGgsnoCTXItAB4QAAAF8Bnyx0R/8AAAMA\n",
       "AHPZyQI8WhTsefnZ8bFUhL7cMzRW6Uc9iRDsUaiMHt384hV4SVVwLCi0EuPwkPo5zmKxZx48ufpa\n",
       "suZUkSoTmthCFcnnIhbOedFBXEEOxWcUnAANSAAAAF0Bny5qR/8AAAMAAHPgF9fDz0OEWlzEXNX2\n",
       "ifX45q1KHxwYDCPMeLWf0Mizrz/6xEg8EvpUMEUz3J43BXV9kB7pfULSjd+OZWd9iNMVqbqP9yjP\n",
       "4A70iJ5ASIXAq4AAAAHzQZszSahBbJlMCGf//p4QAAADAADjfBqiyddnPaBhXCpEKvADg5Z7+fJs\n",
       "krNQ+hGjOKBkx5wr/khZy5ICjcUhyIl4d9UEzO/W/Mu+7kV1Y3r13zDWZDbw9unbFobn3GWHOTZe\n",
       "e2QwwwWhTzjKxt5N6u1K4SQ+kIkXLqKp00CX0JWM5kJeI7We8ai9sF+pL4yf4mO9iRq1XDll/JU8\n",
       "zroZk9R1W1TpsuRW0JRxFft1wPKxfG+ZA2R0yf8B/OYNQZO1LepuEUu1mPdsisGDOIkWD5TPOZVW\n",
       "Za0hUeQBgM/opYTc3NBXtituV00pGZS6VSns9W29WJFibPfrsig2AOQkZ/fJ+JyAvwT87R6peTXJ\n",
       "EF1yLHLEu0me+CB6sdCg5PQszADLvpDf/nCWQEWDpFKPZKwxs+haWy7N5HEJumnFUtuD9ipQfJzP\n",
       "UeZpumJVM7dEE1IOq9K3YJ0iV+R1xLyDS16kfuRfQLrSOI6spgoG1tZKDLeDEjrHtHQ9F5OHNLl3\n",
       "/OSFyU0jzzN45PUK3Pd8YLCrOwdnGp+1uVD997rbG6coDHCtqYfCyWCEyouAAPK+Kq+d/RnCrCnW\n",
       "/e3d9gCdlsg2UFGFnZBQ5Qlt1O6J5OHRmtcLalkiwk43pyWaOFqBEHcYFIXF1bj+J10VdUYnWrga\n",
       "QQAAAJdBn1FFFSwj/wAAAwAASV/FAhBXNR12ZEXZ0dtU5QJOTGuVJHMna6GXXNw2X0GgOOeKqqEF\n",
       "f0iQ3aH5HSgBvfV9g/9ImCqXz48e5KdkwbUAKgrXhUfry5C1ZXPl76Kv+hEPDyFDeuzxak9ig2n4\n",
       "qmYaaTDH49CBRmVOerpaCT38erNm2EGzMVFxw+75LAoWofVxBqqKAD/AAAAAXgGfcHRH/wAAAwAA\n",
       "c9nMXFTAqDUOWJEnUapcAkQ9Wv1FveCaWRDoX7m/e5N4IZaOFjt6WSL454xAFJY6bx/dUkufvFGc\n",
       "C6FkW9gC/TUoyRpABOsLoZqsnjnqqqAAAb0AAABhAZ9yakf/AAADAABxIBdV7QEYK9YT11cnXNkz\n",
       "OdPF3OtVinGY9DO0SrP5eY14eFTvwSUIncWvqrI+2DH4F8gxzz5NbYegz95UOFHxmGf+1X68rACR\n",
       "l5qD2u8Zxo+8wADxgQAAAcpBm3dJqEFsmUwIX//+jLAAAAMAAN972ZV0lC9rDIkUEARvsjMrzwLo\n",
       "aQkTzSxNorPl2K+zJ9oiUYTXQgwEI0+Ps8aQtW2ehzfPEkGMb0k8PGSWmegaVs9Sd+MU9C78yhGX\n",
       "fbz4t1LbsFSOFhkm5YTmgn7Ka3AivcdxkKH70CKOfOmiJWAtb7Sl5wlv2VIg8L54KxDFAmRFatjO\n",
       "TydW3XQYLOLtgN4n+Edj7tXRVRglqlGYccOY49C6vvco8VYGjFIRBgtG+joC1FgUM9h/BufwBwKZ\n",
       "9441fE3rRHAT9q/W8nRamps5M4YCMMltGwO8qIPKAGYOB1j3XY7eIXfkGMJDOFzEGUAt6sFLTC1q\n",
       "rVRcJGwrgUfQQer4U+K3F7C6WF+NOArwQduUlYJafXR5TEUuIAsSnBkmHLdi4w3UWFWO4APFTZK9\n",
       "Fes4H1PhXkpaYJro2x8uY8fpGqW2KXx05QHMHnTODFP00biZU4W6IaCXNGmI//eNNXcXg4yup6SG\n",
       "dpcj4GHNPFwyS+7ogdIxlohX874hO4qpJ8FdpIbBGYoUGLg4u3Nstg4Ol6us/5CfngmHdgKy0T9X\n",
       "wFpoB/tbGEO8qvu4PFJWYQjReQAAAIlBn5VFFSwj/wAAAwAAR1e+TDYsGcALzPoY/F1QTE6g1y5y\n",
       "SXPrsi2htfl/0/EumleiQacWWrh5Pb/7jIPtt8uHMj93FhYMekwx8wtwDEoPbeZWNdOcqFRvHANJ\n",
       "NFDcGLaehqckQYkmOdCyAAlE/kCyrLEBID76d+lAL8WgPS+h+Kjld7oUxfg0YQAAAFoBn7R0R/8A\n",
       "AAMAAHFgsoqStOmbMwC9Yyj++4QGePCCBf9tmM7eNfMKrhUKAByDidKIvYmcKz8IV6yWRXCiim0F\n",
       "mflu8Ftl5g3ELbXtqQAhSus/ce9Tw4AAEbAAAABWAZ+2akf/AAADAABxI7Ta+eybDTsIfFoxezD7\n",
       "EdABfFVuz62HaVA0Ci3DTnd3q4ExQlJWYCWqoAPaqglyfMKM88fu+J472ALO3JxgKFfzKsSW9a3w\n",
       "CPgAAAHyQZu7SahBbJlMCF///oywAAADAADZLPKclHvES9+MOYAHSPPFnPqhp3x+E+7HJx7Rd4/+\n",
       "lY42//xPc07ZLB5/NQwFQl95vBfouMbriFIHzC83CNvb5MoGteZ4exacTfHpqlrJGZgOSZ5+wQEs\n",
       "htCEIS/EzkgnN3GjQ5fagPxhOacD8uksReexFo0vMZsINNFFc1eBIACgK2NLHob+7mhpiuvZw9c8\n",
       "lrBOqy99S/0yPHzxt8QjllGFpMQtICfbQB3cbfHGQMsF30AO3HjB3x1eYRkiz91xTxp3++HPkk8J\n",
       "D60/bAipq3/ffMaL9hy+/SW/e5ow0e4K9okMAh+eWwAx8w2Qwx8LMJkl9hn22FvuUt66UvbMM19r\n",
       "GYDc9MXQu7XY7LiGwNdqNLVegP5GTBmBzQQb0FCP1wMxACw1DhP+tljCgQxSjVOZHEDRmDg3MXpE\n",
       "6mC+/5XVD6BYb6UmXt10HNRe116vk8VdM8lByuYa50yMi+K43R9YHGQd6tFuppA/Mdbb7u0H2VUK\n",
       "SnhcrW0bk0po2bnl4hYBhLXX5L66JvEM65/oBL51VRiJCPR/YWN8900knuD4TMpqNY2Ju6rfNFqc\n",
       "ZfOiFWYrDZ3D3jg25mESU//IN1S/eWtuA8u+G02wSpjd3mTLib24iNRnoky8UmcHAAAAmEGf2UUV\n",
       "LCP/AAADAABFV+DMVsxnh04BzPwNcDb//7yH+fnlZHdaCYGBy2oZDxtufBmh4Oz07GbG5QSnwOIs\n",
       "dpMk6HETp/uzd0pJAdfvQ0xaAtnJ8qTqTaife7iNWolN+EQpMtvEkH8OjCpAUjXZbt/54AFf140X\n",
       "nIFacx7V+IKvcv6zpnVSkbDEh8ywxmx0Y8yQwFGl5I+AAAAAXwGf+HRH/wAAAwAAbmjXDTxT09fb\n",
       "FOUa9yN0xhAXO1UXXudWMNGLXxMLIz5fIJIWAJbfbT422Zm2NcfvfYOxHFgbE0ngfJQ2IAHgpIEp\n",
       "Nci29SZd+ifsIbBtjAMzXC0gAAAAWQGf+mpH/wAAAwAAbm4OL8T/fUoE5R9gYEQTEzlFR7s8vsEh\n",
       "B9Xo/9AgJcMg4UuEeEhTIp4U+62Nmcp2PfEiHQiotRDiVgILdEKkzuhj3h0hBxO1vwa+qO6BAAAB\n",
       "4UGb/kmoQWyZTAhf//6MsAAAAwAQgstAiHajF+xiNnc4FzcT6FPOM/h0rLk/eqAUi/x80J42Tm9L\n",
       "jHgthcVDQKg3S8YMHN3rB2kDEEh5CSzow/GnQjLbSRMhoycEBHGRFyw8NT1f/YnaDf6cx8uIt4OJ\n",
       "Q+Rxg+rYsWNxRb90IhQ1iateAMuGhmh+AX9XKmWK5tfSlDroajRAVPLWsFwmfqRyAJoyLgX5Lwai\n",
       "stkqxfKWFaKsmBpchzkTRj4e2HYxGqfQ0ANJoH40EVipiVNwmLrcbIuOBWu7ZaNS71kmxZvlI4sI\n",
       "jVmLNHw3loMGB9FoPWe91IhKNq/6LoxIPeBCMJOJawlX6TNWIe8iglWL93eoaxIH6KEFsi/XPqnO\n",
       "0rD+w39vv3RpkfBueS/08qMxR9kuWtitDtgS/KVj1EvyAPRAOaAl5ArctgJJIaqsctn29m04BSbD\n",
       "JjCxICGJYpfAhK2sdpPm/vOWOCWToJeNHsOtMpMaeKvI21tc8WcoCm8TQkQvrQsAlT13vp/LommI\n",
       "/6a1uVv5Kn4ERgvO1gIrzRD5sQOKYFf1IwlvT7fUtr3yZzIJWjFT8VbTQiN/v9U0961gzG5RSjfX\n",
       "thbXvMoE9q8lHHgjbbtTXo+OP0X5LpiZvfAAAACHQZ4cRRUsI/8AAAMAAEV1fbrQC+UaR/FBixJH\n",
       "ntmlgELU2XDgtmOfJbHxmEPSKoQ0rGHbkdojr13tahoamVaPANE9Q7J5Z1wo0YXWhHdgFuL4725c\n",
       "tm5JXRWeyjHCJva4pcmRSDCyJsFyM/poAD6w/1eno04DiZNXTtc6rv3wqXcHZITxYwN7AAAAWgGe\n",
       "PWpH/wAAAwAAbn2Ou2gGI3vnluG4Rz0YNcHzQEAvhQWgvUN1Lnp3YJWHXJ8vW7Ybtr1Wn/B8vyX2\n",
       "MIspvklv59LzegC/wIr6elrpt13ZNWnkkrMLgAA9IQAAAc1BmiJJqEFsmUwIX//+jLAAAAMAANQs\n",
       "5pySyMTzH0ORwASTQBKNhnZh2rLissCb3khuNwEASdnpSKIVwVRZoCw1Ely16BiWyzPMD38ygHAq\n",
       "RJCDk5XGB+o0PzTrBm1YnK8khmImdEOGWAhzdtEZQ5ztMlEqcBy8S2MWlARGPrJesKhcbgy+bpnI\n",
       "YumzQx0tEzp3V1JhRd42FYNxbA/3grWGx0kC7d80QhYLzFRz8tBDAgN3T0+Txe6jUSViRIepjjgL\n",
       "5bAVW63oi+azM+VFnGeF4ZqDOwSeS0YoDwHly54/eXM84OWoPx5cNmgTnHCxZDPHhVAkinR26t76\n",
       "YqKmB88fWCYGl/dkuNW5A/Nyvx1wVW6vCqBNuvgK2NiLEFWUlB7vvWZbf5D5C48hB9NCmaFJAytl\n",
       "nugFs6bBsXx/ERbbDj7JdjXMlFMRi9Z6eU+U+Vpp3R8aBAO9C0cufxh5isuwUTagN8bSHH2lh8cf\n",
       "xa+kVFn3HoZJc//+dLw/uPBr5pfNrur8HyGTDESPaK81Id6IyeiK32MfuQ7xqTthyyXaYRqwYx2H\n",
       "uCH/T/aDuvneHGRffzjCTEB4k0NQXichygBfjTonoqC57qwYdbsFRgAAAIpBnkBFFSwj/wAAAwAA\n",
       "Q1e+TDYstyvwRNKgaP/RXFY+PW3Tt44sGea7MdP4wXN4Uk/bAcxbcFzpV68l8vxYYC4xoOmskF7H\n",
       "Mr0shE1Cz01ttHZMsbW9ahf72glrxDI7fN92Ye8XvKkZlCFoC8aTFgAFx3xtM9N/2/0a9Zo5I9n1\n",
       "57XkGVwY1NyrFtEAAABfAZ5/dEf/AAADAABsJbbylUIIAErCRGPKWKDRr7BApYeC4era0oZDAjTM\n",
       "hZYXak9bTl7SewY0QgLnMTdNY5wpkgbBoixd8MwU8+ukkK3xM4euK6BBUAH4PanaAODYk3AAAABe\n",
       "AZ5hakf/AAADAABr7g4vxP3V9XtWtL30s0qLB/mdYyMaHCL1mYvQIawshg44K+b3iCe3in6cd5uA\n",
       "2z5U1J0N7Dgji54BRHG847cW+gGmwEqeI815neIy1mgAToMUEQAAAP9BmmNJqEFsmUwIX//+jLAA\n",
       "AAMAANQtwWpzTZ8jFAbvffPDzqlIoAEDMHSM0YDtOF7h99ljp4/OtmhxlkdesCqN5GtfuFOONwfB\n",
       "oT2f9if1dkIft9Jaa8G6dLWuJqRrgHwXD8AVGnflr8Hji63EKca/BTJww476/P7sbm/sRoCBR0sg\n",
       "KjR5DmvV/+Jrhkwzdvogko39AptrYurb4sX1/xoX4PGdWVi4GnqgiOahXONFKv6hrsEf2dfLDTz4\n",
       "thHuOtzN7LvLPpkThXG/EKw4bwVnQgvOICteeUk2Y2XCh2k849SvgXBhstvBvjaB3lV48hkhqxlB\n",
       "vh7B3A6JEAIVH8EAAAGfQZqHSeEKUmUwIX/+jLAAAAMAANV72ZVTVgqe+RsGaYx4gAQNXsyXEvaf\n",
       "8Jz/I+EqwcyXYo8ihERsJkX93mPPUuyoqJ+HstGxjXhKUle94q3Njy0QMTzhmvmxmYZTb2knWLOe\n",
       "gTFao1vcF20aYMfrGSuYn5m2qqnjCWfbV/8iHvgm9si/HXoycxJPJV1hduTdeRFBo+wJuOla0CGa\n",
       "KAAjQTZJwJyEf0lWm3Nx9+rmIqQ5axybLuc8/SGOM/aohV/wnhsV2q+w+VySwdMVsMs2No2WXXNk\n",
       "15o7m4Zdwt6pxmlsSPwW/XHmk99tPlm3F2Njujfi9pH5KNfhXHbB8S5bf67PsVh+AHs/qmJAHxsV\n",
       "EWkhHx+AvNUa+4X7fJjfxK/I98O1k2cpVC8ocyidqTRqSk6h6RLYufaJTWfOAGK5Wo58p5iyNDZn\n",
       "ZluTQUYMhYZKiCkRbHaqmEBx9USrRMdrCKh3DlnuuE9Syi5Nx07VUXKnj4XpO0dF2si3LmMdLpJA\n",
       "/O/Rxc0B9/cOqVCLzSszCGmV5V4EW07BB874dRinoAAAAHlBnqVFNEwj/wAAAwAAQ1/5+kjTI4cL\n",
       "t+KlP/GqeWhE56jgNgWq0bIFJPiFhN/0/Qe44Aa/PxkJnu5udyTl2N94GP1ePAQanN5qc8GTQK5w\n",
       "ixiE3fSd+9qq8lzOEvem0cXx7ZXGtVGcDaBFMfl94v0lUUAoYBujTIPmAAAAVAGexHRH/wAAAwAA\n",
       "a/BGNfGUIOvwnWYsIVNPUQ7HJlHHBP8LgsRyQNmVncaEiNHB87VGUp/Q1t6LjKrZCPmbXVf8Rwp3\n",
       "PXeFHoMdNcvu2bQB7Scg4QAAAFkBnsZqR/8AAAMAAGlxfoasvffUF0PogGaxokacwV2HCphBLwTG\n",
       "PEGYqWoDZoCF2gAgQLeeVqmsUWI8YEKxu0HaeVcnx5BBKh2iYeAkX3109XfIrpdmGE8CtgAAARhB\n",
       "mslJqEFomUwU8L/+jLAAAAMAAM8r+cP93YFq2UEAB/3fSJRa9L7kZ0bC0qNpCMGC5DNfmEfgQPNO\n",
       "LT88LNDrqZGhuzLJyUILFYRXXeVGVNkG5MS9PVYXWapUOsNi0K5qYLST9EU/Dk9kwiNbeC4W7G7P\n",
       "pGVyjDKICfSBmAYWakz0H09/AZ7iiDd04Z8hokbekVhGpSrKeBo/dtTiD5sekdsClrjfAkF/elTr\n",
       "kFojqw9eRz7AZXEpfjZp0uFGu+FLVXSVy4WxJYLf8eQRjF3i+BmjSmuyDDoQIuhlOAzX5/TTxYGF\n",
       "+3O1cGz213Z9XSAU3neGGO7VTH+V9Avlr6zXObKaeOcOhDi0bhJ9fSOADWRlbcQ6QrHFAAAAWgGe\n",
       "6GpH/wAAAwAAaXF+hqy8RxOhPW/J7/fGYFt7dVi2cxybmToR0AaAAWuuwmCLMkGAnxjTFahVuN2c\n",
       "b5uc9GMBYBSSEEe+JsTVmcIxNOqxElAiThUA+0ol4AAAAWlBmuxJ4QpSZTAhf/6MsAAAAwAA0HvZ\n",
       "lB3W8j4uaYx/MADllHOVWhytGn4n/0aqS4Bi6yLO+OX41w7jwIf/PsNZ8ClHLiEyT6tgJRsGe/H8\n",
       "SUZ9CL/RxzFtttGdfcmfWC7NE8lBFXjI7TEaYA5w7atRZt+ujGY4D/K5h6+krxnTyXM/mvyIVBj1\n",
       "mOEaz6rGmu7b4wI/MiwSGzBYVG9EUcik97Epk0T843Ka7v2SzYnxHuFqLs/7qwsZ1YpV9s9aHkmS\n",
       "UoYqtTVLn9b4+bT/1PpgaMXiyh/zzPx3cMY9pxw2jpqptUIAPAJlM/bksx0R5rG8EbZdEcKBSSZm\n",
       "elnLso94SDMgx8jrWA5jiSfqDd0apQhZeYuioPjy2nKaq9r94kMBvFe083Q0xTkJRWMH1DawCI1a\n",
       "w3WLIQ8peKATh2MGHmtTHu3QMcVXaGLbok6MxjV5HshwCD/g5VjC8oTS4o0Ln32NtYr/2Zf5AAAA\n",
       "ckGfCkU0TCP/AAADAABBV4Mv+s7jj6F1wwU7F+1t3ySijgitsYrkGDuJSY2wvEM2dpwI85L/EUUC\n",
       "MNvmQ7IbNvNLweD72hJOvaTdwyIxVa511+GkrmBa1sFifWNkJtrvxwdSgf7VLkhdL7wRpn2FGQAH\n",
       "TQAAAF4BnytqR/8AAAMAAGl9jrtoMFp99wO1tEdyi1Q7v2+aMRqEZs8IlU4KjMpNtks5k+O+Osl3\n",
       "OxepCDtLVhhAGFO3N43IgWo7H+j4ASVlauPp1Knp1U0ImIrVCGxQAAObAAAAukGbLUmoQWiZTAhf\n",
       "//6MsAAAAwAAyi3CCnrZ6lA4xnUXzPFBAA5lgIQgX4l8VyD0H3VuaMA2r8BIKqdv6cg4cR2Smp1b\n",
       "EyDmIu59Q7JfwapZsMrexXTo6uG/FcvKML19amqJH9IvUVMn4HMI3FORn3jO5Ynz2jEU6cOD8dLY\n",
       "obTn/lT0oQCt/zHZcC0MfVT04Z84t9AgSxlMGa8KmprOl/svoZ//j5UadXQHvJ3KLrtVUiveVquK\n",
       "FWrrPQAAAQdBm09J4QpSZTBREsM//p4QAAADAADIrig1bSAD/TX42H919UY5dm7vdu1jUNaveR6V\n",
       "etlbEgF7eMdmU/3Zox9BG6vY9ssl/Z0Df3YTBagG6d9cMsJSXEyu9/d34eDbTkG6je5Acfvckj+K\n",
       "fEeNiogp8LADWHgv/3JdwIkxG8XTqvvxvYcbzuTi8X5ielWkIIXQ2SvahCxfq0WMcP4w+SFaCDvM\n",
       "AKwIxP205nm9qPBY58hYPbRrLn3Xhb7sLIqmuWuWx2od1V0J0iLMvAqC+CT4v3UFoNVcAbNLHpbw\n",
       "1utkWYkyARNl/cbqk3ymYjlRxq1KBzxoqAlb8/db/yW2en4WfAhXYEZg4AAAAFcBn25qR/8AAAMA\n",
       "AGcfaP9qzvVTKsDCcsDoQFBFyNgPyBSV6kJyI4QWwTSG+CE1OnzFsbcho2IoGX2FUJEan4LrBnYX\n",
       "UFdOUXAjfa7NpFiLV3VcgCryZDwAAAGCQZtzSeEOiZTAhn/+nhAAAaV5HEnFDaPADiH+AoCpNp0S\n",
       "ZLjVEislbywJ2BijooHQKREd5wLrzSLrsllnh5QmWa3Ln9m81kDG6VcY/QwDv9eH8xEwk2foV8T6\n",
       "npzUJWLgLvUxFe4hK+E/+fSwEh5cI1yQ45bf4U85hlr/LeC9wB6t76HCr1ec6IZnkwQnRjQXMviU\n",
       "GPxvCYc2jLsUARSllmq4GEujpS+vrEtd121HTv1YrheoCainKQrjLbOcQtLtjFoJJs//wE9hmmwo\n",
       "rO8zroHrdlHKv9xjYWNGhSM/hCzQx2S1YR605PYzIlZdc9nBSXhLdftKPp42lmbEJa5JzaY9ZsHe\n",
       "/auhEhWw3KSskSUyLJujVMKDR+0Z2M2GJLzB0HkxKQsELenqCYyT5iMjpZeu18HpR2tGocugie1H\n",
       "58UYX86htlPWD3JssaF1/l0plckrftegb7pfIKsaoRWc1okRMwGCNNkNKz1l79GKsMLmO5k55Z1b\n",
       "4A5PqKNsGWw7XEEAAACsQZ+RRRU8I/8AAAMAAD94fXwjYnVIdp9WMamrvcrxKH2Mrnnz812s34M2\n",
       "RbTV/KiGssxXQiS73K+oLxz6/cIADQJx4xmLubRN2+9uwzph5YHgFDlKzY2mlKqxXm4kOFUWj2Ji\n",
       "RdaF0jMzPTPV+ti8Fq25vNXoo0m/ppITZMgQuaCtK6k7nXNyiJdo1/iWm8TR8eRw1TCzdOCwv/4F\n",
       "/9418EQL0RisPgAhl8nhlQAAAGMBn7B0R/8AAAMAAGcltvKVnsDDwMinbg9E59hGX0J6UzOM6m2c\n",
       "lfD/iaaFXawh0dTL//VMwNOADjdir6g8Ealu5imcCULLiBzfMpgvlVUAKA0UA5FjNp2zv91y7Xx8\n",
       "AAGNz58AAABrAZ+yakf/AAADAABm8X6GrMFdr1ahLFO0V6eRuzOdbt7lUGdb++0gzH/DM+YwjnPJ\n",
       "lEe4AH86AkVsAg/BLxc+iRvwb21WOt4mAXDIbliD7jqmtcHXK+y7l3Akj3BGQ2g0OouHchyIELgA\n",
       "FlEAAAGrQZu3SahBaJlMCF///oywAAADABEEcBnLfQeuVZ8gZ3b3VkABOtCq5bsi2dGl/OHgbJYC\n",
       "11kXmw7abVpPzSlBBF4iOmbkz1L65FEBZOYl+PFrk7ZQZspMboFlA07660Fw3Y1nEM1v/NQ+owJb\n",
       "v8/xdYXAR8VjoZEu3UlXs2PDcczEryZHtaieDBTSIQvx2P04xdFu2Wp06s0/haRJLfjEOE0wN8CX\n",
       "Kn3/QW5aGxE5tSFBBBfF5PjhjrUfZoId6iJYcAlAH2sWscZHufcDqsh4WBce7nwRGSAErzpq5MPQ\n",
       "ck2dgPmkdnvbUMu2/pP9IX5GDPmAh216LMK3/YDRUYkqnTxNjvi1sOakGn8WnS1fCLSlDiv0mAeg\n",
       "4PoEJD8hzLfZikvdKqCuM4t8g/nhvRySY89Pwo1fjaxrTxiQ/z+C4k5eoILBUyTQvrqhQEn1kMgC\n",
       "hT2kdgtGswa1SRJNdHxP7NLABCO9U8PdbiJvS8AITHzzyDlZMe2Xzen3lZriiN1StjbcYXKFHCoT\n",
       "LxQDASNfwgL5miptxmdkl2fF71wUGJW2ws6uzbl4TQqNnwAAAJJBn9VFESwj/wAAAwAAP45sQ55Q\n",
       "/KwJpEeGibzmAVamBbHA1c45opOkok7bRJMW3k8Fs2GsC3LSSEXbb2g0Ptz6zKP+Jqx0yn5ABlPl\n",
       "5zV+ldk64yWo3q6B/8d9F/WGbjaVeP0h7zwIVACPqUrdGuzaGztJnrafVsNvuNe24h8a/5zlL8FT\n",
       "JTBV+xXbIABZ8PtkDQAAAGUBn/R0R/8AAAMAAGbwRjeSYhLUHpF9YUINVZvDIbc5sX5zIWjFDq1e\n",
       "6+yIa8NoFsYt2DLI/ghFxs+lBkGkLai16AAna3oE2+3sUcJRXiDyrzYb9lOIQJXFn25saZDY1K8A\n",
       "KHFDwAAAAGABn/ZqR/8AAAMAAGSgot+yaMekhhUbyH0VTqvzk5MD8ePSYXPO6ZSoKtPMuZ0ifgcz\n",
       "t9ap6V6ntMD/x92+iK32p+Ru/BzMOohPgAml0gDR6ChIOd16sfNP4+gAALNzKSAAAAG3QZv7SahB\n",
       "bJlMCF///oywAAADABD8pCm2iWwAlmoxBzArIgT5uV4l5SLEDylneTRlD82trOK++FeoJSIN8wHc\n",
       "tOQtbP3A6u+xllpXWxXiFizoUqjFMUHhiJ9HsxJUl05W0LrBffZYqDMinwOcsH4WJTUwo3+6e1bx\n",
       "5tgDQ5hH+i2lKfJ6XeHR0vpSJ+X7EVqs9PUnJUoEpoXG4XovDjWJO4Qxpy65qHX1QDhjKWo2Wy0p\n",
       "ks6SfBKybVEuaPOFww86k1B39ugcKA6vZtbMMbxyUodD5X/gwjZCi2gWZvbasVNlNToyR/zXgO8b\n",
       "NyZw1H9iJmZLuaYsxDRFGlvrzXp6HvL6wf+ZcGGeHqV07cPHBk7zscoDmfjKjAzMJKfD70HckBkI\n",
       "l0LFpx4x8LMFUqNhvdNVAsm+8q4NIzCbgM5kkLEJM+PFHvDG8BZWkTKcirAUoQDUAwn9baNzdUpa\n",
       "0aoSkZhUeNmJNEAOjbOWKBGfx6Eqb7SxwJ3DviA+510RnM8PpsHK6lcE2lB0lTvbTT4EeoUryIkF\n",
       "QFAXUT5J1Y8w8UiQgriuNMH5HCi5QWGchpQN081/612+gQAAAMVBnhlFFSwj/wAAAwAAPhh9FdZl\n",
       "7n5GlRiPcUAARKEh5foQ3+23Psa3q/tUfviU64EIflRP7oOckxureeSYqBjImuwu0eacTcGgcp+y\n",
       "cUkejDrLmdY2bXXU9DLxbgFSqEX84cxBgAjNC700VFwWUmOArxYGfxiAjiDATygXmsaV+XuwIDEp\n",
       "IN7ZGPp2PiThbsrAtPj8HiGyKOXSfv8/1hiJWM8y60Gnj7aJEEG1xIjkBxAqSEn3tl0apmrMCE8b\n",
       "kO4vWKBBUwAAAHwBnjh0R/8AAAMAAGRqS1bsX7hCkXRFRhidUjXw5q9deNdeiKP7P8TmnVsrTJBR\n",
       "VMNFvXXZIQuBItK+KmLN3oG2b0zaIPtcAD2BeCc/7+gAmfW65xgIuKUprNqyWlgDX6pxTVcY5A0X\n",
       "WyD7enY/h51Em8lZ8sCgBK73mgbgAAAAewGeOmpH/wAAAwAAZJ9pJ96S3Vxcv2hrO1EFO6LbF7tZ\n",
       "qwC1aNQddB9uAH/KnEjCL8ycIi/sBlnA3l0555lVOc4/eRbAJdmWj2NeJObluNCd5k+2GrX68AJo\n",
       "3rL839gmjYA3d/UMpAUzUOJX7rfaue88JzboUAAuSS1qCQAAAbFBmj9JqEFsmUwIX//+jLAAAAMA\n",
       "EQBxFGddnn+DQAXPLAnAJwlxKBfqbPpNWrO8GV/sh4U9sBCAGiLjgDczrYf1HDcdyOTetKvxpy+z\n",
       "ol8vNuel3gLiFpUwH4Cdvv5i4S4soeF7VMK/bXfvgiqQNGmWS/wVQb7x3mZo2cath4LKs7uhXnyd\n",
       "q06lyCtwo/vlqlhmy4be9QFlr6FU1io3ylmgWyCuDDP9oITCNtsLVdTl1iXdrZWJjwZ2puS1NiJ6\n",
       "xelQa4BBbVlJe7DAhIUGiE+uf396TpRTMuL7/SvRNX9lk7gz0/sjvMnHARe16tutMZ9mJ/ZqvucS\n",
       "bqgyAtmBee1wd1jfdbArRaUNNc7Ty5DzcEFUKew7Js/gOLHpXBGvTkC+d6lazXoj7r71TxW+HgYt\n",
       "wcX4dU3lscoCnOQigQrQNy8M7aRcQzCg4v0zUm9LVJ76qyyhMIHbNNZxsiv+x2UwCQCUjADAbgnM\n",
       "6o8P1LXgtCFFuy4wsEPohk6vtk8WKxWg7N6IhDe1bMYYr6n15sImySpQdM1S/SdCI7Rj80ejJBL4\n",
       "ijP5HYgkTalX+T/4ECfAAAAAr0GeXUUVLCP/AAADAAA+GeqCgnyD1JPLbVL8tkqn243kQHEQoAAz\n",
       "74lrdZacbVPLL5WP2F9OHPB2mYlrTXSTLrk/ZSCLKHZ5r/66Cv41P/gx11aV/LhD1EkdJRCvpzrR\n",
       "IFCJ33pMzzJKAQy0+2yH/JLdk/sH3TtC4TpkuBsicB4RIFXVcOS5w7U8LJd6xrpgffJeyxg/8w5n\n",
       "2mvLMPxLY4G8xVdifseWYjgFPoAAAysAAABvAZ58dEf/AAADAABkalCW5qUpkjRNEoFNZkgDqzWj\n",
       "7dMFRfQUWweQidCyw2lRf282a4HZ7bQidlgKT3bOjK8ZBixWZhsORmG+EIBM9WwfibS2ZIcBX6bC\n",
       "sdcj5nzyAA9f5k/WSmYOovsrqFwAAE3BAAAAYAGefmpH/wAAAwAAZHQrUTsnGvqWh/DkqtAU5+Pm\n",
       "O4sbvbD+zJ6iwTL5AqmvRLe2UW9fkWNlTnDbYwMsrNFWtco7NEAaoYol4louXoPt3KXNk1HFhkKm\n",
       "CL7aW/+I0AABiwAAALxBmmBJqEFsmUwIX//+jLAAAAMAAMWKvtIAFqAwYaB2ao7xM/5cP/horOHm\n",
       "c5rPCtBmTT6VGo5JKxtEenWqMVKnVdwYf54dR5n47aZgeFdLnDFze15D4UlMa64b7zUQqWOB5pi2\n",
       "Q4ZF6qtTFhVvSFeujpKES/wSFH9sWfFCPSeRxccVRdpLYXxNV6gFfjRaB8JXlmv/BQbHjMniCNVM\n",
       "ceOSMXk/XeL9i+AUlLa3uyY0DA1wT/SwEHr3jpXfgQAAAWRBmoRJ4QpSZTAhf/6MsAAAAwAPr73f\n",
       "NMbRZ4AsA+d8KMzxHoLqNI9N8zHDoceCDjV9fmC5ev8C64g0pus4K7Scd3cPaz8HxGkYQFmp7K3n\n",
       "9zYr3SiDmJfi+SCZz6Z21jzwFUnHDHBbaOj0vL8sYlSMNMD81bN7GHNSUThMPeNaBGD1MlcpLcAw\n",
       "NS0X52jwz8RPXw6KuPlylmtW1LKUH3nZcID8GPHonCkLbYWarCRSkOMEr9X74OofajWRL9x+ZUTi\n",
       "A0hngiFWra9q3ha0EzUgbFWuRtQAekKkihliKUGZ0cKj3uTwUgJ/YkJe6KGKKHatwKiwpbJ9s4cm\n",
       "Kh3W9bGu06l20fjwI7El5xo2uHOU98dZ/o9p9tWQ6QNTi+JPwgcZpzQQPb4Ds3dkOH/x8xo1PUrQ\n",
       "rL9cXDfeaS6OjJe2aZ8T6Vc8Km94CiYZrdPSUckJXklq59/A0GbqzT62W7iv6W1LgAAAAJtBnqJF\n",
       "NEwj/wAAAwAAGvO6OuYI52WG+eCXnw68M77EUizIeT7lSqCZ4n0vlcsvlXr5HbgC3DMmlrbp4ejb\n",
       "LJSsvj4AJ2010Bn5d5ltw3tP8TmDyTyznbn1CzIZPo+af7q8PPF3vTjnjOiN+TDrtNH0ZVOK8hdp\n",
       "NesSFv1RPIXWXKa0xkUqVhtfOayjWwDcpct3HN2gAUMnJWEEHQAAAGMBnsF0R/8AAAMAAGSu6bv4\n",
       "Oh0D3RPtoK8Bd9TSN++mx5KacWlKf9DIn8SDbAVt4OmMndrx2WaN/pl6yPEP2p5kL7wRHFNBOkSa\n",
       "Rg7iwlNN8HQdXKj7CBdvuGN7Y6of6GAAAXcAAABmAZ7Dakf/AAADAABkfbTvvM/X8AACXojj4tJz\n",
       "0vodzfpp0fkYD1isz46ytSNI5zi0KFo+yW9OZtkrYWJSscC+rvV2eDaezyK6TxZCiB/m/o12z38k\n",
       "Oceb7UFSboBlYb1b9MgAAFfAAAABgkGayEmoQWiZTAhX//44QAAAAwAFiQpEgIAq+Cem6c80JEG9\n",
       "Nd26hsoDE19ndmtjFQ0BkMYt0FV3Rz/VtwK/COZJ3qppN1zSyOoPoeYkhRAqVSPWmZTvxKQX92AZ\n",
       "r+vSab1rIVxUv69LU4Wd+CTzdKTgBNPskQe0Yi7p2Vjxowq7mSLicYDosmhr58ObI3aV8nFWCqiL\n",
       "7M9eNob9ZhtyT8a/mAgXBVZ+XAWjf1FSvuk0LL2DDZIf9BzfC6gCB/eLyiAigh2HTWfLOmlzmtWi\n",
       "OP4M2jm6FNpnsf0DUj4yLQjIv4tLPSYwF88Ift5Z5dwrmhUXo0xQQuYu6seTd4PF7oqm3gkjgl59\n",
       "CiRw1S19eGAAqZA8LOCORsKKxD+wvb6g4vZqwq+NbpWizTXbQKvYV54Pg+Dpy4pYFWJgP7kswQoL\n",
       "AYe0s+apqg/kDmPGBG89wKbDXL6XZx2cPY6KUjncC4aDPuuHEY4I+GsJfJtcDFENd8apMXajMpAr\n",
       "R+EHUJkvEMxCAAAAsUGe5kURLCP/AAADAABz8kjzz6Vx7Z5p1tY3hJQoX7PoOXPRACvbi0CRzxWv\n",
       "Q2k4N0pRnSXzp6UJIhBL66O/1DUIVncLrXUiVZn1mHBlzkEUTs1GA50M13HtxwX4y5JoJgccyTsP\n",
       "ElIZGvl6/9N+aPO8mRpE55l5WmufShwIhKf1RWgYYx5q5gre4hOBNGu1obTVYwcmt3/WZ9v44ufV\n",
       "0qvhkVukdNrzXLnzwANtlABLwQAAAGYBnwV0R/8AAAMAAGHwswz7bNOco2YZRgACaYhjDamvMtlj\n",
       "9swbqk5KYhgeXb63FWRb+IVTIWA0HB9C/Wgn0dZ7rRYmB9tjlE+szsfJgSMJSVVDrtQ1dtFgZlYz\n",
       "TsYPI1rAANuAb0AAAABxAZ8Hakf/AAADAABh/uYGppOK7ysUDvH0ogGYIx3EKlLd8ZtgAEv6peE4\n",
       "B9hNcjdkAnyT6+2xKPDgPRwoGfG8r2W180P6JXId2a0Dfzgb7izariXFZZpJts3LIIv8c26jsMN7\n",
       "Z+oyxoiXx6wAq1knKbkAAAE9QZsKSahBbJlMFEwr//44QAAAAwA6PucVc4H2KVw1TBvAoWQlsBk+\n",
       "25U4n4Ak2hjw9/Euf0hQV3TPMd6JA0x/BbXyet/K52JvSr62wPMDFE9pR6TQAWKnmZLFKEaygV0s\n",
       "PloNK5Q/gTmc8R7krZXGq+AMBsrVSgBUywvUkW5xPm+g2AyFQNMsXsCXC8d0kkLZ2t+YlItlQure\n",
       "57ah/bSJoDFlSrPiDM4r5NRWJx5wooqxY3gpIbZDTF7TXRP66v974hDPPIwJnHPyaZ59MLFJdoeg\n",
       "+BBzR6nZ87bsIcaQSSKLaqeml323EkRUCREIIbr/TpN12SX07tBzUzjA+1mT7UqY3/oyLqLhaB3U\n",
       "soneA6ySLfSEM7kBOKW/S4hOzyfnU3Au47VlslKby1KLfTo9X1IjZoFdz8D6k8hZd4AAAAB8AZ8p\n",
       "akf/AAADAAC1jRjLTrYMWDluMoHKdcJaDbTL0TIzeYl1BlZjYvujAAnank6SmCCWG/X+HykRFAL3\n",
       "WgctI1PF9/EA73kduQeMbzSLC5bCkevcc/UwzuQB+jBHDxXeW/IDmaob48YZ0O2iyNyDBfNNLNGv\n",
       "NMugHD8NmQAAAJBBmy1J4QpSZTAj//yEAAADAABRk8LaVgwvNC0IRZ9dRcV22YAXFZBCAq0fqBTl\n",
       "VAvOb2uZo7vMISFztAWNU372p5dzqjsZrb+m7DYZdp8dujVlBdIyUg0ORsr/JLDeRtQ61X+2/AaE\n",
       "cHEWY+sD26doCBZ2zoFs3cYn+vf94e3mksrtyWa8Z5rCswQAAAMAAl8AAACjQZ9LRTRMI/8AAAMA\n",
       "AHQWpWXqi60av3TgAj3UED0UAHCW49GO/5gBLKBhwsXqQxT0effr2FFnptsflZ1uqTmwfpMGK1Ol\n",
       "cXRN8fNMp5CxSABpzsSlOstKaAgP+FNtaAUY2JeqtYivpCu8ifk14RWyY9susehdj4UqJQOYHEui\n",
       "HiBYD7+YX0/Dv5qV5QHRwseitm0jIBx0MiGRh41EyofAAAA7oQAAAGgBn2xqR/8AAAMAALpwrjIp\n",
       "TXoh8gzdrJ/H+qkyDvCqCJqscCMp/Gy6r5xnm6+xoI8MOu/qqJ0h6auqNwa+WkkZA9uQRVg6QcqA\n",
       "BLUyFAbRxZgm49BwgFH0+S3S6QjjJZYb4rhTAAAg4QAAE1Rtb292AAAAbG12aGQAAAAAAAAAAAAA\n",
       "AAAAAAPoAAAcIAABAAABAAAAAAAAAAAAAAAAAQAAAAAAAAAAAAAAAAAAAAEAAAAAAAAAAAAAAAAA\n",
       "AEAAAAAAAAAAAAAAAAAAAAAAAAAAAAAAAAAAAAAAAAACAAASfnRyYWsAAABcdGtoZAAAAAMAAAAA\n",
       "AAAAAAAAAAEAAAAAAAAcIAAAAAAAAAAAAAAAAAAAAAAAAQAAAAAAAAAAAAAAAAAAAAEAAAAAAAAA\n",
       "AAAAAAAAAEAAAAADhAAAAcIAAAAAACRlZHRzAAAAHGVsc3QAAAAAAAAAAQAAHCAAAAIAAAEAAAAA\n",
       "EfZtZGlhAAAAIG1kaGQAAAAAAAAAAAAAAAAAADIAAAFoAFXEAAAAAAAtaGRscgAAAAAAAAAAdmlk\n",
       "ZQAAAAAAAAAAAAAAAFZpZGVvSGFuZGxlcgAAABGhbWluZgAAABR2bWhkAAAAAQAAAAAAAAAAAAAA\n",
       "JGRpbmYAAAAcZHJlZgAAAAAAAAABAAAADHVybCAAAAABAAARYXN0YmwAAAC1c3RzZAAAAAAAAAAB\n",
       "AAAApWF2YzEAAAAAAAAAAQAAAAAAAAAAAAAAAAAAAAADhAHCAEgAAABIAAAAAAAAAAEAAAAAAAAA\n",
       "AAAAAAAAAAAAAAAAAAAAAAAAAAAAAAAAAAAY//8AAAAzYXZjQwFkAB//4QAaZ2QAH6zZQOQ754iE\n",
       "AAADAAQAAAMBkDxgxlgBAAZo6+PLIsAAAAAcdXVpZGtoQPJfJE/FujmlG88DI/MAAAAAAAAAGHN0\n",
       "dHMAAAAAAAAAAQAAAWgAAAEAAAAAGHN0c3MAAAAAAAAAAgAAAAEAAAD7AAAKkGN0dHMAAAAAAAAB\n",
       "UAAAAAEAAAIAAAAAAQAABQAAAAABAAACAAAAAAEAAAAAAAAAAQAAAQAAAAABAAAFAAAAAAEAAAIA\n",
       "AAAAAQAAAAAAAAABAAABAAAAAAEAAAMAAAAAAQAAAQAAAAABAAAFAAAAAAEAAAIAAAAAAQAAAAAA\n",
       "AAABAAABAAAAAAEAAAQAAAAAAgAAAQAAAAABAAAFAAAAAAEAAAIAAAAAAQAAAAAAAAABAAABAAAA\n",
       "AAEAAAUAAAAAAQAAAgAAAAABAAAAAAAAAAEAAAEAAAAAAQAAAgAAAAABAAAEAAAAAAIAAAEAAAAA\n",
       "AQAABAAAAAACAAABAAAAAAEAAAIAAAAAAQAABQAAAAABAAACAAAAAAEAAAAAAAAAAQAAAQAAAAAB\n",
       "AAADAAAAAAEAAAEAAAAAAQAABQAAAAABAAACAAAAAAEAAAAAAAAAAQAAAQAAAAABAAAFAAAAAAEA\n",
       "AAIAAAAAAQAAAAAAAAABAAABAAAAAAEAAAUAAAAAAQAAAgAAAAABAAAAAAAAAAEAAAEAAAAAAQAA\n",
       "BQAAAAABAAACAAAAAAEAAAAAAAAAAQAAAQAAAAABAAAFAAAAAAEAAAIAAAAAAQAAAAAAAAABAAAB\n",
       "AAAAAAEAAAMAAAAAAQAAAQAAAAABAAAFAAAAAAEAAAIAAAAAAQAAAAAAAAABAAABAAAAAAEAAAUA\n",
       "AAAAAQAAAgAAAAABAAAAAAAAAAEAAAEAAAAAAQAABQAAAAABAAACAAAAAAEAAAAAAAAAAQAAAQAA\n",
       "AAABAAAFAAAAAAEAAAIAAAAAAQAAAAAAAAABAAABAAAAAAEAAAUAAAAAAQAAAgAAAAABAAAAAAAA\n",
       "AAEAAAEAAAAAAQAABQAAAAABAAACAAAAAAEAAAAAAAAAAQAAAQAAAAABAAAFAAAAAAEAAAIAAAAA\n",
       "AQAAAAAAAAABAAABAAAAAAEAAAUAAAAAAQAAAgAAAAABAAAAAAAAAAEAAAEAAAAAAQAABQAAAAAB\n",
       "AAACAAAAAAEAAAAAAAAAAQAAAQAAAAABAAAFAAAAAAEAAAIAAAAAAQAAAAAAAAABAAABAAAAAAEA\n",
       "AAUAAAAAAQAAAgAAAAABAAAAAAAAAAEAAAEAAAAAAQAABQAAAAABAAACAAAAAAEAAAAAAAAAAQAA\n",
       "AQAAAAABAAAFAAAAAAEAAAIAAAAAAQAAAAAAAAABAAABAAAAAAEAAAMAAAAAAQAAAQAAAAABAAAE\n",
       "AAAAAAIAAAEAAAAAAQAAAwAAAAABAAABAAAAAAEAAAUAAAAAAQAAAgAAAAABAAAAAAAAAAEAAAEA\n",
       "AAAAAQAABQAAAAABAAACAAAAAAEAAAAAAAAAAQAAAQAAAAABAAAFAAAAAAEAAAIAAAAAAQAAAAAA\n",
       "AAABAAABAAAAAAEAAAUAAAAAAQAAAgAAAAABAAAAAAAAAAEAAAEAAAAAAQAABAAAAAACAAABAAAA\n",
       "AAEAAAUAAAAAAQAAAgAAAAABAAAAAAAAAAEAAAEAAAAAAQAAAwAAAAABAAABAAAAAAUAAAIAAAAA\n",
       "AQAABQAAAAABAAACAAAAAAEAAAAAAAAAAQAAAQAAAAABAAAEAAAAAAIAAAEAAAAAAQAABQAAAAAB\n",
       "AAACAAAAAAEAAAAAAAAAAQAAAQAAAAABAAAFAAAAAAEAAAIAAAAAAQAAAAAAAAABAAABAAAAAAEA\n",
       "AAQAAAAAAgAAAQAAAAABAAADAAAAAAEAAAEAAAAAAQAAAwAAAAABAAABAAAAAAEAAAUAAAAAAQAA\n",
       "AgAAAAABAAAAAAAAAAEAAAEAAAAAAQAABQAAAAABAAACAAAAAAEAAAAAAAAAAQAAAQAAAAABAAAF\n",
       "AAAAAAEAAAIAAAAAAQAAAAAAAAABAAABAAAAAAIAAAIAAAAAAQAABAAAAAACAAABAAAAAAEAAAUA\n",
       "AAAAAQAAAgAAAAABAAAAAAAAAAEAAAEAAAAAAQAAAwAAAAABAAABAAAAAAEAAAMAAAAAAQAAAQAA\n",
       "AAABAAAEAAAAAAIAAAEAAAAAAQAABQAAAAABAAACAAAAAAEAAAAAAAAAAQAAAQAAAAABAAAEAAAA\n",
       "AAIAAAEAAAAAAQAAAwAAAAABAAABAAAAAAIAAAIAAAAAAQAABAAAAAACAAABAAAAAAEAAAMAAAAA\n",
       "AQAAAQAAAAABAAADAAAAAAEAAAEAAAAAAQAAAgAAAAABAAAEAAAAAAIAAAEAAAAAAQAABQAAAAAB\n",
       "AAACAAAAAAEAAAAAAAAAAQAAAQAAAAABAAADAAAAAAEAAAEAAAAAAQAAAwAAAAABAAABAAAAAAEA\n",
       "AAIAAAAAAQAAAwAAAAABAAABAAAAAAEAAAQAAAAAAgAAAQAAAAABAAAFAAAAAAEAAAIAAAAAAQAA\n",
       "AAAAAAABAAABAAAAAAEAAAMAAAAAAQAAAQAAAAABAAAFAAAAAAEAAAIAAAAAAQAAAAAAAAABAAAB\n",
       "AAAAAAEAAAQAAAAAAgAAAQAAAAABAAACAAAAAAEAAAUAAAAAAQAAAgAAAAABAAAAAAAAAAEAAAEA\n",
       "AAAAAQAABQAAAAABAAACAAAAAAEAAAAAAAAAAQAAAQAAAAABAAAFAAAAAAEAAAIAAAAAAQAAAAAA\n",
       "AAABAAABAAAAAAEAAAUAAAAAAQAAAgAAAAABAAAAAAAAAAEAAAEAAAAAAQAABAAAAAACAAABAAAA\n",
       "AAEAAAUAAAAAAQAAAgAAAAABAAAAAAAAAAEAAAEAAAAAAQAAAwAAAAABAAABAAAAAAEAAAMAAAAA\n",
       "AQAAAQAAAAABAAAFAAAAAAEAAAIAAAAAAQAAAAAAAAABAAABAAAAAAEAAAUAAAAAAQAAAgAAAAAB\n",
       "AAAAAAAAAAEAAAEAAAAAAQAABQAAAAABAAACAAAAAAEAAAAAAAAAAQAAAQAAAAABAAAFAAAAAAEA\n",
       "AAIAAAAAAQAAAAAAAAABAAABAAAAAAEAAAUAAAAAAQAAAgAAAAABAAAAAAAAAAEAAAEAAAAAAQAA\n",
       "BQAAAAABAAACAAAAAAEAAAAAAAAAAQAAAQAAAAABAAAFAAAAAAEAAAIAAAAAAQAAAAAAAAABAAAB\n",
       "AAAAAAEAAAUAAAAAAQAAAgAAAAABAAAAAAAAAAEAAAEAAAAAAQAABAAAAAACAAABAAAAAAEAAAUA\n",
       "AAAAAQAAAgAAAAABAAAAAAAAAAEAAAEAAAAAAQAAAgAAAAABAAAFAAAAAAEAAAIAAAAAAQAAAAAA\n",
       "AAABAAABAAAAAAEAAAMAAAAAAQAAAQAAAAABAAAEAAAAAAIAAAEAAAAAAQAAAgAAAAABAAADAAAA\n",
       "AAEAAAEAAAAAAQAABQAAAAABAAACAAAAAAEAAAAAAAAAAQAAAQAAAAABAAAFAAAAAAEAAAIAAAAA\n",
       "AQAAAAAAAAABAAABAAAAAAEAAAUAAAAAAQAAAgAAAAABAAAAAAAAAAEAAAEAAAAAAQAABQAAAAAB\n",
       "AAACAAAAAAEAAAAAAAAAAQAAAQAAAAABAAACAAAAAAEAAAUAAAAAAQAAAgAAAAABAAAAAAAAAAEA\n",
       "AAEAAAAAAQAABQAAAAABAAACAAAAAAEAAAAAAAAAAQAAAQAAAAABAAADAAAAAAEAAAEAAAAAAQAA\n",
       "BAAAAAACAAABAAAAABxzdHNjAAAAAAAAAAEAAAABAAABaAAAAAEAAAW0c3RzegAAAAAAAAAAAAAB\n",
       "aAAAG3oAAAOwAAABJAAAAKIAAACxAAAC8wAAAPMAAACoAAAAggAAAZEAAACXAAACPgAAALoAAAB/\n",
       "AAAAcgAAAaAAAACaAAAAdQAAAmcAAADGAAAAgwAAAIIAAAIpAAAAwgAAAIAAAAB5AAABCwAAAbcA\n",
       "AACfAAAAcQAAAZgAAACNAAAAYwAAAR0AAAICAAAAnAAAAGsAAABsAAABMgAAAG4AAAGYAAAAogAA\n",
       "AGoAAABtAAAB2AAAALAAAABrAAAAeAAAAd8AAACuAAAAeQAAAGwAAAHWAAAAqwAAAHEAAABtAAAB\n",
       "2AAAAJ4AAABrAAAAbwAAATcAAABvAAAB1gAAALAAAAB4AAAAdgAAAb8AAACmAAAAcwAAAGsAAAGl\n",
       "AAAAqQAAAG4AAAB2AAABqAAAAKwAAAB0AAAAeQAAAYcAAACtAAAAfAAAAH0AAAGBAAAAywAAAH4A\n",
       "AAB9AAABUAAAANQAAACcAAAAlAAAAYAAAAC5AAAAfQAAAJkAAAHaAAAA2QAAAKUAAACBAAABogAA\n",
       "ALYAAACDAAAAgQAAAZUAAACwAAAAeQAAAHwAAAGgAAAAogAAAHgAAACTAAABsAAAALAAAAB6AAAA\n",
       "fAAAAWEAAACGAAABlQAAAJYAAACJAAABVAAAAIsAAAGiAAAAqwAAAHEAAAB+AAACGwAAAMgAAACE\n",
       "AAAAdAAAAesAAACrAAAAdAAAAHkAAAHaAAAAsQAAAIIAAAB/AAABrwAAAJ0AAAB+AAABuQAAAMAA\n",
       "AAB6AAAAfAAAAVEAAACNAAABCAAAAN0AAADpAAAA5QAAAQ0AAAG0AAAAwQAAAH4AAABwAAABTgAA\n",
       "AJsAAACBAAABtAAAALgAAAB+AAAAiAAAAaYAAACwAAAAaQAAAGMAAAFjAAAAhwAAAHYAAAEtAAAA\n",
       "cQAAATUAAACOAAABcAAAAOUAAACSAAAAjQAAAVcAAACvAAAAdwAAAF0AAAH2AAAAuQAAAG0AAACC\n",
       "AAABPAAAAUUAAAInAAAAsAAAAG4AAAJXAAAArAAAAFgAAABlAAABlgAAAHcAAAFpAAAAVwAAAdkA\n",
       "AACfAAAAigAAAeQAAACZAAAAZQAAAH4AAAGtAAAAmQAAAH0AAAFfAAAAgwAAARAAAAEVAAABhgAA\n",
       "AH8AAABhAAABSgAAAHgAAAE+AAAAcwAAAPUAAAG8AAAAeAAAAHYAAAHqAAAAoAAAAHoAAAB/AAAB\n",
       "VAAAAHkAAAGEAAAAaAAAAVUAAAG4AAAAcwAAAZIAAAB7AAAAcgAAAd0AAACxAAAAcQAAAGgAAAFu\n",
       "AAAAbAAAAcsAAACUAAAAbAAAAGgAAADGAAAAeQAAAHkAACHKAAACswAAAMsAAACNAAAAigAAAZQA\n",
       "AACyAAAAhAAAAHcAAAFfAAAApwAAAIYAAABsAAABfQAAAMwAAAB2AAAAlQAAATMAAAC0AAAAjgAA\n",
       "AYUAAACrAAAAbAAAAKIAAAFsAAAAmQAAAR0AAABjAAABggAAAJ0AAABeAAAAdwAAAWsAAACiAAAA\n",
       "aAAAAGEAAAGqAAAAjgAAAG4AAABpAAABngAAAJAAAABhAAAAWQAAAdoAAACqAAAAYwAAAGEAAAH3\n",
       "AAAAmwAAAGIAAABlAAABzgAAAI0AAABeAAAAWgAAAfYAAACcAAAAYwAAAF0AAAHlAAAAiwAAAF4A\n",
       "AAHRAAAAjgAAAGMAAABiAAABAwAAAaMAAAB9AAAAWAAAAF0AAAEcAAAAXgAAAW0AAAB2AAAAYgAA\n",
       "AL4AAAELAAAAWwAAAYYAAACwAAAAZwAAAG8AAAGvAAAAlgAAAGkAAABkAAABuwAAAMkAAACAAAAA\n",
       "fwAAAbUAAACzAAAAcwAAAGQAAADAAAABaAAAAJ8AAABnAAAAagAAAYYAAAC1AAAAagAAAHUAAAFB\n",
       "AAAAgAAAAJQAAACnAAAAbAAAABRzdGNvAAAAAAAAAAEAAAAsAAAAYnVkdGEAAABabWV0YQAAAAAA\n",
       "AAAhaGRscgAAAAAAAAAAbWRpcmFwcGwAAAAAAAAAAAAAAAAtaWxzdAAAACWpdG9vAAAAHWRhdGEA\n",
       "AAABAAAAAExhdmY1OC4yOS4xMDA=\n",
       "\">\n",
       "  Your browser does not support the video tag.\n",
       "</video>"
      ],
      "text/plain": [
       "<IPython.core.display.HTML object>"
      ]
     },
     "execution_count": 63,
     "metadata": {},
     "output_type": "execute_result"
    }
   ],
   "source": [
    "anim = animation.FuncAnimation(fig, animate, init_func=init,frames=360, interval=20, blit=True)\n",
    "HTML(anim.to_html5_video())"
   ]
  },
  {
   "cell_type": "markdown",
   "metadata": {
    "slideshow": {
     "slide_type": "skip"
    }
   },
   "source": [
    "[Voltar para o capítulo anterior](Din3.ipynb)     $\\qquad$   [Avançar para o próximo capítulo](Din5.ipynb)"
   ]
  }
 ],
 "metadata": {
  "kernelspec": {
   "display_name": "Python 3",
   "language": "python",
   "name": "python3"
  },
  "language_info": {
   "codemirror_mode": {
    "name": "ipython",
    "version": 3
   },
   "file_extension": ".py",
   "mimetype": "text/x-python",
   "name": "python",
   "nbconvert_exporter": "python",
   "pygments_lexer": "ipython3",
   "version": "3.8.10"
  }
 },
 "nbformat": 4,
 "nbformat_minor": 4
}
