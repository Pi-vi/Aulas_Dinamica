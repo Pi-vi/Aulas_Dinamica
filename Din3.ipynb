{
 "cells": [
  {
   "cell_type": "markdown",
   "metadata": {},
   "source": [
    "# Dinâmica da Partícula\n",
    "Professor Paulo Victor <br>\n",
    "E-mail: paulo.gomes@cefet-rj.br <br>\n",
    "CEFET-RJ Campus Angra dos Reis Sala 6E"
   ]
  },
  {
   "cell_type": "markdown",
   "metadata": {},
   "source": [
    "## Introdução"
   ]
  },
  {
   "cell_type": "markdown",
   "metadata": {},
   "source": [
    "No Natal de 1642, o ano que Galileu morreu,em Londres, nasceu um pequenino bebê, chamado de Isaac, filho de Isaac e Hanna Newton. E assim nasceu o pai da Mecânica. \n",
    "Em 1665, Newton era um estudante da Universidade de Cambridge, neste ano a a Inglaterra foi assolada por uma epidemia de peste bubônica, forçando uma quarentena de dois anos. Nesse período, o jovem de 23 anos concebeu a lei da gravitação, as leis de movimentos e desenvolveu os conceitos básicos do cálculo diferencial. Devido a pequenas discrepâncias em sua explicação sobre o movimento da lua, Newton engavetou todos esses trabalhos por 20 anos. <br>\n",
    "É dado a Edmund Halley, descobridor do cometa Halley, o crédito de trazer as descobertas de Newton a conhecimento público. Um dia, em 1685, Halley conversava casualmente com Cristopher Wren e Robert Hooke sobre a teoria de Descartes que explicava o movimento dos planetas. Insatisfeitos com essa teoria, eles especulavam se não existiria uma força similar ao magnetismo que faria com que os planetas se movessem em órbitas elípticas. Hooke fez uma aposta com Wren que conseguiria formar uma teoria que explicasse essa especulação em duas semanas. Vários meses depois, Halley visitou Newton em Cambridge e, sem mencionar a aposta, casualmente perguntou: \"Se o sol puxasse os planetas com uma força inversamente proporcional ao quadrado da distância, qual trajetória os planetas percorreriam?\" Para a surpresa de Halley, Newton respondeu sem exitar: \"Órbitas elípticas, é claro, por quê? Eu já até fiz esses cálculos e eu tenho a prova entre as minhas anotações em alguma gaveta por aqui. Me dê alguns dias que eu vou procurar isso e te mostro.\" As anotações as quais Newton se referia, eram essas que ele escreveu durante a quarentena de 1685 e ficaram engavetadas por 20 anos. <br>\n",
    "Alguns dias depois, Newton mostrou as anotações a Halley. Após se recuperar do choque, Halley aconselhou o amigo a desenvolver esses estudos completamente e a publicá-los. Dois anos depois, em 1987, Newton publicou o livro *Philosophiæ Naturalis Principia Mathematica* (Princípios Matemáticos da Filosofia Natural), ou simplesmente *Principia*. Esse livrou lançou as bases para a Mecânica Clássica e foi de fundamental importância para muitos avanços da primeira revolução industrial. "
   ]
  },
  {
   "cell_type": "markdown",
   "metadata": {},
   "source": [
    "### Leis de Newton\n",
    "1. Todo corpo continua em seu estado de repouso ou de movimento uniforme em linha reta a menos que seja compelido a mudar de estado devido a forças sobre ele impressas. \n",
    "2. A taxa  de mudança da quantidade de movimento linear é proporcional à força impressa e está na mesma direção desta força.\n",
    "3. A toda ação, sempre existe uma reação em sentido oposto e igual intensidade. "
   ]
  },
  {
   "cell_type": "markdown",
   "metadata": {},
   "source": [
    "## Vetor Quantidade de Movimento Linear"
   ]
  },
  {
   "cell_type": "markdown",
   "metadata": {},
   "source": [
    "Podemos definir o **vetor quantidade de movimento linear** da partícula $P$ como:\n",
    "$$ {}^{N} \\vec{G} {}^{P} = m {}^{N} \\vec{v}{}^{P} $$\n",
    "* Na ausência de forças externas, o vetor quantidade de movimento se conserva (**1 Lei de Newton**)."
   ]
  },
  {
   "cell_type": "code",
   "execution_count": 1,
   "metadata": {},
   "outputs": [
    {
     "data": {
      "image/svg+xml": [
       "<svg xmlns:dc=\"http://purl.org/dc/elements/1.1/\" xmlns:cc=\"http://creativecommons.org/ns#\" xmlns:rdf=\"http://www.w3.org/1999/02/22-rdf-syntax-ns#\" xmlns:svg=\"http://www.w3.org/2000/svg\" xmlns=\"http://www.w3.org/2000/svg\" xmlns:sodipodi=\"http://sodipodi.sourceforge.net/DTD/sodipodi-0.dtd\" xmlns:inkscape=\"http://www.inkscape.org/namespaces/inkscape\" width=\"97.35968mm\" height=\"76.028702mm\" viewBox=\"0 0 97.359678 76.028702\" version=\"1.1\" id=\"svg1574\" inkscape:version=\"1.0.2 (394de47547, 2021-03-26)\" sodipodi:docname=\"partícula01G.svg\">\n",
       "  <defs id=\"defs1568\">\n",
       "    <marker style=\"overflow:visible\" id=\"Arrow1Mend\" refX=\"0\" refY=\"0\" orient=\"auto\" inkscape:stockid=\"Arrow1Mend\" inkscape:isstock=\"true\">\n",
       "      <path transform=\"matrix(-0.4,0,0,-0.4,-4,0)\" style=\"fill:#000000;fill-opacity:1;fill-rule:evenodd;stroke:#000000;stroke-width:1pt;stroke-opacity:1\" d=\"M 0,0 5,-5 -12.5,0 5,5 Z\" id=\"path1009\"/>\n",
       "    </marker>\n",
       "    <marker style=\"overflow:visible\" id=\"marker1263\" refX=\"0\" refY=\"0\" orient=\"auto\" inkscape:stockid=\"Arrow1Lend\" inkscape:isstock=\"true\">\n",
       "      <path transform=\"matrix(-0.8,0,0,-0.8,-10,0)\" style=\"fill:#000000;fill-opacity:1;fill-rule:evenodd;stroke:#000000;stroke-width:1pt;stroke-opacity:1\" d=\"M 0,0 5,-5 -12.5,0 5,5 Z\" id=\"path1003\"/>\n",
       "    </marker>\n",
       "    <marker style=\"overflow:visible\" id=\"marker2416\" refX=\"0\" refY=\"0\" orient=\"auto\" inkscape:stockid=\"Arrow1Lend\" inkscape:isstock=\"true\">\n",
       "      <path transform=\"matrix(-0.8,0,0,-0.8,-10,0)\" style=\"fill:#ff0000;fill-opacity:1;fill-rule:evenodd;stroke:#ff0000;stroke-width:1pt;stroke-opacity:1\" d=\"M 0,0 5,-5 -12.5,0 5,5 Z\" id=\"path2414\"/>\n",
       "    </marker>\n",
       "    <marker style=\"overflow:visible\" id=\"Arrow1Lend\" refX=\"0\" refY=\"0\" orient=\"auto\" inkscape:stockid=\"Arrow1Lend\" inkscape:isstock=\"true\" inkscape:collect=\"always\">\n",
       "      <path transform=\"matrix(-0.8,0,0,-0.8,-10,0)\" style=\"fill:#000000;fill-opacity:1;fill-rule:evenodd;stroke:#000000;stroke-width:1pt;stroke-opacity:1\" d=\"M 0,0 5,-5 -12.5,0 5,5 Z\" id=\"path859\"/>\n",
       "    </marker>\n",
       "    <marker style=\"overflow:visible\" id=\"marker1202\" refX=\"0\" refY=\"0\" orient=\"auto\" inkscape:stockid=\"Arrow1Lend\" inkscape:isstock=\"true\" inkscape:collect=\"always\">\n",
       "      <path transform=\"matrix(-0.8,0,0,-0.8,-10,0)\" style=\"fill:#000000;fill-opacity:1;fill-rule:evenodd;stroke:#000000;stroke-width:1pt;stroke-opacity:1\" d=\"M 0,0 5,-5 -12.5,0 5,5 Z\" id=\"path1200\"/>\n",
       "    </marker>\n",
       "    <marker style=\"overflow:visible\" id=\"marker1230\" refX=\"0\" refY=\"0\" orient=\"auto\" inkscape:stockid=\"Arrow1Lend\" inkscape:isstock=\"true\" inkscape:collect=\"always\">\n",
       "      <path transform=\"matrix(-0.8,0,0,-0.8,-10,0)\" style=\"fill:#000000;fill-opacity:1;fill-rule:evenodd;stroke:#000000;stroke-width:1pt;stroke-opacity:1\" d=\"M 0,0 5,-5 -12.5,0 5,5 Z\" id=\"path1228\"/>\n",
       "    </marker>\n",
       "    <filter inkscape:collect=\"always\" style=\"color-interpolation-filters:sRGB\" id=\"filter2408\" x=\"-0.18425412\" width=\"1.3685082\" y=\"-0.18425412\" height=\"1.3685082\">\n",
       "      <feGaussianBlur inkscape:collect=\"always\" stdDeviation=\"0.52308203\" id=\"feGaussianBlur2410\"/>\n",
       "    </filter>\n",
       "  </defs>\n",
       "  <sodipodi:namedview id=\"base\" pagecolor=\"#ffffff\" bordercolor=\"#666666\" borderopacity=\"1.0\" inkscape:pageopacity=\"0.0\" inkscape:pageshadow=\"2\" inkscape:zoom=\"1.8667424\" inkscape:cx=\"282.40175\" inkscape:cy=\"167.12863\" inkscape:document-units=\"mm\" inkscape:current-layer=\"layer1\" inkscape:document-rotation=\"0\" showgrid=\"false\" showborder=\"false\" inkscape:window-width=\"1920\" inkscape:window-height=\"1043\" inkscape:window-x=\"1920\" inkscape:window-y=\"0\" inkscape:window-maximized=\"1\"/>\n",
       "  <metadata id=\"metadata1571\">\n",
       "    <rdf:RDF>\n",
       "      <cc:Work rdf:about=\"\">\n",
       "        <dc:format>image/svg+xml</dc:format>\n",
       "        <dc:type rdf:resource=\"http://purl.org/dc/dcmitype/StillImage\"/>\n",
       "        <dc:title/>\n",
       "      </cc:Work>\n",
       "    </rdf:RDF>\n",
       "  </metadata>\n",
       "  <g inkscape:label=\"Layer 1\" inkscape:groupmode=\"layer\" id=\"layer1\" transform=\"translate(-46.101486,-90.215644)\">\n",
       "    <g id=\"g176\" style=\"stroke-width:0.2;stroke-miterlimit:4;stroke-dasharray:none\" transform=\"translate(22.168515,9.7156464)\">\n",
       "      <path style=\"fill:none;stroke:#000000;stroke-width:0.2;stroke-linecap:butt;stroke-linejoin:miter;stroke-miterlimit:4;stroke-dasharray:none;stroke-opacity:1\" d=\"M 73.612159,127.5 V 80.499998\" id=\"path170\"/>\n",
       "      <path style=\"fill:none;stroke:#000000;stroke-width:0.2;stroke-linecap:butt;stroke-linejoin:miter;stroke-miterlimit:4;stroke-dasharray:none;stroke-opacity:1\" d=\"M 120.37753,154.5 73.612159,127.5 25.980763,155 v 0\" id=\"path172\"/>\n",
       "    </g>\n",
       "    <g id=\"g1313\" style=\"stroke-width:0.5;stroke-miterlimit:4;stroke-dasharray:none\" transform=\"translate(22.168515,9.7156464)\">\n",
       "      <path style=\"fill:none;stroke:#000000;stroke-width:0.5;stroke-linecap:butt;stroke-linejoin:miter;stroke-miterlimit:4;stroke-dasharray:none;stroke-opacity:1;marker-end:url(#Arrow1Lend)\" d=\"M 73.612157,127.5 V 97.499999\" id=\"path12\"/>\n",
       "      <path style=\"fill:none;stroke:#000000;stroke-width:0.5;stroke-linecap:butt;stroke-linejoin:miter;stroke-miterlimit:4;stroke-dasharray:none;stroke-opacity:1;marker-end:url(#marker1202)\" d=\"m 73.612157,127.5 25.980763,15\" id=\"path16\"/>\n",
       "      <path style=\"fill:none;stroke:#000000;stroke-width:0.5;stroke-linecap:butt;stroke-linejoin:miter;stroke-miterlimit:4;stroke-dasharray:none;stroke-opacity:1;marker-end:url(#marker1230)\" d=\"m 73.612157,127.5 -25.98076,15\" id=\"path20\"/>\n",
       "    </g>\n",
       "    <circle style=\"opacity:1;mix-blend-mode:normal;fill:#000000;stroke:#000000;stroke-width:0.170779\" id=\"path1649\" cx=\"135.97427\" cy=\"113.54485\" r=\"7.4015002\"/>\n",
       "    <circle style=\"opacity:1;fill:#ffffff;stroke:#000000;stroke-width:0.118401;filter:url(#filter2408)\" id=\"path1651\" cx=\"138.57416\" cy=\"110.38313\" r=\"3.4066997\"/>\n",
       "    <path style=\"fill:#ff0000;stroke:#ff0000;stroke-width:1;stroke-linecap:butt;stroke-linejoin:miter;stroke-miterlimit:4;stroke-dasharray:none;stroke-opacity:1;marker-end:url(#marker2416)\" d=\"M 95.780671,137.21565 133.12906,115.8268\" id=\"path2412\"/>\n",
       "    <text xml:space=\"preserve\" style=\"font-size:7.7611px;line-height:1.25;font-family:sans-serif;-inkscape-font-specification:sans-serif;stroke-width:0.264583\" x=\"132.86259\" y=\"102.12509\" id=\"text972\"><tspan sodipodi:role=\"line\" id=\"tspan970\" x=\"132.86259\" y=\"102.12509\" style=\"stroke-width:0.264583\">P</tspan></text>\n",
       "    <text xml:space=\"preserve\" style=\"font-size:7.7611px;line-height:1.25;font-family:sans-serif;-inkscape-font-specification:sans-serif;stroke-width:0.264583\" x=\"97.337898\" y=\"104.98885\" id=\"text976\"><tspan sodipodi:role=\"line\" id=\"tspan974\" x=\"97.337898\" y=\"104.98885\" style=\"stroke-width:0.264583\">N</tspan></text>\n",
       "    <text xml:space=\"preserve\" style=\"font-size:7.7611px;line-height:1.25;font-family:sans-serif;-inkscape-font-specification:sans-serif;stroke-width:0.264583\" x=\"45.877899\" y=\"161.02646\" id=\"text980\"><tspan sodipodi:role=\"line\" id=\"tspan978\" x=\"45.877899\" y=\"161.02646\" style=\"stroke-width:0.264583\">x</tspan></text>\n",
       "    <text xml:space=\"preserve\" style=\"font-size:7.7611px;line-height:1.25;font-family:sans-serif;-inkscape-font-specification:sans-serif;stroke-width:0.264583\" x=\"130.95433\" y=\"164.62997\" id=\"text984\"><tspan sodipodi:role=\"line\" id=\"tspan982\" x=\"130.95433\" y=\"164.62997\" style=\"stroke-width:0.264583\">y</tspan></text>\n",
       "    <text xml:space=\"preserve\" style=\"font-size:7.7611px;line-height:1.25;font-family:sans-serif;-inkscape-font-specification:sans-serif;stroke-width:0.264583\" x=\"89.733147\" y=\"95.026985\" id=\"text988\"><tspan sodipodi:role=\"line\" id=\"tspan986\" x=\"89.733147\" y=\"95.026985\" style=\"stroke-width:0.264583\">z</tspan></text>\n",
       "    <text xml:space=\"preserve\" style=\"font-size:7.7611px;line-height:1.25;font-family:sans-serif;-inkscape-font-specification:sans-serif;stroke-width:0.264583\" x=\"107.5463\" y=\"123.08759\" id=\"text992\"><tspan sodipodi:role=\"line\" id=\"tspan990\" x=\"107.5463\" y=\"123.08759\" style=\"stroke-width:0.264583\">G<tspan style=\"font-size:65%;baseline-shift:super\" id=\"tspan996\"/></tspan></text>\n",
       "    <path style=\"fill:none;stroke:#000000;stroke-width:0.265;stroke-linecap:butt;stroke-linejoin:miter;stroke-miterlimit:4;stroke-dasharray:none;stroke-opacity:1;marker-end:url(#Arrow1Mend)\" d=\"m 108.23965,116.26132 h 5.60837\" id=\"path998\"/>\n",
       "    <text xml:space=\"preserve\" style=\"font-size:4.11543px;line-height:1.25;font-family:sans-serif;-inkscape-font-specification:sans-serif;stroke-width:0.140299\" x=\"104.43547\" y=\"118.78579\" id=\"text1473\"><tspan sodipodi:role=\"line\" id=\"tspan1471\" x=\"104.43547\" y=\"118.78579\" style=\"stroke-width:0.140299\">N</tspan></text>\n",
       "    <text xml:space=\"preserve\" style=\"font-size:4.11543px;line-height:1.25;font-family:sans-serif;-inkscape-font-specification:sans-serif;stroke-width:0.140299\" x=\"114.2485\" y=\"118.88712\" id=\"text1477\"><tspan sodipodi:role=\"line\" id=\"tspan1475\" x=\"114.2485\" y=\"118.88712\" style=\"stroke-width:0.140299\">P</tspan></text>\n",
       "    <text xml:space=\"preserve\" style=\"font-size:7.7611px;line-height:1.25;font-family:sans-serif;-inkscape-font-specification:sans-serif;stroke-width:0.264583\" x=\"87.964172\" y=\"136.28578\" id=\"text1481\"><tspan sodipodi:role=\"line\" id=\"tspan1479\" x=\"87.964172\" y=\"136.28578\" style=\"stroke-width:0.264583\">O</tspan></text>\n",
       "  </g>\n",
       "</svg>"
      ],
      "text/plain": [
       "<IPython.core.display.SVG object>"
      ]
     },
     "execution_count": 1,
     "metadata": {},
     "output_type": "execute_result"
    }
   ],
   "source": [
    "from IPython.display import SVG\n",
    "SVG('partícula01G.svg')"
   ]
  },
  {
   "cell_type": "code",
   "execution_count": 2,
   "metadata": {},
   "outputs": [],
   "source": [
    "import sympy as sy\n",
    "import sympy.physics.mechanics as me"
   ]
  },
  {
   "cell_type": "code",
   "execution_count": 3,
   "metadata": {},
   "outputs": [],
   "source": [
    "x,y,z = me.dynamicsymbols('x y z')\n",
    "m = sy.symbols('m')"
   ]
  },
  {
   "cell_type": "code",
   "execution_count": 4,
   "metadata": {},
   "outputs": [],
   "source": [
    "N = me.ReferenceFrame('N')"
   ]
  },
  {
   "cell_type": "code",
   "execution_count": 5,
   "metadata": {},
   "outputs": [],
   "source": [
    "O = me.Point('O')\n",
    "O.set_vel(N,0)"
   ]
  },
  {
   "cell_type": "code",
   "execution_count": 6,
   "metadata": {},
   "outputs": [],
   "source": [
    "P = me.Point('P')\n",
    "pPO = x*N.x + y*N.y + z*N.z\n",
    "P.set_pos(O,pPO)\n",
    "P.set_vel(N,pPO.dt(N))"
   ]
  },
  {
   "cell_type": "code",
   "execution_count": 7,
   "metadata": {},
   "outputs": [
    {
     "data": {
      "text/latex": [
       "$\\displaystyle \\dot{x}\\mathbf{\\hat{n}_x} + \\dot{y}\\mathbf{\\hat{n}_y} + \\dot{z}\\mathbf{\\hat{n}_z}$"
      ],
      "text/plain": [
       "x'*N.x + y'*N.y + z'*N.z"
      ]
     },
     "execution_count": 7,
     "metadata": {},
     "output_type": "execute_result"
    }
   ],
   "source": [
    "P.vel(N)"
   ]
  },
  {
   "cell_type": "code",
   "execution_count": 8,
   "metadata": {},
   "outputs": [
    {
     "data": {
      "text/latex": [
       "$\\displaystyle \\ddot{x}\\mathbf{\\hat{n}_x} + \\ddot{y}\\mathbf{\\hat{n}_y} + \\ddot{z}\\mathbf{\\hat{n}_z}$"
      ],
      "text/plain": [
       "x''*N.x + y''*N.y + z''*N.z"
      ]
     },
     "execution_count": 8,
     "metadata": {},
     "output_type": "execute_result"
    }
   ],
   "source": [
    "P.acc(N)"
   ]
  },
  {
   "cell_type": "markdown",
   "metadata": {},
   "source": [
    "Vamos informar ao python que iremos utilizar o modelo de partícula:"
   ]
  },
  {
   "cell_type": "code",
   "execution_count": 9,
   "metadata": {},
   "outputs": [],
   "source": [
    "ParP = me.Particle('ParP',P,m)"
   ]
  },
  {
   "cell_type": "markdown",
   "metadata": {},
   "source": [
    "O **vetor quantidade de movimento linear** da partícula $P$ em relação a $N$, ${}^{N} \\vec{G}{}^{P}$, pode ser obtido automaticamente:"
   ]
  },
  {
   "cell_type": "code",
   "execution_count": 10,
   "metadata": {},
   "outputs": [
    {
     "data": {
      "text/latex": [
       "$\\displaystyle m \\dot{x}\\mathbf{\\hat{n}_x} + m \\dot{y}\\mathbf{\\hat{n}_y} + m \\dot{z}\\mathbf{\\hat{n}_z}$"
      ],
      "text/plain": [
       "m*x'*N.x + m*y'*N.y + m*z'*N.z"
      ]
     },
     "execution_count": 10,
     "metadata": {},
     "output_type": "execute_result"
    }
   ],
   "source": [
    "ParP.linear_momentum(N)"
   ]
  },
  {
   "cell_type": "markdown",
   "metadata": {},
   "source": [
    "É conveniente guardar essa informação em uma variável:"
   ]
  },
  {
   "cell_type": "code",
   "execution_count": 11,
   "metadata": {},
   "outputs": [
    {
     "data": {
      "text/latex": [
       "$\\displaystyle m \\dot{x}\\mathbf{\\hat{n}_x} + m \\dot{y}\\mathbf{\\hat{n}_y} + m \\dot{z}\\mathbf{\\hat{n}_z}$"
      ],
      "text/plain": [
       "m*x'*N.x + m*y'*N.y + m*z'*N.z"
      ]
     },
     "execution_count": 11,
     "metadata": {},
     "output_type": "execute_result"
    }
   ],
   "source": [
    "G_P = ParP.linear_momentum(N)\n",
    "G_P"
   ]
  },
  {
   "cell_type": "markdown",
   "metadata": {},
   "source": [
    "### Exemplo 1:\n",
    "\n",
    "Um carro foguete se move ao longo de uma pista reta de acordo com a equação $x = 3t^3 + t + 2$, onde $x$ está em metros e $t$ em segundos. A estrutura do carro foguete possui a massa $m_{car}$ e suponha que a massa do combustível é consumida segundo a equação $m_f = 250e^{-5t}$. Obtenha o vetor quantidade de movimento linear do carro foguete."
   ]
  },
  {
   "cell_type": "code",
   "execution_count": 12,
   "metadata": {},
   "outputs": [],
   "source": [
    "t = me.dynamicsymbols._t"
   ]
  },
  {
   "cell_type": "code",
   "execution_count": 13,
   "metadata": {},
   "outputs": [],
   "source": [
    "s = 3*t**3 + t + 2"
   ]
  },
  {
   "cell_type": "code",
   "execution_count": 14,
   "metadata": {},
   "outputs": [],
   "source": [
    "mcar = sy.symbols('m_car')"
   ]
  },
  {
   "cell_type": "code",
   "execution_count": 15,
   "metadata": {},
   "outputs": [
    {
     "data": {
      "text/latex": [
       "$\\displaystyle 9 t^{2} + 1$"
      ],
      "text/plain": [
       "9*t**2 + 1"
      ]
     },
     "execution_count": 15,
     "metadata": {},
     "output_type": "execute_result"
    }
   ],
   "source": [
    "v = s.diff(t)\n",
    "v"
   ]
  },
  {
   "cell_type": "code",
   "execution_count": 16,
   "metadata": {
    "scrolled": false
   },
   "outputs": [
    {
     "data": {
      "text/latex": [
       "$\\displaystyle 250 e^{- 0.5 t}$"
      ],
      "text/plain": [
       "250*exp(-0.5*t)"
      ]
     },
     "execution_count": 16,
     "metadata": {},
     "output_type": "execute_result"
    }
   ],
   "source": [
    "mf = 250*sy.E**(-0.5*t)\n",
    "mf"
   ]
  },
  {
   "cell_type": "code",
   "execution_count": 30,
   "metadata": {},
   "outputs": [
    {
     "data": {
      "text/latex": [
       "$\\displaystyle 250 e^{- 0.5 t}$"
      ],
      "text/plain": [
       "250*exp(-0.5*t)"
      ]
     },
     "execution_count": 30,
     "metadata": {},
     "output_type": "execute_result"
    }
   ],
   "source": [
    "250*sy.exp(-0.5*t)"
   ]
  },
  {
   "cell_type": "markdown",
   "metadata": {},
   "source": [
    "Embora seja um problema undimensional, vamos criar uma base vetorial para usarmos os comandos que aprendemos."
   ]
  },
  {
   "cell_type": "code",
   "execution_count": 17,
   "metadata": {},
   "outputs": [],
   "source": [
    "N = me.ReferenceFrame('N')"
   ]
  },
  {
   "cell_type": "code",
   "execution_count": 18,
   "metadata": {},
   "outputs": [],
   "source": [
    "O = me.Point('O')\n",
    "O.set_vel(N,0)"
   ]
  },
  {
   "cell_type": "code",
   "execution_count": 19,
   "metadata": {},
   "outputs": [],
   "source": [
    "F = me.Point('F')\n",
    "F.set_pos(O,s*N.x)\n",
    "F.set_vel(N,v*N.x)"
   ]
  },
  {
   "cell_type": "code",
   "execution_count": 20,
   "metadata": {},
   "outputs": [],
   "source": [
    "ParF = me.Particle('ParF',F,mf+mcar)"
   ]
  },
  {
   "cell_type": "code",
   "execution_count": 21,
   "metadata": {},
   "outputs": [
    {
     "data": {
      "text/latex": [
       "$\\displaystyle \\left(m_{car} + 250 e^{- 0.5 t}\\right) \\left(9 t^{2} + 1\\right)\\mathbf{\\hat{n}_x}$"
      ],
      "text/plain": [
       "(m_car + 250*exp(-0.5*t))*(9*t**2 + 1)*N.x"
      ]
     },
     "execution_count": 21,
     "metadata": {},
     "output_type": "execute_result"
    }
   ],
   "source": [
    "G_F = ParF.linear_momentum(N)\n",
    "G_F"
   ]
  },
  {
   "cell_type": "markdown",
   "metadata": {},
   "source": [
    "## Segunda Lei de Newton"
   ]
  },
  {
   "cell_type": "markdown",
   "metadata": {},
   "source": [
    "Podemos entender a segunda lei de Newton como: \n",
    "* A variação no tempo do vetor quantidade de movimento linear é igual ao vetor resultante das forças aplicadas ao sistema.\n",
    "\n",
    "Para uma partícula $P$ submetida a $n$ forças, podemos escrever matematicamente a segunda lei de Newton como:\n",
    "\n",
    "$$\\sum^{n}_{i=1} \\vec{F}_{i} = \\dfrac{{}^{N} d {}^{N} \\vec{G}{}^{P}}{dt}$$\n",
    "\n",
    "Onde ${}^{N} \\vec{G}{}^{P} = m {}^{N}\\vec{v} {}^{P} $ e $N$  é um sistema de referência inercial. \n",
    "\n",
    "Por enquanto, o nosso sistema se resume a uma única partícula. Observa-se que tudo o que for aprendido na dinâmica de partículas poderá ser extendido para a dinâmica de sistemas de partículas e dinâmica de corpos rígidos. "
   ]
  },
  {
   "cell_type": "markdown",
   "metadata": {},
   "source": [
    "### Exemplo 2:\n",
    "Voltando ao sistema do **Exemplo 1**, obtenha uma expressão para a resultande das forças atuantes no carro foguete."
   ]
  },
  {
   "cell_type": "code",
   "execution_count": 22,
   "metadata": {},
   "outputs": [
    {
     "data": {
      "text/latex": [
       "$\\displaystyle \\left(m_{car} + 250 e^{- 0.5 t}\\right) \\left(9 t^{2} + 1\\right)\\mathbf{\\hat{n}_x}$"
      ],
      "text/plain": [
       "(m_car + 250*exp(-0.5*t))*(9*t**2 + 1)*N.x"
      ]
     },
     "execution_count": 22,
     "metadata": {},
     "output_type": "execute_result"
    }
   ],
   "source": [
    "G_F"
   ]
  },
  {
   "cell_type": "code",
   "execution_count": 23,
   "metadata": {},
   "outputs": [
    {
     "data": {
      "text/latex": [
       "$\\displaystyle (18 t \\left(m_{car} + 250 e^{- 0.5 t}\\right) - 125.0 \\left(9 t^{2} + 1\\right) e^{- 0.5 t})\\mathbf{\\hat{n}_x}$"
      ],
      "text/plain": [
       "(18*t*(m_car + 250*exp(-0.5*t)) - 125.0*(9*t**2 + 1)*exp(-0.5*t))*N.x"
      ]
     },
     "execution_count": 23,
     "metadata": {},
     "output_type": "execute_result"
    }
   ],
   "source": [
    "Res_F = G_F.dt(N)\n",
    "Res_F"
   ]
  },
  {
   "cell_type": "code",
   "execution_count": 24,
   "metadata": {},
   "outputs": [
    {
     "data": {
      "text/latex": [
       "$\\displaystyle 18 t \\left(500 + 250 e^{- 0.5 t}\\right) - 125.0 \\left(9 t^{2} + 1\\right) e^{- 0.5 t}$"
      ],
      "text/plain": [
       "18*t*(500 + 250*exp(-0.5*t)) - 125.0*(9*t**2 + 1)*exp(-0.5*t)"
      ]
     },
     "execution_count": 24,
     "metadata": {},
     "output_type": "execute_result"
    }
   ],
   "source": [
    "Res_F_esc = Res_F.dot(N.x).subs(mcar,500)\n",
    "Res_F_esc"
   ]
  },
  {
   "cell_type": "code",
   "execution_count": 25,
   "metadata": {},
   "outputs": [],
   "source": [
    "from numpy import linspace\n",
    "import matplotlib.pyplot as plt"
   ]
  },
  {
   "cell_type": "code",
   "execution_count": 26,
   "metadata": {},
   "outputs": [],
   "source": [
    "lam_x = sy.lambdify(t,Res_F_esc,modules = ['numpy'])\n",
    "x_vals = linspace(0,5,100)\n",
    "y_vals = lam_x(x_vals)"
   ]
  },
  {
   "cell_type": "code",
   "execution_count": 27,
   "metadata": {},
   "outputs": [
    {
     "data": {
      "image/png": "[encoded data removed]",
      "text/plain": [
       "<Figure size 432x288 with 1 Axes>"
      ]
     },
     "metadata": {
      "needs_background": "light"
     },
     "output_type": "display_data"
    }
   ],
   "source": [
    "plt.figure()\n",
    "plt.plot(x_vals,y_vals)\n",
    "plt.xlabel('Tempo [s]')\n",
    "plt.ylabel('Resultante das Forças [N]')\n",
    "plt.title('Resultante das Forças nos Carro Foguete')\n",
    "plt.grid(True)"
   ]
  },
  {
   "cell_type": "markdown",
   "metadata": {},
   "source": [
    "## Cinética"
   ]
  },
  {
   "cell_type": "markdown",
   "metadata": {},
   "source": [
    "A **Cinética** é o estudo das forças que causam o movimento. Estudaremos as seguintes modelagens de forças: \n",
    "* Gravitacionais\n",
    "* Eletroestáticas\n",
    "* Magnéticas\n",
    "* De contato entre superfícies sólidas\n",
    "* De atrito seco (forças de atrito de Coulomb)\n",
    "* Exercidas por fluidos\n",
    "* Exercidas por cabos flexíveis e barras rígidas\n",
    "* Exercidas por molas\n",
    "* Exercidas por amortecedores viscosos\n",
    "\n",
    "Forças são **grandezas vetorias**. Modelamos forças como vetores deslizantes."
   ]
  },
  {
   "cell_type": "markdown",
   "metadata": {},
   "source": [
    "### Vetores Vinculados, Deslizantes e Livres\n",
    "* Vetores Vinculados:\n",
    "    - A caracterização de um vetor vinculador requer a descrição de seus componentes em uma dada base e as coordenadas de seu ponto de aplicação. Exemplo: velocidade de uma partícula.\n",
    "* Vetores Deslizantes:\n",
    "    - O efeito da ação de uma força sobre um corpo rígido depende da sua linha de ação. Duas forças com os mesmos componentes vetoriais, mas com linhas de ação diferentes são forças diferentes. A caracterização de um vetor deslizante requer a descrição dos seus componentes em uma dada base e a descrição da reta suporte. Exemplo: força aplicada sobre um corpo rígido. \n",
    "* Vetores Livres: \n",
    "    - Sua localização no espaço não importa. Exemplo: velocidade angular e torque."
   ]
  },
  {
   "cell_type": "code",
   "execution_count": 28,
   "metadata": {
    "scrolled": false
   },
   "outputs": [
    {
     "data": {
      "image/svg+xml": [
       "<svg xmlns:dc=\"http://purl.org/dc/elements/1.1/\" xmlns:cc=\"http://creativecommons.org/ns#\" xmlns:rdf=\"http://www.w3.org/1999/02/22-rdf-syntax-ns#\" xmlns:svg=\"http://www.w3.org/2000/svg\" xmlns=\"http://www.w3.org/2000/svg\" xmlns:sodipodi=\"http://sodipodi.sourceforge.net/DTD/sodipodi-0.dtd\" xmlns:inkscape=\"http://www.inkscape.org/namespaces/inkscape\" width=\"142.20499mm\" height=\"123.65844mm\" viewBox=\"0 0 142.20498 123.65844\" version=\"1.1\" id=\"svg1574\" inkscape:version=\"1.0.2 (394de47547, 2021-03-26)\" sodipodi:docname=\"partícula02.svg\">\n",
       "  <defs id=\"defs1568\">\n",
       "    <marker style=\"overflow:visible\" id=\"marker2122\" refX=\"0\" refY=\"0\" orient=\"auto\" inkscape:stockid=\"Arrow2Mend\" inkscape:isstock=\"true\">\n",
       "      <path transform=\"scale(-0.6)\" d=\"M 8.7185878,4.0337352 -2.2072895,0.01601326 8.7185884,-4.0017078 c -1.7454984,2.3720609 -1.7354408,5.6174519 -6e-7,8.035443 z\" style=\"fill:#000000;fill-opacity:1;fill-rule:evenodd;stroke:#000000;stroke-width:0.625;stroke-linejoin:round;stroke-opacity:1\" id=\"path2120\"/>\n",
       "    </marker>\n",
       "    <marker style=\"overflow:visible\" id=\"marker1952\" refX=\"0\" refY=\"0\" orient=\"auto\" inkscape:stockid=\"Arrow2Mend\" inkscape:isstock=\"true\" inkscape:collect=\"always\">\n",
       "      <path transform=\"scale(-0.6)\" d=\"M 8.7185878,4.0337352 -2.2072895,0.01601326 8.7185884,-4.0017078 c -1.7454984,2.3720609 -1.7354408,5.6174519 -6e-7,8.035443 z\" style=\"fill:#000000;fill-opacity:1;fill-rule:evenodd;stroke:#000000;stroke-width:0.625;stroke-linejoin:round;stroke-opacity:1\" id=\"path1950\"/>\n",
       "    </marker>\n",
       "    <marker style=\"overflow:visible\" id=\"marker1824\" refX=\"0\" refY=\"0\" orient=\"auto\" inkscape:stockid=\"Arrow2Mend\" inkscape:isstock=\"true\" inkscape:collect=\"always\">\n",
       "      <path transform=\"scale(-0.6)\" d=\"M 8.7185878,4.0337352 -2.2072895,0.01601326 8.7185884,-4.0017078 c -1.7454984,2.3720609 -1.7354408,5.6174519 -6e-7,8.035443 z\" style=\"fill:#000000;fill-opacity:1;fill-rule:evenodd;stroke:#000000;stroke-width:0.625;stroke-linejoin:round;stroke-opacity:1\" id=\"path1822\"/>\n",
       "    </marker>\n",
       "    <marker style=\"overflow:visible\" id=\"Arrow2Mend\" refX=\"0\" refY=\"0\" orient=\"auto\" inkscape:stockid=\"Arrow2Mend\" inkscape:isstock=\"true\" inkscape:collect=\"always\">\n",
       "      <path transform=\"scale(-0.6)\" d=\"M 8.7185878,4.0337352 -2.2072895,0.01601326 8.7185884,-4.0017078 c -1.7454984,2.3720609 -1.7354408,5.6174519 -6e-7,8.035443 z\" style=\"fill:#000000;fill-opacity:1;fill-rule:evenodd;stroke:#000000;stroke-width:0.625;stroke-linejoin:round;stroke-opacity:1\" id=\"path983\"/>\n",
       "    </marker>\n",
       "    <marker style=\"overflow:visible\" id=\"marker1583\" refX=\"0\" refY=\"0\" orient=\"auto\" inkscape:stockid=\"Arrow1Lend\" inkscape:isstock=\"true\">\n",
       "      <path transform=\"matrix(-0.8,0,0,-0.8,-10,0)\" style=\"fill:#00ff00;fill-opacity:1;fill-rule:evenodd;stroke:#00ff00;stroke-width:1pt;stroke-opacity:1\" d=\"M 0,0 5,-5 -12.5,0 5,5 Z\" id=\"path1581\"/>\n",
       "    </marker>\n",
       "    <marker style=\"overflow:visible\" id=\"marker1477\" refX=\"0\" refY=\"0\" orient=\"auto\" inkscape:stockid=\"Arrow1Lend\" inkscape:isstock=\"true\">\n",
       "      <path transform=\"matrix(-0.8,0,0,-0.8,-10,0)\" style=\"fill:#ffff00;fill-opacity:1;fill-rule:evenodd;stroke:#ffff00;stroke-width:1pt;stroke-opacity:1\" d=\"M 0,0 5,-5 -12.5,0 5,5 Z\" id=\"path1475\"/>\n",
       "    </marker>\n",
       "    <marker style=\"overflow:visible\" id=\"Arrow1Lstart\" refX=\"0\" refY=\"0\" orient=\"auto\" inkscape:stockid=\"Arrow1Lstart\" inkscape:isstock=\"true\">\n",
       "      <path transform=\"matrix(0.8,0,0,0.8,10,0)\" style=\"fill:#0000ff;fill-opacity:1;fill-rule:evenodd;stroke:#0000ff;stroke-width:1pt;stroke-opacity:1\" d=\"M 0,0 5,-5 -12.5,0 5,5 Z\" id=\"path956\"/>\n",
       "    </marker>\n",
       "    <marker style=\"overflow:visible\" id=\"marker1219\" refX=\"0\" refY=\"0\" orient=\"auto\" inkscape:stockid=\"Arrow1Lend\" inkscape:isstock=\"true\">\n",
       "      <path transform=\"matrix(-0.8,0,0,-0.8,-10,0)\" style=\"fill:#0000ff;fill-opacity:1;fill-rule:evenodd;stroke:#0000ff;stroke-width:1pt;stroke-opacity:1\" d=\"M 0,0 5,-5 -12.5,0 5,5 Z\" id=\"path959\"/>\n",
       "    </marker>\n",
       "    <marker style=\"overflow:visible\" id=\"marker2416\" refX=\"0\" refY=\"0\" orient=\"auto\" inkscape:stockid=\"Arrow1Lend\" inkscape:isstock=\"true\">\n",
       "      <path transform=\"matrix(-0.8,0,0,-0.8,-10,0)\" style=\"fill:#ff0000;fill-opacity:1;fill-rule:evenodd;stroke:#ff0000;stroke-width:1pt;stroke-opacity:1\" d=\"M 0,0 5,-5 -12.5,0 5,5 Z\" id=\"path2414\"/>\n",
       "    </marker>\n",
       "    <marker style=\"overflow:visible\" id=\"Arrow1Lend\" refX=\"0\" refY=\"0\" orient=\"auto\" inkscape:stockid=\"Arrow1Lend\" inkscape:isstock=\"true\" inkscape:collect=\"always\">\n",
       "      <path transform=\"matrix(-0.8,0,0,-0.8,-10,0)\" style=\"fill:#000000;fill-opacity:1;fill-rule:evenodd;stroke:#000000;stroke-width:1pt;stroke-opacity:1\" d=\"M 0,0 5,-5 -12.5,0 5,5 Z\" id=\"path859\"/>\n",
       "    </marker>\n",
       "    <marker style=\"overflow:visible\" id=\"marker1202\" refX=\"0\" refY=\"0\" orient=\"auto\" inkscape:stockid=\"Arrow1Lend\" inkscape:isstock=\"true\" inkscape:collect=\"always\">\n",
       "      <path transform=\"matrix(-0.8,0,0,-0.8,-10,0)\" style=\"fill:#000000;fill-opacity:1;fill-rule:evenodd;stroke:#000000;stroke-width:1pt;stroke-opacity:1\" d=\"M 0,0 5,-5 -12.5,0 5,5 Z\" id=\"path1200\"/>\n",
       "    </marker>\n",
       "    <marker style=\"overflow:visible\" id=\"marker1230\" refX=\"0\" refY=\"0\" orient=\"auto\" inkscape:stockid=\"Arrow1Lend\" inkscape:isstock=\"true\" inkscape:collect=\"always\">\n",
       "      <path transform=\"matrix(-0.8,0,0,-0.8,-10,0)\" style=\"fill:#000000;fill-opacity:1;fill-rule:evenodd;stroke:#000000;stroke-width:1pt;stroke-opacity:1\" d=\"M 0,0 5,-5 -12.5,0 5,5 Z\" id=\"path1228\"/>\n",
       "    </marker>\n",
       "    <filter inkscape:collect=\"always\" style=\"color-interpolation-filters:sRGB\" id=\"filter2408\" x=\"-0.18425412\" width=\"1.3685082\" y=\"-0.18425412\" height=\"1.3685082\">\n",
       "      <feGaussianBlur inkscape:collect=\"always\" stdDeviation=\"0.52308203\" id=\"feGaussianBlur2410\"/>\n",
       "    </filter>\n",
       "  </defs>\n",
       "  <sodipodi:namedview id=\"base\" pagecolor=\"#ffffff\" bordercolor=\"#666666\" borderopacity=\"1.0\" inkscape:pageopacity=\"0.0\" inkscape:pageshadow=\"2\" inkscape:zoom=\"1.4182101\" inkscape:cx=\"273.17059\" inkscape:cy=\"225.2183\" inkscape:document-units=\"mm\" inkscape:current-layer=\"layer1\" inkscape:document-rotation=\"0\" showgrid=\"false\" showborder=\"false\" inkscape:window-width=\"1920\" inkscape:window-height=\"1016\" inkscape:window-x=\"0\" inkscape:window-y=\"27\" inkscape:window-maximized=\"1\" inkscape:snap-object-midpoints=\"true\"/>\n",
       "  <metadata id=\"metadata1571\">\n",
       "    <rdf:RDF>\n",
       "      <cc:Work rdf:about=\"\">\n",
       "        <dc:format>image/svg+xml</dc:format>\n",
       "        <dc:type rdf:resource=\"http://purl.org/dc/dcmitype/StillImage\"/>\n",
       "        <dc:title/>\n",
       "      </cc:Work>\n",
       "    </rdf:RDF>\n",
       "  </metadata>\n",
       "  <g inkscape:label=\"Layer 1\" inkscape:groupmode=\"layer\" id=\"layer1\" transform=\"translate(-48.099278,-70.77122)\">\n",
       "    <g id=\"g176\" style=\"stroke-width:0.2;stroke-miterlimit:4;stroke-dasharray:none\" transform=\"translate(22.168515,9.7156464)\">\n",
       "      <path style=\"fill:none;stroke:#000000;stroke-width:0.2;stroke-linecap:butt;stroke-linejoin:miter;stroke-miterlimit:4;stroke-dasharray:none;stroke-opacity:1\" d=\"M 73.612159,127.5 V 80.499998\" id=\"path170\"/>\n",
       "      <path style=\"fill:none;stroke:#000000;stroke-width:0.2;stroke-linecap:butt;stroke-linejoin:miter;stroke-miterlimit:4;stroke-dasharray:none;stroke-opacity:1\" d=\"M 120.37753,154.5 73.612159,127.5 25.980763,155 v 0\" id=\"path172\"/>\n",
       "    </g>\n",
       "    <g id=\"g1313\" style=\"stroke-width:0.5;stroke-miterlimit:4;stroke-dasharray:none\" transform=\"translate(22.168515,9.7156464)\">\n",
       "      <path style=\"fill:none;stroke:#000000;stroke-width:0.5;stroke-linecap:butt;stroke-linejoin:miter;stroke-miterlimit:4;stroke-dasharray:none;stroke-opacity:1;marker-end:url(#Arrow1Lend)\" d=\"M 73.612157,127.5 V 97.499999\" id=\"path12\"/>\n",
       "      <path style=\"fill:none;stroke:#000000;stroke-width:0.5;stroke-linecap:butt;stroke-linejoin:miter;stroke-miterlimit:4;stroke-dasharray:none;stroke-opacity:1;marker-end:url(#marker1202)\" d=\"m 73.612157,127.5 25.980763,15\" id=\"path16\"/>\n",
       "      <path style=\"fill:none;stroke:#000000;stroke-width:0.5;stroke-linecap:butt;stroke-linejoin:miter;stroke-miterlimit:4;stroke-dasharray:none;stroke-opacity:1;marker-end:url(#marker1230)\" d=\"m 73.612157,127.5 -25.98076,15\" id=\"path20\"/>\n",
       "    </g>\n",
       "    <circle style=\"opacity:1;mix-blend-mode:normal;fill:#000000;stroke:#000000;stroke-width:0.170779\" id=\"path1649\" cx=\"135.97427\" cy=\"113.54485\" r=\"7.4015002\"/>\n",
       "    <path style=\"fill:none;stroke:#000000;stroke-width:0.379521;stroke-linecap:butt;stroke-linejoin:miter;stroke-miterlimit:4;stroke-dasharray:3.03617, 3.03617;stroke-dashoffset:0;stroke-opacity:1\" d=\"M 110.96343,70.8661 182.2481,194.33478\" id=\"path952\"/>\n",
       "    <circle style=\"opacity:1;fill:#ffffff;stroke:#000000;stroke-width:0.118401;filter:url(#filter2408)\" id=\"path1651\" cx=\"138.57416\" cy=\"110.38313\" r=\"3.4066997\"/>\n",
       "    <path style=\"fill:#ff0000;stroke:#ff0000;stroke-width:0.6;stroke-linecap:butt;stroke-linejoin:miter;stroke-miterlimit:4;stroke-dasharray:none;stroke-opacity:1;marker-end:url(#marker2416)\" d=\"M 95.780671,137.21565 133.12906,115.8268\" id=\"path2412\"/>\n",
       "    <path style=\"fill:#0000ff;stroke:#0000ff;stroke-width:0.6;stroke-linecap:butt;stroke-linejoin:miter;stroke-miterlimit:4;stroke-dasharray:none;stroke-opacity:1;marker-start:url(#Arrow1Lstart)\" d=\"m 142.94379,126.31518 17.66599,30.59839\" id=\"path954\"/>\n",
       "    <text xml:space=\"preserve\" style=\"font-size:7.7611px;line-height:1.25;font-family:sans-serif;-inkscape-font-specification:sans-serif;stroke-width:0.264583\" x=\"93.272186\" y=\"147.49698\" id=\"text1363\"><tspan sodipodi:role=\"line\" id=\"tspan1361\" x=\"93.272186\" y=\"147.49698\" style=\"stroke-width:0.264583\">O</tspan></text>\n",
       "    <text xml:space=\"preserve\" style=\"font-size:7.7611px;line-height:1.25;font-family:sans-serif;-inkscape-font-specification:sans-serif;stroke-width:0.264583\" x=\"134.21581\" y=\"104.81876\" id=\"text1385\"><tspan sodipodi:role=\"line\" id=\"tspan1383\" x=\"134.21581\" y=\"104.81876\" style=\"stroke-width:0.264583\">P</tspan></text>\n",
       "    <path style=\"fill:#ffff00;stroke:#ffff00;stroke-width:0.6;stroke-linecap:butt;stroke-linejoin:miter;stroke-miterlimit:4;stroke-dasharray:none;stroke-opacity:1;marker-end:url(#marker1477)\" d=\"M 133.12906,115.8268 104.68859,90.374736\" id=\"path1467\"/>\n",
       "    <ellipse style=\"fill:#ffffff;stroke:#00ff00;stroke-width:0.600001;stroke-linejoin:bevel;stroke-miterlimit:4;stroke-dasharray:none;stroke-dashoffset:0\" id=\"path1571\" cx=\"201.48685\" cy=\"-43.289783\" rx=\"9.8585386\" ry=\"3.2861795\" transform=\"rotate(45)\"/>\n",
       "    <path style=\"fill:none;stroke:#00ff00;stroke-width:0.6;stroke-linecap:butt;stroke-linejoin:miter;stroke-miterlimit:4;stroke-dasharray:none;stroke-opacity:1;marker-end:url(#marker1583)\" d=\"M 159.724,125.22143 189.48062,95.464812\" id=\"path1573\" sodipodi:nodetypes=\"cc\"/>\n",
       "    <path style=\"fill:#00ff00;stroke:#00ff00;stroke-width:0.264583px;stroke-linecap:butt;stroke-linejoin:miter;stroke-opacity:1\" d=\"m 175.38831,109.55712 7.93082,4.1376 -3.82056,-0.36189 -1.09694,3.0235 z\" id=\"path1657\"/>\n",
       "    <text xml:space=\"preserve\" style=\"font-size:7.7611px;line-height:1.25;font-family:sans-serif;-inkscape-font-specification:sans-serif;fill:#000000;stroke:#000000;stroke-width:0.264583\" x=\"104.5024\" y=\"124.5964\" id=\"text1684\"><tspan sodipodi:role=\"line\" id=\"tspan1682\" x=\"104.5024\" y=\"124.5964\" style=\"fill:#000000;stroke:#000000;stroke-width:0.264583\">p</tspan></text>\n",
       "    <text xml:space=\"preserve\" style=\"font-size:3.90641px;line-height:1.25;font-family:sans-serif;-inkscape-font-specification:sans-serif;fill:#000000;stroke:#000000;stroke-width:0.133173\" x=\"110.5701\" y=\"121.44292\" id=\"text1688\"><tspan sodipodi:role=\"line\" id=\"tspan1686\" x=\"110.5701\" y=\"121.44292\" style=\"fill:#000000;stroke:#000000;stroke-width:0.133173\">P/O</tspan></text>\n",
       "    <path style=\"fill:#000000;stroke:#000000;stroke-width:0.396628;stroke-linecap:butt;stroke-linejoin:miter;stroke-miterlimit:4;stroke-dasharray:none;stroke-opacity:1;marker-end:url(#Arrow2Mend)\" d=\"m 103.36634,118.22417 h 6.77347\" id=\"path1690\"/>\n",
       "    <text xml:space=\"preserve\" style=\"font-size:7.7611px;line-height:1.25;font-family:sans-serif;-inkscape-font-specification:sans-serif;stroke-width:0.264583\" x=\"117.28075\" y=\"101.01251\" id=\"text1810\"><tspan sodipodi:role=\"line\" id=\"tspan1808\" x=\"117.28075\" y=\"101.01251\" style=\"stroke-width:0.264583\">v<tspan style=\"font-size:65%;baseline-shift:super\" id=\"tspan1812\"/></tspan></text>\n",
       "    <path style=\"fill:#000000;stroke:#000000;stroke-width:0.396628;stroke-linecap:butt;stroke-linejoin:miter;stroke-miterlimit:4;stroke-dasharray:none;stroke-opacity:1;marker-end:url(#marker1824)\" d=\"m 114.75773,95.029455 h 6.77347\" id=\"path1820\"/>\n",
       "    <path style=\"fill:#000000;stroke:#000000;stroke-width:0.396628;stroke-linecap:butt;stroke-linejoin:miter;stroke-miterlimit:4;stroke-dasharray:none;stroke-opacity:1;marker-end:url(#marker1952)\" d=\"m 164.29928,95.563762 h 6.77347\" id=\"path1948\"/>\n",
       "    <text xml:space=\"preserve\" style=\"font-size:7.7611px;line-height:1.25;font-family:sans-serif;-inkscape-font-specification:sans-serif;stroke-width:0.264583\" x=\"157.21344\" y=\"146.88763\" id=\"text2110\"><tspan sodipodi:role=\"line\" id=\"tspan2108\" x=\"157.21344\" y=\"146.88763\" style=\"stroke-width:0.264583\">F</tspan></text>\n",
       "    <path style=\"fill:#000000;stroke:#000000;stroke-width:0.396628;stroke-linecap:butt;stroke-linejoin:miter;stroke-miterlimit:4;stroke-dasharray:none;stroke-opacity:1;marker-end:url(#marker2122)\" d=\"m 156.71721,139.39149 h 6.77347\" id=\"path2118\"/>\n",
       "    <text xml:space=\"preserve\" style=\"font-size:7.7611px;line-height:1.25;font-family:sans-serif;-inkscape-font-specification:sans-serif;stroke-width:0.264583\" x=\"163.97505\" y=\"103.01676\" id=\"text2240\"><tspan sodipodi:role=\"line\" id=\"tspan2238\" x=\"163.97505\" y=\"103.01676\" style=\"stroke-width:0.264583\">M<tspan style=\"font-size:65%;baseline-shift:super\" id=\"tspan2242\"/></tspan></text>\n",
       "    <text xml:space=\"preserve\" style=\"font-size:4.79452px;line-height:1.25;font-family:sans-serif;-inkscape-font-specification:sans-serif;stroke-width:0.163449\" x=\"122.27921\" y=\"97.816521\" id=\"text2429\"><tspan sodipodi:role=\"line\" id=\"tspan2427\" x=\"122.27921\" y=\"97.816521\" style=\"stroke-width:0.163449\">P</tspan></text>\n",
       "    <text xml:space=\"preserve\" style=\"font-size:4.86951px;line-height:1.25;font-family:sans-serif;-inkscape-font-specification:sans-serif;stroke-width:0.166006\" x=\"170.85793\" y=\"99.430992\" id=\"text2433\"><tspan sodipodi:role=\"line\" id=\"tspan2431\" x=\"170.85793\" y=\"99.430992\" style=\"stroke-width:0.166006\">F/O</tspan></text>\n",
       "  </g>\n",
       "</svg>"
      ],
      "text/plain": [
       "<IPython.core.display.SVG object>"
      ]
     },
     "execution_count": 28,
     "metadata": {},
     "output_type": "execute_result"
    }
   ],
   "source": [
    "SVG('partícula02.svg')"
   ]
  },
  {
   "cell_type": "markdown",
   "metadata": {},
   "source": [
    "### Forças Gravitacionais\n"
   ]
  },
  {
   "cell_type": "code",
   "execution_count": null,
   "metadata": {},
   "outputs": [],
   "source": []
  }
 ],
 "metadata": {
  "kernelspec": {
   "display_name": "Python 3",
   "language": "python",
   "name": "python3"
  },
  "language_info": {
   "codemirror_mode": {
    "name": "ipython",
    "version": 3
   },
   "file_extension": ".py",
   "mimetype": "text/x-python",
   "name": "python",
   "nbconvert_exporter": "python",
   "pygments_lexer": "ipython3",
   "version": "3.8.5"
  }
 },
 "nbformat": 4,
 "nbformat_minor": 4
}
