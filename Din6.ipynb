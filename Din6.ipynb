{
 "cells": [
  {
   "cell_type": "markdown",
   "metadata": {
    "slideshow": {
     "slide_type": "slide"
    }
   },
   "source": [
    "# 6. Propriedades de Inércia de Corpos Rígidos\n",
    "Professor Paulo Victor <br>\n",
    "E-mail: paulo.gomes@cefet-rj.br <br>\n",
    "CEFET-RJ Campus Angra dos Reis Sala 6E"
   ]
  },
  {
   "cell_type": "markdown",
   "metadata": {
    "slideshow": {
     "slide_type": "subslide"
    }
   },
   "source": [
    "O movimento que resulta quando forças atuam em um sistema material não depende somente das forças, mas também da constituição do sistema. Particularmente, a maneira na qual a massa está distribuida no sistema afeta o seu comportamento."
   ]
  },
  {
   "cell_type": "markdown",
   "metadata": {
    "slideshow": {
     "slide_type": "slide"
    }
   },
   "source": [
    "## 6.1 Centro de Massa"
   ]
  },
  {
   "cell_type": "markdown",
   "metadata": {
    "slideshow": {
     "slide_type": "subslide"
    }
   },
   "source": [
    "O centro de massa de um corpo rígido pode ser obtido por:\n",
    "$$ \\vec{p}{}^{*/O} = \\dfrac{1}{m} \\int_B \\vec{p} dm$$\n",
    "Ou:\n",
    "$$ \\vec{p}{}^{*/O} = \\dfrac{1}{m} \\int_B \\rho \\vec{p} dV$$"
   ]
  },
  {
   "cell_type": "code",
   "execution_count": 1,
   "metadata": {
    "slideshow": {
     "slide_type": "fragment"
    }
   },
   "outputs": [
    {
     "data": {
      "image/svg+xml": [
       "<svg xmlns:dc=\"http://purl.org/dc/elements/1.1/\" xmlns:cc=\"http://creativecommons.org/ns#\" xmlns:rdf=\"http://www.w3.org/1999/02/22-rdf-syntax-ns#\" xmlns:svg=\"http://www.w3.org/2000/svg\" xmlns=\"http://www.w3.org/2000/svg\" xmlns:sodipodi=\"http://sodipodi.sourceforge.net/DTD/sodipodi-0.dtd\" xmlns:inkscape=\"http://www.inkscape.org/namespaces/inkscape\" width=\"138.45097mm\" height=\"116.2886mm\" viewBox=\"0 0 138.45099 116.2886\" version=\"1.1\" id=\"svg8\" inkscape:version=\"1.0.1 (3bc2e813f5, 2020-09-07)\" sodipodi:docname=\"batata04.svg\">\n",
       "  <defs id=\"defs2\">\n",
       "    <inkscape:perspective sodipodi:type=\"inkscape:persp3d\" inkscape:vp_x=\"-1.0698118 : 78.090808 : 1\" inkscape:vp_y=\"0 : 999.99996 : 0\" inkscape:vp_z=\"103.05704 : 96.207666 : 1\" inkscape:persp3d-origin=\"46.178575 : 65.268489 : 1\" id=\"perspective62\"/>\n",
       "    <marker inkscape:stockid=\"DistanceStart\" orient=\"auto\" refY=\"0\" refX=\"0\" id=\"DistanceStart\" style=\"overflow:visible\" inkscape:isstock=\"true\">\n",
       "      <g id=\"g2300\">\n",
       "        <path id=\"path2306\" d=\"M 0,0 H 2\" style=\"fill:none;stroke:#ffffff;stroke-width:1.15;stroke-linecap:square\"/>\n",
       "        <path id=\"path2302\" d=\"M 0,0 13,4 9,0 13,-4 Z\" style=\"fill:#000000;fill-rule:evenodd;stroke:none\"/>\n",
       "        <path id=\"path2304\" d=\"M 0,-4 V 40\" style=\"fill:none;stroke:#000000;stroke-width:1;stroke-linecap:square\"/>\n",
       "      </g>\n",
       "    </marker>\n",
       "    <marker style=\"overflow:visible\" id=\"marker1788\" refX=\"0\" refY=\"0\" orient=\"auto\" inkscape:stockid=\"Arrow1Lend\" inkscape:isstock=\"true\">\n",
       "      <path transform=\"matrix(-0.8,0,0,-0.8,-10,0)\" style=\"fill:#ff0000;fill-opacity:1;fill-rule:evenodd;stroke:#ff0000;stroke-width:1pt;stroke-opacity:1\" d=\"M 0,0 5,-5 -12.5,0 5,5 Z\" id=\"path1786\"/>\n",
       "    </marker>\n",
       "    <marker style=\"overflow:visible\" id=\"marker1399\" refX=\"0\" refY=\"0\" orient=\"auto\" inkscape:stockid=\"Arrow1Lend\" inkscape:isstock=\"true\">\n",
       "      <path transform=\"matrix(-0.8,0,0,-0.8,-10,0)\" style=\"fill:#0000ff;fill-opacity:1;fill-rule:evenodd;stroke:#0000ff;stroke-width:1pt;stroke-opacity:1\" d=\"M 0,0 5,-5 -12.5,0 5,5 Z\" id=\"path1397\"/>\n",
       "    </marker>\n",
       "    <marker style=\"overflow:visible\" id=\"marker1379\" refX=\"0\" refY=\"0\" orient=\"auto\" inkscape:stockid=\"Arrow1Lend\" inkscape:isstock=\"true\">\n",
       "      <path transform=\"matrix(-0.8,0,0,-0.8,-10,0)\" style=\"fill:#0000ff;fill-opacity:1;fill-rule:evenodd;stroke:#0000ff;stroke-width:1pt;stroke-opacity:1\" d=\"M 0,0 5,-5 -12.5,0 5,5 Z\" id=\"path1377\"/>\n",
       "    </marker>\n",
       "    <filter inkscape:collect=\"always\" style=\"color-interpolation-filters:sRGB\" id=\"filter1977\" x=\"-0.67794436\" width=\"2.3558888\" y=\"-0.67794436\" height=\"2.3558888\">\n",
       "      <feGaussianBlur inkscape:collect=\"always\" stdDeviation=\"0.18001642\" id=\"feGaussianBlur1979\"/>\n",
       "    </filter>\n",
       "  </defs>\n",
       "  <sodipodi:namedview id=\"base\" pagecolor=\"#ffffff\" bordercolor=\"#666666\" borderopacity=\"1.0\" inkscape:pageopacity=\"0.0\" inkscape:pageshadow=\"2\" inkscape:zoom=\"6.016956\" inkscape:cx=\"316.133\" inkscape:cy=\"218.88313\" inkscape:document-units=\"mm\" inkscape:current-layer=\"layer2\" inkscape:document-rotation=\"0\" showgrid=\"true\" showguides=\"true\" inkscape:guide-bbox=\"true\" inkscape:snap-nodes=\"true\" inkscape:snap-grids=\"false\" inkscape:snap-to-guides=\"false\" inkscape:snap-smooth-nodes=\"true\" inkscape:object-paths=\"false\" inkscape:snap-intersection-paths=\"false\" inkscape:window-width=\"1920\" inkscape:window-height=\"1017\" inkscape:window-x=\"-8\" inkscape:window-y=\"-8\" inkscape:window-maximized=\"1\" showborder=\"false\" inkscape:snap-others=\"false\">\n",
       "    <inkscape:grid type=\"axonomgrid\" id=\"grid10\" originx=\"-7.713912\" originy=\"-57.473342\"/>\n",
       "  </sodipodi:namedview>\n",
       "  <metadata id=\"metadata5\">\n",
       "    <rdf:RDF>\n",
       "      <cc:Work rdf:about=\"\">\n",
       "        <dc:format>image/svg+xml</dc:format>\n",
       "        <dc:type rdf:resource=\"http://purl.org/dc/dcmitype/StillImage\"/>\n",
       "        <dc:title/>\n",
       "      </cc:Work>\n",
       "    </rdf:RDF>\n",
       "  </metadata>\n",
       "  <g inkscape:groupmode=\"layer\" id=\"layer2\" inkscape:label=\"fundo\" transform=\"translate(18.216858,20.679342)\">\n",
       "    <rect style=\"fill:#ffffff;stroke:#ffffff;stroke-width:0.2\" id=\"rect874\" width=\"138.25098\" height=\"116.0886\" x=\"-18.116858\" y=\"-20.579342\" ry=\"3.4745083\"/>\n",
       "  </g>\n",
       "  <g inkscape:label=\"Layer 1\" inkscape:groupmode=\"layer\" id=\"layer1\" transform=\"translate(-7.7139055,-57.473337)\">\n",
       "    <path style=\"fill:#00ff00;stroke:#00ff00;stroke-width:0.480159;stroke-linecap:butt;stroke-linejoin:miter;stroke-miterlimit:4;stroke-dasharray:none;stroke-opacity:1\" d=\"M 73.748769,130.9328 119.31921,101.99169\" id=\"path958\"/>\n",
       "    <g id=\"g176\" style=\"stroke-width:0.2;stroke-miterlimit:4;stroke-dasharray:none\" transform=\"matrix(1.3155054,0,0,1.3155054,-23.088418,-36.79413)\">\n",
       "      <path style=\"fill:none;stroke:#000000;stroke-width:0.2;stroke-linecap:butt;stroke-linejoin:miter;stroke-miterlimit:4;stroke-dasharray:none;stroke-opacity:1\" d=\"M 73.612159,127.5 V 80.499998\" id=\"path170\"/>\n",
       "      <path style=\"fill:none;stroke:#000000;stroke-width:0.2;stroke-linecap:butt;stroke-linejoin:miter;stroke-miterlimit:4;stroke-dasharray:none;stroke-opacity:1\" d=\"M 120.37753,154.5 73.612159,127.5 25.980763,155 v 0\" id=\"path172\"/>\n",
       "    </g>\n",
       "    <path style=\"fill:none;stroke:#0000ff;stroke-width:0.394652;stroke-linecap:butt;stroke-linejoin:miter;stroke-miterlimit:4;stroke-dasharray:none;stroke-opacity:1\" d=\"M 108.9677,102.80222 120.76563,82.398538\" id=\"path1369\"/>\n",
       "    <path style=\"fill:none;stroke:#0000ff;stroke-width:0.394652;stroke-linecap:butt;stroke-linejoin:miter;stroke-miterlimit:4;stroke-dasharray:none;stroke-opacity:1\" d=\"m 108.9677,102.80222 11.77113,20.41913\" id=\"path1371\"/>\n",
       "    <path style=\"fill:none;stroke:#0000ff;stroke-width:0.394652;stroke-linecap:butt;stroke-linejoin:miter;stroke-miterlimit:4;stroke-dasharray:none;stroke-opacity:1\" d=\"m 108.9677,102.80222 -23.569064,-0.0155\" id=\"path1373\"/>\n",
       "    <path style=\"fill:#ff0000;stroke:#ff0000;stroke-width:0.526202;stroke-linecap:butt;stroke-linejoin:miter;stroke-miterlimit:4;stroke-dasharray:none;stroke-opacity:1\" d=\"M 73.748774,130.93281 108.9677,102.80222\" id=\"path1784\"/>\n",
       "    <path style=\"fill:none;stroke:#000000;stroke-width:0.657753;stroke-linecap:butt;stroke-linejoin:miter;stroke-miterlimit:4;stroke-dasharray:none;stroke-opacity:1\" d=\"M 73.748774,130.93281 V 91.467648\" id=\"path12\"/>\n",
       "    <path style=\"fill:none;stroke:#000000;stroke-width:0.657753;stroke-linecap:butt;stroke-linejoin:miter;stroke-miterlimit:4;stroke-dasharray:none;stroke-opacity:1\" d=\"m 73.748774,130.93281 34.177836,19.73258\" id=\"path16\"/>\n",
       "    <path style=\"fill:none;stroke:#000000;stroke-width:0.657753;stroke-linecap:butt;stroke-linejoin:miter;stroke-miterlimit:4;stroke-dasharray:none;stroke-opacity:1\" d=\"M 73.748774,130.93281 39.570943,150.66539\" id=\"path20\"/>\n",
       "    <path style=\"fill:#000000;stroke:#000000;stroke-width:0.34806px;stroke-linecap:butt;stroke-linejoin:miter;stroke-opacity:1\" d=\"m 107.92661,150.66539 -2.66345,-5.45767 -4.68076,3.40418 z\" id=\"path1401\"/>\n",
       "    <path style=\"fill:#000000;stroke:#000000;stroke-width:0.34806px;stroke-linecap:butt;stroke-linejoin:miter;stroke-opacity:1\" d=\"m 39.570943,150.66539 8.388377,-1.48612 -2.978662,-4.53892 z\" id=\"path1442\"/>\n",
       "    <path style=\"fill:#000000;stroke:#000000;stroke-width:0.34806px;stroke-linecap:butt;stroke-linejoin:miter;stroke-opacity:1\" d=\"M 73.748774,91.467648 71.6468,98.116438 75.902036,97.9746 Z\" id=\"path1444\"/>\n",
       "    <path style=\"fill:#0000ff;stroke:#0000ff;stroke-width:0.34806px;stroke-linecap:butt;stroke-linejoin:miter;stroke-opacity:1\" d=\"m 120.76563,82.398538 -3.51689,2.597589 3.19143,1.914856 z\" id=\"path1536\"/>\n",
       "    <g id=\"g1573\" transform=\"matrix(0.69656348,0.40277073,-0.40277073,0.69656348,124.67064,12.651682)\">\n",
       "      <circle style=\"fill:#ffffff;stroke:#000000;stroke-width:0.245;stroke-miterlimit:4;stroke-dasharray:none\" id=\"path1556\" cx=\"38.971142\" cy=\"106.5\" r=\"3.8038476\"/>\n",
       "      <path style=\"fill:none;stroke:#000000;stroke-width:0.264583px;stroke-linecap:butt;stroke-linejoin:miter;stroke-opacity:1\" d=\"m 35.167294,106.5 h 7.607695\" id=\"path1558\"/>\n",
       "      <path style=\"fill:none;stroke:#000000;stroke-width:0.264583px;stroke-linecap:butt;stroke-linejoin:miter;stroke-opacity:1\" d=\"m 38.97114,102.69615 v 7.6077\" id=\"path1560\"/>\n",
       "      <path style=\"fill:#000000;stroke:#000000;stroke-width:0.108081;stroke-miterlimit:4;stroke-dasharray:none\" d=\"m 133.49764,401.22822 c 0.45172,-4.05981 2.41113,-7.48554 5.65105,-9.87998 1.96041,-1.44884 4.2684,-2.32713 6.92566,-2.63553 l 0.67114,-0.0779 v 6.66145 6.66145 h -6.66451 -6.66451 z\" id=\"path1564\" transform=\"scale(0.26458333)\"/>\n",
       "      <path style=\"fill:#000000;stroke:#000000;stroke-width:0.108081;stroke-miterlimit:4;stroke-dasharray:none\" d=\"m 147.79598,409.71961 v -6.59469 h 6.65305 6.65305 v 0.39323 c 0,0.66611 -0.32724,2.31304 -0.65346,3.28872 -1.58524,4.74127 -5.56218,8.28667 -10.39494,9.26695 -0.65204,0.13227 -1.42677,0.24048 -1.72162,0.24048 h -0.53608 z\" id=\"path1566\" transform=\"scale(0.26458333)\"/>\n",
       "    </g>\n",
       "    <path style=\"fill:none;stroke:#000000;stroke-width:1.21275;stroke-linecap:butt;stroke-linejoin:miter;stroke-miterlimit:4;stroke-dasharray:none;stroke-opacity:1\" d=\"m 128.41438,78.656007 c -1.86773,-1.493756 -3.65658,-3.091868 -5.60317,-4.481267 -0.75491,-0.538835 -2.35054,-0.462605 -3.25869,-0.57802 -1.23335,-0.156754 -2.13345,0.05429 -3.29466,0.56454 -4.59443,2.018813 -2.68938,6.810366 -5.83328,9.364367 -0.78,0.63366 -2.18228,1.103632 -3.02765,1.472493 -5.60653,2.446272 -12.116298,3.102868 -15.980642,8.402511 -1.525385,2.09186 -2.236436,4.514718 -2.803813,7.018089 -2.913421,12.85421 9.233066,24.15615 21.832825,22.05754 3.39094,-0.5648 10.28733,-4.53789 11.91286,-7.77234 1.54785,-3.07983 0.6928,-6.79068 2.33906,-9.80845 1.59516,-2.92408 4.22125,-5.292551 5.6966,-8.289259 0.73938,-1.501728 1.61104,-3.084876 2.22759,-4.63319 0.4479,-1.124751 0.19586,-2.400674 0.34342,-3.561631 0.50824,-3.999011 -1.32701,-7.596834 -4.5505,-9.75541 z\" id=\"path1557\"/>\n",
       "    <path style=\"fill:#0000ff;stroke:#0000ff;stroke-width:0.34806px;stroke-linecap:butt;stroke-linejoin:miter;stroke-opacity:1\" d=\"m 85.398635,102.78669 4.332918,-1.47882 -0.283683,2.90774 -4.049235,-1.42892\" id=\"path1538\"/>\n",
       "    <path style=\"fill:#0000ff;stroke:#0000ff;stroke-width:0.34806px;stroke-linecap:butt;stroke-linejoin:miter;stroke-opacity:1\" d=\"m 120.73883,123.22135 -0.15682,-4.18334 -3.04958,1.84393 z\" id=\"path1540\"/>\n",
       "    <path style=\"fill:#ff0000;stroke:#ff0000;stroke-width:0.34806px;stroke-linecap:butt;stroke-linejoin:miter;stroke-opacity:1\" d=\"m 108.9677,102.80222 -4.98111,2.12259 2.34038,2.0567 z\" id=\"path1548\"/>\n",
       "    <circle style=\"fill:#ffffff;stroke:#ffffff;stroke-width:0.315635;stroke-miterlimit:4;stroke-dasharray:none;filter:url(#filter1977)\" id=\"path1567\" cx=\"113.71622\" cy=\"99.111877\" r=\"0.31863928\" transform=\"matrix(1.3155054,0,0,1.3155054,-23.088418,-36.79413)\"/>\n",
       "    <text xml:space=\"preserve\" style=\"font-style:normal;font-variant:normal;font-weight:normal;font-stretch:normal;font-size:8.30469px;line-height:1.25;font-family:sans-serif;-inkscape-font-specification:sans-serif;letter-spacing:0px;word-spacing:0px;fill:#000000;fill-opacity:1;stroke:none;stroke-width:0.222447\" x=\"64.661705\" y=\"93.688652\" id=\"text1991\"><tspan sodipodi:role=\"line\" id=\"tspan1989\" x=\"64.661705\" y=\"93.688652\" style=\"stroke-width:0.222447\">N</tspan></text>\n",
       "    <text xml:space=\"preserve\" style=\"font-style:normal;font-variant:normal;font-weight:normal;font-stretch:normal;font-size:8.30469px;line-height:1.25;font-family:sans-serif;-inkscape-font-specification:sans-serif;letter-spacing:0px;word-spacing:0px;fill:#000000;fill-opacity:1;stroke:none;stroke-width:0.222447\" x=\"120.3164\" y=\"72.070297\" id=\"text1995\"><tspan sodipodi:role=\"line\" id=\"tspan1993\" x=\"120.3164\" y=\"72.070297\" style=\"stroke-width:0.222447\">B</tspan></text>\n",
       "    <text xml:space=\"preserve\" style=\"font-style:normal;font-variant:normal;font-weight:normal;font-stretch:normal;font-size:8.30469px;line-height:1.25;font-family:sans-serif;-inkscape-font-specification:sans-serif;letter-spacing:0px;word-spacing:0px;fill:#0000ff;fill-opacity:1;stroke:none;stroke-width:0.222447\" x=\"113.47897\" y=\"83.633598\" id=\"text1999\"><tspan sodipodi:role=\"line\" id=\"tspan1997\" x=\"113.47897\" y=\"83.633598\" style=\"fill:#0000ff;stroke-width:0.222447\">B</tspan></text>\n",
       "    <text xml:space=\"preserve\" style=\"font-style:normal;font-variant:normal;font-weight:normal;font-stretch:normal;font-size:6.28068px;line-height:1.25;font-family:sans-serif;-inkscape-font-specification:sans-serif;letter-spacing:0px;word-spacing:0px;fill:#000000;fill-opacity:1;stroke:none;stroke-width:0.168232\" x=\"71.378998\" y=\"138.5287\" id=\"text2003\"><tspan sodipodi:role=\"line\" id=\"tspan2001\" x=\"71.378998\" y=\"138.5287\" style=\"stroke-width:0.168232\">O</tspan></text>\n",
       "    <path style=\"fill:none;stroke:#000000;stroke-width:0.217058;stroke-linecap:butt;stroke-linejoin:miter;stroke-miterlimit:4;stroke-dasharray:none;stroke-opacity:1\" d=\"m 118.17995,98.702929 v 2.631001 l 2.27852,1.31552 v -2.63102 z\" id=\"path96\"/>\n",
       "    <path style=\"fill:none;stroke:#000000;stroke-width:0.217058;stroke-linecap:butt;stroke-linejoin:miter;stroke-miterlimit:4;stroke-dasharray:none;stroke-opacity:1\" d=\"m 120.45847,100.01843 2.27852,-1.315501 -2.27852,-1.315505 -2.27852,1.315505 z\" id=\"path98\"/>\n",
       "    <path style=\"fill:none;stroke:#000000;stroke-width:0.217058;stroke-linecap:butt;stroke-linejoin:miter;stroke-miterlimit:4;stroke-dasharray:none;stroke-opacity:1\" d=\"m 120.45847,102.64945 2.27852,-1.31552 v -2.631001 l -2.27852,1.315501 v 2.63102\" id=\"path100\"/>\n",
       "    <path style=\"fill:#00ff00;stroke:#00ff00;stroke-width:0.34806px;stroke-linecap:butt;stroke-linejoin:miter;stroke-opacity:1\" d=\"m 119.31921,101.99169 -2.89896,0.75708 1.33047,1.18586 z\" id=\"path960\"/>\n",
       "    <text xml:space=\"preserve\" style=\"font-style:normal;font-variant:normal;font-weight:normal;font-stretch:normal;font-size:3.93572px;line-height:1.25;font-family:sans-serif;-inkscape-font-specification:sans-serif;letter-spacing:0px;word-spacing:0px;fill:#000000;fill-opacity:1;stroke:none;stroke-width:0.34806\" x=\"117.61423\" y=\"96.456055\" id=\"text964\"><tspan sodipodi:role=\"line\" id=\"tspan962\" x=\"117.61423\" y=\"96.456055\" style=\"stroke-width:0.34806\">dm</tspan></text>\n",
       "    <text xml:space=\"preserve\" style=\"font-style:normal;font-variant:normal;font-weight:normal;font-stretch:normal;font-size:7.31905px;line-height:1.25;font-family:sans-serif;-inkscape-font-specification:sans-serif;letter-spacing:0px;word-spacing:0px;fill:#ff0000;fill-opacity:1;stroke:none;stroke-width:0.34806\" x=\"79.913811\" y=\"118.91154\" id=\"text968\"><tspan sodipodi:role=\"line\" id=\"tspan966\" x=\"79.913811\" y=\"118.91154\" style=\"fill:#ff0000;stroke-width:0.34806\">p</tspan></text>\n",
       "    <path style=\"fill:#ff0000;stroke:#ff0000;stroke-width:0.34806px;stroke-linecap:butt;stroke-linejoin:miter;stroke-opacity:1\" d=\"m 79.853998,113.9097 h 3.603067 v 0.69762 l 1.441225,-0.79275 -1.506736,-0.79276 0.06551,0.88789\" id=\"path970\"/>\n",
       "    <text xml:space=\"preserve\" style=\"font-style:normal;font-variant:normal;font-weight:normal;font-stretch:normal;font-size:3.01489px;line-height:1.25;font-family:sans-serif;-inkscape-font-specification:sans-serif;letter-spacing:0px;word-spacing:0px;fill:#ff0000;fill-opacity:1;stroke:none;stroke-width:0.402267\" x=\"85.139145\" y=\"116.09601\" id=\"text974\"><tspan sodipodi:role=\"line\" id=\"tspan972\" x=\"85.139145\" y=\"116.09601\" style=\"fill:#ff0000;stroke-width:0.402267\">*/O</tspan></text>\n",
       "    <text xml:space=\"preserve\" style=\"font-style:normal;font-variant:normal;font-weight:normal;font-stretch:normal;font-size:7.31905px;line-height:1.25;font-family:sans-serif;-inkscape-font-specification:sans-serif;letter-spacing:0px;word-spacing:0px;fill:#00ff00;fill-opacity:1;stroke:none;stroke-width:0.34806\" x=\"102.24263\" y=\"119.72141\" id=\"text978\"><tspan sodipodi:role=\"line\" id=\"tspan976\" x=\"102.24263\" y=\"119.72141\" style=\"fill:#00ff00;stroke-width:0.34806\">p</tspan></text>\n",
       "    <path style=\"fill:#00ff00;stroke:#00ff00;stroke-width:0.34806px;stroke-linecap:butt;stroke-linejoin:miter;stroke-opacity:1\" d=\"m 102.18281,114.71955 h 3.60307 v 0.69763 l 1.44122,-0.79275 -1.50674,-0.79277 0.0655,0.88789\" id=\"path980\"/>\n",
       "    <text xml:space=\"preserve\" style=\"font-style:normal;font-variant:normal;font-weight:normal;font-stretch:normal;font-size:6.26136px;line-height:1.25;font-family:sans-serif;-inkscape-font-specification:sans-serif;letter-spacing:0px;word-spacing:0px;fill:#000000;fill-opacity:1;stroke:none;stroke-width:0.34806\" x=\"104.3548\" y=\"112.0995\" id=\"text984\"><tspan sodipodi:role=\"line\" id=\"tspan982\" x=\"104.3548\" y=\"112.0995\" style=\"stroke-width:0.34806\">B<tspan style=\"font-size:4.06988px;baseline-shift:super;stroke-width:0.34806\" id=\"tspan986\">*</tspan></tspan></text>\n",
       "  </g>\n",
       "</svg>"
      ],
      "text/plain": [
       "<IPython.core.display.SVG object>"
      ]
     },
     "execution_count": 1,
     "metadata": {},
     "output_type": "execute_result"
    }
   ],
   "source": [
    "from IPython.display import SVG\n",
    "SVG('batata04.svg')"
   ]
  },
  {
   "cell_type": "markdown",
   "metadata": {
    "slideshow": {
     "slide_type": "subslide"
    }
   },
   "source": [
    "Observa-se que os **centros de massas** de várias figuras elementares podem ser obtidos em tabelas. E o centro de massa de figuras complexas podem ser obtidos através da simplificação dessas figuras em uma soma (ou subtração) de figuras elementares, onde são obtidos os centros de massa das figuras elementares que compõem a figura complexa e seu centro de massa é obtido tratando as figuras elementares como partículas."
   ]
  },
  {
   "cell_type": "markdown",
   "metadata": {
    "slideshow": {
     "slide_type": "subslide"
    }
   },
   "source": [
    "![](Inercia1.png)"
   ]
  },
  {
   "cell_type": "markdown",
   "metadata": {
    "slideshow": {
     "slide_type": "subslide"
    }
   },
   "source": [
    "![](Inercia2.png)"
   ]
  },
  {
   "cell_type": "markdown",
   "metadata": {
    "slideshow": {
     "slide_type": "slide"
    }
   },
   "source": [
    "## 6.2 Tensor de Inércia de um Corpo Rígido"
   ]
  },
  {
   "cell_type": "markdown",
   "metadata": {
    "slideshow": {
     "slide_type": "subslide"
    }
   },
   "source": [
    "O **Tensor de Inércia** de um corpo rígido pode ser obtido por:\n",
    "$$ \\underline{I}^{B/O} = \\int_{B} \\left(p^{2} \\underline{1} - \\vec{p} \\otimes \\vec{p} \\right)dm $$\n",
    "\n",
    "Observa-se que os **momentos de inércia** de várias figuras elementares podem ser obtidos em tabelas. E os momentos de inércia de figuras complexas podem ser obtidos através da simplificação dessas figuras em uma soma (ou subtração) de figuras elementares."
   ]
  },
  {
   "cell_type": "markdown",
   "metadata": {
    "slideshow": {
     "slide_type": "subslide"
    }
   },
   "source": [
    "![](Inercia3.png)"
   ]
  },
  {
   "cell_type": "markdown",
   "metadata": {
    "slideshow": {
     "slide_type": "subslide"
    }
   },
   "source": [
    "![](Inercia4.png)"
   ]
  },
  {
   "cell_type": "markdown",
   "metadata": {
    "slideshow": {
     "slide_type": "subslide"
    }
   },
   "source": [
    "![](Inercia5.png)"
   ]
  },
  {
   "cell_type": "markdown",
   "metadata": {
    "slideshow": {
     "slide_type": "subslide"
    }
   },
   "source": [
    "![](Inercia6.png)"
   ]
  },
  {
   "cell_type": "markdown",
   "metadata": {
    "slideshow": {
     "slide_type": "subslide"
    }
   },
   "source": [
    "Caso se necessite expressar o Tensor de Inércia em relação a um ponto diferente do centro de massa, podemos utilizar o teorema dos eixos paralelos:\n",
    "$$ \\underline{I}^{B/O} = \\underline{I}^{B/B^*} + \\underline{I}^{B^*/O} $$\n",
    "Ou, escrevendo como vetores de inércia:\n",
    "$$ \\vec{I}{}^{B/O} = \\vec{I}{}^{B/B^*} + \\vec{I}{}^{B^*/O} $$"
   ]
  },
  {
   "cell_type": "markdown",
   "metadata": {
    "slideshow": {
     "slide_type": "slide"
    }
   },
   "source": [
    "### Exemplo 1\n",
    "Usar o teorema dos eixos paralelos para escrever o tensor de inércia da barra $B$ em relação ao ponto $O$:"
   ]
  },
  {
   "cell_type": "code",
   "execution_count": 2,
   "metadata": {
    "slideshow": {
     "slide_type": "fragment"
    }
   },
   "outputs": [
    {
     "data": {
      "image/svg+xml": [
       "<svg xmlns:dc=\"http://purl.org/dc/elements/1.1/\" xmlns:cc=\"http://creativecommons.org/ns#\" xmlns:rdf=\"http://www.w3.org/1999/02/22-rdf-syntax-ns#\" xmlns:svg=\"http://www.w3.org/2000/svg\" xmlns=\"http://www.w3.org/2000/svg\" xmlns:xlink=\"http://www.w3.org/1999/xlink\" xmlns:sodipodi=\"http://sodipodi.sourceforge.net/DTD/sodipodi-0.dtd\" xmlns:inkscape=\"http://www.inkscape.org/namespaces/inkscape\" width=\"129.6378mm\" height=\"179.04155mm\" viewBox=\"0 0 129.6378 179.04155\" version=\"1.1\" id=\"svg8\" inkscape:version=\"1.0.1 (3bc2e813f5, 2020-09-07)\" sodipodi:docname=\"pend_fis.svg\">\n",
       "  <defs id=\"defs2\">\n",
       "    <marker style=\"overflow:visible\" id=\"marker932\" refX=\"0\" refY=\"0\" orient=\"auto\" inkscape:stockid=\"Arrow1Lend\" inkscape:isstock=\"true\">\n",
       "      <path transform=\"matrix(-0.8,0,0,-0.8,-10,0)\" style=\"fill:#000000;fill-opacity:1;fill-rule:evenodd;stroke:#000000;stroke-width:1pt;stroke-opacity:1\" d=\"M 0,0 5,-5 -12.5,0 5,5 Z\" id=\"path930\"/>\n",
       "    </marker>\n",
       "    <marker style=\"overflow:visible\" id=\"marker1470\" refX=\"0\" refY=\"0\" orient=\"auto\" inkscape:stockid=\"Arrow1Lend\" inkscape:isstock=\"true\" inkscape:collect=\"always\">\n",
       "      <path transform=\"matrix(-0.8,0,0,-0.8,-10,0)\" style=\"fill:#000000;fill-opacity:1;fill-rule:evenodd;stroke:#000000;stroke-width:1pt;stroke-opacity:1\" d=\"M 0,0 5,-5 -12.5,0 5,5 Z\" id=\"path1468\"/>\n",
       "    </marker>\n",
       "    <marker style=\"overflow:visible\" id=\"marker1424\" refX=\"0\" refY=\"0\" orient=\"auto\" inkscape:stockid=\"Arrow1Lstart\" inkscape:isstock=\"true\">\n",
       "      <path transform=\"matrix(0.8,0,0,0.8,10,0)\" style=\"fill:#000000;fill-opacity:1;fill-rule:evenodd;stroke:#000000;stroke-width:1pt;stroke-opacity:1\" d=\"M 0,0 5,-5 -12.5,0 5,5 Z\" id=\"path1422\"/>\n",
       "    </marker>\n",
       "    <marker style=\"overflow:visible\" id=\"marker1378\" refX=\"0\" refY=\"0\" orient=\"auto\" inkscape:stockid=\"Arrow1Lend\" inkscape:isstock=\"true\">\n",
       "      <path transform=\"matrix(-0.8,0,0,-0.8,-10,0)\" style=\"fill:#000000;fill-opacity:1;fill-rule:evenodd;stroke:#000000;stroke-width:1pt;stroke-opacity:1\" d=\"M 0,0 5,-5 -12.5,0 5,5 Z\" id=\"path1376\"/>\n",
       "    </marker>\n",
       "    <marker style=\"overflow:visible\" id=\"Arrow1Lstart\" refX=\"0\" refY=\"0\" orient=\"auto\" inkscape:stockid=\"Arrow1Lstart\" inkscape:isstock=\"true\">\n",
       "      <path transform=\"matrix(0.8,0,0,0.8,10,0)\" style=\"fill:#000000;fill-opacity:1;fill-rule:evenodd;stroke:#000000;stroke-width:1pt;stroke-opacity:1\" d=\"M 0,0 5,-5 -12.5,0 5,5 Z\" id=\"path933\"/>\n",
       "    </marker>\n",
       "    <inkscape:path-effect effect=\"spiro\" id=\"path-effect1338\" is_visible=\"true\" lpeversion=\"1\"/>\n",
       "    <inkscape:path-effect effect=\"simplify\" id=\"path-effect1336\" is_visible=\"true\" lpeversion=\"1\" steps=\"1\" threshold=\"0.00243902\" smooth_angles=\"360\" helper_size=\"0\" simplify_individual_paths=\"false\" simplify_just_coalesce=\"false\"/>\n",
       "    <inkscape:path-effect effect=\"spiro\" id=\"path-effect1332\" is_visible=\"true\" lpeversion=\"1\"/>\n",
       "    <inkscape:path-effect effect=\"simplify\" id=\"path-effect1330\" is_visible=\"true\" lpeversion=\"1\" steps=\"1\" threshold=\"0.00243902\" smooth_angles=\"360\" helper_size=\"0\" simplify_individual_paths=\"false\" simplify_just_coalesce=\"false\"/>\n",
       "    <inkscape:path-effect effect=\"spiro\" id=\"path-effect1326\" is_visible=\"true\" lpeversion=\"1\"/>\n",
       "    <inkscape:path-effect effect=\"simplify\" id=\"path-effect1324\" is_visible=\"true\" lpeversion=\"1\" steps=\"1\" threshold=\"0.00243902\" smooth_angles=\"360\" helper_size=\"0\" simplify_individual_paths=\"false\" simplify_just_coalesce=\"false\"/>\n",
       "    <marker style=\"overflow:visible\" id=\"marker1223\" refX=\"0\" refY=\"0\" orient=\"auto\" inkscape:stockid=\"Arrow1Lend\" inkscape:isstock=\"true\">\n",
       "      <path transform=\"matrix(-0.8,0,0,-0.8,-10,0)\" style=\"fill:#000000;fill-opacity:1;fill-rule:evenodd;stroke:#000000;stroke-width:1pt;stroke-opacity:1\" d=\"M 0,0 5,-5 -12.5,0 5,5 Z\" id=\"path1221\"/>\n",
       "    </marker>\n",
       "    <linearGradient inkscape:collect=\"always\" id=\"linearGradient912\">\n",
       "      <stop style=\"stop-color:#b3b3b3;stop-opacity:1;\" offset=\"0\" id=\"stop908\"/>\n",
       "      <stop style=\"stop-color:#b3b3b3;stop-opacity:0;\" offset=\"1\" id=\"stop910\"/>\n",
       "    </linearGradient>\n",
       "    <linearGradient inkscape:collect=\"always\" xlink:href=\"#linearGradient912\" id=\"linearGradient918\" x1=\"95.06414\" y1=\"130.42107\" x2=\"107.64968\" y2=\"130.42107\" gradientUnits=\"userSpaceOnUse\" gradientTransform=\"matrix(0.82453135,0,0,0.82453135,-37.440737,72.389277)\"/>\n",
       "  </defs>\n",
       "  <sodipodi:namedview id=\"base\" pagecolor=\"#ffffff\" bordercolor=\"#666666\" borderopacity=\"1.0\" inkscape:pageopacity=\"0.0\" inkscape:pageshadow=\"2\" inkscape:zoom=\"0.8033298\" inkscape:cx=\"313.2755\" inkscape:cy=\"425.66287\" inkscape:document-units=\"mm\" inkscape:current-layer=\"layer1\" inkscape:document-rotation=\"0\" showgrid=\"false\" inkscape:snap-object-midpoints=\"true\" inkscape:snap-smooth-nodes=\"true\" inkscape:snap-nodes=\"true\" inkscape:window-width=\"1920\" inkscape:window-height=\"1017\" inkscape:window-x=\"-8\" inkscape:window-y=\"-8\" inkscape:window-maximized=\"1\" showguides=\"true\" inkscape:guide-bbox=\"true\"/>\n",
       "  <metadata id=\"metadata5\">\n",
       "    <rdf:RDF>\n",
       "      <cc:Work rdf:about=\"\">\n",
       "        <dc:format>image/svg+xml</dc:format>\n",
       "        <dc:type rdf:resource=\"http://purl.org/dc/dcmitype/StillImage\"/>\n",
       "        <dc:title/>\n",
       "      </cc:Work>\n",
       "    </rdf:RDF>\n",
       "  </metadata>\n",
       "  <g inkscape:label=\"Layer 1\" inkscape:groupmode=\"layer\" id=\"layer1\" transform=\"translate(-7.8624002,-68.210417)\">\n",
       "    <path id=\"path839\" style=\"fill:#ffffff;stroke:#666666;stroke-width:0.577172;stroke-linejoin:bevel;stroke-miterlimit:4;stroke-dasharray:none\" d=\"m 65.475059,102.77312 v 15.25439 a 8.7262896,8.7262896 0 0 0 0,0.0166 8.7262896,8.7262896 0 0 0 8.709672,8.7263 8.7262896,8.7262896 0 0 0 0.01662,0 8.7262896,8.7262896 0 0 0 8.726291,-8.7263 v -15.271 z m 8.774436,12.32503 a 3.0502759,3.0502759 0 0 1 3.050366,3.05037 3.0502759,3.0502759 0 0 1 -3.050366,3.05036 3.0502759,3.0502759 0 0 1 -3.050366,-3.05036 3.0502759,3.0502759 0 0 1 3.050366,-3.05037 z\"/>\n",
       "    <path style=\"fill:none;stroke:#666666;stroke-width:0.577172;stroke-linecap:butt;stroke-linejoin:miter;stroke-miterlimit:4;stroke-dasharray:none;stroke-opacity:1\" d=\"M 44.750314,102.77328 H 108.01592\" id=\"path850\"/>\n",
       "    <path style=\"fill:none;stroke:#666666;stroke-width:0.577172;stroke-linecap:butt;stroke-linejoin:miter;stroke-miterlimit:4;stroke-dasharray:none;stroke-opacity:1\" d=\"M 44.750314,102.77328 52.937268,88.593051\" id=\"path852\"/>\n",
       "    <path style=\"fill:none;stroke:#666666;stroke-width:0.577172;stroke-linecap:butt;stroke-linejoin:miter;stroke-miterlimit:4;stroke-dasharray:none;stroke-opacity:1\" d=\"M 59.1487,102.77328 67.335655,88.593051\" id=\"path854\"/>\n",
       "    <path style=\"fill:none;stroke:#666666;stroke-width:0.577172;stroke-linecap:butt;stroke-linejoin:miter;stroke-miterlimit:4;stroke-dasharray:none;stroke-opacity:1\" d=\"M 73.110773,102.77328 81.297727,88.593051\" id=\"path856\"/>\n",
       "    <path style=\"fill:none;stroke:#666666;stroke-width:0.577172;stroke-linecap:butt;stroke-linejoin:miter;stroke-miterlimit:4;stroke-dasharray:none;stroke-opacity:1\" d=\"M 87.509161,102.77328 95.696114,88.593051\" id=\"path858\"/>\n",
       "    <path style=\"fill:none;stroke:#666666;stroke-width:0.577172;stroke-linecap:butt;stroke-linejoin:miter;stroke-miterlimit:4;stroke-dasharray:none;stroke-opacity:1\" d=\"m 101.90755,102.77328 8.18696,-14.180229\" id=\"path860\"/>\n",
       "    <rect style=\"mix-blend-mode:lighten;fill:url(#linearGradient918);fill-opacity:1;stroke:#666666;stroke-width:0.2185;stroke-linejoin:bevel\" id=\"rect906\" width=\"10.15867\" height=\"104.74695\" x=\"41.051872\" y=\"127.55206\" transform=\"rotate(-12.73486)\"/>\n",
       "    <path style=\"fill:none;stroke:#666666;stroke-width:0.218157px;stroke-linecap:butt;stroke-linejoin:miter;stroke-opacity:1\" d=\"M 74.020802,118.0146 V 76.802071\" id=\"path929\"/>\n",
       "    <path style=\"fill:none;stroke:#666666;stroke-width:0.218501;stroke-linecap:butt;stroke-linejoin:miter;stroke-miterlimit:4;stroke-dasharray:none;stroke-opacity:1\" d=\"M 74.020802,118.0146 H 115.94038\" id=\"path931\"/>\n",
       "    <g id=\"g1264\" transform=\"matrix(0.82453133,0,0,0.82453133,54.27065,62.09496)\" style=\"stroke:#666666\">\n",
       "      <circle style=\"fill:#ffffff;stroke:#666666;stroke-width:0.264999;stroke-linejoin:bevel;stroke-miterlimit:4;stroke-dasharray:none\" id=\"path1249\" cx=\"36.855473\" cy=\"125.2049\" r=\"3.9084051\"/>\n",
       "      <path style=\"fill:none;stroke:#666666;stroke-width:0.264583px;stroke-linecap:butt;stroke-linejoin:miter;stroke-opacity:1\" d=\"m 36.855471,121.2965 v 7.8168\" id=\"path1251\"/>\n",
       "      <path style=\"fill:none;stroke:#666666;stroke-width:0.264583px;stroke-linecap:butt;stroke-linejoin:miter;stroke-opacity:1\" d=\"m 32.947067,125.2049 h 7.81681\" id=\"path1253\"/>\n",
       "      <path style=\"fill:#000000;stroke:#666666;stroke-width:0.105765;stroke-linejoin:bevel;stroke-miterlimit:4;stroke-dasharray:none\" d=\"m 36.85197,123.24342 v -2.00373 l 0.343197,0.0665 c 1.851938,0.35877 3.295142,1.7704 3.525078,3.44795 l 0.06758,0.49303 H 38.819896 36.85197 Z\" id=\"path1255\"/>\n",
       "      <path style=\"fill:#000000;stroke:#666666;stroke-width:0.104542;stroke-linejoin:bevel;stroke-miterlimit:4;stroke-dasharray:none\" d=\"m 35.749932,128.89176 c -0.739587,-0.26625 -1.424569,-0.75819 -1.908921,-1.37094 -0.444537,-0.56238 -0.839236,-1.49359 -0.839236,-1.97999 v -0.30922 h 1.930995 1.930995 v 1.931 1.931 l -0.287039,-0.004 c -0.157872,-0.002 -0.529929,-0.0912 -0.826794,-0.19808 z\" id=\"path1257\"/>\n",
       "    </g>\n",
       "    <path style=\"fill:none;stroke:#666666;stroke-width:0.218157px;stroke-linecap:butt;stroke-linejoin:miter;stroke-opacity:1\" d=\"M 74.020802,118.0146 14.582267,132.11113\" id=\"path1266\" sodipodi:nodetypes=\"cc\"/>\n",
       "    <path style=\"fill:none;stroke:#666666;stroke-width:0.218157px;stroke-linecap:butt;stroke-linejoin:miter;stroke-opacity:1\" d=\"M 91.249944,217.53512 42.231986,230.66946\" id=\"path1268\"/>\n",
       "    <path style=\"fill:#666666;stroke:#666666;stroke-width:0.218157px;stroke-linecap:butt;stroke-linejoin:miter;stroke-opacity:1;marker-start:url(#marker1424);marker-end:url(#marker1470)\" d=\"M 47.818067,229.26086 21.279837,130.21884\" id=\"path1270\"/>\n",
       "    <text xml:space=\"preserve\" style=\"font-size:6.39927px;line-height:1.25;font-family:sans-serif;-inkscape-font-specification:sans-serif;stroke-width:0.218157;stroke:#666666;fill:#666666;\" x=\"39.12429\" y=\"185.14156\" id=\"text1274\"><tspan sodipodi:role=\"line\" id=\"tspan1272\" x=\"39.12429\" y=\"185.14156\" style=\"stroke-width:0.218157;stroke:#666666;fill:#666666;\">L</tspan></text>\n",
       "    <text xml:space=\"preserve\" style=\"font-size:6.39927px;line-height:1.25;font-family:sans-serif;-inkscape-font-specification:sans-serif;stroke-width:0.218157;stroke:#666666;fill:#808080;\" x=\"67.242424\" y=\"115.63868\" id=\"text1278\"><tspan sodipodi:role=\"line\" id=\"tspan1276\" x=\"67.242424\" y=\"115.63868\" style=\"stroke-width:0.218157;stroke:#666666;fill:#808080;\">O</tspan></text>\n",
       "    <text xml:space=\"preserve\" style=\"font-size:6.39927px;line-height:1.25;font-family:sans-serif;-inkscape-font-specification:sans-serif;stroke-width:0.218157;stroke:#666666;fill:#666666;\" x=\"67.301094\" y=\"81.61039\" id=\"text1282\"><tspan sodipodi:role=\"line\" id=\"tspan1280\" x=\"67.301094\" y=\"81.61039\" style=\"stroke-width:0.218157;stroke:#666666;fill:#666666;\">N</tspan></text>\n",
       "    <text xml:space=\"preserve\" style=\"font-size:6.39927px;line-height:1.25;font-family:sans-serif;-inkscape-font-specification:sans-serif;stroke-width:0.218157;stroke:#666666;fill:#666666;\" x=\"95.728226\" y=\"179.69899\" id=\"text1320\"><tspan sodipodi:role=\"line\" id=\"tspan1318\" x=\"95.728226\" y=\"179.69899\" style=\"stroke-width:0.218157;stroke:#666666;fill:#666666;\">m</tspan></text>\n",
       "    <path style=\"fill:none;stroke:#666666;stroke-width:0.218157px;stroke-linecap:butt;stroke-linejoin:miter;stroke-opacity:1\" d=\"m 91.249944,217.53512 5.056646,22.10657\" id=\"path1322\" inkscape:path-effect=\"#path-effect1324;#path-effect1326\" inkscape:original-d=\"m 91.249944,217.53512 5.056646,22.10657\"/>\n",
       "    <path style=\"fill:none;stroke:#666666;stroke-width:0.218157px;stroke-linecap:butt;stroke-linejoin:miter;stroke-opacity:1\" d=\"m 101.15873,215.29577 4.93149,22.53439\" id=\"path1328\" inkscape:path-effect=\"#path-effect1330;#path-effect1332\" inkscape:original-d=\"m 101.15873,215.29577 4.93149,22.53439\"/>\n",
       "    <path style=\"fill:none;stroke:#666666;stroke-width:0.218157px;stroke-linecap:butt;stroke-linejoin:miter;stroke-opacity:1;marker-start:url(#marker1378);marker-end:url(#Arrow1Lstart)\" d=\"m 95.5398,236.3716 9.77977,-2.2298\" id=\"path1334\" inkscape:path-effect=\"#path-effect1336;#path-effect1338\" inkscape:original-d=\"m 95.5398,236.3716 9.77977,-2.2298\"/>\n",
       "    <text xml:space=\"preserve\" style=\"font-size:6.39927px;line-height:1.25;font-family:sans-serif;-inkscape-font-specification:sans-serif;stroke-width:0.218157;stroke:#666666;fill:#666666;\" x=\"95.820793\" y=\"231.78949\" id=\"text1342\"><tspan sodipodi:role=\"line\" id=\"tspan1340\" x=\"95.820793\" y=\"231.78949\" style=\"stroke-width:0.218157;stroke:#666666;fill:#666666;\">2r</tspan></text>\n",
       "    <text xml:space=\"preserve\" style=\"font-size:6.39927px;line-height:1.25;font-family:sans-serif;-inkscape-font-specification:sans-serif;stroke-width:0.218157;stroke:#666666;fill:#666666;\" x=\"75.518265\" y=\"79.714615\" id=\"text934\"><tspan sodipodi:role=\"line\" id=\"tspan932\" x=\"75.518265\" y=\"79.714615\" style=\"stroke-width:0.218157;stroke:#666666;fill:#666666;\">y</tspan></text>\n",
       "    <text xml:space=\"preserve\" style=\"font-size:6.39927px;line-height:1.25;font-family:sans-serif;-inkscape-font-specification:sans-serif;stroke-width:0.218157;stroke:#666666;fill:#666666;\" x=\"107.27926\" y=\"115.66154\" id=\"text938\"><tspan sodipodi:role=\"line\" id=\"tspan936\" x=\"107.27926\" y=\"115.66154\" style=\"stroke-width:0.218157;stroke:#666666;fill:#666666;\">x</tspan></text>\n",
       "    <path style=\"fill:#000000;stroke:#666666;stroke-width:0.218157px;stroke-linecap:butt;stroke-linejoin:miter;stroke-opacity:1\" d=\"m 115.94038,118.0146 -3.27999,-1.05487 0.0678,2.00279 z\" id=\"path1030\"/>\n",
       "    <path style=\"fill:#000000;stroke:#666666;stroke-width:0.218157px;stroke-linecap:butt;stroke-linejoin:miter;stroke-opacity:1\" d=\"m 74.020802,76.802071 -0.941186,2.919131 h 1.867019 z\" id=\"path1032\"/>\n",
       "    <path style=\"fill:#0000ff;stroke:#0000ff;stroke-width:0.218157px;stroke-linecap:butt;stroke-linejoin:miter;stroke-opacity:1\" d=\"M 84.675997,165.33952 76.18565,125.01104\" id=\"path1034\" inkscape:transform-center-x=\"4.280916\" inkscape:transform-center-y=\"-20.078698\"/>\n",
       "    <path style=\"fill:#0000ff;stroke:#0000ff;stroke-width:0.218501;stroke-linecap:butt;stroke-linejoin:miter;stroke-miterlimit:4;stroke-dasharray:none;stroke-opacity:1\" d=\"m 84.675997,165.33952 41.020383,-8.63601\" id=\"path1036\" inkscape:transform-center-x=\"-20.474449\" inkscape:transform-center-y=\"-4.2324621\"/>\n",
       "    <path style=\"fill:#0000ff;stroke:#666666;stroke-width:0.218157px;stroke-linecap:butt;stroke-linejoin:miter;stroke-opacity:1\" d=\"m 125.69638,156.7035 -3.42697,-0.35652 0.47902,1.94587 z\" id=\"path1038\" inkscape:transform-center-x=\"-39.271155\" inkscape:transform-center-y=\"-7.9340621\"/>\n",
       "    <path style=\"fill:#0000ff;stroke:#666666;stroke-width:0.218157px;stroke-linecap:butt;stroke-linejoin:miter;stroke-opacity:1\" d=\"m 76.18565,125.01104 -0.319612,3.05041 1.826963,-0.38464 z\" id=\"path1040\" inkscape:transform-center-x=\"7.93222\" inkscape:transform-center-y=\"-38.717733\"/>\n",
       "    <text xml:space=\"preserve\" style=\"font-size:6.39927px;line-height:1.25;font-family:sans-serif;-inkscape-font-specification:sans-serif;fill:#0000ff;stroke-width:0.218157;stroke:#666666;\" x=\"65.188812\" y=\"136.72195\" id=\"text1044\"><tspan sodipodi:role=\"line\" id=\"tspan1042\" x=\"65.188812\" y=\"136.72195\" style=\"fill:#0000ff;stroke-width:0.218157;stroke:#666666;\">B</tspan></text>\n",
       "  </g>\n",
       "</svg>"
      ],
      "text/plain": [
       "<IPython.core.display.SVG object>"
      ]
     },
     "execution_count": 2,
     "metadata": {},
     "output_type": "execute_result"
    }
   ],
   "source": [
    "SVG('pend_fis.svg')"
   ]
  },
  {
   "cell_type": "code",
   "execution_count": 3,
   "metadata": {
    "slideshow": {
     "slide_type": "fragment"
    }
   },
   "outputs": [],
   "source": [
    "import sympy as sy\n",
    "import sympy.physics.mechanics as me"
   ]
  },
  {
   "cell_type": "code",
   "execution_count": 4,
   "metadata": {
    "slideshow": {
     "slide_type": "fragment"
    }
   },
   "outputs": [],
   "source": [
    "m,r,L = sy.symbols('m r L')\n",
    "theta = me.dynamicsymbols('theta')"
   ]
  },
  {
   "cell_type": "code",
   "execution_count": 5,
   "metadata": {
    "slideshow": {
     "slide_type": "fragment"
    }
   },
   "outputs": [],
   "source": [
    "N = me.ReferenceFrame('N')"
   ]
  },
  {
   "cell_type": "code",
   "execution_count": 6,
   "metadata": {
    "slideshow": {
     "slide_type": "fragment"
    }
   },
   "outputs": [],
   "source": [
    "B = me.ReferenceFrame('B')\n",
    "B.orient(N,'Axis',[theta,N.z])"
   ]
  },
  {
   "cell_type": "code",
   "execution_count": 7,
   "metadata": {
    "slideshow": {
     "slide_type": "fragment"
    }
   },
   "outputs": [],
   "source": [
    "O = me.Point('O')\n",
    "O.set_vel(N,0)"
   ]
  },
  {
   "cell_type": "markdown",
   "metadata": {
    "slideshow": {
     "slide_type": "fragment"
    }
   },
   "source": [
    "Vamos definir o vetor posição do centro de massa em relação ao ponto $O$ ,$\\vec{p}{}^{CM/O}$, como:"
   ]
  },
  {
   "cell_type": "code",
   "execution_count": 8,
   "metadata": {
    "slideshow": {
     "slide_type": "fragment"
    }
   },
   "outputs": [
    {
     "data": {
      "text/latex": [
       "$\\displaystyle -  \\frac{L}{2}\\mathbf{\\hat{b}_y}$"
      ],
      "text/plain": [
       "- L/2*B.y"
      ]
     },
     "execution_count": 8,
     "metadata": {},
     "output_type": "execute_result"
    }
   ],
   "source": [
    "p = -L/2*B.y\n",
    "p"
   ]
  },
  {
   "cell_type": "code",
   "execution_count": 9,
   "metadata": {
    "slideshow": {
     "slide_type": "fragment"
    }
   },
   "outputs": [],
   "source": [
    "CM = me.Point('CM')\n",
    "CM.set_pos(O,p)\n",
    "CM.set_vel(N,p.dt(N))"
   ]
  },
  {
   "cell_type": "markdown",
   "metadata": {
    "slideshow": {
     "slide_type": "fragment"
    }
   },
   "source": [
    "**Criando o tensor de inércia do cilindo em relação ao seu centro de massa:** <br>\n",
    "Para o cilindro temos que: \n",
    "$$ I_{x}^{*} = I_{y}^{*} = \\dfrac{mr^2}{4} + \\dfrac{mL^2}{12} \\qquad I_{z}^{*} = \\dfrac{mr^2}{2} $$"
   ]
  },
  {
   "cell_type": "markdown",
   "metadata": {
    "slideshow": {
     "slide_type": "fragment"
    }
   },
   "source": [
    "Usando a tabela de momentos de inércia:"
   ]
  },
  {
   "cell_type": "code",
   "execution_count": 10,
   "metadata": {
    "slideshow": {
     "slide_type": "fragment"
    }
   },
   "outputs": [],
   "source": [
    "Ix = m*r*2/4 + m*L**2/12\n",
    "Iz = Ix\n",
    "Iy = m*r**2/2"
   ]
  },
  {
   "cell_type": "code",
   "execution_count": 11,
   "metadata": {
    "slideshow": {
     "slide_type": "fragment"
    }
   },
   "outputs": [
    {
     "data": {
      "text/latex": [
       "$\\displaystyle (\\frac{L^{2} m}{12} + \\frac{m r}{2})\\mathbf{\\hat{b}_x}\\otimes \\mathbf{\\hat{b}_x} + \\frac{m r^{2}}{2}\\mathbf{\\hat{b}_y}\\otimes \\mathbf{\\hat{b}_y} + (\\frac{L^{2} m}{12} + \\frac{m r}{2})\\mathbf{\\hat{b}_z}\\otimes \\mathbf{\\hat{b}_z}$"
      ],
      "text/plain": [
       "(L**2*m/12 + m*r/2)*(B.x|B.x) + m*r**2/2*(B.y|B.y) + (L**2*m/12 + m*r/2)*(B.z|B.z)"
      ]
     },
     "execution_count": 11,
     "metadata": {},
     "output_type": "execute_result"
    }
   ],
   "source": [
    "I = me.inertia(B,Ix,Iy,Iz)\n",
    "I"
   ]
  },
  {
   "cell_type": "code",
   "execution_count": 12,
   "metadata": {
    "slideshow": {
     "slide_type": "fragment"
    }
   },
   "outputs": [
    {
     "data": {
      "text/latex": [
       "$\\displaystyle \\left[\\begin{matrix}\\frac{L^{2} m}{12} + \\frac{m r}{2} & 0 & 0\\\\0 & \\frac{m r^{2}}{2} & 0\\\\0 & 0 & \\frac{L^{2} m}{12} + \\frac{m r}{2}\\end{matrix}\\right]$"
      ],
      "text/plain": [
       "Matrix([\n",
       "[L**2*m/12 + m*r/2,        0,                 0],\n",
       "[                0, m*r**2/2,                 0],\n",
       "[                0,        0, L**2*m/12 + m*r/2]])"
      ]
     },
     "execution_count": 12,
     "metadata": {},
     "output_type": "execute_result"
    }
   ],
   "source": [
    "I.to_matrix(B)"
   ]
  },
  {
   "cell_type": "markdown",
   "metadata": {
    "slideshow": {
     "slide_type": "fragment"
    }
   },
   "source": [
    "Podemos resolver esse exemplo no python de dois modos diferentes. Para a primeira maneira, vamos obter o tensor de inércia de um ponto no CM em relação ao ponto O. <br>\n",
    "Sabemos que:\n",
    "$$ \\underline{I}^{CM/O} = m \\left( \\left(p^{CM/O} \\right)^2 \\underline{1} - \\vec{p}{}^{CM/O} \\otimes \\vec{p}{}^{CM/O} \\right)$$"
   ]
  },
  {
   "cell_type": "code",
   "execution_count": 13,
   "metadata": {
    "slideshow": {
     "slide_type": "fragment"
    }
   },
   "outputs": [
    {
     "data": {
      "text/latex": [
       "$\\displaystyle \\left[\\begin{matrix}\\frac{L^{2} m}{4} & 0 & 0\\\\0 & 0 & 0\\\\0 & 0 & \\frac{L^{2} m}{4}\\end{matrix}\\right]$"
      ],
      "text/plain": [
       "Matrix([\n",
       "[L**2*m/4, 0,        0],\n",
       "[       0, 0,        0],\n",
       "[       0, 0, L**2*m/4]])"
      ]
     },
     "execution_count": 13,
     "metadata": {},
     "output_type": "execute_result"
    }
   ],
   "source": [
    "I2 = me.inertia_of_point_mass(m, p, B)\n",
    "I2.to_matrix(B)"
   ]
  },
  {
   "cell_type": "markdown",
   "metadata": {
    "slideshow": {
     "slide_type": "fragment"
    }
   },
   "source": [
    "Podemos somar e subtrair tensores de inércia. Deste modo, resolvemos o exemplo utilizando a equação do teorema dos eixos paralelos. "
   ]
  },
  {
   "cell_type": "code",
   "execution_count": 14,
   "metadata": {
    "slideshow": {
     "slide_type": "fragment"
    }
   },
   "outputs": [
    {
     "data": {
      "text/latex": [
       "$\\displaystyle (\\frac{L^{2} m}{3} + \\frac{m r}{2})\\mathbf{\\hat{b}_x}\\otimes \\mathbf{\\hat{b}_x} + \\frac{m r^{2}}{2}\\mathbf{\\hat{b}_y}\\otimes \\mathbf{\\hat{b}_y} + (\\frac{L^{2} m}{3} + \\frac{m r}{2})\\mathbf{\\hat{b}_z}\\otimes \\mathbf{\\hat{b}_z}$"
      ],
      "text/plain": [
       "(L**2*m/3 + m*r/2)*(B.x|B.x) + m*r**2/2*(B.y|B.y) + (L**2*m/3 + m*r/2)*(B.z|B.z)"
      ]
     },
     "execution_count": 14,
     "metadata": {},
     "output_type": "execute_result"
    }
   ],
   "source": [
    "I3 = I + I2\n",
    "I3"
   ]
  },
  {
   "cell_type": "code",
   "execution_count": 15,
   "metadata": {
    "slideshow": {
     "slide_type": "fragment"
    }
   },
   "outputs": [
    {
     "data": {
      "text/latex": [
       "$\\displaystyle \\left[\\begin{matrix}\\frac{L^{2} m}{3} + \\frac{m r}{2} & 0 & 0\\\\0 & \\frac{m r^{2}}{2} & 0\\\\0 & 0 & \\frac{L^{2} m}{3} + \\frac{m r}{2}\\end{matrix}\\right]$"
      ],
      "text/plain": [
       "Matrix([\n",
       "[L**2*m/3 + m*r/2,        0,                0],\n",
       "[               0, m*r**2/2,                0],\n",
       "[               0,        0, L**2*m/3 + m*r/2]])"
      ]
     },
     "execution_count": 15,
     "metadata": {},
     "output_type": "execute_result"
    }
   ],
   "source": [
    "I3.to_matrix(B)"
   ]
  },
  {
   "cell_type": "markdown",
   "metadata": {
    "slideshow": {
     "slide_type": "fragment"
    }
   },
   "source": [
    "No python, podemos definir um corpo rígido da seguinte maneira:<br>\n",
    "Comando me.RigidBody('B',P,C,M,(I,O))<br>\n",
    "\n",
    "| Símbolo | Significado |\n",
    "|---------|-------------|\n",
    "| B | Nome do corpo |\n",
    "| P | O ponto que representa o centro de massa |\n",
    "| C | Sistema de referência fixo no corpo |\n",
    "| m | Massa do corpo |\n",
    "| I | Tensor de inércia |\n",
    "| O | Ponto em que o tensor de inércia está definido |"
   ]
  },
  {
   "cell_type": "code",
   "execution_count": 16,
   "metadata": {
    "slideshow": {
     "slide_type": "fragment"
    }
   },
   "outputs": [],
   "source": [
    "Pend = me.RigidBody('Pend',CM,B,m,(I,CM))"
   ]
  },
  {
   "cell_type": "markdown",
   "metadata": {
    "slideshow": {
     "slide_type": "fragment"
    }
   },
   "source": [
    "Resolvendo o nosso exemplo:"
   ]
  },
  {
   "cell_type": "code",
   "execution_count": 26,
   "metadata": {},
   "outputs": [
    {
     "data": {
      "text/latex": [
       "$\\displaystyle (\\frac{L^{2} m}{3} + \\frac{m r}{2})\\mathbf{\\hat{b}_x}\\otimes \\mathbf{\\hat{b}_x} + \\frac{m r^{2}}{2}\\mathbf{\\hat{b}_y}\\otimes \\mathbf{\\hat{b}_y} + (\\frac{L^{2} m}{3} + \\frac{m r}{2})\\mathbf{\\hat{b}_z}\\otimes \\mathbf{\\hat{b}_z}$"
      ],
      "text/plain": [
       "(L**2*m/3 + m*r/2)*(B.x|B.x) + m*r**2/2*(B.y|B.y) + (L**2*m/3 + m*r/2)*(B.z|B.z)"
      ]
     },
     "execution_count": 26,
     "metadata": {},
     "output_type": "execute_result"
    }
   ],
   "source": [
    "Pend.parallel_axis(O)"
   ]
  },
  {
   "cell_type": "code",
   "execution_count": 17,
   "metadata": {
    "scrolled": true,
    "slideshow": {
     "slide_type": "fragment"
    }
   },
   "outputs": [
    {
     "data": {
      "text/latex": [
       "$\\displaystyle \\left[\\begin{matrix}\\frac{L^{2} m}{3} + \\frac{m r}{2} & 0 & 0\\\\0 & \\frac{m r^{2}}{2} & 0\\\\0 & 0 & \\frac{L^{2} m}{3} + \\frac{m r}{2}\\end{matrix}\\right]$"
      ],
      "text/plain": [
       "Matrix([\n",
       "[L**2*m/3 + m*r/2,        0,                0],\n",
       "[               0, m*r**2/2,                0],\n",
       "[               0,        0, L**2*m/3 + m*r/2]])"
      ]
     },
     "execution_count": 17,
     "metadata": {},
     "output_type": "execute_result"
    }
   ],
   "source": [
    "Pend.parallel_axis(O).to_matrix(B)"
   ]
  },
  {
   "cell_type": "markdown",
   "metadata": {
    "slideshow": {
     "slide_type": "slide"
    }
   },
   "source": [
    "### Exemplo 2: \n",
    "Obtenha o tensor de inércia do sistema mostrado na figura a seguir.\n",
    "![](ex6-1.png)"
   ]
  },
  {
   "cell_type": "code",
   "execution_count": 18,
   "metadata": {
    "slideshow": {
     "slide_type": "fragment"
    }
   },
   "outputs": [],
   "source": [
    "L,R,mcubo,mcilindro = sy.symbols('L R m_{cubo} m_{cilindro}')"
   ]
  },
  {
   "cell_type": "code",
   "execution_count": 19,
   "metadata": {
    "slideshow": {
     "slide_type": "fragment"
    }
   },
   "outputs": [
    {
     "data": {
      "text/latex": [
       "$\\displaystyle \\frac{L^{2} m_{cubo}}{6}\\mathbf{\\hat{n}_x}\\otimes \\mathbf{\\hat{n}_x} + \\frac{L^{2} m_{cubo}}{6}\\mathbf{\\hat{n}_y}\\otimes \\mathbf{\\hat{n}_y} + \\frac{L^{2} m_{cubo}}{6}\\mathbf{\\hat{n}_z}\\otimes \\mathbf{\\hat{n}_z}$"
      ],
      "text/plain": [
       "L**2*m_{cubo}/6*(N.x|N.x) + L**2*m_{cubo}/6*(N.y|N.y) + L**2*m_{cubo}/6*(N.z|N.z)"
      ]
     },
     "execution_count": 19,
     "metadata": {},
     "output_type": "execute_result"
    }
   ],
   "source": [
    "Icubo = me.inertia(N,mcubo*L**2/6,mcubo*L**2/6,mcubo*L**2/6)\n",
    "Icubo"
   ]
  },
  {
   "cell_type": "code",
   "execution_count": 20,
   "metadata": {
    "slideshow": {
     "slide_type": "fragment"
    }
   },
   "outputs": [
    {
     "data": {
      "text/latex": [
       "$\\displaystyle \\left[\\begin{matrix}\\frac{L^{2} m_{cubo}}{6} & 0 & 0\\\\0 & \\frac{L^{2} m_{cubo}}{6} & 0\\\\0 & 0 & \\frac{L^{2} m_{cubo}}{6}\\end{matrix}\\right]$"
      ],
      "text/plain": [
       "Matrix([\n",
       "[L**2*m_{cubo}/6,               0,               0],\n",
       "[              0, L**2*m_{cubo}/6,               0],\n",
       "[              0,               0, L**2*m_{cubo}/6]])"
      ]
     },
     "execution_count": 20,
     "metadata": {},
     "output_type": "execute_result"
    }
   ],
   "source": [
    "Icubo.to_matrix(N)"
   ]
  },
  {
   "cell_type": "code",
   "execution_count": 21,
   "metadata": {
    "slideshow": {
     "slide_type": "fragment"
    }
   },
   "outputs": [
    {
     "data": {
      "text/latex": [
       "$\\displaystyle \\left[\\begin{matrix}\\frac{R^{2} m_{cilindro}}{2} & 0 & 0\\\\0 & \\frac{m_{cilindro} \\left(L^{2} + 3 R^{2}\\right)}{12} & 0\\\\0 & 0 & \\frac{m_{cilindro} \\left(L^{2} + 3 R^{2}\\right)}{12}\\end{matrix}\\right]$"
      ],
      "text/plain": [
       "Matrix([\n",
       "[R**2*m_{cilindro}/2,                               0,                               0],\n",
       "[                  0, m_{cilindro}*(L**2 + 3*R**2)/12,                               0],\n",
       "[                  0,                               0, m_{cilindro}*(L**2 + 3*R**2)/12]])"
      ]
     },
     "execution_count": 21,
     "metadata": {},
     "output_type": "execute_result"
    }
   ],
   "source": [
    "Icilindro = me.inertia(N,mcilindro*R**2/2,mcilindro*(3*R**2 + L**2)/12,mcilindro*(3*R**2 + L**2)/12)\n",
    "Icilindro.to_matrix(N)"
   ]
  },
  {
   "cell_type": "markdown",
   "metadata": {
    "slideshow": {
     "slide_type": "fragment"
    }
   },
   "source": [
    "Vetor posição do centro do cubo para o centro do cilindro:"
   ]
  },
  {
   "cell_type": "code",
   "execution_count": 22,
   "metadata": {
    "slideshow": {
     "slide_type": "fragment"
    }
   },
   "outputs": [],
   "source": [
    "p = (L/2 + R*sy.cos(sy.pi/4))*N.x + (L/2 + R*sy.sin(sy.pi/4))*N.z"
   ]
  },
  {
   "cell_type": "markdown",
   "metadata": {
    "slideshow": {
     "slide_type": "fragment"
    }
   },
   "source": [
    "Usando o teorema dos eixos paralelos:"
   ]
  },
  {
   "cell_type": "code",
   "execution_count": 23,
   "metadata": {
    "slideshow": {
     "slide_type": "fragment"
    }
   },
   "outputs": [
    {
     "data": {
      "text/latex": [
       "$\\displaystyle \\left[\\begin{matrix}\\frac{R^{2} m_{cilindro}}{2} + m_{cilindro} \\left(\\frac{L}{2} + \\frac{\\sqrt{2} R}{2}\\right)^{2} & 0 & - m_{cilindro} \\left(\\frac{L}{2} + \\frac{\\sqrt{2} R}{2}\\right)^{2}\\\\0 & 2 m_{cilindro} \\left(\\frac{L}{2} + \\frac{\\sqrt{2} R}{2}\\right)^{2} + \\frac{m_{cilindro} \\left(L^{2} + 3 R^{2}\\right)}{12} & 0\\\\- m_{cilindro} \\left(\\frac{L}{2} + \\frac{\\sqrt{2} R}{2}\\right)^{2} & 0 & m_{cilindro} \\left(\\frac{L}{2} + \\frac{\\sqrt{2} R}{2}\\right)^{2} + \\frac{m_{cilindro} \\left(L^{2} + 3 R^{2}\\right)}{12}\\end{matrix}\\right]$"
      ],
      "text/plain": [
       "Matrix([\n",
       "[R**2*m_{cilindro}/2 + m_{cilindro}*(L/2 + sqrt(2)*R/2)**2,                                                                       0,                                  -m_{cilindro}*(L/2 + sqrt(2)*R/2)**2],\n",
       "[                                                        0, 2*m_{cilindro}*(L/2 + sqrt(2)*R/2)**2 + m_{cilindro}*(L**2 + 3*R**2)/12,                                                                     0],\n",
       "[                     -m_{cilindro}*(L/2 + sqrt(2)*R/2)**2,                                                                       0, m_{cilindro}*(L/2 + sqrt(2)*R/2)**2 + m_{cilindro}*(L**2 + 3*R**2)/12]])"
      ]
     },
     "execution_count": 23,
     "metadata": {},
     "output_type": "execute_result"
    }
   ],
   "source": [
    "Ici2 = Icilindro + me.inertia_of_point_mass(mcilindro,p,N)\n",
    "Ici2.to_matrix(N)"
   ]
  },
  {
   "cell_type": "code",
   "execution_count": 29,
   "metadata": {},
   "outputs": [
    {
     "data": {
      "text/latex": [
       "$\\displaystyle \\left[\\begin{matrix}\\frac{L^{2} m_{cubo}}{6} + \\frac{R^{2} m_{cilindro}}{2} + m_{cilindro} \\left(\\frac{L}{2} + \\frac{\\sqrt{2} R}{2}\\right)^{2} & 0 & - m_{cilindro} \\left(\\frac{L}{2} + \\frac{\\sqrt{2} R}{2}\\right)^{2}\\\\0 & \\frac{L^{2} m_{cubo}}{6} + 2 m_{cilindro} \\left(\\frac{L}{2} + \\frac{\\sqrt{2} R}{2}\\right)^{2} + \\frac{m_{cilindro} \\left(L^{2} + 3 R^{2}\\right)}{12} & 0\\\\- m_{cilindro} \\left(\\frac{L}{2} + \\frac{\\sqrt{2} R}{2}\\right)^{2} & 0 & \\frac{L^{2} m_{cubo}}{6} + m_{cilindro} \\left(\\frac{L}{2} + \\frac{\\sqrt{2} R}{2}\\right)^{2} + \\frac{m_{cilindro} \\left(L^{2} + 3 R^{2}\\right)}{12}\\end{matrix}\\right]$"
      ],
      "text/plain": [
       "Matrix([\n",
       "[L**2*m_{cubo}/6 + R**2*m_{cilindro}/2 + m_{cilindro}*(L/2 + sqrt(2)*R/2)**2,                                                                                         0,                                                    -m_{cilindro}*(L/2 + sqrt(2)*R/2)**2],\n",
       "[                                                                          0, L**2*m_{cubo}/6 + 2*m_{cilindro}*(L/2 + sqrt(2)*R/2)**2 + m_{cilindro}*(L**2 + 3*R**2)/12,                                                                                       0],\n",
       "[                                       -m_{cilindro}*(L/2 + sqrt(2)*R/2)**2,                                                                                         0, L**2*m_{cubo}/6 + m_{cilindro}*(L/2 + sqrt(2)*R/2)**2 + m_{cilindro}*(L**2 + 3*R**2)/12]])"
      ]
     },
     "execution_count": 29,
     "metadata": {},
     "output_type": "execute_result"
    }
   ],
   "source": [
    "Isis2 = Icubo + Ici2\n",
    "Isis2.to_matrix(N)"
   ]
  },
  {
   "cell_type": "markdown",
   "metadata": {
    "slideshow": {
     "slide_type": "fragment"
    }
   },
   "source": [
    "O centro de massa desses sistema será:"
   ]
  },
  {
   "cell_type": "code",
   "execution_count": 24,
   "metadata": {
    "slideshow": {
     "slide_type": "fragment"
    }
   },
   "outputs": [],
   "source": [
    "cm_cubo = L/2*N.x + L/2*N.y + L/2*N.z\n",
    "cm_cilindro = (L + R*sy.cos(sy.pi/4))*N.x + L/2*N.y + (L + R*sy.cos(sy.pi/4))*N.z"
   ]
  },
  {
   "cell_type": "code",
   "execution_count": 25,
   "metadata": {
    "slideshow": {
     "slide_type": "fragment"
    }
   },
   "outputs": [
    {
     "data": {
      "text/latex": [
       "$\\displaystyle \\frac{\\frac{L m_{cubo}}{2} + m_{cilindro} \\left(L + \\frac{\\sqrt{2} R}{2}\\right)}{m_{cilindro} + m_{cubo}}\\mathbf{\\hat{n}_x} + \\frac{\\frac{L m_{cilindro}}{2} + \\frac{L m_{cubo}}{2}}{m_{cilindro} + m_{cubo}}\\mathbf{\\hat{n}_y} + \\frac{\\frac{L m_{cubo}}{2} + m_{cilindro} \\left(L + \\frac{\\sqrt{2} R}{2}\\right)}{m_{cilindro} + m_{cubo}}\\mathbf{\\hat{n}_z}$"
      ],
      "text/plain": [
       "(L*m_{cubo}/2 + m_{cilindro}*(L + sqrt(2)*R/2))/(m_{cilindro} + m_{cubo})*N.x + (L*m_{cilindro}/2 + L*m_{cubo}/2)/(m_{cilindro} + m_{cubo})*N.y + (L*m_{cubo}/2 + m_{cilindro}*(L + sqrt(2)*R/2))/(m_{cilindro} + m_{cubo})*N.z"
      ]
     },
     "execution_count": 25,
     "metadata": {},
     "output_type": "execute_result"
    }
   ],
   "source": [
    "cm_sis2 = (cm_cubo*mcubo + cm_cilindro*mcilindro)/(mcubo+mcilindro)\n",
    "cm_sis2"
   ]
  },
  {
   "cell_type": "markdown",
   "metadata": {
    "slideshow": {
     "slide_type": "skip"
    }
   },
   "source": [
    "[Voltar para o capítulo anterior](Din5.ipynb)     $\\qquad$   [Avançar para o próximo capítulo](Din7.ipynb)"
   ]
  }
 ],
 "metadata": {
  "kernelspec": {
   "display_name": "Python 3",
   "language": "python",
   "name": "python3"
  },
  "language_info": {
   "codemirror_mode": {
    "name": "ipython",
    "version": 3
   },
   "file_extension": ".py",
   "mimetype": "text/x-python",
   "name": "python",
   "nbconvert_exporter": "python",
   "pygments_lexer": "ipython3",
   "version": "3.8.10"
  }
 },
 "nbformat": 4,
 "nbformat_minor": 4
}
