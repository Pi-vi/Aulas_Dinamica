{
 "cells": [
  {
   "cell_type": "markdown",
   "metadata": {},
   "source": [
    "# Dinâmica - Lista 02\n",
    "# CEFET/RJ Campus Angra dos Reis"
   ]
  },
  {
   "cell_type": "markdown",
   "metadata": {},
   "source": [
    "1- A aceleração de um ponto se movendo em uma linha vertical é dada pela equação $ a = 12t - 20$. Sabe-se que o seu deslocamento é $s = -10m$ no instante $t=0$ e que o seu deslocamento é $s = 10m$ no instante $t=5s$. Determinar a equação de seu movimento s(t). "
   ]
  },
  {
   "attachments": {},
   "cell_type": "markdown",
   "metadata": {},
   "source": [
    "2- Considerando a figura abaixo e sabendo que em um dado instante o bloco A possui velocidade de $5m/s$ e aceleração de $10m/s^2$, ambas para a esquerda, determinar os módulos e os sentidos da velocidade e da aceleração do bloco $B$. \n",
    "![](Cap2-Ex1.png)"
   ]
  },
  {
   "cell_type": "markdown",
   "metadata": {},
   "source": [
    "3- Obtenha as expressões da velocidade absoluta e da aceleração absoluta do ponto P, conforme mostrado na figura abaixo.\n",
    "![](Cap2-Ex2.png)"
   ]
  },
  {
   "cell_type": "markdown",
   "metadata": {},
   "source": [
    "4- Obtenha as expressões para a velocidade e a aceleração relativas do ponto P em relação ao ponto Q no referencial newtoniano.\n",
    "![](Cap2-Ex3.png)"
   ]
  },
  {
   "cell_type": "markdown",
   "metadata": {},
   "source": [
    "5- Obtenha a velocidade e a aceleração do ponto P em relação ao braço B.\n",
    "![](Cap2-Ex4.png)"
   ]
  },
  {
   "cell_type": "markdown",
   "metadata": {},
   "source": [
    "6- Obtenha a velocidade e a aceleração do ponto P em relação ao referencial inercial. \n",
    "![](Cap2-Ex5.png)"
   ]
  }
 ],
 "metadata": {
  "kernelspec": {
   "display_name": "Python 3",
   "language": "python",
   "name": "python3"
  },
  "language_info": {
   "codemirror_mode": {
    "name": "ipython",
    "version": 3
   },
   "file_extension": ".py",
   "mimetype": "text/x-python",
   "name": "python",
   "nbconvert_exporter": "python",
   "pygments_lexer": "ipython3",
   "version": "3.8.10"
  }
 },
 "nbformat": 4,
 "nbformat_minor": 4
}
