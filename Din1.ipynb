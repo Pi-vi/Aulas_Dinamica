{
 "cells": [
  {
   "cell_type": "markdown",
   "metadata": {
    "slideshow": {
     "slide_type": "slide"
    }
   },
   "source": [
    "# 1. Introdução à Dinâmica\n",
    "Professor Paulo Victor <br>\n",
    "E-mail: paulo.gomes@cefet-rj.br <br>\n",
    "CEFET-RJ Campus Angra dos Reis Sala 6E"
   ]
  },
  {
   "cell_type": "markdown",
   "metadata": {
    "slideshow": {
     "slide_type": "subslide"
    }
   },
   "source": [
    "A dinâmica, de modo geral, é responsável por estudar sistemas que evoluem no tempo. Ou seja, sistemas que sofrem variações a medida que o tempo passa. Observa-se que na natureza tudo está em movimento, fato este que evidencia a importância do estudo da dinâmica.  \n",
    "Para a Engenharia Mecânica, que basicamente está interessada em projetar todo tipo de aparato, o estudo da dinâmica é fundamental. Através dele será possível, entre outras coisas, prever o comportamento dos sistemas a serem construídos, determinar forças necessárias para gerar o movimento desejado e, a partir das equações de movimento, estabelecer ações de controle.  \n",
    "A dinâmica se divide basicamente em duas áreas: a cinemática e a cinética. A primeira está preocupada em estudar o movimento, sem se preocupar com a causa do movimento. Já a cinética estuda o que causa o movimento."
   ]
  },
  {
   "cell_type": "markdown",
   "metadata": {
    "slideshow": {
     "slide_type": "subslide"
    }
   },
   "source": [
    "Entre as aplicações da dinâmica, destacam-se: \n",
    "\n",
    "\n",
    "- Dinâmica de Mecanismos e Máquinas\n",
    "- Dinâmica de Rotores\n",
    "- Dinâmica de Robôs\n",
    "- Astrodinâmica\n",
    "- Dinâmica de Veículos\n",
    "- Biomecânica."
   ]
  },
  {
   "cell_type": "markdown",
   "metadata": {
    "slideshow": {
     "slide_type": "slide"
    }
   },
   "source": [
    "## 1.1 Breve Histórico do Estudo da Dinâmica de Sistemas Mecânicos\n",
    "\n",
    "Nesta seção, aponta-se, de modo breve, os principais nomes para a formação da mecnânica como um ciência.\n",
    "* Galileu (1564 a 1642): \n",
    "    Elaborou o princípio da inércia e estabeleceu a noção formal de variação da velocidade, ou seja, da aceleração.\n",
    "* Newton (1642 a 1727): \n",
    "    Publicou em 1687 o livro Principa, revolucionando as ciências exatas.\n",
    "* Euler (1707 a 1783):\n",
    "    Estudou a dinâmica dos corpos rígidos e deformáveis. Praticamente estabeleceu as bases para o crescimento das ciências mecânicas.\n",
    "* D'Alembert (1717 a 1783):\n",
    "    Criou o princípio do trabalho virtual e definiu a massa vezes a aceleração de uma partícula como uma força de inércia.\n",
    "* Lagrange (1736 - 1813):\n",
    "    Em seu livro *Méchanique Analitique* (1788) estabeleceu o princípio variacional, muito importante para o estudo da dinâmica de sistemas multicorpos."
   ]
  },
  {
   "cell_type": "markdown",
   "metadata": {
    "slideshow": {
     "slide_type": "slide"
    }
   },
   "source": [
    " ## 1.2 Modelagem de Sistemas Mecânicos:\n",
    "\n",
    "**Um engenheiro nada mais é que um especialista em modelagem.** Por modelagem entende-se a arte de transpor algo do mundo real para uma abstração simplificada, na qual pode-se aplicar ferramentas matemáticas de modo a estudas os fenômenos de interesse.\n",
    "\n",
    "\n",
    "- A modelagem mecânica é uma representação matemática da realidade. \n",
    "\n",
    "\n",
    "- Para se modelar um sistema mecânico, deve-se ter, primeiramente, uma visão muito precisa e clara dos objetivos do seu modelo.\n",
    "\n",
    "\n",
    "- Boas medições são tão raras quanto bons modelos.\n",
    "\n",
    "\n",
    "- Modelo é aquilo que não é, mas tudo se passa como se fosse.\n",
    "\n",
    "\n",
    "Por hora, podemos considerar dois tipos básicos de elementos mecânicos para modelagem: "
   ]
  },
  {
   "cell_type": "markdown",
   "metadata": {
    "slideshow": {
     "slide_type": "subslide"
    }
   },
   "source": [
    "### 1.2.1 Partícula ou Ponto Material:\n",
    "Trata-se de um modelo para um corpo em que suas dimensões são desprezíveis, se compararmos com as distâncias envolvidas no movimento. O modelo de partícula é algo que possui massa, mas não possui volume. \n",
    "![fig1](partícula01.svg \"Modelo de Partícula\")"
   ]
  },
  {
   "cell_type": "markdown",
   "metadata": {
    "slideshow": {
     "slide_type": "subslide"
    }
   },
   "source": [
    "\n",
    "### 1.2.2 Corpo Rígido: \n",
    "![fig2](batata01.svg \"Modelo de Corpo Rígido\")\n",
    "\n",
    "\n"
   ]
  },
  {
   "cell_type": "markdown",
   "metadata": {
    "slideshow": {
     "slide_type": "subslide"
    }
   },
   "source": [
    "A Terra, pode ser considerada como uma partícula? "
   ]
  },
  {
   "cell_type": "code",
   "execution_count": 1,
   "metadata": {
    "scrolled": true,
    "slideshow": {
     "slide_type": "fragment"
    }
   },
   "outputs": [
    {
     "data": {
      "text/plain": [
       "8.505468694173253e-05"
      ]
     },
     "execution_count": 1,
     "metadata": {},
     "output_type": "execute_result"
    }
   ],
   "source": [
    "d = 12724 # Raio da Terra em km\n",
    "D = 149597870 # Distância percorrida pela Terra ao redor do Sol em km\n",
    "d/D"
   ]
  },
  {
   "cell_type": "markdown",
   "metadata": {
    "slideshow": {
     "slide_type": "slide"
    }
   },
   "source": [
    "## 1.3 Operações Vetoriais\n"
   ]
  },
  {
   "cell_type": "markdown",
   "metadata": {
    "slideshow": {
     "slide_type": "fragment"
    }
   },
   "source": [
    "Importando bilbioteca de mecânica:"
   ]
  },
  {
   "cell_type": "code",
   "execution_count": 2,
   "metadata": {
    "slideshow": {
     "slide_type": "fragment"
    }
   },
   "outputs": [],
   "source": [
    "import sympy.physics.mechanics as me"
   ]
  },
  {
   "cell_type": "markdown",
   "metadata": {
    "slideshow": {
     "slide_type": "subslide"
    }
   },
   "source": [
    "### 1.3.1 Criando uma Sistema Referencial\n",
    "\n",
    "Para se definir a posição de uma partícula no espaço, um sistema de referência torna-se necessário.  Para esse propósito, três linhas ortogonais que se interceptam em um ponto comum, chamado origem, são necessárias. \n",
    "A posição da partícula pode ser definida em termos da distância ao longo dessas linhas. \n",
    "Podemos definir vetores unitários alinhados a essas retas. \n",
    "\n",
    "![fig3](Eixos-Base-Letras.svg \"Sistema Referêncial\")"
   ]
  },
  {
   "cell_type": "code",
   "execution_count": 3,
   "metadata": {
    "slideshow": {
     "slide_type": "fragment"
    }
   },
   "outputs": [],
   "source": [
    "N = me.ReferenceFrame('N')"
   ]
  },
  {
   "cell_type": "markdown",
   "metadata": {
    "slideshow": {
     "slide_type": "subslide"
    }
   },
   "source": [
    "### 1.3.2 Vetores unitários\n",
    "\n",
    "$$\\hat{\\textbf{n}}_{x}$$\n",
    "$$\\hat{\\textbf{n}}_{y}$$\n",
    "$$\\hat{\\textbf{n}}_{z}$$\n",
    "\n",
    "Ou:\n",
    "\n",
    "$$\\hat{\\textbf{n}}_{1}$$\n",
    "$$\\hat{\\textbf{n}}_{2}$$\n",
    "$$\\hat{\\textbf{n}}_{3}$$\n",
    "\n"
   ]
  },
  {
   "cell_type": "code",
   "execution_count": 4,
   "metadata": {
    "slideshow": {
     "slide_type": "fragment"
    }
   },
   "outputs": [
    {
     "data": {
      "text/latex": [
       "$\\displaystyle \\mathbf{\\hat{n}_x}$"
      ],
      "text/plain": [
       "N.x"
      ]
     },
     "execution_count": 4,
     "metadata": {},
     "output_type": "execute_result"
    }
   ],
   "source": [
    "N.x"
   ]
  },
  {
   "cell_type": "code",
   "execution_count": 5,
   "metadata": {
    "slideshow": {
     "slide_type": "fragment"
    }
   },
   "outputs": [
    {
     "data": {
      "text/latex": [
       "$\\displaystyle \\mathbf{\\hat{n}_y}$"
      ],
      "text/plain": [
       "N.y"
      ]
     },
     "execution_count": 5,
     "metadata": {},
     "output_type": "execute_result"
    }
   ],
   "source": [
    "N.y"
   ]
  },
  {
   "cell_type": "code",
   "execution_count": 6,
   "metadata": {
    "slideshow": {
     "slide_type": "fragment"
    }
   },
   "outputs": [
    {
     "data": {
      "text/latex": [
       "$\\displaystyle \\mathbf{\\hat{n}_z}$"
      ],
      "text/plain": [
       "N.z"
      ]
     },
     "execution_count": 6,
     "metadata": {},
     "output_type": "execute_result"
    }
   ],
   "source": [
    "N.z"
   ]
  },
  {
   "cell_type": "markdown",
   "metadata": {
    "slideshow": {
     "slide_type": "subslide"
    }
   },
   "source": [
    "Ou:"
   ]
  },
  {
   "cell_type": "code",
   "execution_count": 7,
   "metadata": {
    "slideshow": {
     "slide_type": "fragment"
    }
   },
   "outputs": [],
   "source": [
    "N = me.ReferenceFrame('N',indices = ('1','2','3'))"
   ]
  },
  {
   "cell_type": "code",
   "execution_count": 8,
   "metadata": {
    "slideshow": {
     "slide_type": "fragment"
    }
   },
   "outputs": [
    {
     "data": {
      "text/latex": [
       "$\\displaystyle \\mathbf{\\hat{n}_{1}}$"
      ],
      "text/plain": [
       "N['1']"
      ]
     },
     "execution_count": 8,
     "metadata": {},
     "output_type": "execute_result"
    }
   ],
   "source": [
    "N.x"
   ]
  },
  {
   "cell_type": "code",
   "execution_count": 9,
   "metadata": {
    "slideshow": {
     "slide_type": "fragment"
    }
   },
   "outputs": [
    {
     "data": {
      "text/latex": [
       "$\\displaystyle \\mathbf{\\hat{n}_{2}}$"
      ],
      "text/plain": [
       "N['2']"
      ]
     },
     "execution_count": 9,
     "metadata": {},
     "output_type": "execute_result"
    }
   ],
   "source": [
    "N.y"
   ]
  },
  {
   "cell_type": "code",
   "execution_count": 10,
   "metadata": {
    "scrolled": true,
    "slideshow": {
     "slide_type": "fragment"
    }
   },
   "outputs": [
    {
     "data": {
      "text/latex": [
       "$\\displaystyle \\mathbf{\\hat{n}_{3}}$"
      ],
      "text/plain": [
       "N['3']"
      ]
     },
     "execution_count": 10,
     "metadata": {},
     "output_type": "execute_result"
    }
   ],
   "source": [
    "N.z"
   ]
  },
  {
   "cell_type": "code",
   "execution_count": 11,
   "metadata": {
    "slideshow": {
     "slide_type": "fragment"
    }
   },
   "outputs": [],
   "source": [
    "N = me.ReferenceFrame('N')"
   ]
  },
  {
   "cell_type": "markdown",
   "metadata": {
    "slideshow": {
     "slide_type": "subslide"
    }
   },
   "source": [
    "### 1.3.3 Composição/decomposição de um vetor\n",
    "\n",
    "Podemos compor/decompor um vetor de infinitas maneiras. Uma maneira muito útil é a composição/decomposição através de uma base ortonormal. \n",
    "Composição:\n",
    "\n",
    "Composição:\n",
    "$$\\vec{a} = 3\\mathbf{\\hat{n}_{x}} + 2\\mathbf{\\hat{n}_{y}} + 4\\mathbf{\\hat{n}_{z}}$$\n",
    "$$\\vec{b} = 5\\mathbf{\\hat{n}_{x}} + 7\\mathbf{\\hat{n}_{y}} - 3\\mathbf{\\hat{n}_{z}}$$"
   ]
  },
  {
   "cell_type": "code",
   "execution_count": 12,
   "metadata": {
    "slideshow": {
     "slide_type": "fragment"
    }
   },
   "outputs": [
    {
     "data": {
      "text/latex": [
       "$\\displaystyle 3\\mathbf{\\hat{n}_x} + 2\\mathbf{\\hat{n}_y} + 4\\mathbf{\\hat{n}_z}$"
      ],
      "text/plain": [
       "3*N.x + 2*N.y + 4*N.z"
      ]
     },
     "execution_count": 12,
     "metadata": {},
     "output_type": "execute_result"
    }
   ],
   "source": [
    "a = 3*N.x + 2*N.y + 4*N.z\n",
    "a"
   ]
  },
  {
   "cell_type": "code",
   "execution_count": 13,
   "metadata": {
    "slideshow": {
     "slide_type": "fragment"
    }
   },
   "outputs": [
    {
     "data": {
      "text/latex": [
       "$\\displaystyle 5\\mathbf{\\hat{n}_x} + 7\\mathbf{\\hat{n}_y} - 3\\mathbf{\\hat{n}_z}$"
      ],
      "text/plain": [
       "5*N.x + 7*N.y - 3*N.z"
      ]
     },
     "execution_count": 13,
     "metadata": {},
     "output_type": "execute_result"
    }
   ],
   "source": [
    "b = 5*N.x + 7*N.y - 3*N.z\n",
    "b"
   ]
  },
  {
   "cell_type": "markdown",
   "metadata": {
    "slideshow": {
     "slide_type": "subslide"
    }
   },
   "source": [
    "Decomposição:"
   ]
  },
  {
   "cell_type": "code",
   "execution_count": 14,
   "metadata": {
    "slideshow": {
     "slide_type": "fragment"
    }
   },
   "outputs": [],
   "source": [
    "ax_N = a.express(N).args[0][0][0]\n",
    "ay_N = a.express(N).args[0][0][1]\n",
    "az_N = a.express(N).args[0][0][2]"
   ]
  },
  {
   "cell_type": "code",
   "execution_count": 15,
   "metadata": {
    "slideshow": {
     "slide_type": "fragment"
    }
   },
   "outputs": [
    {
     "data": {
      "text/latex": [
       "$\\displaystyle 3$"
      ],
      "text/plain": [
       "3"
      ]
     },
     "execution_count": 15,
     "metadata": {},
     "output_type": "execute_result"
    }
   ],
   "source": [
    "ax_N"
   ]
  },
  {
   "cell_type": "code",
   "execution_count": 16,
   "metadata": {
    "slideshow": {
     "slide_type": "fragment"
    }
   },
   "outputs": [
    {
     "data": {
      "text/latex": [
       "$\\displaystyle 2$"
      ],
      "text/plain": [
       "2"
      ]
     },
     "execution_count": 16,
     "metadata": {},
     "output_type": "execute_result"
    }
   ],
   "source": [
    "ay_N"
   ]
  },
  {
   "cell_type": "code",
   "execution_count": 17,
   "metadata": {
    "slideshow": {
     "slide_type": "fragment"
    }
   },
   "outputs": [
    {
     "data": {
      "text/latex": [
       "$\\displaystyle 4$"
      ],
      "text/plain": [
       "4"
      ]
     },
     "execution_count": 17,
     "metadata": {},
     "output_type": "execute_result"
    }
   ],
   "source": [
    "az_N"
   ]
  },
  {
   "cell_type": "markdown",
   "metadata": {
    "slideshow": {
     "slide_type": "subslide"
    }
   },
   "source": [
    "Para escrever o vetor da seguinte forma, use o comando:\n",
    "$$^{N}\\vec{a} = \\left[ \\begin{array}{c} 3 \\\\ 2 \\\\ 4  \\end{array} \\right]$$"
   ]
  },
  {
   "cell_type": "code",
   "execution_count": 18,
   "metadata": {
    "slideshow": {
     "slide_type": "fragment"
    }
   },
   "outputs": [
    {
     "data": {
      "text/latex": [
       "$\\displaystyle \\left[\\begin{matrix}3\\\\2\\\\4\\end{matrix}\\right]$"
      ],
      "text/plain": [
       "Matrix([\n",
       "[3],\n",
       "[2],\n",
       "[4]])"
      ]
     },
     "execution_count": 18,
     "metadata": {},
     "output_type": "execute_result"
    }
   ],
   "source": [
    "a.express(N).args[0][0]"
   ]
  },
  {
   "cell_type": "markdown",
   "metadata": {
    "slideshow": {
     "slide_type": "subslide"
    }
   },
   "source": [
    "### 1.3.4 Módulo de um vetor\n",
    "\n",
    "$$| \\vec{a} |$$ ou $$ a $$ "
   ]
  },
  {
   "cell_type": "code",
   "execution_count": 19,
   "metadata": {
    "slideshow": {
     "slide_type": "fragment"
    }
   },
   "outputs": [
    {
     "data": {
      "text/latex": [
       "$\\displaystyle \\sqrt{29}$"
      ],
      "text/plain": [
       "sqrt(29)"
      ]
     },
     "execution_count": 19,
     "metadata": {},
     "output_type": "execute_result"
    }
   ],
   "source": [
    "a.magnitude()"
   ]
  },
  {
   "cell_type": "markdown",
   "metadata": {
    "slideshow": {
     "slide_type": "subslide"
    }
   },
   "source": [
    "### 1.3.5 Adição\n",
    "\n",
    "$$\\vec{c} = \\vec{a} + \\vec{b}$$"
   ]
  },
  {
   "cell_type": "code",
   "execution_count": 20,
   "metadata": {
    "slideshow": {
     "slide_type": "fragment"
    }
   },
   "outputs": [
    {
     "data": {
      "text/latex": [
       "$\\displaystyle 8\\mathbf{\\hat{n}_x} + 9\\mathbf{\\hat{n}_y} + \\mathbf{\\hat{n}_z}$"
      ],
      "text/plain": [
       "8*N.x + 9*N.y + N.z"
      ]
     },
     "execution_count": 20,
     "metadata": {},
     "output_type": "execute_result"
    }
   ],
   "source": [
    "c = a + b\n",
    "c"
   ]
  },
  {
   "cell_type": "markdown",
   "metadata": {
    "slideshow": {
     "slide_type": "subslide"
    }
   },
   "source": [
    "### 1.3.6 Produto escalar\n",
    "\n",
    "$$\\vec{a} \\cdot \\vec{b}$$"
   ]
  },
  {
   "cell_type": "code",
   "execution_count": 21,
   "metadata": {
    "slideshow": {
     "slide_type": "fragment"
    }
   },
   "outputs": [
    {
     "data": {
      "text/latex": [
       "$\\displaystyle 17$"
      ],
      "text/plain": [
       "17"
      ]
     },
     "execution_count": 21,
     "metadata": {},
     "output_type": "execute_result"
    }
   ],
   "source": [
    "me.dot(a,b)"
   ]
  },
  {
   "cell_type": "markdown",
   "metadata": {
    "slideshow": {
     "slide_type": "fragment"
    }
   },
   "source": [
    "Ou:"
   ]
  },
  {
   "cell_type": "code",
   "execution_count": 22,
   "metadata": {
    "slideshow": {
     "slide_type": "fragment"
    }
   },
   "outputs": [
    {
     "data": {
      "text/latex": [
       "$\\displaystyle 17$"
      ],
      "text/plain": [
       "17"
      ]
     },
     "execution_count": 22,
     "metadata": {},
     "output_type": "execute_result"
    }
   ],
   "source": [
    "a.dot(b)"
   ]
  },
  {
   "cell_type": "markdown",
   "metadata": {
    "slideshow": {
     "slide_type": "subslide"
    }
   },
   "source": [
    "### 1.3.7 Produto vetorial\n",
    "\n",
    "$$\\vec{a} \\times \\vec{b}$$\n",
    "ou\n",
    "$$\\vec{a \\wedge} \\vec{b}$$"
   ]
  },
  {
   "cell_type": "code",
   "execution_count": 23,
   "metadata": {
    "slideshow": {
     "slide_type": "fragment"
    }
   },
   "outputs": [
    {
     "data": {
      "text/latex": [
       "$\\displaystyle - 34\\mathbf{\\hat{n}_x} + 29\\mathbf{\\hat{n}_y} + 11\\mathbf{\\hat{n}_z}$"
      ],
      "text/plain": [
       "- 34*N.x + 29*N.y + 11*N.z"
      ]
     },
     "execution_count": 23,
     "metadata": {},
     "output_type": "execute_result"
    }
   ],
   "source": [
    "a.cross(b)"
   ]
  },
  {
   "cell_type": "code",
   "execution_count": 24,
   "metadata": {
    "slideshow": {
     "slide_type": "fragment"
    }
   },
   "outputs": [
    {
     "data": {
      "text/latex": [
       "$\\displaystyle - 34\\mathbf{\\hat{n}_x} + 29\\mathbf{\\hat{n}_y} + 11\\mathbf{\\hat{n}_z}$"
      ],
      "text/plain": [
       "- 34*N.x + 29*N.y + 11*N.z"
      ]
     },
     "execution_count": 24,
     "metadata": {},
     "output_type": "execute_result"
    }
   ],
   "source": [
    "me.cross(a,b)"
   ]
  },
  {
   "cell_type": "code",
   "execution_count": 25,
   "metadata": {
    "slideshow": {
     "slide_type": "fragment"
    }
   },
   "outputs": [
    {
     "data": {
      "text/latex": [
       "$\\displaystyle - 34\\mathbf{\\hat{n}_x} + 29\\mathbf{\\hat{n}_y} + 11\\mathbf{\\hat{n}_z}$"
      ],
      "text/plain": [
       "- 34*N.x + 29*N.y + 11*N.z"
      ]
     },
     "execution_count": 25,
     "metadata": {},
     "output_type": "execute_result"
    }
   ],
   "source": [
    "a^b"
   ]
  },
  {
   "cell_type": "markdown",
   "metadata": {
    "slideshow": {
     "slide_type": "subslide"
    }
   },
   "source": [
    "### 1.3.8 Produtos múltiplos\n",
    "\n",
    "Produto misto:\n",
    "\n",
    "$$\\vec{a} \\cdot \\left( \\vec{b} \\times \\vec{c} \\right)$$\n",
    "\n",
    "\n",
    "$$\\vec{a} \\cdot \\left( \\vec{b} \\times \\vec{c} \\right) = a_1 (b_2  c_3 - b_3 c_2) + a_2 (b_3 c_1 - b_1 c_3) + a_3(b_1 c_2 - b_2 c_1) $$\n",
    "\n",
    "Onde: \n",
    "\n",
    "$$ \\vec{a} = a_1 \\hat{\\textbf{n}}_{x} + a_2 \\hat{\\textbf{n}}_{y} + a_3 \\hat{\\textbf{n}}_{z}  $$\n",
    "$$ \\vec{b} = b_1 \\hat{\\textbf{n}}_{x} + b_2 \\hat{\\textbf{n}}_{y} + b_3 \\hat{\\textbf{n}}_{z}  $$\n",
    "$$ \\vec{c} = c_1 \\hat{\\textbf{n}}_{x} + c_2 \\hat{\\textbf{n}}_{y} + c_3 \\hat{\\textbf{n}}_{z}  $$"
   ]
  },
  {
   "cell_type": "markdown",
   "metadata": {
    "slideshow": {
     "slide_type": "subslide"
    }
   },
   "source": [
    "Duplo produto vetorial:\n",
    "$$\\vec{a} \\times \\left( \\vec{b} \\times \\vec{c} \\right)$$\n",
    "\n",
    "$$\\vec{a} \\times \\left( \\vec{b} \\times \\vec{c} \\right) = (\\vec{a} \\cdot \\vec{c})\\vec{b} - (\\vec{a} \\cdot \\vec{b})\\vec{c} $$\n",
    "\n",
    "Onde: \n",
    "\n",
    "$$ \\vec{a} = a_1 \\hat{\\textbf{n}}_{x} + a_2 \\hat{\\textbf{n}}_{y} + a_3 \\hat{\\textbf{n}}_{z}  $$\n",
    "$$ \\vec{b} = b_1 \\hat{\\textbf{n}}_{x} + b_2 \\hat{\\textbf{n}}_{y} + b_3 \\hat{\\textbf{n}}_{z}  $$\n",
    "$$ \\vec{c} = c_1 \\hat{\\textbf{n}}_{x} + c_2 \\hat{\\textbf{n}}_{y} + c_3 \\hat{\\textbf{n}}_{z}  $$"
   ]
  },
  {
   "cell_type": "code",
   "execution_count": 27,
   "metadata": {
    "slideshow": {
     "slide_type": "fragment"
    }
   },
   "outputs": [
    {
     "data": {
      "text/latex": [
       "$\\displaystyle 102\\mathbf{\\hat{n}_x} + 323\\mathbf{\\hat{n}_y} - 238\\mathbf{\\hat{n}_z}$"
      ],
      "text/plain": [
       "102*N.x + 323*N.y - 238*N.z"
      ]
     },
     "execution_count": 27,
     "metadata": {},
     "output_type": "execute_result"
    }
   ],
   "source": [
    "c = 4*N.x - 5*N.y + 8*N.z\n",
    "me.cross(a,me.cross(b,c))"
   ]
  },
  {
   "cell_type": "markdown",
   "metadata": {
    "slideshow": {
     "slide_type": "subslide"
    }
   },
   "source": [
    "### 1.3.9 Diferenciação de funções vetoriais\n",
    "\n",
    "Diferenciação por escalar:\n",
    "$$\\dfrac{{}^{N}\\partial \\vec r}{\\partial x}$$\n",
    "ou\n",
    "$$\\dfrac{{}^{N} d \\vec{r}}{d t} $$\n",
    "\n",
    "O sistema de referência na qual a função vetorial será derivada tem um papel de fundamental importância. Adiante estudaremos melhor essa importância... "
   ]
  },
  {
   "cell_type": "code",
   "execution_count": 28,
   "metadata": {
    "slideshow": {
     "slide_type": "fragment"
    }
   },
   "outputs": [],
   "source": [
    "import sympy as sy\n",
    "x,y = sy.symbols('x y')"
   ]
  },
  {
   "cell_type": "code",
   "execution_count": 29,
   "metadata": {
    "slideshow": {
     "slide_type": "fragment"
    }
   },
   "outputs": [
    {
     "data": {
      "text/latex": [
       "$\\displaystyle 5 x\\mathbf{\\hat{n}_x} + x^{2}\\mathbf{\\hat{n}_y} + 7 y\\mathbf{\\hat{n}_z}$"
      ],
      "text/plain": [
       "5*x*N.x + x**2*N.y + 7*y*N.z"
      ]
     },
     "execution_count": 29,
     "metadata": {},
     "output_type": "execute_result"
    }
   ],
   "source": [
    "r = 5*x*N.x + x**2*N.y + 7*y*N.z\n",
    "r"
   ]
  },
  {
   "cell_type": "code",
   "execution_count": 30,
   "metadata": {
    "slideshow": {
     "slide_type": "fragment"
    }
   },
   "outputs": [
    {
     "data": {
      "text/latex": [
       "$\\displaystyle 5\\mathbf{\\hat{n}_x} + 2 x\\mathbf{\\hat{n}_y}$"
      ],
      "text/plain": [
       "5*N.x + 2*x*N.y"
      ]
     },
     "execution_count": 30,
     "metadata": {},
     "output_type": "execute_result"
    }
   ],
   "source": [
    "r.diff(x,N)"
   ]
  },
  {
   "cell_type": "code",
   "execution_count": 31,
   "metadata": {
    "slideshow": {
     "slide_type": "fragment"
    }
   },
   "outputs": [
    {
     "data": {
      "text/latex": [
       "$\\displaystyle 7\\mathbf{\\hat{n}_z}$"
      ],
      "text/plain": [
       "7*N.z"
      ]
     },
     "execution_count": 31,
     "metadata": {},
     "output_type": "execute_result"
    }
   ],
   "source": [
    "r.diff(y,N)"
   ]
  },
  {
   "cell_type": "markdown",
   "metadata": {
    "slideshow": {
     "slide_type": "skip"
    }
   },
   "source": [
    "## Exercícios: \n",
    "[Primeira lista de exercícios](Lista_01.ipynb)"
   ]
  },
  {
   "cell_type": "markdown",
   "metadata": {
    "slideshow": {
     "slide_type": "skip"
    }
   },
   "source": [
    "[Voltar para o capítulo anterior](LEIAME.ipynb)     $\\qquad$   [Avançar para o próximo capítulo](Din2.ipynb)"
   ]
  }
 ],
 "metadata": {
  "kernelspec": {
   "display_name": "Python 3 (ipykernel)",
   "language": "python",
   "name": "python3"
  },
  "language_info": {
   "codemirror_mode": {
    "name": "ipython",
    "version": 3
   },
   "file_extension": ".py",
   "mimetype": "text/x-python",
   "name": "python",
   "nbconvert_exporter": "python",
   "pygments_lexer": "ipython3",
   "version": "3.10.4"
  }
 },
 "nbformat": 4,
 "nbformat_minor": 4
}
