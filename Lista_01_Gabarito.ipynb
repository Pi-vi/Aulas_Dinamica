{
 "cells": [
  {
   "cell_type": "markdown",
   "metadata": {},
   "source": [
    "# Dinâmica - Lista de Exercícios 01\n",
    "## CEFET/RJ Campus Angra dos Reis\n",
    "\n",
    "\n",
    "\n",
    "1- Efetue as seguintes operações vetoriais:\n",
    "\n"
   ]
  },
  {
   "cell_type": "markdown",
   "metadata": {},
   "source": [
    "(a) $(5 \\hat{\\textbf{n}}_x + 7\\hat{\\textbf{n}}_y + 3\\hat{\\textbf{n}}_z) + (4\\hat{\\textbf{n}}_x - 3\\hat{\\textbf{n}}_y + \\hat{\\textbf{n}}_z)$ <br>"
   ]
  },
  {
   "cell_type": "code",
   "execution_count": 1,
   "metadata": {},
   "outputs": [],
   "source": [
    "import sympy.physics.mechanics as me"
   ]
  },
  {
   "cell_type": "code",
   "execution_count": 2,
   "metadata": {},
   "outputs": [],
   "source": [
    "N = me.ReferenceFrame('N')"
   ]
  },
  {
   "cell_type": "code",
   "execution_count": 3,
   "metadata": {},
   "outputs": [
    {
     "data": {
      "text/latex": [
       "$\\displaystyle 5\\mathbf{\\hat{n}_x} + 7\\mathbf{\\hat{n}_y} + 3\\mathbf{\\hat{n}_z}$"
      ],
      "text/plain": [
       "5*N.x + 7*N.y + 3*N.z"
      ]
     },
     "execution_count": 3,
     "metadata": {},
     "output_type": "execute_result"
    }
   ],
   "source": [
    "v = 5*N.x + 7*N.y + 3*N.z\n",
    "v"
   ]
  },
  {
   "cell_type": "code",
   "execution_count": 4,
   "metadata": {},
   "outputs": [
    {
     "data": {
      "text/latex": [
       "$\\displaystyle 4\\mathbf{\\hat{n}_x} - 3\\mathbf{\\hat{n}_y} + \\mathbf{\\hat{n}_z}$"
      ],
      "text/plain": [
       "4*N.x - 3*N.y + N.z"
      ]
     },
     "execution_count": 4,
     "metadata": {},
     "output_type": "execute_result"
    }
   ],
   "source": [
    "w = 4*N.x - 3*N.y + N.z\n",
    "w"
   ]
  },
  {
   "cell_type": "code",
   "execution_count": 5,
   "metadata": {},
   "outputs": [
    {
     "name": "stdout",
     "output_type": "stream",
     "text": [
      "Resposta da letra a: \n"
     ]
    },
    {
     "data": {
      "text/latex": [
       "$\\displaystyle 9\\mathbf{\\hat{n}_x} + 4\\mathbf{\\hat{n}_y} + 4\\mathbf{\\hat{n}_z}$"
      ],
      "text/plain": [
       "9*N.x + 4*N.y + 4*N.z"
      ]
     },
     "execution_count": 5,
     "metadata": {},
     "output_type": "execute_result"
    }
   ],
   "source": [
    "print('Resposta da letra a: ')\n",
    "v + w"
   ]
  },
  {
   "cell_type": "markdown",
   "metadata": {},
   "source": [
    "(b) $(5 \\hat{\\textbf{n}}_x + 7\\hat{\\textbf{n}}_y + 3\\hat{\\textbf{n}}_z) \\cdot (4\\hat{\\textbf{n}}_x - 3\\hat{\\textbf{n}}_y + \\hat{\\textbf{n}}_z)$ <br>"
   ]
  },
  {
   "cell_type": "code",
   "execution_count": 6,
   "metadata": {},
   "outputs": [
    {
     "name": "stdout",
     "output_type": "stream",
     "text": [
      "Resposta da letra b: \n"
     ]
    },
    {
     "data": {
      "text/latex": [
       "$\\displaystyle 2$"
      ],
      "text/plain": [
       "2"
      ]
     },
     "execution_count": 6,
     "metadata": {},
     "output_type": "execute_result"
    }
   ],
   "source": [
    "print('Resposta da letra b: ')\n",
    "v.dot(w)"
   ]
  },
  {
   "cell_type": "markdown",
   "metadata": {},
   "source": [
    "(c) $(5 \\hat{\\textbf{n}}_x + 7\\hat{\\textbf{n}}_y + 3\\hat{\\textbf{n}}_z) \\times (4\\hat{\\textbf{n}}_x - 3\\hat{\\textbf{n}}_y + \\hat{\\textbf{n}}_z)$ <br>"
   ]
  },
  {
   "cell_type": "code",
   "execution_count": 7,
   "metadata": {},
   "outputs": [
    {
     "name": "stdout",
     "output_type": "stream",
     "text": [
      "Resposta da letra c: \n"
     ]
    },
    {
     "data": {
      "text/latex": [
       "$\\displaystyle 16\\mathbf{\\hat{n}_x} + 7\\mathbf{\\hat{n}_y} - 43\\mathbf{\\hat{n}_z}$"
      ],
      "text/plain": [
       "16*N.x + 7*N.y - 43*N.z"
      ]
     },
     "execution_count": 7,
     "metadata": {},
     "output_type": "execute_result"
    }
   ],
   "source": [
    "print('Resposta da letra c: ')\n",
    "v.cross(w)"
   ]
  },
  {
   "cell_type": "markdown",
   "metadata": {},
   "source": [
    "(d) $(5 \\hat{\\textbf{n}}_x + 7\\hat{\\textbf{n}}_y + 3\\hat{\\textbf{n}}_z) \\times ((4\\hat{\\textbf{n}}_x - 3\\hat{\\textbf{n}}_y + \\hat{\\textbf{n}}_z) \\times (11\\hat{\\textbf{n}}_x - 5\\hat{\\textbf{n}}_y - 3\\hat{\\textbf{n}}_z))$ <br>"
   ]
  },
  {
   "cell_type": "code",
   "execution_count": 8,
   "metadata": {},
   "outputs": [
    {
     "data": {
      "text/latex": [
       "$\\displaystyle 11\\mathbf{\\hat{n}_x} - 5\\mathbf{\\hat{n}_y} - 3\\mathbf{\\hat{n}_z}$"
      ],
      "text/plain": [
       "11*N.x - 5*N.y - 3*N.z"
      ]
     },
     "execution_count": 8,
     "metadata": {},
     "output_type": "execute_result"
    }
   ],
   "source": [
    "r = 11*N.x - 5*N.y - 3*N.z\n",
    "r"
   ]
  },
  {
   "cell_type": "code",
   "execution_count": 9,
   "metadata": {},
   "outputs": [
    {
     "name": "stdout",
     "output_type": "stream",
     "text": [
      "Resposta da letra d: \n"
     ]
    },
    {
     "data": {
      "text/latex": [
       "$\\displaystyle 22\\mathbf{\\hat{n}_x} - 23\\mathbf{\\hat{n}_y} + 17\\mathbf{\\hat{n}_z}$"
      ],
      "text/plain": [
       "22*N.x - 23*N.y + 17*N.z"
      ]
     },
     "execution_count": 9,
     "metadata": {},
     "output_type": "execute_result"
    }
   ],
   "source": [
    "print('Resposta da letra d: ')\n",
    "v.cross(w.cross(r))"
   ]
  },
  {
   "cell_type": "markdown",
   "metadata": {},
   "source": [
    "(e) $(5 \\hat{\\textbf{n}}_x + 7\\hat{\\textbf{n}}_y + 3\\hat{\\textbf{n}}_z) \\cdot ((4\\hat{\\textbf{n}}_x - 3\\hat{\\textbf{n}}_y + \\hat{\\textbf{n}}_z) \\times (11\\hat{\\textbf{n}}_x - 5\\hat{\\textbf{n}}_y - 3\\hat{\\textbf{n}}_z))$ <br>"
   ]
  },
  {
   "cell_type": "code",
   "execution_count": 10,
   "metadata": {},
   "outputs": [
    {
     "name": "stdout",
     "output_type": "stream",
     "text": [
      "Resposta da letra e: \n"
     ]
    },
    {
     "data": {
      "text/latex": [
       "$\\displaystyle 270$"
      ],
      "text/plain": [
       "270"
      ]
     },
     "execution_count": 10,
     "metadata": {},
     "output_type": "execute_result"
    }
   ],
   "source": [
    "print('Resposta da letra e: ')\n",
    "v.dot(w.cross(r))"
   ]
  },
  {
   "cell_type": "markdown",
   "metadata": {},
   "source": [
    "(f) $2(5 \\hat{\\textbf{n}}_x + 7\\hat{\\textbf{n}}_y + 3\\hat{\\textbf{n}}_z) \\cdot 3(4\\hat{\\textbf{n}}_x - 3\\hat{\\textbf{n}}_y + \\hat{\\textbf{n}}_z)$ <br>"
   ]
  },
  {
   "cell_type": "code",
   "execution_count": 11,
   "metadata": {},
   "outputs": [
    {
     "name": "stdout",
     "output_type": "stream",
     "text": [
      "Resposta da letra f: \n"
     ]
    },
    {
     "data": {
      "text/latex": [
       "$\\displaystyle 12$"
      ],
      "text/plain": [
       "12"
      ]
     },
     "execution_count": 11,
     "metadata": {},
     "output_type": "execute_result"
    }
   ],
   "source": [
    "print('Resposta da letra f: ')\n",
    "(2*v).dot(3*w)"
   ]
  },
  {
   "cell_type": "markdown",
   "metadata": {},
   "source": [
    "(g) $3(5 \\hat{\\textbf{n}}_x + 7\\hat{\\textbf{n}}_y + 3\\hat{\\textbf{n}}_z) \\times 5(4\\hat{\\textbf{n}}_x - 3\\hat{\\textbf{n}}_y + \\hat{\\textbf{n}}_z)$ <br>"
   ]
  },
  {
   "cell_type": "code",
   "execution_count": 12,
   "metadata": {},
   "outputs": [
    {
     "name": "stdout",
     "output_type": "stream",
     "text": [
      "Resposta da letra g: \n"
     ]
    },
    {
     "data": {
      "text/latex": [
       "$\\displaystyle 240\\mathbf{\\hat{n}_x} + 105\\mathbf{\\hat{n}_y} - 645\\mathbf{\\hat{n}_z}$"
      ],
      "text/plain": [
       "240*N.x + 105*N.y - 645*N.z"
      ]
     },
     "execution_count": 12,
     "metadata": {},
     "output_type": "execute_result"
    }
   ],
   "source": [
    "print('Resposta da letra g: ')\n",
    "(3*v).cross(5*w)"
   ]
  },
  {
   "cell_type": "markdown",
   "metadata": {},
   "source": [
    "2- Obtenha o módulo do vetor $\\textbf{r}_1 = 5\\hat{\\textbf{n}}_x + 7\\hat{\\textbf{n}}_y + 3\\hat{\\textbf{n}}_z$:"
   ]
  },
  {
   "cell_type": "code",
   "execution_count": 13,
   "metadata": {},
   "outputs": [],
   "source": [
    "r1 = 5*N.x + 7*N.y + 3*N.z"
   ]
  },
  {
   "cell_type": "code",
   "execution_count": 14,
   "metadata": {},
   "outputs": [
    {
     "name": "stdout",
     "output_type": "stream",
     "text": [
      "Resposta da 2: \n"
     ]
    },
    {
     "data": {
      "text/latex": [
       "$\\displaystyle \\sqrt{83}$"
      ],
      "text/plain": [
       "sqrt(83)"
      ]
     },
     "execution_count": 14,
     "metadata": {},
     "output_type": "execute_result"
    }
   ],
   "source": [
    "print('Resposta da 2: ')\n",
    "r1.magnitude() # Jeito de fazer 1"
   ]
  },
  {
   "cell_type": "code",
   "execution_count": 15,
   "metadata": {},
   "outputs": [
    {
     "name": "stdout",
     "output_type": "stream",
     "text": [
      "Resposta da 2: \n"
     ]
    },
    {
     "data": {
      "text/latex": [
       "$\\displaystyle \\sqrt{83}$"
      ],
      "text/plain": [
       "sqrt(83)"
      ]
     },
     "execution_count": 15,
     "metadata": {},
     "output_type": "execute_result"
    }
   ],
   "source": [
    "print('Resposta da 2: ')\n",
    "import sympy as sy\n",
    "sy.sqrt(r1.dot(r1)) # Jeito de fazer 2"
   ]
  },
  {
   "cell_type": "markdown",
   "metadata": {},
   "source": [
    "3- Obtenha o ângulo formado pelos seguintes vetores: $\\textbf{r}_1 = 5\\hat{\\textbf{n}}_x + 7\\hat{\\textbf{n}}_y + 3\\hat{\\textbf{n}}_z$ e $\\textbf{r}_2 = 4\\hat{\\textbf{n}}_x - 3\\hat{\\textbf{n}}_y + \\hat{\\textbf{n}}_z$:"
   ]
  },
  {
   "cell_type": "code",
   "execution_count": 16,
   "metadata": {},
   "outputs": [],
   "source": [
    "r2 = 4*N.x - 3*N.y + N.z"
   ]
  },
  {
   "cell_type": "code",
   "execution_count": 17,
   "metadata": {
    "scrolled": true
   },
   "outputs": [
    {
     "name": "stdout",
     "output_type": "stream",
     "text": [
      "Resposta da 3: \n"
     ]
    },
    {
     "data": {
      "text/latex": [
       "$\\displaystyle \\operatorname{acos}{\\left(\\frac{\\sqrt{2158}}{1079} \\right)}$"
      ],
      "text/plain": [
       "acos(sqrt(2158)/1079)"
      ]
     },
     "execution_count": 17,
     "metadata": {},
     "output_type": "execute_result"
    }
   ],
   "source": [
    "print('Resposta da 3: ')\n",
    "sy.acos(r1.dot(r2)/(r1.magnitude()*r2.magnitude()))"
   ]
  },
  {
   "cell_type": "code",
   "execution_count": 18,
   "metadata": {},
   "outputs": [
    {
     "data": {
      "text/latex": [
       "$\\displaystyle 1.52772993049356$"
      ],
      "text/plain": [
       "1.52772993049356"
      ]
     },
     "execution_count": 18,
     "metadata": {},
     "output_type": "execute_result"
    }
   ],
   "source": [
    "(sy.acos(r1.dot(r2)/(r1.magnitude()*r2.magnitude()))).evalf()"
   ]
  },
  {
   "cell_type": "markdown",
   "metadata": {},
   "source": [
    "4- Obtenha o vetor unitário que possui a mesma direção e sentido que o vetor $\\textbf{r}_3 = 8\\hat{\\textbf{n}}_x + 13\\hat{\\textbf{n}}_y - 14\\hat{\\textbf{n}}_z$:"
   ]
  },
  {
   "cell_type": "code",
   "execution_count": 19,
   "metadata": {},
   "outputs": [],
   "source": [
    "r3 = 8*N.x + 13*N.y - 14*N.z"
   ]
  },
  {
   "cell_type": "code",
   "execution_count": 20,
   "metadata": {},
   "outputs": [
    {
     "name": "stdout",
     "output_type": "stream",
     "text": [
      "Resposta da 4: \n"
     ]
    },
    {
     "data": {
      "text/latex": [
       "$\\displaystyle \\frac{8 \\sqrt{429}}{429}\\mathbf{\\hat{n}_x} + \\frac{\\sqrt{429}}{33}\\mathbf{\\hat{n}_y} -  \\frac{14 \\sqrt{429}}{429}\\mathbf{\\hat{n}_z}$"
      ],
      "text/plain": [
       "8*sqrt(429)/429*N.x + sqrt(429)/33*N.y - 14*sqrt(429)/429*N.z"
      ]
     },
     "execution_count": 20,
     "metadata": {},
     "output_type": "execute_result"
    }
   ],
   "source": [
    "print('Resposta da 4: ')\n",
    "r3/(r3.magnitude())"
   ]
  },
  {
   "cell_type": "markdown",
   "metadata": {},
   "source": [
    "5- Obtenha um vetor unitário perpendicular aos vetores: $\\textbf{r}_1 = 3\\hat{\\textbf{n}}_x + 14\\hat{\\textbf{n}}_y + 2\\hat{\\textbf{n}}_z$ e $\\textbf{r}_2 = 5\\hat{\\textbf{n}}_x - 2\\hat{\\textbf{n}}_y - 3\\hat{\\textbf{n}}_z$:"
   ]
  },
  {
   "cell_type": "code",
   "execution_count": 21,
   "metadata": {},
   "outputs": [
    {
     "name": "stdout",
     "output_type": "stream",
     "text": [
      "Resposta da 5: \n"
     ]
    },
    {
     "data": {
      "text/latex": [
       "$\\displaystyle -  \\frac{2 \\sqrt{21}}{21}\\mathbf{\\hat{n}_x} + \\frac{\\sqrt{21}}{21}\\mathbf{\\hat{n}_y} -  \\frac{4 \\sqrt{21}}{21}\\mathbf{\\hat{n}_z}$"
      ],
      "text/plain": [
       "- 2*sqrt(21)/21*N.x + sqrt(21)/21*N.y - 4*sqrt(21)/21*N.z"
      ]
     },
     "execution_count": 21,
     "metadata": {},
     "output_type": "execute_result"
    }
   ],
   "source": [
    "print('Resposta da 5: ')\n",
    "r1 = 3*N.x + 14*N.y + 2*N.z\n",
    "r2 = 5*N.x - 2*N.y - 3*N.z\n",
    "r3 = r1.cross(r2)\n",
    "r3/r3.magnitude()"
   ]
  },
  {
   "cell_type": "markdown",
   "metadata": {},
   "source": [
    "6- Seja $\\textbf{r}_1 = x^2\\hat{\\textbf{n}}_x + 14x\\hat{\\textbf{n}}_y + 2\\hat{\\textbf{n}}_z$, obteha $\\dfrac{{}^{N}\\partial \\textbf{r}_1}{\\partial x}$:"
   ]
  },
  {
   "cell_type": "code",
   "execution_count": 22,
   "metadata": {},
   "outputs": [],
   "source": [
    "x = sy.symbols('x')\n",
    "r1 = x**2*N.x + 14*x*N.y + 2*N.z"
   ]
  },
  {
   "cell_type": "code",
   "execution_count": 23,
   "metadata": {},
   "outputs": [
    {
     "name": "stdout",
     "output_type": "stream",
     "text": [
      "Resposta da 6: \n"
     ]
    },
    {
     "data": {
      "text/latex": [
       "$\\displaystyle 2 x\\mathbf{\\hat{n}_x} + 14\\mathbf{\\hat{n}_y}$"
      ],
      "text/plain": [
       "2*x*N.x + 14*N.y"
      ]
     },
     "execution_count": 23,
     "metadata": {},
     "output_type": "execute_result"
    }
   ],
   "source": [
    "print('Resposta da 6: ')\n",
    "r1.diff(x,N)"
   ]
  }
 ],
 "metadata": {
  "kernelspec": {
   "display_name": "Python 3",
   "language": "python",
   "name": "python3"
  },
  "language_info": {
   "codemirror_mode": {
    "name": "ipython",
    "version": 3
   },
   "file_extension": ".py",
   "mimetype": "text/x-python",
   "name": "python",
   "nbconvert_exporter": "python",
   "pygments_lexer": "ipython3",
   "version": "3.8.5"
  }
 },
 "nbformat": 4,
 "nbformat_minor": 4
}
