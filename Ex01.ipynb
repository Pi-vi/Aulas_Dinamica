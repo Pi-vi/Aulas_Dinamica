{
 "cells": [
  {
   "cell_type": "markdown",
   "metadata": {},
   "source": [
    "# Exemplo Cinemática"
   ]
  },
  {
   "cell_type": "code",
   "execution_count": 1,
   "metadata": {},
   "outputs": [],
   "source": [
    "import sympy as sy\n",
    "import sympy.physics.mechanics as me"
   ]
  },
  {
   "cell_type": "code",
   "execution_count": 2,
   "metadata": {},
   "outputs": [],
   "source": [
    "N = me.ReferenceFrame('N')\n",
    "B = me.ReferenceFrame('B')\n",
    "C = me.ReferenceFrame('C')"
   ]
  },
  {
   "cell_type": "code",
   "execution_count": 6,
   "metadata": {},
   "outputs": [],
   "source": [
    "w1,w2 = sy.symbols('omega_1 omega_2')\n",
    "t = me.dynamicsymbols._t"
   ]
  },
  {
   "cell_type": "code",
   "execution_count": 9,
   "metadata": {},
   "outputs": [
    {
     "data": {
      "text/latex": [
       "$\\displaystyle 0$"
      ],
      "text/plain": [
       "0"
      ]
     },
     "execution_count": 9,
     "metadata": {},
     "output_type": "execute_result"
    }
   ],
   "source": [
    "B.orient(N,'Axis',[w1*t,N.z])\n",
    "B.ang_acc_in(N)"
   ]
  },
  {
   "cell_type": "code",
   "execution_count": 15,
   "metadata": {},
   "outputs": [
    {
     "data": {
      "text/latex": [
       "$\\displaystyle -  \\omega_{1} \\omega_{2}\\mathbf{\\hat{b}_x}$"
      ],
      "text/plain": [
       "- omega_1*omega_2*B.x"
      ]
     },
     "execution_count": 15,
     "metadata": {},
     "output_type": "execute_result"
    }
   ],
   "source": [
    "C.orient(B,'Axis',[w2*t,B.y])\n",
    "C.ang_acc_in(N)"
   ]
  },
  {
   "cell_type": "code",
   "execution_count": 17,
   "metadata": {},
   "outputs": [
    {
     "data": {
      "text/latex": [
       "$\\displaystyle \\omega_{2}\\mathbf{\\hat{b}_y} + \\omega_{1}\\mathbf{\\hat{n}_z}$"
      ],
      "text/plain": [
       "omega_1*N.z + omega_2*B.y"
      ]
     },
     "execution_count": 17,
     "metadata": {},
     "output_type": "execute_result"
    }
   ],
   "source": [
    "C.ang_vel_in(N)"
   ]
  },
  {
   "cell_type": "code",
   "execution_count": 19,
   "metadata": {},
   "outputs": [],
   "source": [
    "O = me.Point('O')\n",
    "O.set_vel(N,0)"
   ]
  },
  {
   "cell_type": "code",
   "execution_count": 38,
   "metadata": {},
   "outputs": [],
   "source": [
    "z = sy.symbols('z')\n",
    "vx = sy.symbols('v_x')"
   ]
  },
  {
   "cell_type": "code",
   "execution_count": 39,
   "metadata": {},
   "outputs": [
    {
     "data": {
      "text/latex": [
       "$\\displaystyle (\\omega_{2} z + v_{x})\\mathbf{\\hat{c}_x} + (\\omega_{1} t v_{x} \\operatorname{cos}\\left(\\omega_{2} t\\right) + \\omega_{1} z \\operatorname{sin}\\left(\\omega_{2} t\\right))\\mathbf{\\hat{c}_y} -  \\omega_{2} t v_{x}\\mathbf{\\hat{c}_z}$"
      ],
      "text/plain": [
       "(omega_2*z + v_x)*C.x + (omega_1*t*v_x*cos(omega_2*t) + omega_1*z*sin(omega_2*t))*C.y - omega_2*t*v_x*C.z"
      ]
     },
     "execution_count": 39,
     "metadata": {},
     "output_type": "execute_result"
    }
   ],
   "source": [
    "P = me.Point('P')\n",
    "pPO = vx*t*C.x + z*C.z\n",
    "P.set_pos(O,pPO)\n",
    "P.set_vel(N,pPO.dt(N))\n",
    "P.vel(N)"
   ]
  },
  {
   "cell_type": "code",
   "execution_count": 40,
   "metadata": {},
   "outputs": [
    {
     "data": {
      "text/latex": [
       "$\\displaystyle (- \\omega_{1} \\left(\\omega_{1} t v_{x} \\operatorname{cos}\\left(\\omega_{2} t\\right) + \\omega_{1} z \\operatorname{sin}\\left(\\omega_{2} t\\right)\\right) \\operatorname{cos}\\left(\\omega_{2} t\\right) - \\omega_{2}^{2} t v_{x})\\mathbf{\\hat{c}_x} + (- 2 \\omega_{1} \\omega_{2} t v_{x} \\operatorname{sin}\\left(\\omega_{2} t\\right) + \\omega_{1} \\omega_{2} z \\operatorname{cos}\\left(\\omega_{2} t\\right) + \\omega_{1} v_{x} \\operatorname{cos}\\left(\\omega_{2} t\\right) + \\omega_{1} \\left(\\omega_{2} z + v_{x}\\right) \\operatorname{cos}\\left(\\omega_{2} t\\right))\\mathbf{\\hat{c}_y} + (- \\omega_{1} \\left(\\omega_{1} t v_{x} \\operatorname{cos}\\left(\\omega_{2} t\\right) + \\omega_{1} z \\operatorname{sin}\\left(\\omega_{2} t\\right)\\right) \\operatorname{sin}\\left(\\omega_{2} t\\right) - \\omega_{2} v_{x} - \\omega_{2} \\left(\\omega_{2} z + v_{x}\\right))\\mathbf{\\hat{c}_z}$"
      ],
      "text/plain": [
       "(-omega_1*(omega_1*t*v_x*cos(omega_2*t) + omega_1*z*sin(omega_2*t))*cos(omega_2*t) - omega_2**2*t*v_x)*C.x + (-2*omega_1*omega_2*t*v_x*sin(omega_2*t) + omega_1*omega_2*z*cos(omega_2*t) + omega_1*v_x*cos(omega_2*t) + omega_1*(omega_2*z + v_x)*cos(omega_2*t))*C.y + (-omega_1*(omega_1*t*v_x*cos(omega_2*t) + omega_1*z*sin(omega_2*t))*sin(omega_2*t) - omega_2*v_x - omega_2*(omega_2*z + v_x))*C.z"
      ]
     },
     "execution_count": 40,
     "metadata": {},
     "output_type": "execute_result"
    }
   ],
   "source": [
    "P.acc(N)"
   ]
  }
 ],
 "metadata": {
  "kernelspec": {
   "display_name": "Python 3",
   "language": "python",
   "name": "python3"
  },
  "language_info": {
   "codemirror_mode": {
    "name": "ipython",
    "version": 3
   },
   "file_extension": ".py",
   "mimetype": "text/x-python",
   "name": "python",
   "nbconvert_exporter": "python",
   "pygments_lexer": "ipython3",
   "version": "3.8.5"
  }
 },
 "nbformat": 4,
 "nbformat_minor": 4
}
