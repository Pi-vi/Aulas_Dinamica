{
 "cells": [
  {
   "cell_type": "markdown",
   "metadata": {},
   "source": [
    "# Dinâmica - Lista de Exercícios 01\n",
    "## CEFET/RJ Campus Angra dos Reis\n",
    "\n",
    "\n",
    "\n",
    "1- Efetue as seguintes operações vetoriais:\n",
    "\n"
   ]
  },
  {
   "cell_type": "markdown",
   "metadata": {},
   "source": [
    "(a) $(5 \\hat{\\textbf{n}}_x + 7\\hat{\\textbf{n}}_y + 3\\hat{\\textbf{n}}_z) + (4\\hat{\\textbf{n}}_x - 3\\hat{\\textbf{n}}_y + \\hat{\\textbf{n}}_z)$ <br>"
   ]
  },
  {
   "cell_type": "markdown",
   "metadata": {},
   "source": [
    "(b) $(5 \\hat{\\textbf{n}}_x + 7\\hat{\\textbf{n}}_y + 3\\hat{\\textbf{n}}_z) \\cdot (4\\hat{\\textbf{n}}_x - 3\\hat{\\textbf{n}}_y + \\hat{\\textbf{n}}_z)$ <br>"
   ]
  },
  {
   "cell_type": "markdown",
   "metadata": {},
   "source": [
    "(c) $(5 \\hat{\\textbf{n}}_x + 7\\hat{\\textbf{n}}_y + 3\\hat{\\textbf{n}}_z) \\times (4\\hat{\\textbf{n}}_x - 3\\hat{\\textbf{n}}_y + \\hat{\\textbf{n}}_z)$ <br>"
   ]
  },
  {
   "cell_type": "markdown",
   "metadata": {},
   "source": [
    "(d) $(5 \\hat{\\textbf{n}}_x + 7\\hat{\\textbf{n}}_y + 3\\hat{\\textbf{n}}_z) \\times ((4\\hat{\\textbf{n}}_x - 3\\hat{\\textbf{n}}_y + \\hat{\\textbf{n}}_z) \\times (11\\hat{\\textbf{n}}_x - 5\\hat{\\textbf{n}}_y - 3\\hat{\\textbf{n}}_z))$ <br>"
   ]
  },
  {
   "cell_type": "markdown",
   "metadata": {},
   "source": [
    "(e) $(5 \\hat{\\textbf{n}}_x + 7\\hat{\\textbf{n}}_y + 3\\hat{\\textbf{n}}_z) \\cdot ((4\\hat{\\textbf{n}}_x - 3\\hat{\\textbf{n}}_y + \\hat{\\textbf{n}}_z) \\times (11\\hat{\\textbf{n}}_x - 5\\hat{\\textbf{n}}_y - 3\\hat{\\textbf{n}}_z))$ <br>"
   ]
  },
  {
   "cell_type": "markdown",
   "metadata": {},
   "source": [
    "(f) $2(5 \\hat{\\textbf{n}}_x + 7\\hat{\\textbf{n}}_y + 3\\hat{\\textbf{n}}_z) \\cdot 3(4\\hat{\\textbf{n}}_x - 3\\hat{\\textbf{n}}_y + \\hat{\\textbf{n}}_z)$ <br>"
   ]
  },
  {
   "cell_type": "markdown",
   "metadata": {},
   "source": [
    "(g) $3(5 \\hat{\\textbf{n}}_x + 7\\hat{\\textbf{n}}_y + 3\\hat{\\textbf{n}}_z) \\times 5(4\\hat{\\textbf{n}}_x - 3\\hat{\\textbf{n}}_y + \\hat{\\textbf{n}}_z)$ <br>"
   ]
  },
  {
   "cell_type": "markdown",
   "metadata": {},
   "source": [
    "2- Obtenha o módulo do vetor $\\textbf{r}_1 = 5\\hat{\\textbf{n}}_x + 7\\hat{\\textbf{n}}_y + 3\\hat{\\textbf{n}}_z$:"
   ]
  },
  {
   "cell_type": "markdown",
   "metadata": {},
   "source": [
    "3- Obtenha o ângulo formado pelos seguintes vetores: $\\textbf{r}_1 = 5\\hat{\\textbf{n}}_x + 7\\hat{\\textbf{n}}_y + 3\\hat{\\textbf{n}}_z$ e $\\textbf{r}_2 = 4\\hat{\\textbf{n}}_x - 3\\hat{\\textbf{n}}_y + \\hat{\\textbf{n}}_z$:"
   ]
  },
  {
   "cell_type": "markdown",
   "metadata": {},
   "source": [
    "4- Obtenha o vetor unitário que possui a mesma direção e sentido que o vetor $\\textbf{r}_3 = 8\\hat{\\textbf{n}}_x + 13\\hat{\\textbf{n}}_y - 14\\hat{\\textbf{n}}_z$:"
   ]
  },
  {
   "cell_type": "markdown",
   "metadata": {},
   "source": [
    "5- Obtenha um vetor unitário perpendicular aos vetores: $\\textbf{r}_1 = 3\\hat{\\textbf{n}}_x + 14\\hat{\\textbf{n}}_y + 2\\hat{\\textbf{n}}_z$ e $\\textbf{r}_2 = 5\\hat{\\textbf{n}}_x - 2\\hat{\\textbf{n}}_y - 3\\hat{\\textbf{n}}_z$:"
   ]
  },
  {
   "cell_type": "markdown",
   "metadata": {},
   "source": [
    "6- Seja $\\textbf{r}_1 = x^2\\hat{\\textbf{n}}_x + 14x\\hat{\\textbf{n}}_y + 2\\hat{\\textbf{n}}_z$, obteha $\\dfrac{{}^{N}\\partial \\textbf{r}_1}{\\partial x}$:"
   ]
  }
 ],
 "metadata": {
  "kernelspec": {
   "display_name": "Python 3",
   "language": "python",
   "name": "python3"
  },
  "language_info": {
   "codemirror_mode": {
    "name": "ipython",
    "version": 3
   },
   "file_extension": ".py",
   "mimetype": "text/x-python",
   "name": "python",
   "nbconvert_exporter": "python",
   "pygments_lexer": "ipython3",
   "version": "3.8.3"
  }
 },
 "nbformat": 4,
 "nbformat_minor": 4
}
