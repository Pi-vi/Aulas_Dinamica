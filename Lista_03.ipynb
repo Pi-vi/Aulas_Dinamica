{
 "cells": [
  {
   "cell_type": "markdown",
   "metadata": {},
   "source": [
    "# Dinâmica - Lista 03\n",
    "## CEFET/RJ Campus Angra dos Reis"
   ]
  },
  {
   "cell_type": "markdown",
   "metadata": {},
   "source": [
    "1 - A escada de comprimento $l$ faz um ângulo $\\theta$ com a parede vertical, como mostra a figura a seguir. O pé da escada se move para a direita com velocidade constante $v_a$. Determine $\\dot{\\theta}$ e $\\ddot{\\theta}$ em função de $v_a$, $l$ e $\\theta$.\n",
    "![](Lista3-1.jpg)"
   ]
  },
  {
   "cell_type": "markdown",
   "metadata": {},
   "source": [
    "2- Um volante de 500m de diâmetro está partindo uniformemente do repouso atingindo uma velocidade de 300RPM em 20 segundos. Econtre a velocidade e a aceleração de um ponto na borda do volante 2 segundos depois de sair do repouso. \n",
    "![](Lista3-2.jpg)"
   ]
  },
  {
   "cell_type": "markdown",
   "metadata": {},
   "source": [
    "3- Na figura a seguir o cilindro de raio $r$ rola na superfície de raio $R$. Encontre uma expressão para a velocidade angular e para a aceleração angular do cilindro."
   ]
  },
  {
   "cell_type": "markdown",
   "metadata": {},
   "source": [
    "4- Em um trem de engrenagens eoicíclico, o braço está se movendo a 6rad/s no sentido horário e tem uma aceleração de 10rad/s² no sentido anti-horário. Determine a velocidade e a aceleração do ponto $B$ na posição mostrada. \n",
    "![](Lista3-4.jpg)"
   ]
  },
  {
   "cell_type": "markdown",
   "metadata": {},
   "source": [
    "5- A figura mostra as engrenagens $A$, de raio $r_A$ = 0,20m, e $B$, de raio $r_B$ = 0.15m, que são conectadas pelo braço $OC$. A engrenagem $A$ é fixa e o braço $OC$ gira no sentido horário com velocidade angular constante $\\omega_{OC}$ = 6,0rad/s em torno do eixo perpendicular ao plano da figura, passando pelo centro da engrenagem $A$, que é indicado por $O$. Determinar a velocidade angular da engrenagem $B$.\n",
    "![](Lista3-5.jpg)"
   ]
  },
  {
   "cell_type": "markdown",
   "metadata": {},
   "source": [
    "6- No sistema de engrenagens planetárias mostrado na figura a seguir, o raio das engrenagens $A$, $B$, $C$ e $D$ é $r$ e o da engrenagem $E$ é $3r$. Sabendo que a engrenagem externa $E$ é mantida fixa, enquanto a engrenagem cental $A$ gira com velocidade angular $/omega$ no sentido horário, determinar: \n",
    "\n",
    "**a)** a velocidade angular da haste que conecta as engrenagens $B$, $C$ e $D$;\n",
    "\n",
    "**b)** as velocidades angulares das engrenagens $B$, $C$ e $D$. \n",
    "![](Lista3-6.jpg)"
   ]
  },
  {
   "cell_type": "markdown",
   "metadata": {},
   "source": [
    "7- O disco $D$ gira em torno de um eixo que passa pelo seu centro com velocidade angular $\\omega_1$ = 20rad/s, e aceleração angular $\\alpha_1$ = 10 rad/s², ao mesmo tempo em que todo o conjunto gira com velocidade angular $\\omega_2 = 25 rad/s$, e aceleração angular $\\alpha_2 = 15rad/s², com os sentidos indicados. Determinar:\n",
    "\n",
    "**a)** a velocidade angular do disco $D$;\n",
    "\n",
    "**b)** a aceleração angular do disco $D$;\n",
    "\n",
    "**c)** a velocidade absoluta do ponto $P$;\n",
    "\n",
    "**d)** a aceleração absoluta do ponto $P$;\n",
    "![](Lista3-7.jpg)"
   ]
  }
 ],
 "metadata": {
  "kernelspec": {
   "display_name": "Python 3",
   "language": "python",
   "name": "python3"
  },
  "language_info": {
   "codemirror_mode": {
    "name": "ipython",
    "version": 3
   },
   "file_extension": ".py",
   "mimetype": "text/x-python",
   "name": "python",
   "nbconvert_exporter": "python",
   "pygments_lexer": "ipython3",
   "version": "3.8.10"
  }
 },
 "nbformat": 4,
 "nbformat_minor": 4
}
