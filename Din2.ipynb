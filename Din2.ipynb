{
 "cells": [
  {
   "cell_type": "markdown",
   "metadata": {
    "slideshow": {
     "slide_type": "slide"
    }
   },
   "source": [
    "# Cinemática da Partícula\n",
    "Professor Paulo Victor <br>\n",
    "E-mail: paulo.gomes@cefet-rj.br <br>\n",
    "CEFET-RJ Campus Angra dos Reis Sala 6E "
   ]
  },
  {
   "cell_type": "markdown",
   "metadata": {
    "slideshow": {
     "slide_type": "subslide"
    }
   },
   "source": [
    "A cinemática desempenha um papel fundamental no estudo da dinâmica e no projeto de dispositivos mecânicos. Esta ciência descreve o movimento dos sistemas mecânicos. \n",
    "\n",
    "Para se obterem as equações de movimento de um sistema qualquer será sempre necessário expressar, antes, velocidades e acelerações de seus elementos como funções das coordenadas que descrevem a configuração do sistema\n",
    "\n",
    "\n",
    "Entendemos por partícula, ou material, um corpo cuja forma e dimensões não são relevantes para a caracterização de seu movimento."
   ]
  },
  {
   "cell_type": "markdown",
   "metadata": {
    "slideshow": {
     "slide_type": "slide"
    }
   },
   "source": [
    "## Movimento Retilíneo da Partícula\n",
    "\n",
    "Trata-se de um **movimento unidimensional**. \n",
    "\n",
    "![Movimento Retilíneo](1d.svg)\n",
    "\n",
    "O vetor posição da partícula $P$ em relação ao ponto $O$ escrito na base $\\hat{\\textbf{n}}$ é: \n",
    "\n",
    "$$\\textbf{r}^{P/O} = x(t)\\hat{\\textbf{n}}_x $$"
   ]
  },
  {
   "cell_type": "markdown",
   "metadata": {
    "slideshow": {
     "slide_type": "subslide"
    }
   },
   "source": [
    "Por se tratar de um movimento unidimensional, não é necessário descrevermos a posição da partícula como uma função vetorial, a descrição do movimento por meio de uma função escalar é suficiente. \n",
    "\n",
    "* Em um dado **intervalo de tempo** $\\Delta t$, a partícula se desloca $\\Delta x$. \n",
    "* Em dado **instante de tempo** $dt$, a partícula se desloca $dx$."
   ]
  },
  {
   "cell_type": "markdown",
   "metadata": {
    "slideshow": {
     "slide_type": "subslide"
    }
   },
   "source": [
    "Podemos obter a velocidade média da partícula neste intervalo de tempo $\\Delta t$ por: \n",
    "$$ v^{P}_{med} = \\dfrac{\\Delta x}{\\Delta t} $$\n",
    "\n",
    "Podemos obter a velocidade instantânea da partícula neste intervalo de tempo $dt$ por:\n",
    "$$ v^{P} = \\dfrac{dx}{dt} $$\n",
    "\n",
    "De forma similar, a aceleração média é obtida por:\n",
    "$$ a^{P}_{med} = \\dfrac{\\Delta v}{\\Delta t} $$\n",
    "\n",
    "E a aceleração instantânea por: \n",
    "$$ a^{P} = \\dfrac{dv}{dt} $$\n",
    "\n",
    "Lembrando que $v = \\dfrac{dx}{dt} $, podemor escrever a expressão da aceleração como:\n",
    "$$ a^{P} = \\dfrac{d^{2}x}{dt^{2}} $$\n"
   ]
  },
  {
   "cell_type": "markdown",
   "metadata": {
    "slideshow": {
     "slide_type": "subslide"
    }
   },
   "source": [
    "### Exemplo 1:\n",
    "\n",
    "Um carro foguete se move ao longo de uma pista reta de acordo com a equação $x = 3t^3 + t + 2$, onde $x$ está em metros e $t$ em segundos. Determine o deslocamento, a velocidade e a aceleração quando $t=4s$."
   ]
  },
  {
   "cell_type": "code",
   "execution_count": 1,
   "metadata": {
    "slideshow": {
     "slide_type": "subslide"
    }
   },
   "outputs": [],
   "source": [
    "import sympy as sy\n",
    "t = sy.symbols('t')"
   ]
  },
  {
   "cell_type": "code",
   "execution_count": 2,
   "metadata": {
    "slideshow": {
     "slide_type": "fragment"
    }
   },
   "outputs": [
    {
     "data": {
      "text/latex": [
       "$\\displaystyle 3 t^{3} + t + 2$"
      ],
      "text/plain": [
       "3*t**3 + t + 2"
      ]
     },
     "execution_count": 2,
     "metadata": {},
     "output_type": "execute_result"
    }
   ],
   "source": [
    "x = 3*t**3+t+2\n",
    "x"
   ]
  },
  {
   "cell_type": "code",
   "execution_count": 3,
   "metadata": {
    "slideshow": {
     "slide_type": "fragment"
    }
   },
   "outputs": [
    {
     "data": {
      "text/latex": [
       "$\\displaystyle 9 t^{2} + 1$"
      ],
      "text/plain": [
       "9*t**2 + 1"
      ]
     },
     "execution_count": 3,
     "metadata": {},
     "output_type": "execute_result"
    }
   ],
   "source": [
    "v = x.diff(t)\n",
    "v"
   ]
  },
  {
   "cell_type": "code",
   "execution_count": 4,
   "metadata": {
    "slideshow": {
     "slide_type": "fragment"
    }
   },
   "outputs": [
    {
     "data": {
      "text/latex": [
       "$\\displaystyle 18 t$"
      ],
      "text/plain": [
       "18*t"
      ]
     },
     "execution_count": 4,
     "metadata": {},
     "output_type": "execute_result"
    }
   ],
   "source": [
    "a = v.diff(t)\n",
    "a"
   ]
  },
  {
   "cell_type": "code",
   "execution_count": 5,
   "metadata": {
    "slideshow": {
     "slide_type": "subslide"
    }
   },
   "outputs": [],
   "source": [
    "dic = {t:4}"
   ]
  },
  {
   "cell_type": "code",
   "execution_count": 6,
   "metadata": {
    "scrolled": true,
    "slideshow": {
     "slide_type": "fragment"
    }
   },
   "outputs": [
    {
     "data": {
      "text/latex": [
       "$\\displaystyle 198$"
      ],
      "text/plain": [
       "198"
      ]
     },
     "execution_count": 6,
     "metadata": {},
     "output_type": "execute_result"
    }
   ],
   "source": [
    "x.subs(dic)"
   ]
  },
  {
   "cell_type": "code",
   "execution_count": 7,
   "metadata": {
    "slideshow": {
     "slide_type": "fragment"
    }
   },
   "outputs": [
    {
     "name": "stdout",
     "output_type": "stream",
     "text": [
      "A resposta é: 198 metros\n"
     ]
    }
   ],
   "source": [
    "print('A resposta é: ' + str(x.subs(dic))+' metros')"
   ]
  },
  {
   "cell_type": "code",
   "execution_count": 8,
   "metadata": {
    "slideshow": {
     "slide_type": "fragment"
    }
   },
   "outputs": [
    {
     "data": {
      "text/latex": [
       "$\\displaystyle 145$"
      ],
      "text/plain": [
       "145"
      ]
     },
     "execution_count": 8,
     "metadata": {},
     "output_type": "execute_result"
    }
   ],
   "source": [
    "v.subs(dic)"
   ]
  },
  {
   "cell_type": "code",
   "execution_count": 9,
   "metadata": {
    "slideshow": {
     "slide_type": "fragment"
    }
   },
   "outputs": [
    {
     "data": {
      "text/latex": [
       "$\\displaystyle 72$"
      ],
      "text/plain": [
       "72"
      ]
     },
     "execution_count": 9,
     "metadata": {},
     "output_type": "execute_result"
    }
   ],
   "source": [
    "a.subs(dic)"
   ]
  },
  {
   "cell_type": "markdown",
   "metadata": {
    "slideshow": {
     "slide_type": "subslide"
    }
   },
   "source": [
    "### Exemplo 2:\n",
    "Um ponto se move ao longo de uma linha reta tal que o seu deslocamento é $s=8t^2 + 2t$, onde $s$ está em metros e $t$ em segundos. Faça o gráfico do deslocamento, da velocidade e da aceleração em função do tempo."
   ]
  },
  {
   "cell_type": "code",
   "execution_count": 10,
   "metadata": {
    "slideshow": {
     "slide_type": "subslide"
    }
   },
   "outputs": [
    {
     "data": {
      "text/latex": [
       "$\\displaystyle 8 t^{2} + 2 t$"
      ],
      "text/plain": [
       "8*t**2 + 2*t"
      ]
     },
     "execution_count": 10,
     "metadata": {},
     "output_type": "execute_result"
    }
   ],
   "source": [
    "s = 8*t**2 + 2*t\n",
    "s"
   ]
  },
  {
   "cell_type": "code",
   "execution_count": 11,
   "metadata": {
    "slideshow": {
     "slide_type": "fragment"
    }
   },
   "outputs": [
    {
     "data": {
      "text/latex": [
       "$\\displaystyle 16 t + 2$"
      ],
      "text/plain": [
       "16*t + 2"
      ]
     },
     "execution_count": 11,
     "metadata": {},
     "output_type": "execute_result"
    }
   ],
   "source": [
    "v = s.diff(t)\n",
    "v"
   ]
  },
  {
   "cell_type": "code",
   "execution_count": 12,
   "metadata": {
    "slideshow": {
     "slide_type": "fragment"
    }
   },
   "outputs": [
    {
     "data": {
      "text/latex": [
       "$\\displaystyle 16$"
      ],
      "text/plain": [
       "16"
      ]
     },
     "execution_count": 12,
     "metadata": {},
     "output_type": "execute_result"
    }
   ],
   "source": [
    "a = v.diff(t)\n",
    "a"
   ]
  },
  {
   "cell_type": "code",
   "execution_count": 13,
   "metadata": {
    "slideshow": {
     "slide_type": "subslide"
    }
   },
   "outputs": [],
   "source": [
    "import numpy as np"
   ]
  },
  {
   "cell_type": "code",
   "execution_count": 14,
   "metadata": {
    "slideshow": {
     "slide_type": "fragment"
    }
   },
   "outputs": [],
   "source": [
    "tn = np.linspace(0,25,100)"
   ]
  },
  {
   "cell_type": "code",
   "execution_count": 15,
   "metadata": {
    "slideshow": {
     "slide_type": "fragment"
    }
   },
   "outputs": [],
   "source": [
    "sn = np.zeros(len(tn))\n",
    "vn = np.zeros(len(tn))\n",
    "an = np.zeros(len(tn))"
   ]
  },
  {
   "cell_type": "code",
   "execution_count": 16,
   "metadata": {
    "slideshow": {
     "slide_type": "fragment"
    }
   },
   "outputs": [],
   "source": [
    "for i in range(0,len(tn)):\n",
    "    sn[i] = s.subs(t,tn[i])\n",
    "    vn[i] = v.subs(t,tn[i])\n",
    "    an[i] = a.subs(t,tn[i])"
   ]
  },
  {
   "cell_type": "code",
   "execution_count": 17,
   "metadata": {
    "scrolled": false,
    "slideshow": {
     "slide_type": "subslide"
    }
   },
   "outputs": [],
   "source": [
    "import matplotlib.pyplot as plt"
   ]
  },
  {
   "cell_type": "code",
   "execution_count": 18,
   "metadata": {
    "slideshow": {
     "slide_type": "subslide"
    }
   },
   "outputs": [
    {
     "data": {
      "image/png": "[encoded data removed]",
      "text/plain": [
       "<Figure size 1500x900 with 1 Axes>"
      ]
     },
     "metadata": {
      "needs_background": "light"
     },
     "output_type": "display_data"
    }
   ],
   "source": [
    "plt.figure(figsize=(5,3), dpi=300)\n",
    "plt.plot(tn,sn)\n",
    "plt.title('Deslocamento pelo tempo')\n",
    "plt.ylabel('Deslocamento [m]')\n",
    "plt.xlabel('Tempo [s]')\n",
    "plt.grid(True)"
   ]
  },
  {
   "cell_type": "code",
   "execution_count": 19,
   "metadata": {
    "slideshow": {
     "slide_type": "subslide"
    }
   },
   "outputs": [
    {
     "data": {
      "image/png": "[encoded data removed]",
      "text/plain": [
       "<Figure size 1500x900 with 1 Axes>"
      ]
     },
     "metadata": {
      "needs_background": "light"
     },
     "output_type": "display_data"
    }
   ],
   "source": [
    "plt.figure(figsize=(5,3),dpi=300)\n",
    "plt.plot(tn,vn)\n",
    "plt.title('Velocidade pelo tempo')\n",
    "plt.ylabel('Velocidade [m/s]')\n",
    "plt.xlabel('Tempo [s]')\n",
    "plt.grid(True)"
   ]
  },
  {
   "cell_type": "code",
   "execution_count": 20,
   "metadata": {
    "slideshow": {
     "slide_type": "subslide"
    }
   },
   "outputs": [
    {
     "data": {
      "image/png": "[encoded data removed]",
      "text/plain": [
       "<Figure size 1500x900 with 1 Axes>"
      ]
     },
     "metadata": {
      "needs_background": "light"
     },
     "output_type": "display_data"
    }
   ],
   "source": [
    "plt.figure(figsize=(5,3),dpi=300)\n",
    "plt.plot(tn,an)\n",
    "plt.title('Aceleração pelo tempo')\n",
    "plt.ylabel('Aceleração [m²/s]')\n",
    "plt.xlabel('Tempo [s]')\n",
    "plt.grid(True)"
   ]
  },
  {
   "cell_type": "markdown",
   "metadata": {
    "slideshow": {
     "slide_type": "subslide"
    }
   },
   "source": [
    "### Exemplo 3\n",
    "\n",
    "Uma partícula se move de modo retilíneo com uma acelereção de $a = 5t^3 - 25t$, onde $t$ está em segundos e $a$ em $m/s^{2}$. Obtenha as expressões para a velocidade e para o deslocamento. Considere que a partícula parte do marco $0m$ com uma velocidade inicial de $5m/s$. "
   ]
  },
  {
   "cell_type": "code",
   "execution_count": 21,
   "metadata": {
    "slideshow": {
     "slide_type": "subslide"
    }
   },
   "outputs": [],
   "source": [
    "a = 5*t**3 - 25*t"
   ]
  },
  {
   "cell_type": "code",
   "execution_count": 22,
   "metadata": {
    "slideshow": {
     "slide_type": "fragment"
    }
   },
   "outputs": [
    {
     "data": {
      "text/latex": [
       "$\\displaystyle \\frac{5 t^{4}}{4} - \\frac{25 t^{2}}{2}$"
      ],
      "text/plain": [
       "5*t**4/4 - 25*t**2/2"
      ]
     },
     "execution_count": 22,
     "metadata": {},
     "output_type": "execute_result"
    }
   ],
   "source": [
    "v = sy.integrate(a,t)\n",
    "v"
   ]
  },
  {
   "cell_type": "code",
   "execution_count": 23,
   "metadata": {
    "slideshow": {
     "slide_type": "fragment"
    }
   },
   "outputs": [
    {
     "data": {
      "text/latex": [
       "$\\displaystyle 0$"
      ],
      "text/plain": [
       "0"
      ]
     },
     "execution_count": 23,
     "metadata": {},
     "output_type": "execute_result"
    }
   ],
   "source": [
    "v.subs(t,0)"
   ]
  },
  {
   "cell_type": "code",
   "execution_count": 24,
   "metadata": {
    "slideshow": {
     "slide_type": "subslide"
    }
   },
   "outputs": [
    {
     "data": {
      "text/latex": [
       "$\\displaystyle \\frac{5 t^{4}}{4} - \\frac{25 t^{2}}{2} + 5$"
      ],
      "text/plain": [
       "5*t**4/4 - 25*t**2/2 + 5"
      ]
     },
     "execution_count": 24,
     "metadata": {},
     "output_type": "execute_result"
    }
   ],
   "source": [
    "v = v + 5\n",
    "v"
   ]
  },
  {
   "cell_type": "code",
   "execution_count": 25,
   "metadata": {
    "slideshow": {
     "slide_type": "fragment"
    }
   },
   "outputs": [
    {
     "data": {
      "text/latex": [
       "$\\displaystyle 5$"
      ],
      "text/plain": [
       "5"
      ]
     },
     "execution_count": 25,
     "metadata": {},
     "output_type": "execute_result"
    }
   ],
   "source": [
    "v.subs(t,0)"
   ]
  },
  {
   "cell_type": "code",
   "execution_count": 26,
   "metadata": {
    "slideshow": {
     "slide_type": "fragment"
    }
   },
   "outputs": [
    {
     "data": {
      "text/latex": [
       "$\\displaystyle \\frac{t^{5}}{4} - \\frac{25 t^{3}}{6} + 5 t$"
      ],
      "text/plain": [
       "t**5/4 - 25*t**3/6 + 5*t"
      ]
     },
     "execution_count": 26,
     "metadata": {},
     "output_type": "execute_result"
    }
   ],
   "source": [
    "x = v.integrate(t)\n",
    "x"
   ]
  },
  {
   "cell_type": "code",
   "execution_count": 27,
   "metadata": {
    "slideshow": {
     "slide_type": "fragment"
    }
   },
   "outputs": [
    {
     "data": {
      "text/latex": [
       "$\\displaystyle 0$"
      ],
      "text/plain": [
       "0"
      ]
     },
     "execution_count": 27,
     "metadata": {},
     "output_type": "execute_result"
    }
   ],
   "source": [
    "x.subs(t,0)"
   ]
  },
  {
   "cell_type": "markdown",
   "metadata": {
    "slideshow": {
     "slide_type": "subslide"
    }
   },
   "source": [
    "### Exemplo 4:\n",
    "\n",
    "Uma partícula se move de modo retilíneo com uma aceleração de $a = 30t^2 - 20$, com $t$ em segundos e $a$ em $m/s^2$. Considerando que a partícula parte do repouso, obtenha a velocidade no instante de tempo $t=5s$. "
   ]
  },
  {
   "cell_type": "code",
   "execution_count": 28,
   "metadata": {
    "slideshow": {
     "slide_type": "subslide"
    }
   },
   "outputs": [
    {
     "data": {
      "text/latex": [
       "$\\displaystyle 30 t^{2} - 20$"
      ],
      "text/plain": [
       "30*t**2 - 20"
      ]
     },
     "execution_count": 28,
     "metadata": {},
     "output_type": "execute_result"
    }
   ],
   "source": [
    "a = 30*t**2 - 20\n",
    "a"
   ]
  },
  {
   "cell_type": "code",
   "execution_count": 29,
   "metadata": {
    "slideshow": {
     "slide_type": "fragment"
    }
   },
   "outputs": [
    {
     "data": {
      "text/latex": [
       "$\\displaystyle 1150$"
      ],
      "text/plain": [
       "1150"
      ]
     },
     "execution_count": 29,
     "metadata": {},
     "output_type": "execute_result"
    }
   ],
   "source": [
    "sy.integrate(a,(t,0,5))"
   ]
  },
  {
   "cell_type": "markdown",
   "metadata": {
    "slideshow": {
     "slide_type": "subslide"
    }
   },
   "source": [
    "## Aceleração constante:"
   ]
  },
  {
   "cell_type": "code",
   "execution_count": 30,
   "metadata": {
    "slideshow": {
     "slide_type": "subslide"
    }
   },
   "outputs": [],
   "source": [
    "a = sy.symbols('a')"
   ]
  },
  {
   "cell_type": "code",
   "execution_count": 31,
   "metadata": {
    "slideshow": {
     "slide_type": "fragment"
    }
   },
   "outputs": [
    {
     "data": {
      "text/latex": [
       "$\\displaystyle a t$"
      ],
      "text/plain": [
       "a*t"
      ]
     },
     "execution_count": 31,
     "metadata": {},
     "output_type": "execute_result"
    }
   ],
   "source": [
    "v = a.integrate(t)\n",
    "v"
   ]
  },
  {
   "cell_type": "code",
   "execution_count": 32,
   "metadata": {
    "slideshow": {
     "slide_type": "fragment"
    }
   },
   "outputs": [],
   "source": [
    "v0 = sy.symbols('v0')"
   ]
  },
  {
   "cell_type": "code",
   "execution_count": 33,
   "metadata": {
    "slideshow": {
     "slide_type": "fragment"
    }
   },
   "outputs": [
    {
     "data": {
      "text/latex": [
       "$\\displaystyle a t + v_{0}$"
      ],
      "text/plain": [
       "a*t + v0"
      ]
     },
     "execution_count": 33,
     "metadata": {},
     "output_type": "execute_result"
    }
   ],
   "source": [
    "v = a.integrate(t) + v0\n",
    "v"
   ]
  },
  {
   "cell_type": "code",
   "execution_count": 34,
   "metadata": {
    "slideshow": {
     "slide_type": "fragment"
    }
   },
   "outputs": [],
   "source": [
    "x0 = sy.symbols('x0')"
   ]
  },
  {
   "cell_type": "code",
   "execution_count": 35,
   "metadata": {
    "slideshow": {
     "slide_type": "fragment"
    }
   },
   "outputs": [
    {
     "data": {
      "text/latex": [
       "$\\displaystyle \\frac{a t^{2}}{2} + t v_{0} + x_{0}$"
      ],
      "text/plain": [
       "a*t**2/2 + t*v0 + x0"
      ]
     },
     "execution_count": 35,
     "metadata": {},
     "output_type": "execute_result"
    }
   ],
   "source": [
    "x = v.integrate(t) + x0\n",
    "x"
   ]
  },
  {
   "cell_type": "markdown",
   "metadata": {
    "slideshow": {
     "slide_type": "subslide"
    }
   },
   "source": [
    " Observação: \n",
    " \n",
    " Vimos que: \n",
    " \n",
    " $$ v = \\dfrac{dx}{dt} $$\n",
    " $$ a = \\dfrac{dv}{dt} $$\n",
    " \n",
    " Manipulando algebricamente estas duas equações: \n",
    "\n",
    "$$vdv = adx$$ \n",
    "\n",
    "Ou: \n",
    "$$ vdv - adx = 0$$"
   ]
  },
  {
   "cell_type": "code",
   "execution_count": 36,
   "metadata": {
    "slideshow": {
     "slide_type": "subslide"
    }
   },
   "outputs": [],
   "source": [
    "a,v,x = sy.symbols('a v x')"
   ]
  },
  {
   "cell_type": "markdown",
   "metadata": {
    "slideshow": {
     "slide_type": "subslide"
    }
   },
   "source": [
    "$$ \\int_{v0}^{vf} vdv - \\int_{x0}^{xf} adx = 0$$"
   ]
  },
  {
   "cell_type": "code",
   "execution_count": 37,
   "metadata": {
    "slideshow": {
     "slide_type": "fragment"
    }
   },
   "outputs": [],
   "source": [
    "v0,x0,vf,xf = sy.symbols('v0 x0 v_f x_f')"
   ]
  },
  {
   "cell_type": "code",
   "execution_count": 38,
   "metadata": {
    "slideshow": {
     "slide_type": "fragment"
    }
   },
   "outputs": [
    {
     "data": {
      "text/latex": [
       "$\\displaystyle a x_{0} - a x_{f} - \\frac{v_{0}^{2}}{2} + \\frac{v_{f}^{2}}{2}$"
      ],
      "text/plain": [
       "a*x0 - a*x_f - v0**2/2 + v_f**2/2"
      ]
     },
     "execution_count": 38,
     "metadata": {},
     "output_type": "execute_result"
    }
   ],
   "source": [
    "sy.integrate(v,(v,v0,vf)) - sy.integrate(a,(x,x0,xf))"
   ]
  },
  {
   "cell_type": "markdown",
   "metadata": {
    "slideshow": {
     "slide_type": "fragment"
    }
   },
   "source": [
    "$$ v_{f}^{2} - v_{0}^{2} = 2a \\Delta x $$"
   ]
  },
  {
   "cell_type": "markdown",
   "metadata": {
    "slideshow": {
     "slide_type": "subslide"
    }
   },
   "source": [
    "Observação:\n",
    "Podemos criar uma função temporal da seguinte maneira:"
   ]
  },
  {
   "cell_type": "code",
   "execution_count": 39,
   "metadata": {
    "slideshow": {
     "slide_type": "fragment"
    }
   },
   "outputs": [],
   "source": [
    "import sympy.physics.mechanics as me"
   ]
  },
  {
   "cell_type": "code",
   "execution_count": 40,
   "metadata": {
    "slideshow": {
     "slide_type": "fragment"
    }
   },
   "outputs": [],
   "source": [
    "x = me.dynamicsymbols('x')\n",
    "t = me.dynamicsymbols._t"
   ]
  },
  {
   "cell_type": "code",
   "execution_count": 41,
   "metadata": {
    "slideshow": {
     "slide_type": "fragment"
    }
   },
   "outputs": [
    {
     "data": {
      "text/latex": [
       "$\\displaystyle \\frac{d}{d t} x{\\left(t \\right)}$"
      ],
      "text/plain": [
       "Derivative(x(t), t)"
      ]
     },
     "execution_count": 41,
     "metadata": {},
     "output_type": "execute_result"
    }
   ],
   "source": [
    "x.diff()"
   ]
  },
  {
   "cell_type": "code",
   "execution_count": 42,
   "metadata": {
    "slideshow": {
     "slide_type": "subslide"
    }
   },
   "outputs": [
    {
     "data": {
      "text/latex": [
       "$\\displaystyle \\frac{d^{2}}{d t^{2}} x{\\left(t \\right)}$"
      ],
      "text/plain": [
       "Derivative(x(t), (t, 2))"
      ]
     },
     "execution_count": 42,
     "metadata": {},
     "output_type": "execute_result"
    }
   ],
   "source": [
    "x.diff(t,2)"
   ]
  },
  {
   "cell_type": "code",
   "execution_count": 43,
   "metadata": {
    "slideshow": {
     "slide_type": "fragment"
    }
   },
   "outputs": [
    {
     "data": {
      "text/latex": [
       "$\\displaystyle \\frac{d}{d t} x{\\left(t \\right)}$"
      ],
      "text/plain": [
       "Derivative(x(t), t)"
      ]
     },
     "execution_count": 43,
     "metadata": {},
     "output_type": "execute_result"
    }
   ],
   "source": [
    "sy.diff(x,t)"
   ]
  },
  {
   "cell_type": "markdown",
   "metadata": {
    "slideshow": {
     "slide_type": "subslide"
    }
   },
   "source": [
    "## Movimento Retilíneo Vinculado de Várias Partículas\n",
    "\n",
    "Na Engenharia Mecânica, principalmente no projeto de máquinas de elevação e transporte, são muitos comuns as situações envolvendo movimentos retilíneos de simultâneos de várias partículas, havendo uma dependência entre estes movimentos em virtude da existência de ligações mecânicas entre as partículas"
   ]
  },
  {
   "cell_type": "markdown",
   "metadata": {
    "slideshow": {
     "slide_type": "subslide"
    }
   },
   "source": [
    "### Exemplo 5:\n",
    "\n",
    "A figura a seguir ilustra uma carga $P$ que é içada com um cabo conectado a um tambor de raio $R$, acionado por um motor elétrico que gira com velocidade angular constante $\\omega$. Pede-se:\n",
    "1. desenvolver as expressões para a velocidade e a aceleração de $P$ em função de $y$;\n",
    "2. traças as curvas mostrando as variações da velocidade e da aceleração de $P$ em função de y, admitindo $b=1m$, $\\omega = 2 \\pi rad/s$, $R=0,5m$ e que a carga parta de uma posição inicial $y_0=8m$. \n"
   ]
  },
  {
   "cell_type": "markdown",
   "metadata": {
    "slideshow": {
     "slide_type": "subslide"
    }
   },
   "source": [
    "![Exemplo 05](ExPolias01.png)"
   ]
  },
  {
   "cell_type": "code",
   "execution_count": 44,
   "metadata": {
    "slideshow": {
     "slide_type": "subslide"
    }
   },
   "outputs": [],
   "source": [
    "y = me.dynamicsymbols('y')\n",
    "b,R,omega = sy.symbols('b R omega')\n",
    "t = me.dynamicsymbols._t"
   ]
  },
  {
   "cell_type": "markdown",
   "metadata": {
    "slideshow": {
     "slide_type": "fragment"
    }
   },
   "source": [
    "A velocidade do cabo é dada por $v_c = \\omega R$"
   ]
  },
  {
   "cell_type": "code",
   "execution_count": 45,
   "metadata": {
    "slideshow": {
     "slide_type": "fragment"
    }
   },
   "outputs": [
    {
     "data": {
      "text/latex": [
       "$\\displaystyle 2 \\sqrt{b^{2} + y^{2}{\\left(t \\right)}}$"
      ],
      "text/plain": [
       "2*sqrt(b**2 + y(t)**2)"
      ]
     },
     "execution_count": 45,
     "metadata": {},
     "output_type": "execute_result"
    }
   ],
   "source": [
    "l = 2*sy.sqrt(b**2 + y**2)\n",
    "l"
   ]
  },
  {
   "cell_type": "markdown",
   "metadata": {
    "slideshow": {
     "slide_type": "subslide"
    }
   },
   "source": [
    "Como o cabo é inextensível, ou seja, tem comprimento constante, a taxa de variação do comprimento do trecho $ABC$ deve ser igual à velocidade com que o cabo é enrolado no tambor. Além disso, a velocidade de subida da carga é $v_p = dy/dt$."
   ]
  },
  {
   "cell_type": "code",
   "execution_count": 46,
   "metadata": {
    "slideshow": {
     "slide_type": "fragment"
    }
   },
   "outputs": [
    {
     "data": {
      "text/latex": [
       "$\\displaystyle \\frac{2 y{\\left(t \\right)} \\frac{d}{d t} y{\\left(t \\right)}}{\\sqrt{b^{2} + y^{2}{\\left(t \\right)}}}$"
      ],
      "text/plain": [
       "2*y(t)*Derivative(y(t), t)/sqrt(b**2 + y(t)**2)"
      ]
     },
     "execution_count": 46,
     "metadata": {},
     "output_type": "execute_result"
    }
   ],
   "source": [
    "vc = l.diff(t)\n",
    "vc"
   ]
  },
  {
   "cell_type": "markdown",
   "metadata": {
    "slideshow": {
     "slide_type": "fragment"
    }
   },
   "source": [
    "$$v_p = \\dfrac{dy}{dt}$$"
   ]
  },
  {
   "cell_type": "code",
   "execution_count": 47,
   "metadata": {
    "slideshow": {
     "slide_type": "fragment"
    }
   },
   "outputs": [
    {
     "data": {
      "text/latex": [
       "$\\displaystyle \\frac{2 v_{p} y{\\left(t \\right)}}{\\sqrt{b^{2} + y^{2}{\\left(t \\right)}}}$"
      ],
      "text/plain": [
       "2*v_p*y(t)/sqrt(b**2 + y(t)**2)"
      ]
     },
     "execution_count": 47,
     "metadata": {},
     "output_type": "execute_result"
    }
   ],
   "source": [
    "vp = sy.symbols('v_p')\n",
    "vc = vc.subs(y.diff(),vp)\n",
    "vc"
   ]
  },
  {
   "cell_type": "markdown",
   "metadata": {
    "slideshow": {
     "slide_type": "subslide"
    }
   },
   "source": [
    "$$v_c = -\\omega R$$"
   ]
  },
  {
   "cell_type": "code",
   "execution_count": 48,
   "metadata": {
    "slideshow": {
     "slide_type": "fragment"
    }
   },
   "outputs": [
    {
     "data": {
      "text/latex": [
       "$\\displaystyle \\frac{2 v_{p} y{\\left(t \\right)}}{\\sqrt{b^{2} + y^{2}{\\left(t \\right)}}} = - R \\omega$"
      ],
      "text/plain": [
       "Eq(2*v_p*y(t)/sqrt(b**2 + y(t)**2), -R*omega)"
      ]
     },
     "execution_count": 48,
     "metadata": {},
     "output_type": "execute_result"
    }
   ],
   "source": [
    "Eq1 = sy.Eq(vc,-omega*R)\n",
    "Eq1"
   ]
  },
  {
   "cell_type": "code",
   "execution_count": 49,
   "metadata": {
    "slideshow": {
     "slide_type": "fragment"
    }
   },
   "outputs": [
    {
     "data": {
      "text/latex": [
       "$\\displaystyle - \\frac{R \\omega \\sqrt{b^{2} + y^{2}{\\left(t \\right)}}}{2 y{\\left(t \\right)}}$"
      ],
      "text/plain": [
       "-R*omega*sqrt(b**2 + y(t)**2)/(2*y(t))"
      ]
     },
     "execution_count": 49,
     "metadata": {},
     "output_type": "execute_result"
    }
   ],
   "source": [
    "vp_sol = sy.solve(Eq1,vp)[0]\n",
    "vp_sol"
   ]
  },
  {
   "cell_type": "code",
   "execution_count": 50,
   "metadata": {
    "slideshow": {
     "slide_type": "fragment"
    }
   },
   "outputs": [
    {
     "data": {
      "text/latex": [
       "$\\displaystyle \\frac{R b^{2} \\omega \\frac{d}{d t} y{\\left(t \\right)}}{2 \\sqrt{b^{2} + y^{2}{\\left(t \\right)}} y^{2}{\\left(t \\right)}}$"
      ],
      "text/plain": [
       "R*b**2*omega*Derivative(y(t), t)/(2*sqrt(b**2 + y(t)**2)*y(t)**2)"
      ]
     },
     "execution_count": 50,
     "metadata": {},
     "output_type": "execute_result"
    }
   ],
   "source": [
    "Eq2 = vp_sol.diff(t).simplify()\n",
    "Eq2"
   ]
  },
  {
   "cell_type": "code",
   "execution_count": 51,
   "metadata": {
    "slideshow": {
     "slide_type": "fragment"
    }
   },
   "outputs": [
    {
     "data": {
      "text/latex": [
       "$\\displaystyle - \\frac{R^{2} b^{2} \\omega^{2}}{4 y^{3}{\\left(t \\right)}}$"
      ],
      "text/plain": [
       "-R**2*b**2*omega**2/(4*y(t)**3)"
      ]
     },
     "execution_count": 51,
     "metadata": {},
     "output_type": "execute_result"
    }
   ],
   "source": [
    "sol1 = Eq2.subs(y.diff(t),vp_sol)\n",
    "sol1"
   ]
  },
  {
   "cell_type": "code",
   "execution_count": 52,
   "metadata": {
    "slideshow": {
     "slide_type": "subslide"
    }
   },
   "outputs": [],
   "source": [
    "dic = {b:1,omega:2*np.pi,R:0.5}\n",
    "yn = np.linspace(0.5,8,100)\n",
    "vPn = np.zeros(100)\n",
    "aPn = np.zeros(100)\n",
    "vp_sol_num = vp_sol.subs(dic)\n",
    "ap_sol_num = sol1.subs(dic)"
   ]
  },
  {
   "cell_type": "code",
   "execution_count": 53,
   "metadata": {
    "slideshow": {
     "slide_type": "fragment"
    }
   },
   "outputs": [],
   "source": [
    "for i in range(0,100):\n",
    "    vPn[i] = vp_sol_num.subs(y,yn[i])\n",
    "    aPn[i] = ap_sol_num.subs(y,yn[i])  "
   ]
  },
  {
   "cell_type": "code",
   "execution_count": 54,
   "metadata": {
    "slideshow": {
     "slide_type": "fragment"
    }
   },
   "outputs": [
    {
     "data": {
      "text/latex": [
       "$\\displaystyle - \\frac{1.5707963267949 \\sqrt{y^{2}{\\left(t \\right)} + 1}}{y{\\left(t \\right)}}$"
      ],
      "text/plain": [
       "-1.5707963267949*sqrt(y(t)**2 + 1)/y(t)"
      ]
     },
     "execution_count": 54,
     "metadata": {},
     "output_type": "execute_result"
    }
   ],
   "source": [
    "vp_sol_num"
   ]
  },
  {
   "cell_type": "code",
   "execution_count": 55,
   "metadata": {
    "slideshow": {
     "slide_type": "subslide"
    }
   },
   "outputs": [
    {
     "data": {
      "image/png": "[encoded data removed]",
      "text/plain": [
       "<Figure size 1500x900 with 1 Axes>"
      ]
     },
     "metadata": {
      "needs_background": "light"
     },
     "output_type": "display_data"
    }
   ],
   "source": [
    "plt.figure(figsize=(5,3),dpi=300)\n",
    "plt.plot(yn,vPn)\n",
    "plt.title('Velocidade do ponto P')\n",
    "plt.xlabel('y[m]')\n",
    "plt.ylabel('Velocidade [m/s]')\n",
    "plt.grid('True')"
   ]
  },
  {
   "cell_type": "code",
   "execution_count": 56,
   "metadata": {
    "scrolled": false,
    "slideshow": {
     "slide_type": "subslide"
    }
   },
   "outputs": [
    {
     "data": {
      "image/png": "[encoded data removed]",
      "text/plain": [
       "<Figure size 1500x900 with 1 Axes>"
      ]
     },
     "metadata": {
      "needs_background": "light"
     },
     "output_type": "display_data"
    }
   ],
   "source": [
    "plt.figure(figsize=(5,3),dpi=300)\n",
    "plt.plot(yn,aPn)\n",
    "plt.title('Aceleração do ponto P')\n",
    "plt.xlabel('y[m]')\n",
    "plt.ylabel('Aceleração [m/s²]')\n",
    "plt.grid('True')"
   ]
  },
  {
   "cell_type": "markdown",
   "metadata": {
    "slideshow": {
     "slide_type": "slide"
    }
   },
   "source": [
    "## Mudança de Sistema Referencial: Matrizes de Rotação"
   ]
  },
  {
   "cell_type": "markdown",
   "metadata": {
    "slideshow": {
     "slide_type": "subslide"
    }
   },
   "source": [
    "Para facilitar a análise cinemática, podemos criar referenciais que se movem. \n",
    "![Tipos de Referênciais](Tipos_de_ref.svg)"
   ]
  },
  {
   "cell_type": "markdown",
   "metadata": {
    "slideshow": {
     "slide_type": "subslide"
    }
   },
   "source": [
    "### Referencial móvel transladado\n",
    "\n",
    "![Referencial Móvel Transladado](RefMov08.svg)\n",
    "\n"
   ]
  },
  {
   "cell_type": "markdown",
   "metadata": {
    "slideshow": {
     "slide_type": "subslide"
    }
   },
   "source": [
    "Temos que os vetores de base do referencial $A$ são paralelos aos vetores da base $N$ para todo o intervalo de tempo de análise. \n",
    "\n",
    "$$ X // X_1$$\n",
    "$$ Y // Y_1 $$\n",
    "$$ Z // Z_1 $$ "
   ]
  },
  {
   "cell_type": "markdown",
   "metadata": {
    "slideshow": {
     "slide_type": "subslide"
    }
   },
   "source": [
    "Ao se derivar um vetor temporalmente, deve-se notar se o vetor em questão sofre alterações em seu módulo, ou em sua orientação. \n",
    "\n",
    "$$ \\dfrac{{}^N d \\hat{\\mathbf{a}}_x}{dt} = \\mathbf{0} $$\n",
    "$$ \\dfrac{{}^N d \\hat{\\mathbf{a}}_y}{dt} = \\mathbf{0} $$\n",
    "$$ \\dfrac{{}^N d \\hat{\\mathbf{a}}_z}{dt} = \\mathbf{0} $$\n",
    "\n",
    "Logo: \n",
    "\n",
    "$$\\mathbf{p}^{P/O} = \\mathbf{r} + \\mathbf{r}_1 $$\n",
    "$$\\dfrac{{}^N d \\mathbf{p}^{P/O}}{dt} = \\dot{\\mathbf{r}} + \\dot{\\mathbf{r}}_1 = \\dot{r}\\hat{\\mathbf{r}} + \\dot{r}_{1}\\hat{\\mathbf{r}}_{1}$$\n",
    "\n",
    "Notamos então que não existe nenhum ganho significativo ao se expressar vetores utilizando referenciais trasnladados."
   ]
  },
  {
   "cell_type": "markdown",
   "metadata": {
    "slideshow": {
     "slide_type": "subslide"
    }
   },
   "source": [
    "### Referencial Móvel Girando\n",
    "\n",
    "![Referencial Móvel Girando](RefMov06b.svg)\n",
    "\n",
    "**Rotação no eixo** $X$\n",
    "\n",
    "$$X = X_1$$\n",
    "$$\\hat{\\mathbf{n}}_x = \\hat{\\mathbf{a}}_x $$\n",
    "$$ \\theta = f(t) $$"
   ]
  },
  {
   "cell_type": "markdown",
   "metadata": {
    "slideshow": {
     "slide_type": "subslide"
    }
   },
   "source": [
    "Usando a regra da mão direita, observamos que o ângulo $\\theta$ varia na direção $\\hat{\\textbf{a}}_x$ ou $\\hat{\\textbf{n}}_x$. Podemos definir o vetor velocidade angular do sistema $A$ em relação ao sistema $N$ como a derivada do vetor deslocamento angular em relação ao referecial $N$:\n",
    "$$ {}^{N}\\boldsymbol{\\omega}^{A} = \\dfrac{{}^N d \\theta \\hat{\\textbf{n}}_x}{dt} = \\dot{\\theta} \\hat{\\textbf{n}}_x $$"
   ]
  },
  {
   "cell_type": "markdown",
   "metadata": {
    "slideshow": {
     "slide_type": "fragment"
    }
   },
   "source": [
    "Podemos escrever o vetor posição de $P$ em relação a $O$ como: \n",
    "$$\\mathbf{p}^{P/O} = \\mathbf{r} $$"
   ]
  },
  {
   "cell_type": "markdown",
   "metadata": {
    "slideshow": {
     "slide_type": "fragment"
    }
   },
   "source": [
    "Podemos definir a derivada temporal do vetor posição de $P$ para $O$ em relação a $N$ como:\n",
    "\n",
    "$$\\dfrac{{}^N d \\textbf{p}^{P/O}}{dt} = \\dfrac{{}^{A}d \\textbf{r}}{dt} + {}^{N} \\boldsymbol{\\omega}^{A} \\times \\textbf{r} $$\n",
    "\n",
    "Utilizando este teorema, podemos derivar os vetores da base $\\hat{\\textbf{a}}$:\n",
    "$$ \\dfrac{{}^N d \\hat{\\textbf{a}}_x}{dt} = 0 $$\n",
    "$$ \\dfrac{{}^N d \\hat{\\textbf{a}}_y}{dt} = {}^{N}\\boldsymbol{\\omega}^{A} \\times \\hat{\\textbf{a}}_y $$\n",
    "$$ \\dfrac{{}^N d \\hat{\\textbf{a}}_z}{dt} = {}^{N}\\boldsymbol{\\omega}^{A} \\times \\hat{\\textbf{a}}_z  $$"
   ]
  },
  {
   "cell_type": "markdown",
   "metadata": {
    "slideshow": {
     "slide_type": "subslide"
    }
   },
   "source": [
    "### Exemplo 6 \n",
    "Obter a aceleração absoluta da formiga no ventilador. Para uma primeira análise, considere a formiga estando parada no ventilador.\n",
    "![Formiga no ventilador](formiga0.png)"
   ]
  },
  {
   "cell_type": "markdown",
   "metadata": {
    "slideshow": {
     "slide_type": "subslide"
    }
   },
   "source": [
    "Observa-se que é interessante criar um referencial que se mova junto com o ventilador.\n",
    "\n",
    "![Formiga no ventilador](formiga.png)"
   ]
  },
  {
   "cell_type": "code",
   "execution_count": 57,
   "metadata": {
    "slideshow": {
     "slide_type": "subslide"
    }
   },
   "outputs": [
    {
     "data": {
      "text/html": [
       "<video src=\"formiga.mp4\" controls  width=\"700\" >\n",
       "      Your browser does not support the <code>video</code> element.\n",
       "    </video>"
      ],
      "text/plain": [
       "<IPython.core.display.Video object>"
      ]
     },
     "execution_count": 57,
     "metadata": {},
     "output_type": "execute_result"
    }
   ],
   "source": [
    "from IPython.display import Video\n",
    "\n",
    "Video(\"formiga.mp4\",width=700)"
   ]
  },
  {
   "cell_type": "markdown",
   "metadata": {
    "slideshow": {
     "slide_type": "subslide"
    }
   },
   "source": [
    "Modelaremos a formiga como uma partícula:\n",
    "![Formiga no ventilador](RefMov07.svg)"
   ]
  },
  {
   "cell_type": "markdown",
   "metadata": {
    "slideshow": {
     "slide_type": "subslide"
    }
   },
   "source": [
    "$${}^{N}\\boldsymbol{\\omega}^{A} = \\dot{\\theta} \\hat{\\mathbf{n}}_z = \\dot{\\theta} \\hat{\\mathbf{a}}_z $$\n",
    "\n",
    "Seja $O$ um ponto pertencente ao eixo de rotação do ventilador.\n",
    "\n",
    "$${}^{N}\\mathbf{v}^{O} = \\mathbf{0} $$\n",
    "\n",
    "A posição da formiga $P$ em relação ao ponto fixo $O$ é:\n",
    "\n",
    "$$\\mathbf{p}^{P/O} = R \\hat{\\mathbf{a}}_x  = R cos(\\theta) \\hat{\\mathbf{n}}_x + R sen (\\theta) \\hat{\\mathbf{n}}_y$$\n",
    "\n",
    "Nota-se que é mais conveniente expressar o vetor posição $\\mathbf{p}^{P/O}$ na base $\\hat{\\mathbf{a}}$:\n",
    "\n",
    "$$\\mathbf{p}^{P/O} = R \\hat{\\mathbf{a}}_x $$"
   ]
  },
  {
   "cell_type": "markdown",
   "metadata": {
    "slideshow": {
     "slide_type": "subslide"
    }
   },
   "source": [
    "Podemos obter a velocidade do ponto $P$ em relação ao sistema referencial inercial $N$ como:\n",
    "\n",
    "$${}^{N}\\mathbf{v}^{P} = \\dfrac{{}^{N} d \\mathbf{p}^{P/O}}{dt} = \\dot{R} \\hat{\\mathbf{a}}_x +  R {}^{N}\\boldsymbol{\\omega}^{A} \\times \\hat{\\mathbf{a}}_x $$\n",
    "\n",
    "Observa-se que $\\dot{R} = 0$. \n",
    "\n",
    "$${}^{N}\\mathbf{v}^{P} = R \\dot{\\theta} \\hat{\\mathbf{a}}_z \\times \\hat{\\mathbf{a}}_x $$\n",
    "$${}^{N}\\mathbf{v}^{P} = R \\dot{\\theta} \\hat{\\mathbf{a}}_y $$\n",
    "\n",
    "A aceleração do ponto P em relação ao sistema de referência $N$ pode ser obtida como:\n",
    "$${}^{N}\\mathbf{a}^{P} = \\dfrac{{}^{N}d {}^{N}\\mathbf{v}^{P}}{dt} = R \\ddot{\\theta} \\hat{\\mathbf{a}}_y + R \\dot{\\theta}(\\dot{\\theta}\\hat{\\mathbf{a}}_z \\times \\hat{\\mathbf{a}}_y) = R \\ddot{\\theta}\\hat{\\mathbf{a}}_y - R \\dot{\\theta}^{2} \\hat{\\mathbf{a}}_x $$"
   ]
  },
  {
   "cell_type": "code",
   "execution_count": 58,
   "metadata": {
    "slideshow": {
     "slide_type": "subslide"
    }
   },
   "outputs": [],
   "source": [
    "theta = me.dynamicsymbols('theta')\n",
    "R = sy.symbols('R')"
   ]
  },
  {
   "cell_type": "code",
   "execution_count": 59,
   "metadata": {
    "slideshow": {
     "slide_type": "fragment"
    }
   },
   "outputs": [],
   "source": [
    "N = me.ReferenceFrame('N')\n",
    "A = me.ReferenceFrame('A')"
   ]
  },
  {
   "cell_type": "code",
   "execution_count": 60,
   "metadata": {
    "slideshow": {
     "slide_type": "fragment"
    }
   },
   "outputs": [],
   "source": [
    "A.orient(N,'Axis',[theta,N.z])"
   ]
  },
  {
   "cell_type": "code",
   "execution_count": 61,
   "metadata": {
    "scrolled": true,
    "slideshow": {
     "slide_type": "fragment"
    }
   },
   "outputs": [
    {
     "data": {
      "text/latex": [
       "$\\displaystyle \\dot{\\theta}\\mathbf{\\hat{n}_z}$"
      ],
      "text/plain": [
       "theta'*N.z"
      ]
     },
     "execution_count": 61,
     "metadata": {},
     "output_type": "execute_result"
    }
   ],
   "source": [
    "A.ang_vel_in(N)"
   ]
  },
  {
   "cell_type": "code",
   "execution_count": 62,
   "metadata": {
    "slideshow": {
     "slide_type": "fragment"
    }
   },
   "outputs": [
    {
     "data": {
      "text/latex": [
       "$\\displaystyle \\ddot{\\theta}\\mathbf{\\hat{n}_z}$"
      ],
      "text/plain": [
       "theta''*N.z"
      ]
     },
     "execution_count": 62,
     "metadata": {},
     "output_type": "execute_result"
    }
   ],
   "source": [
    "A.ang_acc_in(N)"
   ]
  },
  {
   "cell_type": "code",
   "execution_count": 63,
   "metadata": {
    "slideshow": {
     "slide_type": "subslide"
    }
   },
   "outputs": [],
   "source": [
    "O = me.Point('O')\n",
    "O.set_vel(N,0)"
   ]
  },
  {
   "cell_type": "code",
   "execution_count": 64,
   "metadata": {
    "slideshow": {
     "slide_type": "fragment"
    }
   },
   "outputs": [
    {
     "data": {
      "text/latex": [
       "$\\displaystyle R\\mathbf{\\hat{a}_x}$"
      ],
      "text/plain": [
       "R*A.x"
      ]
     },
     "execution_count": 64,
     "metadata": {},
     "output_type": "execute_result"
    }
   ],
   "source": [
    "P = me.Point('P')\n",
    "rPO = R*A.x\n",
    "P.set_pos(O,rPO)\n",
    "P.pos_from(O)"
   ]
  },
  {
   "cell_type": "code",
   "execution_count": 65,
   "metadata": {
    "slideshow": {
     "slide_type": "fragment"
    }
   },
   "outputs": [
    {
     "data": {
      "text/latex": [
       "$\\displaystyle R \\dot{\\theta}\\mathbf{\\hat{a}_y}$"
      ],
      "text/plain": [
       "R*theta'*A.y"
      ]
     },
     "execution_count": 65,
     "metadata": {},
     "output_type": "execute_result"
    }
   ],
   "source": [
    "P.set_vel(N,rPO.dt(N))\n",
    "P.vel(N)"
   ]
  },
  {
   "cell_type": "code",
   "execution_count": 66,
   "metadata": {
    "slideshow": {
     "slide_type": "fragment"
    }
   },
   "outputs": [
    {
     "data": {
      "text/latex": [
       "$\\displaystyle -  R \\dot{\\theta}^{2}\\mathbf{\\hat{a}_x} + R \\ddot{\\theta}\\mathbf{\\hat{a}_y}$"
      ],
      "text/plain": [
       "- R*theta'**2*A.x + R*theta''*A.y"
      ]
     },
     "execution_count": 66,
     "metadata": {},
     "output_type": "execute_result"
    }
   ],
   "source": [
    "P.acc(N)"
   ]
  },
  {
   "cell_type": "markdown",
   "metadata": {
    "slideshow": {
     "slide_type": "subslide"
    }
   },
   "source": [
    "### Eixos Radial e Tangencial, Velocidades e Acelerações\n",
    "\n",
    "![Formiga no ventilador](RefMov07.svg)"
   ]
  },
  {
   "cell_type": "markdown",
   "metadata": {
    "slideshow": {
     "slide_type": "subslide"
    }
   },
   "source": [
    "![Formiga no ventilador](RefMov07b.svg)\n",
    "\n",
    "$\\hat{\\mathbf{a}}_x = \\hat{\\mathbf{a}}_r$ $\\rightarrow$  direção radial ao movimento <br>\n",
    "$\\hat{\\mathbf{a}}_y = \\hat{\\mathbf{a}}_t$ $\\rightarrow$  direção tangencial ao movimento\n",
    "\n",
    "\n",
    "**Vamos agora considerar que:** $R \\neq cte$, ou seja $\\dot{R} \\neq 0$. \n"
   ]
  },
  {
   "cell_type": "markdown",
   "metadata": {
    "slideshow": {
     "slide_type": "subslide"
    }
   },
   "source": [
    "Passos para resolver a cinemática: \n",
    "\n",
    "- Criar um sistema de referência inercial e sistemas móveis que facilitem a análise.\n",
    "- Escrever as relações entre os sistemas.\n",
    "- Obter o vetor velocidade angular e o vetor aceleração angular. \n",
    "    $${}^{N}\\boldsymbol{\\omega}^{A} = \\dot{\\theta}\\hat{\\mathbf{n}}_z = \\dot{\\theta}\\hat{\\mathbf{a}}_z$$\n",
    "    $${}^{N}\\boldsymbol{\\alpha}^{A} = \\dfrac{{}^{N} d {}^{N}\\boldsymbol{\\omega}^{A}}{dt} = \\dfrac{{}^{N} \\dot{\\theta} \\hat{\\mathbf{n}}_z}{dt} = \\ddot{\\theta} \\hat{\\mathbf{n}}_z = \\ddot{\\theta} \\hat{\\mathbf{a}}_z$$\n",
    "- Escolher um ponto com velocidade absoluta igual a zero para ser a origem do sistema referencial inercial.\n",
    "    $${}^{N}\\mathbf{v}^{O} = \\mathbf{0}$$\n",
    "- Escrever o vetor posição do ponto que se quer analisar.\n",
    "    $$\\mathbf{p}^{P/O} = R \\hat{\\mathbf{a}}_x$$\n"
   ]
  },
  {
   "cell_type": "markdown",
   "metadata": {
    "slideshow": {
     "slide_type": "subslide"
    }
   },
   "source": [
    "- Obter a velocidade desse ponto.\n",
    "    $${}^{N}\\mathbf{v}^{P} = \\dot{R} \\hat{\\mathbf{a}}_x + R {}^{N} \\boldsymbol{\\omega}^{A} \\times \\hat{\\mathbf{a}}_x + R \\dot{\\theta} \\hat{\\mathbf{a}}_z \\times \\hat{\\mathbf{a}}_x $$\n",
    "    $${}^{N}\\mathbf{v}^{P} = \\dot{R} \\hat{\\mathbf{a}}_x + R \\dot{\\theta} \\hat{\\mathbf{a}}_y $$\n",
    "    Onde $\\dot{R} $ é a velocidade radial e $R \\dot{\\theta}$ é a velocidade tangencial $\\rightarrow$ ${}^{N}\\mathbf{v}^{P} = \\dot{R} \\hat{\\mathbf{a}}_r + R \\dot{\\theta} \\hat{\\mathbf{a}}_t$ .\n",
    "- Obter a aceleração. \n",
    "    $${}^{N}\\mathbf{a}^{P} = \\dfrac{{}^{N}d(\\dot{R} \\hat{\\mathbf{a}}_x + R \\dot{\\theta} \\hat{\\mathbf{a}}_y)}{dt}$$\n",
    "    $${}^{N}\\mathbf{a}^{P} = \\ddot{R} \\hat{\\mathbf{a}}_x + \\dot{R} \\dot{\\theta}\\hat{\\mathbf{a}}_z \\times \\hat{\\mathbf{a}}_x + \\dot{R} \\dot{\\theta}\\hat{\\mathbf{a}}_y + R \\ddot{\\theta} \\hat{\\mathbf{a}}_y + R \\dot{\\theta} \\dot{\\theta} \\hat{\\mathbf{a}}_z \\times \\hat{\\mathbf{a}}_y $$\n",
    "    $${}^{N}\\mathbf{a}^{P} = \\ddot{R} \\hat{\\mathbf{a}}_x + \\dot{R}\\dot{\\theta} \\hat{\\mathbf{a}}_y + \\dot{R}\\dot{\\theta} \\hat{\\mathbf{a}}_y + R\\ddot{\\theta}\\hat{\\mathbf{a}}_y - R\\dot{\\theta}^{2}\\hat{\\mathbf{a}}_x $$\n",
    "    $${}^{N}\\mathbf{a}^{P} = \\ddot{R} \\hat{\\mathbf{a}}_x - R\\dot{\\theta}^{2}\\hat{\\mathbf{a}}_x + R\\ddot{\\theta}\\hat{\\mathbf{a}}_y + 2\\dot{R}\\dot{\\theta} \\hat{\\mathbf{a}}_y $$\n",
    "    Onde $\\ddot{R}$ é a aceleração radial em relação ao referencial móvel, $R\\dot{\\theta}^{2}$ é a aceleração centrípeta, $ R\\ddot{\\theta}$ é a aceleração tangencial e $2\\dot{R}\\dot{\\theta}$ é a aceleração de Coriolis. "
   ]
  },
  {
   "cell_type": "code",
   "execution_count": 67,
   "metadata": {
    "slideshow": {
     "slide_type": "subslide"
    }
   },
   "outputs": [],
   "source": [
    "R,theta = me.dynamicsymbols('R theta')"
   ]
  },
  {
   "cell_type": "markdown",
   "metadata": {
    "slideshow": {
     "slide_type": "subslide"
    }
   },
   "source": [
    "- Criar um sistema de referência inercial e sistemas móveis que facilitem a análise."
   ]
  },
  {
   "cell_type": "code",
   "execution_count": 68,
   "metadata": {
    "slideshow": {
     "slide_type": "fragment"
    }
   },
   "outputs": [],
   "source": [
    "N = me.ReferenceFrame('N')\n",
    "A = me.ReferenceFrame('A')"
   ]
  },
  {
   "cell_type": "markdown",
   "metadata": {
    "slideshow": {
     "slide_type": "subslide"
    }
   },
   "source": [
    "- Escrever as relações entre os sistemas."
   ]
  },
  {
   "cell_type": "code",
   "execution_count": 69,
   "metadata": {
    "slideshow": {
     "slide_type": "fragment"
    }
   },
   "outputs": [],
   "source": [
    "A.orient(N,'Axis',[theta,N.z])"
   ]
  },
  {
   "cell_type": "markdown",
   "metadata": {
    "slideshow": {
     "slide_type": "subslide"
    }
   },
   "source": [
    "- Obter o vetor velocidade angular e o vetor aceleração angular. "
   ]
  },
  {
   "cell_type": "code",
   "execution_count": 70,
   "metadata": {
    "slideshow": {
     "slide_type": "fragment"
    }
   },
   "outputs": [
    {
     "data": {
      "text/latex": [
       "$\\displaystyle \\dot{\\theta}\\mathbf{\\hat{n}_z}$"
      ],
      "text/plain": [
       "theta'*N.z"
      ]
     },
     "execution_count": 70,
     "metadata": {},
     "output_type": "execute_result"
    }
   ],
   "source": [
    "A.ang_vel_in(N)"
   ]
  },
  {
   "cell_type": "code",
   "execution_count": 71,
   "metadata": {
    "slideshow": {
     "slide_type": "fragment"
    }
   },
   "outputs": [
    {
     "data": {
      "text/latex": [
       "$\\displaystyle \\ddot{\\theta}\\mathbf{\\hat{n}_z}$"
      ],
      "text/plain": [
       "theta''*N.z"
      ]
     },
     "execution_count": 71,
     "metadata": {},
     "output_type": "execute_result"
    }
   ],
   "source": [
    "A.ang_acc_in(N)"
   ]
  },
  {
   "cell_type": "markdown",
   "metadata": {
    "slideshow": {
     "slide_type": "subslide"
    }
   },
   "source": [
    "- Escolher um ponto com velocidade absoluta igual a zero para ser a origem do sistema referencial inercial."
   ]
  },
  {
   "cell_type": "code",
   "execution_count": 72,
   "metadata": {
    "slideshow": {
     "slide_type": "fragment"
    }
   },
   "outputs": [],
   "source": [
    "O = me.Point('O')\n",
    "O.set_vel(N,0)"
   ]
  },
  {
   "cell_type": "markdown",
   "metadata": {
    "slideshow": {
     "slide_type": "subslide"
    }
   },
   "source": [
    "- Escrever o vetor posição do ponto que se quer analisar."
   ]
  },
  {
   "cell_type": "code",
   "execution_count": 73,
   "metadata": {
    "slideshow": {
     "slide_type": "fragment"
    }
   },
   "outputs": [
    {
     "data": {
      "text/latex": [
       "$\\displaystyle R\\mathbf{\\hat{a}_x}$"
      ],
      "text/plain": [
       "R*A.x"
      ]
     },
     "execution_count": 73,
     "metadata": {},
     "output_type": "execute_result"
    }
   ],
   "source": [
    "P = me.Point('P')\n",
    "rPO = R*A.x\n",
    "P.set_pos(O,rPO)\n",
    "P.pos_from(O)"
   ]
  },
  {
   "cell_type": "markdown",
   "metadata": {
    "slideshow": {
     "slide_type": "subslide"
    }
   },
   "source": [
    "- Obter a velocidade desse ponto."
   ]
  },
  {
   "cell_type": "code",
   "execution_count": 74,
   "metadata": {
    "slideshow": {
     "slide_type": "fragment"
    }
   },
   "outputs": [
    {
     "data": {
      "text/latex": [
       "$\\displaystyle \\dot{R}\\mathbf{\\hat{a}_x} + R \\dot{\\theta}\\mathbf{\\hat{a}_y}$"
      ],
      "text/plain": [
       "R'*A.x + R*theta'*A.y"
      ]
     },
     "execution_count": 74,
     "metadata": {},
     "output_type": "execute_result"
    }
   ],
   "source": [
    "P.set_vel(N,rPO.dt(N))\n",
    "P.vel(N)"
   ]
  },
  {
   "cell_type": "markdown",
   "metadata": {
    "slideshow": {
     "slide_type": "subslide"
    }
   },
   "source": [
    "- Obter a aceleração. "
   ]
  },
  {
   "cell_type": "code",
   "execution_count": 75,
   "metadata": {
    "slideshow": {
     "slide_type": "fragment"
    }
   },
   "outputs": [
    {
     "data": {
      "text/latex": [
       "$\\displaystyle (- R \\dot{\\theta}^{2} + \\ddot{R})\\mathbf{\\hat{a}_x} + (R \\ddot{\\theta} + 2 \\dot{R} \\dot{\\theta})\\mathbf{\\hat{a}_y}$"
      ],
      "text/plain": [
       "(-R*theta'**2 + R'')*A.x + (R*theta'' + 2*R'*theta')*A.y"
      ]
     },
     "execution_count": 75,
     "metadata": {},
     "output_type": "execute_result"
    }
   ],
   "source": [
    "P.acc(N)"
   ]
  }
 ],
 "metadata": {
  "kernelspec": {
   "display_name": "Python 3",
   "language": "python",
   "name": "python3"
  },
  "language_info": {
   "codemirror_mode": {
    "name": "ipython",
    "version": 3
   },
   "file_extension": ".py",
   "mimetype": "text/x-python",
   "name": "python",
   "nbconvert_exporter": "python",
   "pygments_lexer": "ipython3",
   "version": "3.8.5"
  }
 },
 "nbformat": 4,
 "nbformat_minor": 4
}
