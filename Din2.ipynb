{
 "cells": [
  {
   "cell_type": "markdown",
   "metadata": {
    "slideshow": {
     "slide_type": "slide"
    }
   },
   "source": [
    "# 2. Cinemática da Partícula\n",
    "Professor Paulo Victor <br>\n",
    "E-mail: paulo.gomes@cefet-rj.br <br>\n",
    "CEFET-RJ Campus Angra dos Reis Sala 6E "
   ]
  },
  {
   "cell_type": "markdown",
   "metadata": {
    "slideshow": {
     "slide_type": "subslide"
    }
   },
   "source": [
    "A cinemática desempenha um papel fundamental no estudo da dinâmica e no projeto de dispositivos mecânicos. Esta ciência descreve o movimento dos sistemas mecânicos. \n",
    "\n",
    "Para se obterem as equações de movimento de um sistema qualquer será sempre necessário expressar, antes, velocidades e acelerações de seus elementos como funções das coordenadas que descrevem a configuração do sistema\n",
    "\n",
    "\n",
    "Entendemos por partícula, ou ponto material, um corpo cuja forma e dimensões não são relevantes para a caracterização de seu movimento."
   ]
  },
  {
   "cell_type": "markdown",
   "metadata": {
    "slideshow": {
     "slide_type": "slide"
    }
   },
   "source": [
    "## 2.1 Movimento Retilíneo da Partícula\n",
    "\n",
    "Trata-se de um **movimento unidimensional**. \n",
    "\n",
    "![Movimento Retilíneo](1d.svg)\n",
    "\n",
    "O vetor posição da partícula $P$ em relação ao ponto $O$ escrito na base $\\hat{\\textbf{n}}$ é: \n",
    "\n",
    "$$\\vec{r}^{P/O} = x(t)\\hat{\\textbf{n}}_x $$"
   ]
  },
  {
   "cell_type": "markdown",
   "metadata": {
    "slideshow": {
     "slide_type": "subslide"
    }
   },
   "source": [
    "Por se tratar de um movimento unidimensional, não é necessário descrevermos a posição da partícula como uma função vetorial, a descrição do movimento por meio de uma função escalar é suficiente. \n",
    "\n",
    "* Em um dado **intervalo de tempo** $\\Delta t$, a partícula se desloca $\\Delta x$. \n",
    "* Em dado **instante de tempo** $dt$, a partícula se desloca $dx$."
   ]
  },
  {
   "cell_type": "markdown",
   "metadata": {
    "slideshow": {
     "slide_type": "subslide"
    }
   },
   "source": [
    "Podemos obter a velocidade média da partícula neste intervalo de tempo $\\Delta t$ por: \n",
    "$$ v^{P}_{med} = \\dfrac{\\Delta x}{\\Delta t} $$\n",
    "\n",
    "Podemos obter a velocidade instantânea da partícula neste intervalo de tempo $dt$ por:\n",
    "$$ v^{P} = \\dfrac{dx}{dt} $$\n",
    "\n",
    "De forma similar, a aceleração média é obtida por:\n",
    "$$ a^{P}_{med} = \\dfrac{\\Delta v}{\\Delta t} $$\n",
    "\n",
    "E a aceleração instantânea por: \n",
    "$$ a^{P} = \\dfrac{dv}{dt} $$\n",
    "\n",
    "Lembrando que $v = \\dfrac{dx}{dt} $, podemor escrever a expressão da aceleração como:\n",
    "$$ a^{P} = \\dfrac{d^{2}x}{dt^{2}} $$\n"
   ]
  },
  {
   "cell_type": "markdown",
   "metadata": {
    "slideshow": {
     "slide_type": "subslide"
    }
   },
   "source": [
    "### Exemplo 1:\n",
    "\n",
    "Um carro foguete se move ao longo de uma pista reta de acordo com a equação $x = 3t^3 + t + 2$, onde $x$ está em metros e $t$ em segundos. Determine o deslocamento, a velocidade e a aceleração quando $t=4s$."
   ]
  },
  {
   "cell_type": "code",
   "execution_count": 1,
   "metadata": {
    "slideshow": {
     "slide_type": "subslide"
    }
   },
   "outputs": [],
   "source": [
    "from sympy import *\n",
    "t = symbols('t')"
   ]
  },
  {
   "cell_type": "code",
   "execution_count": 2,
   "metadata": {
    "slideshow": {
     "slide_type": "fragment"
    }
   },
   "outputs": [
    {
     "data": {
      "text/latex": [
       "$\\displaystyle 3 t^{3} + t + 2$"
      ],
      "text/plain": [
       "3*t**3 + t + 2"
      ]
     },
     "execution_count": 2,
     "metadata": {},
     "output_type": "execute_result"
    }
   ],
   "source": [
    "x = 3*t**3+t+2\n",
    "x"
   ]
  },
  {
   "cell_type": "code",
   "execution_count": 3,
   "metadata": {
    "slideshow": {
     "slide_type": "fragment"
    }
   },
   "outputs": [
    {
     "data": {
      "text/latex": [
       "$\\displaystyle 9 t^{2} + 1$"
      ],
      "text/plain": [
       "9*t**2 + 1"
      ]
     },
     "execution_count": 3,
     "metadata": {},
     "output_type": "execute_result"
    }
   ],
   "source": [
    "v = x.diff(t)\n",
    "v"
   ]
  },
  {
   "cell_type": "code",
   "execution_count": 4,
   "metadata": {
    "scrolled": true,
    "slideshow": {
     "slide_type": "fragment"
    }
   },
   "outputs": [
    {
     "data": {
      "text/latex": [
       "$\\displaystyle 18 t$"
      ],
      "text/plain": [
       "18*t"
      ]
     },
     "execution_count": 4,
     "metadata": {},
     "output_type": "execute_result"
    }
   ],
   "source": [
    "a = v.diff(t)\n",
    "a"
   ]
  },
  {
   "cell_type": "code",
   "execution_count": 5,
   "metadata": {
    "slideshow": {
     "slide_type": "subslide"
    }
   },
   "outputs": [],
   "source": [
    "dic = {t:4}"
   ]
  },
  {
   "cell_type": "code",
   "execution_count": 6,
   "metadata": {
    "scrolled": false,
    "slideshow": {
     "slide_type": "fragment"
    }
   },
   "outputs": [
    {
     "data": {
      "text/latex": [
       "$\\displaystyle 198$"
      ],
      "text/plain": [
       "198"
      ]
     },
     "execution_count": 6,
     "metadata": {},
     "output_type": "execute_result"
    }
   ],
   "source": [
    "x.subs(dic)"
   ]
  },
  {
   "cell_type": "code",
   "execution_count": 7,
   "metadata": {
    "slideshow": {
     "slide_type": "fragment"
    }
   },
   "outputs": [
    {
     "name": "stdout",
     "output_type": "stream",
     "text": [
      "A resposta é: 198 metros\n"
     ]
    }
   ],
   "source": [
    "print('A resposta é: ' + str(x.subs(dic))+' metros')"
   ]
  },
  {
   "cell_type": "code",
   "execution_count": 8,
   "metadata": {
    "slideshow": {
     "slide_type": "fragment"
    }
   },
   "outputs": [
    {
     "data": {
      "text/latex": [
       "$\\displaystyle 145$"
      ],
      "text/plain": [
       "145"
      ]
     },
     "execution_count": 8,
     "metadata": {},
     "output_type": "execute_result"
    }
   ],
   "source": [
    "v.subs(dic)"
   ]
  },
  {
   "cell_type": "code",
   "execution_count": 9,
   "metadata": {
    "slideshow": {
     "slide_type": "fragment"
    }
   },
   "outputs": [
    {
     "data": {
      "text/latex": [
       "$\\displaystyle 72$"
      ],
      "text/plain": [
       "72"
      ]
     },
     "execution_count": 9,
     "metadata": {},
     "output_type": "execute_result"
    }
   ],
   "source": [
    "a.subs(dic)"
   ]
  },
  {
   "cell_type": "markdown",
   "metadata": {
    "slideshow": {
     "slide_type": "subslide"
    }
   },
   "source": [
    "### Exemplo 2:\n",
    "Um ponto se move ao longo de uma linha reta tal que o seu deslocamento é $s=8t^2 + 2t$, onde $s$ está em metros e $t$ em segundos. Faça o gráfico do deslocamento, da velocidade e da aceleração em função do tempo."
   ]
  },
  {
   "cell_type": "code",
   "execution_count": 10,
   "metadata": {
    "slideshow": {
     "slide_type": "subslide"
    }
   },
   "outputs": [
    {
     "data": {
      "text/latex": [
       "$\\displaystyle 8 t^{2} + 2 t$"
      ],
      "text/plain": [
       "8*t**2 + 2*t"
      ]
     },
     "execution_count": 10,
     "metadata": {},
     "output_type": "execute_result"
    }
   ],
   "source": [
    "s = 8*t**2 + 2*t\n",
    "s"
   ]
  },
  {
   "cell_type": "code",
   "execution_count": 11,
   "metadata": {
    "slideshow": {
     "slide_type": "fragment"
    }
   },
   "outputs": [
    {
     "data": {
      "text/latex": [
       "$\\displaystyle 16 t + 2$"
      ],
      "text/plain": [
       "16*t + 2"
      ]
     },
     "execution_count": 11,
     "metadata": {},
     "output_type": "execute_result"
    }
   ],
   "source": [
    "v = s.diff(t)\n",
    "v"
   ]
  },
  {
   "cell_type": "code",
   "execution_count": 12,
   "metadata": {
    "slideshow": {
     "slide_type": "fragment"
    }
   },
   "outputs": [
    {
     "data": {
      "text/latex": [
       "$\\displaystyle 16$"
      ],
      "text/plain": [
       "16"
      ]
     },
     "execution_count": 12,
     "metadata": {},
     "output_type": "execute_result"
    }
   ],
   "source": [
    "a = v.diff(t)\n",
    "a"
   ]
  },
  {
   "cell_type": "code",
   "execution_count": 13,
   "metadata": {
    "slideshow": {
     "slide_type": "subslide"
    }
   },
   "outputs": [],
   "source": [
    "from sympy.plotting import plot"
   ]
  },
  {
   "cell_type": "code",
   "execution_count": 14,
   "metadata": {
    "slideshow": {
     "slide_type": "fragment"
    }
   },
   "outputs": [
    {
     "data": {
      "image/png": "[encoded data removed]",
      "text/plain": [
       "<Figure size 432x288 with 1 Axes>"
      ]
     },
     "metadata": {
      "needs_background": "light"
     },
     "output_type": "display_data"
    }
   ],
   "source": [
    "plot1 = plot(s,(t,0,25),title='Deslocamento [m] pelo Tempo [s]',ylabel='s(t)',show=False)\n",
    "plot1.show()"
   ]
  },
  {
   "cell_type": "code",
   "execution_count": 15,
   "metadata": {
    "slideshow": {
     "slide_type": "subslide"
    }
   },
   "outputs": [
    {
     "data": {
      "image/png": "[encoded data removed]",
      "text/plain": [
       "<Figure size 432x288 with 1 Axes>"
      ]
     },
     "metadata": {
      "needs_background": "light"
     },
     "output_type": "display_data"
    }
   ],
   "source": [
    "plot2 = plot(v,(t,0,25),ylabel='v(t)')"
   ]
  },
  {
   "cell_type": "code",
   "execution_count": 16,
   "metadata": {
    "slideshow": {
     "slide_type": "fragment"
    }
   },
   "outputs": [
    {
     "data": {
      "image/png": "[encoded data removed]",
      "text/plain": [
       "<Figure size 432x288 with 1 Axes>"
      ]
     },
     "metadata": {
      "needs_background": "light"
     },
     "output_type": "display_data"
    }
   ],
   "source": [
    "plot3 = plot(a,(t,0,25),ylabel='a(t)')"
   ]
  },
  {
   "cell_type": "code",
   "execution_count": 17,
   "metadata": {
    "slideshow": {
     "slide_type": "subslide"
    }
   },
   "outputs": [],
   "source": [
    "import numpy as np"
   ]
  },
  {
   "cell_type": "code",
   "execution_count": 18,
   "metadata": {
    "slideshow": {
     "slide_type": "fragment"
    }
   },
   "outputs": [],
   "source": [
    "tn = np.linspace(0,25,100)"
   ]
  },
  {
   "cell_type": "code",
   "execution_count": 19,
   "metadata": {
    "slideshow": {
     "slide_type": "fragment"
    }
   },
   "outputs": [],
   "source": [
    "sn = np.zeros(len(tn))\n",
    "vn = np.zeros(len(tn))\n",
    "an = np.zeros(len(tn))"
   ]
  },
  {
   "cell_type": "code",
   "execution_count": 20,
   "metadata": {
    "slideshow": {
     "slide_type": "fragment"
    }
   },
   "outputs": [],
   "source": [
    "for i in range(0,len(tn)):\n",
    "    sn[i] = s.subs(t,tn[i])\n",
    "    vn[i] = v.subs(t,tn[i])\n",
    "    an[i] = a.subs(t,tn[i])"
   ]
  },
  {
   "cell_type": "code",
   "execution_count": 21,
   "metadata": {
    "scrolled": false,
    "slideshow": {
     "slide_type": "subslide"
    }
   },
   "outputs": [],
   "source": [
    "import matplotlib.pyplot as plt"
   ]
  },
  {
   "cell_type": "code",
   "execution_count": 22,
   "metadata": {
    "scrolled": false,
    "slideshow": {
     "slide_type": "subslide"
    }
   },
   "outputs": [
    {
     "data": {
      "image/png": "[encoded data removed]",
      "text/plain": [
       "<Figure size 1800x1200 with 1 Axes>"
      ]
     },
     "metadata": {
      "needs_background": "light"
     },
     "output_type": "display_data"
    }
   ],
   "source": [
    "plt.figure(dpi=300)\n",
    "plt.plot(tn,sn)\n",
    "plt.title('Deslocamento pelo tempo')\n",
    "plt.ylabel('Deslocamento [m]')\n",
    "plt.xlabel('Tempo [s]')\n",
    "plt.grid(True)"
   ]
  },
  {
   "cell_type": "code",
   "execution_count": 23,
   "metadata": {
    "slideshow": {
     "slide_type": "subslide"
    }
   },
   "outputs": [
    {
     "data": {
      "image/png": "[encoded data removed]",
      "text/plain": [
       "<Figure size 1800x1200 with 1 Axes>"
      ]
     },
     "metadata": {
      "needs_background": "light"
     },
     "output_type": "display_data"
    }
   ],
   "source": [
    "plt.figure(dpi=300)\n",
    "plt.plot(tn,vn)\n",
    "plt.title('Velocidade pelo tempo')\n",
    "plt.ylabel('Velocidade [m/s]')\n",
    "plt.xlabel('Tempo [s]')\n",
    "plt.grid(True)"
   ]
  },
  {
   "cell_type": "code",
   "execution_count": 24,
   "metadata": {
    "slideshow": {
     "slide_type": "subslide"
    }
   },
   "outputs": [
    {
     "data": {
      "image/png": "[encoded data removed]",
      "text/plain": [
       "<Figure size 1800x1200 with 1 Axes>"
      ]
     },
     "metadata": {
      "needs_background": "light"
     },
     "output_type": "display_data"
    }
   ],
   "source": [
    "plt.figure(dpi=300)\n",
    "plt.plot(tn,an)\n",
    "plt.title('Aceleração pelo tempo')\n",
    "plt.ylabel('Aceleração [m²/s]')\n",
    "plt.xlabel('Tempo [s]')\n",
    "plt.grid(True)"
   ]
  },
  {
   "cell_type": "markdown",
   "metadata": {
    "slideshow": {
     "slide_type": "subslide"
    }
   },
   "source": [
    "### Exemplo 3\n",
    "\n",
    "Uma partícula se move de modo retilíneo com uma acelereção de $a = 5t^3 - 25t$, onde $t$ está em segundos e $a$ em $m/s^{2}$. Obtenha as expressões para a velocidade e para o deslocamento. Considere que a partícula parte do marco $0m$ com uma velocidade inicial de $5m/s$. "
   ]
  },
  {
   "cell_type": "code",
   "execution_count": 25,
   "metadata": {
    "slideshow": {
     "slide_type": "subslide"
    }
   },
   "outputs": [],
   "source": [
    "a = 5*t**3 - 25*t"
   ]
  },
  {
   "cell_type": "code",
   "execution_count": 26,
   "metadata": {
    "slideshow": {
     "slide_type": "fragment"
    }
   },
   "outputs": [
    {
     "data": {
      "text/latex": [
       "$\\displaystyle \\frac{5 t^{4}}{4} - \\frac{25 t^{2}}{2}$"
      ],
      "text/plain": [
       "5*t**4/4 - 25*t**2/2"
      ]
     },
     "execution_count": 26,
     "metadata": {},
     "output_type": "execute_result"
    }
   ],
   "source": [
    "v = integrate(a,t)\n",
    "v"
   ]
  },
  {
   "cell_type": "code",
   "execution_count": 27,
   "metadata": {
    "slideshow": {
     "slide_type": "fragment"
    }
   },
   "outputs": [
    {
     "data": {
      "text/latex": [
       "$\\displaystyle 0$"
      ],
      "text/plain": [
       "0"
      ]
     },
     "execution_count": 27,
     "metadata": {},
     "output_type": "execute_result"
    }
   ],
   "source": [
    "v.subs(t,0)"
   ]
  },
  {
   "cell_type": "code",
   "execution_count": 28,
   "metadata": {
    "slideshow": {
     "slide_type": "subslide"
    }
   },
   "outputs": [
    {
     "data": {
      "text/latex": [
       "$\\displaystyle \\frac{5 t^{4}}{4} - \\frac{25 t^{2}}{2} + 5$"
      ],
      "text/plain": [
       "5*t**4/4 - 25*t**2/2 + 5"
      ]
     },
     "execution_count": 28,
     "metadata": {},
     "output_type": "execute_result"
    }
   ],
   "source": [
    "v = v + 5\n",
    "v"
   ]
  },
  {
   "cell_type": "code",
   "execution_count": 29,
   "metadata": {
    "slideshow": {
     "slide_type": "fragment"
    }
   },
   "outputs": [
    {
     "data": {
      "text/latex": [
       "$\\displaystyle 5$"
      ],
      "text/plain": [
       "5"
      ]
     },
     "execution_count": 29,
     "metadata": {},
     "output_type": "execute_result"
    }
   ],
   "source": [
    "v.subs(t,0)"
   ]
  },
  {
   "cell_type": "code",
   "execution_count": 30,
   "metadata": {
    "slideshow": {
     "slide_type": "fragment"
    }
   },
   "outputs": [
    {
     "data": {
      "text/latex": [
       "$\\displaystyle \\frac{t^{5}}{4} - \\frac{25 t^{3}}{6} + 5 t$"
      ],
      "text/plain": [
       "t**5/4 - 25*t**3/6 + 5*t"
      ]
     },
     "execution_count": 30,
     "metadata": {},
     "output_type": "execute_result"
    }
   ],
   "source": [
    "x = v.integrate(t)\n",
    "x"
   ]
  },
  {
   "cell_type": "code",
   "execution_count": 31,
   "metadata": {
    "slideshow": {
     "slide_type": "fragment"
    }
   },
   "outputs": [
    {
     "data": {
      "text/latex": [
       "$\\displaystyle 0$"
      ],
      "text/plain": [
       "0"
      ]
     },
     "execution_count": 31,
     "metadata": {},
     "output_type": "execute_result"
    }
   ],
   "source": [
    "x.subs(t,0)"
   ]
  },
  {
   "cell_type": "markdown",
   "metadata": {
    "slideshow": {
     "slide_type": "subslide"
    }
   },
   "source": [
    "### Exemplo 4:\n",
    "\n",
    "Uma partícula se move de modo retilíneo com uma aceleração de $a = 30t^2 - 20$, com $t$ em segundos e $a$ em $m/s^2$. Considerando que a partícula parte do repouso, obtenha a velocidade no instante de tempo $t=5s$. "
   ]
  },
  {
   "cell_type": "code",
   "execution_count": 32,
   "metadata": {
    "slideshow": {
     "slide_type": "subslide"
    }
   },
   "outputs": [
    {
     "data": {
      "text/latex": [
       "$\\displaystyle 30 t^{2} - 20$"
      ],
      "text/plain": [
       "30*t**2 - 20"
      ]
     },
     "execution_count": 32,
     "metadata": {},
     "output_type": "execute_result"
    }
   ],
   "source": [
    "a = 30*t**2 - 20\n",
    "a"
   ]
  },
  {
   "cell_type": "code",
   "execution_count": 33,
   "metadata": {
    "slideshow": {
     "slide_type": "fragment"
    }
   },
   "outputs": [
    {
     "data": {
      "text/latex": [
       "$\\displaystyle 1150$"
      ],
      "text/plain": [
       "1150"
      ]
     },
     "execution_count": 33,
     "metadata": {},
     "output_type": "execute_result"
    }
   ],
   "source": [
    "integrate(a,(t,0,5))"
   ]
  },
  {
   "cell_type": "markdown",
   "metadata": {
    "slideshow": {
     "slide_type": "subslide"
    }
   },
   "source": [
    "### 2.1.1 Aceleração constante:"
   ]
  },
  {
   "cell_type": "code",
   "execution_count": 34,
   "metadata": {
    "slideshow": {
     "slide_type": "subslide"
    }
   },
   "outputs": [],
   "source": [
    "a = symbols('a')"
   ]
  },
  {
   "cell_type": "code",
   "execution_count": 35,
   "metadata": {
    "slideshow": {
     "slide_type": "fragment"
    }
   },
   "outputs": [
    {
     "data": {
      "text/latex": [
       "$\\displaystyle a t$"
      ],
      "text/plain": [
       "a*t"
      ]
     },
     "execution_count": 35,
     "metadata": {},
     "output_type": "execute_result"
    }
   ],
   "source": [
    "v = a.integrate(t)\n",
    "v"
   ]
  },
  {
   "cell_type": "code",
   "execution_count": 36,
   "metadata": {
    "slideshow": {
     "slide_type": "fragment"
    }
   },
   "outputs": [],
   "source": [
    "v0 = symbols('v0')"
   ]
  },
  {
   "cell_type": "code",
   "execution_count": 37,
   "metadata": {
    "slideshow": {
     "slide_type": "fragment"
    }
   },
   "outputs": [
    {
     "data": {
      "text/latex": [
       "$\\displaystyle a t + v_{0}$"
      ],
      "text/plain": [
       "a*t + v0"
      ]
     },
     "execution_count": 37,
     "metadata": {},
     "output_type": "execute_result"
    }
   ],
   "source": [
    "v = a.integrate(t) + v0\n",
    "v"
   ]
  },
  {
   "cell_type": "code",
   "execution_count": 38,
   "metadata": {
    "slideshow": {
     "slide_type": "fragment"
    }
   },
   "outputs": [],
   "source": [
    "x0 = symbols('x0')"
   ]
  },
  {
   "cell_type": "code",
   "execution_count": 39,
   "metadata": {
    "slideshow": {
     "slide_type": "fragment"
    }
   },
   "outputs": [
    {
     "data": {
      "text/latex": [
       "$\\displaystyle \\frac{a t^{2}}{2} + t v_{0} + x_{0}$"
      ],
      "text/plain": [
       "a*t**2/2 + t*v0 + x0"
      ]
     },
     "execution_count": 39,
     "metadata": {},
     "output_type": "execute_result"
    }
   ],
   "source": [
    "x = v.integrate(t) + x0\n",
    "x"
   ]
  },
  {
   "cell_type": "markdown",
   "metadata": {
    "slideshow": {
     "slide_type": "subslide"
    }
   },
   "source": [
    " Observação: \n",
    " \n",
    " Vimos que: \n",
    " \n",
    " $$ v = \\dfrac{dx}{dt} $$\n",
    " $$ a = \\dfrac{dv}{dt} $$\n",
    " \n",
    " Manipulando algebricamente estas duas equações: \n",
    "\n",
    "$$vdv = adx$$ \n",
    "\n",
    "Ou: \n",
    "$$ vdv - adx = 0$$"
   ]
  },
  {
   "cell_type": "code",
   "execution_count": 40,
   "metadata": {
    "slideshow": {
     "slide_type": "subslide"
    }
   },
   "outputs": [],
   "source": [
    "a,v,x = symbols('a v x')"
   ]
  },
  {
   "cell_type": "markdown",
   "metadata": {
    "slideshow": {
     "slide_type": "subslide"
    }
   },
   "source": [
    "$$ \\int_{v0}^{vf} vdv - \\int_{x0}^{xf} adx = 0$$"
   ]
  },
  {
   "cell_type": "code",
   "execution_count": 41,
   "metadata": {
    "slideshow": {
     "slide_type": "fragment"
    }
   },
   "outputs": [],
   "source": [
    "v0,x0,vf,xf = symbols('v0 x0 v_f x_f')"
   ]
  },
  {
   "cell_type": "code",
   "execution_count": 42,
   "metadata": {
    "scrolled": true,
    "slideshow": {
     "slide_type": "fragment"
    }
   },
   "outputs": [
    {
     "data": {
      "text/latex": [
       "$\\displaystyle a x_{0} - a x_{f} - \\frac{v_{0}^{2}}{2} + \\frac{v_{f}^{2}}{2}$"
      ],
      "text/plain": [
       "a*x0 - a*x_f - v0**2/2 + v_f**2/2"
      ]
     },
     "execution_count": 42,
     "metadata": {},
     "output_type": "execute_result"
    }
   ],
   "source": [
    "integrate(v,(v,v0,vf)) - integrate(a,(x,x0,xf))"
   ]
  },
  {
   "cell_type": "code",
   "execution_count": 43,
   "metadata": {
    "scrolled": true,
    "slideshow": {
     "slide_type": "fragment"
    }
   },
   "outputs": [
    {
     "data": {
      "text/latex": [
       "$\\displaystyle - \\frac{v_{0}^{2}}{2} + \\frac{v_{f}^{2}}{2} = - a x_{0} + a x_{f}$"
      ],
      "text/plain": [
       "Eq(-v0**2/2 + v_f**2/2, -a*x0 + a*x_f)"
      ]
     },
     "execution_count": 43,
     "metadata": {},
     "output_type": "execute_result"
    }
   ],
   "source": [
    "Eq(integrate(v,(v,v0,vf)),integrate(a,(x,x0,xf)))"
   ]
  },
  {
   "cell_type": "code",
   "execution_count": 44,
   "metadata": {
    "slideshow": {
     "slide_type": "fragment"
    }
   },
   "outputs": [
    {
     "data": {
      "text/latex": [
       "$\\displaystyle - v_{0}^{2} + v_{f}^{2} = - 2 a x_{0} + 2 a x_{f}$"
      ],
      "text/plain": [
       "Eq(-v0**2 + v_f**2, -2*a*x0 + 2*a*x_f)"
      ]
     },
     "execution_count": 44,
     "metadata": {},
     "output_type": "execute_result"
    }
   ],
   "source": [
    "Eq(integrate(2*v,(v,v0,vf)),integrate(2*a,(x,x0,xf)))"
   ]
  },
  {
   "cell_type": "markdown",
   "metadata": {
    "slideshow": {
     "slide_type": "fragment"
    }
   },
   "source": [
    "$$ v_{f}^{2} - v_{0}^{2} = 2a \\Delta x $$"
   ]
  },
  {
   "cell_type": "markdown",
   "metadata": {
    "slideshow": {
     "slide_type": "subslide"
    }
   },
   "source": [
    "Observação:\n",
    "Podemos criar uma função temporal da seguinte maneira:"
   ]
  },
  {
   "cell_type": "code",
   "execution_count": 45,
   "metadata": {
    "slideshow": {
     "slide_type": "fragment"
    }
   },
   "outputs": [],
   "source": [
    "import sympy.physics.mechanics as me"
   ]
  },
  {
   "cell_type": "code",
   "execution_count": 46,
   "metadata": {
    "slideshow": {
     "slide_type": "fragment"
    }
   },
   "outputs": [],
   "source": [
    "x = me.dynamicsymbols('x')\n",
    "t = me.dynamicsymbols._t"
   ]
  },
  {
   "cell_type": "code",
   "execution_count": 47,
   "metadata": {
    "slideshow": {
     "slide_type": "fragment"
    }
   },
   "outputs": [
    {
     "data": {
      "text/latex": [
       "$\\displaystyle \\frac{d}{d t} x{\\left(t \\right)}$"
      ],
      "text/plain": [
       "Derivative(x(t), t)"
      ]
     },
     "execution_count": 47,
     "metadata": {},
     "output_type": "execute_result"
    }
   ],
   "source": [
    "x.diff()"
   ]
  },
  {
   "cell_type": "code",
   "execution_count": 48,
   "metadata": {
    "slideshow": {
     "slide_type": "subslide"
    }
   },
   "outputs": [
    {
     "data": {
      "text/latex": [
       "$\\displaystyle \\frac{d^{2}}{d t^{2}} x{\\left(t \\right)}$"
      ],
      "text/plain": [
       "Derivative(x(t), (t, 2))"
      ]
     },
     "execution_count": 48,
     "metadata": {},
     "output_type": "execute_result"
    }
   ],
   "source": [
    "x.diff(t,2)"
   ]
  },
  {
   "cell_type": "code",
   "execution_count": 49,
   "metadata": {
    "slideshow": {
     "slide_type": "fragment"
    }
   },
   "outputs": [
    {
     "data": {
      "text/latex": [
       "$\\displaystyle \\frac{d}{d t} x{\\left(t \\right)}$"
      ],
      "text/plain": [
       "Derivative(x(t), t)"
      ]
     },
     "execution_count": 49,
     "metadata": {},
     "output_type": "execute_result"
    }
   ],
   "source": [
    "diff(x,t)"
   ]
  },
  {
   "cell_type": "markdown",
   "metadata": {
    "slideshow": {
     "slide_type": "slide"
    }
   },
   "source": [
    "## 2.2 Movimento Retilíneo Vinculado de Várias Partículas\n",
    "\n",
    "Na Engenharia Mecânica, principalmente no projeto de máquinas de elevação e transporte, são muito comuns as situações envolvendo movimentos retilíneos simultâneos de várias partículas, havendo uma dependência entre estes movimentos em virtude da existência de ligações mecânicas entre as partículas"
   ]
  },
  {
   "cell_type": "markdown",
   "metadata": {
    "slideshow": {
     "slide_type": "subslide"
    }
   },
   "source": [
    "### Exemplo 5:\n",
    "\n",
    "A figura a seguir ilustra uma carga $P$ que é içada com um cabo conectado a um tambor de raio $R$, acionado por um motor elétrico que gira com velocidade angular constante $\\omega$. Pede-se:\n",
    "1. desenvolver as expressões para a velocidade e a aceleração de $P$ em função de $y$;\n",
    "2. traçar as curvas mostrando as variações da velocidade e da aceleração de $P$ em função de y, admitindo $b=1m$, $\\omega = 2 \\pi rad/s$, $R=0,5m$ e que a carga parta de uma posição inicial $y_0=8m$. \n"
   ]
  },
  {
   "cell_type": "markdown",
   "metadata": {
    "slideshow": {
     "slide_type": "subslide"
    }
   },
   "source": [
    "![Exemplo 05](exemplo2-5.svg)"
   ]
  },
  {
   "cell_type": "code",
   "execution_count": 50,
   "metadata": {
    "slideshow": {
     "slide_type": "subslide"
    }
   },
   "outputs": [],
   "source": [
    "y = me.dynamicsymbols('y')\n",
    "b,R,omega = symbols('b R omega')\n",
    "t = me.dynamicsymbols._t"
   ]
  },
  {
   "cell_type": "markdown",
   "metadata": {
    "slideshow": {
     "slide_type": "fragment"
    }
   },
   "source": [
    "A velocidade do cabo é dada por $v_c = \\omega R$"
   ]
  },
  {
   "cell_type": "code",
   "execution_count": 51,
   "metadata": {
    "slideshow": {
     "slide_type": "fragment"
    }
   },
   "outputs": [
    {
     "data": {
      "text/latex": [
       "$\\displaystyle 2 \\sqrt{b^{2} + y^{2}{\\left(t \\right)}}$"
      ],
      "text/plain": [
       "2*sqrt(b**2 + y(t)**2)"
      ]
     },
     "execution_count": 51,
     "metadata": {},
     "output_type": "execute_result"
    }
   ],
   "source": [
    "l = 2*sqrt(b**2 + y**2)\n",
    "l"
   ]
  },
  {
   "cell_type": "markdown",
   "metadata": {
    "slideshow": {
     "slide_type": "subslide"
    }
   },
   "source": [
    "Como o cabo é inextensível, ou seja, tem comprimento constante, a taxa de variação do comprimento do trecho $ABC$ deve ser igual à velocidade com que o cabo é enrolado no tambor. Além disso, a velocidade de subida da carga é $v_p = dy/dt$."
   ]
  },
  {
   "cell_type": "code",
   "execution_count": 52,
   "metadata": {
    "slideshow": {
     "slide_type": "fragment"
    }
   },
   "outputs": [
    {
     "data": {
      "text/latex": [
       "$\\displaystyle \\frac{2 y{\\left(t \\right)} \\frac{d}{d t} y{\\left(t \\right)}}{\\sqrt{b^{2} + y^{2}{\\left(t \\right)}}}$"
      ],
      "text/plain": [
       "2*y(t)*Derivative(y(t), t)/sqrt(b**2 + y(t)**2)"
      ]
     },
     "execution_count": 52,
     "metadata": {},
     "output_type": "execute_result"
    }
   ],
   "source": [
    "vc = l.diff(t)\n",
    "vc"
   ]
  },
  {
   "cell_type": "markdown",
   "metadata": {
    "slideshow": {
     "slide_type": "fragment"
    }
   },
   "source": [
    "$$v_p = \\dfrac{dy}{dt}$$"
   ]
  },
  {
   "cell_type": "code",
   "execution_count": 53,
   "metadata": {
    "slideshow": {
     "slide_type": "fragment"
    }
   },
   "outputs": [
    {
     "data": {
      "text/latex": [
       "$\\displaystyle \\frac{2 v_{p} y{\\left(t \\right)}}{\\sqrt{b^{2} + y^{2}{\\left(t \\right)}}}$"
      ],
      "text/plain": [
       "2*v_p*y(t)/sqrt(b**2 + y(t)**2)"
      ]
     },
     "execution_count": 53,
     "metadata": {},
     "output_type": "execute_result"
    }
   ],
   "source": [
    "vp = symbols('v_p')\n",
    "vc = vc.subs(y.diff(),vp)\n",
    "vc"
   ]
  },
  {
   "cell_type": "markdown",
   "metadata": {
    "slideshow": {
     "slide_type": "subslide"
    }
   },
   "source": [
    "$$v_c = -\\omega R$$"
   ]
  },
  {
   "cell_type": "code",
   "execution_count": 54,
   "metadata": {
    "slideshow": {
     "slide_type": "fragment"
    }
   },
   "outputs": [
    {
     "data": {
      "text/latex": [
       "$\\displaystyle \\frac{2 v_{p} y{\\left(t \\right)}}{\\sqrt{b^{2} + y^{2}{\\left(t \\right)}}} = - R \\omega$"
      ],
      "text/plain": [
       "Eq(2*v_p*y(t)/sqrt(b**2 + y(t)**2), -R*omega)"
      ]
     },
     "execution_count": 54,
     "metadata": {},
     "output_type": "execute_result"
    }
   ],
   "source": [
    "Eq1 = Eq(vc,-omega*R)\n",
    "Eq1"
   ]
  },
  {
   "cell_type": "code",
   "execution_count": 55,
   "metadata": {
    "slideshow": {
     "slide_type": "fragment"
    }
   },
   "outputs": [
    {
     "data": {
      "text/latex": [
       "$\\displaystyle - \\frac{R \\omega \\sqrt{b^{2} + y^{2}{\\left(t \\right)}}}{2 y{\\left(t \\right)}}$"
      ],
      "text/plain": [
       "-R*omega*sqrt(b**2 + y(t)**2)/(2*y(t))"
      ]
     },
     "execution_count": 55,
     "metadata": {},
     "output_type": "execute_result"
    }
   ],
   "source": [
    "vp_sol = solve(Eq1,vp)[0]\n",
    "vp_sol"
   ]
  },
  {
   "cell_type": "code",
   "execution_count": 56,
   "metadata": {
    "slideshow": {
     "slide_type": "fragment"
    }
   },
   "outputs": [
    {
     "data": {
      "text/latex": [
       "$\\displaystyle \\frac{R b^{2} \\omega \\frac{d}{d t} y{\\left(t \\right)}}{2 \\sqrt{b^{2} + y^{2}{\\left(t \\right)}} y^{2}{\\left(t \\right)}}$"
      ],
      "text/plain": [
       "R*b**2*omega*Derivative(y(t), t)/(2*sqrt(b**2 + y(t)**2)*y(t)**2)"
      ]
     },
     "execution_count": 56,
     "metadata": {},
     "output_type": "execute_result"
    }
   ],
   "source": [
    "Eq2 = vp_sol.diff(t).simplify()\n",
    "Eq2"
   ]
  },
  {
   "cell_type": "code",
   "execution_count": 57,
   "metadata": {
    "slideshow": {
     "slide_type": "fragment"
    }
   },
   "outputs": [
    {
     "data": {
      "text/latex": [
       "$\\displaystyle - \\frac{R^{2} b^{2} \\omega^{2}}{4 y^{3}{\\left(t \\right)}}$"
      ],
      "text/plain": [
       "-R**2*b**2*omega**2/(4*y(t)**3)"
      ]
     },
     "execution_count": 57,
     "metadata": {},
     "output_type": "execute_result"
    }
   ],
   "source": [
    "sol1 = Eq2.subs(y.diff(t),vp_sol)\n",
    "sol1"
   ]
  },
  {
   "cell_type": "code",
   "execution_count": 58,
   "metadata": {
    "slideshow": {
     "slide_type": "subslide"
    }
   },
   "outputs": [],
   "source": [
    "dic = {b:1,omega:2*np.pi,R:0.5}\n",
    "yn = np.linspace(0.5,8,100)\n",
    "vPn = np.zeros(100)\n",
    "aPn = np.zeros(100)\n",
    "vp_sol_num = vp_sol.subs(dic)\n",
    "ap_sol_num = sol1.subs(dic)"
   ]
  },
  {
   "cell_type": "code",
   "execution_count": 59,
   "metadata": {
    "scrolled": false,
    "slideshow": {
     "slide_type": "fragment"
    }
   },
   "outputs": [
    {
     "data": {
      "text/latex": [
       "$\\displaystyle - \\frac{1.5707963267949 \\sqrt{y^{2}{\\left(t \\right)} + 1}}{y{\\left(t \\right)}}$"
      ],
      "text/plain": [
       "-1.5707963267949*sqrt(y(t)**2 + 1)/y(t)"
      ]
     },
     "execution_count": 59,
     "metadata": {},
     "output_type": "execute_result"
    }
   ],
   "source": [
    "vp_sol_num"
   ]
  },
  {
   "cell_type": "code",
   "execution_count": 60,
   "metadata": {
    "slideshow": {
     "slide_type": "fragment"
    }
   },
   "outputs": [
    {
     "data": {
      "text/latex": [
       "$\\displaystyle - \\frac{2.46740110027234}{y^{3}{\\left(t \\right)}}$"
      ],
      "text/plain": [
       "-2.46740110027234/y(t)**3"
      ]
     },
     "execution_count": 60,
     "metadata": {},
     "output_type": "execute_result"
    }
   ],
   "source": [
    "ap_sol_num"
   ]
  },
  {
   "cell_type": "code",
   "execution_count": 61,
   "metadata": {
    "slideshow": {
     "slide_type": "fragment"
    }
   },
   "outputs": [],
   "source": [
    "for i in range(0,100):\n",
    "    vPn[i] = vp_sol_num.subs(y,yn[i])\n",
    "    aPn[i] = ap_sol_num.subs(y,yn[i])  "
   ]
  },
  {
   "cell_type": "code",
   "execution_count": 62,
   "metadata": {
    "slideshow": {
     "slide_type": "subslide"
    }
   },
   "outputs": [
    {
     "data": {
      "image/png": "[encoded data removed]",
      "text/plain": [
       "<Figure size 1800x1200 with 1 Axes>"
      ]
     },
     "metadata": {
      "needs_background": "light"
     },
     "output_type": "display_data"
    }
   ],
   "source": [
    "plt.figure(dpi=300)\n",
    "plt.plot(yn,vPn)\n",
    "plt.title('Velocidade do ponto P')\n",
    "plt.xlabel('y[m]')\n",
    "plt.ylabel('Velocidade [m/s]')\n",
    "plt.grid('True')"
   ]
  },
  {
   "cell_type": "code",
   "execution_count": 63,
   "metadata": {
    "scrolled": false,
    "slideshow": {
     "slide_type": "subslide"
    }
   },
   "outputs": [
    {
     "data": {
      "image/png": "[encoded data removed]",
      "text/plain": [
       "<Figure size 1800x1200 with 1 Axes>"
      ]
     },
     "metadata": {
      "needs_background": "light"
     },
     "output_type": "display_data"
    }
   ],
   "source": [
    "plt.figure(dpi=300)\n",
    "plt.plot(yn,aPn)\n",
    "plt.title('Aceleração do ponto P')\n",
    "plt.xlabel('y[m]')\n",
    "plt.ylabel('Aceleração [m/s²]')\n",
    "plt.grid('True')"
   ]
  },
  {
   "cell_type": "markdown",
   "metadata": {
    "slideshow": {
     "slide_type": "slide"
    }
   },
   "source": [
    "## 2.3 Movimento Curvilíneo Plano e Espacial\n"
   ]
  },
  {
   "cell_type": "markdown",
   "metadata": {
    "slideshow": {
     "slide_type": "subslide"
    }
   },
   "source": [
    "* No movimento curvilíneo, a partícula percorre uma **trajetória** em um espaço bi ou tridimensional.\n",
    "* Nesse tipo de movimento, expressamos a posição da partícula em relação a um ponto como uma **função vetorial**. \n",
    " ![](trajetoria1.svg)\n",
    " ![](trajetoria2.svg)"
   ]
  },
  {
   "cell_type": "markdown",
   "metadata": {},
   "source": [
    "O **movimento curvilíneo plano** pode ser expresso em:\n",
    "* Coordenadas cartesianas ($x-y$)\n",
    "* Coordenadas normal-tangencial ($n-t$)\n",
    "* Coordenadas polares ($r-\\theta$)\n",
    "\n",
    "O **movimento curvilíneo espacial** pode ser expresso em: \n",
    "* Coordenadas cartesianas ($x-y-z$)\n",
    "* Coordenadas cilíndricas ($r-\\theta-z$)\n",
    "* Coordenadas esféricas ($R-\\theta-\\phi$)"
   ]
  },
  {
   "cell_type": "markdown",
   "metadata": {
    "slideshow": {
     "slide_type": "subslide"
    }
   },
   "source": [
    " De modo geral, podemos expressar o deslocamento de uma partícula como a combinação de movimentos de translação e de rotação.\n",
    " \n",
    "Para facilitar a análise cinemática, podemos criar referenciais que se movem. \n",
    "\n",
    "![Tipos de Referênciais](Tipos_de_ref.svg)"
   ]
  },
  {
   "cell_type": "markdown",
   "metadata": {},
   "source": [
    "As coordenadas cartesianas podem ser entendidas como referenciais inerciais e móveis transladados.\n",
    "\n",
    "As demais coordenadas podem ser entendidas como um rotação pura ou, para o caso das coordenadas esféricas, como uma combinação de duas rotações puras."
   ]
  },
  {
   "cell_type": "markdown",
   "metadata": {
    "slideshow": {
     "slide_type": "subslide"
    }
   },
   "source": [
    "### 2.3.1 Referencial móvel transladado\n",
    "\n",
    "![Referencial Móvel Transladado](RefMov08.svg)\n",
    "\n"
   ]
  },
  {
   "cell_type": "markdown",
   "metadata": {
    "slideshow": {
     "slide_type": "subslide"
    }
   },
   "source": [
    "Temos que os vetores de base do referencial $A$ são paralelos aos vetores da base $N$ para todo o intervalo de tempo de análise. \n",
    "\n",
    "$$ X // X_1$$\n",
    "$$ Y // Y_1 $$\n",
    "$$ Z // Z_1 $$ "
   ]
  },
  {
   "cell_type": "markdown",
   "metadata": {
    "slideshow": {
     "slide_type": "subslide"
    }
   },
   "source": [
    "Ao se derivar um vetor temporalmente, deve-se notar se o vetor em questão sofre alterações em seu módulo, ou em sua orientação. \n",
    "\n",
    "$$ \\dfrac{{}^N d \\hat{\\mathbf{a}}_x}{dt} = \\mathbf{0} $$\n",
    "$$ \\dfrac{{}^N d \\hat{\\mathbf{a}}_y}{dt} = \\mathbf{0} $$\n",
    "$$ \\dfrac{{}^N d \\hat{\\mathbf{a}}_z}{dt} = \\mathbf{0} $$\n",
    "\n",
    "Logo: \n",
    "\n",
    "$$\\vec{p}^{P/O} = \\vec{r} + \\vec{r}_1 $$\n",
    "$$\\dfrac{{}^N d \\vec{p}^{P/O}}{dt} = \\dot{\\vec{r}} + \\dot{\\vec{r}}_1 = \\dot{r}\\hat{\\mathbf{r}} + \\dot{r}_{1}\\hat{\\mathbf{r}}_{1}$$\n"
   ]
  },
  {
   "cell_type": "markdown",
   "metadata": {
    "slideshow": {
     "slide_type": "subslide"
    }
   },
   "source": [
    "Na prática, não precisamos nos preocupar se os referencias estão transladados. Devemos nos atentar para o **caminho** que o ponto de interesse faz até o ponto de referência. "
   ]
  },
  {
   "cell_type": "markdown",
   "metadata": {
    "slideshow": {
     "slide_type": "subslide"
    }
   },
   "source": [
    "## 2.3.2 Referencial Móvel Girando\n",
    "\n",
    "![Referencial Móvel Girando](RefMov06b.svg)\n",
    "\n",
    "**Rotação no eixo** $X$\n",
    "\n",
    "$$X = X_1$$\n",
    "$$\\hat{\\mathbf{n}}_x = \\hat{\\mathbf{a}}_x $$\n",
    "$$ \\theta = f(t) $$"
   ]
  },
  {
   "cell_type": "markdown",
   "metadata": {
    "slideshow": {
     "slide_type": "subslide"
    }
   },
   "source": [
    "Usando a regra da mão direita, observamos que o ângulo $\\theta$ varia na direção $\\hat{\\textbf{a}}_x$ ou $\\hat{\\textbf{n}}_x$. Podemos definir o vetor velocidade angular do sistema $A$ em relação ao sistema $N$ como a derivada do vetor deslocamento angular em relação ao referecial $N$:\n",
    "$$ {}^{N}\\vec{\\omega}{}^{A} = \\dfrac{{}^N d \\theta \\hat{\\textbf{n}}_x}{dt} = \\dot{\\theta} \\hat{\\textbf{n}}_x $$"
   ]
  },
  {
   "cell_type": "markdown",
   "metadata": {
    "slideshow": {
     "slide_type": "fragment"
    }
   },
   "source": [
    "Podemos escrever o vetor posição de $P$ em relação a $O$ como: \n",
    "$$\\vec{p}{}^{P/O} = \\vec{r} $$"
   ]
  },
  {
   "cell_type": "markdown",
   "metadata": {
    "slideshow": {
     "slide_type": "fragment"
    }
   },
   "source": [
    "Podemos definir a derivada temporal do vetor posição de $P$ para $O$ em relação a $N$ como:\n",
    "\n",
    "$$\\dfrac{{}^N d \\vec{p}{}^{P/O}}{dt} = \\dfrac{{}^{A}d \\vec{r}}{dt} + {}^{N} \\vec{\\omega}^{A} \\times \\vec{r} $$\n",
    "\n",
    "Utilizando este teorema, podemos derivar os vetores da base $\\hat{\\textbf{a}}$:\n",
    "$$ \\dfrac{{}^N d \\hat{\\textbf{a}}_x}{dt} = 0 $$\n",
    "$$ \\dfrac{{}^N d \\hat{\\textbf{a}}_y}{dt} = {}^{N}\\vec{\\omega}{}^{A} \\times \\hat{\\textbf{a}}_y $$\n",
    "$$ \\dfrac{{}^N d \\hat{\\textbf{a}}_z}{dt} = {}^{N}\\vec{\\omega}{}^{A} \\times \\hat{\\textbf{a}}_z  $$"
   ]
  },
  {
   "cell_type": "markdown",
   "metadata": {
    "slideshow": {
     "slide_type": "subslide"
    }
   },
   "source": [
    "### Exemplo 6 \n",
    "Obter a aceleração absoluta da formiga no ventilador. Para uma primeira análise, considere a formiga estando parada no ventilador.\n",
    "![Formiga no ventilador](formiga0.png)"
   ]
  },
  {
   "cell_type": "markdown",
   "metadata": {
    "slideshow": {
     "slide_type": "subslide"
    }
   },
   "source": [
    "Observa-se que é interessante criar um referencial que se mova junto com o ventilador.\n",
    "\n",
    "![Formiga no ventilador](formiga.png)"
   ]
  },
  {
   "cell_type": "code",
   "execution_count": 64,
   "metadata": {
    "slideshow": {
     "slide_type": "subslide"
    }
   },
   "outputs": [
    {
     "data": {
      "text/html": [
       "<video src=\"formiga.mp4\" controls  width=\"700\" >\n",
       "      Your browser does not support the <code>video</code> element.\n",
       "    </video>"
      ],
      "text/plain": [
       "<IPython.core.display.Video object>"
      ]
     },
     "execution_count": 64,
     "metadata": {},
     "output_type": "execute_result"
    }
   ],
   "source": [
    "from IPython.display import Video\n",
    "\n",
    "Video(\"formiga.mp4\",width=700)"
   ]
  },
  {
   "cell_type": "markdown",
   "metadata": {
    "slideshow": {
     "slide_type": "subslide"
    }
   },
   "source": [
    "Modelaremos a formiga como uma partícula:\n",
    "![Formiga no ventilador](RefMov07.svg)"
   ]
  },
  {
   "cell_type": "markdown",
   "metadata": {
    "slideshow": {
     "slide_type": "subslide"
    }
   },
   "source": [
    "$${}^{N}\\vec{\\omega}^{A} = \\dot{\\theta} \\hat{\\mathbf{n}}_z = \\dot{\\theta} \\hat{\\mathbf{a}}_z $$\n",
    "\n",
    "Seja $O$ um ponto pertencente ao eixo de rotação do ventilador.\n",
    "\n",
    "$${}^{N}\\vec{v}^{O} = \\mathbf{0} $$\n",
    "\n",
    "A posição da formiga $P$ em relação ao ponto fixo $O$ é:\n",
    "\n",
    "$$\\vec{p}{}^{P/O} = R \\hat{\\mathbf{a}}_x  = R cos(\\theta) \\hat{\\mathbf{n}}_x + R sen (\\theta) \\hat{\\mathbf{n}}_y$$\n",
    "\n",
    "Nota-se que é mais conveniente expressar o vetor posição $\\mathbf{p}^{P/O}$ na base $\\hat{\\mathbf{a}}$:\n",
    "\n",
    "$$\\vec{p}{}^{P/O} = R \\hat{\\mathbf{a}}_x $$"
   ]
  },
  {
   "cell_type": "markdown",
   "metadata": {
    "slideshow": {
     "slide_type": "subslide"
    }
   },
   "source": [
    "Podemos obter a velocidade do ponto $P$ em relação ao sistema referencial inercial $N$ como:\n",
    "\n",
    "$${}^{N}\\vec{v}{}^{P} = \\dfrac{{}^{N} d \\vec{p}{}^{P/O}}{dt} = \\dot{R} \\hat{\\mathbf{a}}_x +  R {}^{N}\\vec{\\omega}{}^{A} \\times \\hat{\\mathbf{a}}_x $$\n",
    "\n",
    "Observa-se que $\\dot{R} = 0$. \n",
    "\n",
    "$${}^{N}\\vec{v}{}^{P} = R \\dot{\\theta} \\hat{\\mathbf{a}}_z \\times \\hat{\\mathbf{a}}_x $$\n",
    "$${}^{N}\\vec{v}{}^{P} = R \\dot{\\theta} \\hat{\\mathbf{a}}_y $$\n",
    "\n",
    "A aceleração do ponto P em relação ao sistema de referência $N$ pode ser obtida como:\n",
    "$${}^{N}\\vec{a}{}^{P} = \\dfrac{{}^{N}d {}^{N}\\vec{v}{}^{P}}{dt} = R \\ddot{\\theta} \\hat{\\mathbf{a}}_y + R \\dot{\\theta}(\\dot{\\theta}\\hat{\\mathbf{a}}_z \\times \\hat{\\mathbf{a}}_y) = R \\ddot{\\theta}\\hat{\\mathbf{a}}_y - R \\dot{\\theta}^{2} \\hat{\\mathbf{a}}_x $$"
   ]
  },
  {
   "cell_type": "code",
   "execution_count": 65,
   "metadata": {
    "slideshow": {
     "slide_type": "subslide"
    }
   },
   "outputs": [],
   "source": [
    "theta = me.dynamicsymbols('theta')\n",
    "R = symbols('R')"
   ]
  },
  {
   "cell_type": "code",
   "execution_count": 66,
   "metadata": {
    "slideshow": {
     "slide_type": "fragment"
    }
   },
   "outputs": [],
   "source": [
    "N = me.ReferenceFrame('N')\n",
    "A = me.ReferenceFrame('A')"
   ]
  },
  {
   "cell_type": "code",
   "execution_count": 67,
   "metadata": {
    "slideshow": {
     "slide_type": "fragment"
    }
   },
   "outputs": [],
   "source": [
    "A.orient(N,'Axis',[theta,N.z])"
   ]
  },
  {
   "cell_type": "code",
   "execution_count": 68,
   "metadata": {
    "scrolled": true,
    "slideshow": {
     "slide_type": "fragment"
    }
   },
   "outputs": [
    {
     "data": {
      "text/latex": [
       "$\\displaystyle \\dot{\\theta}\\mathbf{\\hat{n}_z}$"
      ],
      "text/plain": [
       "theta'*N.z"
      ]
     },
     "execution_count": 68,
     "metadata": {},
     "output_type": "execute_result"
    }
   ],
   "source": [
    "A.ang_vel_in(N)"
   ]
  },
  {
   "cell_type": "code",
   "execution_count": 69,
   "metadata": {
    "slideshow": {
     "slide_type": "fragment"
    }
   },
   "outputs": [
    {
     "data": {
      "text/latex": [
       "$\\displaystyle \\ddot{\\theta}\\mathbf{\\hat{n}_z}$"
      ],
      "text/plain": [
       "theta''*N.z"
      ]
     },
     "execution_count": 69,
     "metadata": {},
     "output_type": "execute_result"
    }
   ],
   "source": [
    "A.ang_acc_in(N)"
   ]
  },
  {
   "cell_type": "code",
   "execution_count": 70,
   "metadata": {
    "slideshow": {
     "slide_type": "subslide"
    }
   },
   "outputs": [],
   "source": [
    "O = me.Point('O')\n",
    "O.set_vel(N,0)"
   ]
  },
  {
   "cell_type": "code",
   "execution_count": 71,
   "metadata": {
    "slideshow": {
     "slide_type": "fragment"
    }
   },
   "outputs": [
    {
     "data": {
      "text/latex": [
       "$\\displaystyle R\\mathbf{\\hat{a}_x}$"
      ],
      "text/plain": [
       "R*A.x"
      ]
     },
     "execution_count": 71,
     "metadata": {},
     "output_type": "execute_result"
    }
   ],
   "source": [
    "P = me.Point('P')\n",
    "pPO = R*A.x\n",
    "P.set_pos(O,pPO)\n",
    "P.pos_from(O)"
   ]
  },
  {
   "cell_type": "code",
   "execution_count": 72,
   "metadata": {
    "slideshow": {
     "slide_type": "fragment"
    }
   },
   "outputs": [
    {
     "data": {
      "text/latex": [
       "$\\displaystyle R \\dot{\\theta}\\mathbf{\\hat{a}_y}$"
      ],
      "text/plain": [
       "R*theta'*A.y"
      ]
     },
     "execution_count": 72,
     "metadata": {},
     "output_type": "execute_result"
    }
   ],
   "source": [
    "P.set_vel(N,pPO.dt(N))\n",
    "P.vel(N)"
   ]
  },
  {
   "cell_type": "code",
   "execution_count": 73,
   "metadata": {
    "slideshow": {
     "slide_type": "fragment"
    }
   },
   "outputs": [
    {
     "data": {
      "text/latex": [
       "$\\displaystyle -  R \\dot{\\theta}^{2}\\mathbf{\\hat{a}_x} + R \\ddot{\\theta}\\mathbf{\\hat{a}_y}$"
      ],
      "text/plain": [
       "- R*theta'**2*A.x + R*theta''*A.y"
      ]
     },
     "execution_count": 73,
     "metadata": {},
     "output_type": "execute_result"
    }
   ],
   "source": [
    "P.acc(N)"
   ]
  },
  {
   "cell_type": "markdown",
   "metadata": {
    "slideshow": {
     "slide_type": "subslide"
    }
   },
   "source": [
    "### 2.3.3 Eixos Radial e Tangencial, Velocidades e Acelerações\n",
    "\n",
    "![Formiga no ventilador](RefMov07.svg)"
   ]
  },
  {
   "cell_type": "markdown",
   "metadata": {
    "slideshow": {
     "slide_type": "subslide"
    }
   },
   "source": [
    "![Formiga no ventilador](RefMov07b.svg)\n",
    "\n",
    "$\\hat{\\mathbf{a}}_x = \\hat{\\mathbf{a}}_r$ $\\rightarrow$  direção radial ao movimento. Também podem ser chamadas de coordenadas normais $\\hat{\\mathbf{a}}_n$ <br>\n",
    "$\\hat{\\mathbf{a}}_y = \\hat{\\mathbf{a}}_t$ $\\rightarrow$  direção tangencial ao movimento\n",
    "\n",
    "\n",
    "**Vamos agora considerar que:** $R \\neq cte$, ou seja $\\dot{R} \\neq 0$. \n"
   ]
  },
  {
   "cell_type": "markdown",
   "metadata": {
    "slideshow": {
     "slide_type": "subslide"
    }
   },
   "source": [
    "Passos para resolver a cinemática:\n",
    "\n",
    "- Identificar o que é uma variável dinâmica e o que é constante.\n",
    "- Criar um sistema de referência inercial e sistemas móveis que facilitem a análise.\n",
    "- Escrever as relações entre os sistemas.\n",
    "- Obter o vetor velocidade angular e o vetor aceleração angular. \n",
    "    $${}^{N}\\vec{\\omega}{}^{A} = \\dot{\\theta}\\hat{\\mathbf{n}}_z = \\dot{\\theta}\\hat{\\mathbf{a}}_z$$\n",
    "    $${}^{N}\\vec{\\alpha}{}^{A} = \\dfrac{{}^{N} d {}^{N}\\vec{\\omega}{}^{A}}{dt} = \\dfrac{{}^{N}d \\dot{\\theta} \\hat{\\mathbf{n}}_z}{dt} = \\ddot{\\theta} \\hat{\\mathbf{n}}_z = \\ddot{\\theta} \\hat{\\mathbf{a}}_z$$\n",
    "- Escolher um ponto com velocidade absoluta igual a zero para ser a origem do sistema referencial inercial.\n",
    "    $${}^{N}\\vec{v}{}^{O} = \\vec{0}$$\n",
    "- Escrever o vetor posição do ponto que se quer analisar em relação ao ponto fixo.\n",
    "    $$\\vec{p}{}^{P/O} = R \\hat{\\mathbf{a}}_x$$\n"
   ]
  },
  {
   "cell_type": "markdown",
   "metadata": {
    "slideshow": {
     "slide_type": "subslide"
    }
   },
   "source": [
    "- Obter a velocidade desse ponto.\n",
    "    $${}^{N}\\vec{v}{}^{P} = \\dfrac{{}^{N}d \\vec{p}{}^{P/O}}{dt} = \\dot{R} \\hat{\\mathbf{a}}_x + R {}^{N} \\vec{\\omega}{}^{A} \\times \\hat{\\mathbf{a}}_x = \\dot{R} \\hat{\\mathbf{a}}_x + R \\dot{\\theta} \\hat{\\mathbf{a}}_z \\times \\hat{\\mathbf{a}}_x $$\n",
    "    $${}^{N}\\vec{v}{}^{P} = \\dot{R} \\hat{\\mathbf{a}}_x + R \\dot{\\theta} \\hat{\\mathbf{a}}_y $$\n",
    "    Onde $\\dot{R} $ é a velocidade radial e $R \\dot{\\theta}$ é a velocidade tangencial $\\rightarrow$ ${}^{N}\\vec{v}{}^{P} = \\dot{R} \\hat{\\mathbf{a}}_r + R \\dot{\\theta} \\hat{\\mathbf{a}}_t$ .\n",
    "- Obter a aceleração. \n",
    "    $${}^{N}\\vec{a}{}^{P} = \\dfrac{{}^{N}d(\\dot{R} \\hat{\\mathbf{a}}_x + R \\dot{\\theta} \\hat{\\mathbf{a}}_y)}{dt}$$\n",
    "    $${}^{N}\\vec{a}{}^{P} = \\ddot{R} \\hat{\\mathbf{a}}_x + \\dot{R} \\dot{\\theta}\\hat{\\mathbf{a}}_z \\times \\hat{\\mathbf{a}}_x + \\dot{R} \\dot{\\theta}\\hat{\\mathbf{a}}_y + R \\ddot{\\theta} \\hat{\\mathbf{a}}_y + R \\dot{\\theta} \\dot{\\theta} \\hat{\\mathbf{a}}_z \\times \\hat{\\mathbf{a}}_y $$\n",
    "    $${}^{N}\\vec{a}{}^{P} = \\ddot{R} \\hat{\\mathbf{a}}_x + \\dot{R}\\dot{\\theta} \\hat{\\mathbf{a}}_y + \\dot{R}\\dot{\\theta} \\hat{\\mathbf{a}}_y + R\\ddot{\\theta}\\hat{\\mathbf{a}}_y - R\\dot{\\theta}^{2}\\hat{\\mathbf{a}}_x $$\n",
    "    $${}^{N}\\vec{a}{}^{P} = \\ddot{R} \\hat{\\mathbf{a}}_x - R\\dot{\\theta}^{2}\\hat{\\mathbf{a}}_x + R\\ddot{\\theta}\\hat{\\mathbf{a}}_y + 2\\dot{R}\\dot{\\theta} \\hat{\\mathbf{a}}_y $$\n",
    "    Onde $\\ddot{R}$ é a aceleração radial em relação ao referencial móvel, $R\\dot{\\theta}^{2}$ é a aceleração centrípeta, $ R\\ddot{\\theta}$ é a aceleração tangencial e $2\\dot{R}\\dot{\\theta}$ é a aceleração de Coriolis. "
   ]
  },
  {
   "cell_type": "markdown",
   "metadata": {
    "slideshow": {
     "slide_type": "subslide"
    }
   },
   "source": [
    "- Identificar o que é uma variável dinâmica e o que é contante."
   ]
  },
  {
   "cell_type": "code",
   "execution_count": 74,
   "metadata": {
    "slideshow": {
     "slide_type": "subslide"
    }
   },
   "outputs": [],
   "source": [
    "R,theta = me.dynamicsymbols('R theta')"
   ]
  },
  {
   "cell_type": "markdown",
   "metadata": {
    "slideshow": {
     "slide_type": "subslide"
    }
   },
   "source": [
    "- Criar um sistema de referência inercial e sistemas móveis que facilitem a análise."
   ]
  },
  {
   "cell_type": "code",
   "execution_count": 75,
   "metadata": {
    "slideshow": {
     "slide_type": "fragment"
    }
   },
   "outputs": [],
   "source": [
    "N = me.ReferenceFrame('N')\n",
    "A = me.ReferenceFrame('A')"
   ]
  },
  {
   "cell_type": "markdown",
   "metadata": {
    "slideshow": {
     "slide_type": "subslide"
    }
   },
   "source": [
    "- Escrever as relações entre os sistemas."
   ]
  },
  {
   "cell_type": "code",
   "execution_count": 76,
   "metadata": {
    "slideshow": {
     "slide_type": "fragment"
    }
   },
   "outputs": [],
   "source": [
    "A.orient(N,'Axis',[theta,N.z])"
   ]
  },
  {
   "cell_type": "markdown",
   "metadata": {
    "slideshow": {
     "slide_type": "subslide"
    }
   },
   "source": [
    "- Obter o vetor velocidade angular e o vetor aceleração angular. "
   ]
  },
  {
   "cell_type": "code",
   "execution_count": 77,
   "metadata": {
    "slideshow": {
     "slide_type": "fragment"
    }
   },
   "outputs": [
    {
     "data": {
      "text/latex": [
       "$\\displaystyle \\dot{\\theta}\\mathbf{\\hat{n}_z}$"
      ],
      "text/plain": [
       "theta'*N.z"
      ]
     },
     "execution_count": 77,
     "metadata": {},
     "output_type": "execute_result"
    }
   ],
   "source": [
    "A.ang_vel_in(N)"
   ]
  },
  {
   "cell_type": "code",
   "execution_count": 78,
   "metadata": {
    "slideshow": {
     "slide_type": "fragment"
    }
   },
   "outputs": [
    {
     "data": {
      "text/latex": [
       "$\\displaystyle \\ddot{\\theta}\\mathbf{\\hat{n}_z}$"
      ],
      "text/plain": [
       "theta''*N.z"
      ]
     },
     "execution_count": 78,
     "metadata": {},
     "output_type": "execute_result"
    }
   ],
   "source": [
    "A.ang_acc_in(N)"
   ]
  },
  {
   "cell_type": "markdown",
   "metadata": {
    "slideshow": {
     "slide_type": "subslide"
    }
   },
   "source": [
    "- Escolher um ponto com velocidade absoluta igual a zero para ser a origem do sistema referencial inercial."
   ]
  },
  {
   "cell_type": "code",
   "execution_count": 79,
   "metadata": {
    "slideshow": {
     "slide_type": "fragment"
    }
   },
   "outputs": [],
   "source": [
    "O = me.Point('O')\n",
    "O.set_vel(N,0)"
   ]
  },
  {
   "cell_type": "markdown",
   "metadata": {
    "slideshow": {
     "slide_type": "subslide"
    }
   },
   "source": [
    "- Escrever o vetor posição do ponto que se quer analisar."
   ]
  },
  {
   "cell_type": "code",
   "execution_count": 80,
   "metadata": {
    "slideshow": {
     "slide_type": "fragment"
    }
   },
   "outputs": [
    {
     "data": {
      "text/latex": [
       "$\\displaystyle R\\mathbf{\\hat{a}_x}$"
      ],
      "text/plain": [
       "R*A.x"
      ]
     },
     "execution_count": 80,
     "metadata": {},
     "output_type": "execute_result"
    }
   ],
   "source": [
    "P = me.Point('P')\n",
    "pPO = R*A.x\n",
    "P.set_pos(O,pPO)\n",
    "P.pos_from(O)"
   ]
  },
  {
   "cell_type": "markdown",
   "metadata": {
    "slideshow": {
     "slide_type": "subslide"
    }
   },
   "source": [
    "- Obter a velocidade desse ponto."
   ]
  },
  {
   "cell_type": "code",
   "execution_count": 81,
   "metadata": {
    "slideshow": {
     "slide_type": "fragment"
    }
   },
   "outputs": [
    {
     "data": {
      "text/latex": [
       "$\\displaystyle \\dot{R}\\mathbf{\\hat{a}_x} + R \\dot{\\theta}\\mathbf{\\hat{a}_y}$"
      ],
      "text/plain": [
       "R'*A.x + R*theta'*A.y"
      ]
     },
     "execution_count": 81,
     "metadata": {},
     "output_type": "execute_result"
    }
   ],
   "source": [
    "P.set_vel(N,pPO.dt(N))\n",
    "P.vel(N)"
   ]
  },
  {
   "cell_type": "markdown",
   "metadata": {
    "slideshow": {
     "slide_type": "subslide"
    }
   },
   "source": [
    "- Obter a aceleração. "
   ]
  },
  {
   "cell_type": "code",
   "execution_count": 82,
   "metadata": {
    "slideshow": {
     "slide_type": "fragment"
    }
   },
   "outputs": [
    {
     "data": {
      "text/latex": [
       "$\\displaystyle (- R \\dot{\\theta}^{2} + \\ddot{R})\\mathbf{\\hat{a}_x} + (R \\ddot{\\theta} + 2 \\dot{R} \\dot{\\theta})\\mathbf{\\hat{a}_y}$"
      ],
      "text/plain": [
       "(-R*theta'**2 + R'')*A.x + (R*theta'' + 2*R'*theta')*A.y"
      ]
     },
     "execution_count": 82,
     "metadata": {},
     "output_type": "execute_result"
    }
   ],
   "source": [
    "P.acc(N)"
   ]
  },
  {
   "cell_type": "markdown",
   "metadata": {
    "slideshow": {
     "slide_type": "subslide"
    }
   },
   "source": [
    "### 2.3.4 Cordenadas polares\n",
    "\n",
    "![Formiga no ventilador](RefMov07b.svg)\n",
    "\n",
    "A posição de uma partícula no plano, em um determinado instante, pode ser expressa em coordenadas polares: $R \\angle \\theta$."
   ]
  },
  {
   "cell_type": "markdown",
   "metadata": {
    "slideshow": {
     "slide_type": "subslide"
    }
   },
   "source": [
    "### 2.3.5 Diferenciação de vetores em relação a outros referenciais"
   ]
  },
  {
   "cell_type": "markdown",
   "metadata": {
    "slideshow": {
     "slide_type": "fragment"
    }
   },
   "source": [
    "Voltando ao exemplo da formiga no ventilador, queremos agora obter a velocidade e a aceleração da forminga em relação a um observador que também está no ventilador."
   ]
  },
  {
   "cell_type": "code",
   "execution_count": 83,
   "metadata": {
    "slideshow": {
     "slide_type": "subslide"
    }
   },
   "outputs": [
    {
     "data": {
      "text/html": [
       "<video src=\"formiga2.mp4\" controls  width=\"700\" >\n",
       "      Your browser does not support the <code>video</code> element.\n",
       "    </video>"
      ],
      "text/plain": [
       "<IPython.core.display.Video object>"
      ]
     },
     "execution_count": 83,
     "metadata": {},
     "output_type": "execute_result"
    }
   ],
   "source": [
    "Video(\"formiga2.mp4\",width=700)"
   ]
  },
  {
   "cell_type": "markdown",
   "metadata": {
    "slideshow": {
     "slide_type": "subslide"
    }
   },
   "source": [
    "Nos exemplos anteriores, foram obtidas a velocidade e a aceleração da formiga em relação a um observador inercial (Referencial Inercial) através da derivação dos vetores posição e velocidade em relação ao referencial inercial $N$:"
   ]
  },
  {
   "cell_type": "code",
   "execution_count": 84,
   "metadata": {},
   "outputs": [],
   "source": [
    "R = me.dynamicsymbols('R')"
   ]
  },
  {
   "cell_type": "code",
   "execution_count": 85,
   "metadata": {
    "slideshow": {
     "slide_type": "fragment"
    }
   },
   "outputs": [
    {
     "data": {
      "text/latex": [
       "$\\displaystyle R\\mathbf{\\hat{a}_x}$"
      ],
      "text/plain": [
       "R*A.x"
      ]
     },
     "execution_count": 85,
     "metadata": {},
     "output_type": "execute_result"
    }
   ],
   "source": [
    "pPO = R*A.x\n",
    "pPO"
   ]
  },
  {
   "cell_type": "code",
   "execution_count": 86,
   "metadata": {
    "scrolled": true,
    "slideshow": {
     "slide_type": "fragment"
    }
   },
   "outputs": [
    {
     "data": {
      "text/latex": [
       "$\\displaystyle \\dot{R}\\mathbf{\\hat{a}_x} + R \\dot{\\theta}\\mathbf{\\hat{a}_y}$"
      ],
      "text/plain": [
       "R'*A.x + R*theta'*A.y"
      ]
     },
     "execution_count": 86,
     "metadata": {},
     "output_type": "execute_result"
    }
   ],
   "source": [
    "vP_N = pPO.dt(N)\n",
    "vP_N"
   ]
  },
  {
   "cell_type": "code",
   "execution_count": 87,
   "metadata": {
    "slideshow": {
     "slide_type": "fragment"
    }
   },
   "outputs": [
    {
     "data": {
      "text/latex": [
       "$\\displaystyle (- R \\dot{\\theta}^{2} + \\ddot{R})\\mathbf{\\hat{a}_x} + (R \\ddot{\\theta} + 2 \\dot{R} \\dot{\\theta})\\mathbf{\\hat{a}_y}$"
      ],
      "text/plain": [
       "(-R*theta'**2 + R'')*A.x + (R*theta'' + 2*R'*theta')*A.y"
      ]
     },
     "execution_count": 87,
     "metadata": {},
     "output_type": "execute_result"
    }
   ],
   "source": [
    "aP_N = vP_N.dt(N)\n",
    "aP_N"
   ]
  },
  {
   "cell_type": "markdown",
   "metadata": {
    "slideshow": {
     "slide_type": "fragment"
    }
   },
   "source": [
    "Para obter a velocidade e a aceleração em relação a um observador que está no ventilador, devemos derivar os vetores posição e velocidade em relação ao referencial $A$, que se move junto com o ventilador."
   ]
  },
  {
   "cell_type": "code",
   "execution_count": 88,
   "metadata": {
    "slideshow": {
     "slide_type": "fragment"
    }
   },
   "outputs": [
    {
     "data": {
      "text/latex": [
       "$\\displaystyle \\dot{R}\\mathbf{\\hat{a}_x}$"
      ],
      "text/plain": [
       "R'*A.x"
      ]
     },
     "execution_count": 88,
     "metadata": {},
     "output_type": "execute_result"
    }
   ],
   "source": [
    "vP_A = pPO.dt(A)\n",
    "vP_A"
   ]
  },
  {
   "cell_type": "code",
   "execution_count": 89,
   "metadata": {
    "scrolled": true,
    "slideshow": {
     "slide_type": "fragment"
    }
   },
   "outputs": [
    {
     "data": {
      "text/latex": [
       "$\\displaystyle \\ddot{R}\\mathbf{\\hat{a}_x}$"
      ],
      "text/plain": [
       "R''*A.x"
      ]
     },
     "execution_count": 89,
     "metadata": {},
     "output_type": "execute_result"
    }
   ],
   "source": [
    "aP_A = vP_A.dt(A)\n",
    "aP_A"
   ]
  },
  {
   "cell_type": "markdown",
   "metadata": {
    "slideshow": {
     "slide_type": "slide"
    }
   },
   "source": [
    "###  2.3.6 Transformação de Coordenadas"
   ]
  },
  {
   "cell_type": "markdown",
   "metadata": {
    "slideshow": {
     "slide_type": "subslide"
    }
   },
   "source": [
    "Quando lidamos com vários referenciais, é interessante aprendermos a converter os vetores de base entre os diferentes referenciais.\n",
    "![Formiga no ventilador](RefMov07.svg)\n"
   ]
  },
  {
   "cell_type": "markdown",
   "metadata": {
    "slideshow": {
     "slide_type": "subslide"
    }
   },
   "source": [
    "$$\\vec{p}{}^{P/O} = R \\hat{\\boldsymbol{a}}_x$$\n",
    "Queremos escrever este vetor posição na base $N$: <br>\n",
    "<br>\n",
    "$$\\hat{\\boldsymbol{a}}_x = cos(\\theta) \\hat{\\boldsymbol{n}}_x + sen(\\theta) \\hat{\\boldsymbol{n}}_y$$\n",
    "$$\\hat{\\boldsymbol{a}}_y = -sen(\\theta) \\hat{\\boldsymbol{n}}_x + cos(\\theta) \\hat{\\boldsymbol{n}}_y $$\n",
    "$$ \\hat{\\boldsymbol{a}}_z = \\hat{\\boldsymbol{n}}_z $$"
   ]
  },
  {
   "cell_type": "markdown",
   "metadata": {
    "slideshow": {
     "slide_type": "subslide"
    }
   },
   "source": [
    "$$\\left[ \\begin{array}{c} a_x \\\\ a_y \\\\ a_z  \\end{array} \\right] = \\left[ \\begin{array}{c} \\cos(\\theta) &  \\sin(\\theta) & 0 \\\\ -\\sin(\\theta) & \\cos(\\theta) & 0 \\\\ 0 & 0 & 1  \\end{array} \\right] \\left[ \\begin{array}{c} n_x \\\\ n_y \\\\ n_z  \\end{array} \\right]$$\n",
    "\n",
    "Escrevendo de forma mais compacta:\n",
    "$$\\vec{a} = \\boldsymbol{R}(\\theta,z)\\vec{n}$$\n",
    "Onde:\n",
    "$\\vec{a}$ é um vetor escrito na base $A$.<br>\n",
    "$\\boldsymbol{R}(\\theta,z)$ é a matriz de transformação que converte da base $N$ para $A$. <br>\n",
    "$\\vec{n}$ é um vetor escrito na base $N$. <br>\n"
   ]
  },
  {
   "cell_type": "markdown",
   "metadata": {
    "slideshow": {
     "slide_type": "subslide"
    }
   },
   "source": [
    "Mas queríamos o oposto, converter de $A$ para $N$: \n",
    "$$\\boldsymbol{R}^{-1}(\\theta,z) \\vec{a} = \\boldsymbol{R}^{-1}(\\theta,z) \\boldsymbol{R}(\\theta,z) \\vec{n}$$\n",
    "$$ \\boldsymbol{R}^{-1}(\\theta,z) \\vec{a} = \\vec{n}$$\n",
    "A matriz de transformação, que é uma matriz de rotação, é ortogonal. Isso significa que a inversa da matriz é a sua transposta.\n",
    "$$\\left[ \\begin{array}{c} n_x \\\\ n_y \\\\ n_z  \\end{array} \\right] = \\left[ \\begin{array}{c} \\cos(\\theta) &  -\\sin(\\theta) & 0 \\\\ \\sin(\\theta) & \\cos(\\theta) & 0 \\\\ 0 & 0 & 1  \\end{array} \\right] \\left[ \\begin{array}{c} a_x \\\\ a_y \\\\ a_z  \\end{array} \\right]$$"
   ]
  },
  {
   "cell_type": "markdown",
   "metadata": {
    "slideshow": {
     "slide_type": "subslide"
    }
   },
   "source": [
    "Voltando ao problema de escrever $R \\hat{\\boldsymbol{a}}_x$ na base $N$:\n",
    "$$\\boldsymbol{p}^{P/O} = R \\hat{\\boldsymbol{a}}_x = \\left[ \\begin{array}{c} \\cos(\\theta) &  -\\sin(\\theta) & 0 \\\\ \\sin(\\theta) & \\cos(\\theta) & 0 \\\\ 0 & 0 & 1  \\end{array} \\right] \\left[ \\begin{array}{c} R \\\\ 0 \\\\ 0  \\end{array} \\right] =  Rcos(\\theta) \\hat{\\boldsymbol{n}}_x + R sen(\\theta) \\hat{\\boldsymbol{n}}_y$$\n"
   ]
  },
  {
   "cell_type": "code",
   "execution_count": 90,
   "metadata": {
    "slideshow": {
     "slide_type": "subslide"
    }
   },
   "outputs": [
    {
     "data": {
      "text/latex": [
       "$\\displaystyle R\\mathbf{\\hat{a}_x}$"
      ],
      "text/plain": [
       "R*A.x"
      ]
     },
     "execution_count": 90,
     "metadata": {},
     "output_type": "execute_result"
    }
   ],
   "source": [
    "pPO"
   ]
  },
  {
   "cell_type": "code",
   "execution_count": 91,
   "metadata": {
    "slideshow": {
     "slide_type": "fragment"
    }
   },
   "outputs": [
    {
     "data": {
      "text/latex": [
       "$\\displaystyle R \\operatorname{cos}\\left(\\theta\\right)\\mathbf{\\hat{n}_x} + R \\operatorname{sin}\\left(\\theta\\right)\\mathbf{\\hat{n}_y}$"
      ],
      "text/plain": [
       "R*cos(theta)*N.x + R*sin(theta)*N.y"
      ]
     },
     "execution_count": 91,
     "metadata": {},
     "output_type": "execute_result"
    }
   ],
   "source": [
    "pPO.express(N)"
   ]
  },
  {
   "cell_type": "code",
   "execution_count": 92,
   "metadata": {
    "slideshow": {
     "slide_type": "fragment"
    }
   },
   "outputs": [
    {
     "data": {
      "text/latex": [
       "$\\displaystyle \\left[\\begin{matrix}\\cos{\\left(\\theta{\\left(t \\right)} \\right)} & \\sin{\\left(\\theta{\\left(t \\right)} \\right)} & 0\\\\- \\sin{\\left(\\theta{\\left(t \\right)} \\right)} & \\cos{\\left(\\theta{\\left(t \\right)} \\right)} & 0\\\\0 & 0 & 1\\end{matrix}\\right]$"
      ],
      "text/plain": [
       "Matrix([\n",
       "[ cos(theta(t)), sin(theta(t)), 0],\n",
       "[-sin(theta(t)), cos(theta(t)), 0],\n",
       "[             0,             0, 1]])"
      ]
     },
     "execution_count": 92,
     "metadata": {},
     "output_type": "execute_result"
    }
   ],
   "source": [
    "A.dcm(N)"
   ]
  },
  {
   "cell_type": "code",
   "execution_count": 93,
   "metadata": {
    "slideshow": {
     "slide_type": "fragment"
    }
   },
   "outputs": [
    {
     "data": {
      "text/latex": [
       "$\\displaystyle \\left[\\begin{matrix}\\cos{\\left(\\theta{\\left(t \\right)} \\right)} & - \\sin{\\left(\\theta{\\left(t \\right)} \\right)} & 0\\\\\\sin{\\left(\\theta{\\left(t \\right)} \\right)} & \\cos{\\left(\\theta{\\left(t \\right)} \\right)} & 0\\\\0 & 0 & 1\\end{matrix}\\right]$"
      ],
      "text/plain": [
       "Matrix([\n",
       "[cos(theta(t)), -sin(theta(t)), 0],\n",
       "[sin(theta(t)),  cos(theta(t)), 0],\n",
       "[            0,              0, 1]])"
      ]
     },
     "execution_count": 93,
     "metadata": {},
     "output_type": "execute_result"
    }
   ],
   "source": [
    "M = A.dcm(N)\n",
    "M.T"
   ]
  },
  {
   "cell_type": "code",
   "execution_count": 94,
   "metadata": {
    "slideshow": {
     "slide_type": "fragment"
    }
   },
   "outputs": [
    {
     "data": {
      "text/latex": [
       "$\\displaystyle \\left[\\begin{matrix}1 & 0 & 0\\\\0 & 1 & 0\\\\0 & 0 & 1\\end{matrix}\\right]$"
      ],
      "text/plain": [
       "Matrix([\n",
       "[1, 0, 0],\n",
       "[0, 1, 0],\n",
       "[0, 0, 1]])"
      ]
     },
     "execution_count": 94,
     "metadata": {},
     "output_type": "execute_result"
    }
   ],
   "source": [
    "trigsimp(M.T*M)"
   ]
  },
  {
   "cell_type": "markdown",
   "metadata": {
    "slideshow": {
     "slide_type": "subslide"
    }
   },
   "source": [
    "### 2.3.7 Matrizes de Rotação"
   ]
  },
  {
   "cell_type": "markdown",
   "metadata": {
    "slideshow": {
     "slide_type": "subslide"
    }
   },
   "source": [
    "Rotações de $A$ para $B$ de um ângulo $\\theta$: <br>\n",
    "\n",
    "* No eixo X:\n",
    "\n",
    "| | $\\hat{\\textbf{b}}_x$ | $\\hat{\\textbf{b}}_y$ | $\\hat{\\textbf{b}}_z$ |\n",
    "|---|---|---|---|\n",
    "|$\\hat{\\textbf{a}}_x$ | $1$ | $0$ | $0$ |\n",
    "|$\\hat{\\textbf{a}}_y$ | $0$ |  $cos (\\theta)$ | $-sen (\\theta)$ |\n",
    "|$\\hat{\\textbf{a}}_z$ | $0$ |$sen (\\theta)$ | $cos (\\theta)$ |\n",
    "\n",
    "* No eixo Y:\n",
    "\n",
    "| | $\\hat{\\textbf{b}}_x$ | $\\hat{\\textbf{b}}_y$ | $\\hat{\\textbf{b}}_z$ |\n",
    "|---|---|---|---|\n",
    "|$\\hat{\\textbf{a}}_x$ | $cos (\\theta)$| $0$ | $sen (\\theta)$|\n",
    "|$\\hat{\\textbf{a}}_y$ | $0$ |  $1$ | $0$ |\n",
    "|$\\hat{\\textbf{a}}_z$ | $$-sen (\\theta)$$ |$0$ | $cos (\\theta)$ |\n",
    "\n",
    "\n",
    "\n",
    "* No eixo Z:\n",
    "\n",
    "| | $\\hat{\\textbf{b}}_x$ | $\\hat{\\textbf{b}}_y$ | $\\hat{\\textbf{b}}_z$ |\n",
    "|---|---|---|---|\n",
    "|$\\hat{\\textbf{a}}_x$ | $cos (\\theta)$ | $-sen (\\theta)$ | $0$ |\n",
    "|$\\hat{\\textbf{a}}_y$ | $sen (\\theta)$|  $cos (\\theta)$| $0$ |\n",
    "|$\\hat{\\textbf{a}}_z$ | $0$ |$0$ | $1$ |\n"
   ]
  },
  {
   "cell_type": "markdown",
   "metadata": {
    "slideshow": {
     "slide_type": "subslide"
    }
   },
   "source": [
    "## Exemplo 7\n",
    "Entendendo a aceleração de Coriolis:"
   ]
  },
  {
   "cell_type": "code",
   "execution_count": 95,
   "metadata": {
    "scrolled": false,
    "slideshow": {
     "slide_type": "fragment"
    }
   },
   "outputs": [
    {
     "data": {
      "text/html": [
       "\n",
       "        <iframe\n",
       "            width=\"640\"\n",
       "            height=\"360\"\n",
       "            src=\"https://www.youtube.com/embed/dt_XJp77-mk\"\n",
       "            frameborder=\"0\"\n",
       "            allowfullscreen\n",
       "        ></iframe>\n",
       "        "
      ],
      "text/plain": [
       "<IPython.lib.display.IFrame at 0x7f060ad38970>"
      ]
     },
     "execution_count": 95,
     "metadata": {},
     "output_type": "execute_result"
    }
   ],
   "source": [
    "from IPython.display import IFrame\n",
    "IFrame(\"https://www.youtube.com/embed/dt_XJp77-mk\",640,360)"
   ]
  },
  {
   "cell_type": "markdown",
   "metadata": {
    "slideshow": {
     "slide_type": "subslide"
    }
   },
   "source": [
    "Vamos simular o exemplo do vídeo ^^"
   ]
  },
  {
   "cell_type": "code",
   "execution_count": 96,
   "metadata": {
    "slideshow": {
     "slide_type": "fragment"
    }
   },
   "outputs": [],
   "source": [
    "omega = symbols('omega')\n",
    "rbola = me.dynamicsymbols('r_bola')"
   ]
  },
  {
   "cell_type": "code",
   "execution_count": 97,
   "metadata": {
    "slideshow": {
     "slide_type": "fragment"
    }
   },
   "outputs": [],
   "source": [
    "N = me.ReferenceFrame('N')\n",
    "A = me.ReferenceFrame('A')"
   ]
  },
  {
   "cell_type": "code",
   "execution_count": 98,
   "metadata": {
    "slideshow": {
     "slide_type": "fragment"
    }
   },
   "outputs": [],
   "source": [
    "A.orient(N,'Axis',[omega*t,N.z])"
   ]
  },
  {
   "cell_type": "code",
   "execution_count": 99,
   "metadata": {
    "slideshow": {
     "slide_type": "fragment"
    }
   },
   "outputs": [],
   "source": [
    "desBola = rbola*N.x"
   ]
  },
  {
   "cell_type": "markdown",
   "metadata": {
    "slideshow": {
     "slide_type": "fragment"
    }
   },
   "source": [
    "Vamos estudar a cinemática da bola em $N$:"
   ]
  },
  {
   "cell_type": "code",
   "execution_count": 100,
   "metadata": {
    "scrolled": false,
    "slideshow": {
     "slide_type": "fragment"
    }
   },
   "outputs": [
    {
     "data": {
      "text/latex": [
       "$\\displaystyle \\dot{r}_{bola}\\mathbf{\\hat{n}_x}$"
      ],
      "text/plain": [
       "r_bola'*N.x"
      ]
     },
     "execution_count": 100,
     "metadata": {},
     "output_type": "execute_result"
    }
   ],
   "source": [
    "vBola_em_N = desBola.dt(N)\n",
    "vBola_em_N "
   ]
  },
  {
   "cell_type": "code",
   "execution_count": 101,
   "metadata": {
    "scrolled": true,
    "slideshow": {
     "slide_type": "fragment"
    }
   },
   "outputs": [
    {
     "data": {
      "text/latex": [
       "$\\displaystyle \\ddot{r}_{bola}\\mathbf{\\hat{n}_x}$"
      ],
      "text/plain": [
       "r_bola''*N.x"
      ]
     },
     "execution_count": 101,
     "metadata": {},
     "output_type": "execute_result"
    }
   ],
   "source": [
    "aBola_em_N = vBola_em_N.dt(N)\n",
    "aBola_em_N"
   ]
  },
  {
   "cell_type": "markdown",
   "metadata": {
    "slideshow": {
     "slide_type": "fragment"
    }
   },
   "source": [
    "Agora vamos estudar o deslocamento da bola em $A$:"
   ]
  },
  {
   "cell_type": "code",
   "execution_count": 102,
   "metadata": {
    "slideshow": {
     "slide_type": "fragment"
    }
   },
   "outputs": [
    {
     "data": {
      "text/latex": [
       "$\\displaystyle \\dot{r}_{bola}\\mathbf{\\hat{n}_x} -  \\omega r_{bola}\\mathbf{\\hat{n}_y}$"
      ],
      "text/plain": [
       "r_bola'*N.x - omega*r_bola*N.y"
      ]
     },
     "execution_count": 102,
     "metadata": {},
     "output_type": "execute_result"
    }
   ],
   "source": [
    "vBola_em_A = (rbola*N.x).dt(A)\n",
    "vBola_em_A"
   ]
  },
  {
   "cell_type": "code",
   "execution_count": 103,
   "metadata": {
    "scrolled": true,
    "slideshow": {
     "slide_type": "fragment"
    }
   },
   "outputs": [
    {
     "data": {
      "text/latex": [
       "$\\displaystyle (- \\omega^{2} r_{bola} + \\ddot{r}_{bola})\\mathbf{\\hat{n}_x} -  2 \\omega \\dot{r}_{bola}\\mathbf{\\hat{n}_y}$"
      ],
      "text/plain": [
       "(-omega**2*r_bola + r_bola'')*N.x - 2*omega*r_bola'*N.y"
      ]
     },
     "execution_count": 103,
     "metadata": {},
     "output_type": "execute_result"
    }
   ],
   "source": [
    "aBola_em_A = vBola_em_A.dt(A)\n",
    "aBola_em_A"
   ]
  },
  {
   "cell_type": "markdown",
   "metadata": {
    "slideshow": {
     "slide_type": "subslide"
    }
   },
   "source": [
    "### 2.3.8 Vetor velocidade angular\n",
    "Seja um vetor posição do ponto $P$ em relação ao ponto $O$ escrito na base $A$:\n",
    "$$\\vec{p}{}^{P/O} = l \\hat{\\mathbf{a}}_x$$\n",
    "A matriz de rotação $\\mathbf{[R]}$ leva o vetor da base $N$ para a base $A$:\n",
    "$$l \\hat{\\mathbf{a}}_x = l \\mathbf{[R]} \\hat{\\mathbf{n}} $$\n",
    "Logo:\n",
    "$$ \\hat{\\mathbf{a}}_x =  \\mathbf{[R]} \\hat{\\mathbf{n}} $$\n",
    "Observa-se que:\n",
    "$$ \\hat{\\mathbf{n}} =  \\mathbf{[R]}^{T} \\hat{\\mathbf{a}}_x $$\n",
    "Vamos derivar o vetor posição $\\vec{p}{}^{P/O}$ em relação ao sistema referencial $N$ para obtermos a velocidade do ponto P em $N$:\n",
    "$${}^{N} \\vec{v}{}^{P} = \\dfrac{{}^{N} d (\\vec{p}{}^{P/O})}{dt} = \\dfrac{{}^{N}d(l \\mathbf{[R]}\\hat{\\mathbf{n}})}{dt} = l \\dot{\\mathbf{[R]}} \\hat{\\mathbf{n}} $$\n",
    "Obbserva-se que a velocidade do ponto $P$ foi expressa na base $N$, mas gostaríamos de expressá-la na base $A$. Para isso podemos utilizar $ \\hat{\\mathbf{n}} =  \\mathbf{[R]}^{T} \\hat{\\mathbf{a}}_x $:\n",
    "$${}^{N} \\vec{v}{}^{P} = l\\dot{\\mathbf{[R]}} \\mathbf{[R]}^{T} \\hat{\\mathbf{a}}_x$$"
   ]
  },
  {
   "cell_type": "markdown",
   "metadata": {
    "slideshow": {
     "slide_type": "subslide"
    }
   },
   "source": [
    "Lembramos que $\\mathbf{[R]}$ é uma matriz de rotação, logo a seguinte relação é válida:\n",
    "$$\\mathbf{[R]} \\mathbf{[R]}^{T} = \\mathbf{[1]}$$\n",
    "Derivando essa relação:\n",
    "$$\\dot{\\mathbf{[R]}} \\mathbf{[R]}^{T} + \\mathbf{[R]} \\dot{mathbf{[R]}}^{T} = \\mathbf{[0]}$$\n",
    "Observa-se que:\n",
    "$$\\left( \\dot{\\mathbf{[R]}} \\mathbf{[R]}^{T} \\right)^{T} = \\mathbf{[R]} \\dot{\\mathbf{[R]}}^{T} $$\n",
    "Logo, $\\dot{\\mathbf{[R]}} \\mathbf{[R]}^{T}$ é uma matriz anti-simétrica. <br>\n",
    "Propriedade das matrizes anti-simétricas:\n",
    "$$ \\left[ \\begin{array}{c} 0 &  -c_3 & c_2 \\\\ c_3 & 0 & -c_1 \\\\ -c_2 & c_1 & 0  \\end{array} \\right] \\left[ \\begin{array}{c} v_1 \\\\ v_2 \\\\ v_3  \\end{array} \\right] = \\left[ \\begin{array}{c} c_1 \\\\ c_2 \\\\ c_3  \\end{array} \\right] \\times \\left[ \\begin{array}{c} v_1 \\\\ v_2 \\\\ v_3  \\end{array} \\right] = \\vec{c} \\times \\vec{v} $$"
   ]
  },
  {
   "cell_type": "markdown",
   "metadata": {
    "slideshow": {
     "slide_type": "subslide"
    }
   },
   "source": [
    "Portanto: \n",
    "$$\\vec{p}{}^{P/O} = l \\hat{\\mathbf{a}}_x \\qquad l = constante$$\n",
    "$${}^{N}\\vec{v}{}^{P} = l \\dot{\\mathbf{[R]}} \\mathbf{[R]}^{T} \\hat{\\mathbf{a}}_x = l {}^{N} \\vec{\\omega}{}^{A} \\times \\hat{\\mathbf{a}}_x $$"
   ]
  },
  {
   "cell_type": "markdown",
   "metadata": {
    "slideshow": {
     "slide_type": "subslide"
    }
   },
   "source": [
    "### Exemplo 8:\n",
    "Obtenha a velocidade e aceleração do ponto P em relação a um observador inercial."
   ]
  },
  {
   "cell_type": "markdown",
   "metadata": {
    "slideshow": {
     "slide_type": "subslide"
    }
   },
   "source": [
    "![Exemplo 7](DinEx1.svg)"
   ]
  },
  {
   "cell_type": "code",
   "execution_count": 104,
   "metadata": {
    "slideshow": {
     "slide_type": "subslide"
    }
   },
   "outputs": [
    {
     "data": {
      "text/html": [
       "<video src=\"DinEx1.mp4\" controls  width=\"700\" >\n",
       "      Your browser does not support the <code>video</code> element.\n",
       "    </video>"
      ],
      "text/plain": [
       "<IPython.core.display.Video object>"
      ]
     },
     "execution_count": 104,
     "metadata": {},
     "output_type": "execute_result"
    }
   ],
   "source": [
    "Video(\"DinEx1.mp4\",width=700)"
   ]
  },
  {
   "cell_type": "code",
   "execution_count": 105,
   "metadata": {
    "slideshow": {
     "slide_type": "subslide"
    }
   },
   "outputs": [],
   "source": [
    "theta,gamma = me.dynamicsymbols('theta gamma')\n",
    "R,r,l = symbols('R r l')"
   ]
  },
  {
   "cell_type": "code",
   "execution_count": 106,
   "metadata": {
    "slideshow": {
     "slide_type": "fragment"
    }
   },
   "outputs": [],
   "source": [
    "N = me.ReferenceFrame('N')\n",
    "A = me.ReferenceFrame('A')\n",
    "B = me.ReferenceFrame('B')"
   ]
  },
  {
   "cell_type": "code",
   "execution_count": 107,
   "metadata": {
    "slideshow": {
     "slide_type": "fragment"
    }
   },
   "outputs": [
    {
     "data": {
      "text/latex": [
       "$\\displaystyle \\dot{\\theta}\\mathbf{\\hat{n}_z}$"
      ],
      "text/plain": [
       "theta'*N.z"
      ]
     },
     "execution_count": 107,
     "metadata": {},
     "output_type": "execute_result"
    }
   ],
   "source": [
    "A.orient(N,'Axis',[theta,N.z])\n",
    "A.ang_vel_in(N)"
   ]
  },
  {
   "cell_type": "code",
   "execution_count": 108,
   "metadata": {
    "slideshow": {
     "slide_type": "fragment"
    }
   },
   "outputs": [
    {
     "data": {
      "text/latex": [
       "$\\displaystyle \\ddot{\\theta}\\mathbf{\\hat{n}_z}$"
      ],
      "text/plain": [
       "theta''*N.z"
      ]
     },
     "execution_count": 108,
     "metadata": {},
     "output_type": "execute_result"
    }
   ],
   "source": [
    "A.ang_acc_in(N)"
   ]
  },
  {
   "cell_type": "code",
   "execution_count": 109,
   "metadata": {
    "slideshow": {
     "slide_type": "fragment"
    }
   },
   "outputs": [
    {
     "data": {
      "text/latex": [
       "$\\displaystyle \\dot{\\gamma}\\mathbf{\\hat{a}_x} + \\dot{\\theta}\\mathbf{\\hat{n}_z}$"
      ],
      "text/plain": [
       "theta'*N.z + gamma'*A.x"
      ]
     },
     "execution_count": 109,
     "metadata": {},
     "output_type": "execute_result"
    }
   ],
   "source": [
    "B.orient(A,'Axis',[gamma,A.x])\n",
    "B.ang_vel_in(N)"
   ]
  },
  {
   "cell_type": "code",
   "execution_count": 110,
   "metadata": {
    "slideshow": {
     "slide_type": "fragment"
    }
   },
   "outputs": [
    {
     "data": {
      "text/latex": [
       "$\\displaystyle \\ddot{\\gamma}\\mathbf{\\hat{a}_x} + \\dot{\\gamma} \\dot{\\theta}\\mathbf{\\hat{a}_y} + \\ddot{\\theta}\\mathbf{\\hat{n}_z}$"
      ],
      "text/plain": [
       "theta''*N.z + gamma''*A.x + gamma'*theta'*A.y"
      ]
     },
     "execution_count": 110,
     "metadata": {},
     "output_type": "execute_result"
    }
   ],
   "source": [
    "B.ang_acc_in(N)"
   ]
  },
  {
   "cell_type": "code",
   "execution_count": 111,
   "metadata": {
    "slideshow": {
     "slide_type": "fragment"
    }
   },
   "outputs": [],
   "source": [
    "O = me.Point('O')\n",
    "O.set_vel(N,0)"
   ]
  },
  {
   "cell_type": "code",
   "execution_count": 112,
   "metadata": {
    "slideshow": {
     "slide_type": "fragment"
    }
   },
   "outputs": [],
   "source": [
    "P = me.Point('P')\n",
    "pPO = R*A.y + l*A.z + r*B.z\n",
    "P.set_pos(O,pPO)\n",
    "P.set_vel(N,pPO.dt(N))"
   ]
  },
  {
   "cell_type": "code",
   "execution_count": 113,
   "metadata": {
    "slideshow": {
     "slide_type": "fragment"
    }
   },
   "outputs": [
    {
     "data": {
      "text/latex": [
       "$\\displaystyle -  R \\dot{\\theta}\\mathbf{\\hat{a}_x} + r \\operatorname{sin}\\left(\\gamma\\right) \\dot{\\theta}\\mathbf{\\hat{b}_x} -  r \\dot{\\gamma}\\mathbf{\\hat{b}_y}$"
      ],
      "text/plain": [
       "- R*theta'*A.x + r*sin(gamma)*theta'*B.x - r*gamma'*B.y"
      ]
     },
     "execution_count": 113,
     "metadata": {},
     "output_type": "execute_result"
    }
   ],
   "source": [
    "P.vel(N)"
   ]
  },
  {
   "cell_type": "code",
   "execution_count": 114,
   "metadata": {
    "slideshow": {
     "slide_type": "fragment"
    }
   },
   "outputs": [
    {
     "data": {
      "text/latex": [
       "$\\displaystyle -  R \\ddot{\\theta}\\mathbf{\\hat{a}_x} -  R \\dot{\\theta}^{2}\\mathbf{\\hat{a}_y} + (r \\operatorname{sin}\\left(\\gamma\\right) \\ddot{\\theta} + 2 r \\operatorname{cos}\\left(\\gamma\\right) \\dot{\\gamma} \\dot{\\theta})\\mathbf{\\hat{b}_x} + (r \\operatorname{sin}\\left(\\gamma\\right) \\operatorname{cos}\\left(\\gamma\\right) \\dot{\\theta}^{2} - r \\ddot{\\gamma})\\mathbf{\\hat{b}_y} + (- r \\operatorname{sin}^{2}\\left(\\gamma\\right) \\dot{\\theta}^{2} - r \\dot{\\gamma}^{2})\\mathbf{\\hat{b}_z}$"
      ],
      "text/plain": [
       "- R*theta''*A.x - R*theta'**2*A.y + (r*sin(gamma)*theta'' + 2*r*cos(gamma)*gamma'*theta')*B.x + (r*sin(gamma)*cos(gamma)*theta'**2 - r*gamma'')*B.y + (-r*sin(gamma)**2*theta'**2 - r*gamma'**2)*B.z"
      ]
     },
     "execution_count": 114,
     "metadata": {},
     "output_type": "execute_result"
    }
   ],
   "source": [
    "P.acc(N)"
   ]
  },
  {
   "cell_type": "markdown",
   "metadata": {},
   "source": [
    "### 2.3.9 Coordenadas esféricas"
   ]
  },
  {
   "cell_type": "markdown",
   "metadata": {},
   "source": [
    "Um sistema de coordenadas conveniente para navegação na superfície da Terra é o sistema longitude-latitude. \n",
    "\n",
    "![](esfericas2.png)\n"
   ]
  },
  {
   "cell_type": "markdown",
   "metadata": {},
   "source": [
    "![](https://external-content.duckduckgo.com/iu/?u=http%3A%2F%2Fekladata.com%2FmW5blqN0bsHVazcnraC58mLH30o.jpg&f=1&nofb=1)"
   ]
  },
  {
   "cell_type": "code",
   "execution_count": 115,
   "metadata": {},
   "outputs": [],
   "source": [
    "phi,lam,R = me.dynamicsymbols('phi lambda R')"
   ]
  },
  {
   "cell_type": "code",
   "execution_count": 116,
   "metadata": {},
   "outputs": [],
   "source": [
    "N = me.ReferenceFrame('N')\n",
    "A = me.ReferenceFrame('A')\n",
    "B = me.ReferenceFrame('B')"
   ]
  },
  {
   "cell_type": "code",
   "execution_count": 117,
   "metadata": {},
   "outputs": [],
   "source": [
    "A.orient(N,'Axis',[lam,N.x])\n",
    "B.orient(A,'Axis',[phi,A.y])"
   ]
  },
  {
   "cell_type": "code",
   "execution_count": 118,
   "metadata": {},
   "outputs": [
    {
     "data": {
      "text/latex": [
       "$\\displaystyle R \\operatorname{sin}\\left(\\phi\\right)\\mathbf{\\hat{n}_x} -  R \\operatorname{sin}\\left(\\lambda\\right) \\operatorname{cos}\\left(\\phi\\right)\\mathbf{\\hat{n}_y} + R \\operatorname{cos}\\left(\\lambda\\right) \\operatorname{cos}\\left(\\phi\\right)\\mathbf{\\hat{n}_z}$"
      ],
      "text/plain": [
       "R*sin(phi)*N.x - R*sin(lambda)*cos(phi)*N.y + R*cos(lambda)*cos(phi)*N.z"
      ]
     },
     "execution_count": 118,
     "metadata": {},
     "output_type": "execute_result"
    }
   ],
   "source": [
    "p = R*B.z\n",
    "p.express(N)"
   ]
  },
  {
   "cell_type": "markdown",
   "metadata": {},
   "source": [
    "[Lista de Exercícios 2](Lista_02.ipynb)"
   ]
  },
  {
   "cell_type": "markdown",
   "metadata": {
    "slideshow": {
     "slide_type": "skip"
    }
   },
   "source": [
    "[Voltar para o capítulo anterior](Din1.ipynb)     $\\qquad$   [Avançar para o próximo capítulo](Din3.ipynb)"
   ]
  }
 ],
 "metadata": {
  "kernelspec": {
   "display_name": "Python 3",
   "language": "python",
   "name": "python3"
  },
  "language_info": {
   "codemirror_mode": {
    "name": "ipython",
    "version": 3
   },
   "file_extension": ".py",
   "mimetype": "text/x-python",
   "name": "python",
   "nbconvert_exporter": "python",
   "pygments_lexer": "ipython3",
   "version": "3.8.10"
  }
 },
 "nbformat": 4,
 "nbformat_minor": 4
}
