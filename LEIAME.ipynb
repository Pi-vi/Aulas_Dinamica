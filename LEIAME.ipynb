{
 "cells": [
  {
   "cell_type": "markdown",
   "metadata": {
    "editable": true,
    "slideshow": {
     "slide_type": ""
    },
    "tags": []
   },
   "source": [
    "# Dinâmica\n",
    "Professor Paulo Victor <br>\n",
    "E-mail: paulo.gomes@cefet-rj.br <br>\n",
    "CEFET-RJ Campus Angra dos Reis Sala 17C\n"
   ]
  },
  {
   "cell_type": "markdown",
   "metadata": {
    "editable": true,
    "slideshow": {
     "slide_type": "slide"
    },
    "tags": []
   },
   "source": [
    "### Ementa:\n",
    "1. [Introdução à Dinâmica de Sistemas Mecânicos](Din1.ipynb)\n",
    "2. [Cinemática da Partícula](Din2.ipynb)\n",
    "3. [Cinemática do Corpo Rígido](Din3.ipynb)\n",
    "4. [Dinâmica da Partícula](Din4.ipynb)\n",
    "5. [Dinâmica do Sistema de Partículas](Din5.ipynb)\n",
    "6. [Propriedades de Inércia de Corpos Rígidos](Din6.ipynb)\n",
    "7. [Dinâmica do Corpo Rígido](Din7.ipynb)\n",
    "8. [Trabalho, Energia, Potência e Fundamentos de Mecânica Analítica](Din8.ipynb)"
   ]
  },
  {
   "cell_type": "markdown",
   "metadata": {
    "slideshow": {
     "slide_type": "slide"
    }
   },
   "source": [
    "### Objetivos gerais:\n",
    "* Capacitar o aluno a determinar de forma simples e lógica, através de métodos adequados, o comportamento dos componentes e dos sistemas mecânicos que envolvam força e movimento."
   ]
  },
  {
   "cell_type": "markdown",
   "metadata": {
    "slideshow": {
     "slide_type": "slide"
    }
   },
   "source": [
    "### Bibliografia Básica:\n",
    "* SANTOS, ILMAR F. Dinâmica de Sistemas Mecânicos: Modelagem, Simulação, Visualização, Verificação.  1ª Ed. São Paulo: Ed. Makron Books, 2001.\n",
    "* TENENBAUM, ROBERTO A. Dinâmica Aplicada. 3ª Ed. Ed. Manole, 2006.\n",
    "* RADE, Domingos. Cinemática e Dinâmica para Engenharia. Elsevier Brasil, 2018."
   ]
  },
  {
   "cell_type": "markdown",
   "metadata": {
    "slideshow": {
     "slide_type": "subslide"
    }
   },
   "source": [
    "### Bibliografia Complementar:\n",
    "* KANE, Thomas R.; LEVINSON, David A. Dynamics, theory and applications. McGraw Hill, 1985.\n",
    "* NORTON, ROBERT L. Cinemática e Dinâmica dos Mecanismos. AMGH Editora, 2010."
   ]
  },
  {
   "cell_type": "markdown",
   "metadata": {
    "slideshow": {
     "slide_type": "slide"
    }
   },
   "source": [
    "### Avaliação:\n",
    "1. Seminário (30%) e Prova 1 (70%)\n",
    "2. Trabalho (30%) e Prova 2 (70%)\n",
    "3. Prova Final (em caso de 3.0 $\\leq$ Média $<$ 7.0)\n"
   ]
  },
  {
   "cell_type": "markdown",
   "metadata": {
    "slideshow": {
     "slide_type": "slide"
    }
   },
   "source": [
    "### Datas Importantes:\n",
    "\n",
    " * P1: 26/11/2024\n",
    " * P2: 10/02/2025\n",
    " * P3: 11/02/2025\n",
    " * PF: 17/02/2025\n"
   ]
  },
  {
   "cell_type": "markdown",
   "metadata": {},
   "source": [
    "[Avançar para o próximo capítulo](Din1.ipynb)"
   ]
  }
 ],
 "metadata": {
  "kernelspec": {
   "display_name": "Python 3 (ipykernel)",
   "language": "python",
   "name": "python3"
  },
  "language_info": {
   "codemirror_mode": {
    "name": "ipython",
    "version": 3
   },
   "file_extension": ".py",
   "mimetype": "text/x-python",
   "name": "python",
   "nbconvert_exporter": "python",
   "pygments_lexer": "ipython3",
   "version": "3.11.5"
  }
 },
 "nbformat": 4,
 "nbformat_minor": 4
}
