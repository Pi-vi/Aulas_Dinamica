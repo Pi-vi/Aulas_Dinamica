{
 "cells": [
  {
   "cell_type": "markdown",
   "metadata": {
    "slideshow": {
     "slide_type": "slide"
    }
   },
   "source": [
    "# Mecanismos\n",
    "Professor Paulo Victor <br>\n",
    "e-mail: paulo.gomes@cefet-rj.br <br>\n",
    "CEFET/RJ Campus Angra dos Reis - Sala 6E"
   ]
  },
  {
   "cell_type": "markdown",
   "metadata": {
    "slideshow": {
     "slide_type": "slide"
    }
   },
   "source": [
    "## Ementa: \n",
    "1. [Introdução ao estudo dos mecanismos](Mecs1.ipynb)\n",
    "2. [Fundamentos da cinemática e Mecanismos Articulados](Mecs2.ipynb)\n",
    "3. [Síntese gráfica de mecanismos](Mecs3.ipynb)\n",
    "4. [Análise de posição](Mecs4.ipynb)\n",
    "5. [Síntese analítica de mecanismos](Mecs5.ipynb)\n",
    "6. [Análise de velocidade](Mecs6.ipynb)\n",
    "7. [Análise de aceleração](Mecs7.ipynb)\n",
    "8. [Cames](Mecs8.ipynb)\n",
    "9. [Transmissão por engrenagens](Mecs9.ipynb)"
   ]
  },
  {
   "cell_type": "markdown",
   "metadata": {
    "slideshow": {
     "slide_type": "slide"
    }
   },
   "source": [
    "## Objetivos\n",
    "* Iniciação e capacitação dos alunos em conhecimentos nas principais áreas relacionadas a Mecanismos e Dinâmica das Máquinas."
   ]
  },
  {
   "cell_type": "markdown",
   "metadata": {
    "slideshow": {
     "slide_type": "slide"
    }
   },
   "source": [
    "## Bibliografia Recomendada:\n",
    "* NORTON, R. Cinemática e dinâmica dos mecanismos. Porto Alegre: Ed. AMGH, 2010.\n",
    "* MABIE, H. Mecanismos e Dinâmica das Máquinas. Rio de Janeiro: Livro Técnico S.A."
   ]
  },
  {
   "cell_type": "markdown",
   "metadata": {
    "slideshow": {
     "slide_type": "slide"
    }
   },
   "source": [
    "## Links Recomendados: \n",
    "* [Python/Anaconda](https://www.anaconda.com/)\n",
    "* [How Stuff Works](https://www.howstuffworks.com/)\n",
    "* [Canal Youtube](https://www.youtube.com/user/thang010146)\n",
    "* [Canal Youtube](https://www.youtube.com/user/mekanizmalar)"
   ]
  },
  {
   "cell_type": "markdown",
   "metadata": {
    "slideshow": {
     "slide_type": "slide"
    }
   },
   "source": [
    "## Forma de Avaliação:\n",
    "* P1 -> Trabalho\n",
    "* P2 -> Trabalho\n",
    "* P3 -> Prova"
   ]
  },
  {
   "cell_type": "markdown",
   "metadata": {
    "slideshow": {
     "slide_type": "slide"
    }
   },
   "source": [
    "## Datas Importantes\n",
    "* Período de Trancamento:\n",
    "> 21/07 até 01/11\n",
    "* Avaliações:\n",
    ">P1: 10/09  \n",
    ">P2: 15/10  \n",
    ">P3: 05/11 "
   ]
  }
 ],
 "metadata": {
  "kernelspec": {
   "display_name": "Python 3",
   "language": "python",
   "name": "python3"
  },
  "language_info": {
   "codemirror_mode": {
    "name": "ipython",
    "version": 3
   },
   "file_extension": ".py",
   "mimetype": "text/x-python",
   "name": "python",
   "nbconvert_exporter": "python",
   "pygments_lexer": "ipython3",
   "version": "3.8.10"
  }
 },
 "nbformat": 4,
 "nbformat_minor": 4
}
